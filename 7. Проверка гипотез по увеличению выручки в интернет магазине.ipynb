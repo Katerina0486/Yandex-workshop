{
  "cells": [
    {
      "cell_type": "markdown",
      "metadata": {
        "id": "V284wTQoq2yE"
      },
      "source": [
        "# Проверка гипотез по увеличению выручки в интернет-магазине —оценить результаты A/B теста."
      ]
    },
    {
      "cell_type": "markdown",
      "metadata": {
        "id": "AWcHctoTq2yF"
      },
      "source": [
        "# Описание проекта\n",
        "В нашем распоряжении данные о 9 гипотезах для увеличения выручки, подготовленных отделом маркетинга. Нам предстоит приоритизировать гипотезы, запустить A/B тест одной из гипотез и проанализировать результаты."
      ]
    },
    {
      "cell_type": "markdown",
      "metadata": {
        "id": "UdX4Pbv0q2yF"
      },
      "source": [
        "# Цель проекта\n",
        "\n",
        "- Необходимость приоритизировать гипотезы из списка гипотез, предоставленных отделом Маркетинга;\n",
        "\n",
        "- Анализа результатов проведенного А/В-тестирования и аргументация решения по результатам теста."
      ]
    },
    {
      "cell_type": "markdown",
      "metadata": {
        "id": "CFpffl7nq2yG"
      },
      "source": [
        "# Часть 1. Приоритизация гипотез.\n",
        "Какие гипотезы наиболее важны для проверки, какие из них мы будем проверять в первую очередь?\n",
        "\n",
        "В файле /datasets/hypothesis.csv 9 гипотез по увеличению выручки интернет-магазина с указанными параметрами Reach, Impact, Confidence, Effort.\n",
        "Задача\n",
        "\n",
        "- Применить фреймворк ICE для приоритизации гипотез. Отсортировать их по убыванию приоритета.\n",
        "- Применить фреймворк RICE для приоритизации гипотез. Отсортировать их по убыванию приоритета.\n",
        "- Указать, как изменилась приоритизация гипотез при применении RICE вместо ICE. Объяснить, почему так произошло."
      ]
    },
    {
      "cell_type": "markdown",
      "metadata": {
        "id": "UMvxj1Q5q2yG"
      },
      "source": [
        "# Часть 2. Анализ A/B-теста\n",
        "Есть ли отличия между группами A и B? Есть ли смысл продолжать тестирование?\n",
        "\n",
        "Примите решение по результатам теста и объясните его. Варианты решений: 1. Остановить тест, зафиксировать победу одной из групп. 2. Остановить тест, зафиксировать отсутствие различий между группами. 3. Продолжить тест.\n",
        "\n",
        "Мы провели A/B-тест и получили результаты, которые описаны в файлах /datasets/orders.csv и /datasets/visitors.csv.\n",
        "Задача\n",
        "Проанализировать A/B-тест:\n",
        "\n",
        "- Построить график кумулятивной выручки по группам.\n",
        "- Построить график кумулятивного среднего чека по группам.\n",
        "- Построить график относительного изменения кумулятивного среднего чека группы B к группе A.\n",
        "- Построить график кумулятивной конверсии по группам.\n",
        "- Построить график относительного изменения кумулятивной конверсии группы B к группе A.\n",
        "- Построить точечный график количества заказов по пользователям.\n",
        "- Посчитать 95-й и 99-й процентили количества заказов на пользователя. Выбрать границу для определения аномальных пользователей.\n",
        "- Построить точечный график стоимостей заказов.\n",
        "- Посчитать 95-й и 99-й процентили стоимости заказов. Выбрать границу для определения аномальных заказов.\n",
        "- Посчитать статистическую значимость различий в конверсии между группами по «сырым» данным.\n",
        "- Посчитать статистическую значимость различий в среднем чеке заказа между группами по «сырым» данным.\n",
        "- Посчитать статистическую значимость различий в конверсии между группами по «очищенным» данным.\n",
        "- Посчитать статистическую значимость различий в среднем чеке заказа между группами по «очищенным» данным.\n",
        "- Принять решение по результатам теста и объяснить его."
      ]
    },
    {
      "cell_type": "markdown",
      "metadata": {
        "id": "GZhf13SMq2yG"
      },
      "source": [
        "# Описание данных\n",
        "Данные для первой части\n",
        "Файл /datasets/hypothesis.csv.\n",
        "\n",
        "- Hypothesis — краткое описание гипотезы;\n",
        "- Reach — охват пользователей по 10-балльной шкале;\n",
        "- Impact — влияние на пользователей по 10-балльной шкале;\n",
        "- Confidence — уверенность в гипотезе по 10-балльной шкале;\n",
        "- Efforts — затраты ресурсов на проверку гипотезы по 10-балльной шкале. Чем больше значение Efforts, тем дороже проверка гипотезы.\n",
        "\n",
        "Данные для второй части\n",
        "Файл /datasets/orders.csv\n",
        "- transactionId — идентификатор заказа;\n",
        "- visitorId — идентификатор пользователя, совершившего заказ;\n",
        "- date — дата, когда был совершён заказ;\n",
        "- revenue — выручка заказа;\n",
        "- group — группа A/B-теста, в которую попал заказ.\n",
        "\n",
        "Файл /datasets/visitors.csv\n",
        "\n",
        "- date — дата;\n",
        "- group — группа A/B-теста;\n",
        "- visitors — количество пользователей в указанную дату в указанной группе A/B-теста"
      ]
    },
    {
      "cell_type": "markdown",
      "metadata": {
        "id": "llQB4mnJq2yG"
      },
      "source": [
        "# Изучение данных из файлов"
      ]
    },
    {
      "cell_type": "code",
      "execution_count": null,
      "metadata": {
        "id": "bK1r62MWq2yG"
      },
      "outputs": [],
      "source": [
        "import pandas as pd\n",
        "import numpy as np\n",
        "import matplotlib.pyplot as plt\n",
        "import plotly.express as px\n",
        "import seaborn as sns\n",
        "import math\n",
        "from IPython.display import display\n",
        "from scipy import stats as st"
      ]
    },
    {
      "cell_type": "code",
      "execution_count": null,
      "metadata": {
        "id": "9T02Q9Otq2yH",
        "outputId": "58c6b6be-a259-4835-e887-d92b8b72d8fb"
      },
      "outputs": [
        {
          "name": "stdout",
          "output_type": "stream",
          "text": [
            "<class 'pandas.core.frame.DataFrame'>\n",
            "RangeIndex: 9 entries, 0 to 8\n",
            "Data columns (total 5 columns):\n",
            " #   Column      Non-Null Count  Dtype \n",
            "---  ------      --------------  ----- \n",
            " 0   Hypothesis  9 non-null      object\n",
            " 1   Reach       9 non-null      int64 \n",
            " 2   Impact      9 non-null      int64 \n",
            " 3   Confidence  9 non-null      int64 \n",
            " 4   Efforts     9 non-null      int64 \n",
            "dtypes: int64(4), object(1)\n",
            "memory usage: 488.0+ bytes\n"
          ]
        },
        {
          "data": {
            "text/html": [
              "<div>\n",
              "<style scoped>\n",
              "    .dataframe tbody tr th:only-of-type {\n",
              "        vertical-align: middle;\n",
              "    }\n",
              "\n",
              "    .dataframe tbody tr th {\n",
              "        vertical-align: top;\n",
              "    }\n",
              "\n",
              "    .dataframe thead th {\n",
              "        text-align: right;\n",
              "    }\n",
              "</style>\n",
              "<table border=\"1\" class=\"dataframe\">\n",
              "  <thead>\n",
              "    <tr style=\"text-align: right;\">\n",
              "      <th></th>\n",
              "      <th>Hypothesis</th>\n",
              "      <th>Reach</th>\n",
              "      <th>Impact</th>\n",
              "      <th>Confidence</th>\n",
              "      <th>Efforts</th>\n",
              "    </tr>\n",
              "  </thead>\n",
              "  <tbody>\n",
              "    <tr>\n",
              "      <th>0</th>\n",
              "      <td>Добавить два новых канала привлечения трафика,...</td>\n",
              "      <td>3</td>\n",
              "      <td>10</td>\n",
              "      <td>8</td>\n",
              "      <td>6</td>\n",
              "    </tr>\n",
              "    <tr>\n",
              "      <th>1</th>\n",
              "      <td>Запустить собственную службу доставки, что сок...</td>\n",
              "      <td>2</td>\n",
              "      <td>5</td>\n",
              "      <td>4</td>\n",
              "      <td>10</td>\n",
              "    </tr>\n",
              "    <tr>\n",
              "      <th>2</th>\n",
              "      <td>Добавить блоки рекомендаций товаров на сайт ин...</td>\n",
              "      <td>8</td>\n",
              "      <td>3</td>\n",
              "      <td>7</td>\n",
              "      <td>3</td>\n",
              "    </tr>\n",
              "    <tr>\n",
              "      <th>3</th>\n",
              "      <td>Изменить структура категорий, что увеличит кон...</td>\n",
              "      <td>8</td>\n",
              "      <td>3</td>\n",
              "      <td>3</td>\n",
              "      <td>8</td>\n",
              "    </tr>\n",
              "    <tr>\n",
              "      <th>4</th>\n",
              "      <td>Изменить цвет фона главной страницы, чтобы уве...</td>\n",
              "      <td>3</td>\n",
              "      <td>1</td>\n",
              "      <td>1</td>\n",
              "      <td>1</td>\n",
              "    </tr>\n",
              "    <tr>\n",
              "      <th>5</th>\n",
              "      <td>Добавить страницу отзывов клиентов о магазине,...</td>\n",
              "      <td>3</td>\n",
              "      <td>2</td>\n",
              "      <td>2</td>\n",
              "      <td>3</td>\n",
              "    </tr>\n",
              "    <tr>\n",
              "      <th>6</th>\n",
              "      <td>Показать на главной странице баннеры с актуаль...</td>\n",
              "      <td>5</td>\n",
              "      <td>3</td>\n",
              "      <td>8</td>\n",
              "      <td>3</td>\n",
              "    </tr>\n",
              "    <tr>\n",
              "      <th>7</th>\n",
              "      <td>Добавить форму подписки на все основные страни...</td>\n",
              "      <td>10</td>\n",
              "      <td>7</td>\n",
              "      <td>8</td>\n",
              "      <td>5</td>\n",
              "    </tr>\n",
              "    <tr>\n",
              "      <th>8</th>\n",
              "      <td>Запустить акцию, дающую скидку на товар в день...</td>\n",
              "      <td>1</td>\n",
              "      <td>9</td>\n",
              "      <td>9</td>\n",
              "      <td>5</td>\n",
              "    </tr>\n",
              "  </tbody>\n",
              "</table>\n",
              "</div>"
            ],
            "text/plain": [
              "                                          Hypothesis  Reach  Impact  \\\n",
              "0  Добавить два новых канала привлечения трафика,...      3      10   \n",
              "1  Запустить собственную службу доставки, что сок...      2       5   \n",
              "2  Добавить блоки рекомендаций товаров на сайт ин...      8       3   \n",
              "3  Изменить структура категорий, что увеличит кон...      8       3   \n",
              "4  Изменить цвет фона главной страницы, чтобы уве...      3       1   \n",
              "5  Добавить страницу отзывов клиентов о магазине,...      3       2   \n",
              "6  Показать на главной странице баннеры с актуаль...      5       3   \n",
              "7  Добавить форму подписки на все основные страни...     10       7   \n",
              "8  Запустить акцию, дающую скидку на товар в день...      1       9   \n",
              "\n",
              "   Confidence  Efforts  \n",
              "0           8        6  \n",
              "1           4       10  \n",
              "2           7        3  \n",
              "3           3        8  \n",
              "4           1        1  \n",
              "5           2        3  \n",
              "6           8        3  \n",
              "7           8        5  \n",
              "8           9        5  "
            ]
          },
          "execution_count": 2,
          "metadata": {},
          "output_type": "execute_result"
        }
      ],
      "source": [
        "hypothesis = pd.read_csv('/datasets/hypothesis.csv')\n",
        "hypothesis.info()\n",
        "hypothesis"
      ]
    },
    {
      "cell_type": "code",
      "execution_count": null,
      "metadata": {
        "id": "oK0Apdobq2yI",
        "outputId": "83a5b398-aed5-4059-e06e-2cbbb0382aff"
      },
      "outputs": [
        {
          "name": "stdout",
          "output_type": "stream",
          "text": [
            "<class 'pandas.core.frame.DataFrame'>\n",
            "RangeIndex: 1197 entries, 0 to 1196\n",
            "Data columns (total 5 columns):\n",
            " #   Column         Non-Null Count  Dtype \n",
            "---  ------         --------------  ----- \n",
            " 0   transactionId  1197 non-null   int64 \n",
            " 1   visitorId      1197 non-null   int64 \n",
            " 2   date           1197 non-null   object\n",
            " 3   revenue        1197 non-null   int64 \n",
            " 4   group          1197 non-null   object\n",
            "dtypes: int64(3), object(2)\n",
            "memory usage: 46.9+ KB\n"
          ]
        },
        {
          "data": {
            "text/html": [
              "<div>\n",
              "<style scoped>\n",
              "    .dataframe tbody tr th:only-of-type {\n",
              "        vertical-align: middle;\n",
              "    }\n",
              "\n",
              "    .dataframe tbody tr th {\n",
              "        vertical-align: top;\n",
              "    }\n",
              "\n",
              "    .dataframe thead th {\n",
              "        text-align: right;\n",
              "    }\n",
              "</style>\n",
              "<table border=\"1\" class=\"dataframe\">\n",
              "  <thead>\n",
              "    <tr style=\"text-align: right;\">\n",
              "      <th></th>\n",
              "      <th>transactionId</th>\n",
              "      <th>visitorId</th>\n",
              "      <th>date</th>\n",
              "      <th>revenue</th>\n",
              "      <th>group</th>\n",
              "    </tr>\n",
              "  </thead>\n",
              "  <tbody>\n",
              "    <tr>\n",
              "      <th>0</th>\n",
              "      <td>3667963787</td>\n",
              "      <td>3312258926</td>\n",
              "      <td>2019-08-15</td>\n",
              "      <td>1650</td>\n",
              "      <td>B</td>\n",
              "    </tr>\n",
              "    <tr>\n",
              "      <th>1</th>\n",
              "      <td>2804400009</td>\n",
              "      <td>3642806036</td>\n",
              "      <td>2019-08-15</td>\n",
              "      <td>730</td>\n",
              "      <td>B</td>\n",
              "    </tr>\n",
              "    <tr>\n",
              "      <th>2</th>\n",
              "      <td>2961555356</td>\n",
              "      <td>4069496402</td>\n",
              "      <td>2019-08-15</td>\n",
              "      <td>400</td>\n",
              "      <td>A</td>\n",
              "    </tr>\n",
              "    <tr>\n",
              "      <th>3</th>\n",
              "      <td>3797467345</td>\n",
              "      <td>1196621759</td>\n",
              "      <td>2019-08-15</td>\n",
              "      <td>9759</td>\n",
              "      <td>B</td>\n",
              "    </tr>\n",
              "    <tr>\n",
              "      <th>4</th>\n",
              "      <td>2282983706</td>\n",
              "      <td>2322279887</td>\n",
              "      <td>2019-08-15</td>\n",
              "      <td>2308</td>\n",
              "      <td>B</td>\n",
              "    </tr>\n",
              "  </tbody>\n",
              "</table>\n",
              "</div>"
            ],
            "text/plain": [
              "   transactionId   visitorId        date  revenue group\n",
              "0     3667963787  3312258926  2019-08-15     1650     B\n",
              "1     2804400009  3642806036  2019-08-15      730     B\n",
              "2     2961555356  4069496402  2019-08-15      400     A\n",
              "3     3797467345  1196621759  2019-08-15     9759     B\n",
              "4     2282983706  2322279887  2019-08-15     2308     B"
            ]
          },
          "execution_count": 3,
          "metadata": {},
          "output_type": "execute_result"
        }
      ],
      "source": [
        "orders = pd.read_csv('/datasets/orders.csv')\n",
        "orders.info()\n",
        "orders.head()"
      ]
    },
    {
      "cell_type": "code",
      "execution_count": null,
      "metadata": {
        "id": "295jKm6Iq2yI",
        "outputId": "0db9119c-f712-4262-e15b-55864f44066f"
      },
      "outputs": [
        {
          "name": "stdout",
          "output_type": "stream",
          "text": [
            "<class 'pandas.core.frame.DataFrame'>\n",
            "RangeIndex: 62 entries, 0 to 61\n",
            "Data columns (total 3 columns):\n",
            " #   Column    Non-Null Count  Dtype \n",
            "---  ------    --------------  ----- \n",
            " 0   date      62 non-null     object\n",
            " 1   group     62 non-null     object\n",
            " 2   visitors  62 non-null     int64 \n",
            "dtypes: int64(1), object(2)\n",
            "memory usage: 1.6+ KB\n"
          ]
        },
        {
          "data": {
            "text/html": [
              "<div>\n",
              "<style scoped>\n",
              "    .dataframe tbody tr th:only-of-type {\n",
              "        vertical-align: middle;\n",
              "    }\n",
              "\n",
              "    .dataframe tbody tr th {\n",
              "        vertical-align: top;\n",
              "    }\n",
              "\n",
              "    .dataframe thead th {\n",
              "        text-align: right;\n",
              "    }\n",
              "</style>\n",
              "<table border=\"1\" class=\"dataframe\">\n",
              "  <thead>\n",
              "    <tr style=\"text-align: right;\">\n",
              "      <th></th>\n",
              "      <th>date</th>\n",
              "      <th>group</th>\n",
              "      <th>visitors</th>\n",
              "    </tr>\n",
              "  </thead>\n",
              "  <tbody>\n",
              "    <tr>\n",
              "      <th>0</th>\n",
              "      <td>2019-08-01</td>\n",
              "      <td>A</td>\n",
              "      <td>719</td>\n",
              "    </tr>\n",
              "    <tr>\n",
              "      <th>1</th>\n",
              "      <td>2019-08-02</td>\n",
              "      <td>A</td>\n",
              "      <td>619</td>\n",
              "    </tr>\n",
              "    <tr>\n",
              "      <th>2</th>\n",
              "      <td>2019-08-03</td>\n",
              "      <td>A</td>\n",
              "      <td>507</td>\n",
              "    </tr>\n",
              "    <tr>\n",
              "      <th>3</th>\n",
              "      <td>2019-08-04</td>\n",
              "      <td>A</td>\n",
              "      <td>717</td>\n",
              "    </tr>\n",
              "    <tr>\n",
              "      <th>4</th>\n",
              "      <td>2019-08-05</td>\n",
              "      <td>A</td>\n",
              "      <td>756</td>\n",
              "    </tr>\n",
              "  </tbody>\n",
              "</table>\n",
              "</div>"
            ],
            "text/plain": [
              "         date group  visitors\n",
              "0  2019-08-01     A       719\n",
              "1  2019-08-02     A       619\n",
              "2  2019-08-03     A       507\n",
              "3  2019-08-04     A       717\n",
              "4  2019-08-05     A       756"
            ]
          },
          "execution_count": 4,
          "metadata": {},
          "output_type": "execute_result"
        }
      ],
      "source": [
        "visitors = pd.read_csv('/datasets/visitors.csv')\n",
        "visitors.info()\n",
        "visitors.head()"
      ]
    },
    {
      "cell_type": "markdown",
      "metadata": {
        "id": "ZqSH_ggAq2yI"
      },
      "source": [
        "Мы ознакомились с таблицами. На первый взгляд, пропусков нет, но нужны правки: тип данных в столбцах не всегда корректный (например, столбцы с датами имеют тип object). Так же нужно проверить данные на наличие дубликатов и привести наименования столбцов к единому стилю."
      ]
    },
    {
      "cell_type": "markdown",
      "metadata": {
        "id": "ZIXfgtL3q2yI"
      },
      "source": [
        "# Предобработка данных"
      ]
    },
    {
      "cell_type": "code",
      "execution_count": null,
      "metadata": {
        "id": "NBxNM_MVq2yI",
        "outputId": "837195bf-1159-4088-b52c-9bf85658d4d6"
      },
      "outputs": [
        {
          "data": {
            "text/plain": [
              "Index(['hypothesis', 'reach', 'impact', 'confidence', 'efforts'], dtype='object')"
            ]
          },
          "execution_count": 5,
          "metadata": {},
          "output_type": "execute_result"
        }
      ],
      "source": [
        "# приведем наименования столбцов к хорошему стилю\n",
        "hypothesis.columns = hypothesis.columns.str.lower()\n",
        "hypothesis.columns"
      ]
    },
    {
      "cell_type": "code",
      "execution_count": null,
      "metadata": {
        "id": "giCLDDZ5q2yI",
        "outputId": "6c603c04-a378-437c-b6c5-0e7b50cbacfe"
      },
      "outputs": [
        {
          "name": "stdout",
          "output_type": "stream",
          "text": [
            "Количество дубликатов в датасете hypothesis \n",
            "hypothesis    0\n",
            "reach         0\n",
            "impact        0\n",
            "confidence    0\n",
            "efforts       0\n",
            "dtype: int64\n"
          ]
        }
      ],
      "source": [
        "print(f'Количество дубликатов в датасете hypothesis \\n{hypothesis.isna().sum()}')"
      ]
    },
    {
      "cell_type": "code",
      "execution_count": null,
      "metadata": {
        "id": "ooH1KuBiq2yI",
        "outputId": "0b055794-07af-4ea8-952e-188b739ab673"
      },
      "outputs": [
        {
          "name": "stdout",
          "output_type": "stream",
          "text": [
            "Количество дубликатов в датасете orders \n",
            "transactionId    0\n",
            "visitorId        0\n",
            "date             0\n",
            "revenue          0\n",
            "group            0\n",
            "dtype: int64\n"
          ]
        }
      ],
      "source": [
        "print(f'Количество дубликатов в датасете orders \\n{orders.isna().sum()}')"
      ]
    },
    {
      "cell_type": "code",
      "execution_count": null,
      "metadata": {
        "id": "5OdHl37Rq2yI",
        "outputId": "b9662a4b-5a94-49ad-fc1c-d5798eaf8520"
      },
      "outputs": [
        {
          "name": "stdout",
          "output_type": "stream",
          "text": [
            "Количество дубликатов в датасете visitors \n",
            "date        0\n",
            "group       0\n",
            "visitors    0\n",
            "dtype: int64\n"
          ]
        }
      ],
      "source": [
        "print(f'Количество дубликатов в датасете visitors \\n{visitors.isna().sum()}')"
      ]
    },
    {
      "cell_type": "code",
      "execution_count": null,
      "metadata": {
        "id": "8Jwkdsvjq2yI"
      },
      "outputs": [],
      "source": [
        "# преобразование данных о времени\n",
        "orders['date'] = pd.to_datetime(orders['date']).dt.date\n",
        "visitors['date'] = pd.to_datetime(visitors['date']).dt.date"
      ]
    },
    {
      "cell_type": "markdown",
      "metadata": {
        "id": "_OoaSsNTq2yJ"
      },
      "source": [
        "Сделали предобработку данных, идем дальше"
      ]
    },
    {
      "cell_type": "markdown",
      "metadata": {
        "id": "nTU5WgsBq2yJ"
      },
      "source": [
        "## Часть 1. Приоритизация гипотез"
      ]
    },
    {
      "cell_type": "markdown",
      "metadata": {
        "id": "-D5_e01Aq2yJ"
      },
      "source": [
        "### Применим фреймворк ICE для приоритизации гипотез. Отсортируем их по убыванию приоритета и построим гистограмму."
      ]
    },
    {
      "cell_type": "code",
      "execution_count": null,
      "metadata": {
        "id": "cOx0ZVGAq2yJ",
        "outputId": "c61457ec-652b-4cc9-90b4-7a37128b7e67"
      },
      "outputs": [
        {
          "data": {
            "text/html": [
              "<div>\n",
              "<style scoped>\n",
              "    .dataframe tbody tr th:only-of-type {\n",
              "        vertical-align: middle;\n",
              "    }\n",
              "\n",
              "    .dataframe tbody tr th {\n",
              "        vertical-align: top;\n",
              "    }\n",
              "\n",
              "    .dataframe thead th {\n",
              "        text-align: right;\n",
              "    }\n",
              "</style>\n",
              "<table border=\"1\" class=\"dataframe\">\n",
              "  <thead>\n",
              "    <tr style=\"text-align: right;\">\n",
              "      <th></th>\n",
              "      <th>hypothesis</th>\n",
              "      <th>reach</th>\n",
              "      <th>impact</th>\n",
              "      <th>confidence</th>\n",
              "      <th>efforts</th>\n",
              "      <th>ICE</th>\n",
              "    </tr>\n",
              "  </thead>\n",
              "  <tbody>\n",
              "    <tr>\n",
              "      <th>8</th>\n",
              "      <td>Запустить акцию, дающую скидку на товар в день рождения</td>\n",
              "      <td>1</td>\n",
              "      <td>9</td>\n",
              "      <td>9</td>\n",
              "      <td>5</td>\n",
              "      <td>16.20</td>\n",
              "    </tr>\n",
              "    <tr>\n",
              "      <th>0</th>\n",
              "      <td>Добавить два новых канала привлечения трафика, что позволит привлекать на 30% больше пользователей</td>\n",
              "      <td>3</td>\n",
              "      <td>10</td>\n",
              "      <td>8</td>\n",
              "      <td>6</td>\n",
              "      <td>13.33</td>\n",
              "    </tr>\n",
              "    <tr>\n",
              "      <th>7</th>\n",
              "      <td>Добавить форму подписки на все основные страницы, чтобы собрать базу клиентов для email-рассылок</td>\n",
              "      <td>10</td>\n",
              "      <td>7</td>\n",
              "      <td>8</td>\n",
              "      <td>5</td>\n",
              "      <td>11.20</td>\n",
              "    </tr>\n",
              "    <tr>\n",
              "      <th>6</th>\n",
              "      <td>Показать на главной странице баннеры с актуальными акциями и распродажами, чтобы увеличить конверсию</td>\n",
              "      <td>5</td>\n",
              "      <td>3</td>\n",
              "      <td>8</td>\n",
              "      <td>3</td>\n",
              "      <td>8.00</td>\n",
              "    </tr>\n",
              "    <tr>\n",
              "      <th>2</th>\n",
              "      <td>Добавить блоки рекомендаций товаров на сайт интернет магазина, чтобы повысить конверсию и средний чек заказа</td>\n",
              "      <td>8</td>\n",
              "      <td>3</td>\n",
              "      <td>7</td>\n",
              "      <td>3</td>\n",
              "      <td>7.00</td>\n",
              "    </tr>\n",
              "    <tr>\n",
              "      <th>1</th>\n",
              "      <td>Запустить собственную службу доставки, что сократит срок доставки заказов</td>\n",
              "      <td>2</td>\n",
              "      <td>5</td>\n",
              "      <td>4</td>\n",
              "      <td>10</td>\n",
              "      <td>2.00</td>\n",
              "    </tr>\n",
              "    <tr>\n",
              "      <th>5</th>\n",
              "      <td>Добавить страницу отзывов клиентов о магазине, что позволит увеличить количество заказов</td>\n",
              "      <td>3</td>\n",
              "      <td>2</td>\n",
              "      <td>2</td>\n",
              "      <td>3</td>\n",
              "      <td>1.33</td>\n",
              "    </tr>\n",
              "    <tr>\n",
              "      <th>3</th>\n",
              "      <td>Изменить структура категорий, что увеличит конверсию, т.к. пользователи быстрее найдут нужный товар</td>\n",
              "      <td>8</td>\n",
              "      <td>3</td>\n",
              "      <td>3</td>\n",
              "      <td>8</td>\n",
              "      <td>1.12</td>\n",
              "    </tr>\n",
              "    <tr>\n",
              "      <th>4</th>\n",
              "      <td>Изменить цвет фона главной страницы, чтобы увеличить вовлеченность пользователей</td>\n",
              "      <td>3</td>\n",
              "      <td>1</td>\n",
              "      <td>1</td>\n",
              "      <td>1</td>\n",
              "      <td>1.00</td>\n",
              "    </tr>\n",
              "  </tbody>\n",
              "</table>\n",
              "</div>"
            ],
            "text/plain": [
              "                                                                                                     hypothesis  \\\n",
              "8                                                       Запустить акцию, дающую скидку на товар в день рождения   \n",
              "0            Добавить два новых канала привлечения трафика, что позволит привлекать на 30% больше пользователей   \n",
              "7              Добавить форму подписки на все основные страницы, чтобы собрать базу клиентов для email-рассылок   \n",
              "6          Показать на главной странице баннеры с актуальными акциями и распродажами, чтобы увеличить конверсию   \n",
              "2  Добавить блоки рекомендаций товаров на сайт интернет магазина, чтобы повысить конверсию и средний чек заказа   \n",
              "1                                     Запустить собственную службу доставки, что сократит срок доставки заказов   \n",
              "5                      Добавить страницу отзывов клиентов о магазине, что позволит увеличить количество заказов   \n",
              "3           Изменить структура категорий, что увеличит конверсию, т.к. пользователи быстрее найдут нужный товар   \n",
              "4                              Изменить цвет фона главной страницы, чтобы увеличить вовлеченность пользователей   \n",
              "\n",
              "   reach  impact  confidence  efforts    ICE  \n",
              "8      1       9           9        5  16.20  \n",
              "0      3      10           8        6  13.33  \n",
              "7     10       7           8        5  11.20  \n",
              "6      5       3           8        3   8.00  \n",
              "2      8       3           7        3   7.00  \n",
              "1      2       5           4       10   2.00  \n",
              "5      3       2           2        3   1.33  \n",
              "3      8       3           3        8   1.12  \n",
              "4      3       1           1        1   1.00  "
            ]
          },
          "execution_count": 10,
          "metadata": {},
          "output_type": "execute_result"
        }
      ],
      "source": [
        "pd.set_option('max_colwidth', 200)\n",
        "hypothesis['ICE'] = round((hypothesis['impact'] * hypothesis['confidence']) / hypothesis['efforts'], 2)\n",
        "hypothesis.sort_values('ICE', ascending=False)\n"
      ]
    },
    {
      "cell_type": "code",
      "execution_count": null,
      "metadata": {
        "id": "McWo7o5Eq2yJ",
        "outputId": "cf60da9f-6941-4ee3-aab9-3ce65c4b78f4"
      },
      "outputs": [
        {
          "data": {
            "image/png": "[encoded data removed]",
            "text/plain": [
              "<Figure size 432x288 with 1 Axes>"
            ]
          },
          "metadata": {
            "needs_background": "light"
          },
          "output_type": "display_data"
        }
      ],
      "source": [
        "ax = hypothesis[['hypothesis', 'ICE']].sort_values(by=['ICE']) \\\n",
        "                                      .set_index('hypothesis') \\\n",
        "                                      .plot(kind='barh', color='k', alpha = 0.8)\n",
        "ax.set_xlabel('Приоритет')\n",
        "ax.set_ylabel(' ')\n",
        "ax.set_title('Приоритезация гипотез по методу ICE')\n",
        "plt.grid(b=True, color='grey', alpha=0.3)\n",
        "plt.rcParams['axes.facecolor'] = '#ffffff'\n",
        "plt.show()"
      ]
    },
    {
      "cell_type": "markdown",
      "metadata": {
        "id": "LMRLGAFMq2yJ"
      },
      "source": [
        "### А теперь применим фреймворк RICE для приоритизации гипотез.Отсортируем их по убыванию приоритета."
      ]
    },
    {
      "cell_type": "code",
      "execution_count": null,
      "metadata": {
        "id": "282kNUNeq2yJ",
        "outputId": "e3220451-8325-4323-83e9-90d5be4de619"
      },
      "outputs": [
        {
          "data": {
            "text/html": [
              "<div>\n",
              "<style scoped>\n",
              "    .dataframe tbody tr th:only-of-type {\n",
              "        vertical-align: middle;\n",
              "    }\n",
              "\n",
              "    .dataframe tbody tr th {\n",
              "        vertical-align: top;\n",
              "    }\n",
              "\n",
              "    .dataframe thead th {\n",
              "        text-align: right;\n",
              "    }\n",
              "</style>\n",
              "<table border=\"1\" class=\"dataframe\">\n",
              "  <thead>\n",
              "    <tr style=\"text-align: right;\">\n",
              "      <th></th>\n",
              "      <th>hypothesis</th>\n",
              "      <th>reach</th>\n",
              "      <th>impact</th>\n",
              "      <th>confidence</th>\n",
              "      <th>efforts</th>\n",
              "      <th>ICE</th>\n",
              "      <th>RICE</th>\n",
              "    </tr>\n",
              "  </thead>\n",
              "  <tbody>\n",
              "    <tr>\n",
              "      <th>7</th>\n",
              "      <td>Добавить форму подписки на все основные страницы, чтобы собрать базу клиентов для email-рассылок</td>\n",
              "      <td>10</td>\n",
              "      <td>7</td>\n",
              "      <td>8</td>\n",
              "      <td>5</td>\n",
              "      <td>11.20</td>\n",
              "      <td>112.0</td>\n",
              "    </tr>\n",
              "    <tr>\n",
              "      <th>2</th>\n",
              "      <td>Добавить блоки рекомендаций товаров на сайт интернет магазина, чтобы повысить конверсию и средний чек заказа</td>\n",
              "      <td>8</td>\n",
              "      <td>3</td>\n",
              "      <td>7</td>\n",
              "      <td>3</td>\n",
              "      <td>7.00</td>\n",
              "      <td>56.0</td>\n",
              "    </tr>\n",
              "    <tr>\n",
              "      <th>0</th>\n",
              "      <td>Добавить два новых канала привлечения трафика, что позволит привлекать на 30% больше пользователей</td>\n",
              "      <td>3</td>\n",
              "      <td>10</td>\n",
              "      <td>8</td>\n",
              "      <td>6</td>\n",
              "      <td>13.33</td>\n",
              "      <td>40.0</td>\n",
              "    </tr>\n",
              "    <tr>\n",
              "      <th>6</th>\n",
              "      <td>Показать на главной странице баннеры с актуальными акциями и распродажами, чтобы увеличить конверсию</td>\n",
              "      <td>5</td>\n",
              "      <td>3</td>\n",
              "      <td>8</td>\n",
              "      <td>3</td>\n",
              "      <td>8.00</td>\n",
              "      <td>40.0</td>\n",
              "    </tr>\n",
              "    <tr>\n",
              "      <th>8</th>\n",
              "      <td>Запустить акцию, дающую скидку на товар в день рождения</td>\n",
              "      <td>1</td>\n",
              "      <td>9</td>\n",
              "      <td>9</td>\n",
              "      <td>5</td>\n",
              "      <td>16.20</td>\n",
              "      <td>16.2</td>\n",
              "    </tr>\n",
              "    <tr>\n",
              "      <th>3</th>\n",
              "      <td>Изменить структура категорий, что увеличит конверсию, т.к. пользователи быстрее найдут нужный товар</td>\n",
              "      <td>8</td>\n",
              "      <td>3</td>\n",
              "      <td>3</td>\n",
              "      <td>8</td>\n",
              "      <td>1.12</td>\n",
              "      <td>9.0</td>\n",
              "    </tr>\n",
              "    <tr>\n",
              "      <th>1</th>\n",
              "      <td>Запустить собственную службу доставки, что сократит срок доставки заказов</td>\n",
              "      <td>2</td>\n",
              "      <td>5</td>\n",
              "      <td>4</td>\n",
              "      <td>10</td>\n",
              "      <td>2.00</td>\n",
              "      <td>4.0</td>\n",
              "    </tr>\n",
              "    <tr>\n",
              "      <th>5</th>\n",
              "      <td>Добавить страницу отзывов клиентов о магазине, что позволит увеличить количество заказов</td>\n",
              "      <td>3</td>\n",
              "      <td>2</td>\n",
              "      <td>2</td>\n",
              "      <td>3</td>\n",
              "      <td>1.33</td>\n",
              "      <td>4.0</td>\n",
              "    </tr>\n",
              "    <tr>\n",
              "      <th>4</th>\n",
              "      <td>Изменить цвет фона главной страницы, чтобы увеличить вовлеченность пользователей</td>\n",
              "      <td>3</td>\n",
              "      <td>1</td>\n",
              "      <td>1</td>\n",
              "      <td>1</td>\n",
              "      <td>1.00</td>\n",
              "      <td>3.0</td>\n",
              "    </tr>\n",
              "  </tbody>\n",
              "</table>\n",
              "</div>"
            ],
            "text/plain": [
              "                                                                                                     hypothesis  \\\n",
              "7              Добавить форму подписки на все основные страницы, чтобы собрать базу клиентов для email-рассылок   \n",
              "2  Добавить блоки рекомендаций товаров на сайт интернет магазина, чтобы повысить конверсию и средний чек заказа   \n",
              "0            Добавить два новых канала привлечения трафика, что позволит привлекать на 30% больше пользователей   \n",
              "6          Показать на главной странице баннеры с актуальными акциями и распродажами, чтобы увеличить конверсию   \n",
              "8                                                       Запустить акцию, дающую скидку на товар в день рождения   \n",
              "3           Изменить структура категорий, что увеличит конверсию, т.к. пользователи быстрее найдут нужный товар   \n",
              "1                                     Запустить собственную службу доставки, что сократит срок доставки заказов   \n",
              "5                      Добавить страницу отзывов клиентов о магазине, что позволит увеличить количество заказов   \n",
              "4                              Изменить цвет фона главной страницы, чтобы увеличить вовлеченность пользователей   \n",
              "\n",
              "   reach  impact  confidence  efforts    ICE   RICE  \n",
              "7     10       7           8        5  11.20  112.0  \n",
              "2      8       3           7        3   7.00   56.0  \n",
              "0      3      10           8        6  13.33   40.0  \n",
              "6      5       3           8        3   8.00   40.0  \n",
              "8      1       9           9        5  16.20   16.2  \n",
              "3      8       3           3        8   1.12    9.0  \n",
              "1      2       5           4       10   2.00    4.0  \n",
              "5      3       2           2        3   1.33    4.0  \n",
              "4      3       1           1        1   1.00    3.0  "
            ]
          },
          "execution_count": 12,
          "metadata": {},
          "output_type": "execute_result"
        }
      ],
      "source": [
        "hypothesis['RICE'] = round(hypothesis['reach'] * hypothesis['impact'] * hypothesis['confidence'], 2) / hypothesis['efforts']\n",
        "hypothesis.sort_values('RICE', ascending=False)"
      ]
    },
    {
      "cell_type": "markdown",
      "metadata": {
        "id": "-ppSfmfOq2yJ"
      },
      "source": [
        "<div class=\"alert alert-block alert-success\">\n",
        "    \n",
        "**Комментарий от ревьюера**\n",
        "\n",
        "Молодец, что выводишь таблицу дважды, каждый раз с сортировкой по одному из фреймворков - так различия в их работе максимально наглядны.\n",
        "</div>"
      ]
    },
    {
      "cell_type": "code",
      "execution_count": null,
      "metadata": {
        "id": "2eBIip31q2yJ",
        "outputId": "6a4fe481-1a74-4c31-8d79-145ff267f42f"
      },
      "outputs": [
        {
          "data": {
            "image/png": "[encoded data removed]",
            "text/plain": [
              "<Figure size 432x288 with 1 Axes>"
            ]
          },
          "metadata": {
            "needs_background": "light"
          },
          "output_type": "display_data"
        }
      ],
      "source": [
        "ax = hypothesis[['hypothesis', 'RICE']].sort_values(by='RICE') \\\n",
        "                                      .set_index('hypothesis') \\\n",
        "                                      .plot(kind='barh', color='y', alpha = 0.8)\n",
        "ax.set_xlabel('Приоритет')\n",
        "ax.set_ylabel(' ')\n",
        "ax.set_title('Приоритезация гипотез по методу RICE')\n",
        "plt.grid(b=True, color='grey', alpha=0.3)\n",
        "plt.rcParams['axes.facecolor'] = '#ffffff'\n",
        "plt.show()"
      ]
    },
    {
      "cell_type": "markdown",
      "metadata": {
        "id": "MQt7h2T2q2yJ"
      },
      "source": [
        "Вывод:\n",
        "По фреймворку ICE наиболее приоритетными были гипотезы:\n",
        "- Запустить акцию, дающую скидку на товар в день рождения\n",
        "- Добавить два новых канала привлечения трафика, что позволит привлекать на 30% больше пользователей\n",
        "- Добавить форму подписки на все основные страницы, чтобы собрать базу клиентов для email-рассылок\n",
        "\n",
        "А по фреймворку RICE наиболее приоритетные гипотезы расположились следующим образом:\n",
        "- Добавить форму подписки на все основные страницы, чтобы собрать базу клиентов для email-рассылок\n",
        "- Добавить блоки рекомендаций товаров на сайт интернет магазина, чтобы повысить конверсию и средний чек заказа\n",
        "- Добавить два новых канала привлечения трафика, что позволит привлекать на 30% больше пользователей\n",
        "\n",
        "Разриличие между формулами:\n",
        "- объясняется тем, что в случае фреймворка ICE в отличие от RICE мы не учитывали охват изменений, тогда как это важная составляющая оценки гипотез.\n",
        "\n",
        "Mы предполагаем, что блоки рекомендаций увидит очень большая доля пользователей, гипотеза 2 \"Добавить блоки рекомендаций товаров на сайт интернет магазина, чтобы повысить конверсию и средний чек заказа\" поднимается с пятого места до второго."
      ]
    },
    {
      "cell_type": "markdown",
      "metadata": {
        "id": "crjU5EGfq2yK"
      },
      "source": [
        "## Часть 2. Анализ A/B-теста"
      ]
    },
    {
      "cell_type": "markdown",
      "metadata": {
        "id": "12OrQXJlq2yK"
      },
      "source": [
        "Первым делом проверим, нет ли пользователей, попавших одновременно в обе группы."
      ]
    },
    {
      "cell_type": "code",
      "execution_count": null,
      "metadata": {
        "id": "i5huZFGfq2yK",
        "outputId": "33bc8988-f8ae-4b7c-f066-4d89eaf469b1"
      },
      "outputs": [
        {
          "data": {
            "text/plain": [
              "array([4069496402,  963407295,  351125977, 3234906277,  199603092,\n",
              "        237748145, 3803269165, 2038680547, 2378935119, 4256040402,\n",
              "       2712142231,    8300375,  276558944,  457167155, 3062433592,\n",
              "       1738359350, 2458001652, 2716752286, 3891541246, 1648269707,\n",
              "       3656415546, 2686716486, 2954449915, 2927087541, 2579882178,\n",
              "       3957174400, 2780786433, 3984495233,  818047933, 1668030113,\n",
              "       3717692402, 2044997962, 1959144690, 1294878855, 1404934699,\n",
              "       2587333274, 3202540741, 1333886533, 2600415354, 3951559397,\n",
              "        393266494, 3972127743, 4120364173, 4266935830, 1230306981,\n",
              "       1614305549,  477780734, 1602967004, 1801183820, 4186807279,\n",
              "       3766097110, 3941795274,  471551937, 1316129916,  232979603,\n",
              "       2654030115, 3963646447, 2949041841])"
            ]
          },
          "metadata": {},
          "output_type": "display_data"
        },
        {
          "name": "stdout",
          "output_type": "stream",
          "text": [
            "Количество пользователей в двух группах: 58\n",
            "Всего пользователей в тесте: 1031\n"
          ]
        }
      ],
      "source": [
        "g_a = orders[orders['group'] == 'A']['visitorId']\n",
        "g_b = orders[orders['group'] == 'B']['visitorId']\n",
        "orders_ab = orders.query('visitorId in @g_a and visitorId in @g_b')\n",
        "display(orders_ab['visitorId'].unique())\n",
        "print('Количество пользователей в двух группах:', orders_ab['visitorId'].nunique())\n",
        "print('Всего пользователей в тесте:', orders['visitorId'].nunique())\n"
      ]
    },
    {
      "cell_type": "markdown",
      "metadata": {
        "id": "0dkf_Mj4q2yK"
      },
      "source": [
        "###  Постройте график кумулятивной выручки по группам. Сделайте выводы и предположения."
      ]
    },
    {
      "cell_type": "markdown",
      "metadata": {
        "id": "a1TxINEXq2yK"
      },
      "source": [
        " Сгруппируем таблицу orders по дате и группе A/B-теста и посчитаем количество уникальных заказов, покупателей и суммарную выручку."
      ]
    },
    {
      "cell_type": "code",
      "execution_count": null,
      "metadata": {
        "id": "ie8wFlJlq2yK",
        "outputId": "6ced4611-25ca-44b3-ae13-1d65472cb4b4"
      },
      "outputs": [
        {
          "data": {
            "text/html": [
              "<div>\n",
              "<style scoped>\n",
              "    .dataframe tbody tr th:only-of-type {\n",
              "        vertical-align: middle;\n",
              "    }\n",
              "\n",
              "    .dataframe tbody tr th {\n",
              "        vertical-align: top;\n",
              "    }\n",
              "\n",
              "    .dataframe thead th {\n",
              "        text-align: right;\n",
              "    }\n",
              "</style>\n",
              "<table border=\"1\" class=\"dataframe\">\n",
              "  <thead>\n",
              "    <tr style=\"text-align: right;\">\n",
              "      <th></th>\n",
              "      <th>date</th>\n",
              "      <th>group</th>\n",
              "      <th>orders</th>\n",
              "      <th>buyers</th>\n",
              "      <th>revenue</th>\n",
              "      <th>visitors</th>\n",
              "    </tr>\n",
              "  </thead>\n",
              "  <tbody>\n",
              "    <tr>\n",
              "      <th>0</th>\n",
              "      <td>2019-08-01</td>\n",
              "      <td>A</td>\n",
              "      <td>24</td>\n",
              "      <td>20</td>\n",
              "      <td>148579</td>\n",
              "      <td>719</td>\n",
              "    </tr>\n",
              "    <tr>\n",
              "      <th>1</th>\n",
              "      <td>2019-08-01</td>\n",
              "      <td>B</td>\n",
              "      <td>21</td>\n",
              "      <td>20</td>\n",
              "      <td>101217</td>\n",
              "      <td>713</td>\n",
              "    </tr>\n",
              "    <tr>\n",
              "      <th>2</th>\n",
              "      <td>2019-08-02</td>\n",
              "      <td>A</td>\n",
              "      <td>44</td>\n",
              "      <td>38</td>\n",
              "      <td>242401</td>\n",
              "      <td>1338</td>\n",
              "    </tr>\n",
              "    <tr>\n",
              "      <th>3</th>\n",
              "      <td>2019-08-02</td>\n",
              "      <td>B</td>\n",
              "      <td>45</td>\n",
              "      <td>43</td>\n",
              "      <td>266748</td>\n",
              "      <td>1294</td>\n",
              "    </tr>\n",
              "    <tr>\n",
              "      <th>4</th>\n",
              "      <td>2019-08-03</td>\n",
              "      <td>A</td>\n",
              "      <td>68</td>\n",
              "      <td>62</td>\n",
              "      <td>354874</td>\n",
              "      <td>1845</td>\n",
              "    </tr>\n",
              "  </tbody>\n",
              "</table>\n",
              "</div>"
            ],
            "text/plain": [
              "         date group  orders  buyers  revenue  visitors\n",
              "0  2019-08-01     A      24      20   148579       719\n",
              "1  2019-08-01     B      21      20   101217       713\n",
              "2  2019-08-02     A      44      38   242401      1338\n",
              "3  2019-08-02     B      45      43   266748      1294\n",
              "4  2019-08-03     A      68      62   354874      1845"
            ]
          },
          "execution_count": 15,
          "metadata": {},
          "output_type": "execute_result"
        }
      ],
      "source": [
        "datesGroups = orders[['date','group']].drop_duplicates()\n",
        "\n",
        "ordersAggregated = datesGroups.apply(lambda x: orders[np.logical_and(orders['date'] <= x['date'],\n",
        "                                                                     orders['group'] == x['group'])]. \\\n",
        "                                     agg({'date' : 'max',\n",
        "                                          'group' : 'max',\n",
        "                                          'transactionId' : pd.Series.nunique,\n",
        "                                          'visitorId' : pd.Series.nunique,\n",
        "                                          'revenue' : 'sum'}), axis=1).sort_values(by=['date','group'])\n",
        "\n",
        "visitorsAggregated = datesGroups.apply(lambda x: visitors[np.logical_and(visitors['date'] <= x['date'],\n",
        "                                                                         visitors['group'] == x['group'])]. \\\n",
        "                                       agg({'date' : 'max',\n",
        "                                            'group' : 'max',\n",
        "                                            'visitors' : 'sum'}), axis=1).sort_values(by=['date','group'])\n",
        "\n",
        "cumulativeData = ordersAggregated.merge(visitorsAggregated, left_on=['date', 'group'], right_on=['date', 'group'])\n",
        "\n",
        "cumulativeData.columns = ['date', 'group', 'orders', 'buyers', 'revenue', 'visitors']\n",
        "\n",
        "cumulativeData.head(5)"
      ]
    },
    {
      "cell_type": "code",
      "execution_count": null,
      "metadata": {
        "id": "O_8pVrYYq2yK"
      },
      "outputs": [],
      "source": [
        "#проверим есть ли различия в новом и старом датафрейме\n",
        "if cumulativeData['date'].min() != orders['date'].min() and cumulativeData['date'].max() != orders['date'].max():\n",
        "    raise Exception('Даты в датафреймах разные')"
      ]
    },
    {
      "cell_type": "code",
      "execution_count": null,
      "metadata": {
        "id": "QA1kcQjKq2yK",
        "outputId": "8d1dd291-6218-4ea1-b74c-3503028030a4"
      },
      "outputs": [
        {
          "data": {
            "image/png": "[encoded data removed]",
            "text/plain": [
              "<Figure size 1080x360 with 1 Axes>"
            ]
          },
          "metadata": {
            "needs_background": "light"
          },
          "output_type": "display_data"
        }
      ],
      "source": [
        "cumulativeRevenueA = cumulativeData[cumulativeData['group']=='A'][['date','revenue', 'orders']]\n",
        "cumulativeRevenueB = cumulativeData[cumulativeData['group']=='B'][['date','revenue', 'orders']]\n",
        "\n",
        "from pandas.plotting import register_matplotlib_converters\n",
        "register_matplotlib_converters()\n",
        "\n",
        "plt.figure(figsize=(15,5))\n",
        "#Строим график\n",
        "plt.plot(cumulativeRevenueA['date'], cumulativeRevenueA['revenue'], label='Кум.выручка группы A')\n",
        "#Строим график\n",
        "plt.plot(cumulativeRevenueB['date'], cumulativeRevenueB['revenue'], label='Кум.выручка группы B')\n",
        "plt.title('График кумулятивной выручки по группам\\n  ')\n",
        "plt.xlabel('\\nДата')\n",
        "plt.ylabel('Выручка\\n')\n",
        "plt.grid()\n",
        "plt.legend();\n"
      ]
    },
    {
      "cell_type": "markdown",
      "metadata": {
        "id": "CRj9ui1Xq2yK"
      },
      "source": [
        " Выручка в обеих группах увеличивается на протяжении всего теста. Однако в группе B есть резкий всплеск, который может свидетельствовать о всплеске числа заказов или о появлении неожидано дорогих заказов."
      ]
    },
    {
      "cell_type": "markdown",
      "metadata": {
        "id": "Cujt6WdLq2yK"
      },
      "source": [
        "### Построим график кумулятивного среднего чека по группам."
      ]
    },
    {
      "cell_type": "markdown",
      "metadata": {
        "id": "TSeAoOjzq2yK"
      },
      "source": [
        "Чтобы построить графики среднего кумулятивного чека по группам — разделим кумулятивную выручку на кумулятивное число заказов."
      ]
    },
    {
      "cell_type": "code",
      "execution_count": null,
      "metadata": {
        "id": "cAtNuNQ-q2yP",
        "outputId": "40a1b59f-253c-412f-ffb5-e2e7a5b2c6f8"
      },
      "outputs": [
        {
          "data": {
            "image/png": "[encoded data removed]",
            "text/plain": [
              "<Figure size 1080x360 with 1 Axes>"
            ]
          },
          "metadata": {
            "needs_background": "light"
          },
          "output_type": "display_data"
        }
      ],
      "source": [
        "plt.figure(figsize=(15,5))\n",
        "plt.grid()\n",
        "plt.plot(cumulativeRevenueA['date'], cumulativeRevenueA['revenue']/cumulativeRevenueA['orders'], label='A')\n",
        "plt.plot(cumulativeRevenueB['date'], cumulativeRevenueB['revenue']/cumulativeRevenueB['orders'], label='B')\n",
        "plt.title('График кумулятивного среднего чека по группам\\n  ')\n",
        "plt.xlabel('\\nДата')\n",
        "plt.ylabel('Сумма среднего чека\\n')\n",
        "plt.legend();"
      ]
    },
    {
      "cell_type": "markdown",
      "metadata": {
        "id": "NADqukBAq2yQ"
      },
      "source": [
        "Средний чек заказов группы A вначале проседает, потом быстро растёт со всплеском 13 августа, затем стабилизируется. Средний чек группы B растёт скачкообразно (всплеск 19-го августа на месте), затем медленно падает.\n",
        "\n",
        "Ком.значение среднего чека по сегментам нестабильно. Возможно имеются аномальные значения (выбросы), которые искажают общую картину."
      ]
    },
    {
      "cell_type": "markdown",
      "metadata": {
        "id": "60sOq8zFq2yQ"
      },
      "source": [
        "### Построим график относительного изменения кумулятивного среднего чека группы B к группе A."
      ]
    },
    {
      "cell_type": "markdown",
      "metadata": {
        "id": "HQ30hOg1q2yQ"
      },
      "source": [
        "Построим график относительного изменения кумулятивного среднего чека."
      ]
    },
    {
      "cell_type": "code",
      "execution_count": null,
      "metadata": {
        "id": "xJKo8vwZq2yQ",
        "outputId": "297a81a5-28c3-4be2-f45b-9af4b83b08cc"
      },
      "outputs": [
        {
          "data": {
            "image/png": "[encoded data removed]",
            "text/plain": [
              "<Figure size 1080x360 with 1 Axes>"
            ]
          },
          "metadata": {
            "needs_background": "light"
          },
          "output_type": "display_data"
        }
      ],
      "source": [
        "# собираем данные в одном датафрейме\n",
        "mergedCumulativeRevenue = cumulativeRevenueA.merge(cumulativeRevenueB, left_on='date', right_on='date',\n",
        "                                                   how='left', suffixes=['A', 'B'])\n",
        "\n",
        "plt.figure(figsize=(15,5))\n",
        "plt.grid()\n",
        "plt.plot(mergedCumulativeRevenue['date'], (mergedCumulativeRevenue['revenueB']\n",
        "                                           /mergedCumulativeRevenue['ordersB'])\n",
        "         /(mergedCumulativeRevenue['revenueA']/mergedCumulativeRevenue['ordersA'])-1)\n",
        "plt.title('График относительного изменения кумулятивного среднего чека группы B к группе A\\n  ')\n",
        "plt.xlabel('\\nДата')\n",
        "plt.ylabel('Изменение среденего чека \\n')\n",
        "\n",
        "plt.axhline(y=0, color='black', linestyle='--');"
      ]
    },
    {
      "cell_type": "markdown",
      "metadata": {
        "id": "EQcQmn7Wq2yQ"
      },
      "source": [
        "Глядя на график относительного различия в среднем чеке между группами, видим как сильно меняются значения в определенные даты. Веротяно, тогда и были совершены аномальные заказы.\n",
        "\n",
        "Резкие различия в кумулятивном среднем чеке наблюдаются 4-го, 6-го и 8-го, 19-го августа."
      ]
    },
    {
      "cell_type": "markdown",
      "metadata": {
        "id": "MeV5HtTUq2yQ"
      },
      "source": [
        "### Постройте график кумулятивного среднего количества заказов на посетителя по группам."
      ]
    },
    {
      "cell_type": "code",
      "execution_count": null,
      "metadata": {
        "id": "PdRFovTxq2yQ",
        "outputId": "0de8d279-a774-4985-9bdd-e7cadec549cf"
      },
      "outputs": [
        {
          "data": {
            "image/png": "[encoded data removed]",
            "text/plain": [
              "<Figure size 1080x360 with 1 Axes>"
            ]
          },
          "metadata": {
            "needs_background": "light"
          },
          "output_type": "display_data"
        }
      ],
      "source": [
        "cumulativeData['conversion'] = cumulativeData['orders']/cumulativeData['visitors']\n",
        "\n",
        "cumulativeDataA = cumulativeData[cumulativeData['group']=='A']\n",
        "\n",
        "cumulativeDataB = cumulativeData[cumulativeData['group']=='B']\n",
        "\n",
        "# строим графики\n",
        "plt.figure(figsize=(15,5))\n",
        "plt.grid()\n",
        "plt.plot(cumulativeDataA['date'], cumulativeDataA['conversion'], label='A')\n",
        "plt.plot(cumulativeDataB['date'], cumulativeDataB['conversion'], label='B')\n",
        "plt.legend()\n",
        "plt.title('График кумулятивной среднего количества заказов по группам\\n  ')\n",
        "plt.xlabel('\\nДата')\n",
        "plt.ylabel('Средрнее количество заказов на посетителя\\n');\n"
      ]
    },
    {
      "cell_type": "markdown",
      "metadata": {
        "id": "gafCP8KGq2yQ"
      },
      "source": [
        "Графики кумулятивной среднего количества заказов неплавные, есть выбросы.\n",
        "\n",
        "Сначала сегмент А имел большую кумулятивной среднего количества заказов, но чуть позже сегмент В выровнялся и зафиксировался больше значения сегмента А."
      ]
    },
    {
      "cell_type": "markdown",
      "metadata": {
        "id": "BG2hk_vqq2yR"
      },
      "source": [
        "### Постройте график относительного изменения кумулятивного среднего количества заказов на посетителя группы B к группе A."
      ]
    },
    {
      "cell_type": "markdown",
      "metadata": {
        "id": "a-JV1Pa-q2yR"
      },
      "source": [
        "Построим график относительного различия"
      ]
    },
    {
      "cell_type": "code",
      "execution_count": null,
      "metadata": {
        "id": "-9VSN2Zfq2yR",
        "outputId": "9c1c0855-9cef-467e-fab0-99fbfb083286"
      },
      "outputs": [
        {
          "data": {
            "image/png": "[encoded data removed]",
            "text/plain": [
              "<Figure size 1080x360 with 1 Axes>"
            ]
          },
          "metadata": {
            "needs_background": "light"
          },
          "output_type": "display_data"
        }
      ],
      "source": [
        "mergedCumulativeConversions = cumulativeDataA[['date','conversion']].merge(cumulativeDataB[['date','conversion']],\n",
        "                                                                           left_on='date',\n",
        "                                                                           right_on='date',\n",
        "                                                                           how='left',\n",
        "                                                                           suffixes=['A', 'B'])\n",
        "plt.figure(figsize=(15,5))\n",
        "plt.grid()\n",
        "plt.plot(mergedCumulativeConversions['date'],\n",
        "         mergedCumulativeConversions['conversionB']/mergedCumulativeConversions['conversionA']-1,\n",
        "         label=\"Относительный прирост кумулятивного среднего количества заказов группы B относительно группы A\")\n",
        "plt.legend()\n",
        "\n",
        "plt.axhline(y=0, color='black', linestyle='--')\n",
        "plt.axhline(y=0.15, color='grey', linestyle='--')\n",
        "plt.axis([\"2019-08-01\", '2019-09-01', -0.4, 0.4])\n",
        "plt.title('График относительного изменения кумулятивного среднего количества группы B к группе A\\n  ')\n",
        "plt.xlabel('\\nДата')\n",
        "plt.ylabel('Относительне изменение \\n');"
      ]
    },
    {
      "cell_type": "markdown",
      "metadata": {
        "id": "gfTFNfSYq2yR"
      },
      "source": [
        "В начале теста группа B просела относительно группы A, затем резко выросла и стабилизировалась.\n",
        "Сначала количество заказов на посетителя колебались, но довольно быстро выровнялись; результат группы В кажется более привлекательным."
      ]
    },
    {
      "cell_type": "markdown",
      "metadata": {
        "id": "TV99Zy7Aq2yR"
      },
      "source": [
        "### Построим точечный график количества заказов по пользователям."
      ]
    },
    {
      "cell_type": "code",
      "execution_count": null,
      "metadata": {
        "id": "BXgWCG2uq2yR",
        "outputId": "f2c64d37-955a-4b2d-8bb3-01a82be93a32"
      },
      "outputs": [
        {
          "data": {
            "text/html": [
              "<div>\n",
              "<style scoped>\n",
              "    .dataframe tbody tr th:only-of-type {\n",
              "        vertical-align: middle;\n",
              "    }\n",
              "\n",
              "    .dataframe tbody tr th {\n",
              "        vertical-align: top;\n",
              "    }\n",
              "\n",
              "    .dataframe thead th {\n",
              "        text-align: right;\n",
              "    }\n",
              "</style>\n",
              "<table border=\"1\" class=\"dataframe\">\n",
              "  <thead>\n",
              "    <tr style=\"text-align: right;\">\n",
              "      <th></th>\n",
              "      <th>visitorId</th>\n",
              "      <th>orders</th>\n",
              "    </tr>\n",
              "  </thead>\n",
              "  <tbody>\n",
              "    <tr>\n",
              "      <th>0</th>\n",
              "      <td>5114589</td>\n",
              "      <td>1</td>\n",
              "    </tr>\n",
              "    <tr>\n",
              "      <th>1</th>\n",
              "      <td>6958315</td>\n",
              "      <td>1</td>\n",
              "    </tr>\n",
              "    <tr>\n",
              "      <th>2</th>\n",
              "      <td>8300375</td>\n",
              "      <td>2</td>\n",
              "    </tr>\n",
              "    <tr>\n",
              "      <th>3</th>\n",
              "      <td>11685486</td>\n",
              "      <td>1</td>\n",
              "    </tr>\n",
              "    <tr>\n",
              "      <th>4</th>\n",
              "      <td>39475350</td>\n",
              "      <td>1</td>\n",
              "    </tr>\n",
              "    <tr>\n",
              "      <th>5</th>\n",
              "      <td>47206413</td>\n",
              "      <td>1</td>\n",
              "    </tr>\n",
              "    <tr>\n",
              "      <th>6</th>\n",
              "      <td>48147722</td>\n",
              "      <td>1</td>\n",
              "    </tr>\n",
              "    <tr>\n",
              "      <th>7</th>\n",
              "      <td>54447517</td>\n",
              "      <td>1</td>\n",
              "    </tr>\n",
              "    <tr>\n",
              "      <th>8</th>\n",
              "      <td>56960363</td>\n",
              "      <td>1</td>\n",
              "    </tr>\n",
              "    <tr>\n",
              "      <th>9</th>\n",
              "      <td>66685450</td>\n",
              "      <td>1</td>\n",
              "    </tr>\n",
              "  </tbody>\n",
              "</table>\n",
              "</div>"
            ],
            "text/plain": [
              "   visitorId  orders\n",
              "0    5114589       1\n",
              "1    6958315       1\n",
              "2    8300375       2\n",
              "3   11685486       1\n",
              "4   39475350       1\n",
              "5   47206413       1\n",
              "6   48147722       1\n",
              "7   54447517       1\n",
              "8   56960363       1\n",
              "9   66685450       1"
            ]
          },
          "execution_count": 22,
          "metadata": {},
          "output_type": "execute_result"
        }
      ],
      "source": [
        "ordersByUsers = orders.groupby('visitorId', as_index=False).agg({'transactionId' : pd.Series.nunique})\n",
        "ordersByUsers.columns = ['visitorId','orders']\n",
        "ordersByUsers.head(10)"
      ]
    },
    {
      "cell_type": "code",
      "execution_count": null,
      "metadata": {
        "id": "nQ6AHSnhq2yR",
        "outputId": "421dd389-9643-41a4-89c5-bfbe0299ed66"
      },
      "outputs": [
        {
          "data": {
            "image/png": "[encoded data removed]",
            "text/plain": [
              "<Figure size 1080x360 with 1 Axes>"
            ]
          },
          "metadata": {
            "needs_background": "light"
          },
          "output_type": "display_data"
        }
      ],
      "source": [
        "ordersByUsers = orders.drop(['group', 'revenue', 'date'], axis=1).groupby('visitorId', as_index=False). \\\n",
        "                                                                        agg({'transactionId' : pd.Series.nunique})\n",
        "\n",
        "ordersByUsers.columns = ['user_id','orders']\n",
        "\n",
        "ordersByUsers.sort_values(by='orders',ascending=False).head(10)\n",
        "\n",
        "\n",
        "plt.figure(figsize=(15,5))\n",
        "plt.grid()\n",
        "plt.title('График количества заказов по пользователям\\n  ')\n",
        "plt.xlabel('\\nКол-во пользователей')\n",
        "plt.ylabel('Кол-во заказов\\n')\n",
        "x_values = pd.Series(range(0, len(ordersByUsers)))\n",
        "plt.scatter(x_values, ordersByUsers['orders']);"
      ]
    },
    {
      "cell_type": "markdown",
      "metadata": {
        "id": "qli7S7l-q2yR"
      },
      "source": [
        "Больше всего пользователей совершивших 1 заказ.\n",
        "Совершивших 2 заказа значительно меньше. Совершивших 3 заказа единицы, возможно они будут являться выбросами"
      ]
    },
    {
      "cell_type": "markdown",
      "metadata": {
        "id": "tcfi-jy_q2yS"
      },
      "source": [
        "### Посчитаем 95-й и 99-й перцентили количества заказов на пользователя."
      ]
    },
    {
      "cell_type": "markdown",
      "metadata": {
        "id": "JatZtfUnq2yS"
      },
      "source": [
        "Определим 95 и 99 перцентили количества заказов на одного пользователя методом percentile()"
      ]
    },
    {
      "cell_type": "code",
      "execution_count": null,
      "metadata": {
        "id": "odBTMhJ2q2yS",
        "outputId": "a01e008c-5a25-492b-fdb1-ebd32af630d4"
      },
      "outputs": [
        {
          "data": {
            "text/plain": [
              "array([2., 4.])"
            ]
          },
          "execution_count": 24,
          "metadata": {},
          "output_type": "execute_result"
        }
      ],
      "source": [
        "np.percentile(ordersByUsers['orders'], [95, 99])"
      ]
    },
    {
      "cell_type": "markdown",
      "metadata": {
        "id": "2ceEtmYyq2yS"
      },
      "source": [
        "95% пользователей овершают не больше 1 заказа, 99% совершают 2 заказа, аномальным будет всё, что и более этого."
      ]
    },
    {
      "cell_type": "markdown",
      "metadata": {
        "id": "y731N3Wqq2yS"
      },
      "source": [
        "### Постройте точечный график стоимостей заказов."
      ]
    },
    {
      "cell_type": "code",
      "execution_count": null,
      "metadata": {
        "id": "6uT53rufq2yS",
        "outputId": "db41e9ee-b296-4e64-aedf-f27c13a2123a"
      },
      "outputs": [
        {
          "data": {
            "image/png": "[encoded data removed]",
            "text/plain": [
              "<Figure size 1080x360 with 1 Axes>"
            ]
          },
          "metadata": {
            "needs_background": "light"
          },
          "output_type": "display_data"
        }
      ],
      "source": [
        "x_values = pd.Series(range(0,len(orders['revenue'])))\n",
        "plt.figure(figsize=(15,5))\n",
        "plt.grid()\n",
        "plt.title('График стоимостей заказов\\n ')\n",
        "plt.xlabel('\\nКол-во пользователей')\n",
        "plt.ylabel('Стоимость заказа\\n')\n",
        "plt.scatter(x_values, orders['revenue'], alpha=0.5);"
      ]
    },
    {
      "cell_type": "markdown",
      "metadata": {
        "id": "R15n5O_2q2yS"
      },
      "source": [
        "График не очень нагляный из-за наличия двух аномальных значений.\n",
        "Посмотрим поближе, для это уберем очевидные выбросы с 'revenue' большим 200000"
      ]
    },
    {
      "cell_type": "code",
      "execution_count": null,
      "metadata": {
        "id": "aiufydosq2yS",
        "outputId": "611d2244-fff6-4d76-a362-7cef72ab9736"
      },
      "outputs": [
        {
          "data": {
            "text/plain": [
              "count    1.197000e+03\n",
              "mean     8.348006e+03\n",
              "std      3.919113e+04\n",
              "min      5.000000e+01\n",
              "25%      1.220000e+03\n",
              "50%      2.978000e+03\n",
              "75%      8.290000e+03\n",
              "max      1.294500e+06\n",
              "Name: revenue, dtype: float64"
            ]
          },
          "execution_count": 26,
          "metadata": {},
          "output_type": "execute_result"
        }
      ],
      "source": [
        "orders['revenue'].describe()"
      ]
    },
    {
      "cell_type": "markdown",
      "metadata": {
        "id": "lMMm50Vyq2yS"
      },
      "source": [
        "Один аномальный заказ на сумму 1294500"
      ]
    },
    {
      "cell_type": "code",
      "execution_count": null,
      "metadata": {
        "id": "_V-R1rzEq2yS",
        "outputId": "14c9aebb-d418-4fe9-d46d-b16113574d34"
      },
      "outputs": [
        {
          "data": {
            "image/png": "[encoded data removed]",
            "text/plain": [
              "<Figure size 1080x360 with 1 Axes>"
            ]
          },
          "metadata": {
            "needs_background": "light"
          },
          "output_type": "display_data"
        }
      ],
      "source": [
        "norm_orders = orders[orders['revenue']<=200000]['revenue']\n",
        "xn_values = pd.Series(range(0,len(norm_orders)))\n",
        "plt.figure(figsize=(15,5))\n",
        "plt.grid()\n",
        "plt.title('График стоимостей заказов')\n",
        "plt.xlabel('\\nКол-во пользователей')\n",
        "plt.ylabel('Стоимость заказа\\n')\n",
        "\n",
        "plt.scatter(xn_values, norm_orders, alpha=0.5);"
      ]
    },
    {
      "cell_type": "markdown",
      "metadata": {
        "id": "2tmq7UCuq2yT"
      },
      "source": [
        "Разброс стоимостей заказов значительный, определить границу аномальных заказов затруднительно.\n",
        "Большая часть всех заказов не дороже 20000. Более точное распределение посмотрим с помощью перцентилей."
      ]
    },
    {
      "cell_type": "markdown",
      "metadata": {
        "id": "LtOF5qUEq2yT"
      },
      "source": [
        "### Посчитайте 95-й и 99-й перцентили стоимости заказов.\n",
        "Выберите границу для определения аномальных заказов."
      ]
    },
    {
      "cell_type": "code",
      "execution_count": null,
      "metadata": {
        "id": "t0w3n-s8q2yT",
        "outputId": "66ab472c-a5a8-4d2f-94c7-edb654d28653"
      },
      "outputs": [
        {
          "data": {
            "text/plain": [
              "array([28000. , 58233.2])"
            ]
          },
          "execution_count": 28,
          "metadata": {},
          "output_type": "execute_result"
        }
      ],
      "source": [
        "np.percentile(orders['revenue'], [95, 99])"
      ]
    },
    {
      "cell_type": "markdown",
      "metadata": {
        "id": "Eu_11Lmvq2yT"
      },
      "source": [
        "Не более чем у 95% заказов чек выше 26785 рублей, и не более чем у 1% дороже 53904 рублей.\n",
        "За границу для определения аномальных заказов примем значение 53904."
      ]
    },
    {
      "cell_type": "markdown",
      "metadata": {
        "id": "jIiF5NC9q2yT"
      },
      "source": [
        "### Посчитайте статистическую значимость различий в среднем количестве заказов на посетителя между группами по «сырым» данным."
      ]
    },
    {
      "cell_type": "markdown",
      "metadata": {
        "id": "yGA8wTJNq2yT"
      },
      "source": [
        "Ранее мы результаты A/B-теста визуально и выяснили, что в данных, скорее всего, есть выбросы. Потом увидели выбросы и нашли границу для их определения.\n",
        "\n",
        "Посчитаем статистическую значимость различий в среднем количестве заказов на посетителя между группами по «сырым» данным — без удаления аномальных пользователей.\n",
        "\n",
        "Введем основную и альтернативные гипотезы:\n",
        "\n",
        "H0:Статистически значимых различий в среднем количестве заказов на посетителя между группами по сырым данным нет.\n",
        "\n",
        "H1:Статистически значимых различий в среднем количестве заказов на посетителя между группами по сырым данным есть.\n",
        "\n",
        "Уровень значимости: α=0.05\n"
      ]
    },
    {
      "cell_type": "code",
      "execution_count": null,
      "metadata": {
        "id": "2pCRuLVWq2yT",
        "outputId": "469b9786-b54e-4910-8081-4724abee18b6"
      },
      "outputs": [
        {
          "data": {
            "text/html": [
              "<div>\n",
              "<style scoped>\n",
              "    .dataframe tbody tr th:only-of-type {\n",
              "        vertical-align: middle;\n",
              "    }\n",
              "\n",
              "    .dataframe tbody tr th {\n",
              "        vertical-align: top;\n",
              "    }\n",
              "\n",
              "    .dataframe thead th {\n",
              "        text-align: right;\n",
              "    }\n",
              "</style>\n",
              "<table border=\"1\" class=\"dataframe\">\n",
              "  <thead>\n",
              "    <tr style=\"text-align: right;\">\n",
              "      <th></th>\n",
              "      <th>date</th>\n",
              "      <th>orders_daily_a</th>\n",
              "      <th>revenue_per_date_a</th>\n",
              "      <th>orders_daily_b</th>\n",
              "      <th>revenue_per_date_b</th>\n",
              "      <th>visitors_per_date_a</th>\n",
              "      <th>visitors_per_date_b</th>\n",
              "    </tr>\n",
              "  </thead>\n",
              "  <tbody>\n",
              "    <tr>\n",
              "      <th>0</th>\n",
              "      <td>2019-08-01</td>\n",
              "      <td>24</td>\n",
              "      <td>148579</td>\n",
              "      <td>21</td>\n",
              "      <td>101217</td>\n",
              "      <td>719</td>\n",
              "      <td>713</td>\n",
              "    </tr>\n",
              "    <tr>\n",
              "      <th>1</th>\n",
              "      <td>2019-08-02</td>\n",
              "      <td>20</td>\n",
              "      <td>93822</td>\n",
              "      <td>24</td>\n",
              "      <td>165531</td>\n",
              "      <td>619</td>\n",
              "      <td>581</td>\n",
              "    </tr>\n",
              "    <tr>\n",
              "      <th>2</th>\n",
              "      <td>2019-08-03</td>\n",
              "      <td>24</td>\n",
              "      <td>112473</td>\n",
              "      <td>16</td>\n",
              "      <td>114248</td>\n",
              "      <td>507</td>\n",
              "      <td>509</td>\n",
              "    </tr>\n",
              "    <tr>\n",
              "      <th>3</th>\n",
              "      <td>2019-08-04</td>\n",
              "      <td>16</td>\n",
              "      <td>70825</td>\n",
              "      <td>17</td>\n",
              "      <td>108571</td>\n",
              "      <td>717</td>\n",
              "      <td>770</td>\n",
              "    </tr>\n",
              "    <tr>\n",
              "      <th>4</th>\n",
              "      <td>2019-08-05</td>\n",
              "      <td>25</td>\n",
              "      <td>124218</td>\n",
              "      <td>23</td>\n",
              "      <td>92428</td>\n",
              "      <td>756</td>\n",
              "      <td>707</td>\n",
              "    </tr>\n",
              "    <tr>\n",
              "      <th>5</th>\n",
              "      <td>2019-08-06</td>\n",
              "      <td>18</td>\n",
              "      <td>48484</td>\n",
              "      <td>28</td>\n",
              "      <td>242342</td>\n",
              "      <td>667</td>\n",
              "      <td>655</td>\n",
              "    </tr>\n",
              "  </tbody>\n",
              "</table>\n",
              "</div>"
            ],
            "text/plain": [
              "         date  orders_daily_a  revenue_per_date_a  orders_daily_b  \\\n",
              "0  2019-08-01              24              148579              21   \n",
              "1  2019-08-02              20               93822              24   \n",
              "2  2019-08-03              24              112473              16   \n",
              "3  2019-08-04              16               70825              17   \n",
              "4  2019-08-05              25              124218              23   \n",
              "5  2019-08-06              18               48484              28   \n",
              "\n",
              "   revenue_per_date_b  visitors_per_date_a  visitors_per_date_b  \n",
              "0              101217                  719                  713  \n",
              "1              165531                  619                  581  \n",
              "2              114248                  507                  509  \n",
              "3              108571                  717                  770  \n",
              "4               92428                  756                  707  \n",
              "5              242342                  667                  655  "
            ]
          },
          "execution_count": 29,
          "metadata": {},
          "output_type": "execute_result"
        }
      ],
      "source": [
        "visitors_daily_a = visitors[visitors['group'] == 'A'][['date', 'visitors']]\n",
        "visitors_daily_a.columns = ['date', 'visitors_per_date_a']\n",
        "\n",
        "#visitors_cummulative_a = visitors_daily_a.apply(\n",
        "#    lambda x: visitors_daily_a[visitors_daily_a['date'] <= x['date']].agg(\n",
        "#        {'date': 'max', 'visitors_per_date_a': 'sum'}\n",
        "#    ),\n",
        "#    axis=1,\n",
        "#)\n",
        "#visitors_cummulative_a.columns = ['date', 'visitors_cummulative_a']\n",
        "\n",
        "visitors_daily_b = visitors[visitors['group'] == 'B'][['date', 'visitors']]\n",
        "visitors_daily_b.columns = ['date', 'visitors_per_date_b']\n",
        "\n",
        "#visitors_cummulative_b = visitors_daily_b.apply(\n",
        "#    lambda x: visitors_daily_b[visitors_daily_b['date'] <= x['date']].agg(\n",
        "#        {'date': 'max', 'visitors_per_date_b': 'sum'}\n",
        "#    ),\n",
        "#    axis=1,\n",
        "#)\n",
        "#visitors_cummulative_b.columns = ['date', 'visitors_cummulative_b']\n",
        "\n",
        "orders_daily_a = (\n",
        "    orders[orders['group'] == 'A'][['date', 'transactionId', 'visitorId', 'revenue']]\n",
        "    .groupby('date', as_index=False)\n",
        "    .agg({'transactionId': pd.Series.nunique, 'revenue': 'sum'})\n",
        ")\n",
        "orders_daily_a.columns = ['date', 'orders_daily_a', 'revenue_per_date_a']\n",
        "\n",
        "#orders_cummulative_a = orders_daily_a.apply(\n",
        "#    lambda x: orders_daily_a[orders_daily_a['date'] <= x['date']].agg(\n",
        "#        {'date': 'max', 'orders_daily_a': 'sum', 'revenue_per_date_a': 'sum'}\n",
        "#    ),\n",
        "#    axis=1,\n",
        "#).sort_values(by=['date'])\n",
        "\n",
        "#orders_cummulative_a.columns = ['date','orders_cummulative_a','revenue_cummulative_a']\n",
        "\n",
        "orders_daily_b = (\n",
        "    orders[orders['group'] == 'B'][['date', 'transactionId', 'visitorId', 'revenue']]\n",
        "    .groupby('date', as_index=False)\n",
        "    .agg({'transactionId': pd.Series.nunique, 'revenue': 'sum'})\n",
        ")\n",
        "orders_daily_b.columns = ['date', 'orders_daily_b', 'revenue_per_date_b']\n",
        "\n",
        "#orders_cummulative_b = orders_daily_b.apply(\n",
        "#    lambda x: orders_daily_b[orders_daily_b['date'] <= x['date']].agg(\n",
        "#        {'date': 'max', 'orders_daily_b': 'sum', 'revenue_per_date_b': 'sum'}\n",
        "#    ),\n",
        "#    axis=1,\n",
        "#).sort_values(by=['date'])\n",
        "\n",
        "#orders_cummulative_b.columns = ['date','orders_cummulative_b','revenue_cummulative_b']\n",
        "\n",
        "\n",
        "data = (\n",
        "    orders_daily_a.merge(\n",
        "        orders_daily_b, left_on='date', right_on='date', how='left'\n",
        "    )\n",
        "\n",
        "    .merge(visitors_daily_a, left_on='date', right_on='date', how='left')\n",
        "    .merge(visitors_daily_b, left_on='date', right_on='date', how='left')\n",
        "\n",
        ")\n",
        "\n",
        "data.head(6)"
      ]
    },
    {
      "cell_type": "markdown",
      "metadata": {
        "id": "8KlpnA4mq2yT"
      },
      "source": [
        "Итак, у нас получилась следующая таблица.\n",
        "\n",
        "- date — дата;\n",
        "- orders_daily_a — количество заказов в выбранную дату в группе A;\n",
        "- revenue_per_date_a — суммарная выручка в выбранную дату в группе A;\n",
        "- orders_daily_a — количество заказов в выбранную дату в группе B;\n",
        "- revenue_per_date_a — суммарная выручка в выбранную дату в группе B;\n",
        "- visitors_per_date_a — количество пользователей в выбранную дату в группе A;\n",
        "- visitors_per_date_b — количество пользователей в выбранную дату в группе B;\n",
        "\n",
        "\n",
        "Создадим переменные orders_by_users_a и orders_by_users_b; в них для пользователей, которые заказывали хотя бы 1 раз, укажем число совершённых заказов."
      ]
    },
    {
      "cell_type": "code",
      "execution_count": null,
      "metadata": {
        "id": "TYIRV3rmq2yU"
      },
      "outputs": [],
      "source": [
        "ordersByUsersA = (\n",
        "    orders[orders['group'] == 'A']\n",
        "    .groupby('visitorId', as_index=False)\n",
        "    .agg({'transactionId': pd.Series.nunique})\n",
        ")\n",
        "ordersByUsersA.columns = ['visitorId', 'orders']\n",
        "\n",
        "ordersByUsersB = (\n",
        "    orders[orders['group'] == 'B']\n",
        "    .groupby('visitorId', as_index=False)\n",
        "    .agg({'transactionId': pd.Series.nunique})\n",
        ")\n",
        "ordersByUsersB.columns = ['visitorId', 'orders']"
      ]
    },
    {
      "cell_type": "markdown",
      "metadata": {
        "id": "I2nD3pYmq2yU"
      },
      "source": [
        "Объявим переменные sample_a и sample_b, в которых пользователям из разных групп будет соответствовать количество заказов. Тем, кто ничего не заказал, будут соответствовать нули."
      ]
    },
    {
      "cell_type": "code",
      "execution_count": null,
      "metadata": {
        "id": "bI0lIz7Zq2yU"
      },
      "outputs": [],
      "source": [
        "sample_a = pd.concat([ordersByUsersA['orders'],\n",
        "                      pd.Series(\n",
        "                          0,\n",
        "                          index=np.arange(data['visitors_per_date_a'].sum() -\n",
        "                                          len(ordersByUsersA['orders'])),\n",
        "                          name='orders')],axis=0\n",
        "                    )\n",
        "\n",
        "sample_b = pd.concat([ordersByUsersB['orders'],\n",
        "                      pd.Series(\n",
        "                          0,\n",
        "                          index=np.arange(data['visitors_per_date_b'].sum() -\n",
        "                                          len(ordersByUsersB['orders'])),\n",
        "                          name='orders')],axis=0\n",
        "                    )"
      ]
    },
    {
      "cell_type": "markdown",
      "metadata": {
        "id": "R7uUSMsAq2yU"
      },
      "source": [
        "Задаем функцию, в которой:\n",
        "\n",
        "задаем уровень значимости alpha=0.05,\n",
        "применим критерий Манна-Уитни,\n",
        "отформатируем p-value, округлив его до трёх знаков после запятой,\n",
        "выведем относительный прирост среднего количества заказов на посетителя группы B: среднее группы B / среднее группы A - 1, округлив до трёх знаков после запятой"
      ]
    },
    {
      "cell_type": "code",
      "execution_count": null,
      "metadata": {
        "id": "yfRPOk1Vq2yU"
      },
      "outputs": [],
      "source": [
        "# Функция для проверки гипотезы о равенстве групп data A и data B\n",
        "def stat_significance(data_a, data_b):\n",
        "    alpha = 0.05\n",
        "    p_value = st.mannwhitneyu(data_a, data_b)[1]\n",
        "    print(\"P-value: {0:.3f}\".format(p_value))\n",
        "\n",
        "    if (p_value < alpha):\n",
        "        print(\"Отвергаем нулевую гипотезу: между группами есть разница\")\n",
        "    else:\n",
        "        print(\"Не получилось отвергнуть нулевую гипотезу, нет оснований считать группы разными\")\n",
        "\n",
        "    print(\"Относительный прирост В к А: {0:.3%}\".format(data_b.mean() / data_a.mean()-1))\n"
      ]
    },
    {
      "cell_type": "code",
      "execution_count": null,
      "metadata": {
        "id": "uY835A-bq2yU",
        "outputId": "df2e0a57-72c7-422a-da6f-1880398e1633"
      },
      "outputs": [
        {
          "name": "stdout",
          "output_type": "stream",
          "text": [
            "P-value: 0.017\n",
            "Отвергаем нулевую гипотезу: между группами есть разница\n",
            "Относительный прирост В к А: 13.808%\n"
          ]
        }
      ],
      "source": [
        "stat_significance(sample_a, sample_b)"
      ]
    },
    {
      "cell_type": "markdown",
      "metadata": {
        "id": "KUtQLvjDq2yU"
      },
      "source": [
        "По неочищенным данным различия в среднем количестве заказов на посетителя между группами есть.\n",
        "P-value = 0.017 меньше 0.05. Значит, нулевую гипотезу о том, что статистически значимых различий в в среднем количестве заказов на посетителя между группами нет, отвергаем."
      ]
    },
    {
      "cell_type": "markdown",
      "metadata": {
        "id": "2fZpTHz6q2yV"
      },
      "source": [
        "### Посчитайте статистическую значимость различий в среднем чеке заказа между группами по «сырым» данным."
      ]
    },
    {
      "cell_type": "markdown",
      "metadata": {
        "id": "W0WOuRpDq2yV"
      },
      "source": [
        "Чтобы рассчитать статистическую значимость различий в среднем чеке, передадим критерию mannwhitneyu() данные о выручке с заказов. А ещё найдём относительные различия в среднем чеке между группами.\n",
        "\n",
        "Введем основную и альтернативные гипотезы:\n",
        "\n",
        "H0:различий в среднем чеке между группами нет\n",
        "\n",
        "H1:различия в среднем чеке между группами есть\n",
        "\n",
        "Уровень значимости: α=0.05"
      ]
    },
    {
      "cell_type": "code",
      "execution_count": null,
      "metadata": {
        "id": "1QJ8FdHpq2yV",
        "outputId": "cd424f24-2daa-4a2e-8511-0beb547f79c1"
      },
      "outputs": [
        {
          "name": "stdout",
          "output_type": "stream",
          "text": [
            "P-value: 0.729\n",
            "Не получилось отвергнуть нулевую гипотезу, нет оснований считать группы разными\n",
            "Относительный прирост В к А: 25.871%\n"
          ]
        }
      ],
      "source": [
        "stat_significance(orders[orders['group']=='A']['revenue'], orders[orders['group']=='B']['revenue'])\n"
      ]
    },
    {
      "cell_type": "markdown",
      "metadata": {
        "id": "UQHxKqPAq2yV"
      },
      "source": [
        "По «сырым» данным P-value значительно больше 0.05. Значит, причин отвергать нулевую гипотезу и считать, что в среднем чеке есть различия, нет."
      ]
    },
    {
      "cell_type": "markdown",
      "metadata": {
        "id": "QykvzK3yq2yV"
      },
      "source": [
        "### Посчитайте статистическую значимость различий в среднем количестве заказов на посетителя между группами по «очищенным» данным."
      ]
    },
    {
      "cell_type": "markdown",
      "metadata": {
        "id": "dQJIwbv_q2yV"
      },
      "source": [
        "Примем за аномальных пользователей тех, кто совершил от 5 заказов или совершил заказ дороже 58233. Так мы уберём 1% пользователей с наибольшим числом заказов и от 1% пользователей с дорогими заказами.\n",
        "\n",
        "Введем основную и альтернативные гипотезы:\n",
        "\n",
        "H0:среднее количество заказов групп A и B по «очищенным» данным совпадают\n",
        "\n",
        "H1:среднее количество заказов групп A и B по «очищенным» данным различаются\n",
        "\n",
        "Уровень значимости: α=0.05"
      ]
    },
    {
      "cell_type": "code",
      "execution_count": null,
      "metadata": {
        "id": "dyPFNvW6q2yV",
        "outputId": "15e38d5d-1278-4b77-80b2-e329b04856ed"
      },
      "outputs": [
        {
          "data": {
            "text/plain": [
              "1099     148427295\n",
              "949      887908475\n",
              "744      888512513\n",
              "1103    1164614297\n",
              "1136    1307669133\n",
              "Name: visitorId, dtype: int64"
            ]
          },
          "metadata": {},
          "output_type": "display_data"
        },
        {
          "data": {
            "text/plain": [
              "15"
            ]
          },
          "execution_count": 35,
          "metadata": {},
          "output_type": "execute_result"
        }
      ],
      "source": [
        "many_orders = np.percentile(ordersByUsers['orders'], 99)\n",
        "expensive_orders = np.percentile(orders['revenue'], 99)\n",
        "\n",
        "\n",
        "users_with_many_orders = pd.concat(\n",
        "    [\n",
        "        ordersByUsersA[ordersByUsersA['orders'] > many_orders]['visitorId'],\n",
        "        ordersByUsersB[ordersByUsersB['orders'] > many_orders]['visitorId'],\n",
        "    ],\n",
        "    axis=0,\n",
        ")\n",
        "\n",
        "\n",
        "users_with_expensive_orders = orders[orders['revenue'] > expensive_orders]['visitorId']\n",
        "\n",
        "\n",
        "abnormal_users = (\n",
        "    pd.concat([users_with_many_orders, users_with_expensive_orders], axis=0)\n",
        "    .drop_duplicates()\n",
        "    .sort_values()\n",
        ")\n",
        "display(abnormal_users.head(5))\n",
        "abnormal_users.shape[0]"
      ]
    },
    {
      "cell_type": "markdown",
      "metadata": {
        "id": "5qPSbqJyq2yV"
      },
      "source": [
        "Всего 15 аномальных пользователей. Не так уж и много. Посмотрим, как изменятся расчеты без их участия."
      ]
    },
    {
      "cell_type": "code",
      "execution_count": null,
      "metadata": {
        "id": "k4aG6WDlq2yV",
        "outputId": "4b8df988-d4fa-4f52-90ea-92df61833373"
      },
      "outputs": [
        {
          "data": {
            "text/plain": [
              "0.014548981571290009"
            ]
          },
          "execution_count": 36,
          "metadata": {},
          "output_type": "execute_result"
        }
      ],
      "source": [
        "# Рассчитаем относительные потери\n",
        "abnormal_users.shape[0] / orders.visitorId.nunique()\n"
      ]
    },
    {
      "cell_type": "code",
      "execution_count": null,
      "metadata": {
        "id": "JP2ElDwRq2yW"
      },
      "outputs": [],
      "source": [
        "sample_a_filtered = pd.concat(\n",
        "    [ordersByUsersA[\n",
        "            np.logical_not(ordersByUsersA['visitorId'].isin(abnormal_users))\n",
        "        ]['orders'],\n",
        "        pd.Series(\n",
        "            0,\n",
        "            index=np.arange(\n",
        "                data['visitors_per_date_a'].sum() - len(ordersByUsersA['orders'])\n",
        "            ),\n",
        "            name='orders',\n",
        "        ),\n",
        "    ],\n",
        "    axis=0,\n",
        ")\n",
        "\n",
        "sample_b_filtered = pd.concat(\n",
        "    [ordersByUsersB[\n",
        "            np.logical_not(ordersByUsersB['visitorId'].isin(abnormal_users))\n",
        "        ]['orders'],\n",
        "        pd.Series(\n",
        "            0,\n",
        "            index=np.arange(\n",
        "                data['visitors_per_date_b'].sum() - len(ordersByUsersA['orders'])\n",
        "            ),\n",
        "            name='orders',\n",
        "        ),\n",
        "    ],\n",
        "    axis=0,\n",
        ")"
      ]
    },
    {
      "cell_type": "code",
      "execution_count": null,
      "metadata": {
        "id": "fXk-7ofrq2yW",
        "outputId": "c8b67125-f368-4dca-f24a-7fbb68745e00"
      },
      "outputs": [
        {
          "name": "stdout",
          "output_type": "stream",
          "text": [
            "P-value: 0.018\n",
            "Отвергаем нулевую гипотезу: между группами есть разница\n",
            "Относительный прирост В к А: 14.827%\n"
          ]
        }
      ],
      "source": [
        "stat_significance(sample_a_filtered, sample_b_filtered)"
      ]
    },
    {
      "cell_type": "markdown",
      "metadata": {
        "id": "ZVSjE1opq2yW"
      },
      "source": [
        "На очищенных данных разница в среднем количестве заказов на посетителя между группами есть, а относительный прирост среднего группы В отнистельно группы А.\n",
        " нулевую гипотезу о том, что конверсии групп A и B по «очищенным» данным совпадают, - отвергаем. Это значит: и по «очищенным» данным в конверсии групп A и B есть статистически значимые различия."
      ]
    },
    {
      "cell_type": "markdown",
      "metadata": {
        "id": "CBdwP3h-q2yW"
      },
      "source": [
        "### Посчитайте статистическую значимость различий в среднем чеке заказа между группами по «очищенным» данным."
      ]
    },
    {
      "cell_type": "markdown",
      "metadata": {
        "id": "riGJSMakq2yW"
      },
      "source": [
        "Введем основную и альтернативные гипотезы:\n",
        "\n",
        "H0:статистически значимых различий в средних чеках между группами нет\n",
        "\n",
        "H1:статистически значимые различия есть."
      ]
    },
    {
      "cell_type": "markdown",
      "metadata": {
        "id": "2OJh-Qsiq2yW"
      },
      "source": [
        "Подсчитаем статистическую значимость различий в среднем чеке после удаления аномальных пользователей."
      ]
    },
    {
      "cell_type": "code",
      "execution_count": null,
      "metadata": {
        "id": "4SNzmMWrq2yW",
        "outputId": "5dcad0a4-249f-49b2-ae7f-d94c94c053b2"
      },
      "outputs": [
        {
          "name": "stdout",
          "output_type": "stream",
          "text": [
            "P-value: 0.851\n",
            "Не получилось отвергнуть нулевую гипотезу, нет оснований считать группы разными\n",
            "Относительный прирост В к А: -0.575%\n"
          ]
        }
      ],
      "source": [
        "stat_significance(\n",
        "    orders[(orders['group']=='A') & np.logical_not(orders['visitorId'].isin(abnormal_users))]['revenue'],\n",
        "    orders[(orders['group']=='B') & np.logical_not(orders['visitorId'].isin(abnormal_users))]['revenue']\n",
        "                  )"
      ]
    },
    {
      "cell_type": "markdown",
      "metadata": {
        "id": "CYUkRs0Hq2yW"
      },
      "source": [
        "P-value значительно больше 0.05. Значит, причин отвергать нулевую гипотезу и считать, что в среднем чеке есть различия, нет. По разнице средних чеков групп различий практически нет."
      ]
    },
    {
      "cell_type": "markdown",
      "metadata": {
        "id": "D1-lfJPxq2yW"
      },
      "source": [
        "### Примите решение по результатам теста и объясните его"
      ]
    },
    {
      "cell_type": "markdown",
      "metadata": {
        "id": "PhgHKSnoq2yW"
      },
      "source": [
        "Варианты решений:\n",
        "\n",
        "1. Остановить тест, зафиксировать победу одной из групп.\n",
        "2. Остановить тест, зафиксировать отсутствие различий между группами.\n",
        "3. Продолжить тест."
      ]
    },
    {
      "cell_type": "markdown",
      "metadata": {
        "id": "U0SwviJEq2yX"
      },
      "source": [
        "1. В части приоритизации гипотез из списка, предоставленных отделом Маркетинга следует в первую очередь обратить внимание на гипотезы:\n",
        "\n",
        "- \"Запустить акцию, дающую скидку на товар в день рождения\",\n",
        "- \"Добавить два новых канала привлечения трафика, что позволит привлекать на 30% больше пользователей\",\n",
        "- \"Добавить форму подписки на все основные страницы, чтобы собрать базу клиентов для email-рассылок\".\n",
        "\n",
        "Если ранжирование гипотез должно включать в себя и охват пользователей интернет-магазина, то места необходимо распределить таким образом:\n",
        "\n",
        "- \"Добавить форму подписки на все основные страницы, чтобы собрать базу клиентов для email-рассылок\",\n",
        "- \"Добавить блоки рекомендаций товаров на сайт интернет магазина, чтобы повысить средний чек заказа\",\n",
        "- \"Добавить два новых канала привлечения трафика, что позволит привлекать на 30% больше пользователей\".\n",
        "2. В части анализа А/В теста:\n",
        "\n",
        "Есть статистически значимое различие по среднему количеству заказов на посетителя между группами как по «сырым», так и по данным после фильтрации аномалий. Среднее группы В выше, чем в A.\n",
        "\n",
        "Нет статистически значимого различия по среднему чеку между группами ни по «сырым», ни по данным после фильтрации аномалий. При этом средний чек группы В выше.\n",
        "\n",
        "График относительного изменения кумулятивной среднего количества заказов группы B к группе A показывает, что результаты группы В стабильно лучше группы А.\n",
        "\n",
        "На основании вышеизложенного рекомендуем остановить тест, зафиксировав победу группы B (ее среднее значительно выше среднего группы А)."
      ]
    },
    {
      "cell_type": "code",
      "execution_count": null,
      "metadata": {
        "id": "Rd9OGkTzq2yX"
      },
      "outputs": [],
      "source": []
    }
  ],
  "metadata": {
    "ExecuteTimeLog": [
      {
        "duration": 1568,
        "start_time": "2023-10-27T06:31:56.387Z"
      },
      {
        "duration": 62,
        "start_time": "2023-10-27T06:33:37.289Z"
      },
      {
        "duration": 42,
        "start_time": "2023-10-27T06:34:44.555Z"
      },
      {
        "duration": 7,
        "start_time": "2023-10-27T06:36:47.924Z"
      },
      {
        "duration": 421,
        "start_time": "2023-10-27T06:37:17.980Z"
      },
      {
        "duration": 35,
        "start_time": "2023-10-27T06:39:17.170Z"
      },
      {
        "duration": 41,
        "start_time": "2023-10-27T06:39:30.745Z"
      },
      {
        "duration": 35,
        "start_time": "2023-10-27T06:39:42.917Z"
      },
      {
        "duration": 38,
        "start_time": "2023-10-27T06:45:53.140Z"
      },
      {
        "duration": 112,
        "start_time": "2023-10-27T06:46:47.876Z"
      },
      {
        "duration": 203,
        "start_time": "2023-10-27T06:46:56.648Z"
      },
      {
        "duration": 62,
        "start_time": "2023-10-27T06:47:00.414Z"
      },
      {
        "duration": 77,
        "start_time": "2023-10-27T06:47:35.034Z"
      },
      {
        "duration": 39,
        "start_time": "2023-10-27T06:47:46.591Z"
      },
      {
        "duration": 3,
        "start_time": "2023-10-27T06:54:21.972Z"
      },
      {
        "duration": 5,
        "start_time": "2023-10-27T06:56:51.637Z"
      },
      {
        "duration": 6,
        "start_time": "2023-10-27T06:57:31.461Z"
      },
      {
        "duration": 5,
        "start_time": "2023-10-27T06:58:09.343Z"
      },
      {
        "duration": 8,
        "start_time": "2023-10-27T06:58:58.586Z"
      },
      {
        "duration": 6,
        "start_time": "2023-10-27T06:59:01.102Z"
      },
      {
        "duration": 5,
        "start_time": "2023-10-27T07:01:44.097Z"
      },
      {
        "duration": 7,
        "start_time": "2023-10-27T07:03:22.145Z"
      },
      {
        "duration": 12,
        "start_time": "2023-10-27T07:07:33.081Z"
      },
      {
        "duration": 17,
        "start_time": "2023-10-27T07:08:09.042Z"
      },
      {
        "duration": 24,
        "start_time": "2023-10-27T07:08:26.589Z"
      },
      {
        "duration": 53,
        "start_time": "2023-10-27T07:08:56.170Z"
      },
      {
        "duration": 4,
        "start_time": "2023-10-27T07:09:09.710Z"
      },
      {
        "duration": 14,
        "start_time": "2023-10-27T07:13:50.177Z"
      },
      {
        "duration": 19,
        "start_time": "2023-10-27T07:14:04.300Z"
      },
      {
        "duration": 46,
        "start_time": "2023-10-27T07:14:23.799Z"
      },
      {
        "duration": 16,
        "start_time": "2023-10-27T07:14:53.539Z"
      },
      {
        "duration": 362,
        "start_time": "2023-10-27T07:15:12.875Z"
      },
      {
        "duration": 13,
        "start_time": "2023-10-27T07:15:42.006Z"
      },
      {
        "duration": 263,
        "start_time": "2023-10-27T07:16:20.955Z"
      },
      {
        "duration": 278,
        "start_time": "2023-10-27T07:18:42.543Z"
      },
      {
        "duration": 12,
        "start_time": "2023-10-27T07:38:51.971Z"
      },
      {
        "duration": 11,
        "start_time": "2023-10-27T07:39:15.719Z"
      },
      {
        "duration": 4,
        "start_time": "2023-10-27T07:39:18.478Z"
      },
      {
        "duration": 10,
        "start_time": "2023-10-27T07:39:38.923Z"
      },
      {
        "duration": 18,
        "start_time": "2023-10-27T07:45:43.672Z"
      },
      {
        "duration": 297,
        "start_time": "2023-10-27T07:46:06.891Z"
      },
      {
        "duration": 305,
        "start_time": "2023-10-27T07:46:55.889Z"
      },
      {
        "duration": 83,
        "start_time": "2023-10-27T07:49:34.506Z"
      },
      {
        "duration": 245,
        "start_time": "2023-10-27T07:54:03.113Z"
      },
      {
        "duration": 378,
        "start_time": "2023-10-27T08:15:28.421Z"
      },
      {
        "duration": 291,
        "start_time": "2023-10-27T08:15:40.539Z"
      },
      {
        "duration": 317,
        "start_time": "2023-10-27T08:15:52.432Z"
      },
      {
        "duration": 247,
        "start_time": "2023-10-27T08:23:06.213Z"
      },
      {
        "duration": 236,
        "start_time": "2023-10-27T08:24:57.954Z"
      },
      {
        "duration": 330,
        "start_time": "2023-10-27T08:28:10.828Z"
      },
      {
        "duration": 133,
        "start_time": "2023-10-27T08:30:59.925Z"
      },
      {
        "duration": 387,
        "start_time": "2023-10-27T08:31:12.885Z"
      },
      {
        "duration": 177,
        "start_time": "2023-10-27T08:31:46.026Z"
      },
      {
        "duration": 5,
        "start_time": "2023-10-27T08:34:02.288Z"
      },
      {
        "duration": 182,
        "start_time": "2023-10-27T08:36:55.491Z"
      },
      {
        "duration": 170,
        "start_time": "2023-10-27T08:37:02.577Z"
      },
      {
        "duration": 5,
        "start_time": "2023-10-27T08:38:02.339Z"
      },
      {
        "duration": 8,
        "start_time": "2023-10-27T08:38:32.178Z"
      },
      {
        "duration": 173,
        "start_time": "2023-10-27T08:39:35.003Z"
      },
      {
        "duration": 6,
        "start_time": "2023-10-27T08:42:07.899Z"
      },
      {
        "duration": 1417,
        "start_time": "2023-10-30T04:39:20.014Z"
      },
      {
        "duration": 79,
        "start_time": "2023-10-30T04:39:21.433Z"
      },
      {
        "duration": 95,
        "start_time": "2023-10-30T04:39:21.513Z"
      },
      {
        "duration": 66,
        "start_time": "2023-10-30T04:39:21.941Z"
      },
      {
        "duration": 5,
        "start_time": "2023-10-30T04:39:23.644Z"
      },
      {
        "duration": 5,
        "start_time": "2023-10-30T04:39:24.174Z"
      },
      {
        "duration": 6,
        "start_time": "2023-10-30T04:39:24.764Z"
      },
      {
        "duration": 6,
        "start_time": "2023-10-30T04:39:26.966Z"
      },
      {
        "duration": 6,
        "start_time": "2023-10-30T04:39:34.170Z"
      },
      {
        "duration": 13,
        "start_time": "2023-10-30T04:39:39.353Z"
      },
      {
        "duration": 278,
        "start_time": "2023-10-30T04:39:39.859Z"
      },
      {
        "duration": 12,
        "start_time": "2023-10-30T04:39:40.817Z"
      },
      {
        "duration": 255,
        "start_time": "2023-10-30T04:39:41.384Z"
      },
      {
        "duration": 9,
        "start_time": "2023-10-30T04:39:43.525Z"
      },
      {
        "duration": 4,
        "start_time": "2023-10-30T04:39:44.031Z"
      },
      {
        "duration": 9,
        "start_time": "2023-10-30T04:39:44.827Z"
      },
      {
        "duration": 294,
        "start_time": "2023-10-30T04:39:46.686Z"
      },
      {
        "duration": 291,
        "start_time": "2023-10-30T04:39:47.364Z"
      },
      {
        "duration": 209,
        "start_time": "2023-10-30T04:39:49.769Z"
      },
      {
        "duration": 343,
        "start_time": "2023-10-30T04:39:51.823Z"
      },
      {
        "duration": 228,
        "start_time": "2023-10-30T04:39:53.473Z"
      },
      {
        "duration": 446,
        "start_time": "2023-10-30T04:39:55.198Z"
      },
      {
        "duration": 377,
        "start_time": "2023-10-30T04:40:26.988Z"
      },
      {
        "duration": 304,
        "start_time": "2023-10-30T04:40:35.311Z"
      },
      {
        "duration": 263,
        "start_time": "2023-10-30T04:41:48.913Z"
      },
      {
        "duration": 219,
        "start_time": "2023-10-30T04:42:09.772Z"
      },
      {
        "duration": 187,
        "start_time": "2023-10-30T04:42:52.811Z"
      },
      {
        "duration": 326,
        "start_time": "2023-10-30T04:43:03.213Z"
      },
      {
        "duration": 233,
        "start_time": "2023-10-30T04:43:17.079Z"
      },
      {
        "duration": 372,
        "start_time": "2023-10-30T04:43:21.902Z"
      },
      {
        "duration": 115,
        "start_time": "2023-10-30T04:43:29.647Z"
      },
      {
        "duration": 290,
        "start_time": "2023-10-30T04:43:37.011Z"
      },
      {
        "duration": 5,
        "start_time": "2023-10-30T04:43:47.783Z"
      },
      {
        "duration": 159,
        "start_time": "2023-10-30T04:43:50.473Z"
      },
      {
        "duration": 8,
        "start_time": "2023-10-30T04:43:54.601Z"
      },
      {
        "duration": 170,
        "start_time": "2023-10-30T04:44:00.287Z"
      },
      {
        "duration": 5,
        "start_time": "2023-10-30T04:44:03.969Z"
      },
      {
        "duration": 218,
        "start_time": "2023-10-30T04:55:31.609Z"
      },
      {
        "duration": 91,
        "start_time": "2023-10-30T04:56:00.270Z"
      },
      {
        "duration": 214,
        "start_time": "2023-10-30T04:56:48.745Z"
      },
      {
        "duration": 16,
        "start_time": "2023-10-30T04:59:13.174Z"
      },
      {
        "duration": 132,
        "start_time": "2023-10-30T04:59:50.407Z"
      },
      {
        "duration": 6,
        "start_time": "2023-10-30T05:00:35.283Z"
      },
      {
        "duration": 3,
        "start_time": "2023-10-30T05:01:25.806Z"
      },
      {
        "duration": 13,
        "start_time": "2023-10-30T05:01:45.805Z"
      },
      {
        "duration": 4,
        "start_time": "2023-10-30T05:03:12.637Z"
      },
      {
        "duration": 12,
        "start_time": "2023-10-30T05:03:14.476Z"
      },
      {
        "duration": 3,
        "start_time": "2023-10-30T05:04:14.669Z"
      },
      {
        "duration": 26,
        "start_time": "2023-10-30T05:04:15.261Z"
      },
      {
        "duration": 8,
        "start_time": "2023-10-30T05:06:40.145Z"
      },
      {
        "duration": 11,
        "start_time": "2023-10-30T05:09:12.580Z"
      },
      {
        "duration": 11,
        "start_time": "2023-10-30T05:10:25.233Z"
      },
      {
        "duration": 10,
        "start_time": "2023-10-30T05:11:15.112Z"
      },
      {
        "duration": 11,
        "start_time": "2023-10-30T05:17:18.319Z"
      },
      {
        "duration": 118,
        "start_time": "2023-10-30T05:17:24.402Z"
      },
      {
        "duration": 7,
        "start_time": "2023-10-30T05:17:25.510Z"
      },
      {
        "duration": 4,
        "start_time": "2023-10-30T05:17:30.458Z"
      },
      {
        "duration": 26,
        "start_time": "2023-10-30T05:17:30.967Z"
      },
      {
        "duration": 9,
        "start_time": "2023-10-30T05:17:34.374Z"
      },
      {
        "duration": 1358,
        "start_time": "2023-10-30T05:17:36.503Z"
      },
      {
        "duration": 9,
        "start_time": "2023-10-30T05:19:19.295Z"
      },
      {
        "duration": 1503,
        "start_time": "2023-10-30T05:19:28.051Z"
      },
      {
        "duration": 16,
        "start_time": "2023-10-30T05:19:46.329Z"
      },
      {
        "duration": 11,
        "start_time": "2023-10-30T05:20:43.645Z"
      },
      {
        "duration": 4,
        "start_time": "2023-10-30T05:20:48.949Z"
      },
      {
        "duration": 8,
        "start_time": "2023-10-30T05:22:21.143Z"
      },
      {
        "duration": 27,
        "start_time": "2023-10-30T05:22:36.064Z"
      },
      {
        "duration": 9,
        "start_time": "2023-10-30T05:24:44.714Z"
      },
      {
        "duration": 1366,
        "start_time": "2023-10-30T05:57:53.353Z"
      },
      {
        "duration": 89,
        "start_time": "2023-10-30T05:57:54.721Z"
      },
      {
        "duration": 92,
        "start_time": "2023-10-30T05:57:54.812Z"
      },
      {
        "duration": 63,
        "start_time": "2023-10-30T05:57:54.906Z"
      },
      {
        "duration": 4,
        "start_time": "2023-10-30T05:57:54.971Z"
      },
      {
        "duration": 8,
        "start_time": "2023-10-30T05:57:54.976Z"
      },
      {
        "duration": 10,
        "start_time": "2023-10-30T05:57:54.985Z"
      },
      {
        "duration": 6,
        "start_time": "2023-10-30T05:57:54.996Z"
      },
      {
        "duration": 6,
        "start_time": "2023-10-30T05:57:55.004Z"
      },
      {
        "duration": 18,
        "start_time": "2023-10-30T05:57:55.012Z"
      },
      {
        "duration": 278,
        "start_time": "2023-10-30T05:57:55.032Z"
      },
      {
        "duration": 11,
        "start_time": "2023-10-30T05:57:55.311Z"
      },
      {
        "duration": 282,
        "start_time": "2023-10-30T05:57:55.323Z"
      },
      {
        "duration": 13,
        "start_time": "2023-10-30T05:57:55.609Z"
      },
      {
        "duration": 26,
        "start_time": "2023-10-30T05:57:55.624Z"
      },
      {
        "duration": 10,
        "start_time": "2023-10-30T05:57:55.653Z"
      },
      {
        "duration": 267,
        "start_time": "2023-10-30T05:57:55.664Z"
      },
      {
        "duration": 284,
        "start_time": "2023-10-30T05:57:55.933Z"
      },
      {
        "duration": 240,
        "start_time": "2023-10-30T05:57:56.219Z"
      },
      {
        "duration": 320,
        "start_time": "2023-10-30T05:57:56.460Z"
      },
      {
        "duration": 217,
        "start_time": "2023-10-30T05:57:56.782Z"
      },
      {
        "duration": 386,
        "start_time": "2023-10-30T05:57:57.000Z"
      },
      {
        "duration": 126,
        "start_time": "2023-10-30T05:57:57.387Z"
      },
      {
        "duration": 313,
        "start_time": "2023-10-30T05:57:57.514Z"
      },
      {
        "duration": 24,
        "start_time": "2023-10-30T05:57:57.828Z"
      },
      {
        "duration": 155,
        "start_time": "2023-10-30T05:57:57.853Z"
      },
      {
        "duration": 7,
        "start_time": "2023-10-30T05:57:58.009Z"
      },
      {
        "duration": 167,
        "start_time": "2023-10-30T05:57:58.018Z"
      },
      {
        "duration": 5,
        "start_time": "2023-10-30T05:57:58.186Z"
      },
      {
        "duration": 227,
        "start_time": "2023-10-30T05:57:58.192Z"
      },
      {
        "duration": 146,
        "start_time": "2023-10-30T05:57:58.420Z"
      },
      {
        "duration": 106,
        "start_time": "2023-10-30T05:57:58.568Z"
      },
      {
        "duration": 0,
        "start_time": "2023-10-30T05:57:58.675Z"
      },
      {
        "duration": 0,
        "start_time": "2023-10-30T05:57:58.677Z"
      },
      {
        "duration": 0,
        "start_time": "2023-10-30T05:57:58.678Z"
      },
      {
        "duration": 0,
        "start_time": "2023-10-30T05:57:58.679Z"
      },
      {
        "duration": 0,
        "start_time": "2023-10-30T05:57:58.680Z"
      },
      {
        "duration": 0,
        "start_time": "2023-10-30T05:57:58.680Z"
      },
      {
        "duration": 0,
        "start_time": "2023-10-30T05:57:58.681Z"
      },
      {
        "duration": 0,
        "start_time": "2023-10-30T05:57:58.683Z"
      },
      {
        "duration": 9,
        "start_time": "2023-10-30T06:07:54.818Z"
      },
      {
        "duration": 1412,
        "start_time": "2023-10-31T04:35:40.722Z"
      },
      {
        "duration": 77,
        "start_time": "2023-10-31T04:35:42.136Z"
      },
      {
        "duration": 92,
        "start_time": "2023-10-31T04:35:42.215Z"
      },
      {
        "duration": 64,
        "start_time": "2023-10-31T04:35:42.623Z"
      },
      {
        "duration": 5,
        "start_time": "2023-10-31T04:35:44.375Z"
      },
      {
        "duration": 5,
        "start_time": "2023-10-31T04:35:44.806Z"
      },
      {
        "duration": 5,
        "start_time": "2023-10-31T04:35:45.296Z"
      },
      {
        "duration": 5,
        "start_time": "2023-10-31T04:35:45.772Z"
      },
      {
        "duration": 7,
        "start_time": "2023-10-31T04:35:46.399Z"
      },
      {
        "duration": 12,
        "start_time": "2023-10-31T04:35:49.571Z"
      },
      {
        "duration": 104,
        "start_time": "2023-10-31T04:37:10.770Z"
      },
      {
        "duration": 10,
        "start_time": "2023-10-31T04:37:26.808Z"
      },
      {
        "duration": 14,
        "start_time": "2023-10-31T04:40:24.069Z"
      },
      {
        "duration": 5,
        "start_time": "2023-10-31T04:42:24.248Z"
      },
      {
        "duration": 12,
        "start_time": "2023-10-31T04:45:21.292Z"
      },
      {
        "duration": 18,
        "start_time": "2023-10-31T04:46:39.076Z"
      },
      {
        "duration": 20,
        "start_time": "2023-10-31T04:46:46.578Z"
      },
      {
        "duration": 298,
        "start_time": "2023-10-31T04:51:31.357Z"
      },
      {
        "duration": 12,
        "start_time": "2023-10-31T04:51:32.934Z"
      },
      {
        "duration": 360,
        "start_time": "2023-10-31T04:51:34.544Z"
      },
      {
        "duration": 80,
        "start_time": "2023-10-31T04:51:41.942Z"
      },
      {
        "duration": 1258,
        "start_time": "2023-10-31T04:51:48.660Z"
      },
      {
        "duration": 1429,
        "start_time": "2023-10-31T04:52:24.876Z"
      },
      {
        "duration": 13,
        "start_time": "2023-10-31T04:52:35.209Z"
      },
      {
        "duration": 303,
        "start_time": "2023-10-31T04:55:35.471Z"
      },
      {
        "duration": 304,
        "start_time": "2023-10-31T04:56:05.231Z"
      },
      {
        "duration": 290,
        "start_time": "2023-10-31T04:56:49.638Z"
      },
      {
        "duration": 290,
        "start_time": "2023-10-31T04:57:27.884Z"
      },
      {
        "duration": 300,
        "start_time": "2023-10-31T04:57:40.435Z"
      },
      {
        "duration": 359,
        "start_time": "2023-10-31T05:11:58.297Z"
      },
      {
        "duration": 305,
        "start_time": "2023-10-31T05:14:45.003Z"
      },
      {
        "duration": 14,
        "start_time": "2023-10-31T05:15:08.893Z"
      },
      {
        "duration": 296,
        "start_time": "2023-10-31T05:16:13.550Z"
      },
      {
        "duration": 334,
        "start_time": "2023-10-31T05:17:24.600Z"
      },
      {
        "duration": 483,
        "start_time": "2023-10-31T05:18:05.179Z"
      },
      {
        "duration": 216,
        "start_time": "2023-10-31T05:18:10.727Z"
      },
      {
        "duration": 224,
        "start_time": "2023-10-31T05:18:14.252Z"
      },
      {
        "duration": 382,
        "start_time": "2023-10-31T05:18:27.890Z"
      },
      {
        "duration": 241,
        "start_time": "2023-10-31T05:19:53.378Z"
      },
      {
        "duration": 247,
        "start_time": "2023-10-31T05:20:18.306Z"
      },
      {
        "duration": 238,
        "start_time": "2023-10-31T05:20:39.447Z"
      },
      {
        "duration": 245,
        "start_time": "2023-10-31T05:20:58.023Z"
      },
      {
        "duration": 365,
        "start_time": "2023-10-31T05:22:39.442Z"
      },
      {
        "duration": 361,
        "start_time": "2023-10-31T05:22:49.509Z"
      },
      {
        "duration": 175,
        "start_time": "2023-10-31T05:23:38.601Z"
      },
      {
        "duration": 286,
        "start_time": "2023-10-31T05:23:46.318Z"
      },
      {
        "duration": 5,
        "start_time": "2023-10-31T05:23:59.585Z"
      },
      {
        "duration": 266,
        "start_time": "2023-10-31T05:24:02.325Z"
      },
      {
        "duration": 168,
        "start_time": "2023-10-31T05:24:05.613Z"
      },
      {
        "duration": 8,
        "start_time": "2023-10-31T05:24:08.000Z"
      },
      {
        "duration": 184,
        "start_time": "2023-10-31T05:24:16.934Z"
      },
      {
        "duration": 6,
        "start_time": "2023-10-31T05:24:20.946Z"
      },
      {
        "duration": 232,
        "start_time": "2023-10-31T05:24:52.832Z"
      },
      {
        "duration": 145,
        "start_time": "2023-10-31T05:24:53.902Z"
      },
      {
        "duration": 13,
        "start_time": "2023-10-31T05:24:54.906Z"
      },
      {
        "duration": 6,
        "start_time": "2023-10-31T05:25:05.044Z"
      },
      {
        "duration": 218,
        "start_time": "2023-10-31T05:27:06.630Z"
      },
      {
        "duration": 135,
        "start_time": "2023-10-31T05:27:07.881Z"
      },
      {
        "duration": 6,
        "start_time": "2023-10-31T05:27:09.172Z"
      },
      {
        "duration": 4,
        "start_time": "2023-10-31T05:28:55.658Z"
      },
      {
        "duration": 27,
        "start_time": "2023-10-31T05:28:56.270Z"
      },
      {
        "duration": 9,
        "start_time": "2023-10-31T05:29:45.311Z"
      },
      {
        "duration": 12,
        "start_time": "2023-10-31T05:30:15.333Z"
      },
      {
        "duration": 14,
        "start_time": "2023-10-31T05:30:47.086Z"
      },
      {
        "duration": 5,
        "start_time": "2023-10-31T05:31:05.537Z"
      },
      {
        "duration": 9,
        "start_time": "2023-10-31T05:31:07.496Z"
      },
      {
        "duration": 25,
        "start_time": "2023-10-31T05:31:10.798Z"
      },
      {
        "duration": 14,
        "start_time": "2023-10-31T05:34:49.793Z"
      },
      {
        "duration": 5,
        "start_time": "2023-10-31T05:34:53.848Z"
      },
      {
        "duration": 8,
        "start_time": "2023-10-31T05:34:54.477Z"
      },
      {
        "duration": 25,
        "start_time": "2023-10-31T05:34:59.209Z"
      },
      {
        "duration": 25,
        "start_time": "2023-10-31T05:35:20.149Z"
      },
      {
        "duration": 15,
        "start_time": "2023-10-31T05:36:43.711Z"
      },
      {
        "duration": 5,
        "start_time": "2023-10-31T05:36:45.396Z"
      },
      {
        "duration": 8,
        "start_time": "2023-10-31T05:36:45.951Z"
      },
      {
        "duration": 37,
        "start_time": "2023-10-31T05:36:46.903Z"
      },
      {
        "duration": 10,
        "start_time": "2023-10-31T05:41:43.821Z"
      },
      {
        "duration": 1332,
        "start_time": "2023-10-31T05:46:14.279Z"
      },
      {
        "duration": 43,
        "start_time": "2023-10-31T05:46:15.614Z"
      },
      {
        "duration": 49,
        "start_time": "2023-10-31T05:46:15.659Z"
      },
      {
        "duration": 27,
        "start_time": "2023-10-31T05:46:15.977Z"
      },
      {
        "duration": 5,
        "start_time": "2023-10-31T05:46:17.713Z"
      },
      {
        "duration": 6,
        "start_time": "2023-10-31T05:46:18.186Z"
      },
      {
        "duration": 6,
        "start_time": "2023-10-31T05:46:18.806Z"
      },
      {
        "duration": 5,
        "start_time": "2023-10-31T05:46:19.327Z"
      },
      {
        "duration": 7,
        "start_time": "2023-10-31T05:46:19.884Z"
      },
      {
        "duration": 14,
        "start_time": "2023-10-31T05:46:22.889Z"
      },
      {
        "duration": 303,
        "start_time": "2023-10-31T05:46:25.310Z"
      },
      {
        "duration": 14,
        "start_time": "2023-10-31T05:46:26.834Z"
      },
      {
        "duration": 280,
        "start_time": "2023-10-31T05:46:28.235Z"
      },
      {
        "duration": 16,
        "start_time": "2023-10-31T05:46:44.130Z"
      },
      {
        "duration": 16,
        "start_time": "2023-10-31T05:46:48.107Z"
      },
      {
        "duration": 295,
        "start_time": "2023-10-31T05:46:48.786Z"
      },
      {
        "duration": 322,
        "start_time": "2023-10-31T05:46:50.463Z"
      },
      {
        "duration": 302,
        "start_time": "2023-10-31T05:46:54.543Z"
      },
      {
        "duration": 347,
        "start_time": "2023-10-31T05:46:58.112Z"
      },
      {
        "duration": 251,
        "start_time": "2023-10-31T05:47:01.316Z"
      },
      {
        "duration": 427,
        "start_time": "2023-10-31T05:47:06.046Z"
      },
      {
        "duration": 143,
        "start_time": "2023-10-31T05:47:09.928Z"
      },
      {
        "duration": 298,
        "start_time": "2023-10-31T05:47:11.040Z"
      },
      {
        "duration": 6,
        "start_time": "2023-10-31T05:47:13.980Z"
      },
      {
        "duration": 163,
        "start_time": "2023-10-31T05:47:16.556Z"
      },
      {
        "duration": 9,
        "start_time": "2023-10-31T05:47:17.949Z"
      },
      {
        "duration": 188,
        "start_time": "2023-10-31T05:47:19.242Z"
      },
      {
        "duration": 6,
        "start_time": "2023-10-31T05:47:22.001Z"
      },
      {
        "duration": 212,
        "start_time": "2023-10-31T05:47:25.620Z"
      },
      {
        "duration": 136,
        "start_time": "2023-10-31T05:47:26.650Z"
      },
      {
        "duration": 9,
        "start_time": "2023-10-31T05:47:28.076Z"
      },
      {
        "duration": 4,
        "start_time": "2023-10-31T05:47:42.145Z"
      },
      {
        "duration": 25,
        "start_time": "2023-10-31T05:47:42.658Z"
      },
      {
        "duration": 11,
        "start_time": "2023-10-31T05:47:44.587Z"
      },
      {
        "duration": 13,
        "start_time": "2023-10-31T05:47:46.768Z"
      },
      {
        "duration": 5,
        "start_time": "2023-10-31T05:47:48.434Z"
      },
      {
        "duration": 8,
        "start_time": "2023-10-31T05:47:49.000Z"
      },
      {
        "duration": 25,
        "start_time": "2023-10-31T05:47:49.608Z"
      },
      {
        "duration": 9,
        "start_time": "2023-10-31T05:47:53.105Z"
      },
      {
        "duration": 1494,
        "start_time": "2023-10-31T06:12:54.472Z"
      },
      {
        "duration": 77,
        "start_time": "2023-10-31T06:12:55.968Z"
      },
      {
        "duration": 95,
        "start_time": "2023-10-31T06:12:56.047Z"
      },
      {
        "duration": 71,
        "start_time": "2023-10-31T06:12:56.144Z"
      },
      {
        "duration": 6,
        "start_time": "2023-10-31T06:12:56.216Z"
      },
      {
        "duration": 11,
        "start_time": "2023-10-31T06:12:56.223Z"
      },
      {
        "duration": 9,
        "start_time": "2023-10-31T06:12:56.236Z"
      },
      {
        "duration": 7,
        "start_time": "2023-10-31T06:12:56.247Z"
      },
      {
        "duration": 7,
        "start_time": "2023-10-31T06:12:56.256Z"
      },
      {
        "duration": 15,
        "start_time": "2023-10-31T06:12:56.267Z"
      },
      {
        "duration": 328,
        "start_time": "2023-10-31T06:12:56.285Z"
      },
      {
        "duration": 16,
        "start_time": "2023-10-31T06:12:56.615Z"
      },
      {
        "duration": 281,
        "start_time": "2023-10-31T06:12:56.644Z"
      },
      {
        "duration": 23,
        "start_time": "2023-10-31T06:12:56.928Z"
      },
      {
        "duration": 19,
        "start_time": "2023-10-31T06:12:56.953Z"
      },
      {
        "duration": 347,
        "start_time": "2023-10-31T06:12:56.974Z"
      },
      {
        "duration": 309,
        "start_time": "2023-10-31T06:12:57.324Z"
      },
      {
        "duration": 239,
        "start_time": "2023-10-31T06:12:57.643Z"
      },
      {
        "duration": 376,
        "start_time": "2023-10-31T06:12:57.884Z"
      },
      {
        "duration": 248,
        "start_time": "2023-10-31T06:12:58.262Z"
      },
      {
        "duration": 431,
        "start_time": "2023-10-31T06:12:58.512Z"
      },
      {
        "duration": 149,
        "start_time": "2023-10-31T06:12:58.945Z"
      },
      {
        "duration": 325,
        "start_time": "2023-10-31T06:12:59.097Z"
      },
      {
        "duration": 5,
        "start_time": "2023-10-31T06:12:59.424Z"
      },
      {
        "duration": 208,
        "start_time": "2023-10-31T06:12:59.445Z"
      },
      {
        "duration": 9,
        "start_time": "2023-10-31T06:12:59.655Z"
      },
      {
        "duration": 229,
        "start_time": "2023-10-31T06:12:59.666Z"
      },
      {
        "duration": 6,
        "start_time": "2023-10-31T06:12:59.900Z"
      },
      {
        "duration": 237,
        "start_time": "2023-10-31T06:12:59.908Z"
      },
      {
        "duration": 155,
        "start_time": "2023-10-31T06:13:00.147Z"
      },
      {
        "duration": 8,
        "start_time": "2023-10-31T06:13:00.304Z"
      },
      {
        "duration": 37,
        "start_time": "2023-10-31T06:13:00.314Z"
      },
      {
        "duration": 100,
        "start_time": "2023-10-31T06:13:00.354Z"
      },
      {
        "duration": 64,
        "start_time": "2023-10-31T06:13:00.456Z"
      },
      {
        "duration": 82,
        "start_time": "2023-10-31T06:13:00.522Z"
      },
      {
        "duration": 55,
        "start_time": "2023-10-31T06:13:00.606Z"
      },
      {
        "duration": 47,
        "start_time": "2023-10-31T06:13:00.663Z"
      },
      {
        "duration": 125,
        "start_time": "2023-10-31T06:13:00.712Z"
      },
      {
        "duration": 30,
        "start_time": "2023-10-31T06:13:00.839Z"
      },
      {
        "duration": 45,
        "start_time": "2023-10-31T08:30:31.204Z"
      },
      {
        "duration": 1324,
        "start_time": "2023-10-31T08:30:44.158Z"
      },
      {
        "duration": 77,
        "start_time": "2023-10-31T08:30:45.483Z"
      },
      {
        "duration": 93,
        "start_time": "2023-10-31T08:30:45.561Z"
      },
      {
        "duration": 62,
        "start_time": "2023-10-31T08:30:45.736Z"
      },
      {
        "duration": 4,
        "start_time": "2023-10-31T08:30:47.365Z"
      },
      {
        "duration": 4,
        "start_time": "2023-10-31T08:30:47.766Z"
      },
      {
        "duration": 4,
        "start_time": "2023-10-31T08:30:48.170Z"
      },
      {
        "duration": 5,
        "start_time": "2023-10-31T08:30:48.572Z"
      },
      {
        "duration": 6,
        "start_time": "2023-10-31T08:30:48.984Z"
      },
      {
        "duration": 12,
        "start_time": "2023-10-31T08:30:51.111Z"
      },
      {
        "duration": 253,
        "start_time": "2023-10-31T08:30:52.756Z"
      },
      {
        "duration": 17,
        "start_time": "2023-10-31T08:30:53.602Z"
      },
      {
        "duration": 231,
        "start_time": "2023-10-31T08:30:54.504Z"
      },
      {
        "duration": 10,
        "start_time": "2023-10-31T08:30:57.708Z"
      },
      {
        "duration": 13,
        "start_time": "2023-10-31T08:31:01.295Z"
      },
      {
        "duration": 255,
        "start_time": "2023-10-31T08:31:01.751Z"
      },
      {
        "duration": 265,
        "start_time": "2023-10-31T08:31:03.833Z"
      },
      {
        "duration": 196,
        "start_time": "2023-10-31T08:31:07.846Z"
      },
      {
        "duration": 358,
        "start_time": "2023-10-31T08:31:11.039Z"
      },
      {
        "duration": 216,
        "start_time": "2023-10-31T08:31:14.487Z"
      },
      {
        "duration": 356,
        "start_time": "2023-10-31T08:33:37.125Z"
      },
      {
        "duration": 316,
        "start_time": "2023-10-31T08:33:47.802Z"
      },
      {
        "duration": 128,
        "start_time": "2023-10-31T08:40:01.245Z"
      },
      {
        "duration": 257,
        "start_time": "2023-10-31T08:40:01.750Z"
      },
      {
        "duration": 5,
        "start_time": "2023-10-31T08:40:04.420Z"
      },
      {
        "duration": 151,
        "start_time": "2023-10-31T08:40:06.506Z"
      },
      {
        "duration": 7,
        "start_time": "2023-10-31T08:40:07.612Z"
      },
      {
        "duration": 172,
        "start_time": "2023-10-31T08:40:08.625Z"
      },
      {
        "duration": 5,
        "start_time": "2023-10-31T08:40:10.781Z"
      },
      {
        "duration": 62,
        "start_time": "2023-10-31T08:50:48.894Z"
      },
      {
        "duration": 9,
        "start_time": "2023-10-31T08:50:53.837Z"
      },
      {
        "duration": 1208,
        "start_time": "2023-10-31T09:06:04.532Z"
      },
      {
        "duration": 45,
        "start_time": "2023-10-31T09:06:05.743Z"
      },
      {
        "duration": 53,
        "start_time": "2023-10-31T09:06:05.801Z"
      },
      {
        "duration": 25,
        "start_time": "2023-10-31T09:06:06.219Z"
      },
      {
        "duration": 4,
        "start_time": "2023-10-31T09:06:08.116Z"
      },
      {
        "duration": 5,
        "start_time": "2023-10-31T09:06:08.674Z"
      },
      {
        "duration": 6,
        "start_time": "2023-10-31T09:06:09.343Z"
      },
      {
        "duration": 6,
        "start_time": "2023-10-31T09:06:10.757Z"
      },
      {
        "duration": 16,
        "start_time": "2023-10-31T09:06:11.167Z"
      },
      {
        "duration": 13,
        "start_time": "2023-10-31T09:06:13.419Z"
      },
      {
        "duration": 290,
        "start_time": "2023-10-31T09:06:15.683Z"
      },
      {
        "duration": 11,
        "start_time": "2023-10-31T09:06:17.414Z"
      },
      {
        "duration": 235,
        "start_time": "2023-10-31T09:06:19.104Z"
      },
      {
        "duration": 10,
        "start_time": "2023-10-31T09:06:26.805Z"
      },
      {
        "duration": 147,
        "start_time": "2023-10-31T09:11:21.481Z"
      },
      {
        "duration": 51,
        "start_time": "2023-10-31T09:11:35.837Z"
      },
      {
        "duration": 299,
        "start_time": "2023-10-31T09:15:17.250Z"
      },
      {
        "duration": 303,
        "start_time": "2023-10-31T09:15:19.520Z"
      },
      {
        "duration": 222,
        "start_time": "2023-10-31T09:15:28.250Z"
      },
      {
        "duration": 313,
        "start_time": "2023-10-31T09:15:34.973Z"
      },
      {
        "duration": 231,
        "start_time": "2023-10-31T09:15:39.657Z"
      },
      {
        "duration": 383,
        "start_time": "2023-10-31T09:17:19.214Z"
      },
      {
        "duration": 160,
        "start_time": "2023-10-31T09:18:05.226Z"
      },
      {
        "duration": 295,
        "start_time": "2023-10-31T09:18:07.167Z"
      },
      {
        "duration": 4,
        "start_time": "2023-10-31T09:18:11.678Z"
      },
      {
        "duration": 157,
        "start_time": "2023-10-31T09:18:15.500Z"
      },
      {
        "duration": 7,
        "start_time": "2023-10-31T09:18:16.503Z"
      },
      {
        "duration": 201,
        "start_time": "2023-10-31T09:18:17.480Z"
      },
      {
        "duration": 4,
        "start_time": "2023-10-31T09:18:19.710Z"
      },
      {
        "duration": 47,
        "start_time": "2023-10-31T09:21:49.276Z"
      },
      {
        "duration": 39,
        "start_time": "2023-10-31T09:22:11.059Z"
      },
      {
        "duration": 150,
        "start_time": "2023-10-31T09:23:06.946Z"
      },
      {
        "duration": 6,
        "start_time": "2023-10-31T09:23:08.516Z"
      },
      {
        "duration": 3,
        "start_time": "2023-10-31T09:23:11.481Z"
      },
      {
        "duration": 21,
        "start_time": "2023-10-31T09:23:12.163Z"
      },
      {
        "duration": 8,
        "start_time": "2023-10-31T09:23:16.107Z"
      },
      {
        "duration": 14,
        "start_time": "2023-10-31T09:23:22.520Z"
      },
      {
        "duration": 4,
        "start_time": "2023-10-31T09:23:25.708Z"
      },
      {
        "duration": 7,
        "start_time": "2023-10-31T09:23:26.309Z"
      },
      {
        "duration": 21,
        "start_time": "2023-10-31T09:23:28.057Z"
      },
      {
        "duration": 10,
        "start_time": "2023-10-31T09:23:37.558Z"
      },
      {
        "duration": 80,
        "start_time": "2023-10-31T09:27:32.357Z"
      },
      {
        "duration": 7,
        "start_time": "2023-10-31T09:29:05.284Z"
      },
      {
        "duration": 23,
        "start_time": "2023-10-31T09:30:03.930Z"
      },
      {
        "duration": 148,
        "start_time": "2023-10-31T09:30:23.853Z"
      },
      {
        "duration": 101,
        "start_time": "2023-10-31T09:30:44.265Z"
      },
      {
        "duration": 261,
        "start_time": "2023-10-31T09:30:54.323Z"
      },
      {
        "duration": 161,
        "start_time": "2023-10-31T09:31:15.533Z"
      },
      {
        "duration": 151,
        "start_time": "2023-10-31T09:35:35.424Z"
      },
      {
        "duration": 104,
        "start_time": "2023-10-31T09:35:41.182Z"
      },
      {
        "duration": 1561,
        "start_time": "2023-10-31T14:21:12.131Z"
      },
      {
        "duration": 95,
        "start_time": "2023-10-31T14:21:13.694Z"
      },
      {
        "duration": 100,
        "start_time": "2023-10-31T14:21:13.791Z"
      },
      {
        "duration": 68,
        "start_time": "2023-10-31T14:21:13.894Z"
      },
      {
        "duration": 4,
        "start_time": "2023-10-31T14:21:15.036Z"
      },
      {
        "duration": 5,
        "start_time": "2023-10-31T14:21:15.422Z"
      },
      {
        "duration": 5,
        "start_time": "2023-10-31T14:21:15.795Z"
      },
      {
        "duration": 5,
        "start_time": "2023-10-31T14:21:16.155Z"
      },
      {
        "duration": 7,
        "start_time": "2023-10-31T14:21:16.514Z"
      },
      {
        "duration": 20,
        "start_time": "2023-10-31T14:21:18.311Z"
      },
      {
        "duration": 308,
        "start_time": "2023-10-31T14:21:19.815Z"
      },
      {
        "duration": 15,
        "start_time": "2023-10-31T14:21:20.550Z"
      },
      {
        "duration": 275,
        "start_time": "2023-10-31T14:21:21.342Z"
      },
      {
        "duration": 13,
        "start_time": "2023-10-31T14:21:25.771Z"
      },
      {
        "duration": 180,
        "start_time": "2023-10-31T14:21:30.671Z"
      },
      {
        "duration": 148,
        "start_time": "2023-10-31T14:21:32.466Z"
      },
      {
        "duration": 293,
        "start_time": "2023-10-31T14:21:35.145Z"
      },
      {
        "duration": 125,
        "start_time": "2023-10-31T14:23:59.701Z"
      },
      {
        "duration": 109,
        "start_time": "2023-10-31T14:24:04.060Z"
      },
      {
        "duration": 5,
        "start_time": "2023-10-31T14:24:17.008Z"
      },
      {
        "duration": 4,
        "start_time": "2023-10-31T14:27:39.643Z"
      },
      {
        "duration": 4,
        "start_time": "2023-10-31T14:27:55.083Z"
      },
      {
        "duration": 4,
        "start_time": "2023-10-31T14:29:42.761Z"
      },
      {
        "duration": 1554,
        "start_time": "2023-10-31T14:53:05.293Z"
      },
      {
        "duration": 80,
        "start_time": "2023-10-31T14:53:06.849Z"
      },
      {
        "duration": 99,
        "start_time": "2023-10-31T14:53:06.932Z"
      },
      {
        "duration": 66,
        "start_time": "2023-10-31T14:53:07.034Z"
      },
      {
        "duration": 6,
        "start_time": "2023-10-31T14:53:07.102Z"
      },
      {
        "duration": 37,
        "start_time": "2023-10-31T14:53:07.110Z"
      },
      {
        "duration": 10,
        "start_time": "2023-10-31T14:53:07.149Z"
      },
      {
        "duration": 18,
        "start_time": "2023-10-31T14:53:07.160Z"
      },
      {
        "duration": 32,
        "start_time": "2023-10-31T14:53:07.179Z"
      },
      {
        "duration": 39,
        "start_time": "2023-10-31T14:53:07.215Z"
      },
      {
        "duration": 329,
        "start_time": "2023-10-31T14:53:07.256Z"
      },
      {
        "duration": 23,
        "start_time": "2023-10-31T14:53:07.587Z"
      },
      {
        "duration": 324,
        "start_time": "2023-10-31T14:53:07.612Z"
      },
      {
        "duration": 15,
        "start_time": "2023-10-31T14:53:07.938Z"
      },
      {
        "duration": 346,
        "start_time": "2023-10-31T14:53:07.955Z"
      },
      {
        "duration": 5,
        "start_time": "2023-10-31T14:53:08.303Z"
      },
      {
        "duration": 355,
        "start_time": "2023-10-31T14:53:08.310Z"
      },
      {
        "duration": 251,
        "start_time": "2023-10-31T14:53:08.667Z"
      },
      {
        "duration": 369,
        "start_time": "2023-10-31T14:53:08.920Z"
      },
      {
        "duration": 277,
        "start_time": "2023-10-31T14:53:09.291Z"
      },
      {
        "duration": 475,
        "start_time": "2023-10-31T14:53:09.570Z"
      },
      {
        "duration": 155,
        "start_time": "2023-10-31T14:53:10.047Z"
      },
      {
        "duration": 313,
        "start_time": "2023-10-31T14:53:10.204Z"
      },
      {
        "duration": 5,
        "start_time": "2023-10-31T14:53:10.519Z"
      },
      {
        "duration": 189,
        "start_time": "2023-10-31T14:53:10.526Z"
      },
      {
        "duration": 9,
        "start_time": "2023-10-31T14:53:10.717Z"
      },
      {
        "duration": 210,
        "start_time": "2023-10-31T14:53:10.728Z"
      },
      {
        "duration": 5,
        "start_time": "2023-10-31T14:53:10.943Z"
      },
      {
        "duration": 49,
        "start_time": "2023-10-31T14:53:10.950Z"
      },
      {
        "duration": 135,
        "start_time": "2023-10-31T14:53:11.002Z"
      },
      {
        "duration": 8,
        "start_time": "2023-10-31T14:53:11.139Z"
      },
      {
        "duration": 6,
        "start_time": "2023-10-31T14:53:11.148Z"
      },
      {
        "duration": 45,
        "start_time": "2023-10-31T14:53:11.156Z"
      },
      {
        "duration": 9,
        "start_time": "2023-10-31T14:53:11.203Z"
      },
      {
        "duration": 12,
        "start_time": "2023-10-31T14:53:11.214Z"
      },
      {
        "duration": 4,
        "start_time": "2023-10-31T14:53:11.228Z"
      },
      {
        "duration": 9,
        "start_time": "2023-10-31T14:53:11.233Z"
      },
      {
        "duration": 63,
        "start_time": "2023-10-31T14:53:11.243Z"
      },
      {
        "duration": 11,
        "start_time": "2023-10-31T14:53:11.307Z"
      }
    ],
    "kernelspec": {
      "display_name": "Python 3 (ipykernel)",
      "language": "python",
      "name": "python3"
    },
    "language_info": {
      "codemirror_mode": {
        "name": "ipython",
        "version": 3
      },
      "file_extension": ".py",
      "mimetype": "text/x-python",
      "name": "python",
      "nbconvert_exporter": "python",
      "pygments_lexer": "ipython3",
      "version": "3.9.5"
    },
    "toc": {
      "base_numbering": 1,
      "nav_menu": {},
      "number_sections": true,
      "sideBar": true,
      "skip_h1_title": true,
      "title_cell": "Table of Contents",
      "title_sidebar": "Contents",
      "toc_cell": false,
      "toc_position": {},
      "toc_section_display": true,
      "toc_window_display": false
    },
    "colab": {
      "provenance": []
    }
  },
  "nbformat": 4,
  "nbformat_minor": 0
}