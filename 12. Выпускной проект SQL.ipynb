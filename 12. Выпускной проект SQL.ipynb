{
  "cells": [
    {
      "cell_type": "markdown",
      "metadata": {
        "id": "ZB1yIgtfoSJs"
      },
      "source": [
        "# Проект по SQL\n",
        "# Описание проекта\n",
        "Коронавирус застал мир врасплох, изменив привычный порядок вещей. В свободное время жители городов больше не выходят на улицу, не посещают кафе и торговые центры. Зато стало больше времени для книг. Это заметили стартаперы — и бросились создавать приложения для тех, кто любит читать. Наша компания решила быть на волне и купила крупный сервис для чтения книг по подписке. Моя первая задача как аналитика — проанализировать базу данных.\n",
        "\n",
        "# Цели проекта:\n",
        "проанализировать базу данных. В базе данных информация о книгах, издательствах, авторах, а также пользовательские обзоры книг. Эти данные помогут сформулировать ценностное предложение для нового продукта.\n",
        "\n",
        "# Задачи\n",
        "\n",
        "- Посчитать сколько книг вышло после 1 января 2000 года;\n",
        "- Для каждой книги посчитать количество обзоров и среднюю оценку;\n",
        "- Определить издательство, которое выпустило наибольшее число книг толще 50 страниц, чтобы исключить из анализа брошюры;\n",
        "- Определить автора с самой высокой средней оценкой книг, учитывая только книги с 50 и более оценками;\n",
        "- Посчитайть среднее количество обзоров от пользователей, которые поставили больше 48 оценок.\n",
        "# Описание данных\n",
        "\n",
        "\n",
        "- Таблица books - cодержит данные о книгах:\n",
        "\n",
        "  - book_id — идентификатор книги;\n",
        "  - author_id — идентификатор автора;\n",
        "  - title — название книги;\n",
        "  - num_pages — количество страниц;\n",
        "  - publication_date — дата публикации книги;\n",
        "  - publisher_id — идентификатор издателя.\n",
        "- Таблица authors - cодержит данные об авторах:\n",
        "\n",
        "  - author_id — идентификатор автора;\n",
        "  - author — имя автора.\n",
        "- Таблица publishers - cодержит данные об издательствах:\n",
        "\n",
        "  - publisher_id — идентификатор издательства;\n",
        "  - publisher — название издательства;\n",
        "- Таблица ratings - cодержит данные о пользовательских оценках книг:\n",
        "\n",
        "  - rating_id — идентификатор оценки;\n",
        "  - book_id — идентификатор книги;\n",
        "  - username — имя пользователя, оставившего оценку;\n",
        "  - rating — оценка книги.\n",
        "- Таблица reviews - содержит данные о пользовательских обзорах на книги:\n",
        "\n",
        "  - review_id — идентификатор обзора;\n",
        "  - book_id — идентификатор книги;\n",
        "  - username — имя пользователя, написавшего обзор;\n",
        "  - text — текст обзора."
      ]
    },
    {
      "cell_type": "code",
      "execution_count": null,
      "metadata": {
        "id": "aG28DCb2oSJt"
      },
      "outputs": [],
      "source": [
        "# Импортируем библиотеки\n",
        "import pandas as pd\n",
        "from sqlalchemy import create_engine\n",
        "\n",
        "import warnings\n",
        "warnings.filterwarnings('ignore')\n",
        "\n",
        "# Устанавливаем параметры\n",
        "db_config = {'user': 'praktikum_student', # Имя пользователя\n",
        " 'pwd': 'Sdf4$2;d-d30pp', # Пароль\n",
        " 'host': 'rc1b-wcoijxj3yxfsf3fs.mdb.yandexcloud.net',\n",
        " 'port': 6432, # Порт подключения\n",
        " 'db': 'data-analyst-final-project-db'} # Название базы данных\n",
        "connection_string = 'postgresql://{}:{}@{}:{}/{}'.format(db_config['user'],\n",
        " db_config['pwd'],\n",
        " db_config['host'],\n",
        " db_config['port'],\n",
        " db_config['db'])\n",
        "\n",
        "# Сохраняем коннектор\n",
        "engine = create_engine(connection_string, connect_args={'sslmode':'require'})"
      ]
    },
    {
      "cell_type": "markdown",
      "metadata": {
        "id": "NVl5zRZDoSJu"
      },
      "source": [
        "# Изучение информации о таблицах"
      ]
    },
    {
      "cell_type": "markdown",
      "metadata": {
        "id": "zQVUtNEeoSJu"
      },
      "source": [
        "Таблица books cодержит данные о книгах"
      ]
    },
    {
      "cell_type": "code",
      "execution_count": null,
      "metadata": {
        "id": "YcRnBBGroSJu",
        "outputId": "02e430d4-1c7f-4193-8b7a-06abca104dbb"
      },
      "outputs": [
        {
          "data": {
            "text/html": [
              "<div>\n",
              "<style scoped>\n",
              "    .dataframe tbody tr th:only-of-type {\n",
              "        vertical-align: middle;\n",
              "    }\n",
              "\n",
              "    .dataframe tbody tr th {\n",
              "        vertical-align: top;\n",
              "    }\n",
              "\n",
              "    .dataframe thead th {\n",
              "        text-align: right;\n",
              "    }\n",
              "</style>\n",
              "<table border=\"1\" class=\"dataframe\">\n",
              "  <thead>\n",
              "    <tr style=\"text-align: right;\">\n",
              "      <th></th>\n",
              "      <th>book_id</th>\n",
              "      <th>author_id</th>\n",
              "      <th>title</th>\n",
              "      <th>num_pages</th>\n",
              "      <th>publication_date</th>\n",
              "      <th>publisher_id</th>\n",
              "    </tr>\n",
              "  </thead>\n",
              "  <tbody>\n",
              "    <tr>\n",
              "      <th>0</th>\n",
              "      <td>1</td>\n",
              "      <td>546</td>\n",
              "      <td>'Salem's Lot</td>\n",
              "      <td>594</td>\n",
              "      <td>2005-11-01</td>\n",
              "      <td>93</td>\n",
              "    </tr>\n",
              "    <tr>\n",
              "      <th>1</th>\n",
              "      <td>2</td>\n",
              "      <td>465</td>\n",
              "      <td>1 000 Places to See Before You Die</td>\n",
              "      <td>992</td>\n",
              "      <td>2003-05-22</td>\n",
              "      <td>336</td>\n",
              "    </tr>\n",
              "    <tr>\n",
              "      <th>2</th>\n",
              "      <td>3</td>\n",
              "      <td>407</td>\n",
              "      <td>13 Little Blue Envelopes (Little Blue Envelope...</td>\n",
              "      <td>322</td>\n",
              "      <td>2010-12-21</td>\n",
              "      <td>135</td>\n",
              "    </tr>\n",
              "    <tr>\n",
              "      <th>3</th>\n",
              "      <td>4</td>\n",
              "      <td>82</td>\n",
              "      <td>1491: New Revelations of the Americas Before C...</td>\n",
              "      <td>541</td>\n",
              "      <td>2006-10-10</td>\n",
              "      <td>309</td>\n",
              "    </tr>\n",
              "    <tr>\n",
              "      <th>4</th>\n",
              "      <td>5</td>\n",
              "      <td>125</td>\n",
              "      <td>1776</td>\n",
              "      <td>386</td>\n",
              "      <td>2006-07-04</td>\n",
              "      <td>268</td>\n",
              "    </tr>\n",
              "  </tbody>\n",
              "</table>\n",
              "</div>"
            ],
            "text/plain": [
              "   book_id  author_id                                              title  \\\n",
              "0        1        546                                       'Salem's Lot   \n",
              "1        2        465                 1 000 Places to See Before You Die   \n",
              "2        3        407  13 Little Blue Envelopes (Little Blue Envelope...   \n",
              "3        4         82  1491: New Revelations of the Americas Before C...   \n",
              "4        5        125                                               1776   \n",
              "\n",
              "   num_pages publication_date  publisher_id  \n",
              "0        594       2005-11-01            93  \n",
              "1        992       2003-05-22           336  \n",
              "2        322       2010-12-21           135  \n",
              "3        541       2006-10-10           309  \n",
              "4        386       2006-07-04           268  "
            ]
          },
          "execution_count": 2,
          "metadata": {},
          "output_type": "execute_result"
        }
      ],
      "source": [
        "query = '''\n",
        "            SELECT *\n",
        "            FROM books\n",
        "        '''\n",
        "books = pd.io.sql.read_sql(query, con = engine)\n",
        "books.head()"
      ]
    },
    {
      "cell_type": "code",
      "execution_count": null,
      "metadata": {
        "id": "9_M6SR1BoSJu",
        "outputId": "29a2be7a-d430-4f90-e62d-93ae33bf5cf5"
      },
      "outputs": [
        {
          "name": "stdout",
          "output_type": "stream",
          "text": [
            "<class 'pandas.core.frame.DataFrame'>\n",
            "RangeIndex: 1000 entries, 0 to 999\n",
            "Data columns (total 6 columns):\n",
            " #   Column            Non-Null Count  Dtype \n",
            "---  ------            --------------  ----- \n",
            " 0   book_id           1000 non-null   int64 \n",
            " 1   author_id         1000 non-null   int64 \n",
            " 2   title             1000 non-null   object\n",
            " 3   num_pages         1000 non-null   int64 \n",
            " 4   publication_date  1000 non-null   object\n",
            " 5   publisher_id      1000 non-null   int64 \n",
            "dtypes: int64(4), object(2)\n",
            "memory usage: 47.0+ KB\n"
          ]
        }
      ],
      "source": [
        "books.info()"
      ]
    },
    {
      "cell_type": "markdown",
      "metadata": {
        "id": "ro3b_NfioSJu"
      },
      "source": [
        "Таблица authors cодержит данные об авторах"
      ]
    },
    {
      "cell_type": "code",
      "execution_count": null,
      "metadata": {
        "id": "7zuLEvcJoSJu",
        "outputId": "c29b5290-6443-4e40-bd12-5511aa98b2c6"
      },
      "outputs": [
        {
          "data": {
            "text/html": [
              "<div>\n",
              "<style scoped>\n",
              "    .dataframe tbody tr th:only-of-type {\n",
              "        vertical-align: middle;\n",
              "    }\n",
              "\n",
              "    .dataframe tbody tr th {\n",
              "        vertical-align: top;\n",
              "    }\n",
              "\n",
              "    .dataframe thead th {\n",
              "        text-align: right;\n",
              "    }\n",
              "</style>\n",
              "<table border=\"1\" class=\"dataframe\">\n",
              "  <thead>\n",
              "    <tr style=\"text-align: right;\">\n",
              "      <th></th>\n",
              "      <th>author_id</th>\n",
              "      <th>author</th>\n",
              "    </tr>\n",
              "  </thead>\n",
              "  <tbody>\n",
              "    <tr>\n",
              "      <th>0</th>\n",
              "      <td>1</td>\n",
              "      <td>A.S. Byatt</td>\n",
              "    </tr>\n",
              "    <tr>\n",
              "      <th>1</th>\n",
              "      <td>2</td>\n",
              "      <td>Aesop/Laura Harris/Laura Gibbs</td>\n",
              "    </tr>\n",
              "    <tr>\n",
              "      <th>2</th>\n",
              "      <td>3</td>\n",
              "      <td>Agatha Christie</td>\n",
              "    </tr>\n",
              "    <tr>\n",
              "      <th>3</th>\n",
              "      <td>4</td>\n",
              "      <td>Alan Brennert</td>\n",
              "    </tr>\n",
              "    <tr>\n",
              "      <th>4</th>\n",
              "      <td>5</td>\n",
              "      <td>Alan Moore/David   Lloyd</td>\n",
              "    </tr>\n",
              "  </tbody>\n",
              "</table>\n",
              "</div>"
            ],
            "text/plain": [
              "   author_id                          author\n",
              "0          1                      A.S. Byatt\n",
              "1          2  Aesop/Laura Harris/Laura Gibbs\n",
              "2          3                 Agatha Christie\n",
              "3          4                   Alan Brennert\n",
              "4          5        Alan Moore/David   Lloyd"
            ]
          },
          "execution_count": 4,
          "metadata": {},
          "output_type": "execute_result"
        }
      ],
      "source": [
        "query = '''\n",
        "            SELECT *\n",
        "            FROM authors\n",
        "        '''\n",
        "authors = pd.io.sql.read_sql(query, con = engine)\n",
        "authors.head()"
      ]
    },
    {
      "cell_type": "code",
      "execution_count": null,
      "metadata": {
        "id": "n6EmTDq_oSJv",
        "outputId": "6c738a50-d186-4e21-f544-fa8ec3c674d9"
      },
      "outputs": [
        {
          "name": "stdout",
          "output_type": "stream",
          "text": [
            "<class 'pandas.core.frame.DataFrame'>\n",
            "RangeIndex: 636 entries, 0 to 635\n",
            "Data columns (total 2 columns):\n",
            " #   Column     Non-Null Count  Dtype \n",
            "---  ------     --------------  ----- \n",
            " 0   author_id  636 non-null    int64 \n",
            " 1   author     636 non-null    object\n",
            "dtypes: int64(1), object(1)\n",
            "memory usage: 10.1+ KB\n"
          ]
        }
      ],
      "source": [
        "authors.info()"
      ]
    },
    {
      "cell_type": "markdown",
      "metadata": {
        "id": "THpMisDdoSJv"
      },
      "source": [
        "Таблица publishers cодержит данные об издательствах"
      ]
    },
    {
      "cell_type": "code",
      "execution_count": null,
      "metadata": {
        "id": "4n0G_EMToSJv",
        "outputId": "0fbd39f2-49fb-4bed-cd5b-12b964ef77f6"
      },
      "outputs": [
        {
          "data": {
            "text/html": [
              "<div>\n",
              "<style scoped>\n",
              "    .dataframe tbody tr th:only-of-type {\n",
              "        vertical-align: middle;\n",
              "    }\n",
              "\n",
              "    .dataframe tbody tr th {\n",
              "        vertical-align: top;\n",
              "    }\n",
              "\n",
              "    .dataframe thead th {\n",
              "        text-align: right;\n",
              "    }\n",
              "</style>\n",
              "<table border=\"1\" class=\"dataframe\">\n",
              "  <thead>\n",
              "    <tr style=\"text-align: right;\">\n",
              "      <th></th>\n",
              "      <th>publisher_id</th>\n",
              "      <th>publisher</th>\n",
              "    </tr>\n",
              "  </thead>\n",
              "  <tbody>\n",
              "    <tr>\n",
              "      <th>0</th>\n",
              "      <td>1</td>\n",
              "      <td>Ace</td>\n",
              "    </tr>\n",
              "    <tr>\n",
              "      <th>1</th>\n",
              "      <td>2</td>\n",
              "      <td>Ace Book</td>\n",
              "    </tr>\n",
              "    <tr>\n",
              "      <th>2</th>\n",
              "      <td>3</td>\n",
              "      <td>Ace Books</td>\n",
              "    </tr>\n",
              "    <tr>\n",
              "      <th>3</th>\n",
              "      <td>4</td>\n",
              "      <td>Ace Hardcover</td>\n",
              "    </tr>\n",
              "    <tr>\n",
              "      <th>4</th>\n",
              "      <td>5</td>\n",
              "      <td>Addison Wesley Publishing Company</td>\n",
              "    </tr>\n",
              "  </tbody>\n",
              "</table>\n",
              "</div>"
            ],
            "text/plain": [
              "   publisher_id                          publisher\n",
              "0             1                                Ace\n",
              "1             2                           Ace Book\n",
              "2             3                          Ace Books\n",
              "3             4                      Ace Hardcover\n",
              "4             5  Addison Wesley Publishing Company"
            ]
          },
          "execution_count": 6,
          "metadata": {},
          "output_type": "execute_result"
        }
      ],
      "source": [
        "query = '''\n",
        "            SELECT *\n",
        "            FROM publishers\n",
        "        '''\n",
        "publishers = pd.io.sql.read_sql(query, con = engine)\n",
        "publishers.head()"
      ]
    },
    {
      "cell_type": "code",
      "execution_count": null,
      "metadata": {
        "id": "QCiU7ZejoSJv",
        "outputId": "2459c859-e4ed-4f9c-cc6f-3ddeb839be03"
      },
      "outputs": [
        {
          "name": "stdout",
          "output_type": "stream",
          "text": [
            "<class 'pandas.core.frame.DataFrame'>\n",
            "RangeIndex: 340 entries, 0 to 339\n",
            "Data columns (total 2 columns):\n",
            " #   Column        Non-Null Count  Dtype \n",
            "---  ------        --------------  ----- \n",
            " 0   publisher_id  340 non-null    int64 \n",
            " 1   publisher     340 non-null    object\n",
            "dtypes: int64(1), object(1)\n",
            "memory usage: 5.4+ KB\n"
          ]
        }
      ],
      "source": [
        "publishers.info()"
      ]
    },
    {
      "cell_type": "markdown",
      "metadata": {
        "id": "HW072NteoSJv"
      },
      "source": [
        "Таблица ratings cодержит данные о пользовательских оценках книг"
      ]
    },
    {
      "cell_type": "code",
      "execution_count": null,
      "metadata": {
        "id": "N6suQLffoSJv",
        "outputId": "bc86fceb-f67d-4754-ac09-9f16ebceb20b"
      },
      "outputs": [
        {
          "data": {
            "text/html": [
              "<div>\n",
              "<style scoped>\n",
              "    .dataframe tbody tr th:only-of-type {\n",
              "        vertical-align: middle;\n",
              "    }\n",
              "\n",
              "    .dataframe tbody tr th {\n",
              "        vertical-align: top;\n",
              "    }\n",
              "\n",
              "    .dataframe thead th {\n",
              "        text-align: right;\n",
              "    }\n",
              "</style>\n",
              "<table border=\"1\" class=\"dataframe\">\n",
              "  <thead>\n",
              "    <tr style=\"text-align: right;\">\n",
              "      <th></th>\n",
              "      <th>rating_id</th>\n",
              "      <th>book_id</th>\n",
              "      <th>username</th>\n",
              "      <th>rating</th>\n",
              "    </tr>\n",
              "  </thead>\n",
              "  <tbody>\n",
              "    <tr>\n",
              "      <th>0</th>\n",
              "      <td>1</td>\n",
              "      <td>1</td>\n",
              "      <td>ryanfranco</td>\n",
              "      <td>4</td>\n",
              "    </tr>\n",
              "    <tr>\n",
              "      <th>1</th>\n",
              "      <td>2</td>\n",
              "      <td>1</td>\n",
              "      <td>grantpatricia</td>\n",
              "      <td>2</td>\n",
              "    </tr>\n",
              "    <tr>\n",
              "      <th>2</th>\n",
              "      <td>3</td>\n",
              "      <td>1</td>\n",
              "      <td>brandtandrea</td>\n",
              "      <td>5</td>\n",
              "    </tr>\n",
              "    <tr>\n",
              "      <th>3</th>\n",
              "      <td>4</td>\n",
              "      <td>2</td>\n",
              "      <td>lorichen</td>\n",
              "      <td>3</td>\n",
              "    </tr>\n",
              "    <tr>\n",
              "      <th>4</th>\n",
              "      <td>5</td>\n",
              "      <td>2</td>\n",
              "      <td>mariokeller</td>\n",
              "      <td>2</td>\n",
              "    </tr>\n",
              "  </tbody>\n",
              "</table>\n",
              "</div>"
            ],
            "text/plain": [
              "   rating_id  book_id       username  rating\n",
              "0          1        1     ryanfranco       4\n",
              "1          2        1  grantpatricia       2\n",
              "2          3        1   brandtandrea       5\n",
              "3          4        2       lorichen       3\n",
              "4          5        2    mariokeller       2"
            ]
          },
          "execution_count": 8,
          "metadata": {},
          "output_type": "execute_result"
        }
      ],
      "source": [
        "query = '''\n",
        "            SELECT *\n",
        "            FROM ratings\n",
        "        '''\n",
        "ratings = pd.io.sql.read_sql(query, con = engine)\n",
        "ratings.head()"
      ]
    },
    {
      "cell_type": "code",
      "execution_count": null,
      "metadata": {
        "id": "mesqPVGDoSJw",
        "outputId": "a3e9e9f0-39a4-41f3-c5f9-f36b58971c08"
      },
      "outputs": [
        {
          "name": "stdout",
          "output_type": "stream",
          "text": [
            "<class 'pandas.core.frame.DataFrame'>\n",
            "RangeIndex: 6456 entries, 0 to 6455\n",
            "Data columns (total 4 columns):\n",
            " #   Column     Non-Null Count  Dtype \n",
            "---  ------     --------------  ----- \n",
            " 0   rating_id  6456 non-null   int64 \n",
            " 1   book_id    6456 non-null   int64 \n",
            " 2   username   6456 non-null   object\n",
            " 3   rating     6456 non-null   int64 \n",
            "dtypes: int64(3), object(1)\n",
            "memory usage: 201.9+ KB\n"
          ]
        }
      ],
      "source": [
        "ratings.info()"
      ]
    },
    {
      "cell_type": "markdown",
      "metadata": {
        "id": "jFlFGCNFoSJw"
      },
      "source": [
        "Таблица reviews cодержит данные о пользовательских обзорах на книги"
      ]
    },
    {
      "cell_type": "code",
      "execution_count": null,
      "metadata": {
        "id": "wxFNJtNLoSJw",
        "outputId": "8185a1f1-9d3b-48e2-ec2e-4c4e3e39c868"
      },
      "outputs": [
        {
          "data": {
            "text/html": [
              "<div>\n",
              "<style scoped>\n",
              "    .dataframe tbody tr th:only-of-type {\n",
              "        vertical-align: middle;\n",
              "    }\n",
              "\n",
              "    .dataframe tbody tr th {\n",
              "        vertical-align: top;\n",
              "    }\n",
              "\n",
              "    .dataframe thead th {\n",
              "        text-align: right;\n",
              "    }\n",
              "</style>\n",
              "<table border=\"1\" class=\"dataframe\">\n",
              "  <thead>\n",
              "    <tr style=\"text-align: right;\">\n",
              "      <th></th>\n",
              "      <th>review_id</th>\n",
              "      <th>book_id</th>\n",
              "      <th>username</th>\n",
              "      <th>text</th>\n",
              "    </tr>\n",
              "  </thead>\n",
              "  <tbody>\n",
              "    <tr>\n",
              "      <th>0</th>\n",
              "      <td>1</td>\n",
              "      <td>1</td>\n",
              "      <td>brandtandrea</td>\n",
              "      <td>Mention society tell send professor analysis. ...</td>\n",
              "    </tr>\n",
              "    <tr>\n",
              "      <th>1</th>\n",
              "      <td>2</td>\n",
              "      <td>1</td>\n",
              "      <td>ryanfranco</td>\n",
              "      <td>Foot glass pretty audience hit themselves. Amo...</td>\n",
              "    </tr>\n",
              "    <tr>\n",
              "      <th>2</th>\n",
              "      <td>3</td>\n",
              "      <td>2</td>\n",
              "      <td>lorichen</td>\n",
              "      <td>Listen treat keep worry. Miss husband tax but ...</td>\n",
              "    </tr>\n",
              "    <tr>\n",
              "      <th>3</th>\n",
              "      <td>4</td>\n",
              "      <td>3</td>\n",
              "      <td>johnsonamanda</td>\n",
              "      <td>Finally month interesting blue could nature cu...</td>\n",
              "    </tr>\n",
              "    <tr>\n",
              "      <th>4</th>\n",
              "      <td>5</td>\n",
              "      <td>3</td>\n",
              "      <td>scotttamara</td>\n",
              "      <td>Nation purpose heavy give wait song will. List...</td>\n",
              "    </tr>\n",
              "  </tbody>\n",
              "</table>\n",
              "</div>"
            ],
            "text/plain": [
              "   review_id  book_id       username  \\\n",
              "0          1        1   brandtandrea   \n",
              "1          2        1     ryanfranco   \n",
              "2          3        2       lorichen   \n",
              "3          4        3  johnsonamanda   \n",
              "4          5        3    scotttamara   \n",
              "\n",
              "                                                text  \n",
              "0  Mention society tell send professor analysis. ...  \n",
              "1  Foot glass pretty audience hit themselves. Amo...  \n",
              "2  Listen treat keep worry. Miss husband tax but ...  \n",
              "3  Finally month interesting blue could nature cu...  \n",
              "4  Nation purpose heavy give wait song will. List...  "
            ]
          },
          "execution_count": 10,
          "metadata": {},
          "output_type": "execute_result"
        }
      ],
      "source": [
        "query = '''\n",
        "            SELECT *\n",
        "            FROM reviews\n",
        "        '''\n",
        "reviews = pd.io.sql.read_sql(query, con = engine)\n",
        "reviews.head()"
      ]
    },
    {
      "cell_type": "code",
      "execution_count": null,
      "metadata": {
        "id": "jl8vhgPtoSJw",
        "outputId": "c363438d-eb4a-4694-a232-0781141bad57"
      },
      "outputs": [
        {
          "name": "stdout",
          "output_type": "stream",
          "text": [
            "<class 'pandas.core.frame.DataFrame'>\n",
            "RangeIndex: 2793 entries, 0 to 2792\n",
            "Data columns (total 4 columns):\n",
            " #   Column     Non-Null Count  Dtype \n",
            "---  ------     --------------  ----- \n",
            " 0   review_id  2793 non-null   int64 \n",
            " 1   book_id    2793 non-null   int64 \n",
            " 2   username   2793 non-null   object\n",
            " 3   text       2793 non-null   object\n",
            "dtypes: int64(2), object(2)\n",
            "memory usage: 87.4+ KB\n"
          ]
        }
      ],
      "source": [
        "reviews.info()"
      ]
    },
    {
      "cell_type": "markdown",
      "metadata": {
        "id": "7JZjZw42oSJw"
      },
      "source": [
        "## Задача. Сколько книг вышло после 1 января 2000 года"
      ]
    },
    {
      "cell_type": "code",
      "execution_count": null,
      "metadata": {
        "id": "6JruIMGuoSJw",
        "outputId": "d153a6f2-7aa3-4bb4-aab6-1eaa7bdcc622"
      },
      "outputs": [
        {
          "name": "stdout",
          "output_type": "stream",
          "text": [
            "После 01 января 2020 года вышла 819 книга \n"
          ]
        }
      ],
      "source": [
        "books_2000 = '''SELECT COUNT(*)\n",
        "                FROM books\n",
        "                WHERE publication_date > '2000-01-01'\n",
        "                '''\n",
        "\n",
        "data_books_2000 = pd.io.sql.read_sql(books_2000, con = engine)\n",
        "print('После 01 января 2020 года вышла {} книга '.format(data_books_2000.loc[0, 'count']))"
      ]
    },
    {
      "cell_type": "markdown",
      "metadata": {
        "id": "Iauw3xn8oSJw"
      },
      "source": [
        "## Задача. Для каждой книги посчитайте количество обзоров и среднюю оценку"
      ]
    },
    {
      "cell_type": "code",
      "execution_count": null,
      "metadata": {
        "id": "VeZ6cu2BoSJw",
        "outputId": "9f1a245b-c8ff-46a8-8f25-1d39513f7bb3"
      },
      "outputs": [
        {
          "data": {
            "text/html": [
              "<div>\n",
              "<style scoped>\n",
              "    .dataframe tbody tr th:only-of-type {\n",
              "        vertical-align: middle;\n",
              "    }\n",
              "\n",
              "    .dataframe tbody tr th {\n",
              "        vertical-align: top;\n",
              "    }\n",
              "\n",
              "    .dataframe thead th {\n",
              "        text-align: right;\n",
              "    }\n",
              "</style>\n",
              "<table border=\"1\" class=\"dataframe\">\n",
              "  <thead>\n",
              "    <tr style=\"text-align: right;\">\n",
              "      <th></th>\n",
              "      <th>title</th>\n",
              "      <th>count</th>\n",
              "      <th>r</th>\n",
              "    </tr>\n",
              "  </thead>\n",
              "  <tbody>\n",
              "    <tr>\n",
              "      <th>0</th>\n",
              "      <td>Arrows of the Queen (Heralds of Valdemar  #1)</td>\n",
              "      <td>2</td>\n",
              "      <td>5.00</td>\n",
              "    </tr>\n",
              "    <tr>\n",
              "      <th>1</th>\n",
              "      <td>The Walking Dead  Book One (The Walking Dead #...</td>\n",
              "      <td>2</td>\n",
              "      <td>5.00</td>\n",
              "    </tr>\n",
              "    <tr>\n",
              "      <th>2</th>\n",
              "      <td>Light in August</td>\n",
              "      <td>2</td>\n",
              "      <td>5.00</td>\n",
              "    </tr>\n",
              "    <tr>\n",
              "      <th>3</th>\n",
              "      <td>Wherever You Go  There You Are: Mindfulness Me...</td>\n",
              "      <td>2</td>\n",
              "      <td>5.00</td>\n",
              "    </tr>\n",
              "    <tr>\n",
              "      <th>4</th>\n",
              "      <td>Captivating: Unveiling the Mystery of a Woman'...</td>\n",
              "      <td>2</td>\n",
              "      <td>5.00</td>\n",
              "    </tr>\n",
              "    <tr>\n",
              "      <th>...</th>\n",
              "      <td>...</td>\n",
              "      <td>...</td>\n",
              "      <td>...</td>\n",
              "    </tr>\n",
              "    <tr>\n",
              "      <th>995</th>\n",
              "      <td>The World Is Flat: A Brief History of the Twen...</td>\n",
              "      <td>3</td>\n",
              "      <td>2.25</td>\n",
              "    </tr>\n",
              "    <tr>\n",
              "      <th>996</th>\n",
              "      <td>His Excellency: George Washington</td>\n",
              "      <td>2</td>\n",
              "      <td>2.00</td>\n",
              "    </tr>\n",
              "    <tr>\n",
              "      <th>997</th>\n",
              "      <td>Drowning Ruth</td>\n",
              "      <td>3</td>\n",
              "      <td>2.00</td>\n",
              "    </tr>\n",
              "    <tr>\n",
              "      <th>998</th>\n",
              "      <td>Junky</td>\n",
              "      <td>2</td>\n",
              "      <td>2.00</td>\n",
              "    </tr>\n",
              "    <tr>\n",
              "      <th>999</th>\n",
              "      <td>Harvesting the Heart</td>\n",
              "      <td>2</td>\n",
              "      <td>1.50</td>\n",
              "    </tr>\n",
              "  </tbody>\n",
              "</table>\n",
              "<p>1000 rows × 3 columns</p>\n",
              "</div>"
            ],
            "text/plain": [
              "                                                 title  count     r\n",
              "0        Arrows of the Queen (Heralds of Valdemar  #1)      2  5.00\n",
              "1    The Walking Dead  Book One (The Walking Dead #...      2  5.00\n",
              "2                                      Light in August      2  5.00\n",
              "3    Wherever You Go  There You Are: Mindfulness Me...      2  5.00\n",
              "4    Captivating: Unveiling the Mystery of a Woman'...      2  5.00\n",
              "..                                                 ...    ...   ...\n",
              "995  The World Is Flat: A Brief History of the Twen...      3  2.25\n",
              "996                  His Excellency: George Washington      2  2.00\n",
              "997                                      Drowning Ruth      3  2.00\n",
              "998                                              Junky      2  2.00\n",
              "999                               Harvesting the Heart      2  1.50\n",
              "\n",
              "[1000 rows x 3 columns]"
            ]
          },
          "execution_count": 13,
          "metadata": {},
          "output_type": "execute_result"
        }
      ],
      "source": [
        "rating = '''SELECT b.title,\n",
        "            COUNT (DISTINCT rw.review_id), ROUND (avg(r.rating), 2) as R\n",
        "            FROM REVIEWS AS rw\n",
        "            RIGHT OUTER JOIN BOOKS AS b ON rw.book_id=b.book_id\n",
        "            LEFT OUTER JOIN RATINGS AS r ON b.book_id = r.book_id\n",
        "            GROUP BY b.book_id\n",
        "            ORDER BY R DESC'''\n",
        "\n",
        "book_rating = pd.io.sql.read_sql(rating, con = engine)\n",
        "book_rating"
      ]
    },
    {
      "cell_type": "markdown",
      "metadata": {
        "id": "tvw1RWVAoSJw"
      },
      "source": [
        "Посчитано количество обзоров и средняя оценка для каждой книги"
      ]
    },
    {
      "cell_type": "markdown",
      "metadata": {
        "id": "pzfes9g_oSJw"
      },
      "source": [
        "## Задача. Определите издательство, которое выпустило наибольшее число книг толще 50 страниц"
      ]
    },
    {
      "cell_type": "code",
      "execution_count": null,
      "metadata": {
        "id": "jM-u24GjoSJx",
        "outputId": "24813f10-2b0d-4fcc-9a80-5b3882072586"
      },
      "outputs": [
        {
          "data": {
            "text/html": [
              "<div>\n",
              "<style scoped>\n",
              "    .dataframe tbody tr th:only-of-type {\n",
              "        vertical-align: middle;\n",
              "    }\n",
              "\n",
              "    .dataframe tbody tr th {\n",
              "        vertical-align: top;\n",
              "    }\n",
              "\n",
              "    .dataframe thead th {\n",
              "        text-align: right;\n",
              "    }\n",
              "</style>\n",
              "<table border=\"1\" class=\"dataframe\">\n",
              "  <thead>\n",
              "    <tr style=\"text-align: right;\">\n",
              "      <th></th>\n",
              "      <th>publisher</th>\n",
              "      <th>count</th>\n",
              "    </tr>\n",
              "  </thead>\n",
              "  <tbody>\n",
              "    <tr>\n",
              "      <th>0</th>\n",
              "      <td>Penguin Books</td>\n",
              "      <td>42</td>\n",
              "    </tr>\n",
              "  </tbody>\n",
              "</table>\n",
              "</div>"
            ],
            "text/plain": [
              "       publisher  count\n",
              "0  Penguin Books     42"
            ]
          },
          "execution_count": 14,
          "metadata": {},
          "output_type": "execute_result"
        }
      ],
      "source": [
        "books_max = '''SELECT p.publisher,\n",
        "               COUNT(b.book_id)\n",
        "               FROM publishers AS p\n",
        "               JOIN BOOKS AS b ON p.publisher_id=b.publisher_id\n",
        "               WHERE b.num_pages > 50\n",
        "               GROUP BY p.publisher_id\n",
        "               ORDER BY count(b.book_id) DESC\n",
        "               LIMIT 1'''\n",
        "\n",
        "max_books = pd.io.sql.read_sql(books_max, con = engine)\n",
        "max_books"
      ]
    },
    {
      "cell_type": "markdown",
      "metadata": {
        "id": "hwJ0JUOFoSJx"
      },
      "source": [
        "Издательство Penguin Books выпустило больше всего книг объемом толще 50 страниц."
      ]
    },
    {
      "cell_type": "markdown",
      "metadata": {
        "id": "321RZjtloSJx"
      },
      "source": [
        "## Задача. Определите автора с самой высокой средней оценкой книг — учитывайте только книги с 50 и более оценками"
      ]
    },
    {
      "cell_type": "code",
      "execution_count": null,
      "metadata": {
        "id": "4527g8lPoSJx",
        "outputId": "50ac1558-4a52-49a4-c0a3-eaa56c0e2d9f"
      },
      "outputs": [
        {
          "data": {
            "text/html": [
              "<div>\n",
              "<style scoped>\n",
              "    .dataframe tbody tr th:only-of-type {\n",
              "        vertical-align: middle;\n",
              "    }\n",
              "\n",
              "    .dataframe tbody tr th {\n",
              "        vertical-align: top;\n",
              "    }\n",
              "\n",
              "    .dataframe thead th {\n",
              "        text-align: right;\n",
              "    }\n",
              "</style>\n",
              "<table border=\"1\" class=\"dataframe\">\n",
              "  <thead>\n",
              "    <tr style=\"text-align: right;\">\n",
              "      <th></th>\n",
              "      <th>author</th>\n",
              "      <th>avg_rating</th>\n",
              "    </tr>\n",
              "  </thead>\n",
              "  <tbody>\n",
              "    <tr>\n",
              "      <th>0</th>\n",
              "      <td>J.K. Rowling/Mary GrandPré</td>\n",
              "      <td>4.287097</td>\n",
              "    </tr>\n",
              "  </tbody>\n",
              "</table>\n",
              "</div>"
            ],
            "text/plain": [
              "                       author  avg_rating\n",
              "0  J.K. Rowling/Mary GrandPré    4.287097"
            ]
          },
          "execution_count": 15,
          "metadata": {},
          "output_type": "execute_result"
        }
      ],
      "source": [
        "autor_max = '''SELECT a.author,\n",
        "               AVG(r.rating) avg_rating\n",
        "               FROM authors AS a\n",
        "               JOIN books AS b ON a.author_id=b.author_id\n",
        "               JOIN ratings AS r ON b.book_id=r.book_id\n",
        "               WHERE b.book_id IN\n",
        "                    (SELECT b.book_id\n",
        "                     FROM books AS b\n",
        "                     JOIN ratings AS r ON b.book_id=r.book_id\n",
        "                     GROUP BY b.book_id\n",
        "                     HAVING count(r.rating_id)>=50)\n",
        "               GROUP BY a.author\n",
        "               ORDER BY avg_rating desc\n",
        "               LIMIT 1'''\n",
        "\n",
        "max_autor = pd.io.sql.read_sql(autor_max, con = engine)\n",
        "max_autor\n"
      ]
    },
    {
      "cell_type": "markdown",
      "metadata": {
        "id": "AkJabRNroSJx"
      },
      "source": [
        "Наивысшая средняя оценка у J.K. Rowling/Mary GrandPré. Средняя оценка книг - 4.28."
      ]
    },
    {
      "cell_type": "markdown",
      "metadata": {
        "id": "_3zGbZ_eoSJx"
      },
      "source": [
        "## Задача. Посчитайте среднее количество обзоров от пользователей, которые поставили больше 48 оценок"
      ]
    },
    {
      "cell_type": "code",
      "execution_count": null,
      "metadata": {
        "id": "3pmpgU9noSJx"
      },
      "outputs": [],
      "source": [
        "mean_users = '''WITH A AS\n",
        "                    (SELECT username,\n",
        "                     COUNT(review_id)\n",
        "                     FROM reviews\n",
        "                     WHERE username in\n",
        "                         (SELECT username\n",
        "                          FROM ratings\n",
        "                          GROUP BY username\n",
        "                          HAVING count(rating_id)>48)\n",
        "                    GROUP BY username)\n",
        "                SELECT round (SUM (COUNT) / COUNT(COUNT), 2) AS AVG\n",
        "                FROM A'''\n",
        "\n",
        "users_mean = pd.io.sql.read_sql(mean_users, con = engine)\n"
      ]
    },
    {
      "cell_type": "code",
      "execution_count": null,
      "metadata": {
        "scrolled": true,
        "id": "pKFioNsQoSJx",
        "outputId": "2f592c7f-a70d-48bc-c8e8-86e88b82c90d"
      },
      "outputs": [
        {
          "name": "stdout",
          "output_type": "stream",
          "text": [
            "Среднее количество обзоров от пользователей, которые поставили больше 48 оценок, составляет  24.0\n"
          ]
        }
      ],
      "source": [
        "print ('Среднее количество обзоров от пользователей, которые поставили больше 48 оценок, составляет ', users_mean.loc[0, 'avg'])"
      ]
    },
    {
      "cell_type": "markdown",
      "metadata": {
        "id": "rDJmm1BBoSJy"
      },
      "source": [
        "# Общий вывод\n",
        "- После 1 января 2000 года было выпущено 819 книг.\n",
        "- Посчитано количество обзоров и средняя оценка для каждой книги.\n",
        "- Издательство, выпустившее наибольшее число книг толще 50 страниц: Penguin Books, они выпустили 42 книги.\n",
        "- Cамая высокая средняя оценка у J.K. Rowling/Mary GrandPré (составляет 4.28).\n",
        "- Среднее количество обзоров пользователей 24, которые поставили более чем по 48 оценок."
      ]
    }
  ],
  "metadata": {
    "ExecuteTimeLog": [
      {
        "duration": 14867,
        "start_time": "2024-01-10T07:39:42.971Z"
      },
      {
        "duration": 2,
        "start_time": "2024-01-10T07:40:25.732Z"
      },
      {
        "duration": 4,
        "start_time": "2024-01-10T07:40:27.278Z"
      },
      {
        "duration": 226,
        "start_time": "2024-01-10T07:40:28.038Z"
      },
      {
        "duration": 7,
        "start_time": "2024-01-10T08:01:08.518Z"
      },
      {
        "duration": 264,
        "start_time": "2024-01-10T08:14:31.785Z"
      },
      {
        "duration": 99,
        "start_time": "2024-01-10T08:14:43.375Z"
      },
      {
        "duration": 12,
        "start_time": "2024-01-10T08:14:59.175Z"
      },
      {
        "duration": 85,
        "start_time": "2024-01-10T08:15:42.323Z"
      },
      {
        "duration": 10,
        "start_time": "2024-01-10T08:15:49.974Z"
      },
      {
        "duration": 73,
        "start_time": "2024-01-10T08:16:14.516Z"
      },
      {
        "duration": 11,
        "start_time": "2024-01-10T08:16:22.631Z"
      },
      {
        "duration": 127,
        "start_time": "2024-01-10T08:16:44.212Z"
      },
      {
        "duration": 11,
        "start_time": "2024-01-10T08:16:52.604Z"
      },
      {
        "duration": 121,
        "start_time": "2024-01-10T08:17:26.202Z"
      },
      {
        "duration": 10,
        "start_time": "2024-01-10T08:17:38.832Z"
      },
      {
        "duration": 71,
        "start_time": "2024-01-10T08:19:04.703Z"
      },
      {
        "duration": 69,
        "start_time": "2024-01-10T08:19:54.905Z"
      },
      {
        "duration": 79,
        "start_time": "2024-01-10T08:22:06.524Z"
      },
      {
        "duration": 74,
        "start_time": "2024-01-10T08:25:26.549Z"
      },
      {
        "duration": 73,
        "start_time": "2024-01-10T08:25:33.133Z"
      },
      {
        "duration": 1411,
        "start_time": "2024-01-10T08:26:57.313Z"
      },
      {
        "duration": 78,
        "start_time": "2024-01-10T08:27:13.415Z"
      },
      {
        "duration": 74,
        "start_time": "2024-01-10T08:27:22.575Z"
      },
      {
        "duration": 76,
        "start_time": "2024-01-10T08:27:32.470Z"
      },
      {
        "duration": 75,
        "start_time": "2024-01-10T08:27:43.467Z"
      },
      {
        "duration": 76,
        "start_time": "2024-01-10T08:27:48.176Z"
      },
      {
        "duration": 75,
        "start_time": "2024-01-10T08:27:55.030Z"
      },
      {
        "duration": 77,
        "start_time": "2024-01-10T08:28:02.098Z"
      },
      {
        "duration": 77,
        "start_time": "2024-01-10T08:28:21.737Z"
      },
      {
        "duration": 70,
        "start_time": "2024-01-10T08:29:12.683Z"
      },
      {
        "duration": 73,
        "start_time": "2024-01-10T08:29:18.543Z"
      },
      {
        "duration": 71,
        "start_time": "2024-01-10T08:29:49.818Z"
      },
      {
        "duration": 4,
        "start_time": "2024-01-10T08:30:02.894Z"
      },
      {
        "duration": 111,
        "start_time": "2024-01-10T08:36:59.005Z"
      },
      {
        "duration": 113,
        "start_time": "2024-01-10T08:37:03.354Z"
      },
      {
        "duration": 17489,
        "start_time": "2024-01-10T13:52:04.436Z"
      },
      {
        "duration": 296,
        "start_time": "2024-01-10T13:52:21.927Z"
      },
      {
        "duration": 11,
        "start_time": "2024-01-10T13:52:22.225Z"
      },
      {
        "duration": 77,
        "start_time": "2024-01-10T13:52:22.239Z"
      },
      {
        "duration": 9,
        "start_time": "2024-01-10T13:52:22.318Z"
      },
      {
        "duration": 83,
        "start_time": "2024-01-10T13:52:22.329Z"
      },
      {
        "duration": 10,
        "start_time": "2024-01-10T13:52:22.414Z"
      },
      {
        "duration": 120,
        "start_time": "2024-01-10T13:52:22.426Z"
      },
      {
        "duration": 11,
        "start_time": "2024-01-10T13:52:22.548Z"
      },
      {
        "duration": 97,
        "start_time": "2024-01-10T13:52:22.561Z"
      },
      {
        "duration": 10,
        "start_time": "2024-01-10T13:52:22.659Z"
      },
      {
        "duration": 85,
        "start_time": "2024-01-10T13:52:22.672Z"
      },
      {
        "duration": 91,
        "start_time": "2024-01-10T13:52:22.758Z"
      },
      {
        "duration": 75,
        "start_time": "2024-01-10T13:52:22.851Z"
      },
      {
        "duration": 82,
        "start_time": "2024-01-10T13:52:22.927Z"
      },
      {
        "duration": 76,
        "start_time": "2024-01-10T13:52:23.010Z"
      },
      {
        "duration": 4,
        "start_time": "2024-01-10T13:52:23.087Z"
      }
    ],
    "kernelspec": {
      "display_name": "Python 3 (ipykernel)",
      "language": "python",
      "name": "python3"
    },
    "language_info": {
      "codemirror_mode": {
        "name": "ipython",
        "version": 3
      },
      "file_extension": ".py",
      "mimetype": "text/x-python",
      "name": "python",
      "nbconvert_exporter": "python",
      "pygments_lexer": "ipython3",
      "version": "3.9.5"
    },
    "toc": {
      "base_numbering": 1,
      "nav_menu": {},
      "number_sections": true,
      "sideBar": true,
      "skip_h1_title": true,
      "title_cell": "Table of Contents",
      "title_sidebar": "Contents",
      "toc_cell": false,
      "toc_position": {},
      "toc_section_display": true,
      "toc_window_display": true
    },
    "colab": {
      "provenance": []
    }
  },
  "nbformat": 4,
  "nbformat_minor": 0
}