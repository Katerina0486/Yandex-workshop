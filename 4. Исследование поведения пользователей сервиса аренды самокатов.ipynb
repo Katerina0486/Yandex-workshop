{
  "cells": [
    {
      "cell_type": "markdown",
      "id": "24dd9511",
      "metadata": {
        "id": "24dd9511"
      },
      "source": [
        "# Анализ сервиса аренды самокатов GoFast\n",
        "\n",
        "Вы аналитик популярного сервиса аренды самокатов GoFast. Вам передали данные о некоторых пользователях из нескольких городов, а также об их поездках. Проанализируйте данные и проверьте некоторые гипотезы, которые могут помочь бизнесу вырасти.\n",
        "\n",
        "Чтобы совершать поездки по городу, пользователи сервиса GoFast пользуются мобильным приложением. Сервисом можно пользоваться:\n",
        "\n",
        "\n",
        "\n",
        "без подписки\n",
        "\n",
        "абонентская плата отсутствует;\n",
        "\n",
        "стоимость одной минуты поездки — 8 рублей;\n",
        "\n",
        "стоимость старта (начала поездки) — 50 рублей;\n",
        "\n",
        "с подпиской Ultra\n",
        "\n",
        "абонентская плата — 199 рублей в месяц;\n",
        "\n",
        "стоимость одной минуты поездки — 6 рублей;\n",
        "\n",
        "стоимость старта — бесплатно."
      ]
    },
    {
      "cell_type": "markdown",
      "id": "2a1c07a6",
      "metadata": {
        "id": "2a1c07a6"
      },
      "source": [
        "# Цель иследования:\n",
        "1. Подсчёт выручки:\n",
        "\n",
        "   1) найдите суммарное расстояние, количество поездок и суммарное время для каждого пользователя за каждый месяц.\n",
        "   \n",
        "   2) Найти и добавить в датафрейм помесячную выручку, которую принёс каждый пользователь.\n",
        "   \n",
        "2. Проверить три гепотизы:\n",
        "\n",
        "   1) Важно понять, тратят ли пользователи с подпиской больше времени на поездки?\n",
        "   \n",
        "   2) Расстояние одной поездки в 3130 метров — оптимальное с точки зрения износа самоката. Можно ли сказать, что расстояние, которое проезжают пользователи с подпиской за одну поездку, не превышает 3130 метров?\n",
        "   \n",
        "   3) Будет ли помесячная выручка от пользователей с подпиской по месяцам выше, чем выручка от пользователей без подписки.\n"
      ]
    },
    {
      "cell_type": "markdown",
      "id": "709d8f75",
      "metadata": {
        "id": "709d8f75"
      },
      "source": [
        "# Ход иследования\n",
        "\n",
        "В основных данных есть информация о пользователях, их поездках и подписках.\n",
        "Пользователи — users_go.csv\n",
        "Поездки — rides_go.csv\n",
        "Подписки — subscriptions_go.csv\n",
        "Данные о аренды самокатов GoFast хранятся на датафреймах. О качестве данных нам ничего неизвестно. Поэтому предед тем как приступать надо найти и по возможности испаривть ошибки, которы не приведут к икажению. Создадим не обходимые столбцы и приступим к цели иследования\n",
        "\n",
        "Обзор данных\n",
        "\n",
        "Сделаем предобработку данных\n",
        "\n",
        "Исследовательский анализ данных\n",
        "\n",
        "Объединение данных\n"
      ]
    },
    {
      "cell_type": "markdown",
      "id": "64c7fc96",
      "metadata": {
        "id": "64c7fc96"
      },
      "source": [
        "Откроем файл с данными и изучим общую информацию."
      ]
    },
    {
      "cell_type": "code",
      "execution_count": null,
      "id": "72576667",
      "metadata": {
        "id": "72576667"
      },
      "outputs": [],
      "source": [
        "import pandas as pd\n",
        "import matplotlib.pyplot as plt\n",
        "import numpy as np\n",
        "import seaborn\n",
        "from scipy import stats as st"
      ]
    },
    {
      "cell_type": "markdown",
      "id": "c42cbe00",
      "metadata": {
        "id": "c42cbe00"
      },
      "source": [
        "#### Шаг 1. Загрузка данных"
      ]
    },
    {
      "cell_type": "markdown",
      "id": "0f76d279",
      "metadata": {
        "id": "0f76d279"
      },
      "source": [
        "\n",
        "\n",
        "Загрузка данных"
      ]
    },
    {
      "cell_type": "code",
      "execution_count": null,
      "id": "eff9f206",
      "metadata": {
        "id": "eff9f206"
      },
      "outputs": [],
      "source": [
        "users = pd.read_csv('/datasets/users_go.csv')\n",
        "rides = pd.read_csv('/datasets/rides_go.csv')\n",
        "subscriptions = pd.read_csv('/datasets/subscriptions_go.csv')\n"
      ]
    },
    {
      "cell_type": "markdown",
      "id": "8d2256bf",
      "metadata": {
        "id": "8d2256bf"
      },
      "source": [
        "1.2 Изучаем общую информацию"
      ]
    },
    {
      "cell_type": "code",
      "execution_count": null,
      "id": "650585b2",
      "metadata": {
        "id": "650585b2",
        "outputId": "37ca9ef1-b991-4930-ad0d-f4a4497a6dd0"
      },
      "outputs": [
        {
          "data": {
            "text/html": [
              "<div>\n",
              "<style scoped>\n",
              "    .dataframe tbody tr th:only-of-type {\n",
              "        vertical-align: middle;\n",
              "    }\n",
              "\n",
              "    .dataframe tbody tr th {\n",
              "        vertical-align: top;\n",
              "    }\n",
              "\n",
              "    .dataframe thead th {\n",
              "        text-align: right;\n",
              "    }\n",
              "</style>\n",
              "<table border=\"1\" class=\"dataframe\">\n",
              "  <thead>\n",
              "    <tr style=\"text-align: right;\">\n",
              "      <th></th>\n",
              "      <th>user_id</th>\n",
              "      <th>name</th>\n",
              "      <th>age</th>\n",
              "      <th>city</th>\n",
              "      <th>subscription_type</th>\n",
              "    </tr>\n",
              "  </thead>\n",
              "  <tbody>\n",
              "    <tr>\n",
              "      <th>0</th>\n",
              "      <td>1</td>\n",
              "      <td>Кира</td>\n",
              "      <td>22</td>\n",
              "      <td>Тюмень</td>\n",
              "      <td>ultra</td>\n",
              "    </tr>\n",
              "    <tr>\n",
              "      <th>1</th>\n",
              "      <td>2</td>\n",
              "      <td>Станислав</td>\n",
              "      <td>31</td>\n",
              "      <td>Омск</td>\n",
              "      <td>ultra</td>\n",
              "    </tr>\n",
              "    <tr>\n",
              "      <th>2</th>\n",
              "      <td>3</td>\n",
              "      <td>Алексей</td>\n",
              "      <td>20</td>\n",
              "      <td>Москва</td>\n",
              "      <td>ultra</td>\n",
              "    </tr>\n",
              "    <tr>\n",
              "      <th>3</th>\n",
              "      <td>4</td>\n",
              "      <td>Константин</td>\n",
              "      <td>26</td>\n",
              "      <td>Ростов-на-Дону</td>\n",
              "      <td>ultra</td>\n",
              "    </tr>\n",
              "    <tr>\n",
              "      <th>4</th>\n",
              "      <td>5</td>\n",
              "      <td>Адель</td>\n",
              "      <td>28</td>\n",
              "      <td>Омск</td>\n",
              "      <td>ultra</td>\n",
              "    </tr>\n",
              "    <tr>\n",
              "      <th>5</th>\n",
              "      <td>6</td>\n",
              "      <td>Регина</td>\n",
              "      <td>25</td>\n",
              "      <td>Краснодар</td>\n",
              "      <td>ultra</td>\n",
              "    </tr>\n",
              "    <tr>\n",
              "      <th>6</th>\n",
              "      <td>7</td>\n",
              "      <td>Игорь</td>\n",
              "      <td>23</td>\n",
              "      <td>Омск</td>\n",
              "      <td>ultra</td>\n",
              "    </tr>\n",
              "    <tr>\n",
              "      <th>7</th>\n",
              "      <td>8</td>\n",
              "      <td>Юрий</td>\n",
              "      <td>23</td>\n",
              "      <td>Краснодар</td>\n",
              "      <td>ultra</td>\n",
              "    </tr>\n",
              "    <tr>\n",
              "      <th>8</th>\n",
              "      <td>9</td>\n",
              "      <td>Ян</td>\n",
              "      <td>21</td>\n",
              "      <td>Пятигорск</td>\n",
              "      <td>ultra</td>\n",
              "    </tr>\n",
              "    <tr>\n",
              "      <th>9</th>\n",
              "      <td>10</td>\n",
              "      <td>Валерий</td>\n",
              "      <td>18</td>\n",
              "      <td>Екатеринбург</td>\n",
              "      <td>ultra</td>\n",
              "    </tr>\n",
              "  </tbody>\n",
              "</table>\n",
              "</div>"
            ],
            "text/plain": [
              "   user_id        name  age            city subscription_type\n",
              "0        1        Кира   22          Тюмень             ultra\n",
              "1        2   Станислав   31            Омск             ultra\n",
              "2        3     Алексей   20          Москва             ultra\n",
              "3        4  Константин   26  Ростов-на-Дону             ultra\n",
              "4        5       Адель   28            Омск             ultra\n",
              "5        6      Регина   25       Краснодар             ultra\n",
              "6        7       Игорь   23            Омск             ultra\n",
              "7        8        Юрий   23       Краснодар             ultra\n",
              "8        9          Ян   21       Пятигорск             ultra\n",
              "9       10     Валерий   18    Екатеринбург             ultra"
            ]
          },
          "execution_count": 3,
          "metadata": {},
          "output_type": "execute_result"
        }
      ],
      "source": [
        "users.head(10)"
      ]
    },
    {
      "cell_type": "code",
      "execution_count": null,
      "id": "80404e5f",
      "metadata": {
        "id": "80404e5f",
        "outputId": "167cf558-b0d4-4a72-9f98-a55c62322975"
      },
      "outputs": [
        {
          "data": {
            "text/html": [
              "<div>\n",
              "<style scoped>\n",
              "    .dataframe tbody tr th:only-of-type {\n",
              "        vertical-align: middle;\n",
              "    }\n",
              "\n",
              "    .dataframe tbody tr th {\n",
              "        vertical-align: top;\n",
              "    }\n",
              "\n",
              "    .dataframe thead th {\n",
              "        text-align: right;\n",
              "    }\n",
              "</style>\n",
              "<table border=\"1\" class=\"dataframe\">\n",
              "  <thead>\n",
              "    <tr style=\"text-align: right;\">\n",
              "      <th></th>\n",
              "      <th>user_id</th>\n",
              "      <th>distance</th>\n",
              "      <th>duration</th>\n",
              "      <th>date</th>\n",
              "    </tr>\n",
              "  </thead>\n",
              "  <tbody>\n",
              "    <tr>\n",
              "      <th>0</th>\n",
              "      <td>1</td>\n",
              "      <td>4409.919140</td>\n",
              "      <td>25.599769</td>\n",
              "      <td>2021-01-01</td>\n",
              "    </tr>\n",
              "    <tr>\n",
              "      <th>1</th>\n",
              "      <td>1</td>\n",
              "      <td>2617.592153</td>\n",
              "      <td>15.816871</td>\n",
              "      <td>2021-01-18</td>\n",
              "    </tr>\n",
              "    <tr>\n",
              "      <th>2</th>\n",
              "      <td>1</td>\n",
              "      <td>754.159807</td>\n",
              "      <td>6.232113</td>\n",
              "      <td>2021-04-20</td>\n",
              "    </tr>\n",
              "    <tr>\n",
              "      <th>3</th>\n",
              "      <td>1</td>\n",
              "      <td>2694.783254</td>\n",
              "      <td>18.511000</td>\n",
              "      <td>2021-08-11</td>\n",
              "    </tr>\n",
              "    <tr>\n",
              "      <th>4</th>\n",
              "      <td>1</td>\n",
              "      <td>4028.687306</td>\n",
              "      <td>26.265803</td>\n",
              "      <td>2021-08-28</td>\n",
              "    </tr>\n",
              "  </tbody>\n",
              "</table>\n",
              "</div>"
            ],
            "text/plain": [
              "   user_id     distance   duration        date\n",
              "0        1  4409.919140  25.599769  2021-01-01\n",
              "1        1  2617.592153  15.816871  2021-01-18\n",
              "2        1   754.159807   6.232113  2021-04-20\n",
              "3        1  2694.783254  18.511000  2021-08-11\n",
              "4        1  4028.687306  26.265803  2021-08-28"
            ]
          },
          "execution_count": 4,
          "metadata": {},
          "output_type": "execute_result"
        }
      ],
      "source": [
        "rides.head()"
      ]
    },
    {
      "cell_type": "code",
      "execution_count": null,
      "id": "965006e8",
      "metadata": {
        "id": "965006e8",
        "outputId": "2c15cfa7-d4f9-4a88-960f-113e0b241810"
      },
      "outputs": [
        {
          "data": {
            "text/html": [
              "<div>\n",
              "<style scoped>\n",
              "    .dataframe tbody tr th:only-of-type {\n",
              "        vertical-align: middle;\n",
              "    }\n",
              "\n",
              "    .dataframe tbody tr th {\n",
              "        vertical-align: top;\n",
              "    }\n",
              "\n",
              "    .dataframe thead th {\n",
              "        text-align: right;\n",
              "    }\n",
              "</style>\n",
              "<table border=\"1\" class=\"dataframe\">\n",
              "  <thead>\n",
              "    <tr style=\"text-align: right;\">\n",
              "      <th></th>\n",
              "      <th>subscription_type</th>\n",
              "      <th>minute_price</th>\n",
              "      <th>start_ride_price</th>\n",
              "      <th>subscription_fee</th>\n",
              "    </tr>\n",
              "  </thead>\n",
              "  <tbody>\n",
              "    <tr>\n",
              "      <th>0</th>\n",
              "      <td>free</td>\n",
              "      <td>8</td>\n",
              "      <td>50</td>\n",
              "      <td>0</td>\n",
              "    </tr>\n",
              "    <tr>\n",
              "      <th>1</th>\n",
              "      <td>ultra</td>\n",
              "      <td>6</td>\n",
              "      <td>0</td>\n",
              "      <td>199</td>\n",
              "    </tr>\n",
              "  </tbody>\n",
              "</table>\n",
              "</div>"
            ],
            "text/plain": [
              "  subscription_type  minute_price  start_ride_price  subscription_fee\n",
              "0              free             8                50                 0\n",
              "1             ultra             6                 0               199"
            ]
          },
          "execution_count": 5,
          "metadata": {},
          "output_type": "execute_result"
        }
      ],
      "source": [
        "subscriptions.head()"
      ]
    },
    {
      "cell_type": "markdown",
      "id": "f780525e",
      "metadata": {
        "id": "f780525e"
      },
      "source": [
        "Просмотрели исходные данные, изучим их глубже что-бы увидеть полную иноформацию в данных, найти и исправить по возможности ошибки.\n",
        "\n",
        "Все таблицы связаны между собой\n",
        "в 1 таблице указан город и номер ползователя, а также информация о подписки\n",
        "в 2 таблице есть иноформация о длительности времени и расстояние которое предодолел пользователь и дата начала\n",
        "в 3 таблице указана информация о тарифах. Ставки за начало поездки и стоимость минуты"
      ]
    },
    {
      "cell_type": "markdown",
      "id": "e95ebca7",
      "metadata": {
        "id": "e95ebca7"
      },
      "source": [
        "#### Шаг 2. Предобработка данных"
      ]
    },
    {
      "cell_type": "markdown",
      "id": "d697cb05",
      "metadata": {
        "id": "d697cb05"
      },
      "source": [
        "Посмотрим таблицу users"
      ]
    },
    {
      "cell_type": "code",
      "execution_count": null,
      "id": "af6d202c",
      "metadata": {
        "id": "af6d202c",
        "outputId": "61abac4f-81f9-473d-8e87-5192d5cb5e3e"
      },
      "outputs": [
        {
          "name": "stdout",
          "output_type": "stream",
          "text": [
            "<class 'pandas.core.frame.DataFrame'>\n",
            "RangeIndex: 1565 entries, 0 to 1564\n",
            "Data columns (total 5 columns):\n",
            " #   Column             Non-Null Count  Dtype \n",
            "---  ------             --------------  ----- \n",
            " 0   user_id            1565 non-null   int64 \n",
            " 1   name               1565 non-null   object\n",
            " 2   age                1565 non-null   int64 \n",
            " 3   city               1565 non-null   object\n",
            " 4   subscription_type  1565 non-null   object\n",
            "dtypes: int64(2), object(3)\n",
            "memory usage: 61.3+ KB\n"
          ]
        }
      ],
      "source": [
        "users.info()"
      ]
    },
    {
      "cell_type": "code",
      "execution_count": null,
      "id": "e3c3f519",
      "metadata": {
        "id": "e3c3f519",
        "outputId": "6207d23a-424f-40f6-98f5-0b86200998db"
      },
      "outputs": [
        {
          "data": {
            "text/plain": [
              "user_id              0\n",
              "name                 0\n",
              "age                  0\n",
              "city                 0\n",
              "subscription_type    0\n",
              "dtype: int64"
            ]
          },
          "execution_count": 7,
          "metadata": {},
          "output_type": "execute_result"
        }
      ],
      "source": [
        "# обработка пропусков (посмотрим количесвто пропусков)\n",
        "users.isna().sum()"
      ]
    },
    {
      "cell_type": "code",
      "execution_count": null,
      "id": "ebd93ba6",
      "metadata": {
        "id": "ebd93ba6",
        "outputId": "42c20c64-2ab8-4d0e-c77e-8b3b0d20ce45"
      },
      "outputs": [
        {
          "data": {
            "text/plain": [
              "31"
            ]
          },
          "execution_count": 8,
          "metadata": {},
          "output_type": "execute_result"
        }
      ],
      "source": [
        "# поиск дубликатов\n",
        "users.duplicated().sum()"
      ]
    },
    {
      "cell_type": "markdown",
      "id": "e55d4ec4",
      "metadata": {
        "id": "e55d4ec4"
      },
      "source": [
        "мы можем заметить что в таблице есть посторяющие значения, удалим их"
      ]
    },
    {
      "cell_type": "code",
      "execution_count": null,
      "id": "1a67545b",
      "metadata": {
        "id": "1a67545b"
      },
      "outputs": [],
      "source": [
        "# удаляем все дубликаты\n",
        "users = users.drop_duplicates()"
      ]
    },
    {
      "cell_type": "code",
      "execution_count": null,
      "id": "e1616577",
      "metadata": {
        "id": "e1616577",
        "outputId": "ac4efb09-f77b-48ec-a829-8829216893af"
      },
      "outputs": [
        {
          "data": {
            "text/plain": [
              "0"
            ]
          },
          "execution_count": 10,
          "metadata": {},
          "output_type": "execute_result"
        }
      ],
      "source": [
        "# проверяем\n",
        "users['user_id'].duplicated().sum()"
      ]
    },
    {
      "cell_type": "markdown",
      "id": "83fd4242",
      "metadata": {
        "id": "83fd4242"
      },
      "source": [
        "посмотрим таблицу rides"
      ]
    },
    {
      "cell_type": "code",
      "execution_count": null,
      "id": "6db64a6c",
      "metadata": {
        "id": "6db64a6c",
        "outputId": "29aae38f-b00d-4b34-da12-4dedbf3b71bc"
      },
      "outputs": [
        {
          "name": "stdout",
          "output_type": "stream",
          "text": [
            "<class 'pandas.core.frame.DataFrame'>\n",
            "RangeIndex: 18068 entries, 0 to 18067\n",
            "Data columns (total 4 columns):\n",
            " #   Column    Non-Null Count  Dtype  \n",
            "---  ------    --------------  -----  \n",
            " 0   user_id   18068 non-null  int64  \n",
            " 1   distance  18068 non-null  float64\n",
            " 2   duration  18068 non-null  float64\n",
            " 3   date      18068 non-null  object \n",
            "dtypes: float64(2), int64(1), object(1)\n",
            "memory usage: 564.8+ KB\n"
          ]
        }
      ],
      "source": [
        "rides.info()"
      ]
    },
    {
      "cell_type": "code",
      "execution_count": null,
      "id": "bf86c1f1",
      "metadata": {
        "id": "bf86c1f1"
      },
      "outputs": [],
      "source": [
        "# преобразуем столбец 'date' к формату datetime\n",
        "rides['date'] = pd.to_datetime(rides['date'],  format='%Y-%m-%d')"
      ]
    },
    {
      "cell_type": "code",
      "execution_count": null,
      "id": "b671c9c4",
      "metadata": {
        "id": "b671c9c4",
        "outputId": "851deeb0-64c0-432b-ae82-16880a1fb6ee"
      },
      "outputs": [
        {
          "data": {
            "text/plain": [
              "user_id     0\n",
              "distance    0\n",
              "duration    0\n",
              "date        0\n",
              "dtype: int64"
            ]
          },
          "execution_count": 13,
          "metadata": {},
          "output_type": "execute_result"
        }
      ],
      "source": [
        "rides.isna().sum()"
      ]
    },
    {
      "cell_type": "code",
      "execution_count": null,
      "id": "d19c5a89",
      "metadata": {
        "id": "d19c5a89",
        "outputId": "2051bf5d-dfae-4a6d-b375-e129c8c721e9"
      },
      "outputs": [
        {
          "data": {
            "text/plain": [
              "0"
            ]
          },
          "execution_count": 14,
          "metadata": {},
          "output_type": "execute_result"
        }
      ],
      "source": [
        "# посмотрим на дубликаты в этой таблице\n",
        "rides.duplicated().sum()"
      ]
    },
    {
      "cell_type": "markdown",
      "id": "2a55ce87",
      "metadata": {
        "id": "2a55ce87"
      },
      "source": [
        "В данной таблице нету пропусков и дубликатов.\n",
        "\n",
        "Преобразуем формат даты и добавим столец с месяцами"
      ]
    },
    {
      "cell_type": "code",
      "execution_count": null,
      "id": "05a08354",
      "metadata": {
        "id": "05a08354",
        "outputId": "9f41e050-e508-4c7f-9f20-558225980de3"
      },
      "outputs": [
        {
          "data": {
            "text/plain": [
              "array([2021])"
            ]
          },
          "execution_count": 15,
          "metadata": {},
          "output_type": "execute_result"
        }
      ],
      "source": [
        "# сначала проверим за какой год у нас представленны данные\n",
        "rides['date'].dt.year.unique()"
      ]
    },
    {
      "cell_type": "code",
      "execution_count": null,
      "id": "6960d033",
      "metadata": {
        "id": "6960d033"
      },
      "outputs": [],
      "source": [
        "# создадим столбец со значением месяца\n",
        "rides['month'] = rides['date'].dt.month"
      ]
    },
    {
      "cell_type": "code",
      "execution_count": null,
      "id": "f5b1981d",
      "metadata": {
        "id": "f5b1981d",
        "outputId": "a0d804a4-8ad7-4c5d-a4a3-d362f426b66c"
      },
      "outputs": [
        {
          "data": {
            "text/plain": [
              "0    1\n",
              "1    1\n",
              "2    4\n",
              "3    8\n",
              "4    8\n",
              "Name: month, dtype: int64"
            ]
          },
          "execution_count": 17,
          "metadata": {},
          "output_type": "execute_result"
        }
      ],
      "source": [
        "rides['month'].head()"
      ]
    },
    {
      "cell_type": "code",
      "execution_count": null,
      "id": "5eeca9d9",
      "metadata": {
        "id": "5eeca9d9",
        "outputId": "c8f3be13-f6a5-4da5-f50c-388c74f5c5e4"
      },
      "outputs": [
        {
          "data": {
            "text/html": [
              "<div>\n",
              "<style scoped>\n",
              "    .dataframe tbody tr th:only-of-type {\n",
              "        vertical-align: middle;\n",
              "    }\n",
              "\n",
              "    .dataframe tbody tr th {\n",
              "        vertical-align: top;\n",
              "    }\n",
              "\n",
              "    .dataframe thead th {\n",
              "        text-align: right;\n",
              "    }\n",
              "</style>\n",
              "<table border=\"1\" class=\"dataframe\">\n",
              "  <thead>\n",
              "    <tr style=\"text-align: right;\">\n",
              "      <th></th>\n",
              "      <th>user_id</th>\n",
              "      <th>distance</th>\n",
              "      <th>duration</th>\n",
              "      <th>date</th>\n",
              "      <th>month</th>\n",
              "    </tr>\n",
              "  </thead>\n",
              "  <tbody>\n",
              "    <tr>\n",
              "      <th>0</th>\n",
              "      <td>1</td>\n",
              "      <td>4409.919140</td>\n",
              "      <td>25.599769</td>\n",
              "      <td>2021-01-01</td>\n",
              "      <td>1</td>\n",
              "    </tr>\n",
              "    <tr>\n",
              "      <th>1</th>\n",
              "      <td>1</td>\n",
              "      <td>2617.592153</td>\n",
              "      <td>15.816871</td>\n",
              "      <td>2021-01-18</td>\n",
              "      <td>1</td>\n",
              "    </tr>\n",
              "    <tr>\n",
              "      <th>2</th>\n",
              "      <td>1</td>\n",
              "      <td>754.159807</td>\n",
              "      <td>6.232113</td>\n",
              "      <td>2021-04-20</td>\n",
              "      <td>4</td>\n",
              "    </tr>\n",
              "    <tr>\n",
              "      <th>3</th>\n",
              "      <td>1</td>\n",
              "      <td>2694.783254</td>\n",
              "      <td>18.511000</td>\n",
              "      <td>2021-08-11</td>\n",
              "      <td>8</td>\n",
              "    </tr>\n",
              "    <tr>\n",
              "      <th>4</th>\n",
              "      <td>1</td>\n",
              "      <td>4028.687306</td>\n",
              "      <td>26.265803</td>\n",
              "      <td>2021-08-28</td>\n",
              "      <td>8</td>\n",
              "    </tr>\n",
              "  </tbody>\n",
              "</table>\n",
              "</div>"
            ],
            "text/plain": [
              "   user_id     distance   duration       date  month\n",
              "0        1  4409.919140  25.599769 2021-01-01      1\n",
              "1        1  2617.592153  15.816871 2021-01-18      1\n",
              "2        1   754.159807   6.232113 2021-04-20      4\n",
              "3        1  2694.783254  18.511000 2021-08-11      8\n",
              "4        1  4028.687306  26.265803 2021-08-28      8"
            ]
          },
          "execution_count": 18,
          "metadata": {},
          "output_type": "execute_result"
        }
      ],
      "source": [
        "rides.head()"
      ]
    },
    {
      "cell_type": "markdown",
      "id": "08f625b4",
      "metadata": {
        "id": "08f625b4"
      },
      "source": [
        "Посмотим таблицу subscriptions"
      ]
    },
    {
      "cell_type": "code",
      "execution_count": null,
      "id": "da3a1dcf",
      "metadata": {
        "scrolled": true,
        "id": "da3a1dcf",
        "outputId": "59aa1321-fbb8-4dca-c6a1-c7f75afff578"
      },
      "outputs": [
        {
          "name": "stdout",
          "output_type": "stream",
          "text": [
            "<class 'pandas.core.frame.DataFrame'>\n",
            "RangeIndex: 2 entries, 0 to 1\n",
            "Data columns (total 4 columns):\n",
            " #   Column             Non-Null Count  Dtype \n",
            "---  ------             --------------  ----- \n",
            " 0   subscription_type  2 non-null      object\n",
            " 1   minute_price       2 non-null      int64 \n",
            " 2   start_ride_price   2 non-null      int64 \n",
            " 3   subscription_fee   2 non-null      int64 \n",
            "dtypes: int64(3), object(1)\n",
            "memory usage: 192.0+ bytes\n"
          ]
        }
      ],
      "source": [
        "subscriptions.info()"
      ]
    },
    {
      "cell_type": "code",
      "execution_count": null,
      "id": "ebffe751",
      "metadata": {
        "id": "ebffe751",
        "outputId": "d5b335fd-1ccc-4162-fb16-558b8295d61e"
      },
      "outputs": [
        {
          "data": {
            "text/plain": [
              "subscription_type    0\n",
              "minute_price         0\n",
              "start_ride_price     0\n",
              "subscription_fee     0\n",
              "dtype: int64"
            ]
          },
          "execution_count": 20,
          "metadata": {},
          "output_type": "execute_result"
        }
      ],
      "source": [
        "subscriptions.isna().sum()"
      ]
    },
    {
      "cell_type": "code",
      "execution_count": null,
      "id": "86696cbd",
      "metadata": {
        "id": "86696cbd",
        "outputId": "4931c8c8-ecad-4c57-d588-bbf71f7f99a1"
      },
      "outputs": [
        {
          "data": {
            "text/plain": [
              "0"
            ]
          },
          "execution_count": 21,
          "metadata": {},
          "output_type": "execute_result"
        }
      ],
      "source": [
        "subscriptions.duplicated().sum()"
      ]
    },
    {
      "cell_type": "markdown",
      "id": "f2e441a2",
      "metadata": {
        "id": "f2e441a2"
      },
      "source": [
        "Пропусков в таблицах нет\n",
        "\n",
        "Были обнаружены дубликаты в таблице users, удалили.\n",
        "\n",
        "Добавили столбец с номером месяца, провреили за какой год у нас данные в таблице. за 2021 год"
      ]
    },
    {
      "cell_type": "markdown",
      "id": "212593c7",
      "metadata": {
        "id": "212593c7"
      },
      "source": [
        "#### Шаг 3. Исследовательский анализ данных"
      ]
    },
    {
      "cell_type": "markdown",
      "id": "5fd20d35",
      "metadata": {
        "id": "5fd20d35"
      },
      "source": [
        "3.1 частота встречаемости городов"
      ]
    },
    {
      "cell_type": "code",
      "execution_count": null,
      "id": "e3a4274c",
      "metadata": {
        "id": "e3a4274c",
        "outputId": "9a13c818-cdaa-465a-d2b7-55b339ba3587"
      },
      "outputs": [
        {
          "data": {
            "text/plain": [
              "Пятигорск         219\n",
              "Екатеринбург      204\n",
              "Ростов-на-Дону    198\n",
              "Краснодар         193\n",
              "Сочи              189\n",
              "Омск              183\n",
              "Тюмень            180\n",
              "Москва            168\n",
              "Name: city, dtype: int64"
            ]
          },
          "execution_count": 22,
          "metadata": {},
          "output_type": "execute_result"
        }
      ],
      "source": [
        "count_city = users['city'].value_counts()\n",
        "count_city"
      ]
    },
    {
      "cell_type": "code",
      "execution_count": null,
      "id": "93426bc1",
      "metadata": {
        "id": "93426bc1",
        "outputId": "61cac537-175d-4362-ca2e-ea0ce400aa6d"
      },
      "outputs": [
        {
          "data": {
            "text/plain": [
              "<AxesSubplot:title={'center':'Распределение пользователей по городам'}>"
            ]
          },
          "execution_count": 23,
          "metadata": {},
          "output_type": "execute_result"
        },
        {
          "data": {
            "image/png": "[encoded data removed]",
            "text/plain": [
              "<Figure size 504x504 with 1 Axes>"
            ]
          },
          "metadata": {
            "needs_background": "light"
          },
          "output_type": "display_data"
        }
      ],
      "source": [
        "#users['city'].value_counts().plot (kind = 'pie', y = count_city, autopct = '%1.0f%%',figsize=(7,7), title = 'Распределение пользователей по городам')\n",
        "users['city'].value_counts().plot(kind = 'bar', y = count_city, figsize=(7,7), title = 'Распределение пользователей по городам')"
      ]
    },
    {
      "cell_type": "markdown",
      "id": "901c7376",
      "metadata": {
        "id": "901c7376"
      },
      "source": [
        "Частота встречаемости городов\n",
        "\n",
        "Количество пользователей по городам распределено примерно одинаково, нет выдающихся значений. Лидером по количеству пользователей является Пятигорск - 219 пользователей. Меньше всего пользователей в Москве - 168. Связано это скорее всего с тем, что Пятигорск по размерам в несколько раз меньше Москвы, т.е. в Пятигорске удобнее брать самокат, чтобы куда-то добраться."
      ]
    },
    {
      "cell_type": "markdown",
      "id": "2299b313",
      "metadata": {
        "id": "2299b313"
      },
      "source": [
        "3.2 соотношение пользователей с подпиской и без подписки"
      ]
    },
    {
      "cell_type": "code",
      "execution_count": null,
      "id": "616593a0",
      "metadata": {
        "id": "616593a0",
        "outputId": "000d2d66-1ebe-4eea-d737-061e55687bf9"
      },
      "outputs": [
        {
          "data": {
            "text/plain": [
              "free     835\n",
              "ultra    699\n",
              "Name: subscription_type, dtype: int64"
            ]
          },
          "execution_count": 24,
          "metadata": {},
          "output_type": "execute_result"
        }
      ],
      "source": [
        "count_sub = users['subscription_type'].value_counts()\n",
        "count_sub"
      ]
    },
    {
      "cell_type": "code",
      "execution_count": null,
      "id": "e6327834",
      "metadata": {
        "id": "e6327834",
        "outputId": "51a3c7e5-bd60-45d1-ced3-3cc8637ff69e"
      },
      "outputs": [
        {
          "data": {
            "text/plain": [
              "<AxesSubplot:title={'center':'Процентное соотношение пользователей в зависимости от тарифа'}, ylabel='subscription_type'>"
            ]
          },
          "execution_count": 25,
          "metadata": {},
          "output_type": "execute_result"
        },
        {
          "data": {
            "image/png": "[encoded data removed]",
            "text/plain": [
              "<Figure size 360x360 with 1 Axes>"
            ]
          },
          "metadata": {},
          "output_type": "display_data"
        }
      ],
      "source": [
        "users['subscription_type'].value_counts().plot(kind = 'pie', y = count_sub, autopct = '%1.0f%%', figsize=(5,5), title = 'Процентное соотношение пользователей в зависимости от тарифа')\n",
        "\n",
        "#users['subscription_type'].value_counts().plot(kind = 'bar', y = count_city, figsize=(7,7), title = 'Процентное соотношение пользователей в зависимости от тарифа')"
      ]
    },
    {
      "cell_type": "markdown",
      "id": "ba17cac9",
      "metadata": {
        "id": "ba17cac9"
      },
      "source": [
        "Соотношение пользователей с подпиской и без подписки\n",
        "\n",
        "Пользователей, использующих бесплатную подписку больше - 835 человек, что 54% от общего числа пользователей. На платной подписке сидит 699 пользователей, что соответственно 46%."
      ]
    },
    {
      "cell_type": "markdown",
      "id": "83d9d359",
      "metadata": {
        "id": "83d9d359"
      },
      "source": [
        "3.3 возраст пользователей"
      ]
    },
    {
      "cell_type": "code",
      "execution_count": null,
      "id": "de66cd73",
      "metadata": {
        "id": "de66cd73",
        "outputId": "ce2981c6-e3dd-47ce-e73f-b17fb918ef7b"
      },
      "outputs": [
        {
          "name": "stdout",
          "output_type": "stream",
          "text": [
            "12\n",
            "43\n"
          ]
        }
      ],
      "source": [
        "#самые маленькие\n",
        "print(users['age'].min())\n",
        "#самые взрослые\n",
        "print(users['age'].max())"
      ]
    },
    {
      "cell_type": "code",
      "execution_count": null,
      "id": "e053c4c1",
      "metadata": {
        "id": "e053c4c1",
        "outputId": "d61f256d-80d3-457d-b09e-9e772dc6f216"
      },
      "outputs": [
        {
          "data": {
            "image/png": "[encoded data removed]",
            "text/plain": [
              "<Figure size 432x288 with 1 Axes>"
            ]
          },
          "metadata": {
            "needs_background": "light"
          },
          "output_type": "display_data"
        }
      ],
      "source": [
        "plt.hist(users['age'], bins = 10)\n",
        "plt.title('Возраст пользователей')\n",
        "plt.xlabel('Возраст')\n",
        "plt.ylabel('Количество пользователей')\n",
        "plt.grid()\n",
        "plt.show()"
      ]
    },
    {
      "cell_type": "markdown",
      "id": "0cb21f25",
      "metadata": {
        "id": "0cb21f25"
      },
      "source": [
        "Возраст пользователей\n",
        "\n",
        "Самыми младшими являются пользователи 12 лет.\n",
        "Самыми старшими - 43.\n",
        "\n",
        "В среднем указывают возраст от 23 до 28 лет."
      ]
    },
    {
      "cell_type": "markdown",
      "id": "995599f9",
      "metadata": {
        "id": "995599f9"
      },
      "source": []
    },
    {
      "cell_type": "markdown",
      "id": "4503536a",
      "metadata": {
        "id": "4503536a"
      },
      "source": [
        "3.4 расстояние, которое пользователь преодолел за одну поездку"
      ]
    },
    {
      "cell_type": "code",
      "execution_count": null,
      "id": "9ff98dd4",
      "metadata": {
        "id": "9ff98dd4",
        "outputId": "51fafbdf-a5e8-44dd-c8ac-d95731f1a30f"
      },
      "outputs": [
        {
          "data": {
            "text/plain": [
              "11555    0.855683\n",
              "9541     2.570787\n",
              "13690    4.329506\n",
              "8658     6.784447\n",
              "7841     7.097072\n",
              "Name: distance, dtype: float64"
            ]
          },
          "execution_count": 28,
          "metadata": {},
          "output_type": "execute_result"
        }
      ],
      "source": [
        "# самые короткие дистанции\n",
        "rides['distance'].sort_values().head()"
      ]
    },
    {
      "cell_type": "code",
      "execution_count": null,
      "id": "ce61de10",
      "metadata": {
        "id": "ce61de10",
        "outputId": "22fbcffe-c834-4cbc-8633-c7b7b9568d00"
      },
      "outputs": [
        {
          "data": {
            "text/plain": [
              "16309    7211.007745\n",
              "16484    7066.003772\n",
              "15580    6908.491343\n",
              "17171    6760.940067\n",
              "17242    6724.932981\n",
              "Name: distance, dtype: float64"
            ]
          },
          "execution_count": 29,
          "metadata": {},
          "output_type": "execute_result"
        }
      ],
      "source": [
        "# самые длиные дистанции\n",
        "rides['distance'].sort_values(ascending=False).head()"
      ]
    },
    {
      "cell_type": "code",
      "execution_count": null,
      "id": "81460c19",
      "metadata": {
        "id": "81460c19",
        "outputId": "c4f80b96-9702-4667-e38b-0aac7af7c818"
      },
      "outputs": [
        {
          "data": {
            "image/png": "[encoded data removed]",
            "text/plain": [
              "<Figure size 432x288 with 1 Axes>"
            ]
          },
          "metadata": {
            "needs_background": "light"
          },
          "output_type": "display_data"
        }
      ],
      "source": [
        "plt.hist(rides['distance'], bins = 10)\n",
        "plt.title('Дистанции пользователей')\n",
        "plt.xlabel('дистанция')\n",
        "plt.ylabel('Количество пользователей')\n",
        "plt.grid()\n",
        "plt.show()"
      ]
    },
    {
      "cell_type": "code",
      "execution_count": null,
      "id": "ef9e2b40",
      "metadata": {
        "id": "ef9e2b40",
        "outputId": "41a9db61-4405-4507-cf36-5b0eb1c2c275"
      },
      "outputs": [
        {
          "data": {
            "image/png": "[encoded data removed]",
            "text/plain": [
              "<Figure size 576x432 with 1 Axes>"
            ]
          },
          "metadata": {
            "needs_background": "light"
          },
          "output_type": "display_data"
        }
      ],
      "source": [
        "rides.boxplot(column ='distance', figsize=(8, 6))\n",
        "plt.title('Растояние пользователей')\n",
        "plt.ylim(-100,7000)\n",
        "plt.ylabel('Растояние')\n",
        "plt.show()"
      ]
    },
    {
      "cell_type": "markdown",
      "id": "bfb7ffe3",
      "metadata": {
        "id": "bfb7ffe3"
      },
      "source": [
        "Расстояние, которое пользователь преодолел за одну поездку\n",
        "\n",
        "Самая короткая дистанция - 0.86 км\n",
        "Самая длинная - 7.2 км\n",
        "В основном пользователи проезжают от 2.3 км до 4.4 км."
      ]
    },
    {
      "cell_type": "markdown",
      "id": "06d10a24",
      "metadata": {
        "id": "06d10a24"
      },
      "source": []
    },
    {
      "cell_type": "markdown",
      "id": "174bbf0c",
      "metadata": {
        "id": "174bbf0c"
      },
      "source": [
        "3.5 продолжительность поездок"
      ]
    },
    {
      "cell_type": "code",
      "execution_count": null,
      "id": "b2aa0d39",
      "metadata": {
        "id": "b2aa0d39",
        "outputId": "753ce978-5c73-4a21-8dc7-343761761bb7"
      },
      "outputs": [
        {
          "data": {
            "text/plain": [
              "12013    0.5\n",
              "17314    0.5\n",
              "15029    0.5\n",
              "7437     0.5\n",
              "12967    0.5\n",
              "Name: duration, dtype: float64"
            ]
          },
          "execution_count": 32,
          "metadata": {},
          "output_type": "execute_result"
        }
      ],
      "source": [
        "# Самые короткие поездки\n",
        "rides['duration'].sort_values().head()"
      ]
    },
    {
      "cell_type": "code",
      "execution_count": null,
      "id": "7d4d4a43",
      "metadata": {
        "id": "7d4d4a43",
        "outputId": "3575a853-d807-47c6-99cc-b7310cd73dd9"
      },
      "outputs": [
        {
          "data": {
            "text/plain": [
              "4215    40.823963\n",
              "4709    39.873856\n",
              "2623    39.526602\n",
              "1998    38.352763\n",
              "6453    38.265229\n",
              "Name: duration, dtype: float64"
            ]
          },
          "execution_count": 33,
          "metadata": {},
          "output_type": "execute_result"
        }
      ],
      "source": [
        "# Самые длиные поездки\n",
        "rides['duration'].sort_values(ascending=False).head()"
      ]
    },
    {
      "cell_type": "code",
      "execution_count": null,
      "id": "80dcdbaf",
      "metadata": {
        "id": "80dcdbaf",
        "outputId": "530f35a6-1bb4-4701-b487-bbcdf5856b68"
      },
      "outputs": [
        {
          "data": {
            "image/png": "[encoded data removed]",
            "text/plain": [
              "<Figure size 432x288 with 1 Axes>"
            ]
          },
          "metadata": {
            "needs_background": "light"
          },
          "output_type": "display_data"
        }
      ],
      "source": [
        "plt.hist(rides['duration'], bins = 10)\n",
        "plt.title('Продолжтельность пользователей')\n",
        "plt.xlabel('Продолжительность')\n",
        "plt.ylabel('Количество пользователей')\n",
        "plt.grid()\n",
        "plt.show()"
      ]
    },
    {
      "cell_type": "code",
      "execution_count": null,
      "id": "87270d6f",
      "metadata": {
        "id": "87270d6f",
        "outputId": "daf42ae0-dcc0-42ac-bd00-df583b2a9fb0"
      },
      "outputs": [
        {
          "data": {
            "image/png": "[encoded data removed]",
            "text/plain": [
              "<Figure size 576x432 with 1 Axes>"
            ]
          },
          "metadata": {
            "needs_background": "light"
          },
          "output_type": "display_data"
        }
      ],
      "source": [
        "rides.boxplot(column ='duration', figsize=(8, 6))\n",
        "plt.title('Продолжтельность пользователей')\n",
        "plt.ylim(-10,50)\n",
        "plt.ylabel('Время')\n",
        "plt.show()"
      ]
    },
    {
      "cell_type": "markdown",
      "id": "bd6120b3",
      "metadata": {
        "id": "bd6120b3"
      },
      "source": [
        "Продолжительность поездок\n",
        "\n",
        "Самые короткие поездки - по пол минуты. Выглядят странно, возможно техническая неинсправность самого самоката.\n",
        "Самая длинная поездка заняла 40 минут.\n",
        "В основном же длительность поездки состовляет 13 - 22 минут."
      ]
    },
    {
      "cell_type": "markdown",
      "id": "3cc67c63",
      "metadata": {
        "id": "3cc67c63"
      },
      "source": []
    },
    {
      "cell_type": "markdown",
      "id": "4ef51331",
      "metadata": {
        "id": "4ef51331"
      },
      "source": [
        "#### Шаг 4. Объединение данных"
      ]
    },
    {
      "cell_type": "markdown",
      "id": "b81a8234",
      "metadata": {
        "id": "b81a8234"
      },
      "source": [
        "4.1 Объедините данные о пользователях, поездках и подписках в один датафрейм."
      ]
    },
    {
      "cell_type": "code",
      "execution_count": null,
      "id": "580906ad",
      "metadata": {
        "id": "580906ad",
        "outputId": "12462e55-8821-4094-b6e8-870f9fd81b74"
      },
      "outputs": [
        {
          "name": "stdout",
          "output_type": "stream",
          "text": [
            "Размер талицы пользователей (1534, 5)\n",
            "Размер таблицы с поездакми (18068, 5)\n",
            "Разммер таблицы по подпискам (2, 4)\n"
          ]
        }
      ],
      "source": [
        "# размеры датасетов до объединения\n",
        "print(f'Размер талицы пользователей {users.shape}')\n",
        "print(f'Размер таблицы с поездакми {rides.shape}')\n",
        "print(f'Разммер таблицы по подпискам {subscriptions.shape}')"
      ]
    },
    {
      "cell_type": "code",
      "execution_count": null,
      "id": "ecf2c9b7",
      "metadata": {
        "id": "ecf2c9b7",
        "outputId": "54811f3a-6698-4f06-8238-a56a3c26dcce"
      },
      "outputs": [
        {
          "data": {
            "text/html": [
              "<div>\n",
              "<style scoped>\n",
              "    .dataframe tbody tr th:only-of-type {\n",
              "        vertical-align: middle;\n",
              "    }\n",
              "\n",
              "    .dataframe tbody tr th {\n",
              "        vertical-align: top;\n",
              "    }\n",
              "\n",
              "    .dataframe thead th {\n",
              "        text-align: right;\n",
              "    }\n",
              "</style>\n",
              "<table border=\"1\" class=\"dataframe\">\n",
              "  <thead>\n",
              "    <tr style=\"text-align: right;\">\n",
              "      <th></th>\n",
              "      <th>user_id</th>\n",
              "      <th>name</th>\n",
              "      <th>age</th>\n",
              "      <th>city</th>\n",
              "      <th>subscription_type</th>\n",
              "      <th>distance</th>\n",
              "      <th>duration</th>\n",
              "      <th>date</th>\n",
              "      <th>month</th>\n",
              "      <th>minute_price</th>\n",
              "      <th>start_ride_price</th>\n",
              "      <th>subscription_fee</th>\n",
              "    </tr>\n",
              "  </thead>\n",
              "  <tbody>\n",
              "    <tr>\n",
              "      <th>0</th>\n",
              "      <td>1</td>\n",
              "      <td>Кира</td>\n",
              "      <td>22</td>\n",
              "      <td>Тюмень</td>\n",
              "      <td>ultra</td>\n",
              "      <td>4409.919140</td>\n",
              "      <td>25.599769</td>\n",
              "      <td>2021-01-01</td>\n",
              "      <td>1</td>\n",
              "      <td>6</td>\n",
              "      <td>0</td>\n",
              "      <td>199</td>\n",
              "    </tr>\n",
              "    <tr>\n",
              "      <th>1</th>\n",
              "      <td>1</td>\n",
              "      <td>Кира</td>\n",
              "      <td>22</td>\n",
              "      <td>Тюмень</td>\n",
              "      <td>ultra</td>\n",
              "      <td>2617.592153</td>\n",
              "      <td>15.816871</td>\n",
              "      <td>2021-01-18</td>\n",
              "      <td>1</td>\n",
              "      <td>6</td>\n",
              "      <td>0</td>\n",
              "      <td>199</td>\n",
              "    </tr>\n",
              "    <tr>\n",
              "      <th>2</th>\n",
              "      <td>1</td>\n",
              "      <td>Кира</td>\n",
              "      <td>22</td>\n",
              "      <td>Тюмень</td>\n",
              "      <td>ultra</td>\n",
              "      <td>754.159807</td>\n",
              "      <td>6.232113</td>\n",
              "      <td>2021-04-20</td>\n",
              "      <td>4</td>\n",
              "      <td>6</td>\n",
              "      <td>0</td>\n",
              "      <td>199</td>\n",
              "    </tr>\n",
              "    <tr>\n",
              "      <th>3</th>\n",
              "      <td>1</td>\n",
              "      <td>Кира</td>\n",
              "      <td>22</td>\n",
              "      <td>Тюмень</td>\n",
              "      <td>ultra</td>\n",
              "      <td>2694.783254</td>\n",
              "      <td>18.511000</td>\n",
              "      <td>2021-08-11</td>\n",
              "      <td>8</td>\n",
              "      <td>6</td>\n",
              "      <td>0</td>\n",
              "      <td>199</td>\n",
              "    </tr>\n",
              "    <tr>\n",
              "      <th>4</th>\n",
              "      <td>1</td>\n",
              "      <td>Кира</td>\n",
              "      <td>22</td>\n",
              "      <td>Тюмень</td>\n",
              "      <td>ultra</td>\n",
              "      <td>4028.687306</td>\n",
              "      <td>26.265803</td>\n",
              "      <td>2021-08-28</td>\n",
              "      <td>8</td>\n",
              "      <td>6</td>\n",
              "      <td>0</td>\n",
              "      <td>199</td>\n",
              "    </tr>\n",
              "    <tr>\n",
              "      <th>5</th>\n",
              "      <td>1</td>\n",
              "      <td>Кира</td>\n",
              "      <td>22</td>\n",
              "      <td>Тюмень</td>\n",
              "      <td>ultra</td>\n",
              "      <td>2770.890808</td>\n",
              "      <td>16.650138</td>\n",
              "      <td>2021-10-09</td>\n",
              "      <td>10</td>\n",
              "      <td>6</td>\n",
              "      <td>0</td>\n",
              "      <td>199</td>\n",
              "    </tr>\n",
              "    <tr>\n",
              "      <th>6</th>\n",
              "      <td>1</td>\n",
              "      <td>Кира</td>\n",
              "      <td>22</td>\n",
              "      <td>Тюмень</td>\n",
              "      <td>ultra</td>\n",
              "      <td>3039.020292</td>\n",
              "      <td>14.927879</td>\n",
              "      <td>2021-10-19</td>\n",
              "      <td>10</td>\n",
              "      <td>6</td>\n",
              "      <td>0</td>\n",
              "      <td>199</td>\n",
              "    </tr>\n",
              "    <tr>\n",
              "      <th>7</th>\n",
              "      <td>1</td>\n",
              "      <td>Кира</td>\n",
              "      <td>22</td>\n",
              "      <td>Тюмень</td>\n",
              "      <td>ultra</td>\n",
              "      <td>2842.118050</td>\n",
              "      <td>23.117468</td>\n",
              "      <td>2021-11-06</td>\n",
              "      <td>11</td>\n",
              "      <td>6</td>\n",
              "      <td>0</td>\n",
              "      <td>199</td>\n",
              "    </tr>\n",
              "    <tr>\n",
              "      <th>8</th>\n",
              "      <td>1</td>\n",
              "      <td>Кира</td>\n",
              "      <td>22</td>\n",
              "      <td>Тюмень</td>\n",
              "      <td>ultra</td>\n",
              "      <td>3412.690668</td>\n",
              "      <td>15.238072</td>\n",
              "      <td>2021-11-14</td>\n",
              "      <td>11</td>\n",
              "      <td>6</td>\n",
              "      <td>0</td>\n",
              "      <td>199</td>\n",
              "    </tr>\n",
              "    <tr>\n",
              "      <th>9</th>\n",
              "      <td>1</td>\n",
              "      <td>Кира</td>\n",
              "      <td>22</td>\n",
              "      <td>Тюмень</td>\n",
              "      <td>ultra</td>\n",
              "      <td>748.690645</td>\n",
              "      <td>15.041884</td>\n",
              "      <td>2021-11-22</td>\n",
              "      <td>11</td>\n",
              "      <td>6</td>\n",
              "      <td>0</td>\n",
              "      <td>199</td>\n",
              "    </tr>\n",
              "    <tr>\n",
              "      <th>10</th>\n",
              "      <td>1</td>\n",
              "      <td>Кира</td>\n",
              "      <td>22</td>\n",
              "      <td>Тюмень</td>\n",
              "      <td>ultra</td>\n",
              "      <td>4031.020195</td>\n",
              "      <td>17.674448</td>\n",
              "      <td>2021-12-14</td>\n",
              "      <td>12</td>\n",
              "      <td>6</td>\n",
              "      <td>0</td>\n",
              "      <td>199</td>\n",
              "    </tr>\n",
              "    <tr>\n",
              "      <th>11</th>\n",
              "      <td>1</td>\n",
              "      <td>Кира</td>\n",
              "      <td>22</td>\n",
              "      <td>Тюмень</td>\n",
              "      <td>ultra</td>\n",
              "      <td>2720.609748</td>\n",
              "      <td>9.529463</td>\n",
              "      <td>2021-12-22</td>\n",
              "      <td>12</td>\n",
              "      <td>6</td>\n",
              "      <td>0</td>\n",
              "      <td>199</td>\n",
              "    </tr>\n",
              "    <tr>\n",
              "      <th>12</th>\n",
              "      <td>2</td>\n",
              "      <td>Станислав</td>\n",
              "      <td>31</td>\n",
              "      <td>Омск</td>\n",
              "      <td>ultra</td>\n",
              "      <td>3105.086678</td>\n",
              "      <td>24.307514</td>\n",
              "      <td>2021-03-15</td>\n",
              "      <td>3</td>\n",
              "      <td>6</td>\n",
              "      <td>0</td>\n",
              "      <td>199</td>\n",
              "    </tr>\n",
              "    <tr>\n",
              "      <th>13</th>\n",
              "      <td>2</td>\n",
              "      <td>Станислав</td>\n",
              "      <td>31</td>\n",
              "      <td>Омск</td>\n",
              "      <td>ultra</td>\n",
              "      <td>3053.519401</td>\n",
              "      <td>11.543256</td>\n",
              "      <td>2021-03-18</td>\n",
              "      <td>3</td>\n",
              "      <td>6</td>\n",
              "      <td>0</td>\n",
              "      <td>199</td>\n",
              "    </tr>\n",
              "    <tr>\n",
              "      <th>14</th>\n",
              "      <td>2</td>\n",
              "      <td>Станислав</td>\n",
              "      <td>31</td>\n",
              "      <td>Омск</td>\n",
              "      <td>ultra</td>\n",
              "      <td>4029.116927</td>\n",
              "      <td>25.109188</td>\n",
              "      <td>2021-03-23</td>\n",
              "      <td>3</td>\n",
              "      <td>6</td>\n",
              "      <td>0</td>\n",
              "      <td>199</td>\n",
              "    </tr>\n",
              "    <tr>\n",
              "      <th>15</th>\n",
              "      <td>2</td>\n",
              "      <td>Станислав</td>\n",
              "      <td>31</td>\n",
              "      <td>Омск</td>\n",
              "      <td>ultra</td>\n",
              "      <td>2805.786329</td>\n",
              "      <td>20.652145</td>\n",
              "      <td>2021-04-08</td>\n",
              "      <td>4</td>\n",
              "      <td>6</td>\n",
              "      <td>0</td>\n",
              "      <td>199</td>\n",
              "    </tr>\n",
              "    <tr>\n",
              "      <th>16</th>\n",
              "      <td>2</td>\n",
              "      <td>Станислав</td>\n",
              "      <td>31</td>\n",
              "      <td>Омск</td>\n",
              "      <td>ultra</td>\n",
              "      <td>3358.595495</td>\n",
              "      <td>18.396489</td>\n",
              "      <td>2021-04-13</td>\n",
              "      <td>4</td>\n",
              "      <td>6</td>\n",
              "      <td>0</td>\n",
              "      <td>199</td>\n",
              "    </tr>\n",
              "    <tr>\n",
              "      <th>17</th>\n",
              "      <td>2</td>\n",
              "      <td>Станислав</td>\n",
              "      <td>31</td>\n",
              "      <td>Омск</td>\n",
              "      <td>ultra</td>\n",
              "      <td>3255.338202</td>\n",
              "      <td>13.851127</td>\n",
              "      <td>2021-06-20</td>\n",
              "      <td>6</td>\n",
              "      <td>6</td>\n",
              "      <td>0</td>\n",
              "      <td>199</td>\n",
              "    </tr>\n",
              "    <tr>\n",
              "      <th>18</th>\n",
              "      <td>2</td>\n",
              "      <td>Станислав</td>\n",
              "      <td>31</td>\n",
              "      <td>Омск</td>\n",
              "      <td>ultra</td>\n",
              "      <td>3942.817648</td>\n",
              "      <td>20.142725</td>\n",
              "      <td>2021-07-02</td>\n",
              "      <td>7</td>\n",
              "      <td>6</td>\n",
              "      <td>0</td>\n",
              "      <td>199</td>\n",
              "    </tr>\n",
              "    <tr>\n",
              "      <th>19</th>\n",
              "      <td>2</td>\n",
              "      <td>Станислав</td>\n",
              "      <td>31</td>\n",
              "      <td>Омск</td>\n",
              "      <td>ultra</td>\n",
              "      <td>2837.905316</td>\n",
              "      <td>26.027432</td>\n",
              "      <td>2021-07-18</td>\n",
              "      <td>7</td>\n",
              "      <td>6</td>\n",
              "      <td>0</td>\n",
              "      <td>199</td>\n",
              "    </tr>\n",
              "  </tbody>\n",
              "</table>\n",
              "</div>"
            ],
            "text/plain": [
              "    user_id       name  age    city subscription_type     distance   duration  \\\n",
              "0         1       Кира   22  Тюмень             ultra  4409.919140  25.599769   \n",
              "1         1       Кира   22  Тюмень             ultra  2617.592153  15.816871   \n",
              "2         1       Кира   22  Тюмень             ultra   754.159807   6.232113   \n",
              "3         1       Кира   22  Тюмень             ultra  2694.783254  18.511000   \n",
              "4         1       Кира   22  Тюмень             ultra  4028.687306  26.265803   \n",
              "5         1       Кира   22  Тюмень             ultra  2770.890808  16.650138   \n",
              "6         1       Кира   22  Тюмень             ultra  3039.020292  14.927879   \n",
              "7         1       Кира   22  Тюмень             ultra  2842.118050  23.117468   \n",
              "8         1       Кира   22  Тюмень             ultra  3412.690668  15.238072   \n",
              "9         1       Кира   22  Тюмень             ultra   748.690645  15.041884   \n",
              "10        1       Кира   22  Тюмень             ultra  4031.020195  17.674448   \n",
              "11        1       Кира   22  Тюмень             ultra  2720.609748   9.529463   \n",
              "12        2  Станислав   31    Омск             ultra  3105.086678  24.307514   \n",
              "13        2  Станислав   31    Омск             ultra  3053.519401  11.543256   \n",
              "14        2  Станислав   31    Омск             ultra  4029.116927  25.109188   \n",
              "15        2  Станислав   31    Омск             ultra  2805.786329  20.652145   \n",
              "16        2  Станислав   31    Омск             ultra  3358.595495  18.396489   \n",
              "17        2  Станислав   31    Омск             ultra  3255.338202  13.851127   \n",
              "18        2  Станислав   31    Омск             ultra  3942.817648  20.142725   \n",
              "19        2  Станислав   31    Омск             ultra  2837.905316  26.027432   \n",
              "\n",
              "         date  month  minute_price  start_ride_price  subscription_fee  \n",
              "0  2021-01-01      1             6                 0               199  \n",
              "1  2021-01-18      1             6                 0               199  \n",
              "2  2021-04-20      4             6                 0               199  \n",
              "3  2021-08-11      8             6                 0               199  \n",
              "4  2021-08-28      8             6                 0               199  \n",
              "5  2021-10-09     10             6                 0               199  \n",
              "6  2021-10-19     10             6                 0               199  \n",
              "7  2021-11-06     11             6                 0               199  \n",
              "8  2021-11-14     11             6                 0               199  \n",
              "9  2021-11-22     11             6                 0               199  \n",
              "10 2021-12-14     12             6                 0               199  \n",
              "11 2021-12-22     12             6                 0               199  \n",
              "12 2021-03-15      3             6                 0               199  \n",
              "13 2021-03-18      3             6                 0               199  \n",
              "14 2021-03-23      3             6                 0               199  \n",
              "15 2021-04-08      4             6                 0               199  \n",
              "16 2021-04-13      4             6                 0               199  \n",
              "17 2021-06-20      6             6                 0               199  \n",
              "18 2021-07-02      7             6                 0               199  \n",
              "19 2021-07-18      7             6                 0               199  "
            ]
          },
          "execution_count": 37,
          "metadata": {},
          "output_type": "execute_result"
        }
      ],
      "source": [
        "data = users.merge(rides)\n",
        "data = data.merge(subscriptions)\n",
        "data.head(20)"
      ]
    },
    {
      "cell_type": "code",
      "execution_count": null,
      "id": "761ad6cf",
      "metadata": {
        "scrolled": true,
        "id": "761ad6cf",
        "outputId": "cc516b31-8dec-4f42-c77f-a4ec4f1c1e91"
      },
      "outputs": [
        {
          "data": {
            "text/plain": [
              "(18068, 12)"
            ]
          },
          "execution_count": 38,
          "metadata": {},
          "output_type": "execute_result"
        }
      ],
      "source": [
        "# размер объединенных таблиц\n",
        "data.shape"
      ]
    },
    {
      "cell_type": "markdown",
      "id": "ff63381b",
      "metadata": {
        "id": "ff63381b"
      },
      "source": [
        "4.2 Создадим ещё два датафрейма из датафрейма, созданного на этапе 4.1:\n",
        "\n",
        "С данными о пользователях без подписки"
      ]
    },
    {
      "cell_type": "code",
      "execution_count": null,
      "id": "3b62a615",
      "metadata": {
        "id": "3b62a615",
        "outputId": "311cfd8f-7ca5-4e89-8c5e-de9257d7aad2"
      },
      "outputs": [
        {
          "data": {
            "text/html": [
              "<div>\n",
              "<style scoped>\n",
              "    .dataframe tbody tr th:only-of-type {\n",
              "        vertical-align: middle;\n",
              "    }\n",
              "\n",
              "    .dataframe tbody tr th {\n",
              "        vertical-align: top;\n",
              "    }\n",
              "\n",
              "    .dataframe thead th {\n",
              "        text-align: right;\n",
              "    }\n",
              "</style>\n",
              "<table border=\"1\" class=\"dataframe\">\n",
              "  <thead>\n",
              "    <tr style=\"text-align: right;\">\n",
              "      <th></th>\n",
              "      <th>user_id</th>\n",
              "      <th>name</th>\n",
              "      <th>age</th>\n",
              "      <th>city</th>\n",
              "      <th>subscription_type</th>\n",
              "      <th>distance</th>\n",
              "      <th>duration</th>\n",
              "      <th>date</th>\n",
              "      <th>month</th>\n",
              "      <th>minute_price</th>\n",
              "      <th>start_ride_price</th>\n",
              "      <th>subscription_fee</th>\n",
              "    </tr>\n",
              "  </thead>\n",
              "  <tbody>\n",
              "    <tr>\n",
              "      <th>6500</th>\n",
              "      <td>700</td>\n",
              "      <td>Айдар</td>\n",
              "      <td>22</td>\n",
              "      <td>Омск</td>\n",
              "      <td>free</td>\n",
              "      <td>2515.690719</td>\n",
              "      <td>14.944286</td>\n",
              "      <td>2021-01-02</td>\n",
              "      <td>1</td>\n",
              "      <td>8</td>\n",
              "      <td>50</td>\n",
              "      <td>0</td>\n",
              "    </tr>\n",
              "    <tr>\n",
              "      <th>6501</th>\n",
              "      <td>700</td>\n",
              "      <td>Айдар</td>\n",
              "      <td>22</td>\n",
              "      <td>Омск</td>\n",
              "      <td>free</td>\n",
              "      <td>846.932642</td>\n",
              "      <td>16.234663</td>\n",
              "      <td>2021-02-01</td>\n",
              "      <td>2</td>\n",
              "      <td>8</td>\n",
              "      <td>50</td>\n",
              "      <td>0</td>\n",
              "    </tr>\n",
              "    <tr>\n",
              "      <th>6502</th>\n",
              "      <td>700</td>\n",
              "      <td>Айдар</td>\n",
              "      <td>22</td>\n",
              "      <td>Омск</td>\n",
              "      <td>free</td>\n",
              "      <td>4004.434142</td>\n",
              "      <td>20.016628</td>\n",
              "      <td>2021-02-04</td>\n",
              "      <td>2</td>\n",
              "      <td>8</td>\n",
              "      <td>50</td>\n",
              "      <td>0</td>\n",
              "    </tr>\n",
              "    <tr>\n",
              "      <th>6503</th>\n",
              "      <td>700</td>\n",
              "      <td>Айдар</td>\n",
              "      <td>22</td>\n",
              "      <td>Омск</td>\n",
              "      <td>free</td>\n",
              "      <td>1205.911290</td>\n",
              "      <td>9.782872</td>\n",
              "      <td>2021-02-10</td>\n",
              "      <td>2</td>\n",
              "      <td>8</td>\n",
              "      <td>50</td>\n",
              "      <td>0</td>\n",
              "    </tr>\n",
              "    <tr>\n",
              "      <th>6504</th>\n",
              "      <td>700</td>\n",
              "      <td>Айдар</td>\n",
              "      <td>22</td>\n",
              "      <td>Омск</td>\n",
              "      <td>free</td>\n",
              "      <td>3047.379435</td>\n",
              "      <td>17.427673</td>\n",
              "      <td>2021-02-14</td>\n",
              "      <td>2</td>\n",
              "      <td>8</td>\n",
              "      <td>50</td>\n",
              "      <td>0</td>\n",
              "    </tr>\n",
              "    <tr>\n",
              "      <th>...</th>\n",
              "      <td>...</td>\n",
              "      <td>...</td>\n",
              "      <td>...</td>\n",
              "      <td>...</td>\n",
              "      <td>...</td>\n",
              "      <td>...</td>\n",
              "      <td>...</td>\n",
              "      <td>...</td>\n",
              "      <td>...</td>\n",
              "      <td>...</td>\n",
              "      <td>...</td>\n",
              "      <td>...</td>\n",
              "    </tr>\n",
              "    <tr>\n",
              "      <th>18063</th>\n",
              "      <td>1534</td>\n",
              "      <td>Альберт</td>\n",
              "      <td>25</td>\n",
              "      <td>Краснодар</td>\n",
              "      <td>free</td>\n",
              "      <td>3781.098080</td>\n",
              "      <td>19.822962</td>\n",
              "      <td>2021-11-04</td>\n",
              "      <td>11</td>\n",
              "      <td>8</td>\n",
              "      <td>50</td>\n",
              "      <td>0</td>\n",
              "    </tr>\n",
              "    <tr>\n",
              "      <th>18064</th>\n",
              "      <td>1534</td>\n",
              "      <td>Альберт</td>\n",
              "      <td>25</td>\n",
              "      <td>Краснодар</td>\n",
              "      <td>free</td>\n",
              "      <td>2840.423057</td>\n",
              "      <td>21.409799</td>\n",
              "      <td>2021-11-16</td>\n",
              "      <td>11</td>\n",
              "      <td>8</td>\n",
              "      <td>50</td>\n",
              "      <td>0</td>\n",
              "    </tr>\n",
              "    <tr>\n",
              "      <th>18065</th>\n",
              "      <td>1534</td>\n",
              "      <td>Альберт</td>\n",
              "      <td>25</td>\n",
              "      <td>Краснодар</td>\n",
              "      <td>free</td>\n",
              "      <td>3826.185507</td>\n",
              "      <td>18.435051</td>\n",
              "      <td>2021-11-18</td>\n",
              "      <td>11</td>\n",
              "      <td>8</td>\n",
              "      <td>50</td>\n",
              "      <td>0</td>\n",
              "    </tr>\n",
              "    <tr>\n",
              "      <th>18066</th>\n",
              "      <td>1534</td>\n",
              "      <td>Альберт</td>\n",
              "      <td>25</td>\n",
              "      <td>Краснодар</td>\n",
              "      <td>free</td>\n",
              "      <td>2902.308661</td>\n",
              "      <td>16.674362</td>\n",
              "      <td>2021-11-27</td>\n",
              "      <td>11</td>\n",
              "      <td>8</td>\n",
              "      <td>50</td>\n",
              "      <td>0</td>\n",
              "    </tr>\n",
              "    <tr>\n",
              "      <th>18067</th>\n",
              "      <td>1534</td>\n",
              "      <td>Альберт</td>\n",
              "      <td>25</td>\n",
              "      <td>Краснодар</td>\n",
              "      <td>free</td>\n",
              "      <td>2371.711192</td>\n",
              "      <td>15.893917</td>\n",
              "      <td>2021-12-29</td>\n",
              "      <td>12</td>\n",
              "      <td>8</td>\n",
              "      <td>50</td>\n",
              "      <td>0</td>\n",
              "    </tr>\n",
              "  </tbody>\n",
              "</table>\n",
              "<p>11568 rows × 12 columns</p>\n",
              "</div>"
            ],
            "text/plain": [
              "       user_id     name  age       city subscription_type     distance  \\\n",
              "6500       700    Айдар   22       Омск              free  2515.690719   \n",
              "6501       700    Айдар   22       Омск              free   846.932642   \n",
              "6502       700    Айдар   22       Омск              free  4004.434142   \n",
              "6503       700    Айдар   22       Омск              free  1205.911290   \n",
              "6504       700    Айдар   22       Омск              free  3047.379435   \n",
              "...        ...      ...  ...        ...               ...          ...   \n",
              "18063     1534  Альберт   25  Краснодар              free  3781.098080   \n",
              "18064     1534  Альберт   25  Краснодар              free  2840.423057   \n",
              "18065     1534  Альберт   25  Краснодар              free  3826.185507   \n",
              "18066     1534  Альберт   25  Краснодар              free  2902.308661   \n",
              "18067     1534  Альберт   25  Краснодар              free  2371.711192   \n",
              "\n",
              "        duration       date  month  minute_price  start_ride_price  \\\n",
              "6500   14.944286 2021-01-02      1             8                50   \n",
              "6501   16.234663 2021-02-01      2             8                50   \n",
              "6502   20.016628 2021-02-04      2             8                50   \n",
              "6503    9.782872 2021-02-10      2             8                50   \n",
              "6504   17.427673 2021-02-14      2             8                50   \n",
              "...          ...        ...    ...           ...               ...   \n",
              "18063  19.822962 2021-11-04     11             8                50   \n",
              "18064  21.409799 2021-11-16     11             8                50   \n",
              "18065  18.435051 2021-11-18     11             8                50   \n",
              "18066  16.674362 2021-11-27     11             8                50   \n",
              "18067  15.893917 2021-12-29     12             8                50   \n",
              "\n",
              "       subscription_fee  \n",
              "6500                  0  \n",
              "6501                  0  \n",
              "6502                  0  \n",
              "6503                  0  \n",
              "6504                  0  \n",
              "...                 ...  \n",
              "18063                 0  \n",
              "18064                 0  \n",
              "18065                 0  \n",
              "18066                 0  \n",
              "18067                 0  \n",
              "\n",
              "[11568 rows x 12 columns]"
            ]
          },
          "execution_count": 39,
          "metadata": {},
          "output_type": "execute_result"
        }
      ],
      "source": [
        "free_sub = data.query(\"`subscription_type` == 'free'\")\n",
        "free_sub"
      ]
    },
    {
      "cell_type": "markdown",
      "id": "34b8822c",
      "metadata": {
        "id": "34b8822c"
      },
      "source": [
        "C данными о пользователях с подпиской."
      ]
    },
    {
      "cell_type": "code",
      "execution_count": null,
      "id": "6308ea0c",
      "metadata": {
        "id": "6308ea0c",
        "outputId": "313efc4b-0130-45f0-b5a3-1ec794ef36e6"
      },
      "outputs": [
        {
          "data": {
            "text/html": [
              "<div>\n",
              "<style scoped>\n",
              "    .dataframe tbody tr th:only-of-type {\n",
              "        vertical-align: middle;\n",
              "    }\n",
              "\n",
              "    .dataframe tbody tr th {\n",
              "        vertical-align: top;\n",
              "    }\n",
              "\n",
              "    .dataframe thead th {\n",
              "        text-align: right;\n",
              "    }\n",
              "</style>\n",
              "<table border=\"1\" class=\"dataframe\">\n",
              "  <thead>\n",
              "    <tr style=\"text-align: right;\">\n",
              "      <th></th>\n",
              "      <th>user_id</th>\n",
              "      <th>name</th>\n",
              "      <th>age</th>\n",
              "      <th>city</th>\n",
              "      <th>subscription_type</th>\n",
              "      <th>distance</th>\n",
              "      <th>duration</th>\n",
              "      <th>date</th>\n",
              "      <th>month</th>\n",
              "      <th>minute_price</th>\n",
              "      <th>start_ride_price</th>\n",
              "      <th>subscription_fee</th>\n",
              "    </tr>\n",
              "  </thead>\n",
              "  <tbody>\n",
              "    <tr>\n",
              "      <th>0</th>\n",
              "      <td>1</td>\n",
              "      <td>Кира</td>\n",
              "      <td>22</td>\n",
              "      <td>Тюмень</td>\n",
              "      <td>ultra</td>\n",
              "      <td>4409.919140</td>\n",
              "      <td>25.599769</td>\n",
              "      <td>2021-01-01</td>\n",
              "      <td>1</td>\n",
              "      <td>6</td>\n",
              "      <td>0</td>\n",
              "      <td>199</td>\n",
              "    </tr>\n",
              "    <tr>\n",
              "      <th>1</th>\n",
              "      <td>1</td>\n",
              "      <td>Кира</td>\n",
              "      <td>22</td>\n",
              "      <td>Тюмень</td>\n",
              "      <td>ultra</td>\n",
              "      <td>2617.592153</td>\n",
              "      <td>15.816871</td>\n",
              "      <td>2021-01-18</td>\n",
              "      <td>1</td>\n",
              "      <td>6</td>\n",
              "      <td>0</td>\n",
              "      <td>199</td>\n",
              "    </tr>\n",
              "    <tr>\n",
              "      <th>2</th>\n",
              "      <td>1</td>\n",
              "      <td>Кира</td>\n",
              "      <td>22</td>\n",
              "      <td>Тюмень</td>\n",
              "      <td>ultra</td>\n",
              "      <td>754.159807</td>\n",
              "      <td>6.232113</td>\n",
              "      <td>2021-04-20</td>\n",
              "      <td>4</td>\n",
              "      <td>6</td>\n",
              "      <td>0</td>\n",
              "      <td>199</td>\n",
              "    </tr>\n",
              "    <tr>\n",
              "      <th>3</th>\n",
              "      <td>1</td>\n",
              "      <td>Кира</td>\n",
              "      <td>22</td>\n",
              "      <td>Тюмень</td>\n",
              "      <td>ultra</td>\n",
              "      <td>2694.783254</td>\n",
              "      <td>18.511000</td>\n",
              "      <td>2021-08-11</td>\n",
              "      <td>8</td>\n",
              "      <td>6</td>\n",
              "      <td>0</td>\n",
              "      <td>199</td>\n",
              "    </tr>\n",
              "    <tr>\n",
              "      <th>4</th>\n",
              "      <td>1</td>\n",
              "      <td>Кира</td>\n",
              "      <td>22</td>\n",
              "      <td>Тюмень</td>\n",
              "      <td>ultra</td>\n",
              "      <td>4028.687306</td>\n",
              "      <td>26.265803</td>\n",
              "      <td>2021-08-28</td>\n",
              "      <td>8</td>\n",
              "      <td>6</td>\n",
              "      <td>0</td>\n",
              "      <td>199</td>\n",
              "    </tr>\n",
              "    <tr>\n",
              "      <th>5</th>\n",
              "      <td>1</td>\n",
              "      <td>Кира</td>\n",
              "      <td>22</td>\n",
              "      <td>Тюмень</td>\n",
              "      <td>ultra</td>\n",
              "      <td>2770.890808</td>\n",
              "      <td>16.650138</td>\n",
              "      <td>2021-10-09</td>\n",
              "      <td>10</td>\n",
              "      <td>6</td>\n",
              "      <td>0</td>\n",
              "      <td>199</td>\n",
              "    </tr>\n",
              "    <tr>\n",
              "      <th>6</th>\n",
              "      <td>1</td>\n",
              "      <td>Кира</td>\n",
              "      <td>22</td>\n",
              "      <td>Тюмень</td>\n",
              "      <td>ultra</td>\n",
              "      <td>3039.020292</td>\n",
              "      <td>14.927879</td>\n",
              "      <td>2021-10-19</td>\n",
              "      <td>10</td>\n",
              "      <td>6</td>\n",
              "      <td>0</td>\n",
              "      <td>199</td>\n",
              "    </tr>\n",
              "    <tr>\n",
              "      <th>7</th>\n",
              "      <td>1</td>\n",
              "      <td>Кира</td>\n",
              "      <td>22</td>\n",
              "      <td>Тюмень</td>\n",
              "      <td>ultra</td>\n",
              "      <td>2842.118050</td>\n",
              "      <td>23.117468</td>\n",
              "      <td>2021-11-06</td>\n",
              "      <td>11</td>\n",
              "      <td>6</td>\n",
              "      <td>0</td>\n",
              "      <td>199</td>\n",
              "    </tr>\n",
              "    <tr>\n",
              "      <th>8</th>\n",
              "      <td>1</td>\n",
              "      <td>Кира</td>\n",
              "      <td>22</td>\n",
              "      <td>Тюмень</td>\n",
              "      <td>ultra</td>\n",
              "      <td>3412.690668</td>\n",
              "      <td>15.238072</td>\n",
              "      <td>2021-11-14</td>\n",
              "      <td>11</td>\n",
              "      <td>6</td>\n",
              "      <td>0</td>\n",
              "      <td>199</td>\n",
              "    </tr>\n",
              "    <tr>\n",
              "      <th>9</th>\n",
              "      <td>1</td>\n",
              "      <td>Кира</td>\n",
              "      <td>22</td>\n",
              "      <td>Тюмень</td>\n",
              "      <td>ultra</td>\n",
              "      <td>748.690645</td>\n",
              "      <td>15.041884</td>\n",
              "      <td>2021-11-22</td>\n",
              "      <td>11</td>\n",
              "      <td>6</td>\n",
              "      <td>0</td>\n",
              "      <td>199</td>\n",
              "    </tr>\n",
              "    <tr>\n",
              "      <th>10</th>\n",
              "      <td>1</td>\n",
              "      <td>Кира</td>\n",
              "      <td>22</td>\n",
              "      <td>Тюмень</td>\n",
              "      <td>ultra</td>\n",
              "      <td>4031.020195</td>\n",
              "      <td>17.674448</td>\n",
              "      <td>2021-12-14</td>\n",
              "      <td>12</td>\n",
              "      <td>6</td>\n",
              "      <td>0</td>\n",
              "      <td>199</td>\n",
              "    </tr>\n",
              "    <tr>\n",
              "      <th>11</th>\n",
              "      <td>1</td>\n",
              "      <td>Кира</td>\n",
              "      <td>22</td>\n",
              "      <td>Тюмень</td>\n",
              "      <td>ultra</td>\n",
              "      <td>2720.609748</td>\n",
              "      <td>9.529463</td>\n",
              "      <td>2021-12-22</td>\n",
              "      <td>12</td>\n",
              "      <td>6</td>\n",
              "      <td>0</td>\n",
              "      <td>199</td>\n",
              "    </tr>\n",
              "    <tr>\n",
              "      <th>12</th>\n",
              "      <td>2</td>\n",
              "      <td>Станислав</td>\n",
              "      <td>31</td>\n",
              "      <td>Омск</td>\n",
              "      <td>ultra</td>\n",
              "      <td>3105.086678</td>\n",
              "      <td>24.307514</td>\n",
              "      <td>2021-03-15</td>\n",
              "      <td>3</td>\n",
              "      <td>6</td>\n",
              "      <td>0</td>\n",
              "      <td>199</td>\n",
              "    </tr>\n",
              "    <tr>\n",
              "      <th>13</th>\n",
              "      <td>2</td>\n",
              "      <td>Станислав</td>\n",
              "      <td>31</td>\n",
              "      <td>Омск</td>\n",
              "      <td>ultra</td>\n",
              "      <td>3053.519401</td>\n",
              "      <td>11.543256</td>\n",
              "      <td>2021-03-18</td>\n",
              "      <td>3</td>\n",
              "      <td>6</td>\n",
              "      <td>0</td>\n",
              "      <td>199</td>\n",
              "    </tr>\n",
              "    <tr>\n",
              "      <th>14</th>\n",
              "      <td>2</td>\n",
              "      <td>Станислав</td>\n",
              "      <td>31</td>\n",
              "      <td>Омск</td>\n",
              "      <td>ultra</td>\n",
              "      <td>4029.116927</td>\n",
              "      <td>25.109188</td>\n",
              "      <td>2021-03-23</td>\n",
              "      <td>3</td>\n",
              "      <td>6</td>\n",
              "      <td>0</td>\n",
              "      <td>199</td>\n",
              "    </tr>\n",
              "    <tr>\n",
              "      <th>15</th>\n",
              "      <td>2</td>\n",
              "      <td>Станислав</td>\n",
              "      <td>31</td>\n",
              "      <td>Омск</td>\n",
              "      <td>ultra</td>\n",
              "      <td>2805.786329</td>\n",
              "      <td>20.652145</td>\n",
              "      <td>2021-04-08</td>\n",
              "      <td>4</td>\n",
              "      <td>6</td>\n",
              "      <td>0</td>\n",
              "      <td>199</td>\n",
              "    </tr>\n",
              "    <tr>\n",
              "      <th>16</th>\n",
              "      <td>2</td>\n",
              "      <td>Станислав</td>\n",
              "      <td>31</td>\n",
              "      <td>Омск</td>\n",
              "      <td>ultra</td>\n",
              "      <td>3358.595495</td>\n",
              "      <td>18.396489</td>\n",
              "      <td>2021-04-13</td>\n",
              "      <td>4</td>\n",
              "      <td>6</td>\n",
              "      <td>0</td>\n",
              "      <td>199</td>\n",
              "    </tr>\n",
              "    <tr>\n",
              "      <th>17</th>\n",
              "      <td>2</td>\n",
              "      <td>Станислав</td>\n",
              "      <td>31</td>\n",
              "      <td>Омск</td>\n",
              "      <td>ultra</td>\n",
              "      <td>3255.338202</td>\n",
              "      <td>13.851127</td>\n",
              "      <td>2021-06-20</td>\n",
              "      <td>6</td>\n",
              "      <td>6</td>\n",
              "      <td>0</td>\n",
              "      <td>199</td>\n",
              "    </tr>\n",
              "    <tr>\n",
              "      <th>18</th>\n",
              "      <td>2</td>\n",
              "      <td>Станислав</td>\n",
              "      <td>31</td>\n",
              "      <td>Омск</td>\n",
              "      <td>ultra</td>\n",
              "      <td>3942.817648</td>\n",
              "      <td>20.142725</td>\n",
              "      <td>2021-07-02</td>\n",
              "      <td>7</td>\n",
              "      <td>6</td>\n",
              "      <td>0</td>\n",
              "      <td>199</td>\n",
              "    </tr>\n",
              "    <tr>\n",
              "      <th>19</th>\n",
              "      <td>2</td>\n",
              "      <td>Станислав</td>\n",
              "      <td>31</td>\n",
              "      <td>Омск</td>\n",
              "      <td>ultra</td>\n",
              "      <td>2837.905316</td>\n",
              "      <td>26.027432</td>\n",
              "      <td>2021-07-18</td>\n",
              "      <td>7</td>\n",
              "      <td>6</td>\n",
              "      <td>0</td>\n",
              "      <td>199</td>\n",
              "    </tr>\n",
              "  </tbody>\n",
              "</table>\n",
              "</div>"
            ],
            "text/plain": [
              "    user_id       name  age    city subscription_type     distance   duration  \\\n",
              "0         1       Кира   22  Тюмень             ultra  4409.919140  25.599769   \n",
              "1         1       Кира   22  Тюмень             ultra  2617.592153  15.816871   \n",
              "2         1       Кира   22  Тюмень             ultra   754.159807   6.232113   \n",
              "3         1       Кира   22  Тюмень             ultra  2694.783254  18.511000   \n",
              "4         1       Кира   22  Тюмень             ultra  4028.687306  26.265803   \n",
              "5         1       Кира   22  Тюмень             ultra  2770.890808  16.650138   \n",
              "6         1       Кира   22  Тюмень             ultra  3039.020292  14.927879   \n",
              "7         1       Кира   22  Тюмень             ultra  2842.118050  23.117468   \n",
              "8         1       Кира   22  Тюмень             ultra  3412.690668  15.238072   \n",
              "9         1       Кира   22  Тюмень             ultra   748.690645  15.041884   \n",
              "10        1       Кира   22  Тюмень             ultra  4031.020195  17.674448   \n",
              "11        1       Кира   22  Тюмень             ultra  2720.609748   9.529463   \n",
              "12        2  Станислав   31    Омск             ultra  3105.086678  24.307514   \n",
              "13        2  Станислав   31    Омск             ultra  3053.519401  11.543256   \n",
              "14        2  Станислав   31    Омск             ultra  4029.116927  25.109188   \n",
              "15        2  Станислав   31    Омск             ultra  2805.786329  20.652145   \n",
              "16        2  Станислав   31    Омск             ultra  3358.595495  18.396489   \n",
              "17        2  Станислав   31    Омск             ultra  3255.338202  13.851127   \n",
              "18        2  Станислав   31    Омск             ultra  3942.817648  20.142725   \n",
              "19        2  Станислав   31    Омск             ultra  2837.905316  26.027432   \n",
              "\n",
              "         date  month  minute_price  start_ride_price  subscription_fee  \n",
              "0  2021-01-01      1             6                 0               199  \n",
              "1  2021-01-18      1             6                 0               199  \n",
              "2  2021-04-20      4             6                 0               199  \n",
              "3  2021-08-11      8             6                 0               199  \n",
              "4  2021-08-28      8             6                 0               199  \n",
              "5  2021-10-09     10             6                 0               199  \n",
              "6  2021-10-19     10             6                 0               199  \n",
              "7  2021-11-06     11             6                 0               199  \n",
              "8  2021-11-14     11             6                 0               199  \n",
              "9  2021-11-22     11             6                 0               199  \n",
              "10 2021-12-14     12             6                 0               199  \n",
              "11 2021-12-22     12             6                 0               199  \n",
              "12 2021-03-15      3             6                 0               199  \n",
              "13 2021-03-18      3             6                 0               199  \n",
              "14 2021-03-23      3             6                 0               199  \n",
              "15 2021-04-08      4             6                 0               199  \n",
              "16 2021-04-13      4             6                 0               199  \n",
              "17 2021-06-20      6             6                 0               199  \n",
              "18 2021-07-02      7             6                 0               199  \n",
              "19 2021-07-18      7             6                 0               199  "
            ]
          },
          "execution_count": 40,
          "metadata": {},
          "output_type": "execute_result"
        }
      ],
      "source": [
        "ultra_sub = data.query(\"`subscription_type` == 'ultra'\")\n",
        "ultra_sub.head(20)"
      ]
    },
    {
      "cell_type": "markdown",
      "id": "4ee31447",
      "metadata": {
        "id": "4ee31447"
      },
      "source": [
        "4.3 Визуализируем информацию о расстоянии и времени поездок для пользователей обеих категорий.\n",
        "\n",
        "Визуализация о расстоянии и времени поездок для free_sub (без подписки)"
      ]
    },
    {
      "cell_type": "code",
      "execution_count": null,
      "id": "497d0942",
      "metadata": {
        "id": "497d0942",
        "outputId": "07d7d9dd-011c-47dd-b7d4-6f9652eb495d"
      },
      "outputs": [
        {
          "data": {
            "image/png": "[encoded data removed]",
            "text/plain": [
              "<Figure size 432x288 with 1 Axes>"
            ]
          },
          "metadata": {
            "needs_background": "light"
          },
          "output_type": "display_data"
        },
        {
          "data": {
            "text/plain": [
              "<Figure size 1440x1440 with 0 Axes>"
            ]
          },
          "metadata": {},
          "output_type": "display_data"
        }
      ],
      "source": [
        "# Визуализируем информацию о расстоянии без подписки\n",
        "plt.hist(free_sub['distance'], bins=40, range = (0, 7000))\n",
        "plt.title('Расстояние, без подписки')\n",
        "plt.xlabel('Расстояние, м')\n",
        "plt.ylabel('Количество поездок')\n",
        "plt.figure(figsize=(20,20))\n",
        "plt.show()"
      ]
    },
    {
      "cell_type": "markdown",
      "id": "c6128ae6",
      "metadata": {
        "id": "c6128ae6"
      },
      "source": [
        "Без подписки расстояние которые пользователи проезжают от 1,9 до 4,8 км, есть пользователи, которые проехали даже 6, 6.5 км."
      ]
    },
    {
      "cell_type": "code",
      "execution_count": null,
      "id": "ca1204d4",
      "metadata": {
        "id": "ca1204d4",
        "outputId": "ec27d26a-9f66-4386-bdc0-76ef87832da4"
      },
      "outputs": [
        {
          "data": {
            "image/png": "[encoded data removed]",
            "text/plain": [
              "<Figure size 432x288 with 1 Axes>"
            ]
          },
          "metadata": {
            "needs_background": "light"
          },
          "output_type": "display_data"
        },
        {
          "data": {
            "text/plain": [
              "<Figure size 1440x1440 with 0 Axes>"
            ]
          },
          "metadata": {},
          "output_type": "display_data"
        }
      ],
      "source": [
        "# Визуализируем информацию о времени без подписки\n",
        "plt.hist(free_sub['duration'], bins=30, range = (0, 35))\n",
        "plt.title('Время, без подписки')\n",
        "plt.xlabel('Время поездки, минуты')\n",
        "plt.ylabel('Количество поездок')\n",
        "plt.figure(figsize=(20,20))\n",
        "plt.show()"
      ]
    },
    {
      "cell_type": "markdown",
      "id": "24e2b903",
      "metadata": {
        "id": "24e2b903"
      },
      "source": [
        "Без подписки время поездки составляет от 10 до 30 минут, так же можем наблюдать значение около 0 возможно, люди собиралсь поехать, но потом передумали"
      ]
    },
    {
      "cell_type": "markdown",
      "id": "23d77880",
      "metadata": {
        "id": "23d77880"
      },
      "source": [
        "Визуализация о расстоянии и времени поездок для ultra_sub (с подпиской)"
      ]
    },
    {
      "cell_type": "code",
      "execution_count": null,
      "id": "af6741c7",
      "metadata": {
        "id": "af6741c7",
        "outputId": "6c1e897b-c946-4cb2-8bbb-7c419b692739"
      },
      "outputs": [
        {
          "data": {
            "image/png": "[encoded data removed]",
            "text/plain": [
              "<Figure size 432x288 with 1 Axes>"
            ]
          },
          "metadata": {
            "needs_background": "light"
          },
          "output_type": "display_data"
        },
        {
          "data": {
            "text/plain": [
              "<Figure size 1440x1440 with 0 Axes>"
            ]
          },
          "metadata": {},
          "output_type": "display_data"
        }
      ],
      "source": [
        "# Визуализируем информацию о расстоянии с подпиской\n",
        "plt.hist(ultra_sub['distance'], bins=40, range = (0, 6000))\n",
        "plt.title('Расстояние, с подпиской')\n",
        "plt.xlabel('Расстояние, м')\n",
        "plt.ylabel('Количество поездок')\n",
        "plt.figure(figsize=(20,20))\n",
        "plt.show()"
      ]
    },
    {
      "cell_type": "markdown",
      "id": "bf3c2119",
      "metadata": {
        "id": "bf3c2119"
      },
      "source": [
        "С подпиской пик расстояния приходится на 3км. В среднем расстояние которое преодаливают пользователи от 2,5 до 3,8 км"
      ]
    },
    {
      "cell_type": "code",
      "execution_count": null,
      "id": "7dc045dc",
      "metadata": {
        "id": "7dc045dc",
        "outputId": "11d2b42e-b4d8-4dbf-b4cd-aa8c154818ca"
      },
      "outputs": [
        {
          "data": {
            "image/png": "[encoded data removed]",
            "text/plain": [
              "<Figure size 432x288 with 1 Axes>"
            ]
          },
          "metadata": {
            "needs_background": "light"
          },
          "output_type": "display_data"
        },
        {
          "data": {
            "text/plain": [
              "<Figure size 1440x1440 with 0 Axes>"
            ]
          },
          "metadata": {},
          "output_type": "display_data"
        }
      ],
      "source": [
        "# Визуализируем информацию о времени с полпиской\n",
        "plt.hist(ultra_sub['duration'], bins=30, range = (0, 35))\n",
        "plt.title('Время, с подпиской')\n",
        "plt.xlabel('Время поездки, минуты')\n",
        "plt.ylabel('Количество поездок')\n",
        "plt.figure(figsize=(20,20))\n",
        "plt.show()"
      ]
    },
    {
      "cell_type": "markdown",
      "id": "c5471c90",
      "metadata": {
        "id": "c5471c90"
      },
      "source": [
        "С подпиской среднее время укладывается в промежуток от 13 до 25 минут."
      ]
    },
    {
      "cell_type": "markdown",
      "id": "6bf8475a",
      "metadata": {
        "id": "6bf8475a"
      },
      "source": [
        "Вывод\n",
        "\n",
        "Объединили данные о пользователях, поездках и подписках в один датафрейм - data.\n",
        "\n",
        "Выделили два датафрейма на основе data:\n",
        "\n",
        "free_sub - Информация о пользователях без подписки\n",
        "ultra_sub - Информация о пользователях с подпиской\n",
        "Визуализировали информацию о расстоянии и времени для каждого из тарифов.\n",
        "\n",
        "Без подписки время поездки составляет от 10 до 30 минут, и проезжают от 1,9 до 4,8 км, есть пользователи, которые проехали даже 6, 6.5 км.\n",
        "\n",
        "С подпиской время укладывается в промежуток от 13 до 25 минут. Пик расстояния приходится на 3км.\n",
        "\n",
        "Таким образом, можно сделать вывод, что пользователи без подписки в целом совершают более долгие поездки, а также проезжают большее расстояние, чем пользователи с подпиской."
      ]
    },
    {
      "cell_type": "markdown",
      "id": "402d620f",
      "metadata": {
        "id": "402d620f"
      },
      "source": [
        "#### Шаг 5. Подсчёт выручки"
      ]
    },
    {
      "cell_type": "markdown",
      "id": "d65c6364",
      "metadata": {
        "id": "d65c6364"
      },
      "source": [
        "5.1 Создайте датафрейм с агрегированными данными о поездках на основе датафрейма с объединёнными данными из шага 4: найдите суммарное расстояние, количество поездок и суммарное время для каждого пользователя за каждый месяц.\n",
        "\n",
        "Найдем суммарное расстояние, количество поeздок и суммарное время для каждого пользователя за каждый месяц"
      ]
    },
    {
      "cell_type": "code",
      "execution_count": null,
      "id": "369aaed2",
      "metadata": {
        "id": "369aaed2",
        "outputId": "7522bf0e-b79b-4d67-beb5-3bcbdff8e710"
      },
      "outputs": [
        {
          "data": {
            "text/plain": [
              "user_id              0\n",
              "name                 0\n",
              "age                  0\n",
              "city                 0\n",
              "subscription_type    0\n",
              "distance             0\n",
              "duration             0\n",
              "date                 0\n",
              "month                0\n",
              "minute_price         0\n",
              "start_ride_price     0\n",
              "subscription_fee     0\n",
              "dtype: int64"
            ]
          },
          "execution_count": 45,
          "metadata": {},
          "output_type": "execute_result"
        }
      ],
      "source": [
        "data.isna().sum()"
      ]
    },
    {
      "cell_type": "markdown",
      "id": "9d6836f6",
      "metadata": {
        "id": "9d6836f6"
      },
      "source": [
        "перед групировкой проверили нет ли пропусков в новом датафрейме"
      ]
    },
    {
      "cell_type": "code",
      "execution_count": null,
      "id": "52537cdc",
      "metadata": {
        "id": "52537cdc"
      },
      "outputs": [],
      "source": [
        "data['duration'] = np.ceil(data['duration'])"
      ]
    },
    {
      "cell_type": "markdown",
      "id": "bda261ab",
      "metadata": {
        "id": "bda261ab"
      },
      "source": []
    },
    {
      "cell_type": "code",
      "execution_count": null,
      "id": "366ad601",
      "metadata": {
        "id": "366ad601",
        "outputId": "84c48ccf-9ae0-49c7-f2df-c14211550d94"
      },
      "outputs": [
        {
          "data": {
            "text/html": [
              "<div>\n",
              "<style scoped>\n",
              "    .dataframe tbody tr th:only-of-type {\n",
              "        vertical-align: middle;\n",
              "    }\n",
              "\n",
              "    .dataframe tbody tr th {\n",
              "        vertical-align: top;\n",
              "    }\n",
              "\n",
              "    .dataframe thead th {\n",
              "        text-align: right;\n",
              "    }\n",
              "</style>\n",
              "<table border=\"1\" class=\"dataframe\">\n",
              "  <thead>\n",
              "    <tr style=\"text-align: right;\">\n",
              "      <th></th>\n",
              "      <th></th>\n",
              "      <th>distance</th>\n",
              "      <th>rides</th>\n",
              "      <th>duration</th>\n",
              "      <th>subscription_type</th>\n",
              "    </tr>\n",
              "    <tr>\n",
              "      <th>user_id</th>\n",
              "      <th>month</th>\n",
              "      <th></th>\n",
              "      <th></th>\n",
              "      <th></th>\n",
              "      <th></th>\n",
              "    </tr>\n",
              "  </thead>\n",
              "  <tbody>\n",
              "    <tr>\n",
              "      <th rowspan=\"6\" valign=\"top\">1</th>\n",
              "      <th>1</th>\n",
              "      <td>7027.511294</td>\n",
              "      <td>2</td>\n",
              "      <td>42.0</td>\n",
              "      <td>ultra</td>\n",
              "    </tr>\n",
              "    <tr>\n",
              "      <th>4</th>\n",
              "      <td>754.159807</td>\n",
              "      <td>1</td>\n",
              "      <td>7.0</td>\n",
              "      <td>ultra</td>\n",
              "    </tr>\n",
              "    <tr>\n",
              "      <th>8</th>\n",
              "      <td>6723.470560</td>\n",
              "      <td>2</td>\n",
              "      <td>46.0</td>\n",
              "      <td>ultra</td>\n",
              "    </tr>\n",
              "    <tr>\n",
              "      <th>10</th>\n",
              "      <td>5809.911100</td>\n",
              "      <td>2</td>\n",
              "      <td>32.0</td>\n",
              "      <td>ultra</td>\n",
              "    </tr>\n",
              "    <tr>\n",
              "      <th>11</th>\n",
              "      <td>7003.499363</td>\n",
              "      <td>3</td>\n",
              "      <td>56.0</td>\n",
              "      <td>ultra</td>\n",
              "    </tr>\n",
              "    <tr>\n",
              "      <th>12</th>\n",
              "      <td>6751.629942</td>\n",
              "      <td>2</td>\n",
              "      <td>28.0</td>\n",
              "      <td>ultra</td>\n",
              "    </tr>\n",
              "    <tr>\n",
              "      <th rowspan=\"4\" valign=\"top\">2</th>\n",
              "      <th>3</th>\n",
              "      <td>10187.723006</td>\n",
              "      <td>3</td>\n",
              "      <td>63.0</td>\n",
              "      <td>ultra</td>\n",
              "    </tr>\n",
              "    <tr>\n",
              "      <th>4</th>\n",
              "      <td>6164.381824</td>\n",
              "      <td>2</td>\n",
              "      <td>40.0</td>\n",
              "      <td>ultra</td>\n",
              "    </tr>\n",
              "    <tr>\n",
              "      <th>6</th>\n",
              "      <td>3255.338202</td>\n",
              "      <td>1</td>\n",
              "      <td>14.0</td>\n",
              "      <td>ultra</td>\n",
              "    </tr>\n",
              "    <tr>\n",
              "      <th>7</th>\n",
              "      <td>6780.722964</td>\n",
              "      <td>2</td>\n",
              "      <td>48.0</td>\n",
              "      <td>ultra</td>\n",
              "    </tr>\n",
              "  </tbody>\n",
              "</table>\n",
              "</div>"
            ],
            "text/plain": [
              "                   distance  rides  duration subscription_type\n",
              "user_id month                                                 \n",
              "1       1       7027.511294      2      42.0             ultra\n",
              "        4        754.159807      1       7.0             ultra\n",
              "        8       6723.470560      2      46.0             ultra\n",
              "        10      5809.911100      2      32.0             ultra\n",
              "        11      7003.499363      3      56.0             ultra\n",
              "        12      6751.629942      2      28.0             ultra\n",
              "2       3      10187.723006      3      63.0             ultra\n",
              "        4       6164.381824      2      40.0             ultra\n",
              "        6       3255.338202      1      14.0             ultra\n",
              "        7       6780.722964      2      48.0             ultra"
            ]
          },
          "execution_count": 47,
          "metadata": {},
          "output_type": "execute_result"
        }
      ],
      "source": [
        "#gg_data = data.pivot_table(index=['month', 'user_id'], values = ['distance', 'duration', 'name', 'subscription_type'], aggfunc = {'distance': sum, 'duration' : sum, 'name' : len, 'subscription_type' : min})\n",
        "\n",
        "gg_data = data.groupby(['user_id','month']).agg({'distance':'sum', 'user_id':'count', 'duration':'sum', 'subscription_type':'first'})\n",
        "gg_data.columns = ['distance','rides','duration', 'subscription_type']\n",
        "gg_data.head(10)"
      ]
    },
    {
      "cell_type": "code",
      "execution_count": null,
      "id": "5cc37a48",
      "metadata": {
        "id": "5cc37a48",
        "outputId": "420b26fb-763d-494c-ad51-5f402f64e44e"
      },
      "outputs": [
        {
          "data": {
            "text/html": [
              "<div>\n",
              "<style scoped>\n",
              "    .dataframe tbody tr th:only-of-type {\n",
              "        vertical-align: middle;\n",
              "    }\n",
              "\n",
              "    .dataframe tbody tr th {\n",
              "        vertical-align: top;\n",
              "    }\n",
              "\n",
              "    .dataframe thead th {\n",
              "        text-align: right;\n",
              "    }\n",
              "</style>\n",
              "<table border=\"1\" class=\"dataframe\">\n",
              "  <thead>\n",
              "    <tr style=\"text-align: right;\">\n",
              "      <th></th>\n",
              "      <th></th>\n",
              "      <th>distance</th>\n",
              "      <th>rides</th>\n",
              "      <th>duration</th>\n",
              "      <th>subscription_type</th>\n",
              "    </tr>\n",
              "    <tr>\n",
              "      <th>user_id</th>\n",
              "      <th>month</th>\n",
              "      <th></th>\n",
              "      <th></th>\n",
              "      <th></th>\n",
              "      <th></th>\n",
              "    </tr>\n",
              "  </thead>\n",
              "  <tbody>\n",
              "    <tr>\n",
              "      <th rowspan=\"6\" valign=\"top\">1</th>\n",
              "      <th>1</th>\n",
              "      <td>7027.511294</td>\n",
              "      <td>2</td>\n",
              "      <td>42.0</td>\n",
              "      <td>ultra</td>\n",
              "    </tr>\n",
              "    <tr>\n",
              "      <th>4</th>\n",
              "      <td>754.159807</td>\n",
              "      <td>1</td>\n",
              "      <td>7.0</td>\n",
              "      <td>ultra</td>\n",
              "    </tr>\n",
              "    <tr>\n",
              "      <th>8</th>\n",
              "      <td>6723.470560</td>\n",
              "      <td>2</td>\n",
              "      <td>46.0</td>\n",
              "      <td>ultra</td>\n",
              "    </tr>\n",
              "    <tr>\n",
              "      <th>10</th>\n",
              "      <td>5809.911100</td>\n",
              "      <td>2</td>\n",
              "      <td>32.0</td>\n",
              "      <td>ultra</td>\n",
              "    </tr>\n",
              "    <tr>\n",
              "      <th>11</th>\n",
              "      <td>7003.499363</td>\n",
              "      <td>3</td>\n",
              "      <td>56.0</td>\n",
              "      <td>ultra</td>\n",
              "    </tr>\n",
              "    <tr>\n",
              "      <th>12</th>\n",
              "      <td>6751.629942</td>\n",
              "      <td>2</td>\n",
              "      <td>28.0</td>\n",
              "      <td>ultra</td>\n",
              "    </tr>\n",
              "  </tbody>\n",
              "</table>\n",
              "</div>"
            ],
            "text/plain": [
              "                  distance  rides  duration subscription_type\n",
              "user_id month                                                \n",
              "1       1      7027.511294      2      42.0             ultra\n",
              "        4       754.159807      1       7.0             ultra\n",
              "        8      6723.470560      2      46.0             ultra\n",
              "        10     5809.911100      2      32.0             ultra\n",
              "        11     7003.499363      3      56.0             ultra\n",
              "        12     6751.629942      2      28.0             ultra"
            ]
          },
          "execution_count": 48,
          "metadata": {},
          "output_type": "execute_result"
        }
      ],
      "source": [
        "# проверяем\n",
        "gg_data.query('user_id == 1')"
      ]
    },
    {
      "cell_type": "code",
      "execution_count": null,
      "id": "f3dc43f0",
      "metadata": {
        "id": "f3dc43f0",
        "outputId": "87eba343-21eb-4983-8a56-d2bddd7aabc3"
      },
      "outputs": [
        {
          "data": {
            "text/html": [
              "<div>\n",
              "<style scoped>\n",
              "    .dataframe tbody tr th:only-of-type {\n",
              "        vertical-align: middle;\n",
              "    }\n",
              "\n",
              "    .dataframe tbody tr th {\n",
              "        vertical-align: top;\n",
              "    }\n",
              "\n",
              "    .dataframe thead th {\n",
              "        text-align: right;\n",
              "    }\n",
              "</style>\n",
              "<table border=\"1\" class=\"dataframe\">\n",
              "  <thead>\n",
              "    <tr style=\"text-align: right;\">\n",
              "      <th></th>\n",
              "      <th></th>\n",
              "      <th>distance</th>\n",
              "      <th>rides</th>\n",
              "      <th>duration</th>\n",
              "      <th>subscription_type</th>\n",
              "    </tr>\n",
              "    <tr>\n",
              "      <th>user_id</th>\n",
              "      <th>month</th>\n",
              "      <th></th>\n",
              "      <th></th>\n",
              "      <th></th>\n",
              "      <th></th>\n",
              "    </tr>\n",
              "  </thead>\n",
              "  <tbody>\n",
              "    <tr>\n",
              "      <th rowspan=\"4\" valign=\"top\">52</th>\n",
              "      <th>2</th>\n",
              "      <td>3056.954111</td>\n",
              "      <td>1</td>\n",
              "      <td>19.0</td>\n",
              "      <td>ultra</td>\n",
              "    </tr>\n",
              "    <tr>\n",
              "      <th>3</th>\n",
              "      <td>2855.937631</td>\n",
              "      <td>1</td>\n",
              "      <td>23.0</td>\n",
              "      <td>ultra</td>\n",
              "    </tr>\n",
              "    <tr>\n",
              "      <th>4</th>\n",
              "      <td>5770.562487</td>\n",
              "      <td>2</td>\n",
              "      <td>44.0</td>\n",
              "      <td>ultra</td>\n",
              "    </tr>\n",
              "    <tr>\n",
              "      <th>10</th>\n",
              "      <td>3747.336373</td>\n",
              "      <td>1</td>\n",
              "      <td>29.0</td>\n",
              "      <td>ultra</td>\n",
              "    </tr>\n",
              "  </tbody>\n",
              "</table>\n",
              "</div>"
            ],
            "text/plain": [
              "                  distance  rides  duration subscription_type\n",
              "user_id month                                                \n",
              "52      2      3056.954111      1      19.0             ultra\n",
              "        3      2855.937631      1      23.0             ultra\n",
              "        4      5770.562487      2      44.0             ultra\n",
              "        10     3747.336373      1      29.0             ultra"
            ]
          },
          "execution_count": 49,
          "metadata": {},
          "output_type": "execute_result"
        }
      ],
      "source": [
        "gg_data.query('user_id == 52')"
      ]
    },
    {
      "cell_type": "markdown",
      "id": "b2930b78",
      "metadata": {
        "id": "b2930b78"
      },
      "source": [
        "5.2 В этот же датафрейм добавим столбец с помесячной выручкой, которую принёс каждый пользователь."
      ]
    },
    {
      "cell_type": "code",
      "execution_count": null,
      "id": "b884c62b",
      "metadata": {
        "id": "b884c62b",
        "outputId": "c49d8ec2-474d-4342-be8c-d5f9cf30e9f7"
      },
      "outputs": [
        {
          "data": {
            "text/html": [
              "<div>\n",
              "<style scoped>\n",
              "    .dataframe tbody tr th:only-of-type {\n",
              "        vertical-align: middle;\n",
              "    }\n",
              "\n",
              "    .dataframe tbody tr th {\n",
              "        vertical-align: top;\n",
              "    }\n",
              "\n",
              "    .dataframe thead th {\n",
              "        text-align: right;\n",
              "    }\n",
              "</style>\n",
              "<table border=\"1\" class=\"dataframe\">\n",
              "  <thead>\n",
              "    <tr style=\"text-align: right;\">\n",
              "      <th></th>\n",
              "      <th></th>\n",
              "      <th>distance</th>\n",
              "      <th>rides</th>\n",
              "      <th>duration</th>\n",
              "      <th>subscription_type</th>\n",
              "      <th>revenue_month</th>\n",
              "    </tr>\n",
              "    <tr>\n",
              "      <th>user_id</th>\n",
              "      <th>month</th>\n",
              "      <th></th>\n",
              "      <th></th>\n",
              "      <th></th>\n",
              "      <th></th>\n",
              "      <th></th>\n",
              "    </tr>\n",
              "  </thead>\n",
              "  <tbody>\n",
              "    <tr>\n",
              "      <th rowspan=\"5\" valign=\"top\">1</th>\n",
              "      <th>1</th>\n",
              "      <td>7027.511294</td>\n",
              "      <td>2</td>\n",
              "      <td>42.0</td>\n",
              "      <td>ultra</td>\n",
              "      <td>451.0</td>\n",
              "    </tr>\n",
              "    <tr>\n",
              "      <th>4</th>\n",
              "      <td>754.159807</td>\n",
              "      <td>1</td>\n",
              "      <td>7.0</td>\n",
              "      <td>ultra</td>\n",
              "      <td>241.0</td>\n",
              "    </tr>\n",
              "    <tr>\n",
              "      <th>8</th>\n",
              "      <td>6723.470560</td>\n",
              "      <td>2</td>\n",
              "      <td>46.0</td>\n",
              "      <td>ultra</td>\n",
              "      <td>475.0</td>\n",
              "    </tr>\n",
              "    <tr>\n",
              "      <th>10</th>\n",
              "      <td>5809.911100</td>\n",
              "      <td>2</td>\n",
              "      <td>32.0</td>\n",
              "      <td>ultra</td>\n",
              "      <td>391.0</td>\n",
              "    </tr>\n",
              "    <tr>\n",
              "      <th>11</th>\n",
              "      <td>7003.499363</td>\n",
              "      <td>3</td>\n",
              "      <td>56.0</td>\n",
              "      <td>ultra</td>\n",
              "      <td>535.0</td>\n",
              "    </tr>\n",
              "  </tbody>\n",
              "</table>\n",
              "</div>"
            ],
            "text/plain": [
              "                  distance  rides  duration subscription_type  revenue_month\n",
              "user_id month                                                               \n",
              "1       1      7027.511294      2      42.0             ultra          451.0\n",
              "        4       754.159807      1       7.0             ultra          241.0\n",
              "        8      6723.470560      2      46.0             ultra          475.0\n",
              "        10     5809.911100      2      32.0             ultra          391.0\n",
              "        11     7003.499363      3      56.0             ultra          535.0"
            ]
          },
          "execution_count": 50,
          "metadata": {},
          "output_type": "execute_result"
        }
      ],
      "source": [
        "#gg = (data['start_ride_price'] * gg_data['rides']) + (data['minute_price' * 'duration']) + data['subscription_fee']\n",
        "def revenue(gg):\n",
        "    if gg['subscription_type'] == 'ultra':\n",
        "        return 6 * gg['duration'] + 199\n",
        "    elif gg['subscription_type'] == 'free':\n",
        "        return 8 * gg['duration'] + 50 * gg['rides']\n",
        "gg_data['revenue_month'] = gg_data.apply(revenue, axis=1)\n",
        "gg_data['revenue_month'] = np.ceil(gg_data['revenue_month'])\n",
        "gg_data.head()"
      ]
    },
    {
      "cell_type": "markdown",
      "id": "b0328ec4",
      "metadata": {
        "id": "b0328ec4"
      },
      "source": [
        "Вывод\n",
        "\n",
        "Создали новый датафрейм с агрегированными данными (gg_data) на основе датафрейма с объединенными данными (data).\n",
        "\n",
        "Нашли суммарное расстояние, количество поездок и суммарное время для каждого пользователя за каждый месяц. Также добавили столбец с помесячной выручкой, которую принес каждый пользователь."
      ]
    },
    {
      "cell_type": "markdown",
      "id": "41545ac0",
      "metadata": {
        "id": "41545ac0"
      },
      "source": [
        "#### Шаг 6. Проверка гипотез"
      ]
    },
    {
      "cell_type": "markdown",
      "id": "24a144e2",
      "metadata": {
        "id": "24a144e2"
      },
      "source": [
        "6.1 Важно понять, тратят ли пользователи с подпиской больше времени на поездки? Если да, то пользователи с подпиской могут быть «выгоднее» для компании. Проверьте гипотезу. Используйте исходные данные о продолжительности каждой сессии — отдельно для подписчиков и тех, у кого нет подписки."
      ]
    },
    {
      "cell_type": "markdown",
      "id": "13d33309",
      "metadata": {
        "id": "13d33309"
      },
      "source": [
        "Проверим гипотезу: пользователи с подпиской тратят больше времени на поездки, чем пользователи на бесплатном тарифе.\n",
        "\n",
        "alpha = 0.05\n",
        "\n",
        "0: Время продолжительность сессии пользователей на подписке ultra = время продолжительность сессии пользователей на подписке free\n",
        "\n",
        "1: Время продолжительность сессии пользователей на подписке ultra > время продолжительность сессии пользователей на подписке free\n"
      ]
    },
    {
      "cell_type": "code",
      "execution_count": null,
      "id": "f64f9290",
      "metadata": {
        "id": "f64f9290",
        "outputId": "4dd7d76d-7b06-43e7-f5ef-25f48e09f3b7"
      },
      "outputs": [
        {
          "name": "stdout",
          "output_type": "stream",
          "text": [
            "1.2804098316645618e-34\n",
            "Отвергаем нулевую гипотезу\n"
          ]
        }
      ],
      "source": [
        "ultra = ultra_sub['duration']\n",
        "\n",
        "free = free_sub['duration']\n",
        "\n",
        "results = st.ttest_ind(ultra, free, alternative='greater')\n",
        "\n",
        "alpha = 0.05\n",
        "\n",
        "print(results.pvalue)\n",
        "\n",
        "if results.pvalue < alpha:\n",
        "    print('Отвергаем нулевую гипотезу')\n",
        "else:\n",
        "    print('Не удалось отвергнуть нулевую гипотезу')"
      ]
    },
    {
      "cell_type": "markdown",
      "id": "0eff8dea",
      "metadata": {
        "id": "0eff8dea"
      },
      "source": [
        "Вывод\n",
        "\n",
        "Проверили гипотезу, мы можем почти отвергнуть гипотезу о том, что время поездки пользователей на тарифе ultra равно времени поездки пользователей на тарифе free."
      ]
    },
    {
      "cell_type": "markdown",
      "id": "424ddaac",
      "metadata": {
        "id": "424ddaac"
      },
      "source": []
    },
    {
      "cell_type": "markdown",
      "id": "5a46f9da",
      "metadata": {
        "id": "5a46f9da"
      },
      "source": [
        "6.2 Расстояние одной поездки в\n",
        "3130 метров — оптимальное с точки зрения износа самоката. Можно ли сказать, что расстояние, которое проезжают пользователи с подпиской за одну поездку, не превышает\n",
        "3130 метров? Проверьте гипотезу и сделайте выводы."
      ]
    },
    {
      "cell_type": "markdown",
      "id": "4b585379",
      "metadata": {
        "id": "4b585379"
      },
      "source": [
        "Проверим гипотезу: пользователи с подпиской проезжают расстояние, не превышающее 3130 метров за одну поездку.\n",
        "\n",
        "alpha = 0.05\n",
        "\n",
        "0: Расстояние пользователей на подписке ultra = 3130 метров\n",
        "\n",
        "1: Расстояние пользователей на подписке ultra < 3130 метров"
      ]
    },
    {
      "cell_type": "code",
      "execution_count": null,
      "id": "008b5b16",
      "metadata": {
        "id": "008b5b16",
        "outputId": "f0a61b37-224e-42b9-9b50-201d99589c7b"
      },
      "outputs": [
        {
          "name": "stdout",
          "output_type": "stream",
          "text": [
            "0.9195368847849785\n",
            "Не удалось отвергнуть нулевую гипотезу\n"
          ]
        }
      ],
      "source": [
        "ultra = ultra_sub['distance']\n",
        "\n",
        "interested_value = 3130.0\n",
        "\n",
        "alpha = 0.05\n",
        "\n",
        "results = st.ttest_1samp(ultra, interested_value, alternative='greater')\n",
        "\n",
        "print(results.pvalue)\n",
        "\n",
        "if (results.pvalue < alpha):\n",
        "    print('Отвергаем нулевую гипотезу')\n",
        "else:\n",
        "    print('Не удалось отвергнуть нулевую гипотезу')"
      ]
    },
    {
      "cell_type": "markdown",
      "id": "528fc75d",
      "metadata": {
        "id": "528fc75d"
      },
      "source": [
        "Вывод\n",
        "\n",
        "Проверили гипотезу, и мы не можем утверждать, что расстояние, которое проехали пользователи на тарифе ultra не превышает 3130 метров. хотя и очень близко находится к этому значению"
      ]
    },
    {
      "cell_type": "markdown",
      "id": "8e919eab",
      "metadata": {
        "id": "8e919eab"
      },
      "source": [
        "6.3. Проверьте гипотезу о том, будет ли помесячная выручка от пользователей с подпиской по месяцам выше, чем выручка от пользователей без подписки. Сделайте вывод."
      ]
    },
    {
      "cell_type": "markdown",
      "id": "6dfd4bf9",
      "metadata": {
        "id": "6dfd4bf9"
      },
      "source": [
        "Проверим гипотезу: помесячная выручка от пользователей с подпиской выше, чем выручка от пользователей без подписки\n",
        "\n",
        "alpha = 0.05\n",
        "\n",
        "0: Выручка пользователей на подписке ultra = выручка пользователей на подписке free\n",
        "\n",
        "1: Выручка пользователей на подписке ultra > выручка пользователей на подписке free"
      ]
    },
    {
      "cell_type": "code",
      "execution_count": null,
      "id": "93652bed",
      "metadata": {
        "id": "93652bed",
        "outputId": "c6c4477a-d875-450a-a274-30fd527e5c04"
      },
      "outputs": [
        {
          "name": "stdout",
          "output_type": "stream",
          "text": [
            "1.8850394384715216e-31\n",
            "Отвергаем нулевую гипотезу\n"
          ]
        }
      ],
      "source": [
        "ultra = gg_data.loc[gg_data.subscription_type == 'ultra', 'revenue_month']\n",
        "\n",
        "free = gg_data.loc[gg_data.subscription_type == 'free', 'revenue_month']\n",
        "\n",
        "\n",
        "results = st.ttest_ind(ultra, free, alternative = 'greater')\n",
        "\n",
        "alpha = 0.05\n",
        "\n",
        "print(results.pvalue)\n",
        "\n",
        "if results.pvalue < alpha:\n",
        "    print('Отвергаем нулевую гипотезу')\n",
        "else:\n",
        "    print('Не удалось отвергнуть нулевую гипотезу')"
      ]
    },
    {
      "cell_type": "markdown",
      "id": "438704cb",
      "metadata": {
        "id": "438704cb"
      },
      "source": [
        "Вывод\n",
        "\n",
        "Проверили гипотезу, соответственно, мы можем утверждать, что выручка на подписке ultra превышает выручку на подписке free"
      ]
    },
    {
      "cell_type": "markdown",
      "id": "fe051645",
      "metadata": {
        "id": "fe051645"
      },
      "source": [
        "6.4. Представьте такую ситуацию: техническая команда сервиса обновила сервера, с которыми взаимодействует мобильное приложение. Она надеется, что из-за этого количество обращений в техподдержку значимо снизилось. Некоторый файл содержит для каждого пользователя данные о количестве обращений до обновления и после него. Какой тест вам понадобился бы для проверки этой гипотезы?"
      ]
    },
    {
      "cell_type": "markdown",
      "id": "9e18778c",
      "metadata": {
        "id": "9e18778c"
      },
      "source": [
        "Чтобы проверить гипотезу о равенстве среднего генеральной совокупности для зависимых (парных) выборок в Python\n",
        "\n",
        "Гипотезы в таком случае будут сформулированы так:\n",
        "\n",
        "где μ1 и μ2 - средние значения количество обращений в техподдержку до и после изменения.\n",
        "\n",
        "1: μ1 = μ2\n",
        "\n",
        "2: μ1 != μ2\n",
        "\n",
        "Метод для сравнения: scipy.stats.ttest_rel()"
      ]
    },
    {
      "cell_type": "markdown",
      "id": "61213c5e",
      "metadata": {
        "id": "61213c5e"
      },
      "source": [
        "####  шаг. Вывод"
      ]
    },
    {
      "cell_type": "markdown",
      "id": "8963569c",
      "metadata": {
        "id": "8963569c"
      },
      "source": [
        "Загрузили 3 датафрейма: с пользователями, информацией о поездках, информацией о подписках.\n",
        "\n",
        "Дальше проверили данные на пропуски, их не оказалось ни в одной таблице. Поменяли тип данных у столбца date из датафрейма rides к типу даты. Также добавили столбец month с номером месяца. И удалили дубликаты строк из датафрейма с пользователями.\n",
        "\n",
        "Провели исследовательский анализ данных:\n",
        "\n",
        "Вывели, что количество пользователей по городам распределено примерно одинаково, нет выдающихся значений. Лидером по количеству пользователей является Пятигорск - 219 пользователей. Меньше всего пользователей в Москве - 168.\n",
        "Пользователей, использующих бесплатную подписку больше - 835 человек, что 54% от общего числа пользователей. На платной подписке сидит 699 пользователей, что соответственно 46%.\n",
        "\n",
        "\n",
        "Самыми младшими являются пользователи 12 лет. Самыми старшими - 43.\n",
        "\n",
        "В среднем указывают возраст от 23 до 28 лет.\n",
        "\n",
        "Самая короткая дистанция - 0.86 км. Самая длинная - 7.2 км В основном пользователи проезжают от 2.3 км до 4.4 км.\n",
        "\n",
        "Чаще всего длительность поездки состовляет 13 - 22 минут\n",
        "\n",
        "Объединили данные о пользователях, поездках и подписках в один датафрейм. На основе объединенного датафрейма создали еще 2 датафрейма:\n",
        "\n",
        "Для пользователей с ultra подпиской\n",
        "Для пользователей с free подпиской\n",
        "Дальше визуализировали информацию о расстоянии и времени поездки для пользоватей каждого тарифа.\n",
        "\n",
        "Для бесплатного тарифа время поездки составляет от 10 до 30 минут, и проезжают от 2 до 5 км, есть пользователи, которые проехали даже 6, 6.5 км.\n",
        "Платный тариф. В основном время укладывается в промежуток от 15 до 25 минут. Пик расстояния приходится на 3км.\n",
        "Нашли суммарное расстояние, количество поездок и суммарное время для каждого пользователя за каждый месяц - вывели все данные в отдельный датафрейм total_data. Добавили в датафрейм total_data столбец с помесячной выручкой revenue_per_month.\n",
        "\n",
        "Проверили гипотезы:\n",
        "\n",
        "Пользователи с подпиской тратят больше времени на поездки, чем пользователи на бесплатном тарифе\n",
        "Отвергли нулевую гипотезу\n",
        "Пользователи с подпиской проезжают расстояние, не превышающее 3130 метров за одну поездку\n",
        "Не удалось отвергнуть нулевую гипотезу\n",
        "Помесячная выручка от пользователей с подпиской выше, чем выручка от пользователей без подписки\n",
        "Отвергли нулевую гипотезу\n",
        "\n",
        "По данным котрые мы получили можно создать еще несколько иследований. Котрые мы можем сделать для лучшего сервиса по аренде самокатов. Например:\n",
        "\n",
        "В каких городах больше пользователей с подпиской, без подписки\n",
        "\n",
        "В какую возрастную группу больше приходится людей с подпиской\n",
        "\n",
        "На какой расстояние пользователи разной возрастной группы проезжают"
      ]
    },
    {
      "cell_type": "code",
      "execution_count": null,
      "id": "d1d8abe4",
      "metadata": {
        "id": "d1d8abe4"
      },
      "outputs": [],
      "source": []
    }
  ],
  "metadata": {
    "ExecuteTimeLog": [
      {
        "duration": 773,
        "start_time": "2023-08-21T06:00:44.669Z"
      },
      {
        "duration": 118,
        "start_time": "2023-08-21T06:05:15.732Z"
      },
      {
        "duration": 222,
        "start_time": "2023-08-21T06:05:28.107Z"
      },
      {
        "duration": 13,
        "start_time": "2023-08-21T06:06:47.602Z"
      },
      {
        "duration": 8,
        "start_time": "2023-08-21T06:07:50.483Z"
      },
      {
        "duration": 6,
        "start_time": "2023-08-21T06:08:04.153Z"
      },
      {
        "duration": 9,
        "start_time": "2023-08-21T06:08:54.087Z"
      },
      {
        "duration": 10,
        "start_time": "2023-08-21T06:08:58.685Z"
      },
      {
        "duration": 6,
        "start_time": "2023-08-21T06:11:05.464Z"
      },
      {
        "duration": 6,
        "start_time": "2023-08-21T06:11:43.636Z"
      },
      {
        "duration": 5,
        "start_time": "2023-08-21T06:11:54.906Z"
      },
      {
        "duration": 5,
        "start_time": "2023-08-21T06:12:19.755Z"
      },
      {
        "duration": 7,
        "start_time": "2023-08-21T06:13:01.565Z"
      },
      {
        "duration": 9,
        "start_time": "2023-08-21T06:13:09.605Z"
      },
      {
        "duration": 5,
        "start_time": "2023-08-21T06:13:15.346Z"
      },
      {
        "duration": 6,
        "start_time": "2023-08-21T06:22:52.477Z"
      },
      {
        "duration": 9,
        "start_time": "2023-08-21T06:24:21.026Z"
      },
      {
        "duration": 10,
        "start_time": "2023-08-21T06:25:16.154Z"
      },
      {
        "duration": 8,
        "start_time": "2023-08-21T06:25:37.167Z"
      },
      {
        "duration": 4,
        "start_time": "2023-08-21T06:26:07.183Z"
      },
      {
        "duration": 6,
        "start_time": "2023-08-21T06:28:39.171Z"
      },
      {
        "duration": 4,
        "start_time": "2023-08-21T06:30:17.222Z"
      },
      {
        "duration": 6,
        "start_time": "2023-08-21T06:30:28.691Z"
      },
      {
        "duration": 4,
        "start_time": "2023-08-21T06:30:46.636Z"
      },
      {
        "duration": 5,
        "start_time": "2023-08-21T06:30:56.508Z"
      },
      {
        "duration": 5,
        "start_time": "2023-08-21T06:31:13.597Z"
      },
      {
        "duration": 4,
        "start_time": "2023-08-21T06:33:44.032Z"
      },
      {
        "duration": 5,
        "start_time": "2023-08-21T06:33:58.253Z"
      },
      {
        "duration": 5,
        "start_time": "2023-08-21T06:34:36.902Z"
      },
      {
        "duration": 4,
        "start_time": "2023-08-21T06:35:01.217Z"
      },
      {
        "duration": 7,
        "start_time": "2023-08-21T06:36:56.273Z"
      },
      {
        "duration": 17,
        "start_time": "2023-08-21T06:37:05.552Z"
      },
      {
        "duration": 5,
        "start_time": "2023-08-21T06:37:08.848Z"
      },
      {
        "duration": 5,
        "start_time": "2023-08-21T06:37:43.712Z"
      },
      {
        "duration": 5,
        "start_time": "2023-08-21T06:38:03.311Z"
      },
      {
        "duration": 5,
        "start_time": "2023-08-21T06:38:04.438Z"
      },
      {
        "duration": 5,
        "start_time": "2023-08-21T06:39:37.687Z"
      },
      {
        "duration": 4,
        "start_time": "2023-08-21T06:39:38.729Z"
      },
      {
        "duration": 10,
        "start_time": "2023-08-21T06:40:40.539Z"
      },
      {
        "duration": 4,
        "start_time": "2023-08-21T06:41:56.849Z"
      },
      {
        "duration": 4,
        "start_time": "2023-08-21T06:41:57.413Z"
      },
      {
        "duration": 6,
        "start_time": "2023-08-21T06:43:03.967Z"
      },
      {
        "duration": 4,
        "start_time": "2023-08-21T06:43:14.873Z"
      },
      {
        "duration": 7,
        "start_time": "2023-08-21T06:43:46.276Z"
      },
      {
        "duration": 4,
        "start_time": "2023-08-21T06:43:47.140Z"
      },
      {
        "duration": 5,
        "start_time": "2023-08-21T06:43:53.865Z"
      },
      {
        "duration": 4,
        "start_time": "2023-08-21T06:43:55.643Z"
      },
      {
        "duration": 629,
        "start_time": "2023-08-21T06:44:13.226Z"
      },
      {
        "duration": 80,
        "start_time": "2023-08-21T06:44:15.929Z"
      },
      {
        "duration": 12,
        "start_time": "2023-08-21T06:44:18.451Z"
      },
      {
        "duration": 6,
        "start_time": "2023-08-21T06:44:20.375Z"
      },
      {
        "duration": 587,
        "start_time": "2023-08-21T06:44:36.263Z"
      },
      {
        "duration": 68,
        "start_time": "2023-08-21T06:44:38.572Z"
      },
      {
        "duration": 12,
        "start_time": "2023-08-21T06:44:41.507Z"
      },
      {
        "duration": 10,
        "start_time": "2023-08-21T06:44:42.857Z"
      },
      {
        "duration": 7,
        "start_time": "2023-08-21T06:44:43.754Z"
      },
      {
        "duration": 11,
        "start_time": "2023-08-21T06:44:46.707Z"
      },
      {
        "duration": 6,
        "start_time": "2023-08-21T06:44:50.872Z"
      },
      {
        "duration": 5,
        "start_time": "2023-08-21T06:44:53.427Z"
      },
      {
        "duration": 4,
        "start_time": "2023-08-21T06:44:56.384Z"
      },
      {
        "duration": 6,
        "start_time": "2023-08-21T06:45:01.569Z"
      },
      {
        "duration": 5,
        "start_time": "2023-08-21T06:45:02.242Z"
      },
      {
        "duration": 11,
        "start_time": "2023-08-21T06:47:54.701Z"
      },
      {
        "duration": 8,
        "start_time": "2023-08-21T06:48:47.519Z"
      },
      {
        "duration": 7,
        "start_time": "2023-08-21T06:52:39.174Z"
      },
      {
        "duration": 10,
        "start_time": "2023-08-21T06:53:11.788Z"
      },
      {
        "duration": 8,
        "start_time": "2023-08-21T06:53:43.649Z"
      },
      {
        "duration": 5,
        "start_time": "2023-08-21T06:59:36.797Z"
      },
      {
        "duration": 8,
        "start_time": "2023-08-21T06:59:50.680Z"
      },
      {
        "duration": 12,
        "start_time": "2023-08-21T07:00:36.775Z"
      },
      {
        "duration": 7,
        "start_time": "2023-08-21T07:00:53.015Z"
      },
      {
        "duration": 14,
        "start_time": "2023-08-21T07:03:00.276Z"
      },
      {
        "duration": 7,
        "start_time": "2023-08-21T07:03:14.540Z"
      },
      {
        "duration": 6,
        "start_time": "2023-08-21T07:03:46.968Z"
      },
      {
        "duration": 7,
        "start_time": "2023-08-21T07:09:19.808Z"
      },
      {
        "duration": 5,
        "start_time": "2023-08-21T07:10:01.434Z"
      },
      {
        "duration": 3543,
        "start_time": "2023-08-21T07:39:03.467Z"
      },
      {
        "duration": 5,
        "start_time": "2023-08-21T07:39:21.675Z"
      },
      {
        "duration": 5,
        "start_time": "2023-08-21T07:39:22.477Z"
      },
      {
        "duration": 9,
        "start_time": "2023-08-21T07:45:36.761Z"
      },
      {
        "duration": 4,
        "start_time": "2023-08-21T07:45:56.266Z"
      },
      {
        "duration": 5,
        "start_time": "2023-08-21T07:46:07.980Z"
      },
      {
        "duration": 151,
        "start_time": "2023-08-21T07:48:44.490Z"
      },
      {
        "duration": 1820,
        "start_time": "2023-08-21T07:50:07.533Z"
      },
      {
        "duration": 108,
        "start_time": "2023-08-21T07:50:33.365Z"
      },
      {
        "duration": 8,
        "start_time": "2023-08-21T07:51:01.111Z"
      },
      {
        "duration": 511,
        "start_time": "2023-08-21T07:52:53.987Z"
      },
      {
        "duration": 3,
        "start_time": "2023-08-21T07:54:53.393Z"
      },
      {
        "duration": 35,
        "start_time": "2023-08-21T07:57:04.884Z"
      },
      {
        "duration": 15,
        "start_time": "2023-08-21T07:57:16.724Z"
      },
      {
        "duration": 18,
        "start_time": "2023-08-21T07:58:56.075Z"
      },
      {
        "duration": 15,
        "start_time": "2023-08-21T07:59:03.217Z"
      },
      {
        "duration": 15,
        "start_time": "2023-08-21T08:00:53.579Z"
      },
      {
        "duration": 6,
        "start_time": "2023-08-21T08:05:33.265Z"
      },
      {
        "duration": 92,
        "start_time": "2023-08-21T08:06:26.289Z"
      },
      {
        "duration": 5,
        "start_time": "2023-08-21T08:08:09.818Z"
      },
      {
        "duration": 5,
        "start_time": "2023-08-21T08:12:28.519Z"
      },
      {
        "duration": 6,
        "start_time": "2023-08-21T08:13:22.922Z"
      },
      {
        "duration": 9,
        "start_time": "2023-08-21T08:13:29.248Z"
      },
      {
        "duration": 5,
        "start_time": "2023-08-21T08:13:55.231Z"
      },
      {
        "duration": 8,
        "start_time": "2023-08-21T08:14:06.806Z"
      },
      {
        "duration": 5,
        "start_time": "2023-08-21T08:14:15.635Z"
      },
      {
        "duration": 4,
        "start_time": "2023-08-21T08:14:30.012Z"
      },
      {
        "duration": 9,
        "start_time": "2023-08-21T08:14:41.354Z"
      },
      {
        "duration": 6,
        "start_time": "2023-08-21T08:14:55.679Z"
      },
      {
        "duration": 9,
        "start_time": "2023-08-21T08:15:24.774Z"
      },
      {
        "duration": 10,
        "start_time": "2023-08-21T08:15:52.870Z"
      },
      {
        "duration": 144,
        "start_time": "2023-08-21T08:16:37.274Z"
      },
      {
        "duration": 141,
        "start_time": "2023-08-21T08:17:13.748Z"
      },
      {
        "duration": 22102,
        "start_time": "2023-08-21T08:18:22.614Z"
      },
      {
        "duration": 22248,
        "start_time": "2023-08-21T08:19:46.519Z"
      },
      {
        "duration": 23743,
        "start_time": "2023-08-21T08:21:23.536Z"
      },
      {
        "duration": 15,
        "start_time": "2023-08-21T08:22:54.306Z"
      },
      {
        "duration": 10,
        "start_time": "2023-08-21T08:25:02.064Z"
      },
      {
        "duration": 9,
        "start_time": "2023-08-21T08:25:21.912Z"
      },
      {
        "duration": 7,
        "start_time": "2023-08-21T08:26:07.632Z"
      },
      {
        "duration": 153,
        "start_time": "2023-08-21T08:31:49.145Z"
      },
      {
        "duration": 16,
        "start_time": "2023-08-21T08:34:25.233Z"
      },
      {
        "duration": 10,
        "start_time": "2023-08-21T08:34:59.266Z"
      },
      {
        "duration": 152,
        "start_time": "2023-08-21T08:35:57.713Z"
      },
      {
        "duration": 13,
        "start_time": "2023-08-21T08:48:45.643Z"
      },
      {
        "duration": 23,
        "start_time": "2023-08-21T08:49:42.985Z"
      },
      {
        "duration": 38,
        "start_time": "2023-08-21T08:50:35.744Z"
      },
      {
        "duration": 22,
        "start_time": "2023-08-21T08:53:34.016Z"
      },
      {
        "duration": 21,
        "start_time": "2023-08-21T08:54:42.916Z"
      },
      {
        "duration": 10,
        "start_time": "2023-08-21T08:54:55.342Z"
      },
      {
        "duration": 20,
        "start_time": "2023-08-21T08:55:03.018Z"
      },
      {
        "duration": 25,
        "start_time": "2023-08-21T08:55:31.436Z"
      },
      {
        "duration": 173,
        "start_time": "2023-08-21T08:59:40.556Z"
      },
      {
        "duration": 254,
        "start_time": "2023-08-21T09:00:35.880Z"
      },
      {
        "duration": 189,
        "start_time": "2023-08-21T09:03:44.893Z"
      },
      {
        "duration": 207,
        "start_time": "2023-08-21T09:04:01.623Z"
      },
      {
        "duration": 192,
        "start_time": "2023-08-21T09:04:13.185Z"
      },
      {
        "duration": 189,
        "start_time": "2023-08-21T09:04:25.703Z"
      },
      {
        "duration": 177,
        "start_time": "2023-08-21T09:05:19.729Z"
      },
      {
        "duration": 101,
        "start_time": "2023-08-21T09:47:01.007Z"
      },
      {
        "duration": 14,
        "start_time": "2023-08-21T09:48:10.179Z"
      },
      {
        "duration": 21,
        "start_time": "2023-08-21T09:48:28.629Z"
      },
      {
        "duration": 91,
        "start_time": "2023-08-21T09:51:00.717Z"
      },
      {
        "duration": 651,
        "start_time": "2023-08-21T09:51:31.895Z"
      },
      {
        "duration": 829,
        "start_time": "2023-08-21T09:53:53.705Z"
      },
      {
        "duration": 91,
        "start_time": "2023-08-21T09:55:21.215Z"
      },
      {
        "duration": 15,
        "start_time": "2023-08-21T09:55:32.334Z"
      },
      {
        "duration": 1055,
        "start_time": "2023-08-21T09:55:55.694Z"
      },
      {
        "duration": 881,
        "start_time": "2023-08-21T09:56:49.388Z"
      },
      {
        "duration": 888,
        "start_time": "2023-08-21T09:57:10.906Z"
      },
      {
        "duration": 867,
        "start_time": "2023-08-21T09:57:41.783Z"
      },
      {
        "duration": 918,
        "start_time": "2023-08-21T09:58:05.966Z"
      },
      {
        "duration": 12,
        "start_time": "2023-08-21T09:59:03.882Z"
      },
      {
        "duration": 12,
        "start_time": "2023-08-21T10:04:31.369Z"
      },
      {
        "duration": 24,
        "start_time": "2023-08-21T10:30:02.482Z"
      },
      {
        "duration": 9,
        "start_time": "2023-08-21T10:31:13.825Z"
      },
      {
        "duration": 8,
        "start_time": "2023-08-21T10:32:27.698Z"
      },
      {
        "duration": 1200,
        "start_time": "2023-08-21T10:33:07.132Z"
      },
      {
        "duration": 69,
        "start_time": "2023-08-21T10:33:11.112Z"
      },
      {
        "duration": 13,
        "start_time": "2023-08-21T10:33:12.784Z"
      },
      {
        "duration": 8,
        "start_time": "2023-08-21T10:33:15.936Z"
      },
      {
        "duration": 7,
        "start_time": "2023-08-21T10:33:17.413Z"
      },
      {
        "duration": 11,
        "start_time": "2023-08-21T10:33:19.781Z"
      },
      {
        "duration": 7,
        "start_time": "2023-08-21T10:33:24.260Z"
      },
      {
        "duration": 5,
        "start_time": "2023-08-21T10:33:24.973Z"
      },
      {
        "duration": 5,
        "start_time": "2023-08-21T10:33:26.904Z"
      },
      {
        "duration": 5,
        "start_time": "2023-08-21T10:33:27.537Z"
      },
      {
        "duration": 10,
        "start_time": "2023-08-21T10:33:28.836Z"
      },
      {
        "duration": 7,
        "start_time": "2023-08-21T10:33:29.418Z"
      },
      {
        "duration": 6,
        "start_time": "2023-08-21T10:33:29.938Z"
      },
      {
        "duration": 8,
        "start_time": "2023-08-21T10:33:31.985Z"
      },
      {
        "duration": 6,
        "start_time": "2023-08-21T10:33:33.491Z"
      },
      {
        "duration": 5,
        "start_time": "2023-08-21T10:33:34.330Z"
      },
      {
        "duration": 9,
        "start_time": "2023-08-21T10:33:35.646Z"
      },
      {
        "duration": 11,
        "start_time": "2023-08-21T10:33:37.834Z"
      },
      {
        "duration": 6,
        "start_time": "2023-08-21T10:33:38.391Z"
      },
      {
        "duration": 5,
        "start_time": "2023-08-21T10:33:39.585Z"
      },
      {
        "duration": 6,
        "start_time": "2023-08-21T10:33:43.134Z"
      },
      {
        "duration": 149,
        "start_time": "2023-08-21T10:33:43.966Z"
      },
      {
        "duration": 5,
        "start_time": "2023-08-21T10:33:52.422Z"
      },
      {
        "duration": 79,
        "start_time": "2023-08-21T10:33:53.329Z"
      },
      {
        "duration": 4,
        "start_time": "2023-08-21T10:34:08.194Z"
      },
      {
        "duration": 142,
        "start_time": "2023-08-21T10:34:08.998Z"
      },
      {
        "duration": 6,
        "start_time": "2023-08-21T10:34:12.052Z"
      },
      {
        "duration": 7,
        "start_time": "2023-08-21T10:34:13.400Z"
      },
      {
        "duration": 124,
        "start_time": "2023-08-21T10:34:14.568Z"
      },
      {
        "duration": 6,
        "start_time": "2023-08-21T10:34:21.479Z"
      },
      {
        "duration": 8,
        "start_time": "2023-08-21T10:34:22.203Z"
      },
      {
        "duration": 139,
        "start_time": "2023-08-21T10:34:22.968Z"
      },
      {
        "duration": 33,
        "start_time": "2023-08-21T10:34:25.504Z"
      },
      {
        "duration": 26,
        "start_time": "2023-08-21T10:34:30.681Z"
      },
      {
        "duration": 17,
        "start_time": "2023-08-21T10:34:47.090Z"
      },
      {
        "duration": 158,
        "start_time": "2023-08-21T10:34:48.691Z"
      },
      {
        "duration": 155,
        "start_time": "2023-08-21T10:34:49.199Z"
      },
      {
        "duration": 170,
        "start_time": "2023-08-21T10:34:50.321Z"
      },
      {
        "duration": 208,
        "start_time": "2023-08-21T10:34:50.804Z"
      },
      {
        "duration": 770,
        "start_time": "2023-08-21T10:34:53.337Z"
      },
      {
        "duration": 11,
        "start_time": "2023-08-21T10:34:54.380Z"
      },
      {
        "duration": 11,
        "start_time": "2023-08-21T10:34:55.250Z"
      },
      {
        "duration": 27,
        "start_time": "2023-08-21T10:37:06.051Z"
      },
      {
        "duration": 86,
        "start_time": "2023-08-21T10:40:10.813Z"
      },
      {
        "duration": 747,
        "start_time": "2023-08-21T10:40:18.065Z"
      },
      {
        "duration": 18,
        "start_time": "2023-08-21T10:49:09.298Z"
      },
      {
        "duration": 17,
        "start_time": "2023-08-21T10:49:12.907Z"
      },
      {
        "duration": 17,
        "start_time": "2023-08-21T10:49:35.275Z"
      },
      {
        "duration": 10,
        "start_time": "2023-08-21T10:49:39.224Z"
      },
      {
        "duration": 10,
        "start_time": "2023-08-21T10:49:39.957Z"
      },
      {
        "duration": 7,
        "start_time": "2023-08-21T10:56:12.159Z"
      },
      {
        "duration": 98,
        "start_time": "2023-08-21T10:58:08.425Z"
      },
      {
        "duration": 1672,
        "start_time": "2023-08-21T11:04:07.779Z"
      },
      {
        "duration": 25,
        "start_time": "2023-08-21T11:18:07.240Z"
      },
      {
        "duration": 1032,
        "start_time": "2023-08-21T11:18:30.491Z"
      },
      {
        "duration": 67,
        "start_time": "2023-08-21T11:18:33.101Z"
      },
      {
        "duration": 11,
        "start_time": "2023-08-21T11:18:33.999Z"
      },
      {
        "duration": 8,
        "start_time": "2023-08-21T11:18:34.537Z"
      },
      {
        "duration": 7,
        "start_time": "2023-08-21T11:18:35.090Z"
      },
      {
        "duration": 13,
        "start_time": "2023-08-21T11:18:36.708Z"
      },
      {
        "duration": 6,
        "start_time": "2023-08-21T11:18:37.263Z"
      },
      {
        "duration": 5,
        "start_time": "2023-08-21T11:18:37.803Z"
      },
      {
        "duration": 6,
        "start_time": "2023-08-21T11:18:38.756Z"
      },
      {
        "duration": 4,
        "start_time": "2023-08-21T11:18:39.331Z"
      },
      {
        "duration": 11,
        "start_time": "2023-08-21T11:18:40.367Z"
      },
      {
        "duration": 8,
        "start_time": "2023-08-21T11:18:41.730Z"
      },
      {
        "duration": 6,
        "start_time": "2023-08-21T11:18:42.229Z"
      },
      {
        "duration": 10,
        "start_time": "2023-08-21T11:18:42.763Z"
      },
      {
        "duration": 5,
        "start_time": "2023-08-21T11:18:43.791Z"
      },
      {
        "duration": 5,
        "start_time": "2023-08-21T11:18:45.423Z"
      },
      {
        "duration": 8,
        "start_time": "2023-08-21T11:18:46.081Z"
      },
      {
        "duration": 9,
        "start_time": "2023-08-21T11:18:47.179Z"
      },
      {
        "duration": 7,
        "start_time": "2023-08-21T11:18:48.631Z"
      },
      {
        "duration": 6,
        "start_time": "2023-08-21T11:18:49.279Z"
      },
      {
        "duration": 5,
        "start_time": "2023-08-21T11:18:51.308Z"
      },
      {
        "duration": 141,
        "start_time": "2023-08-21T11:18:51.871Z"
      },
      {
        "duration": 5,
        "start_time": "2023-08-21T11:18:53.792Z"
      },
      {
        "duration": 84,
        "start_time": "2023-08-21T11:18:54.366Z"
      },
      {
        "duration": 4,
        "start_time": "2023-08-21T11:18:56.225Z"
      },
      {
        "duration": 125,
        "start_time": "2023-08-21T11:18:56.761Z"
      },
      {
        "duration": 7,
        "start_time": "2023-08-21T11:18:59.126Z"
      },
      {
        "duration": 6,
        "start_time": "2023-08-21T11:18:59.766Z"
      },
      {
        "duration": 137,
        "start_time": "2023-08-21T11:19:00.348Z"
      },
      {
        "duration": 7,
        "start_time": "2023-08-21T11:19:02.187Z"
      },
      {
        "duration": 8,
        "start_time": "2023-08-21T11:19:02.740Z"
      },
      {
        "duration": 146,
        "start_time": "2023-08-21T11:19:03.473Z"
      },
      {
        "duration": 38,
        "start_time": "2023-08-21T11:19:06.008Z"
      },
      {
        "duration": 21,
        "start_time": "2023-08-21T11:19:07.895Z"
      },
      {
        "duration": 17,
        "start_time": "2023-08-21T11:19:09.971Z"
      },
      {
        "duration": 156,
        "start_time": "2023-08-21T11:19:12.531Z"
      },
      {
        "duration": 152,
        "start_time": "2023-08-21T11:19:13.545Z"
      },
      {
        "duration": 165,
        "start_time": "2023-08-21T11:19:14.949Z"
      },
      {
        "duration": 200,
        "start_time": "2023-08-21T11:19:15.591Z"
      },
      {
        "duration": 98,
        "start_time": "2023-08-21T11:19:21.861Z"
      },
      {
        "duration": 19,
        "start_time": "2023-08-21T11:19:32.217Z"
      },
      {
        "duration": 18,
        "start_time": "2023-08-21T11:20:17.136Z"
      },
      {
        "duration": 11,
        "start_time": "2023-08-21T11:20:29.782Z"
      },
      {
        "duration": 16,
        "start_time": "2023-08-21T11:20:43.720Z"
      },
      {
        "duration": 8,
        "start_time": "2023-08-21T11:20:54.732Z"
      },
      {
        "duration": 12,
        "start_time": "2023-08-21T11:20:58.374Z"
      },
      {
        "duration": 30,
        "start_time": "2023-08-21T11:21:28.250Z"
      },
      {
        "duration": 12,
        "start_time": "2023-08-21T11:21:31.529Z"
      },
      {
        "duration": 10,
        "start_time": "2023-08-21T11:21:33.516Z"
      },
      {
        "duration": 23,
        "start_time": "2023-08-21T11:21:46.096Z"
      },
      {
        "duration": 14,
        "start_time": "2023-08-21T11:22:12.393Z"
      },
      {
        "duration": 3,
        "start_time": "2023-08-21T11:30:12.675Z"
      },
      {
        "duration": 21,
        "start_time": "2023-08-21T11:34:25.343Z"
      },
      {
        "duration": 4,
        "start_time": "2023-08-21T11:34:55.528Z"
      },
      {
        "duration": 1268,
        "start_time": "2023-08-21T11:34:57.038Z"
      },
      {
        "duration": 4,
        "start_time": "2023-08-21T11:35:39.978Z"
      },
      {
        "duration": 1194,
        "start_time": "2023-08-21T11:35:50.744Z"
      },
      {
        "duration": 143,
        "start_time": "2023-08-21T11:36:41.933Z"
      },
      {
        "duration": 146,
        "start_time": "2023-08-21T11:36:58.094Z"
      },
      {
        "duration": 147,
        "start_time": "2023-08-21T11:37:14.194Z"
      },
      {
        "duration": 143,
        "start_time": "2023-08-21T11:41:25.036Z"
      },
      {
        "duration": 130,
        "start_time": "2023-08-21T11:44:21.443Z"
      },
      {
        "duration": 119,
        "start_time": "2023-08-21T11:44:43.013Z"
      },
      {
        "duration": 167,
        "start_time": "2023-08-21T11:45:32.450Z"
      },
      {
        "duration": 153,
        "start_time": "2023-08-21T11:45:46.157Z"
      },
      {
        "duration": 199,
        "start_time": "2023-08-21T11:45:56.912Z"
      },
      {
        "duration": 21684,
        "start_time": "2023-08-21T11:48:09.042Z"
      },
      {
        "duration": 124,
        "start_time": "2023-08-21T11:48:50.215Z"
      },
      {
        "duration": 9,
        "start_time": "2023-08-21T11:49:27.363Z"
      },
      {
        "duration": 15,
        "start_time": "2023-08-21T11:49:40.074Z"
      },
      {
        "duration": 221,
        "start_time": "2023-08-21T11:51:11.792Z"
      },
      {
        "duration": 358,
        "start_time": "2023-08-21T11:51:29.005Z"
      },
      {
        "duration": 744,
        "start_time": "2023-08-21T11:52:45.902Z"
      },
      {
        "duration": 395,
        "start_time": "2023-08-21T11:53:02.364Z"
      },
      {
        "duration": 151,
        "start_time": "2023-08-21T11:53:23.409Z"
      },
      {
        "duration": 146,
        "start_time": "2023-08-21T11:53:35.761Z"
      },
      {
        "duration": 147,
        "start_time": "2023-08-21T11:53:44.523Z"
      },
      {
        "duration": 124,
        "start_time": "2023-08-21T11:53:50.311Z"
      },
      {
        "duration": 1398,
        "start_time": "2023-08-21T14:21:13.359Z"
      },
      {
        "duration": 306,
        "start_time": "2023-08-21T14:21:15.158Z"
      },
      {
        "duration": 12,
        "start_time": "2023-08-21T14:21:16.244Z"
      },
      {
        "duration": 9,
        "start_time": "2023-08-21T14:21:16.774Z"
      },
      {
        "duration": 6,
        "start_time": "2023-08-21T14:21:17.359Z"
      },
      {
        "duration": 10,
        "start_time": "2023-08-21T14:21:19.067Z"
      },
      {
        "duration": 7,
        "start_time": "2023-08-21T14:21:19.562Z"
      },
      {
        "duration": 6,
        "start_time": "2023-08-21T14:21:19.997Z"
      },
      {
        "duration": 6,
        "start_time": "2023-08-21T14:21:20.981Z"
      },
      {
        "duration": 4,
        "start_time": "2023-08-21T14:21:21.435Z"
      },
      {
        "duration": 11,
        "start_time": "2023-08-21T14:21:22.236Z"
      },
      {
        "duration": 8,
        "start_time": "2023-08-21T14:21:22.721Z"
      },
      {
        "duration": 6,
        "start_time": "2023-08-21T14:21:23.136Z"
      },
      {
        "duration": 9,
        "start_time": "2023-08-21T14:21:23.615Z"
      },
      {
        "duration": 5,
        "start_time": "2023-08-21T14:21:24.652Z"
      },
      {
        "duration": 5,
        "start_time": "2023-08-21T14:21:25.085Z"
      },
      {
        "duration": 9,
        "start_time": "2023-08-21T14:21:25.588Z"
      },
      {
        "duration": 10,
        "start_time": "2023-08-21T14:21:26.544Z"
      },
      {
        "duration": 5,
        "start_time": "2023-08-21T14:21:27.001Z"
      },
      {
        "duration": 4,
        "start_time": "2023-08-21T14:21:27.472Z"
      },
      {
        "duration": 6,
        "start_time": "2023-08-21T14:21:29.246Z"
      },
      {
        "duration": 137,
        "start_time": "2023-08-21T14:21:29.698Z"
      },
      {
        "duration": 6,
        "start_time": "2023-08-21T14:21:31.097Z"
      },
      {
        "duration": 117,
        "start_time": "2023-08-21T14:21:31.614Z"
      },
      {
        "duration": 6,
        "start_time": "2023-08-21T14:21:33.028Z"
      },
      {
        "duration": 151,
        "start_time": "2023-08-21T14:21:33.555Z"
      },
      {
        "duration": 7,
        "start_time": "2023-08-21T14:21:34.984Z"
      },
      {
        "duration": 7,
        "start_time": "2023-08-21T14:21:35.436Z"
      },
      {
        "duration": 154,
        "start_time": "2023-08-21T14:21:35.925Z"
      },
      {
        "duration": 7,
        "start_time": "2023-08-21T14:21:37.301Z"
      },
      {
        "duration": 9,
        "start_time": "2023-08-21T14:21:37.772Z"
      },
      {
        "duration": 130,
        "start_time": "2023-08-21T14:21:38.196Z"
      },
      {
        "duration": 30,
        "start_time": "2023-08-21T14:21:39.971Z"
      },
      {
        "duration": 25,
        "start_time": "2023-08-21T14:21:40.962Z"
      },
      {
        "duration": 17,
        "start_time": "2023-08-21T14:21:41.978Z"
      },
      {
        "duration": 181,
        "start_time": "2023-08-21T14:21:42.844Z"
      },
      {
        "duration": 159,
        "start_time": "2023-08-21T14:21:43.221Z"
      },
      {
        "duration": 239,
        "start_time": "2023-08-21T14:21:44.152Z"
      },
      {
        "duration": 242,
        "start_time": "2023-08-21T14:21:44.649Z"
      },
      {
        "duration": 19,
        "start_time": "2023-08-21T14:21:47.374Z"
      },
      {
        "duration": 11,
        "start_time": "2023-08-21T14:21:48.289Z"
      },
      {
        "duration": 13,
        "start_time": "2023-08-21T14:22:03.052Z"
      },
      {
        "duration": 147,
        "start_time": "2023-08-21T14:22:04.413Z"
      },
      {
        "duration": 5,
        "start_time": "2023-08-21T14:36:50.550Z"
      },
      {
        "duration": 5,
        "start_time": "2023-08-21T14:36:57.653Z"
      },
      {
        "duration": 6,
        "start_time": "2023-08-21T14:38:31.111Z"
      },
      {
        "duration": 189,
        "start_time": "2023-08-21T14:41:29.832Z"
      },
      {
        "duration": 10,
        "start_time": "2023-08-21T14:41:55.604Z"
      },
      {
        "duration": 122,
        "start_time": "2023-08-21T14:42:53.245Z"
      },
      {
        "duration": 65,
        "start_time": "2023-08-21T14:43:20.217Z"
      },
      {
        "duration": 74,
        "start_time": "2023-08-21T14:43:30.009Z"
      },
      {
        "duration": 23,
        "start_time": "2023-08-21T14:45:29.925Z"
      },
      {
        "duration": 15,
        "start_time": "2023-08-21T14:46:07.599Z"
      },
      {
        "duration": 10,
        "start_time": "2023-08-21T14:48:36.669Z"
      },
      {
        "duration": 12,
        "start_time": "2023-08-21T14:49:41.618Z"
      },
      {
        "duration": 199717,
        "start_time": "2023-08-21T14:56:35.073Z"
      },
      {
        "duration": 1148,
        "start_time": "2023-08-21T15:06:22.411Z"
      },
      {
        "duration": 67,
        "start_time": "2023-08-21T15:06:23.825Z"
      },
      {
        "duration": 16,
        "start_time": "2023-08-21T15:06:24.893Z"
      },
      {
        "duration": 8,
        "start_time": "2023-08-21T15:06:25.400Z"
      },
      {
        "duration": 7,
        "start_time": "2023-08-21T15:06:25.910Z"
      },
      {
        "duration": 11,
        "start_time": "2023-08-21T15:06:28.903Z"
      },
      {
        "duration": 6,
        "start_time": "2023-08-21T15:06:29.432Z"
      },
      {
        "duration": 6,
        "start_time": "2023-08-21T15:06:29.979Z"
      },
      {
        "duration": 5,
        "start_time": "2023-08-21T15:06:30.990Z"
      },
      {
        "duration": 5,
        "start_time": "2023-08-21T15:06:31.460Z"
      },
      {
        "duration": 14,
        "start_time": "2023-08-21T15:06:32.459Z"
      },
      {
        "duration": 8,
        "start_time": "2023-08-21T15:06:32.963Z"
      },
      {
        "duration": 7,
        "start_time": "2023-08-21T15:06:33.424Z"
      },
      {
        "duration": 9,
        "start_time": "2023-08-21T15:06:34.002Z"
      },
      {
        "duration": 5,
        "start_time": "2023-08-21T15:06:35.100Z"
      },
      {
        "duration": 5,
        "start_time": "2023-08-21T15:06:35.610Z"
      },
      {
        "duration": 9,
        "start_time": "2023-08-21T15:06:36.111Z"
      },
      {
        "duration": 11,
        "start_time": "2023-08-21T15:06:37.144Z"
      },
      {
        "duration": 6,
        "start_time": "2023-08-21T15:06:37.595Z"
      },
      {
        "duration": 7,
        "start_time": "2023-08-21T15:06:38.164Z"
      },
      {
        "duration": 6,
        "start_time": "2023-08-21T15:06:40.128Z"
      },
      {
        "duration": 105,
        "start_time": "2023-08-21T15:06:40.645Z"
      },
      {
        "duration": 7,
        "start_time": "2023-08-21T15:06:42.419Z"
      },
      {
        "duration": 123,
        "start_time": "2023-08-21T15:06:42.929Z"
      },
      {
        "duration": 4,
        "start_time": "2023-08-21T15:06:44.563Z"
      },
      {
        "duration": 136,
        "start_time": "2023-08-21T15:06:45.043Z"
      },
      {
        "duration": 8,
        "start_time": "2023-08-21T15:06:46.705Z"
      },
      {
        "duration": 8,
        "start_time": "2023-08-21T15:06:47.212Z"
      },
      {
        "duration": 136,
        "start_time": "2023-08-21T15:06:47.733Z"
      },
      {
        "duration": 8,
        "start_time": "2023-08-21T15:06:49.665Z"
      },
      {
        "duration": 9,
        "start_time": "2023-08-21T15:06:50.212Z"
      },
      {
        "duration": 134,
        "start_time": "2023-08-21T15:06:50.710Z"
      },
      {
        "duration": 30,
        "start_time": "2023-08-21T15:06:52.753Z"
      },
      {
        "duration": 23,
        "start_time": "2023-08-21T15:06:53.859Z"
      },
      {
        "duration": 17,
        "start_time": "2023-08-21T15:06:54.956Z"
      },
      {
        "duration": 175,
        "start_time": "2023-08-21T15:06:56.154Z"
      },
      {
        "duration": 166,
        "start_time": "2023-08-21T15:06:56.732Z"
      },
      {
        "duration": 177,
        "start_time": "2023-08-21T15:06:57.857Z"
      },
      {
        "duration": 183,
        "start_time": "2023-08-21T15:06:58.447Z"
      },
      {
        "duration": 20,
        "start_time": "2023-08-21T15:07:00.881Z"
      },
      {
        "duration": 13,
        "start_time": "2023-08-21T15:07:01.714Z"
      },
      {
        "duration": 13,
        "start_time": "2023-08-21T15:07:02.454Z"
      },
      {
        "duration": 258,
        "start_time": "2023-08-21T15:07:04.160Z"
      },
      {
        "duration": 6,
        "start_time": "2023-08-21T15:07:07.755Z"
      },
      {
        "duration": 5,
        "start_time": "2023-08-21T15:14:49.281Z"
      },
      {
        "duration": 11,
        "start_time": "2023-08-21T15:22:13.468Z"
      },
      {
        "duration": 17,
        "start_time": "2023-08-21T15:22:30.054Z"
      },
      {
        "duration": 9,
        "start_time": "2023-08-21T15:22:48.609Z"
      },
      {
        "duration": 141,
        "start_time": "2023-08-21T15:45:23.526Z"
      },
      {
        "duration": 172,
        "start_time": "2023-08-21T15:52:12.844Z"
      },
      {
        "duration": 200,
        "start_time": "2023-08-21T15:56:37.817Z"
      },
      {
        "duration": 151,
        "start_time": "2023-08-21T15:57:17.241Z"
      },
      {
        "duration": 166,
        "start_time": "2023-08-21T15:58:29.892Z"
      },
      {
        "duration": 16,
        "start_time": "2023-08-21T16:10:37.677Z"
      },
      {
        "duration": 14,
        "start_time": "2023-08-21T16:12:14.973Z"
      },
      {
        "duration": 1799,
        "start_time": "2023-08-21T16:16:18.590Z"
      },
      {
        "duration": 18,
        "start_time": "2023-08-21T16:16:47.121Z"
      },
      {
        "duration": 15,
        "start_time": "2023-08-21T16:16:57.738Z"
      },
      {
        "duration": 18,
        "start_time": "2023-08-21T16:17:34.250Z"
      },
      {
        "duration": 21,
        "start_time": "2023-08-21T16:17:49.806Z"
      },
      {
        "duration": 117,
        "start_time": "2023-08-21T16:18:40.566Z"
      },
      {
        "duration": 12,
        "start_time": "2023-08-21T16:18:51.908Z"
      },
      {
        "duration": 115,
        "start_time": "2023-08-21T16:19:48.737Z"
      },
      {
        "duration": 108,
        "start_time": "2023-08-21T16:21:41.966Z"
      },
      {
        "duration": 114,
        "start_time": "2023-08-21T16:21:50.792Z"
      },
      {
        "duration": 121,
        "start_time": "2023-08-21T16:22:06.300Z"
      },
      {
        "duration": 116,
        "start_time": "2023-08-21T16:24:07.724Z"
      },
      {
        "duration": 111,
        "start_time": "2023-08-21T16:24:15.644Z"
      },
      {
        "duration": 136,
        "start_time": "2023-08-21T16:25:44.486Z"
      },
      {
        "duration": 145,
        "start_time": "2023-08-21T16:27:24.697Z"
      },
      {
        "duration": 133,
        "start_time": "2023-08-21T16:28:41.314Z"
      },
      {
        "duration": 1568,
        "start_time": "2023-08-21T17:54:31.263Z"
      },
      {
        "duration": 380,
        "start_time": "2023-08-21T17:54:32.834Z"
      },
      {
        "duration": 14,
        "start_time": "2023-08-21T17:54:33.216Z"
      },
      {
        "duration": 26,
        "start_time": "2023-08-21T17:54:33.233Z"
      },
      {
        "duration": 21,
        "start_time": "2023-08-21T17:54:33.262Z"
      },
      {
        "duration": 26,
        "start_time": "2023-08-21T17:54:33.285Z"
      },
      {
        "duration": 7,
        "start_time": "2023-08-21T17:54:33.313Z"
      },
      {
        "duration": 30,
        "start_time": "2023-08-21T17:54:33.322Z"
      },
      {
        "duration": 9,
        "start_time": "2023-08-21T17:54:33.353Z"
      },
      {
        "duration": 8,
        "start_time": "2023-08-21T17:54:33.365Z"
      },
      {
        "duration": 29,
        "start_time": "2023-08-21T17:54:33.375Z"
      },
      {
        "duration": 10,
        "start_time": "2023-08-21T17:54:33.406Z"
      },
      {
        "duration": 15,
        "start_time": "2023-08-21T17:54:33.418Z"
      },
      {
        "duration": 9,
        "start_time": "2023-08-21T17:54:33.435Z"
      },
      {
        "duration": 47,
        "start_time": "2023-08-21T17:54:33.446Z"
      },
      {
        "duration": 12,
        "start_time": "2023-08-21T17:54:33.497Z"
      },
      {
        "duration": 18,
        "start_time": "2023-08-21T17:54:33.513Z"
      },
      {
        "duration": 18,
        "start_time": "2023-08-21T17:54:33.533Z"
      },
      {
        "duration": 11,
        "start_time": "2023-08-21T17:54:33.553Z"
      },
      {
        "duration": 30,
        "start_time": "2023-08-21T17:54:33.566Z"
      },
      {
        "duration": 19,
        "start_time": "2023-08-21T17:54:33.599Z"
      },
      {
        "duration": 237,
        "start_time": "2023-08-21T17:54:33.620Z"
      },
      {
        "duration": 7,
        "start_time": "2023-08-21T17:54:33.859Z"
      },
      {
        "duration": 239,
        "start_time": "2023-08-21T17:54:33.872Z"
      },
      {
        "duration": 6,
        "start_time": "2023-08-21T17:54:34.117Z"
      },
      {
        "duration": 242,
        "start_time": "2023-08-21T17:54:34.125Z"
      },
      {
        "duration": 10,
        "start_time": "2023-08-21T17:54:34.370Z"
      },
      {
        "duration": 14,
        "start_time": "2023-08-21T17:54:34.389Z"
      },
      {
        "duration": 240,
        "start_time": "2023-08-21T17:54:34.406Z"
      },
      {
        "duration": 8,
        "start_time": "2023-08-21T17:54:34.648Z"
      },
      {
        "duration": 15,
        "start_time": "2023-08-21T17:54:34.658Z"
      },
      {
        "duration": 215,
        "start_time": "2023-08-21T17:54:34.676Z"
      },
      {
        "duration": 47,
        "start_time": "2023-08-21T17:54:34.893Z"
      },
      {
        "duration": 66,
        "start_time": "2023-08-21T17:54:34.942Z"
      },
      {
        "duration": 28,
        "start_time": "2023-08-21T17:54:35.010Z"
      },
      {
        "duration": 268,
        "start_time": "2023-08-21T17:54:35.040Z"
      },
      {
        "duration": 226,
        "start_time": "2023-08-21T17:54:35.310Z"
      },
      {
        "duration": 254,
        "start_time": "2023-08-21T17:54:35.538Z"
      },
      {
        "duration": 315,
        "start_time": "2023-08-21T17:54:35.796Z"
      },
      {
        "duration": 24,
        "start_time": "2023-08-21T17:54:36.113Z"
      },
      {
        "duration": 31,
        "start_time": "2023-08-21T17:54:36.139Z"
      },
      {
        "duration": 24,
        "start_time": "2023-08-21T17:54:36.172Z"
      },
      {
        "duration": 213,
        "start_time": "2023-08-21T17:54:36.199Z"
      },
      {
        "duration": 7,
        "start_time": "2023-08-21T17:54:36.414Z"
      },
      {
        "duration": 6,
        "start_time": "2023-08-21T17:54:36.423Z"
      },
      {
        "duration": 38,
        "start_time": "2023-08-21T17:54:36.431Z"
      },
      {
        "duration": 1299,
        "start_time": "2023-08-22T06:01:37.727Z"
      },
      {
        "duration": 190,
        "start_time": "2023-08-22T06:01:40.168Z"
      },
      {
        "duration": 13,
        "start_time": "2023-08-22T06:01:43.046Z"
      },
      {
        "duration": 9,
        "start_time": "2023-08-22T06:01:43.674Z"
      },
      {
        "duration": 7,
        "start_time": "2023-08-22T06:01:44.269Z"
      },
      {
        "duration": 13,
        "start_time": "2023-08-22T06:01:47.973Z"
      },
      {
        "duration": 7,
        "start_time": "2023-08-22T06:01:49.647Z"
      },
      {
        "duration": 8,
        "start_time": "2023-08-22T06:01:50.247Z"
      },
      {
        "duration": 6,
        "start_time": "2023-08-22T06:01:53.632Z"
      },
      {
        "duration": 5,
        "start_time": "2023-08-22T06:01:54.356Z"
      },
      {
        "duration": 16,
        "start_time": "2023-08-22T06:01:56.063Z"
      },
      {
        "duration": 10,
        "start_time": "2023-08-22T06:01:56.829Z"
      },
      {
        "duration": 7,
        "start_time": "2023-08-22T06:02:00.752Z"
      },
      {
        "duration": 11,
        "start_time": "2023-08-22T06:02:01.787Z"
      },
      {
        "duration": 6,
        "start_time": "2023-08-22T06:02:04.213Z"
      },
      {
        "duration": 5,
        "start_time": "2023-08-22T06:02:05.626Z"
      },
      {
        "duration": 7,
        "start_time": "2023-08-22T06:02:08.032Z"
      },
      {
        "duration": 13,
        "start_time": "2023-08-22T06:02:08.834Z"
      },
      {
        "duration": 11,
        "start_time": "2023-08-22T06:02:10.279Z"
      },
      {
        "duration": 6,
        "start_time": "2023-08-22T06:02:10.942Z"
      },
      {
        "duration": 7,
        "start_time": "2023-08-22T06:02:11.584Z"
      },
      {
        "duration": 7,
        "start_time": "2023-08-22T06:02:52.556Z"
      },
      {
        "duration": 159,
        "start_time": "2023-08-22T06:02:53.802Z"
      },
      {
        "duration": 7,
        "start_time": "2023-08-22T06:02:59.518Z"
      },
      {
        "duration": 133,
        "start_time": "2023-08-22T06:03:00.177Z"
      },
      {
        "duration": 104,
        "start_time": "2023-08-22T06:03:15.608Z"
      },
      {
        "duration": 5,
        "start_time": "2023-08-22T06:03:21.931Z"
      },
      {
        "duration": 159,
        "start_time": "2023-08-22T06:03:22.897Z"
      },
      {
        "duration": 7,
        "start_time": "2023-08-22T06:03:29.051Z"
      },
      {
        "duration": 7,
        "start_time": "2023-08-22T06:03:31.388Z"
      },
      {
        "duration": 199,
        "start_time": "2023-08-22T06:03:32.337Z"
      },
      {
        "duration": 8,
        "start_time": "2023-08-22T06:03:37.499Z"
      },
      {
        "duration": 7,
        "start_time": "2023-08-22T06:03:38.072Z"
      },
      {
        "duration": 150,
        "start_time": "2023-08-22T06:03:38.760Z"
      },
      {
        "duration": 101,
        "start_time": "2023-08-22T06:05:25.423Z"
      },
      {
        "duration": 12,
        "start_time": "2023-08-22T06:05:42.077Z"
      },
      {
        "duration": 9,
        "start_time": "2023-08-22T06:05:54.718Z"
      },
      {
        "duration": 10,
        "start_time": "2023-08-22T06:06:48.682Z"
      },
      {
        "duration": 13,
        "start_time": "2023-08-22T06:07:30.362Z"
      },
      {
        "duration": 154,
        "start_time": "2023-08-22T06:09:39.337Z"
      },
      {
        "duration": 240,
        "start_time": "2023-08-22T06:09:46.178Z"
      },
      {
        "duration": 148,
        "start_time": "2023-08-22T06:10:55.446Z"
      },
      {
        "duration": 201,
        "start_time": "2023-08-22T06:11:04.497Z"
      },
      {
        "duration": 21,
        "start_time": "2023-08-22T06:11:14.318Z"
      },
      {
        "duration": 90,
        "start_time": "2023-08-22T06:11:20.490Z"
      },
      {
        "duration": 90,
        "start_time": "2023-08-22T06:11:30.552Z"
      },
      {
        "duration": 77,
        "start_time": "2023-08-22T06:11:35.737Z"
      },
      {
        "duration": 141,
        "start_time": "2023-08-22T06:11:43.246Z"
      },
      {
        "duration": 164,
        "start_time": "2023-08-22T06:15:44.894Z"
      },
      {
        "duration": 198,
        "start_time": "2023-08-22T06:16:26.519Z"
      },
      {
        "duration": 157,
        "start_time": "2023-08-22T06:16:49.321Z"
      },
      {
        "duration": 121,
        "start_time": "2023-08-22T06:17:18.396Z"
      },
      {
        "duration": 130,
        "start_time": "2023-08-22T06:17:43.551Z"
      },
      {
        "duration": 147,
        "start_time": "2023-08-22T06:18:31.040Z"
      },
      {
        "duration": 141,
        "start_time": "2023-08-22T06:18:43.668Z"
      },
      {
        "duration": 129,
        "start_time": "2023-08-22T06:18:48.565Z"
      },
      {
        "duration": 216,
        "start_time": "2023-08-22T06:20:42.646Z"
      },
      {
        "duration": 132,
        "start_time": "2023-08-22T06:21:20.715Z"
      },
      {
        "duration": 141,
        "start_time": "2023-08-22T06:21:59.985Z"
      },
      {
        "duration": 136,
        "start_time": "2023-08-22T06:22:10.797Z"
      },
      {
        "duration": 151,
        "start_time": "2023-08-22T06:22:31.749Z"
      },
      {
        "duration": 145,
        "start_time": "2023-08-22T06:22:46.806Z"
      },
      {
        "duration": 4,
        "start_time": "2023-08-22T06:24:58.394Z"
      },
      {
        "duration": 5,
        "start_time": "2023-08-22T06:25:34.982Z"
      },
      {
        "duration": 145,
        "start_time": "2023-08-22T06:26:16.368Z"
      },
      {
        "duration": 194,
        "start_time": "2023-08-22T06:28:19.682Z"
      },
      {
        "duration": 4,
        "start_time": "2023-08-22T06:28:46.576Z"
      },
      {
        "duration": 5,
        "start_time": "2023-08-22T06:30:52.745Z"
      },
      {
        "duration": 5,
        "start_time": "2023-08-22T06:31:22.074Z"
      },
      {
        "duration": 38,
        "start_time": "2023-08-22T06:31:27.076Z"
      },
      {
        "duration": 3,
        "start_time": "2023-08-22T06:32:15.469Z"
      },
      {
        "duration": 4,
        "start_time": "2023-08-22T06:32:49.523Z"
      },
      {
        "duration": 22,
        "start_time": "2023-08-22T06:32:50.741Z"
      },
      {
        "duration": 18,
        "start_time": "2023-08-22T06:32:52.057Z"
      },
      {
        "duration": 205,
        "start_time": "2023-08-22T06:32:54.745Z"
      },
      {
        "duration": 26,
        "start_time": "2023-08-22T06:37:41.681Z"
      },
      {
        "duration": 9,
        "start_time": "2023-08-22T06:40:27.043Z"
      },
      {
        "duration": 91,
        "start_time": "2023-08-22T06:40:55.631Z"
      },
      {
        "duration": 29,
        "start_time": "2023-08-22T06:43:10.617Z"
      },
      {
        "duration": 17,
        "start_time": "2023-08-22T06:44:34.368Z"
      },
      {
        "duration": 16,
        "start_time": "2023-08-22T06:44:35.073Z"
      },
      {
        "duration": 200,
        "start_time": "2023-08-22T06:44:36.433Z"
      },
      {
        "duration": 7,
        "start_time": "2023-08-22T06:44:40.850Z"
      },
      {
        "duration": 6,
        "start_time": "2023-08-22T06:44:46.425Z"
      },
      {
        "duration": 6,
        "start_time": "2023-08-22T06:45:09.027Z"
      },
      {
        "duration": 9,
        "start_time": "2023-08-22T06:45:54.326Z"
      },
      {
        "duration": 1186,
        "start_time": "2023-08-22T14:41:51.240Z"
      },
      {
        "duration": 193,
        "start_time": "2023-08-22T14:41:52.427Z"
      },
      {
        "duration": 15,
        "start_time": "2023-08-22T14:41:52.621Z"
      },
      {
        "duration": 22,
        "start_time": "2023-08-22T14:41:52.638Z"
      },
      {
        "duration": 32,
        "start_time": "2023-08-22T14:41:52.662Z"
      },
      {
        "duration": 30,
        "start_time": "2023-08-22T14:41:52.696Z"
      },
      {
        "duration": 27,
        "start_time": "2023-08-22T14:41:52.728Z"
      },
      {
        "duration": 18,
        "start_time": "2023-08-22T14:41:52.757Z"
      },
      {
        "duration": 11,
        "start_time": "2023-08-22T14:41:52.777Z"
      },
      {
        "duration": 25,
        "start_time": "2023-08-22T14:41:52.790Z"
      },
      {
        "duration": 45,
        "start_time": "2023-08-22T14:41:52.816Z"
      },
      {
        "duration": 46,
        "start_time": "2023-08-22T14:41:52.863Z"
      },
      {
        "duration": 25,
        "start_time": "2023-08-22T14:41:52.911Z"
      },
      {
        "duration": 21,
        "start_time": "2023-08-22T14:41:52.937Z"
      },
      {
        "duration": 24,
        "start_time": "2023-08-22T14:41:52.959Z"
      },
      {
        "duration": 24,
        "start_time": "2023-08-22T14:41:52.985Z"
      },
      {
        "duration": 11,
        "start_time": "2023-08-22T14:41:53.011Z"
      },
      {
        "duration": 40,
        "start_time": "2023-08-22T14:41:53.024Z"
      },
      {
        "duration": 29,
        "start_time": "2023-08-22T14:41:53.065Z"
      },
      {
        "duration": 17,
        "start_time": "2023-08-22T14:41:53.096Z"
      },
      {
        "duration": 22,
        "start_time": "2023-08-22T14:41:53.115Z"
      },
      {
        "duration": 23,
        "start_time": "2023-08-22T14:41:53.138Z"
      },
      {
        "duration": 291,
        "start_time": "2023-08-22T14:41:53.162Z"
      },
      {
        "duration": 5,
        "start_time": "2023-08-22T14:41:53.454Z"
      },
      {
        "duration": 116,
        "start_time": "2023-08-22T14:41:53.461Z"
      },
      {
        "duration": 73,
        "start_time": "2023-08-22T14:41:53.579Z"
      },
      {
        "duration": 411,
        "start_time": "2023-08-22T14:41:53.654Z"
      },
      {
        "duration": 7,
        "start_time": "2023-08-22T14:41:54.068Z"
      },
      {
        "duration": 48,
        "start_time": "2023-08-22T14:41:54.077Z"
      },
      {
        "duration": 310,
        "start_time": "2023-08-22T14:41:54.126Z"
      },
      {
        "duration": 258,
        "start_time": "2023-08-22T14:41:54.437Z"
      },
      {
        "duration": 6,
        "start_time": "2023-08-22T14:41:54.697Z"
      },
      {
        "duration": 39,
        "start_time": "2023-08-22T14:41:54.704Z"
      },
      {
        "duration": 282,
        "start_time": "2023-08-22T14:41:54.745Z"
      },
      {
        "duration": 283,
        "start_time": "2023-08-22T14:41:55.028Z"
      },
      {
        "duration": 4,
        "start_time": "2023-08-22T14:41:55.312Z"
      },
      {
        "duration": 55,
        "start_time": "2023-08-22T14:41:55.318Z"
      },
      {
        "duration": 16,
        "start_time": "2023-08-22T14:41:55.375Z"
      },
      {
        "duration": 25,
        "start_time": "2023-08-22T14:41:55.392Z"
      },
      {
        "duration": 16,
        "start_time": "2023-08-22T14:41:55.418Z"
      },
      {
        "duration": 305,
        "start_time": "2023-08-22T14:41:55.435Z"
      },
      {
        "duration": 393,
        "start_time": "2023-08-22T14:41:55.742Z"
      },
      {
        "duration": 339,
        "start_time": "2023-08-22T14:41:56.137Z"
      },
      {
        "duration": 282,
        "start_time": "2023-08-22T14:41:56.478Z"
      },
      {
        "duration": 7,
        "start_time": "2023-08-22T14:41:56.762Z"
      },
      {
        "duration": 29,
        "start_time": "2023-08-22T14:41:56.771Z"
      },
      {
        "duration": 16,
        "start_time": "2023-08-22T14:41:56.801Z"
      },
      {
        "duration": 30,
        "start_time": "2023-08-22T14:41:56.819Z"
      },
      {
        "duration": 243,
        "start_time": "2023-08-22T14:41:56.850Z"
      },
      {
        "duration": 7,
        "start_time": "2023-08-22T14:41:57.095Z"
      },
      {
        "duration": 40,
        "start_time": "2023-08-22T14:41:57.104Z"
      },
      {
        "duration": 47,
        "start_time": "2023-08-22T14:41:57.146Z"
      },
      {
        "duration": 1436,
        "start_time": "2023-08-22T15:18:09.632Z"
      },
      {
        "duration": 230,
        "start_time": "2023-08-22T15:18:11.392Z"
      },
      {
        "duration": 12,
        "start_time": "2023-08-22T15:18:12.297Z"
      },
      {
        "duration": 9,
        "start_time": "2023-08-22T15:18:12.747Z"
      },
      {
        "duration": 7,
        "start_time": "2023-08-22T15:18:13.203Z"
      },
      {
        "duration": 15,
        "start_time": "2023-08-22T15:18:15.439Z"
      },
      {
        "duration": 8,
        "start_time": "2023-08-22T15:18:15.840Z"
      },
      {
        "duration": 8,
        "start_time": "2023-08-22T15:18:16.267Z"
      },
      {
        "duration": 6,
        "start_time": "2023-08-22T15:18:17.082Z"
      },
      {
        "duration": 6,
        "start_time": "2023-08-22T15:18:17.545Z"
      },
      {
        "duration": 15,
        "start_time": "2023-08-22T15:18:18.382Z"
      },
      {
        "duration": 10,
        "start_time": "2023-08-22T15:18:18.860Z"
      },
      {
        "duration": 7,
        "start_time": "2023-08-22T15:18:19.295Z"
      },
      {
        "duration": 9,
        "start_time": "2023-08-22T15:18:19.771Z"
      },
      {
        "duration": 7,
        "start_time": "2023-08-22T15:18:20.739Z"
      },
      {
        "duration": 6,
        "start_time": "2023-08-22T15:18:21.165Z"
      },
      {
        "duration": 7,
        "start_time": "2023-08-22T15:18:22.900Z"
      },
      {
        "duration": 12,
        "start_time": "2023-08-22T15:18:23.358Z"
      },
      {
        "duration": 10,
        "start_time": "2023-08-22T15:18:24.272Z"
      },
      {
        "duration": 6,
        "start_time": "2023-08-22T15:18:24.744Z"
      },
      {
        "duration": 6,
        "start_time": "2023-08-22T15:18:25.169Z"
      },
      {
        "duration": 6,
        "start_time": "2023-08-22T15:18:27.436Z"
      },
      {
        "duration": 172,
        "start_time": "2023-08-22T15:18:27.889Z"
      },
      {
        "duration": 7,
        "start_time": "2023-08-22T15:18:29.730Z"
      },
      {
        "duration": 102,
        "start_time": "2023-08-22T15:18:30.184Z"
      },
      {
        "duration": 6,
        "start_time": "2023-08-22T15:18:32.642Z"
      },
      {
        "duration": 175,
        "start_time": "2023-08-22T15:18:33.099Z"
      },
      {
        "duration": 8,
        "start_time": "2023-08-22T15:18:35.433Z"
      },
      {
        "duration": 8,
        "start_time": "2023-08-22T15:18:35.852Z"
      },
      {
        "duration": 164,
        "start_time": "2023-08-22T15:18:36.294Z"
      },
      {
        "duration": 151,
        "start_time": "2023-08-22T15:18:36.735Z"
      },
      {
        "duration": 7,
        "start_time": "2023-08-22T15:18:38.970Z"
      },
      {
        "duration": 9,
        "start_time": "2023-08-22T15:18:39.729Z"
      },
      {
        "duration": 163,
        "start_time": "2023-08-22T15:18:40.204Z"
      },
      {
        "duration": 150,
        "start_time": "2023-08-22T15:18:40.681Z"
      },
      {
        "duration": 5,
        "start_time": "2023-08-22T15:18:44.693Z"
      },
      {
        "duration": 30,
        "start_time": "2023-08-22T15:18:45.207Z"
      },
      {
        "duration": 5,
        "start_time": "2023-08-22T15:18:45.673Z"
      },
      {
        "duration": 42,
        "start_time": "2023-08-22T15:18:48.448Z"
      },
      {
        "duration": 19,
        "start_time": "2023-08-22T15:18:49.489Z"
      },
      {
        "duration": 215,
        "start_time": "2023-08-22T15:18:51.496Z"
      },
      {
        "duration": 267,
        "start_time": "2023-08-22T15:18:53.146Z"
      },
      {
        "duration": 236,
        "start_time": "2023-08-22T15:18:54.742Z"
      },
      {
        "duration": 216,
        "start_time": "2023-08-22T15:18:55.768Z"
      },
      {
        "duration": 12,
        "start_time": "2023-08-22T15:19:01.916Z"
      },
      {
        "duration": 4,
        "start_time": "2023-08-22T15:19:19.075Z"
      },
      {
        "duration": 24,
        "start_time": "2023-08-22T15:19:20.760Z"
      },
      {
        "duration": 21,
        "start_time": "2023-08-22T15:19:27.751Z"
      },
      {
        "duration": 19,
        "start_time": "2023-08-22T15:19:28.154Z"
      },
      {
        "duration": 179,
        "start_time": "2023-08-22T15:19:29.127Z"
      },
      {
        "duration": 8,
        "start_time": "2023-08-22T15:19:32.467Z"
      },
      {
        "duration": 7,
        "start_time": "2023-08-22T15:19:34.894Z"
      },
      {
        "duration": 10,
        "start_time": "2023-08-22T15:19:37.335Z"
      }
    ],
    "kernelspec": {
      "display_name": "Python 3 (ipykernel)",
      "language": "python",
      "name": "python3"
    },
    "language_info": {
      "codemirror_mode": {
        "name": "ipython",
        "version": 3
      },
      "file_extension": ".py",
      "mimetype": "text/x-python",
      "name": "python",
      "nbconvert_exporter": "python",
      "pygments_lexer": "ipython3",
      "version": "3.9.5"
    },
    "toc": {
      "base_numbering": 1,
      "nav_menu": {},
      "number_sections": true,
      "sideBar": true,
      "skip_h1_title": true,
      "title_cell": "Table of Contents",
      "title_sidebar": "Contents",
      "toc_cell": false,
      "toc_position": {},
      "toc_section_display": true,
      "toc_window_display": true
    },
    "colab": {
      "provenance": []
    }
  },
  "nbformat": 4,
  "nbformat_minor": 5
}