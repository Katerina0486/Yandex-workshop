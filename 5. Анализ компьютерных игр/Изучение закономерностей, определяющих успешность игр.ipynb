{
 "cells": [
  {
   "cell_type": "markdown",
   "metadata": {},
   "source": [
    "# Анализ интернет-магазине «Стримчик», который продаёт по всему миру компьютерные игры.\n",
    "\n",
    "Вы работаете в интернет-магазине «Стримчик», который продаёт по всему миру компьютерные игры. Из открытых источников доступны исторические данные о продажах игр, оценки пользователей и экспертов, жанры и платформы (например, Xbox или PlayStation). Вам нужно выявить определяющие успешность игры закономерности. Это позволит сделать ставку на потенциально популярный продукт и спланировать рекламные кампании.\n",
    "\n",
    "Описание данных:\n",
    "\n",
    "Name — название игры\n",
    "\n",
    "Platform — платформа\n",
    "\n",
    "Year_of_Release — год выпуска\n",
    "\n",
    "Genre — жанр игры\n",
    "\n",
    "NA_sales — продажи в Северной Америке (миллионы проданных копий)\n",
    "\n",
    "EU_sales — продажи в Европе (миллионы проданных копий)\n",
    "\n",
    "JP_sales — продажи в Японии (миллионы проданных копий)\n",
    "\n",
    "Other_sales — продажи в других странах (миллионы проданных копий)\n",
    "\n",
    "Critic_Score — оценка критиков (максимум 100)\n",
    "\n",
    "User_Score — оценка пользователей (максимум 10)\n",
    "\n",
    "Rating — рейтинг от организации ESRB (англ. Entertainment Software Rating Board). Эта ассоциация определяет рейтинг \n",
    "\n",
    "компьютерных игр и присваивает им подходящую возрастную категорию."
   ]
  },
  {
   "cell_type": "markdown",
   "metadata": {},
   "source": [
    "## Цель иследования \n",
    "\n",
    "1) Исследовательский анализ данных:\n",
    "\n",
    "- Посмотрим, сколько игр выпускалось в разные годы.\n",
    "\n",
    "- Посмотрим, как менялись продажи по платформам. \n",
    "\n",
    "- Возьмем данные за соответствующий актуальный период. Основной фактор — эти данные помогут построить прогноз на 2017 год.\n",
    "\n",
    "- Какие платформы лидируют по продажам, растут или падают.\n",
    "\n",
    "- Построим график по глобальным продажам игр в разбивке по платформам. Опишите результат.\n",
    "\n",
    "- Посмотрим, как влияют на продажи внутри одной популярной платформы отзывы пользователей и критиков.\n",
    "\n",
    "- Соотнесем выводы с продажами игр на других платформах.\n",
    "\n",
    "- Посмотрим на общее распределение игр по жанрам.\n",
    "\n",
    "2) Проверьте гипотезы:\n",
    "\n",
    "- Средние пользовательские рейтинги платформ Xbox One и PC одинаковые;\n",
    "\n",
    "- Средние пользовательские рейтинги жанров Action (англ. «действие», экшен-игры) и Sports (англ. «спортивные соревнования») разные."
   ]
  },
  {
   "cell_type": "markdown",
   "metadata": {},
   "source": [
    "## Ход иследования \n",
    "\n",
    "Данные о интернет-магазине я получу из файла /datasets/games.csv. О качестве данных нам ничего не известно. Поэтому перед тем, как переходить к целям иследования, понадобится обзор данных.\n",
    "\n",
    "Таким образом моё иследование пройдет в нескольких этапах:\n",
    "- обзор данных\n",
    "- предобработка данных\n",
    "- расчеты и добавление результатов в таблицу\n",
    "- проведение анлиза \n",
    "- составленя портрет пользователя каждого региона\n",
    "- проверка гипотез\n",
    "- общий вывод"
   ]
  },
  {
   "cell_type": "markdown",
   "metadata": {},
   "source": [
    " Откроем файл с данными и изучим общую информацию."
   ]
  },
  {
   "cell_type": "code",
   "execution_count": 1,
   "metadata": {},
   "outputs": [],
   "source": [
    "import pandas as pd\n",
    "import matplotlib.pyplot as plt\n",
    "import numpy as np\n",
    "import seaborn as sns\n",
    "from scipy import stats as st"
   ]
  },
  {
   "cell_type": "markdown",
   "metadata": {},
   "source": [
    "##  Загрузка данных"
   ]
  },
  {
   "cell_type": "code",
   "execution_count": 2,
   "metadata": {},
   "outputs": [],
   "source": [
    "data = pd.read_csv('/datasets/games.csv')"
   ]
  },
  {
   "cell_type": "markdown",
   "metadata": {},
   "source": [
    "Изучим общую информацию"
   ]
  },
  {
   "cell_type": "code",
   "execution_count": 3,
   "metadata": {},
   "outputs": [
    {
     "data": {
      "text/html": [
       "<div>\n",
       "<style scoped>\n",
       "    .dataframe tbody tr th:only-of-type {\n",
       "        vertical-align: middle;\n",
       "    }\n",
       "\n",
       "    .dataframe tbody tr th {\n",
       "        vertical-align: top;\n",
       "    }\n",
       "\n",
       "    .dataframe thead th {\n",
       "        text-align: right;\n",
       "    }\n",
       "</style>\n",
       "<table border=\"1\" class=\"dataframe\">\n",
       "  <thead>\n",
       "    <tr style=\"text-align: right;\">\n",
       "      <th></th>\n",
       "      <th>Name</th>\n",
       "      <th>Platform</th>\n",
       "      <th>Year_of_Release</th>\n",
       "      <th>Genre</th>\n",
       "      <th>NA_sales</th>\n",
       "      <th>EU_sales</th>\n",
       "      <th>JP_sales</th>\n",
       "      <th>Other_sales</th>\n",
       "      <th>Critic_Score</th>\n",
       "      <th>User_Score</th>\n",
       "      <th>Rating</th>\n",
       "    </tr>\n",
       "  </thead>\n",
       "  <tbody>\n",
       "    <tr>\n",
       "      <th>0</th>\n",
       "      <td>Wii Sports</td>\n",
       "      <td>Wii</td>\n",
       "      <td>2006.0</td>\n",
       "      <td>Sports</td>\n",
       "      <td>41.36</td>\n",
       "      <td>28.96</td>\n",
       "      <td>3.77</td>\n",
       "      <td>8.45</td>\n",
       "      <td>76.0</td>\n",
       "      <td>8</td>\n",
       "      <td>E</td>\n",
       "    </tr>\n",
       "    <tr>\n",
       "      <th>1</th>\n",
       "      <td>Super Mario Bros.</td>\n",
       "      <td>NES</td>\n",
       "      <td>1985.0</td>\n",
       "      <td>Platform</td>\n",
       "      <td>29.08</td>\n",
       "      <td>3.58</td>\n",
       "      <td>6.81</td>\n",
       "      <td>0.77</td>\n",
       "      <td>NaN</td>\n",
       "      <td>NaN</td>\n",
       "      <td>NaN</td>\n",
       "    </tr>\n",
       "    <tr>\n",
       "      <th>2</th>\n",
       "      <td>Mario Kart Wii</td>\n",
       "      <td>Wii</td>\n",
       "      <td>2008.0</td>\n",
       "      <td>Racing</td>\n",
       "      <td>15.68</td>\n",
       "      <td>12.76</td>\n",
       "      <td>3.79</td>\n",
       "      <td>3.29</td>\n",
       "      <td>82.0</td>\n",
       "      <td>8.3</td>\n",
       "      <td>E</td>\n",
       "    </tr>\n",
       "    <tr>\n",
       "      <th>3</th>\n",
       "      <td>Wii Sports Resort</td>\n",
       "      <td>Wii</td>\n",
       "      <td>2009.0</td>\n",
       "      <td>Sports</td>\n",
       "      <td>15.61</td>\n",
       "      <td>10.93</td>\n",
       "      <td>3.28</td>\n",
       "      <td>2.95</td>\n",
       "      <td>80.0</td>\n",
       "      <td>8</td>\n",
       "      <td>E</td>\n",
       "    </tr>\n",
       "    <tr>\n",
       "      <th>4</th>\n",
       "      <td>Pokemon Red/Pokemon Blue</td>\n",
       "      <td>GB</td>\n",
       "      <td>1996.0</td>\n",
       "      <td>Role-Playing</td>\n",
       "      <td>11.27</td>\n",
       "      <td>8.89</td>\n",
       "      <td>10.22</td>\n",
       "      <td>1.00</td>\n",
       "      <td>NaN</td>\n",
       "      <td>NaN</td>\n",
       "      <td>NaN</td>\n",
       "    </tr>\n",
       "    <tr>\n",
       "      <th>5</th>\n",
       "      <td>Tetris</td>\n",
       "      <td>GB</td>\n",
       "      <td>1989.0</td>\n",
       "      <td>Puzzle</td>\n",
       "      <td>23.20</td>\n",
       "      <td>2.26</td>\n",
       "      <td>4.22</td>\n",
       "      <td>0.58</td>\n",
       "      <td>NaN</td>\n",
       "      <td>NaN</td>\n",
       "      <td>NaN</td>\n",
       "    </tr>\n",
       "    <tr>\n",
       "      <th>6</th>\n",
       "      <td>New Super Mario Bros.</td>\n",
       "      <td>DS</td>\n",
       "      <td>2006.0</td>\n",
       "      <td>Platform</td>\n",
       "      <td>11.28</td>\n",
       "      <td>9.14</td>\n",
       "      <td>6.50</td>\n",
       "      <td>2.88</td>\n",
       "      <td>89.0</td>\n",
       "      <td>8.5</td>\n",
       "      <td>E</td>\n",
       "    </tr>\n",
       "    <tr>\n",
       "      <th>7</th>\n",
       "      <td>Wii Play</td>\n",
       "      <td>Wii</td>\n",
       "      <td>2006.0</td>\n",
       "      <td>Misc</td>\n",
       "      <td>13.96</td>\n",
       "      <td>9.18</td>\n",
       "      <td>2.93</td>\n",
       "      <td>2.84</td>\n",
       "      <td>58.0</td>\n",
       "      <td>6.6</td>\n",
       "      <td>E</td>\n",
       "    </tr>\n",
       "    <tr>\n",
       "      <th>8</th>\n",
       "      <td>New Super Mario Bros. Wii</td>\n",
       "      <td>Wii</td>\n",
       "      <td>2009.0</td>\n",
       "      <td>Platform</td>\n",
       "      <td>14.44</td>\n",
       "      <td>6.94</td>\n",
       "      <td>4.70</td>\n",
       "      <td>2.24</td>\n",
       "      <td>87.0</td>\n",
       "      <td>8.4</td>\n",
       "      <td>E</td>\n",
       "    </tr>\n",
       "    <tr>\n",
       "      <th>9</th>\n",
       "      <td>Duck Hunt</td>\n",
       "      <td>NES</td>\n",
       "      <td>1984.0</td>\n",
       "      <td>Shooter</td>\n",
       "      <td>26.93</td>\n",
       "      <td>0.63</td>\n",
       "      <td>0.28</td>\n",
       "      <td>0.47</td>\n",
       "      <td>NaN</td>\n",
       "      <td>NaN</td>\n",
       "      <td>NaN</td>\n",
       "    </tr>\n",
       "    <tr>\n",
       "      <th>10</th>\n",
       "      <td>Nintendogs</td>\n",
       "      <td>DS</td>\n",
       "      <td>2005.0</td>\n",
       "      <td>Simulation</td>\n",
       "      <td>9.05</td>\n",
       "      <td>10.95</td>\n",
       "      <td>1.93</td>\n",
       "      <td>2.74</td>\n",
       "      <td>NaN</td>\n",
       "      <td>NaN</td>\n",
       "      <td>NaN</td>\n",
       "    </tr>\n",
       "    <tr>\n",
       "      <th>11</th>\n",
       "      <td>Mario Kart DS</td>\n",
       "      <td>DS</td>\n",
       "      <td>2005.0</td>\n",
       "      <td>Racing</td>\n",
       "      <td>9.71</td>\n",
       "      <td>7.47</td>\n",
       "      <td>4.13</td>\n",
       "      <td>1.90</td>\n",
       "      <td>91.0</td>\n",
       "      <td>8.6</td>\n",
       "      <td>E</td>\n",
       "    </tr>\n",
       "    <tr>\n",
       "      <th>12</th>\n",
       "      <td>Pokemon Gold/Pokemon Silver</td>\n",
       "      <td>GB</td>\n",
       "      <td>1999.0</td>\n",
       "      <td>Role-Playing</td>\n",
       "      <td>9.00</td>\n",
       "      <td>6.18</td>\n",
       "      <td>7.20</td>\n",
       "      <td>0.71</td>\n",
       "      <td>NaN</td>\n",
       "      <td>NaN</td>\n",
       "      <td>NaN</td>\n",
       "    </tr>\n",
       "    <tr>\n",
       "      <th>13</th>\n",
       "      <td>Wii Fit</td>\n",
       "      <td>Wii</td>\n",
       "      <td>2007.0</td>\n",
       "      <td>Sports</td>\n",
       "      <td>8.92</td>\n",
       "      <td>8.03</td>\n",
       "      <td>3.60</td>\n",
       "      <td>2.15</td>\n",
       "      <td>80.0</td>\n",
       "      <td>7.7</td>\n",
       "      <td>E</td>\n",
       "    </tr>\n",
       "    <tr>\n",
       "      <th>14</th>\n",
       "      <td>Kinect Adventures!</td>\n",
       "      <td>X360</td>\n",
       "      <td>2010.0</td>\n",
       "      <td>Misc</td>\n",
       "      <td>15.00</td>\n",
       "      <td>4.89</td>\n",
       "      <td>0.24</td>\n",
       "      <td>1.69</td>\n",
       "      <td>61.0</td>\n",
       "      <td>6.3</td>\n",
       "      <td>E</td>\n",
       "    </tr>\n",
       "    <tr>\n",
       "      <th>15</th>\n",
       "      <td>Wii Fit Plus</td>\n",
       "      <td>Wii</td>\n",
       "      <td>2009.0</td>\n",
       "      <td>Sports</td>\n",
       "      <td>9.01</td>\n",
       "      <td>8.49</td>\n",
       "      <td>2.53</td>\n",
       "      <td>1.77</td>\n",
       "      <td>80.0</td>\n",
       "      <td>7.4</td>\n",
       "      <td>E</td>\n",
       "    </tr>\n",
       "    <tr>\n",
       "      <th>16</th>\n",
       "      <td>Grand Theft Auto V</td>\n",
       "      <td>PS3</td>\n",
       "      <td>2013.0</td>\n",
       "      <td>Action</td>\n",
       "      <td>7.02</td>\n",
       "      <td>9.09</td>\n",
       "      <td>0.98</td>\n",
       "      <td>3.96</td>\n",
       "      <td>97.0</td>\n",
       "      <td>8.2</td>\n",
       "      <td>M</td>\n",
       "    </tr>\n",
       "    <tr>\n",
       "      <th>17</th>\n",
       "      <td>Grand Theft Auto: San Andreas</td>\n",
       "      <td>PS2</td>\n",
       "      <td>2004.0</td>\n",
       "      <td>Action</td>\n",
       "      <td>9.43</td>\n",
       "      <td>0.40</td>\n",
       "      <td>0.41</td>\n",
       "      <td>10.57</td>\n",
       "      <td>95.0</td>\n",
       "      <td>9</td>\n",
       "      <td>M</td>\n",
       "    </tr>\n",
       "    <tr>\n",
       "      <th>18</th>\n",
       "      <td>Super Mario World</td>\n",
       "      <td>SNES</td>\n",
       "      <td>1990.0</td>\n",
       "      <td>Platform</td>\n",
       "      <td>12.78</td>\n",
       "      <td>3.75</td>\n",
       "      <td>3.54</td>\n",
       "      <td>0.55</td>\n",
       "      <td>NaN</td>\n",
       "      <td>NaN</td>\n",
       "      <td>NaN</td>\n",
       "    </tr>\n",
       "    <tr>\n",
       "      <th>19</th>\n",
       "      <td>Brain Age: Train Your Brain in Minutes a Day</td>\n",
       "      <td>DS</td>\n",
       "      <td>2005.0</td>\n",
       "      <td>Misc</td>\n",
       "      <td>4.74</td>\n",
       "      <td>9.20</td>\n",
       "      <td>4.16</td>\n",
       "      <td>2.04</td>\n",
       "      <td>77.0</td>\n",
       "      <td>7.9</td>\n",
       "      <td>E</td>\n",
       "    </tr>\n",
       "  </tbody>\n",
       "</table>\n",
       "</div>"
      ],
      "text/plain": [
       "                                            Name Platform  Year_of_Release  \\\n",
       "0                                     Wii Sports      Wii           2006.0   \n",
       "1                              Super Mario Bros.      NES           1985.0   \n",
       "2                                 Mario Kart Wii      Wii           2008.0   \n",
       "3                              Wii Sports Resort      Wii           2009.0   \n",
       "4                       Pokemon Red/Pokemon Blue       GB           1996.0   \n",
       "5                                         Tetris       GB           1989.0   \n",
       "6                          New Super Mario Bros.       DS           2006.0   \n",
       "7                                       Wii Play      Wii           2006.0   \n",
       "8                      New Super Mario Bros. Wii      Wii           2009.0   \n",
       "9                                      Duck Hunt      NES           1984.0   \n",
       "10                                    Nintendogs       DS           2005.0   \n",
       "11                                 Mario Kart DS       DS           2005.0   \n",
       "12                   Pokemon Gold/Pokemon Silver       GB           1999.0   \n",
       "13                                       Wii Fit      Wii           2007.0   \n",
       "14                            Kinect Adventures!     X360           2010.0   \n",
       "15                                  Wii Fit Plus      Wii           2009.0   \n",
       "16                            Grand Theft Auto V      PS3           2013.0   \n",
       "17                 Grand Theft Auto: San Andreas      PS2           2004.0   \n",
       "18                             Super Mario World     SNES           1990.0   \n",
       "19  Brain Age: Train Your Brain in Minutes a Day       DS           2005.0   \n",
       "\n",
       "           Genre  NA_sales  EU_sales  JP_sales  Other_sales  Critic_Score  \\\n",
       "0         Sports     41.36     28.96      3.77         8.45          76.0   \n",
       "1       Platform     29.08      3.58      6.81         0.77           NaN   \n",
       "2         Racing     15.68     12.76      3.79         3.29          82.0   \n",
       "3         Sports     15.61     10.93      3.28         2.95          80.0   \n",
       "4   Role-Playing     11.27      8.89     10.22         1.00           NaN   \n",
       "5         Puzzle     23.20      2.26      4.22         0.58           NaN   \n",
       "6       Platform     11.28      9.14      6.50         2.88          89.0   \n",
       "7           Misc     13.96      9.18      2.93         2.84          58.0   \n",
       "8       Platform     14.44      6.94      4.70         2.24          87.0   \n",
       "9        Shooter     26.93      0.63      0.28         0.47           NaN   \n",
       "10    Simulation      9.05     10.95      1.93         2.74           NaN   \n",
       "11        Racing      9.71      7.47      4.13         1.90          91.0   \n",
       "12  Role-Playing      9.00      6.18      7.20         0.71           NaN   \n",
       "13        Sports      8.92      8.03      3.60         2.15          80.0   \n",
       "14          Misc     15.00      4.89      0.24         1.69          61.0   \n",
       "15        Sports      9.01      8.49      2.53         1.77          80.0   \n",
       "16        Action      7.02      9.09      0.98         3.96          97.0   \n",
       "17        Action      9.43      0.40      0.41        10.57          95.0   \n",
       "18      Platform     12.78      3.75      3.54         0.55           NaN   \n",
       "19          Misc      4.74      9.20      4.16         2.04          77.0   \n",
       "\n",
       "   User_Score Rating  \n",
       "0           8      E  \n",
       "1         NaN    NaN  \n",
       "2         8.3      E  \n",
       "3           8      E  \n",
       "4         NaN    NaN  \n",
       "5         NaN    NaN  \n",
       "6         8.5      E  \n",
       "7         6.6      E  \n",
       "8         8.4      E  \n",
       "9         NaN    NaN  \n",
       "10        NaN    NaN  \n",
       "11        8.6      E  \n",
       "12        NaN    NaN  \n",
       "13        7.7      E  \n",
       "14        6.3      E  \n",
       "15        7.4      E  \n",
       "16        8.2      M  \n",
       "17          9      M  \n",
       "18        NaN    NaN  \n",
       "19        7.9      E  "
      ]
     },
     "execution_count": 3,
     "metadata": {},
     "output_type": "execute_result"
    }
   ],
   "source": [
    "data.head(20)"
   ]
  },
  {
   "cell_type": "markdown",
   "metadata": {},
   "source": [
    "Чтобы познакомиться с данными подробнее, выведем информацию о количественных значениях в каждом столбце:"
   ]
  },
  {
   "cell_type": "code",
   "execution_count": 4,
   "metadata": {},
   "outputs": [
    {
     "data": {
      "text/html": [
       "<div>\n",
       "<style scoped>\n",
       "    .dataframe tbody tr th:only-of-type {\n",
       "        vertical-align: middle;\n",
       "    }\n",
       "\n",
       "    .dataframe tbody tr th {\n",
       "        vertical-align: top;\n",
       "    }\n",
       "\n",
       "    .dataframe thead th {\n",
       "        text-align: right;\n",
       "    }\n",
       "</style>\n",
       "<table border=\"1\" class=\"dataframe\">\n",
       "  <thead>\n",
       "    <tr style=\"text-align: right;\">\n",
       "      <th></th>\n",
       "      <th>Year_of_Release</th>\n",
       "      <th>NA_sales</th>\n",
       "      <th>EU_sales</th>\n",
       "      <th>JP_sales</th>\n",
       "      <th>Other_sales</th>\n",
       "      <th>Critic_Score</th>\n",
       "    </tr>\n",
       "  </thead>\n",
       "  <tbody>\n",
       "    <tr>\n",
       "      <th>count</th>\n",
       "      <td>16446.000000</td>\n",
       "      <td>16715.000000</td>\n",
       "      <td>16715.00000</td>\n",
       "      <td>16715.000000</td>\n",
       "      <td>16715.000000</td>\n",
       "      <td>8137.000000</td>\n",
       "    </tr>\n",
       "    <tr>\n",
       "      <th>mean</th>\n",
       "      <td>2006.484616</td>\n",
       "      <td>0.263377</td>\n",
       "      <td>0.14506</td>\n",
       "      <td>0.077617</td>\n",
       "      <td>0.047342</td>\n",
       "      <td>68.967679</td>\n",
       "    </tr>\n",
       "    <tr>\n",
       "      <th>min</th>\n",
       "      <td>1980.000000</td>\n",
       "      <td>0.000000</td>\n",
       "      <td>0.00000</td>\n",
       "      <td>0.000000</td>\n",
       "      <td>0.000000</td>\n",
       "      <td>13.000000</td>\n",
       "    </tr>\n",
       "    <tr>\n",
       "      <th>50%</th>\n",
       "      <td>2007.000000</td>\n",
       "      <td>0.080000</td>\n",
       "      <td>0.02000</td>\n",
       "      <td>0.000000</td>\n",
       "      <td>0.010000</td>\n",
       "      <td>71.000000</td>\n",
       "    </tr>\n",
       "    <tr>\n",
       "      <th>max</th>\n",
       "      <td>2016.000000</td>\n",
       "      <td>41.360000</td>\n",
       "      <td>28.96000</td>\n",
       "      <td>10.220000</td>\n",
       "      <td>10.570000</td>\n",
       "      <td>98.000000</td>\n",
       "    </tr>\n",
       "  </tbody>\n",
       "</table>\n",
       "</div>"
      ],
      "text/plain": [
       "       Year_of_Release      NA_sales     EU_sales      JP_sales   Other_sales  \\\n",
       "count     16446.000000  16715.000000  16715.00000  16715.000000  16715.000000   \n",
       "mean       2006.484616      0.263377      0.14506      0.077617      0.047342   \n",
       "min        1980.000000      0.000000      0.00000      0.000000      0.000000   \n",
       "50%        2007.000000      0.080000      0.02000      0.000000      0.010000   \n",
       "max        2016.000000     41.360000     28.96000     10.220000     10.570000   \n",
       "\n",
       "       Critic_Score  \n",
       "count   8137.000000  \n",
       "mean      68.967679  \n",
       "min       13.000000  \n",
       "50%       71.000000  \n",
       "max       98.000000  "
      ]
     },
     "execution_count": 4,
     "metadata": {},
     "output_type": "execute_result"
    }
   ],
   "source": [
    "data.describe().loc[['count','mean','min','50%','max']]"
   ]
  },
  {
   "cell_type": "code",
   "execution_count": 5,
   "metadata": {},
   "outputs": [
    {
     "name": "stdout",
     "output_type": "stream",
     "text": [
      "<class 'pandas.core.frame.DataFrame'>\n",
      "RangeIndex: 16715 entries, 0 to 16714\n",
      "Data columns (total 11 columns):\n",
      " #   Column           Non-Null Count  Dtype  \n",
      "---  ------           --------------  -----  \n",
      " 0   Name             16713 non-null  object \n",
      " 1   Platform         16715 non-null  object \n",
      " 2   Year_of_Release  16446 non-null  float64\n",
      " 3   Genre            16713 non-null  object \n",
      " 4   NA_sales         16715 non-null  float64\n",
      " 5   EU_sales         16715 non-null  float64\n",
      " 6   JP_sales         16715 non-null  float64\n",
      " 7   Other_sales      16715 non-null  float64\n",
      " 8   Critic_Score     8137 non-null   float64\n",
      " 9   User_Score       10014 non-null  object \n",
      " 10  Rating           9949 non-null   object \n",
      "dtypes: float64(6), object(5)\n",
      "memory usage: 1.4+ MB\n"
     ]
    }
   ],
   "source": [
    "data.info()"
   ]
  },
  {
   "cell_type": "markdown",
   "metadata": {},
   "source": [
    "Просмотрели исходные данные, изучим их глубже что-бы увидеть полную иноформацию в данных, найти и исправить по возможности ошибки.\n",
    "В таблице даны 11 столбцов и 16715 строк, содержащие исторические данные о продажах игр, информацию об оценках пользователей и экспертов, жанрах и платформах.\n",
    "\n",
    "Данные представлены типами float и object. На этапе предобработки данных необходимо будет произвести замену типов в следующих столбцах:\n",
    "\n",
    "- Year_of_Release (год выпуска игры) - заменим на целостный тип;\n",
    "- User_Score (оценка пользователей) - заменим на вещественный тип.\n",
    "\n",
    "В названиях колонок имееются нарушения стиля написания: строчные буквы сочетаются с прописными. На этапе предобработки данных будет необходимо их переименовать.\n",
    "\n",
    "Видно, что в 6 столбцах имеются пропущенные значения. На следующем этапе определим их количество и заполним пропуски там, где это необходимо и обоснованно.\n",
    "\n",
    "\n",
    "На данном этаме мы видим пропуски в столбцах Critic_Score,\tUser_Score,\tRating,"
   ]
  },
  {
   "cell_type": "markdown",
   "metadata": {},
   "source": [
    "##  Предобработка данных"
   ]
  },
  {
   "cell_type": "markdown",
   "metadata": {},
   "source": [
    "посмотрим на название столбцов "
   ]
  },
  {
   "cell_type": "code",
   "execution_count": 6,
   "metadata": {},
   "outputs": [
    {
     "data": {
      "text/plain": [
       "Index(['Name', 'Platform', 'Year_of_Release', 'Genre', 'NA_sales', 'EU_sales',\n",
       "       'JP_sales', 'Other_sales', 'Critic_Score', 'User_Score', 'Rating'],\n",
       "      dtype='object')"
      ]
     },
     "execution_count": 6,
     "metadata": {},
     "output_type": "execute_result"
    }
   ],
   "source": [
    "data.columns"
   ]
  },
  {
   "cell_type": "markdown",
   "metadata": {},
   "source": [
    "приведем столбцы к нижнему регистру и проверим "
   ]
  },
  {
   "cell_type": "code",
   "execution_count": 7,
   "metadata": {},
   "outputs": [
    {
     "name": "stdout",
     "output_type": "stream",
     "text": [
      "Index(['name', 'platform', 'year_of_release', 'genre', 'na_sales', 'eu_sales',\n",
      "       'jp_sales', 'other_sales', 'critic_score', 'user_score', 'rating'],\n",
      "      dtype='object')\n"
     ]
    }
   ],
   "source": [
    "data.columns = data.columns.str.lower()\n",
    "print(data.columns)"
   ]
  },
  {
   "cell_type": "markdown",
   "metadata": {},
   "source": [
    "### Обработка пропусков"
   ]
  },
  {
   "cell_type": "code",
   "execution_count": 8,
   "metadata": {},
   "outputs": [
    {
     "data": {
      "text/plain": [
       "name                  2\n",
       "platform              0\n",
       "year_of_release     269\n",
       "genre                 2\n",
       "na_sales              0\n",
       "eu_sales              0\n",
       "jp_sales              0\n",
       "other_sales           0\n",
       "critic_score       8578\n",
       "user_score         6701\n",
       "rating             6766\n",
       "dtype: int64"
      ]
     },
     "execution_count": 8,
     "metadata": {},
     "output_type": "execute_result"
    }
   ],
   "source": [
    "data.isna().sum()"
   ]
  },
  {
   "cell_type": "code",
   "execution_count": 9,
   "metadata": {},
   "outputs": [
    {
     "data": {
      "text/plain": [
       "5"
      ]
     },
     "execution_count": 9,
     "metadata": {},
     "output_type": "execute_result"
    }
   ],
   "source": [
    "data.duplicated(subset=['name', 'platform']).sum()"
   ]
  },
  {
   "cell_type": "markdown",
   "metadata": {},
   "source": [
    "- По 2 пропуска встречается в столбцах name и genre. Так это очень небольшое количество. Узнаем природу.\n",
    "\n",
    "- В столбце year_of_release имеется 269 пропусков - слишком много, чтобы заполнять их вручную с учетом того, что на разных платформах одна и та же игра могла выходить в разные годы. Заполнять такие данные средним некорректно - могут исказятся результаты, посмотрим на природу появления пропусков.\n",
    "\n",
    "- В столбцах critic_score, user_score и rating пропусков достаточно много. Так как такие данные, как оценка критиков и пользователей или рейтинг заменить средним нельзя, для разберем эти столбцы."
   ]
  },
  {
   "cell_type": "markdown",
   "metadata": {},
   "source": [
    "Посмотрим какие года преддставлены в этой таблице"
   ]
  },
  {
   "cell_type": "code",
   "execution_count": 10,
   "metadata": {},
   "outputs": [
    {
     "data": {
      "text/plain": [
       "array([2006., 1985., 2008., 2009., 1996., 1989., 1984., 2005., 1999.,\n",
       "       2007., 2010., 2013., 2004., 1990., 1988., 2002., 2001., 2011.,\n",
       "       1998., 2015., 2012., 2014., 1992., 1997., 1993., 1994., 1982.,\n",
       "       2016., 2003., 1986., 2000.,   nan, 1995., 1991., 1981., 1987.,\n",
       "       1980., 1983.])"
      ]
     },
     "execution_count": 10,
     "metadata": {},
     "output_type": "execute_result"
    }
   ],
   "source": [
    "data['year_of_release'].unique()"
   ]
  },
  {
   "cell_type": "markdown",
   "metadata": {},
   "source": [
    "Перед удалениме строк посмотрим сколько строк было изначально"
   ]
  },
  {
   "cell_type": "code",
   "execution_count": 11,
   "metadata": {},
   "outputs": [
    {
     "data": {
      "text/plain": [
       "(16715, 11)"
      ]
     },
     "execution_count": 11,
     "metadata": {},
     "output_type": "execute_result"
    }
   ],
   "source": [
    "data.shape"
   ]
  },
  {
   "cell_type": "markdown",
   "metadata": {},
   "source": [
    "Производим удаление "
   ]
  },
  {
   "cell_type": "code",
   "execution_count": 12,
   "metadata": {},
   "outputs": [
    {
     "data": {
      "text/plain": [
       "name                  0\n",
       "platform              0\n",
       "year_of_release       0\n",
       "genre                 0\n",
       "na_sales              0\n",
       "eu_sales              0\n",
       "jp_sales              0\n",
       "other_sales           0\n",
       "critic_score       8461\n",
       "user_score         6605\n",
       "rating             6676\n",
       "dtype: int64"
      ]
     },
     "execution_count": 12,
     "metadata": {},
     "output_type": "execute_result"
    }
   ],
   "source": [
    "data = data.dropna(subset=['name','genre','year_of_release'])\n",
    "data.isna().sum()"
   ]
  },
  {
   "cell_type": "markdown",
   "metadata": {},
   "source": [
    "Обратим внимание сколько строк в итоге ушло"
   ]
  },
  {
   "cell_type": "code",
   "execution_count": 13,
   "metadata": {},
   "outputs": [
    {
     "data": {
      "text/plain": [
       "(16444, 11)"
      ]
     },
     "execution_count": 13,
     "metadata": {},
     "output_type": "execute_result"
    }
   ],
   "source": [
    "data.shape"
   ]
  },
  {
   "cell_type": "markdown",
   "metadata": {},
   "source": [
    "Мы удалили около 271, данный код удалил нужно количество "
   ]
  },
  {
   "cell_type": "markdown",
   "metadata": {},
   "source": [
    "Определим какое количество строк содержат в столбце user_score значения, записанные как tbd:"
   ]
  },
  {
   "cell_type": "code",
   "execution_count": 14,
   "metadata": {},
   "outputs": [
    {
     "data": {
      "text/plain": [
       "2376"
      ]
     },
     "execution_count": 14,
     "metadata": {},
     "output_type": "execute_result"
    }
   ],
   "source": [
    "data['user_score'][data['user_score'] == 'tbd'].count()"
   ]
  },
  {
   "cell_type": "markdown",
   "metadata": {},
   "source": [
    "В столбце User_Score встречаются значения, записанные как tbd - To Be Determined - то есть еще не определенный пользователями рейтинг. Таких значений достаточно много - 2376, поэтому просто удалять их нельзя, так как это отразится на всем датасете, заменять их средними значениями, сгруппировав игры по жанрам и т.д., будет некорректно - могут исказиться результаты. Поэтому заменим их на NaN."
   ]
  },
  {
   "cell_type": "code",
   "execution_count": 15,
   "metadata": {},
   "outputs": [
    {
     "name": "stdout",
     "output_type": "stream",
     "text": [
      "['8' nan '8.3' '8.5' '6.6' '8.4' '8.6' '7.7' '6.3' '7.4' '8.2' '9' '7.9'\n",
      " '8.1' '8.7' '7.1' '3.4' '5.3' '4.8' '3.2' '8.9' '6.4' '7.8' '7.5' '2.6'\n",
      " '7.2' '9.2' '7' '7.3' '4.3' '7.6' '5.7' '5' '9.1' '6.5' '8.8' '6.9' '9.4'\n",
      " '6.8' '6.1' '6.7' '5.4' '4' '4.9' '4.5' '9.3' '6.2' '4.2' '6' '3.7' '4.1'\n",
      " '5.8' '5.6' '5.5' '4.4' '4.6' '5.9' '3.9' '3.1' '2.9' '5.2' '3.3' '4.7'\n",
      " '5.1' '3.5' '2.5' '1.9' '3' '2.7' '2.2' '2' '9.5' '2.1' '3.6' '2.8' '1.8'\n",
      " '3.8' '0' '1.6' '9.6' '2.4' '1.7' '1.1' '0.3' '1.5' '0.7' '1.2' '2.3'\n",
      " '0.5' '1.3' '0.2' '0.6' '1.4' '0.9' '1' '9.7']\n"
     ]
    }
   ],
   "source": [
    "data = data.replace('tbd', np.nan)\n",
    "\n",
    "print(data['user_score'].unique())"
   ]
  },
  {
   "cell_type": "code",
   "execution_count": 16,
   "metadata": {},
   "outputs": [
    {
     "data": {
      "text/plain": [
       "6676"
      ]
     },
     "execution_count": 16,
     "metadata": {},
     "output_type": "execute_result"
    }
   ],
   "source": [
    "data['rating'].isna().sum()"
   ]
  },
  {
   "cell_type": "markdown",
   "metadata": {},
   "source": [
    "\n",
    "Посмотрим на столбец с рейтингом где большое количество пропусков 6676. \n",
    "Попробуем объяснить данные пропуски.\n",
    "\n",
    "1) ассоциация Entertainment Software Rating Board - американская рейтинговая система игр, поэтому игры, выпускаемые в Европе или Азии, могли оцениваться не по этой системе, а по другой. В результате чего рейтинг по системе ESRB не присваивается.\n",
    "\n",
    "2) для определения рейтинга издатель должен сам присылать в ESRB видеоролик, который содержит наиболее впечатляющие и резкие сцены игры и заполнять специальную анкету сведениями о содержании игры. По какой-то причине издатель мог этого не сделать и игра осталась без присвоенного рейтинга.\n",
    "\n",
    "3) компании не обязаны предоставлять игру на определение рейтинга до начала официальных продаж, так как её содержимое может значительно измениться в ходе разработки. Поэтому для части игр рейтинг может быть еще в процессе определения. \n",
    "\n",
    "Эти данные мы нашли в википедии \n",
    "\n",
    "В связи с этим, пропуски значений рейтинга будем заполнять значениями \"неизвестно\" - \"UNK\", чтобы в дальнейшем не потерять часть данных."
   ]
  },
  {
   "cell_type": "code",
   "execution_count": 17,
   "metadata": {},
   "outputs": [
    {
     "data": {
      "text/plain": [
       "NaN     6676\n",
       "E       3921\n",
       "T       2905\n",
       "M       1536\n",
       "E10+    1393\n",
       "EC         8\n",
       "K-A        3\n",
       "RP         1\n",
       "AO         1\n",
       "Name: rating, dtype: int64"
      ]
     },
     "execution_count": 17,
     "metadata": {},
     "output_type": "execute_result"
    }
   ],
   "source": [
    "# какие категории чаще встречаются в рейтинге \n",
    "data['rating'].value_counts(dropna=False)"
   ]
  },
  {
   "cell_type": "markdown",
   "metadata": {},
   "source": [
    " Немного покопавшись в интернете можно получить определения для представленных рейтингов. \n",
    "- «EC» («Early childhood») — «Для детей младшего возраста»\n",
    "- «E» («Everyone») — «Для всех»\n",
    "- «E10+» («Everyone 10 and older») — «Для всех от 10 лет и старше»\n",
    "- «T» («Teen») — «Подросткам»\n",
    "- «M» («Mature») — «Для взрослых»:\n",
    "- «AO» («Adults Only 18+») — «Только для взрослых»\n",
    "- «RP» («Rating Pending») — «Рейтинг ожидается»\n",
    "- K-A - старый вариант маркировки E (for everyone)"
   ]
  },
  {
   "cell_type": "code",
   "execution_count": 18,
   "metadata": {},
   "outputs": [],
   "source": [
    "data['rating'] = data['rating'].fillna('UNK')    "
   ]
  },
  {
   "cell_type": "markdown",
   "metadata": {},
   "source": [
    "Посмотрим на столбцы с критокой пользователей\\критиков "
   ]
  },
  {
   "cell_type": "code",
   "execution_count": 19,
   "metadata": {},
   "outputs": [
    {
     "data": {
      "text/plain": [
       "'процент пропусков от всего датасета'"
      ]
     },
     "metadata": {},
     "output_type": "display_data"
    },
    {
     "data": {
      "text/plain": [
       "51.453417659936754"
      ]
     },
     "metadata": {},
     "output_type": "display_data"
    }
   ],
   "source": [
    "display('процент пропусков от всего датасета', data['critic_score'].isna().mean()*100)"
   ]
  },
  {
   "cell_type": "code",
   "execution_count": 43,
   "metadata": {},
   "outputs": [
    {
     "data": {
      "image/png": "[encoded data removed]",
      "text/plain": [
       "<Figure size 576x432 with 1 Axes>"
      ]
     },
     "metadata": {
      "needs_background": "light"
     },
     "output_type": "display_data"
    }
   ],
   "source": [
    "data.boxplot(column ='critic_score', figsize=(8, 6))\n",
    "plt.title('критики')\n",
    "plt.ylim(-1,110)\n",
    "plt.ylabel('оценки')\n",
    "plt.show()"
   ]
  },
  {
   "cell_type": "markdown",
   "metadata": {},
   "source": [
    "Мы можем увидеть выбросы критиков от 10 до 33, а процент пропусков достигает до 50%. Мы не можем удалить такие пропуски. Таким образом оставим пропуски без изменений."
   ]
  },
  {
   "cell_type": "code",
   "execution_count": 21,
   "metadata": {},
   "outputs": [
    {
     "data": {
      "text/plain": [
       "'процент пропусков от всего датасета'"
      ]
     },
     "metadata": {},
     "output_type": "display_data"
    },
    {
     "data": {
      "text/plain": [
       "54.61566528825104"
      ]
     },
     "metadata": {},
     "output_type": "display_data"
    }
   ],
   "source": [
    "display('процент пропусков от всего датасета', data['user_score'].isna().mean()*100)"
   ]
  },
  {
   "cell_type": "code",
   "execution_count": 45,
   "metadata": {},
   "outputs": [
    {
     "data": {
      "image/png": "[encoded data removed]",
      "text/plain": [
       "<Figure size 576x432 with 1 Axes>"
      ]
     },
     "metadata": {
      "needs_background": "light"
     },
     "output_type": "display_data"
    }
   ],
   "source": [
    "data.boxplot(column ='user_score', figsize=(8, 6))\n",
    "plt.title('пользователи')\n",
    "plt.ylim(-1,10)\n",
    "plt.ylabel('оценки')\n",
    "plt.show()"
   ]
  },
  {
   "cell_type": "markdown",
   "metadata": {},
   "source": [
    "В этом столбце пропусков более 56%, а выбросы идут от 0 до 3,9. Данное колличесвто пропусков заменить среднем значением нельзя, это очень исказит данные для дальнейшего иследования. Оставим прропуски "
   ]
  },
  {
   "cell_type": "markdown",
   "metadata": {},
   "source": [
    "Каждая игра получается индивидуальной и оценка критиков, и пользователей - субъективное мнение об игре конкретного года, жанра, платформы, студии разработчика, издателя, рекламы и репутации о серии игр. Слишком много факторов необходимо учесть для восстановления данных."
   ]
  },
  {
   "cell_type": "markdown",
   "metadata": {},
   "source": [
    "### Замена типов данных"
   ]
  },
  {
   "cell_type": "code",
   "execution_count": 46,
   "metadata": {},
   "outputs": [
    {
     "name": "stdout",
     "output_type": "stream",
     "text": [
      "<class 'pandas.core.frame.DataFrame'>\n",
      "Int64Index: 16444 entries, 0 to 16714\n",
      "Data columns (total 12 columns):\n",
      " #   Column           Non-Null Count  Dtype  \n",
      "---  ------           --------------  -----  \n",
      " 0   name             16444 non-null  object \n",
      " 1   platform         16444 non-null  object \n",
      " 2   year_of_release  16444 non-null  int64  \n",
      " 3   genre            16444 non-null  object \n",
      " 4   na_sales         16444 non-null  float64\n",
      " 5   eu_sales         16444 non-null  float64\n",
      " 6   jp_sales         16444 non-null  float64\n",
      " 7   other_sales      16444 non-null  float64\n",
      " 8   critic_score     7983 non-null   float64\n",
      " 9   user_score       7463 non-null   float64\n",
      " 10  rating           16444 non-null  object \n",
      " 11  total_sales      16444 non-null  float64\n",
      "dtypes: float64(7), int64(1), object(4)\n",
      "memory usage: 1.6+ MB\n"
     ]
    }
   ],
   "source": [
    "data.info()"
   ]
  },
  {
   "cell_type": "markdown",
   "metadata": {},
   "source": [
    "преобразуем столбец 'year_of_release' к формату int"
   ]
  },
  {
   "cell_type": "code",
   "execution_count": 47,
   "metadata": {},
   "outputs": [],
   "source": [
    "data['year_of_release'] = data['year_of_release'].astype('int')"
   ]
  },
  {
   "cell_type": "markdown",
   "metadata": {},
   "source": [
    "преобразуем столбец 'user_score' к формату float"
   ]
  },
  {
   "cell_type": "code",
   "execution_count": 48,
   "metadata": {},
   "outputs": [],
   "source": [
    "data['user_score'] = data['user_score'].astype(float)"
   ]
  },
  {
   "cell_type": "code",
   "execution_count": 49,
   "metadata": {},
   "outputs": [
    {
     "name": "stdout",
     "output_type": "stream",
     "text": [
      "<class 'pandas.core.frame.DataFrame'>\n",
      "Int64Index: 16444 entries, 0 to 16714\n",
      "Data columns (total 12 columns):\n",
      " #   Column           Non-Null Count  Dtype  \n",
      "---  ------           --------------  -----  \n",
      " 0   name             16444 non-null  object \n",
      " 1   platform         16444 non-null  object \n",
      " 2   year_of_release  16444 non-null  int64  \n",
      " 3   genre            16444 non-null  object \n",
      " 4   na_sales         16444 non-null  float64\n",
      " 5   eu_sales         16444 non-null  float64\n",
      " 6   jp_sales         16444 non-null  float64\n",
      " 7   other_sales      16444 non-null  float64\n",
      " 8   critic_score     7983 non-null   float64\n",
      " 9   user_score       7463 non-null   float64\n",
      " 10  rating           16444 non-null  object \n",
      " 11  total_sales      16444 non-null  float64\n",
      "dtypes: float64(7), int64(1), object(4)\n",
      "memory usage: 1.6+ MB\n"
     ]
    }
   ],
   "source": [
    "data.info()"
   ]
  },
  {
   "cell_type": "markdown",
   "metadata": {},
   "source": [
    "### Посчитаем суммарные продажи во всех регионах и запишем их в отдельный столбец."
   ]
  },
  {
   "cell_type": "code",
   "execution_count": 50,
   "metadata": {},
   "outputs": [
    {
     "data": {
      "text/html": [
       "<div>\n",
       "<style scoped>\n",
       "    .dataframe tbody tr th:only-of-type {\n",
       "        vertical-align: middle;\n",
       "    }\n",
       "\n",
       "    .dataframe tbody tr th {\n",
       "        vertical-align: top;\n",
       "    }\n",
       "\n",
       "    .dataframe thead th {\n",
       "        text-align: right;\n",
       "    }\n",
       "</style>\n",
       "<table border=\"1\" class=\"dataframe\">\n",
       "  <thead>\n",
       "    <tr style=\"text-align: right;\">\n",
       "      <th></th>\n",
       "      <th>name</th>\n",
       "      <th>platform</th>\n",
       "      <th>year_of_release</th>\n",
       "      <th>genre</th>\n",
       "      <th>na_sales</th>\n",
       "      <th>eu_sales</th>\n",
       "      <th>jp_sales</th>\n",
       "      <th>other_sales</th>\n",
       "      <th>critic_score</th>\n",
       "      <th>user_score</th>\n",
       "      <th>rating</th>\n",
       "      <th>total_sales</th>\n",
       "    </tr>\n",
       "  </thead>\n",
       "  <tbody>\n",
       "    <tr>\n",
       "      <th>0</th>\n",
       "      <td>Wii Sports</td>\n",
       "      <td>Wii</td>\n",
       "      <td>2006</td>\n",
       "      <td>Sports</td>\n",
       "      <td>41.36</td>\n",
       "      <td>28.96</td>\n",
       "      <td>3.77</td>\n",
       "      <td>8.45</td>\n",
       "      <td>76.0</td>\n",
       "      <td>8.0</td>\n",
       "      <td>E</td>\n",
       "      <td>78.77</td>\n",
       "    </tr>\n",
       "    <tr>\n",
       "      <th>1</th>\n",
       "      <td>Super Mario Bros.</td>\n",
       "      <td>NES</td>\n",
       "      <td>1985</td>\n",
       "      <td>Platform</td>\n",
       "      <td>29.08</td>\n",
       "      <td>3.58</td>\n",
       "      <td>6.81</td>\n",
       "      <td>0.77</td>\n",
       "      <td>NaN</td>\n",
       "      <td>NaN</td>\n",
       "      <td>UNK</td>\n",
       "      <td>33.43</td>\n",
       "    </tr>\n",
       "    <tr>\n",
       "      <th>2</th>\n",
       "      <td>Mario Kart Wii</td>\n",
       "      <td>Wii</td>\n",
       "      <td>2008</td>\n",
       "      <td>Racing</td>\n",
       "      <td>15.68</td>\n",
       "      <td>12.76</td>\n",
       "      <td>3.79</td>\n",
       "      <td>3.29</td>\n",
       "      <td>82.0</td>\n",
       "      <td>8.3</td>\n",
       "      <td>E</td>\n",
       "      <td>31.73</td>\n",
       "    </tr>\n",
       "    <tr>\n",
       "      <th>3</th>\n",
       "      <td>Wii Sports Resort</td>\n",
       "      <td>Wii</td>\n",
       "      <td>2009</td>\n",
       "      <td>Sports</td>\n",
       "      <td>15.61</td>\n",
       "      <td>10.93</td>\n",
       "      <td>3.28</td>\n",
       "      <td>2.95</td>\n",
       "      <td>80.0</td>\n",
       "      <td>8.0</td>\n",
       "      <td>E</td>\n",
       "      <td>29.49</td>\n",
       "    </tr>\n",
       "    <tr>\n",
       "      <th>4</th>\n",
       "      <td>Pokemon Red/Pokemon Blue</td>\n",
       "      <td>GB</td>\n",
       "      <td>1996</td>\n",
       "      <td>Role-Playing</td>\n",
       "      <td>11.27</td>\n",
       "      <td>8.89</td>\n",
       "      <td>10.22</td>\n",
       "      <td>1.00</td>\n",
       "      <td>NaN</td>\n",
       "      <td>NaN</td>\n",
       "      <td>UNK</td>\n",
       "      <td>21.16</td>\n",
       "    </tr>\n",
       "  </tbody>\n",
       "</table>\n",
       "</div>"
      ],
      "text/plain": [
       "                       name platform  year_of_release         genre  na_sales  \\\n",
       "0                Wii Sports      Wii             2006        Sports     41.36   \n",
       "1         Super Mario Bros.      NES             1985      Platform     29.08   \n",
       "2            Mario Kart Wii      Wii             2008        Racing     15.68   \n",
       "3         Wii Sports Resort      Wii             2009        Sports     15.61   \n",
       "4  Pokemon Red/Pokemon Blue       GB             1996  Role-Playing     11.27   \n",
       "\n",
       "   eu_sales  jp_sales  other_sales  critic_score  user_score rating  \\\n",
       "0     28.96      3.77         8.45          76.0         8.0      E   \n",
       "1      3.58      6.81         0.77           NaN         NaN    UNK   \n",
       "2     12.76      3.79         3.29          82.0         8.3      E   \n",
       "3     10.93      3.28         2.95          80.0         8.0      E   \n",
       "4      8.89     10.22         1.00           NaN         NaN    UNK   \n",
       "\n",
       "   total_sales  \n",
       "0        78.77  \n",
       "1        33.43  \n",
       "2        31.73  \n",
       "3        29.49  \n",
       "4        21.16  "
      ]
     },
     "execution_count": 50,
     "metadata": {},
     "output_type": "execute_result"
    }
   ],
   "source": [
    "data['total_sales'] = data[['na_sales', 'eu_sales', 'other_sales']].sum(axis='columns')\n",
    "data.head()"
   ]
  },
  {
   "cell_type": "markdown",
   "metadata": {},
   "source": [
    "Вывод\n",
    "\n",
    "На этапе подготовки данных были произведены следующие действия:\n",
    "\n",
    "- Переименованы столбцы без нарушения стиля написания.\n",
    "- Обработаны пропуски в данных:\n",
    "- Были удалены строки с пропусками в столбцах name, genre и year_of_release.\n",
    "- В столбцах critic_score, user_score и rating пропуски были оставлены.\n",
    "- В столбце user_score значения, записанные как \"tbd\", заменены на NaN.\n",
    "- Заменены типы данных в столбцах year_of_release на целочисленный тип и user_score на вещественный тип.\n",
    "- Расчитаны суммарные продажи во всех регионах и добавлены в отдельный столбец total_sales. Размер суммарных продаж составляет от 0 до 82,5 млн проданных копий."
   ]
  },
  {
   "cell_type": "markdown",
   "metadata": {},
   "source": [
    "## Проведите исследовательский анализ данных\n"
   ]
  },
  {
   "cell_type": "markdown",
   "metadata": {},
   "source": [
    "###  Посмотрим, сколько игр выпускалось в разные годы. Важны ли данные за все периоды?\n",
    "\n",
    "90Сформируем сводную таблицу по количеству выпущенных игр в каждый год. Чтобы проще было оценить распределение, дополнительно построим график распределения выпущенных игр по годам."
   ]
  },
  {
   "cell_type": "code",
   "execution_count": 51,
   "metadata": {},
   "outputs": [
    {
     "data": {
      "text/plain": [
       "Need for Speed: Most Wanted               12\n",
       "LEGO Marvel Super Heroes                   9\n",
       "FIFA 14                                    9\n",
       "Ratatouille                                9\n",
       "LEGO Jurassic World                        8\n",
       "                                          ..\n",
       "Corpse Party: Book of Shadows              1\n",
       "Cruis'n World                              1\n",
       "JoJo no Kimy? na B?ken Fantomu Buraddo     1\n",
       "Ping Pals                                  1\n",
       "Hunter x Hunter: Wonder Adventure          1\n",
       "Name: name, Length: 11426, dtype: int64"
      ]
     },
     "execution_count": 51,
     "metadata": {},
     "output_type": "execute_result"
    }
   ],
   "source": [
    "data['name'].value_counts()"
   ]
  },
  {
   "cell_type": "code",
   "execution_count": 52,
   "metadata": {},
   "outputs": [
    {
     "data": {
      "text/html": [
       "<div>\n",
       "<style scoped>\n",
       "    .dataframe tbody tr th:only-of-type {\n",
       "        vertical-align: middle;\n",
       "    }\n",
       "\n",
       "    .dataframe tbody tr th {\n",
       "        vertical-align: top;\n",
       "    }\n",
       "\n",
       "    .dataframe thead th {\n",
       "        text-align: right;\n",
       "    }\n",
       "</style>\n",
       "<table border=\"1\" class=\"dataframe\">\n",
       "  <thead>\n",
       "    <tr style=\"text-align: right;\">\n",
       "      <th></th>\n",
       "      <th>name</th>\n",
       "      <th>platform</th>\n",
       "      <th>year_of_release</th>\n",
       "      <th>genre</th>\n",
       "      <th>na_sales</th>\n",
       "      <th>eu_sales</th>\n",
       "      <th>jp_sales</th>\n",
       "      <th>other_sales</th>\n",
       "      <th>critic_score</th>\n",
       "      <th>user_score</th>\n",
       "      <th>rating</th>\n",
       "      <th>total_sales</th>\n",
       "    </tr>\n",
       "  </thead>\n",
       "  <tbody>\n",
       "    <tr>\n",
       "      <th>253</th>\n",
       "      <td>Need for Speed: Most Wanted</td>\n",
       "      <td>PS2</td>\n",
       "      <td>2005</td>\n",
       "      <td>Racing</td>\n",
       "      <td>2.03</td>\n",
       "      <td>1.79</td>\n",
       "      <td>0.08</td>\n",
       "      <td>0.47</td>\n",
       "      <td>82.0</td>\n",
       "      <td>9.1</td>\n",
       "      <td>T</td>\n",
       "      <td>4.29</td>\n",
       "    </tr>\n",
       "    <tr>\n",
       "      <th>523</th>\n",
       "      <td>Need for Speed: Most Wanted</td>\n",
       "      <td>PS3</td>\n",
       "      <td>2012</td>\n",
       "      <td>Racing</td>\n",
       "      <td>0.71</td>\n",
       "      <td>1.46</td>\n",
       "      <td>0.06</td>\n",
       "      <td>0.58</td>\n",
       "      <td>NaN</td>\n",
       "      <td>NaN</td>\n",
       "      <td>UNK</td>\n",
       "      <td>2.75</td>\n",
       "    </tr>\n",
       "    <tr>\n",
       "      <th>1190</th>\n",
       "      <td>Need for Speed: Most Wanted</td>\n",
       "      <td>X360</td>\n",
       "      <td>2012</td>\n",
       "      <td>Racing</td>\n",
       "      <td>0.62</td>\n",
       "      <td>0.78</td>\n",
       "      <td>0.01</td>\n",
       "      <td>0.15</td>\n",
       "      <td>83.0</td>\n",
       "      <td>8.5</td>\n",
       "      <td>T</td>\n",
       "      <td>1.55</td>\n",
       "    </tr>\n",
       "    <tr>\n",
       "      <th>1591</th>\n",
       "      <td>Need for Speed: Most Wanted</td>\n",
       "      <td>X360</td>\n",
       "      <td>2005</td>\n",
       "      <td>Racing</td>\n",
       "      <td>1.00</td>\n",
       "      <td>0.13</td>\n",
       "      <td>0.02</td>\n",
       "      <td>0.10</td>\n",
       "      <td>83.0</td>\n",
       "      <td>8.5</td>\n",
       "      <td>T</td>\n",
       "      <td>1.23</td>\n",
       "    </tr>\n",
       "    <tr>\n",
       "      <th>1998</th>\n",
       "      <td>Need for Speed: Most Wanted</td>\n",
       "      <td>XB</td>\n",
       "      <td>2005</td>\n",
       "      <td>Racing</td>\n",
       "      <td>0.53</td>\n",
       "      <td>0.46</td>\n",
       "      <td>0.00</td>\n",
       "      <td>0.05</td>\n",
       "      <td>83.0</td>\n",
       "      <td>8.8</td>\n",
       "      <td>T</td>\n",
       "      <td>1.04</td>\n",
       "    </tr>\n",
       "    <tr>\n",
       "      <th>2048</th>\n",
       "      <td>Need for Speed: Most Wanted</td>\n",
       "      <td>PSV</td>\n",
       "      <td>2012</td>\n",
       "      <td>Racing</td>\n",
       "      <td>0.33</td>\n",
       "      <td>0.45</td>\n",
       "      <td>0.01</td>\n",
       "      <td>0.22</td>\n",
       "      <td>NaN</td>\n",
       "      <td>NaN</td>\n",
       "      <td>UNK</td>\n",
       "      <td>1.00</td>\n",
       "    </tr>\n",
       "    <tr>\n",
       "      <th>3581</th>\n",
       "      <td>Need for Speed: Most Wanted</td>\n",
       "      <td>GC</td>\n",
       "      <td>2005</td>\n",
       "      <td>Racing</td>\n",
       "      <td>0.43</td>\n",
       "      <td>0.11</td>\n",
       "      <td>0.00</td>\n",
       "      <td>0.02</td>\n",
       "      <td>80.0</td>\n",
       "      <td>9.1</td>\n",
       "      <td>T</td>\n",
       "      <td>0.56</td>\n",
       "    </tr>\n",
       "    <tr>\n",
       "      <th>5972</th>\n",
       "      <td>Need for Speed: Most Wanted</td>\n",
       "      <td>PC</td>\n",
       "      <td>2005</td>\n",
       "      <td>Racing</td>\n",
       "      <td>0.02</td>\n",
       "      <td>0.23</td>\n",
       "      <td>0.00</td>\n",
       "      <td>0.04</td>\n",
       "      <td>82.0</td>\n",
       "      <td>8.5</td>\n",
       "      <td>T</td>\n",
       "      <td>0.29</td>\n",
       "    </tr>\n",
       "    <tr>\n",
       "      <th>6273</th>\n",
       "      <td>Need for Speed: Most Wanted</td>\n",
       "      <td>WiiU</td>\n",
       "      <td>2013</td>\n",
       "      <td>Racing</td>\n",
       "      <td>0.13</td>\n",
       "      <td>0.12</td>\n",
       "      <td>0.00</td>\n",
       "      <td>0.02</td>\n",
       "      <td>NaN</td>\n",
       "      <td>NaN</td>\n",
       "      <td>UNK</td>\n",
       "      <td>0.27</td>\n",
       "    </tr>\n",
       "    <tr>\n",
       "      <th>6410</th>\n",
       "      <td>Need for Speed: Most Wanted</td>\n",
       "      <td>DS</td>\n",
       "      <td>2005</td>\n",
       "      <td>Racing</td>\n",
       "      <td>0.24</td>\n",
       "      <td>0.01</td>\n",
       "      <td>0.00</td>\n",
       "      <td>0.02</td>\n",
       "      <td>45.0</td>\n",
       "      <td>6.1</td>\n",
       "      <td>E</td>\n",
       "      <td>0.27</td>\n",
       "    </tr>\n",
       "    <tr>\n",
       "      <th>6473</th>\n",
       "      <td>Need for Speed: Most Wanted</td>\n",
       "      <td>GBA</td>\n",
       "      <td>2005</td>\n",
       "      <td>Racing</td>\n",
       "      <td>0.19</td>\n",
       "      <td>0.07</td>\n",
       "      <td>0.00</td>\n",
       "      <td>0.00</td>\n",
       "      <td>NaN</td>\n",
       "      <td>8.3</td>\n",
       "      <td>E</td>\n",
       "      <td>0.26</td>\n",
       "    </tr>\n",
       "    <tr>\n",
       "      <th>11715</th>\n",
       "      <td>Need for Speed: Most Wanted</td>\n",
       "      <td>PC</td>\n",
       "      <td>2012</td>\n",
       "      <td>Racing</td>\n",
       "      <td>0.00</td>\n",
       "      <td>0.06</td>\n",
       "      <td>0.00</td>\n",
       "      <td>0.02</td>\n",
       "      <td>82.0</td>\n",
       "      <td>8.5</td>\n",
       "      <td>T</td>\n",
       "      <td>0.08</td>\n",
       "    </tr>\n",
       "  </tbody>\n",
       "</table>\n",
       "</div>"
      ],
      "text/plain": [
       "                              name platform  year_of_release   genre  \\\n",
       "253    Need for Speed: Most Wanted      PS2             2005  Racing   \n",
       "523    Need for Speed: Most Wanted      PS3             2012  Racing   \n",
       "1190   Need for Speed: Most Wanted     X360             2012  Racing   \n",
       "1591   Need for Speed: Most Wanted     X360             2005  Racing   \n",
       "1998   Need for Speed: Most Wanted       XB             2005  Racing   \n",
       "2048   Need for Speed: Most Wanted      PSV             2012  Racing   \n",
       "3581   Need for Speed: Most Wanted       GC             2005  Racing   \n",
       "5972   Need for Speed: Most Wanted       PC             2005  Racing   \n",
       "6273   Need for Speed: Most Wanted     WiiU             2013  Racing   \n",
       "6410   Need for Speed: Most Wanted       DS             2005  Racing   \n",
       "6473   Need for Speed: Most Wanted      GBA             2005  Racing   \n",
       "11715  Need for Speed: Most Wanted       PC             2012  Racing   \n",
       "\n",
       "       na_sales  eu_sales  jp_sales  other_sales  critic_score  user_score  \\\n",
       "253        2.03      1.79      0.08         0.47          82.0         9.1   \n",
       "523        0.71      1.46      0.06         0.58           NaN         NaN   \n",
       "1190       0.62      0.78      0.01         0.15          83.0         8.5   \n",
       "1591       1.00      0.13      0.02         0.10          83.0         8.5   \n",
       "1998       0.53      0.46      0.00         0.05          83.0         8.8   \n",
       "2048       0.33      0.45      0.01         0.22           NaN         NaN   \n",
       "3581       0.43      0.11      0.00         0.02          80.0         9.1   \n",
       "5972       0.02      0.23      0.00         0.04          82.0         8.5   \n",
       "6273       0.13      0.12      0.00         0.02           NaN         NaN   \n",
       "6410       0.24      0.01      0.00         0.02          45.0         6.1   \n",
       "6473       0.19      0.07      0.00         0.00           NaN         8.3   \n",
       "11715      0.00      0.06      0.00         0.02          82.0         8.5   \n",
       "\n",
       "      rating  total_sales  \n",
       "253        T         4.29  \n",
       "523      UNK         2.75  \n",
       "1190       T         1.55  \n",
       "1591       T         1.23  \n",
       "1998       T         1.04  \n",
       "2048     UNK         1.00  \n",
       "3581       T         0.56  \n",
       "5972       T         0.29  \n",
       "6273     UNK         0.27  \n",
       "6410       E         0.27  \n",
       "6473       E         0.26  \n",
       "11715      T         0.08  "
      ]
     },
     "execution_count": 52,
     "metadata": {},
     "output_type": "execute_result"
    }
   ],
   "source": [
    "data[data['name'] == 'Need for Speed: Most Wanted']"
   ]
  },
  {
   "cell_type": "code",
   "execution_count": 53,
   "metadata": {},
   "outputs": [
    {
     "data": {
      "text/html": [
       "<div>\n",
       "<style scoped>\n",
       "    .dataframe tbody tr th:only-of-type {\n",
       "        vertical-align: middle;\n",
       "    }\n",
       "\n",
       "    .dataframe tbody tr th {\n",
       "        vertical-align: top;\n",
       "    }\n",
       "\n",
       "    .dataframe thead th {\n",
       "        text-align: right;\n",
       "    }\n",
       "</style>\n",
       "<table border=\"1\" class=\"dataframe\">\n",
       "  <thead>\n",
       "    <tr style=\"text-align: right;\">\n",
       "      <th></th>\n",
       "      <th>name</th>\n",
       "      <th>year_of_release</th>\n",
       "    </tr>\n",
       "  </thead>\n",
       "  <tbody>\n",
       "    <tr>\n",
       "      <th>0</th>\n",
       "      <td>Wii Sports</td>\n",
       "      <td>2006</td>\n",
       "    </tr>\n",
       "    <tr>\n",
       "      <th>1</th>\n",
       "      <td>Super Mario Bros.</td>\n",
       "      <td>1985</td>\n",
       "    </tr>\n",
       "    <tr>\n",
       "      <th>2</th>\n",
       "      <td>Mario Kart Wii</td>\n",
       "      <td>2008</td>\n",
       "    </tr>\n",
       "    <tr>\n",
       "      <th>3</th>\n",
       "      <td>Wii Sports Resort</td>\n",
       "      <td>2009</td>\n",
       "    </tr>\n",
       "    <tr>\n",
       "      <th>4</th>\n",
       "      <td>Pokemon Red/Pokemon Blue</td>\n",
       "      <td>1996</td>\n",
       "    </tr>\n",
       "    <tr>\n",
       "      <th>...</th>\n",
       "      <td>...</td>\n",
       "      <td>...</td>\n",
       "    </tr>\n",
       "    <tr>\n",
       "      <th>16710</th>\n",
       "      <td>Samurai Warriors: Sanada Maru</td>\n",
       "      <td>2016</td>\n",
       "    </tr>\n",
       "    <tr>\n",
       "      <th>16711</th>\n",
       "      <td>LMA Manager 2007</td>\n",
       "      <td>2006</td>\n",
       "    </tr>\n",
       "    <tr>\n",
       "      <th>16712</th>\n",
       "      <td>Haitaka no Psychedelica</td>\n",
       "      <td>2016</td>\n",
       "    </tr>\n",
       "    <tr>\n",
       "      <th>16713</th>\n",
       "      <td>Spirits &amp; Spells</td>\n",
       "      <td>2003</td>\n",
       "    </tr>\n",
       "    <tr>\n",
       "      <th>16714</th>\n",
       "      <td>Winning Post 8 2016</td>\n",
       "      <td>2016</td>\n",
       "    </tr>\n",
       "  </tbody>\n",
       "</table>\n",
       "<p>16444 rows × 2 columns</p>\n",
       "</div>"
      ],
      "text/plain": [
       "                                name  year_of_release\n",
       "0                         Wii Sports             2006\n",
       "1                  Super Mario Bros.             1985\n",
       "2                     Mario Kart Wii             2008\n",
       "3                  Wii Sports Resort             2009\n",
       "4           Pokemon Red/Pokemon Blue             1996\n",
       "...                              ...              ...\n",
       "16710  Samurai Warriors: Sanada Maru             2016\n",
       "16711               LMA Manager 2007             2006\n",
       "16712        Haitaka no Psychedelica             2016\n",
       "16713               Spirits & Spells             2003\n",
       "16714            Winning Post 8 2016             2016\n",
       "\n",
       "[16444 rows x 2 columns]"
      ]
     },
     "execution_count": 53,
     "metadata": {},
     "output_type": "execute_result"
    }
   ],
   "source": [
    "data_1 = data[['name','year_of_release']]\n",
    "data_1"
   ]
  },
  {
   "cell_type": "code",
   "execution_count": 54,
   "metadata": {},
   "outputs": [
    {
     "data": {
      "text/plain": [
       "4249"
      ]
     },
     "execution_count": 54,
     "metadata": {},
     "output_type": "execute_result"
    }
   ],
   "source": [
    "data_1.duplicated().sum()"
   ]
  },
  {
   "cell_type": "code",
   "execution_count": 55,
   "metadata": {},
   "outputs": [],
   "source": [
    "data_1 = data_1.drop_duplicates()"
   ]
  },
  {
   "cell_type": "code",
   "execution_count": 56,
   "metadata": {},
   "outputs": [
    {
     "data": {
      "text/html": [
       "<div>\n",
       "<style scoped>\n",
       "    .dataframe tbody tr th:only-of-type {\n",
       "        vertical-align: middle;\n",
       "    }\n",
       "\n",
       "    .dataframe tbody tr th {\n",
       "        vertical-align: top;\n",
       "    }\n",
       "\n",
       "    .dataframe thead th {\n",
       "        text-align: right;\n",
       "    }\n",
       "</style>\n",
       "<table border=\"1\" class=\"dataframe\">\n",
       "  <thead>\n",
       "    <tr style=\"text-align: right;\">\n",
       "      <th></th>\n",
       "      <th>name</th>\n",
       "      <th>year_of_release</th>\n",
       "    </tr>\n",
       "  </thead>\n",
       "  <tbody>\n",
       "    <tr>\n",
       "      <th>253</th>\n",
       "      <td>Need for Speed: Most Wanted</td>\n",
       "      <td>2005</td>\n",
       "    </tr>\n",
       "    <tr>\n",
       "      <th>523</th>\n",
       "      <td>Need for Speed: Most Wanted</td>\n",
       "      <td>2012</td>\n",
       "    </tr>\n",
       "    <tr>\n",
       "      <th>6273</th>\n",
       "      <td>Need for Speed: Most Wanted</td>\n",
       "      <td>2013</td>\n",
       "    </tr>\n",
       "  </tbody>\n",
       "</table>\n",
       "</div>"
      ],
      "text/plain": [
       "                             name  year_of_release\n",
       "253   Need for Speed: Most Wanted             2005\n",
       "523   Need for Speed: Most Wanted             2012\n",
       "6273  Need for Speed: Most Wanted             2013"
      ]
     },
     "execution_count": 56,
     "metadata": {},
     "output_type": "execute_result"
    }
   ],
   "source": [
    "data_1[data_1['name'] == 'Need for Speed: Most Wanted']"
   ]
  },
  {
   "cell_type": "code",
   "execution_count": 57,
   "metadata": {},
   "outputs": [
    {
     "data": {
      "text/html": [
       "<div>\n",
       "<style scoped>\n",
       "    .dataframe tbody tr th:only-of-type {\n",
       "        vertical-align: middle;\n",
       "    }\n",
       "\n",
       "    .dataframe tbody tr th {\n",
       "        vertical-align: top;\n",
       "    }\n",
       "\n",
       "    .dataframe thead th {\n",
       "        text-align: right;\n",
       "    }\n",
       "</style>\n",
       "<table border=\"1\" class=\"dataframe\">\n",
       "  <thead>\n",
       "    <tr style=\"text-align: right;\">\n",
       "      <th></th>\n",
       "      <th>name</th>\n",
       "    </tr>\n",
       "    <tr>\n",
       "      <th>year_of_release</th>\n",
       "      <th></th>\n",
       "    </tr>\n",
       "  </thead>\n",
       "  <tbody>\n",
       "    <tr>\n",
       "      <th>1980</th>\n",
       "      <td>9</td>\n",
       "    </tr>\n",
       "    <tr>\n",
       "      <th>1981</th>\n",
       "      <td>46</td>\n",
       "    </tr>\n",
       "    <tr>\n",
       "      <th>1982</th>\n",
       "      <td>36</td>\n",
       "    </tr>\n",
       "    <tr>\n",
       "      <th>1983</th>\n",
       "      <td>17</td>\n",
       "    </tr>\n",
       "    <tr>\n",
       "      <th>1984</th>\n",
       "      <td>14</td>\n",
       "    </tr>\n",
       "    <tr>\n",
       "      <th>1985</th>\n",
       "      <td>14</td>\n",
       "    </tr>\n",
       "    <tr>\n",
       "      <th>1986</th>\n",
       "      <td>21</td>\n",
       "    </tr>\n",
       "    <tr>\n",
       "      <th>1987</th>\n",
       "      <td>16</td>\n",
       "    </tr>\n",
       "    <tr>\n",
       "      <th>1988</th>\n",
       "      <td>15</td>\n",
       "    </tr>\n",
       "    <tr>\n",
       "      <th>1989</th>\n",
       "      <td>17</td>\n",
       "    </tr>\n",
       "    <tr>\n",
       "      <th>1990</th>\n",
       "      <td>16</td>\n",
       "    </tr>\n",
       "    <tr>\n",
       "      <th>1991</th>\n",
       "      <td>40</td>\n",
       "    </tr>\n",
       "    <tr>\n",
       "      <th>1992</th>\n",
       "      <td>41</td>\n",
       "    </tr>\n",
       "    <tr>\n",
       "      <th>1993</th>\n",
       "      <td>59</td>\n",
       "    </tr>\n",
       "    <tr>\n",
       "      <th>1994</th>\n",
       "      <td>117</td>\n",
       "    </tr>\n",
       "    <tr>\n",
       "      <th>1995</th>\n",
       "      <td>215</td>\n",
       "    </tr>\n",
       "    <tr>\n",
       "      <th>1996</th>\n",
       "      <td>258</td>\n",
       "    </tr>\n",
       "    <tr>\n",
       "      <th>1997</th>\n",
       "      <td>282</td>\n",
       "    </tr>\n",
       "    <tr>\n",
       "      <th>1998</th>\n",
       "      <td>364</td>\n",
       "    </tr>\n",
       "    <tr>\n",
       "      <th>1999</th>\n",
       "      <td>326</td>\n",
       "    </tr>\n",
       "    <tr>\n",
       "      <th>2000</th>\n",
       "      <td>325</td>\n",
       "    </tr>\n",
       "    <tr>\n",
       "      <th>2001</th>\n",
       "      <td>428</td>\n",
       "    </tr>\n",
       "    <tr>\n",
       "      <th>2002</th>\n",
       "      <td>631</td>\n",
       "    </tr>\n",
       "    <tr>\n",
       "      <th>2003</th>\n",
       "      <td>546</td>\n",
       "    </tr>\n",
       "    <tr>\n",
       "      <th>2004</th>\n",
       "      <td>550</td>\n",
       "    </tr>\n",
       "    <tr>\n",
       "      <th>2005</th>\n",
       "      <td>657</td>\n",
       "    </tr>\n",
       "    <tr>\n",
       "      <th>2006</th>\n",
       "      <td>773</td>\n",
       "    </tr>\n",
       "    <tr>\n",
       "      <th>2007</th>\n",
       "      <td>884</td>\n",
       "    </tr>\n",
       "    <tr>\n",
       "      <th>2008</th>\n",
       "      <td>1039</td>\n",
       "    </tr>\n",
       "    <tr>\n",
       "      <th>2009</th>\n",
       "      <td>1001</td>\n",
       "    </tr>\n",
       "    <tr>\n",
       "      <th>2010</th>\n",
       "      <td>900</td>\n",
       "    </tr>\n",
       "    <tr>\n",
       "      <th>2011</th>\n",
       "      <td>779</td>\n",
       "    </tr>\n",
       "    <tr>\n",
       "      <th>2012</th>\n",
       "      <td>446</td>\n",
       "    </tr>\n",
       "    <tr>\n",
       "      <th>2013</th>\n",
       "      <td>335</td>\n",
       "    </tr>\n",
       "    <tr>\n",
       "      <th>2014</th>\n",
       "      <td>319</td>\n",
       "    </tr>\n",
       "    <tr>\n",
       "      <th>2015</th>\n",
       "      <td>362</td>\n",
       "    </tr>\n",
       "    <tr>\n",
       "      <th>2016</th>\n",
       "      <td>297</td>\n",
       "    </tr>\n",
       "  </tbody>\n",
       "</table>\n",
       "</div>"
      ],
      "text/plain": [
       "                 name\n",
       "year_of_release      \n",
       "1980                9\n",
       "1981               46\n",
       "1982               36\n",
       "1983               17\n",
       "1984               14\n",
       "1985               14\n",
       "1986               21\n",
       "1987               16\n",
       "1988               15\n",
       "1989               17\n",
       "1990               16\n",
       "1991               40\n",
       "1992               41\n",
       "1993               59\n",
       "1994              117\n",
       "1995              215\n",
       "1996              258\n",
       "1997              282\n",
       "1998              364\n",
       "1999              326\n",
       "2000              325\n",
       "2001              428\n",
       "2002              631\n",
       "2003              546\n",
       "2004              550\n",
       "2005              657\n",
       "2006              773\n",
       "2007              884\n",
       "2008             1039\n",
       "2009             1001\n",
       "2010              900\n",
       "2011              779\n",
       "2012              446\n",
       "2013              335\n",
       "2014              319\n",
       "2015              362\n",
       "2016              297"
      ]
     },
     "execution_count": 57,
     "metadata": {},
     "output_type": "execute_result"
    }
   ],
   "source": [
    "data_2 = data_1.pivot_table(index = 'year_of_release', values = 'name', aggfunc = 'count')\n",
    "data_2"
   ]
  },
  {
   "cell_type": "code",
   "execution_count": 58,
   "metadata": {
    "scrolled": false
   },
   "outputs": [
    {
     "data": {
      "image/png": "[encoded data removed]",
      "text/plain": [
       "<Figure size 1080x648 with 1 Axes>"
      ]
     },
     "metadata": {
      "needs_background": "light"
     },
     "output_type": "display_data"
    }
   ],
   "source": [
    "data_2.plot(marker='o', grid=True, figsize=(15, 9))\n",
    "\n",
    "plt.xlabel(r'Год выпуска игры')\n",
    "plt.ylabel(r'Количество выпущенных игр')\n",
    "plt.title(r'Зависимость количества выпущенных игр от года выпуска')\n",
    "plt.show()"
   ]
  },
  {
   "cell_type": "markdown",
   "metadata": {},
   "source": [
    "С 1980 по 1993 года выпускалось небольшое количество игр - от 9 до 100 ежегодно, что объясняется тем, что только 1979 год стал отправной точкой для доступных домашних компьютеров и появления портативных карманных игровых устройств.\n",
    "\n",
    "Из полученных данных видно то, что начиная с 1993 года, количество выпускаемых игр начало стремительно расти. Это связано с тем, что в начале 90-х годов произошли заметные инновации в компьютерных играх - переход от 2D к 3D, снижение популярности аркадных игр и появление нескольких новых жанров - шутер от первого лица, стратегия в реальном времени.\n",
    "\n",
    "К 2008 году количество выпускаемых игр достигло максимального значения - 1427, затем количество пошло на спад, и к 2015 году количество игр было уже более, чем в 2 раза меньше, по сравнению с 2008 годом.\n",
    "\n",
    "Такая динамика объясняется различными уровнями технологического развития поддержка на различных типах игровых устройств, доступности ПК, игровых консолей, приставок и т.д., появлением новых жанров игр, а также различным уровнем популярности игр в целом.\n",
    "\n",
    "По этой причине было бы некорректно при при последующем анализе и прогнозировании продаж на последующие периоды использовать данные за ранние годы. Поэтому в дальнейшем будем рассматривать периоды, когда количество выпускаемых игр превысило 300 шт./год, - с 1998 по 2016 года."
   ]
  },
  {
   "cell_type": "markdown",
   "metadata": {},
   "source": [
    "### Посмотрим, как менялись продажи по платформам. Выберите платформы с наибольшими суммарными продажами и постройте распределение по годам. За какой характерный срок появляются новые и исчезают старые платформы?"
   ]
  },
  {
   "cell_type": "markdown",
   "metadata": {},
   "source": [
    "Определим, как менялись продажи игр по платформам. Для этого выделим платформы с наибольшими суммарными продажами и построим для них распределение по годам."
   ]
  },
  {
   "cell_type": "code",
   "execution_count": 59,
   "metadata": {},
   "outputs": [
    {
     "data": {
      "text/html": [
       "<div>\n",
       "<style scoped>\n",
       "    .dataframe tbody tr th:only-of-type {\n",
       "        vertical-align: middle;\n",
       "    }\n",
       "\n",
       "    .dataframe tbody tr th {\n",
       "        vertical-align: top;\n",
       "    }\n",
       "\n",
       "    .dataframe thead th {\n",
       "        text-align: right;\n",
       "    }\n",
       "</style>\n",
       "<table border=\"1\" class=\"dataframe\">\n",
       "  <thead>\n",
       "    <tr style=\"text-align: right;\">\n",
       "      <th></th>\n",
       "      <th>total_sales</th>\n",
       "    </tr>\n",
       "    <tr>\n",
       "      <th>platform</th>\n",
       "      <th></th>\n",
       "    </tr>\n",
       "  </thead>\n",
       "  <tbody>\n",
       "    <tr>\n",
       "      <th>PS2</th>\n",
       "      <td>1096.02</td>\n",
       "    </tr>\n",
       "    <tr>\n",
       "      <th>X360</th>\n",
       "      <td>948.94</td>\n",
       "    </tr>\n",
       "    <tr>\n",
       "      <th>PS3</th>\n",
       "      <td>851.93</td>\n",
       "    </tr>\n",
       "    <tr>\n",
       "      <th>Wii</th>\n",
       "      <td>822.90</td>\n",
       "    </tr>\n",
       "    <tr>\n",
       "      <th>DS</th>\n",
       "      <td>627.76</td>\n",
       "    </tr>\n",
       "    <tr>\n",
       "      <th>PS</th>\n",
       "      <td>587.80</td>\n",
       "    </tr>\n",
       "    <tr>\n",
       "      <th>PS4</th>\n",
       "      <td>298.18</td>\n",
       "    </tr>\n",
       "    <tr>\n",
       "      <th>GBA</th>\n",
       "      <td>266.32</td>\n",
       "    </tr>\n",
       "    <tr>\n",
       "      <th>PC</th>\n",
       "      <td>255.59</td>\n",
       "    </tr>\n",
       "    <tr>\n",
       "      <th>XB</th>\n",
       "      <td>250.19</td>\n",
       "    </tr>\n",
       "    <tr>\n",
       "      <th>PSP</th>\n",
       "      <td>213.65</td>\n",
       "    </tr>\n",
       "    <tr>\n",
       "      <th>N64</th>\n",
       "      <td>184.25</td>\n",
       "    </tr>\n",
       "    <tr>\n",
       "      <th>GC</th>\n",
       "      <td>175.39</td>\n",
       "    </tr>\n",
       "    <tr>\n",
       "      <th>GB</th>\n",
       "      <td>169.31</td>\n",
       "    </tr>\n",
       "    <tr>\n",
       "      <th>XOne</th>\n",
       "      <td>158.98</td>\n",
       "    </tr>\n",
       "    <tr>\n",
       "      <th>3DS</th>\n",
       "      <td>157.19</td>\n",
       "    </tr>\n",
       "    <tr>\n",
       "      <th>NES</th>\n",
       "      <td>152.40</td>\n",
       "    </tr>\n",
       "    <tr>\n",
       "      <th>2600</th>\n",
       "      <td>86.48</td>\n",
       "    </tr>\n",
       "    <tr>\n",
       "      <th>SNES</th>\n",
       "      <td>83.49</td>\n",
       "    </tr>\n",
       "    <tr>\n",
       "      <th>WiiU</th>\n",
       "      <td>69.18</td>\n",
       "    </tr>\n",
       "    <tr>\n",
       "      <th>PSV</th>\n",
       "      <td>31.97</td>\n",
       "    </tr>\n",
       "    <tr>\n",
       "      <th>GEN</th>\n",
       "      <td>25.68</td>\n",
       "    </tr>\n",
       "    <tr>\n",
       "      <th>DC</th>\n",
       "      <td>7.39</td>\n",
       "    </tr>\n",
       "    <tr>\n",
       "      <th>SCD</th>\n",
       "      <td>1.41</td>\n",
       "    </tr>\n",
       "    <tr>\n",
       "      <th>SAT</th>\n",
       "      <td>1.33</td>\n",
       "    </tr>\n",
       "    <tr>\n",
       "      <th>3DO</th>\n",
       "      <td>0.00</td>\n",
       "    </tr>\n",
       "    <tr>\n",
       "      <th>PCFX</th>\n",
       "      <td>0.00</td>\n",
       "    </tr>\n",
       "    <tr>\n",
       "      <th>NG</th>\n",
       "      <td>0.00</td>\n",
       "    </tr>\n",
       "    <tr>\n",
       "      <th>GG</th>\n",
       "      <td>0.00</td>\n",
       "    </tr>\n",
       "    <tr>\n",
       "      <th>TG16</th>\n",
       "      <td>0.00</td>\n",
       "    </tr>\n",
       "    <tr>\n",
       "      <th>WS</th>\n",
       "      <td>0.00</td>\n",
       "    </tr>\n",
       "  </tbody>\n",
       "</table>\n",
       "</div>"
      ],
      "text/plain": [
       "          total_sales\n",
       "platform             \n",
       "PS2           1096.02\n",
       "X360           948.94\n",
       "PS3            851.93\n",
       "Wii            822.90\n",
       "DS             627.76\n",
       "PS             587.80\n",
       "PS4            298.18\n",
       "GBA            266.32\n",
       "PC             255.59\n",
       "XB             250.19\n",
       "PSP            213.65\n",
       "N64            184.25\n",
       "GC             175.39\n",
       "GB             169.31\n",
       "XOne           158.98\n",
       "3DS            157.19\n",
       "NES            152.40\n",
       "2600            86.48\n",
       "SNES            83.49\n",
       "WiiU            69.18\n",
       "PSV             31.97\n",
       "GEN             25.68\n",
       "DC               7.39\n",
       "SCD              1.41\n",
       "SAT              1.33\n",
       "3DO              0.00\n",
       "PCFX             0.00\n",
       "NG               0.00\n",
       "GG               0.00\n",
       "TG16             0.00\n",
       "WS               0.00"
      ]
     },
     "execution_count": 59,
     "metadata": {},
     "output_type": "execute_result"
    }
   ],
   "source": [
    "platforma = data.pivot_table(index='platform', values='total_sales', aggfunc='sum')\\\n",
    ".sort_values(by='total_sales', ascending=False)\n",
    "platforma"
   ]
  },
  {
   "cell_type": "code",
   "execution_count": 60,
   "metadata": {},
   "outputs": [
    {
     "data": {
      "image/png": "[encoded data removed]",
      "text/plain": [
       "<Figure size 1080x648 with 1 Axes>"
      ]
     },
     "metadata": {
      "needs_background": "light"
     },
     "output_type": "display_data"
    }
   ],
   "source": [
    "platforma.plot(y='total_sales', kind='bar', figsize=(15, 9), ylabel='Общие продажи', xlabel='Платформы')\n",
    "plt.title(label = 'Продажи по платформам')\n",
    "plt.show()"
   ]
  },
  {
   "cell_type": "markdown",
   "metadata": {},
   "source": [
    "Выберем платформы с наибольшими суммарными продажами это PS2, X360, PS3, Wii, DS, PS. Для нас это приставки сони 2 и 3 поколения, а так же знаменитый икс-бокс 360 и виды нинденда"
   ]
  },
  {
   "cell_type": "code",
   "execution_count": 61,
   "metadata": {
    "scrolled": false
   },
   "outputs": [
    {
     "name": "stdout",
     "output_type": "stream",
     "text": [
      "PS2\n"
     ]
    },
    {
     "data": {
      "image/png": "[encoded data removed]",
      "text/plain": [
       "<Figure size 432x288 with 1 Axes>"
      ]
     },
     "metadata": {
      "needs_background": "light"
     },
     "output_type": "display_data"
    },
    {
     "name": "stdout",
     "output_type": "stream",
     "text": [
      "X360\n"
     ]
    },
    {
     "data": {
      "image/png": "[encoded data removed]",
      "text/plain": [
       "<Figure size 432x288 with 1 Axes>"
      ]
     },
     "metadata": {
      "needs_background": "light"
     },
     "output_type": "display_data"
    },
    {
     "name": "stdout",
     "output_type": "stream",
     "text": [
      "PS3\n"
     ]
    },
    {
     "data": {
      "image/png": "[encoded data removed]",
      "text/plain": [
       "<Figure size 432x288 with 1 Axes>"
      ]
     },
     "metadata": {
      "needs_background": "light"
     },
     "output_type": "display_data"
    },
    {
     "name": "stdout",
     "output_type": "stream",
     "text": [
      "Wii\n"
     ]
    },
    {
     "data": {
      "image/png": "[encoded data removed]",
      "text/plain": [
       "<Figure size 432x288 with 1 Axes>"
      ]
     },
     "metadata": {
      "needs_background": "light"
     },
     "output_type": "display_data"
    },
    {
     "name": "stdout",
     "output_type": "stream",
     "text": [
      "DS\n"
     ]
    },
    {
     "data": {
      "image/png": "[encoded data removed]",
      "text/plain": [
       "<Figure size 432x288 with 1 Axes>"
      ]
     },
     "metadata": {
      "needs_background": "light"
     },
     "output_type": "display_data"
    },
    {
     "name": "stdout",
     "output_type": "stream",
     "text": [
      "PS\n"
     ]
    },
    {
     "data": {
      "image/png": "[encoded data removed]",
      "text/plain": [
       "<Figure size 432x288 with 1 Axes>"
      ]
     },
     "metadata": {
      "needs_background": "light"
     },
     "output_type": "display_data"
    }
   ],
   "source": [
    "for platform in platforma.index[:6]:\n",
    "    print(platform)\n",
    "    (data\n",
    "     .query('platform == @platform')\n",
    "     .pivot_table(index='year_of_release', values='total_sales', aggfunc='sum')\n",
    "     .plot(kind='bar')\n",
    "    )\n",
    "    plt.show()\n",
    "   "
   ]
  },
  {
   "cell_type": "markdown",
   "metadata": {},
   "source": [
    "Разберем полученные графики:\n",
    "\n",
    "- PlayStation (PS): пик продаж для этой платформы приходится на 1998 год. Игры для этой платформы продавались в 1994-2003 годах.\n",
    "- PlayStation 2 (PS2): пик продаж для этой платформы приходится на 2004 год. Игры для этой платформы продавались в 2000-2011 годах.\n",
    "- Nintendo DS (DS): пик продаж для этой платформы приходится на 2007 год. Игры для этой платформы продавались в 2004-2013 годах.\n",
    "- Xbox 360 (X360): пик продаж для этой платформы приходится на 2010 год. Игры для этой платформы продавались в 2005-2016 годах.\n",
    "- Nintendo Wii (Wii): пик продаж для этой платформы приходится на 2009 год. Игры для этой платформы продавались в 2006-2016 годах.\n",
    "- PlayStation 3 (PS3): пик продаж для этой платформы приходится на 2011 год. Игры для этой платформы продавались в 2006-2016 годах.\n",
    "Новые платформы быстро набирают популярность, наращивают/удерживают ее в течение 3-4 лет и затем их продажи снижаются. \n",
    "При этом видно, что из представленных данных все платформы уже не являются актуальными. По каждой из рассмотренных платформ пик суммарных продаж достигался через 3-5 лет после их выхода. В среднем игры на одной платформе выпускались в течение 10 лет.\n",
    "\n",
    "Также видно, что на графике распределения суммарных продаж по годам для платформы DS имеется выброс, относящийся к 1985 году (сама консоль была выпущена в 2004 году)."
   ]
  },
  {
   "cell_type": "markdown",
   "metadata": {},
   "source": [
    "### Возьмем данные за соответствующий актуальный период. Основной фактор — эти данные помогут построить прогноз на 2017 год."
   ]
  },
  {
   "cell_type": "markdown",
   "metadata": {},
   "source": [
    "Для построения прогноза на 2017 год необходимо учитывать только данные за актуальный период. В предыдущем пункте мы пришли к выводу о том, что по многим причинам (в основном связанным с недостаточным развитием игровой индустрии на тот момент) данные, относящиеся к ранним периодам необходимо отброcить, и использовать в работе данные с 1998 по 2016 года.\n",
    "\n",
    "Также с учетом того, что время жизни платформы составляет примерно 10-11 лет, а пик суммарных продаж достигается примерно через 3-5 лет, еще немного урежем актуальный период и отберем данные от 2013 года."
   ]
  },
  {
   "cell_type": "code",
   "execution_count": 62,
   "metadata": {},
   "outputs": [],
   "source": [
    "# создаем таблицу с актуальными годами\n",
    "top_data = data.query('year_of_release > 2012')"
   ]
  },
  {
   "cell_type": "code",
   "execution_count": 63,
   "metadata": {},
   "outputs": [
    {
     "data": {
      "image/png": "[encoded data removed]",
      "text/plain": [
       "<Figure size 1080x648 with 1 Axes>"
      ]
     },
     "metadata": {
      "needs_background": "light"
     },
     "output_type": "display_data"
    }
   ],
   "source": [
    "# отберем самые популярные платформы\n",
    "top_platform = (\n",
    "    top_data\n",
    "    .pivot_table(index='platform', values='total_sales', aggfunc='sum')\n",
    "    .sort_values('total_sales', ascending=False)\n",
    ")\n",
    "plt.figure(figsize=(15, 9))\n",
    "(sns.barplot(data = top_platform, x = top_platform.index, y = 'total_sales', color='blue')\n",
    "    .set(title = 'Продажи по платформам за 2013-2016 гг', xlabel = 'Платформы', ylabel = 'Общие продажи'))\n",
    "plt.show()"
   ]
  },
  {
   "cell_type": "markdown",
   "metadata": {},
   "source": [
    "На графике видно, что платформы, показывающие успешные показатели по продажам, значительно отличаются от того графика, где представлены продажи платформ за все время. Если раньше лидером по продажам был PS2, то сейчас на лидирующей строчке оказалась PS4, а на втором месте находился XboxOne. PS4 и XboxOne являются привлекательнее остальных платформ."
   ]
  },
  {
   "cell_type": "code",
   "execution_count": 64,
   "metadata": {
    "scrolled": false
   },
   "outputs": [
    {
     "name": "stdout",
     "output_type": "stream",
     "text": [
      "PS4\n"
     ]
    },
    {
     "data": {
      "image/png": "[encoded data removed]",
      "text/plain": [
       "<Figure size 432x288 with 1 Axes>"
      ]
     },
     "metadata": {
      "needs_background": "light"
     },
     "output_type": "display_data"
    },
    {
     "name": "stdout",
     "output_type": "stream",
     "text": [
      "XOne\n"
     ]
    },
    {
     "data": {
      "image/png": "[encoded data removed]",
      "text/plain": [
       "<Figure size 432x288 with 1 Axes>"
      ]
     },
     "metadata": {
      "needs_background": "light"
     },
     "output_type": "display_data"
    },
    {
     "name": "stdout",
     "output_type": "stream",
     "text": [
      "PS3\n"
     ]
    },
    {
     "data": {
      "image/png": "[encoded data removed]",
      "text/plain": [
       "<Figure size 432x288 with 1 Axes>"
      ]
     },
     "metadata": {
      "needs_background": "light"
     },
     "output_type": "display_data"
    },
    {
     "name": "stdout",
     "output_type": "stream",
     "text": [
      "X360\n"
     ]
    },
    {
     "data": {
      "image/png": "[encoded data removed]",
      "text/plain": [
       "<Figure size 432x288 with 1 Axes>"
      ]
     },
     "metadata": {
      "needs_background": "light"
     },
     "output_type": "display_data"
    },
    {
     "name": "stdout",
     "output_type": "stream",
     "text": [
      "3DS\n"
     ]
    },
    {
     "data": {
      "image/png": "[encoded data removed]",
      "text/plain": [
       "<Figure size 432x288 with 1 Axes>"
      ]
     },
     "metadata": {
      "needs_background": "light"
     },
     "output_type": "display_data"
    },
    {
     "name": "stdout",
     "output_type": "stream",
     "text": [
      "WiiU\n"
     ]
    },
    {
     "data": {
      "image/png": "[encoded data removed]",
      "text/plain": [
       "<Figure size 432x288 with 1 Axes>"
      ]
     },
     "metadata": {
      "needs_background": "light"
     },
     "output_type": "display_data"
    },
    {
     "name": "stdout",
     "output_type": "stream",
     "text": [
      "PC\n"
     ]
    },
    {
     "data": {
      "image/png": "[encoded data removed]",
      "text/plain": [
       "<Figure size 432x288 with 1 Axes>"
      ]
     },
     "metadata": {
      "needs_background": "light"
     },
     "output_type": "display_data"
    },
    {
     "name": "stdout",
     "output_type": "stream",
     "text": [
      "PSV\n"
     ]
    },
    {
     "data": {
      "image/png": "[encoded data removed]",
      "text/plain": [
       "<Figure size 432x288 with 1 Axes>"
      ]
     },
     "metadata": {
      "needs_background": "light"
     },
     "output_type": "display_data"
    },
    {
     "name": "stdout",
     "output_type": "stream",
     "text": [
      "Wii\n"
     ]
    },
    {
     "data": {
      "image/png": "[encoded data removed]",
      "text/plain": [
       "<Figure size 432x288 with 1 Axes>"
      ]
     },
     "metadata": {
      "needs_background": "light"
     },
     "output_type": "display_data"
    },
    {
     "name": "stdout",
     "output_type": "stream",
     "text": [
      "DS\n"
     ]
    },
    {
     "data": {
      "image/png": "[encoded data removed]",
      "text/plain": [
       "<Figure size 432x288 with 1 Axes>"
      ]
     },
     "metadata": {
      "needs_background": "light"
     },
     "output_type": "display_data"
    },
    {
     "name": "stdout",
     "output_type": "stream",
     "text": [
      "PSP\n"
     ]
    },
    {
     "data": {
      "image/png": "[encoded data removed]",
      "text/plain": [
       "<Figure size 432x288 with 1 Axes>"
      ]
     },
     "metadata": {
      "needs_background": "light"
     },
     "output_type": "display_data"
    }
   ],
   "source": [
    "for platform in top_platform.index:\n",
    "    print(platform)\n",
    "    (data.query('platform == @platform')\n",
    "     .pivot_table(index='year_of_release', values='total_sales', aggfunc='sum')\n",
    "     .plot(kind='bar')\n",
    "    )\n",
    "    plt.show()"
   ]
  },
  {
   "cell_type": "markdown",
   "metadata": {},
   "source": [
    "Таким образом у нас имеются не все данные за 2016 год, немного сложно сказать о том, находятся ли сейчас продажи каких-либо игр на определенных платформах на пике или на спаде. Однако точно можно заметить, что некоторые платформы уже потеряли свою презентабельность, так как 3DS, PS3, X360, PC, Wii, PSP.\n",
    "Остальные же платформы более устойчева стоят. Потенциально прибыльные платформы:\n",
    "- PS4\n",
    "- XOne\n",
    "- PSV"
   ]
  },
  {
   "cell_type": "markdown",
   "metadata": {},
   "source": [
    "Дополнительно построим график «ящик с усами» по перспективным платформам котрые мы выбрали."
   ]
  },
  {
   "cell_type": "code",
   "execution_count": 65,
   "metadata": {},
   "outputs": [
    {
     "data": {
      "text/plain": [
       "(0.0, 3.0)"
      ]
     },
     "execution_count": 65,
     "metadata": {},
     "output_type": "execute_result"
    },
    {
     "data": {
      "image/png": "[encoded data removed]",
      "text/plain": [
       "<Figure size 864x360 with 1 Axes>"
      ]
     },
     "metadata": {
      "needs_background": "light"
     },
     "output_type": "display_data"
    }
   ],
   "source": [
    "top_platform = top_data[(top_data['platform'] == 'PS4') | (top_data['platform'] == 'XOne') | (top_data['platform'] == 'PSV')]\n",
    "\n",
    "plt.figure(figsize=(12,5))\n",
    "sns.boxplot(x = top_platform['platform'], y = top_platform['total_sales'])\n",
    "plt.title('Диаграмма размаха для самых перспективных платформ')\n",
    "plt.ylim(0, 3)"
   ]
  },
  {
   "cell_type": "markdown",
   "metadata": {},
   "source": [
    "Распределения для PS4 и XOne похожи, медианы находятся практически на одном уровне, размах \"усов\" тоже практически совпадает. Для PSV медиана чуть меньше, как и размах \"усов\".\n",
    "\n",
    "Исходя из этого, можно сделать вывод о том, что для планирования рекламной кампании на 2017, стоит выбрать платформы PS4 или XOne."
   ]
  },
  {
   "cell_type": "code",
   "execution_count": 83,
   "metadata": {},
   "outputs": [
    {
     "data": {
      "image/png": "[encoded data removed]",
      "text/plain": [
       "<Figure size 1080x648 with 1 Axes>"
      ]
     },
     "metadata": {
      "needs_background": "light"
     },
     "output_type": "display_data"
    }
   ],
   "source": [
    "# построим \"ящики с усами\" для всех остальных платформ\n",
    "plt.figure(figsize=(15, 9))\n",
    "(sns.boxplot(data = top_data, y = 'total_sales', x='platform')\n",
    "    .set(title = 'Продажи по перспективным платформам за 2013-2016 гг', \n",
    "         xlabel = 'Платформы', \n",
    "         ylabel = 'Общие продажи'))\n",
    "plt.show()       "
   ]
  },
  {
   "cell_type": "code",
   "execution_count": 67,
   "metadata": {},
   "outputs": [
    {
     "data": {
      "image/png": "[encoded data removed]",
      "text/plain": [
       "<Figure size 1080x648 with 1 Axes>"
      ]
     },
     "metadata": {
      "needs_background": "light"
     },
     "output_type": "display_data"
    }
   ],
   "source": [
    "plt.figure(figsize=(15, 9))\n",
    "(sns.boxplot(data = top_data, y = 'total_sales', x='platform')\n",
    "    .set(title = 'Продажи по перспективным платформам за 2013-2016 гг', \n",
    "         xlabel = 'Платформы', \n",
    "         ylabel = 'Общие продажи',\n",
    "         ylim=(0, 0.85)))\n",
    "plt.show()"
   ]
  },
  {
   "cell_type": "code",
   "execution_count": 78,
   "metadata": {},
   "outputs": [
    {
     "data": {
      "text/html": [
       "<div>\n",
       "<style scoped>\n",
       "    .dataframe tbody tr th:only-of-type {\n",
       "        vertical-align: middle;\n",
       "    }\n",
       "\n",
       "    .dataframe tbody tr th {\n",
       "        vertical-align: top;\n",
       "    }\n",
       "\n",
       "    .dataframe thead th {\n",
       "        text-align: right;\n",
       "    }\n",
       "</style>\n",
       "<table border=\"1\" class=\"dataframe\">\n",
       "  <thead>\n",
       "    <tr style=\"text-align: right;\">\n",
       "      <th></th>\n",
       "      <th>year_of_release</th>\n",
       "      <th>na_sales</th>\n",
       "      <th>eu_sales</th>\n",
       "      <th>jp_sales</th>\n",
       "      <th>other_sales</th>\n",
       "      <th>critic_score</th>\n",
       "      <th>user_score</th>\n",
       "      <th>total_sales</th>\n",
       "    </tr>\n",
       "  </thead>\n",
       "  <tbody>\n",
       "    <tr>\n",
       "      <th>count</th>\n",
       "      <td>2233.000000</td>\n",
       "      <td>2233.000000</td>\n",
       "      <td>2233.000000</td>\n",
       "      <td>2233.000000</td>\n",
       "      <td>2233.000000</td>\n",
       "      <td>991.000000</td>\n",
       "      <td>1192.000000</td>\n",
       "      <td>2233.000000</td>\n",
       "    </tr>\n",
       "    <tr>\n",
       "      <th>mean</th>\n",
       "      <td>2014.477385</td>\n",
       "      <td>0.196019</td>\n",
       "      <td>0.175652</td>\n",
       "      <td>0.063045</td>\n",
       "      <td>0.053726</td>\n",
       "      <td>72.023209</td>\n",
       "      <td>6.584564</td>\n",
       "      <td>0.425396</td>\n",
       "    </tr>\n",
       "    <tr>\n",
       "      <th>std</th>\n",
       "      <td>1.089439</td>\n",
       "      <td>0.547730</td>\n",
       "      <td>0.512451</td>\n",
       "      <td>0.233997</td>\n",
       "      <td>0.165693</td>\n",
       "      <td>12.841318</td>\n",
       "      <td>1.610413</td>\n",
       "      <td>1.153007</td>\n",
       "    </tr>\n",
       "    <tr>\n",
       "      <th>min</th>\n",
       "      <td>2013.000000</td>\n",
       "      <td>0.000000</td>\n",
       "      <td>0.000000</td>\n",
       "      <td>0.000000</td>\n",
       "      <td>0.000000</td>\n",
       "      <td>13.000000</td>\n",
       "      <td>0.200000</td>\n",
       "      <td>0.000000</td>\n",
       "    </tr>\n",
       "    <tr>\n",
       "      <th>25%</th>\n",
       "      <td>2014.000000</td>\n",
       "      <td>0.000000</td>\n",
       "      <td>0.000000</td>\n",
       "      <td>0.000000</td>\n",
       "      <td>0.000000</td>\n",
       "      <td>66.000000</td>\n",
       "      <td>5.800000</td>\n",
       "      <td>0.000000</td>\n",
       "    </tr>\n",
       "    <tr>\n",
       "      <th>50%</th>\n",
       "      <td>2014.000000</td>\n",
       "      <td>0.020000</td>\n",
       "      <td>0.030000</td>\n",
       "      <td>0.010000</td>\n",
       "      <td>0.010000</td>\n",
       "      <td>74.000000</td>\n",
       "      <td>7.000000</td>\n",
       "      <td>0.070000</td>\n",
       "    </tr>\n",
       "    <tr>\n",
       "      <th>75%</th>\n",
       "      <td>2015.000000</td>\n",
       "      <td>0.150000</td>\n",
       "      <td>0.130000</td>\n",
       "      <td>0.050000</td>\n",
       "      <td>0.040000</td>\n",
       "      <td>81.000000</td>\n",
       "      <td>7.800000</td>\n",
       "      <td>0.350000</td>\n",
       "    </tr>\n",
       "    <tr>\n",
       "      <th>max</th>\n",
       "      <td>2016.000000</td>\n",
       "      <td>9.660000</td>\n",
       "      <td>9.090000</td>\n",
       "      <td>4.350000</td>\n",
       "      <td>3.960000</td>\n",
       "      <td>97.000000</td>\n",
       "      <td>9.300000</td>\n",
       "      <td>20.070000</td>\n",
       "    </tr>\n",
       "  </tbody>\n",
       "</table>\n",
       "</div>"
      ],
      "text/plain": [
       "       year_of_release     na_sales     eu_sales     jp_sales  other_sales  \\\n",
       "count      2233.000000  2233.000000  2233.000000  2233.000000  2233.000000   \n",
       "mean       2014.477385     0.196019     0.175652     0.063045     0.053726   \n",
       "std           1.089439     0.547730     0.512451     0.233997     0.165693   \n",
       "min        2013.000000     0.000000     0.000000     0.000000     0.000000   \n",
       "25%        2014.000000     0.000000     0.000000     0.000000     0.000000   \n",
       "50%        2014.000000     0.020000     0.030000     0.010000     0.010000   \n",
       "75%        2015.000000     0.150000     0.130000     0.050000     0.040000   \n",
       "max        2016.000000     9.660000     9.090000     4.350000     3.960000   \n",
       "\n",
       "       critic_score   user_score  total_sales  \n",
       "count    991.000000  1192.000000  2233.000000  \n",
       "mean      72.023209     6.584564     0.425396  \n",
       "std       12.841318     1.610413     1.153007  \n",
       "min       13.000000     0.200000     0.000000  \n",
       "25%       66.000000     5.800000     0.000000  \n",
       "50%       74.000000     7.000000     0.070000  \n",
       "75%       81.000000     7.800000     0.350000  \n",
       "max       97.000000     9.300000    20.070000  "
      ]
     },
     "execution_count": 78,
     "metadata": {},
     "output_type": "execute_result"
    }
   ],
   "source": [
    "top_data.describe()"
   ]
  },
  {
   "cell_type": "markdown",
   "metadata": {},
   "source": [
    "Вывод\n",
    "\n",
    "На данном графике видно, что распределение продаж среди платформ примерно одинаковое и медиана продаж находится на примерно одном уровне (0,2 миллиона проданных копий). Также можно отметить значения, выходящие за пределы 3 квартиля, доходящие почти до 15 млн проданных копий. Поэтому не стоит отбрасывать те значения, что находятся за верхним усом ящика, так как это самые продаваемые игры. Данные платформы отлично подходят для дальнейших перспектив."
   ]
  },
  {
   "cell_type": "markdown",
   "metadata": {},
   "source": [
    "### Посмотрим, как влияют на продажи внутри одной популярной платформы отзывы пользователей и критиков. \n",
    "\n",
    "Необходимо понимать, как объемы продаж и отзывы пользователей и критиков зависят друг от друга. Для начала построим диграмму рассеяния для платформы Xbox One"
   ]
  },
  {
   "cell_type": "code",
   "execution_count": 69,
   "metadata": {},
   "outputs": [
    {
     "data": {
      "image/png": "[encoded data removed]",
      "text/plain": [
       "<Figure size 432x288 with 1 Axes>"
      ]
     },
     "metadata": {
      "needs_background": "light"
     },
     "output_type": "display_data"
    },
    {
     "name": "stdout",
     "output_type": "stream",
     "text": [
      "Коэфициент корреляции продаж и оценки критиков: 0.53\n"
     ]
    }
   ],
   "source": [
    "top_data.query('platform == \"XOne\"').plot(x='critic_score', y='total_sales', kind='scatter', alpha=0.8, grid = True)\n",
    "plt.title(r'Диаграмма рассеяния для суммарных продаж и отзывов критиков')\n",
    "plt.show()  \n",
    "\n",
    "print('Коэфициент корреляции продаж и оценки критиков:', \"{:.2f}\".format(top_data.query('platform == \"XOne\"')['total_sales'].corr(top_data.query('platform == \"XOne\"')['critic_score'], method='spearman')))"
   ]
  },
  {
   "cell_type": "markdown",
   "metadata": {},
   "source": [
    "На диаграмме прослеживается меньшее количество выбросов и видна более четкая связь между оценками критиков и суммарными продажами игр для рассматриваемой платформы.\n",
    "\n",
    "\n",
    "Коэфициент корреляции между суммарными продажами и оценками критиков имеется положительная взаимосвязь - продажи растут с увеличением оценки критиков."
   ]
  },
  {
   "cell_type": "code",
   "execution_count": 70,
   "metadata": {},
   "outputs": [
    {
     "data": {
      "image/png": "[encoded data removed]",
      "text/plain": [
       "<Figure size 432x288 with 1 Axes>"
      ]
     },
     "metadata": {
      "needs_background": "light"
     },
     "output_type": "display_data"
    },
    {
     "name": "stdout",
     "output_type": "stream",
     "text": [
      "Коэфициент корреляции продаж и оценки пользователей: -0.10\n"
     ]
    }
   ],
   "source": [
    "top_data.query('platform == \"XOne\"').plot(x='user_score', y='total_sales', kind='scatter', alpha=0.7, grid = True)\n",
    "plt.title(r'Диаграмма рассеяния для суммарных продаж и отзывов пользователей')\n",
    "plt.show() \n",
    "\n",
    "print('Коэфициент корреляции продаж и оценки пользователей:', \"{:.2f}\".format(top_data.query('platform == \"XOne\"')['total_sales'].corr(top_data.query('platform == \"XOne\"')['user_score'], method='spearman')))"
   ]
  },
  {
   "cell_type": "markdown",
   "metadata": {},
   "source": [
    "На диаграмме видно, что между объемами продаж и отзывами пользователей прослеживается очень слабая связь - с ростом продаж пользовательские оценки незначительно увеличиваются.\n",
    "\n",
    "Коэфициент корреляции между продажами и оценками пользователей отсутсвует."
   ]
  },
  {
   "cell_type": "markdown",
   "metadata": {},
   "source": [
    "Оценим взаимосвязи для двух других популярных платформ."
   ]
  },
  {
   "cell_type": "code",
   "execution_count": 71,
   "metadata": {},
   "outputs": [
    {
     "data": {
      "image/png": "[encoded data removed]",
      "text/plain": [
       "<Figure size 432x288 with 1 Axes>"
      ]
     },
     "metadata": {
      "needs_background": "light"
     },
     "output_type": "display_data"
    },
    {
     "data": {
      "image/png": "[encoded data removed]",
      "text/plain": [
       "<Figure size 432x288 with 1 Axes>"
      ]
     },
     "metadata": {
      "needs_background": "light"
     },
     "output_type": "display_data"
    },
    {
     "name": "stdout",
     "output_type": "stream",
     "text": [
      "PS4 - коэфициент корреляции продаж и оценки критиков: 0.49\n",
      "PS4 - коэфициент корреляции продаж и оценки пользователей: -0.06 \n",
      "\n"
     ]
    },
    {
     "data": {
      "image/png": "[encoded data removed]",
      "text/plain": [
       "<Figure size 432x288 with 1 Axes>"
      ]
     },
     "metadata": {
      "needs_background": "light"
     },
     "output_type": "display_data"
    },
    {
     "data": {
      "image/png": "[encoded data removed]",
      "text/plain": [
       "<Figure size 432x288 with 1 Axes>"
      ]
     },
     "metadata": {
      "needs_background": "light"
     },
     "output_type": "display_data"
    },
    {
     "name": "stdout",
     "output_type": "stream",
     "text": [
      "PSV - коэфициент корреляции продаж и оценки критиков: 0.24\n",
      "PSV - коэфициент корреляции продаж и оценки пользователей: -0.04 \n",
      "\n"
     ]
    }
   ],
   "source": [
    "for gg in ['PS4', 'PSV']:\n",
    "    top_data[top_data[\"platform\"] == gg].plot(x='critic_score', y='total_sales', kind='scatter', alpha=0.7, grid = True)\n",
    "    plt.title(gg)\n",
    "    plt.show() \n",
    "    \n",
    "    top_data[top_data[\"platform\"] == gg].plot(x='user_score', y='total_sales', kind='scatter', alpha=0.7, grid = True)\n",
    "    plt.title(gg)\n",
    "    plt.show() \n",
    "    \n",
    "    print(gg, '- коэфициент корреляции продаж и оценки критиков:', \"{:.2f}\".format(top_data[top_data[\"platform\"] == gg]['total_sales'].corr(top_data[top_data[\"platform\"] == gg]['critic_score'], method='spearman')))\n",
    "    print(gg, '- коэфициент корреляции продаж и оценки пользователей:', \"{:.2f}\".format(top_data[top_data[\"platform\"] == gg]['total_sales'].corr(top_data[top_data[\"platform\"] == gg]['user_score'], method='spearman')), '\\n')\n"
   ]
  },
  {
   "cell_type": "markdown",
   "metadata": {},
   "source": [
    "На диаграммах видно, что действительно объем суммарных продаж растет с увеличением оценок критиков, но связь нельзя назвать сильной. Между объемами продаж и оценками пользователей связь отстуствует, что можно объяснить тем, что пользовательские оценки могут быть достаточно субъективными по сравнению с оценками критиков."
   ]
  },
  {
   "cell_type": "markdown",
   "metadata": {},
   "source": [
    "### Посмотрим на общее распределение игр по жанрам.\n",
    "\n",
    "Для начала выведем сводную таблицу с информацией о суммарных продажах игр, их количестве для каждого жанра и медианные продажи игр."
   ]
  },
  {
   "cell_type": "code",
   "execution_count": 72,
   "metadata": {},
   "outputs": [
    {
     "data": {
      "text/html": [
       "<div>\n",
       "<style scoped>\n",
       "    .dataframe tbody tr th:only-of-type {\n",
       "        vertical-align: middle;\n",
       "    }\n",
       "\n",
       "    .dataframe tbody tr th {\n",
       "        vertical-align: top;\n",
       "    }\n",
       "\n",
       "    .dataframe thead th {\n",
       "        text-align: right;\n",
       "    }\n",
       "</style>\n",
       "<table border=\"1\" class=\"dataframe\">\n",
       "  <thead>\n",
       "    <tr style=\"text-align: right;\">\n",
       "      <th></th>\n",
       "      <th>count</th>\n",
       "      <th>median</th>\n",
       "      <th>sum</th>\n",
       "    </tr>\n",
       "    <tr>\n",
       "      <th>genre</th>\n",
       "      <th></th>\n",
       "      <th></th>\n",
       "      <th></th>\n",
       "    </tr>\n",
       "  </thead>\n",
       "  <tbody>\n",
       "    <tr>\n",
       "      <th>Shooter</th>\n",
       "      <td>187</td>\n",
       "      <td>0.45</td>\n",
       "      <td>226.37</td>\n",
       "    </tr>\n",
       "    <tr>\n",
       "      <th>Sports</th>\n",
       "      <td>214</td>\n",
       "      <td>0.22</td>\n",
       "      <td>145.24</td>\n",
       "    </tr>\n",
       "    <tr>\n",
       "      <th>Platform</th>\n",
       "      <td>74</td>\n",
       "      <td>0.19</td>\n",
       "      <td>37.84</td>\n",
       "    </tr>\n",
       "    <tr>\n",
       "      <th>Racing</th>\n",
       "      <td>85</td>\n",
       "      <td>0.12</td>\n",
       "      <td>37.59</td>\n",
       "    </tr>\n",
       "    <tr>\n",
       "      <th>Fighting</th>\n",
       "      <td>80</td>\n",
       "      <td>0.08</td>\n",
       "      <td>27.66</td>\n",
       "    </tr>\n",
       "    <tr>\n",
       "      <th>Simulation</th>\n",
       "      <td>62</td>\n",
       "      <td>0.07</td>\n",
       "      <td>17.24</td>\n",
       "    </tr>\n",
       "    <tr>\n",
       "      <th>Action</th>\n",
       "      <td>766</td>\n",
       "      <td>0.05</td>\n",
       "      <td>281.38</td>\n",
       "    </tr>\n",
       "    <tr>\n",
       "      <th>Role-Playing</th>\n",
       "      <td>292</td>\n",
       "      <td>0.04</td>\n",
       "      <td>94.85</td>\n",
       "    </tr>\n",
       "    <tr>\n",
       "      <th>Strategy</th>\n",
       "      <td>56</td>\n",
       "      <td>0.04</td>\n",
       "      <td>8.31</td>\n",
       "    </tr>\n",
       "    <tr>\n",
       "      <th>Misc</th>\n",
       "      <td>155</td>\n",
       "      <td>0.03</td>\n",
       "      <td>53.62</td>\n",
       "    </tr>\n",
       "    <tr>\n",
       "      <th>Puzzle</th>\n",
       "      <td>17</td>\n",
       "      <td>0.01</td>\n",
       "      <td>1.99</td>\n",
       "    </tr>\n",
       "    <tr>\n",
       "      <th>Adventure</th>\n",
       "      <td>245</td>\n",
       "      <td>0.00</td>\n",
       "      <td>17.82</td>\n",
       "    </tr>\n",
       "  </tbody>\n",
       "</table>\n",
       "</div>"
      ],
      "text/plain": [
       "              count  median     sum\n",
       "genre                              \n",
       "Shooter         187    0.45  226.37\n",
       "Sports          214    0.22  145.24\n",
       "Platform         74    0.19   37.84\n",
       "Racing           85    0.12   37.59\n",
       "Fighting         80    0.08   27.66\n",
       "Simulation       62    0.07   17.24\n",
       "Action          766    0.05  281.38\n",
       "Role-Playing    292    0.04   94.85\n",
       "Strategy         56    0.04    8.31\n",
       "Misc            155    0.03   53.62\n",
       "Puzzle           17    0.01    1.99\n",
       "Adventure       245    0.00   17.82"
      ]
     },
     "execution_count": 72,
     "metadata": {},
     "output_type": "execute_result"
    }
   ],
   "source": [
    "top_data.pivot_table(index = 'genre', values = 'total_sales',aggfunc = {'sum','count','median'}).sort_values(by='median', ascending=False)"
   ]
  },
  {
   "cell_type": "markdown",
   "metadata": {},
   "source": [
    "Самые прибыльные жанры - экшен-игры(Role-Playing), шутеры (Shooter) и спортивные симуляторы(Sports). Наименьшей прибыльностью отличаются головоломки, стратегии и симуляторы.\n",
    "\n",
    "Больше всего выпускается игр в таких жанрах, как экшен, РПГ и квесты, меньше всего выходит симуляторов, стратегий и головоломок(Strategy, Puzzle, Adventure).\n",
    "\n",
    "Если же рассматривать медианные значения продаж, в топ-3 попали такие жанры, как шутеры, спортивные симуляторы и платформеры, в антитоп - стратегии, головоломки и квесты."
   ]
  },
  {
   "cell_type": "markdown",
   "metadata": {},
   "source": [
    "Вывод\n",
    "\n",
    "В ходе проведение анализа данных было получено следующее:\n",
    "\n",
    "Рост числа выпускаемых игр начиная с 1980 года объясняется различным уровнем технологического развития, различной доступностью ПК, игровых консолей, приставок и т.д., появлением новых жанров игр, а также различным уровнем популярности игр в целом. К 2008 году количество выпускаемых игр достигло максимального значения - 1427, затем оно пошло на спад, и к 2015 году количество игр было уже более, чем в 2 раза меньше, по сравнению с 2008 годом.\n",
    "\n",
    "Было определено, что ближе к 2006 году новые платформы начали появляться примерно раз в год. Пик суммарных продаж достигался через 3-5 лет после их выхода. В среднем игры на одной платформе выпускались в течение 10 лет.\n",
    "\n",
    "Для построения прогноза на 2017 год необходимо учитывать только данные за актуальный период. По причине низкого развития игровой индустрии в ранние годы и с учетом среднего \"времени жизни\" платформы (10-11 лет) было решено рассматривать период от 2006 до 2016 года.\n",
    "\n",
    "Были выделены 3 потенциально прибыльные платформы: PlayStation 4, Xbox One и PlayStation Vita.\n",
    "\n",
    "Оценили, харктер влияния оценок критиков и пользователей на продажи игр. Получили, что объем суммарных продаж растет с увеличением оценок критиков, но связь нельзя назвать сильной. Между объемами продаж и оценками пользователей связь отстуствует, что можно объяснить тем, что пользовательские оценки могут быть достаточно субъективными по сравнению с оценками критиков.\n",
    "\n",
    "Были выделены самые прибыльные жанры - экшен-игры, шутеры и спортивные симуляторы. Максимальные медианные значения продаж игр в разбивке по жанрам соответствуют шутерам, спортивным симуляторам и платформерам. А больше всего выпускается экшен-игр,РПГ и квестов."
   ]
  },
  {
   "cell_type": "markdown",
   "metadata": {},
   "source": [
    "## Составим портрет пользователя каждого региона\n",
    "\n",
    "Определим для пользователя каждого региона (NA, EU, JP):\n",
    "\n",
    "- Самые популярные платформы (топ-5). \n",
    "- Самые популярные жанры (топ-5). \n",
    "- Влияет ли рейтинг ESRB на продажи в отдельном регионе?"
   ]
  },
  {
   "cell_type": "code",
   "execution_count": 73,
   "metadata": {},
   "outputs": [
    {
     "data": {
      "text/html": [
       "<div>\n",
       "<style scoped>\n",
       "    .dataframe tbody tr th:only-of-type {\n",
       "        vertical-align: middle;\n",
       "    }\n",
       "\n",
       "    .dataframe tbody tr th {\n",
       "        vertical-align: top;\n",
       "    }\n",
       "\n",
       "    .dataframe thead th {\n",
       "        text-align: right;\n",
       "    }\n",
       "</style>\n",
       "<table border=\"1\" class=\"dataframe\">\n",
       "  <thead>\n",
       "    <tr style=\"text-align: right;\">\n",
       "      <th></th>\n",
       "      <th>na_sales</th>\n",
       "    </tr>\n",
       "    <tr>\n",
       "      <th>platform</th>\n",
       "      <th></th>\n",
       "    </tr>\n",
       "  </thead>\n",
       "  <tbody>\n",
       "    <tr>\n",
       "      <th>PS4</th>\n",
       "      <td>108.74</td>\n",
       "    </tr>\n",
       "    <tr>\n",
       "      <th>XOne</th>\n",
       "      <td>93.12</td>\n",
       "    </tr>\n",
       "    <tr>\n",
       "      <th>X360</th>\n",
       "      <td>81.66</td>\n",
       "    </tr>\n",
       "    <tr>\n",
       "      <th>PS3</th>\n",
       "      <td>63.50</td>\n",
       "    </tr>\n",
       "    <tr>\n",
       "      <th>3DS</th>\n",
       "      <td>38.20</td>\n",
       "    </tr>\n",
       "  </tbody>\n",
       "</table>\n",
       "</div>"
      ],
      "text/plain": [
       "          na_sales\n",
       "platform          \n",
       "PS4         108.74\n",
       "XOne         93.12\n",
       "X360         81.66\n",
       "PS3          63.50\n",
       "3DS          38.20"
      ]
     },
     "metadata": {},
     "output_type": "display_data"
    },
    {
     "data": {
      "text/html": [
       "<div>\n",
       "<style scoped>\n",
       "    .dataframe tbody tr th:only-of-type {\n",
       "        vertical-align: middle;\n",
       "    }\n",
       "\n",
       "    .dataframe tbody tr th {\n",
       "        vertical-align: top;\n",
       "    }\n",
       "\n",
       "    .dataframe thead th {\n",
       "        text-align: right;\n",
       "    }\n",
       "</style>\n",
       "<table border=\"1\" class=\"dataframe\">\n",
       "  <thead>\n",
       "    <tr style=\"text-align: right;\">\n",
       "      <th></th>\n",
       "      <th>eu_sales</th>\n",
       "    </tr>\n",
       "    <tr>\n",
       "      <th>platform</th>\n",
       "      <th></th>\n",
       "    </tr>\n",
       "  </thead>\n",
       "  <tbody>\n",
       "    <tr>\n",
       "      <th>PS4</th>\n",
       "      <td>141.09</td>\n",
       "    </tr>\n",
       "    <tr>\n",
       "      <th>PS3</th>\n",
       "      <td>67.81</td>\n",
       "    </tr>\n",
       "    <tr>\n",
       "      <th>XOne</th>\n",
       "      <td>51.59</td>\n",
       "    </tr>\n",
       "    <tr>\n",
       "      <th>X360</th>\n",
       "      <td>42.52</td>\n",
       "    </tr>\n",
       "    <tr>\n",
       "      <th>3DS</th>\n",
       "      <td>30.96</td>\n",
       "    </tr>\n",
       "  </tbody>\n",
       "</table>\n",
       "</div>"
      ],
      "text/plain": [
       "          eu_sales\n",
       "platform          \n",
       "PS4         141.09\n",
       "PS3          67.81\n",
       "XOne         51.59\n",
       "X360         42.52\n",
       "3DS          30.96"
      ]
     },
     "metadata": {},
     "output_type": "display_data"
    },
    {
     "data": {
      "text/html": [
       "<div>\n",
       "<style scoped>\n",
       "    .dataframe tbody tr th:only-of-type {\n",
       "        vertical-align: middle;\n",
       "    }\n",
       "\n",
       "    .dataframe tbody tr th {\n",
       "        vertical-align: top;\n",
       "    }\n",
       "\n",
       "    .dataframe thead th {\n",
       "        text-align: right;\n",
       "    }\n",
       "</style>\n",
       "<table border=\"1\" class=\"dataframe\">\n",
       "  <thead>\n",
       "    <tr style=\"text-align: right;\">\n",
       "      <th></th>\n",
       "      <th>jp_sales</th>\n",
       "    </tr>\n",
       "    <tr>\n",
       "      <th>platform</th>\n",
       "      <th></th>\n",
       "    </tr>\n",
       "  </thead>\n",
       "  <tbody>\n",
       "    <tr>\n",
       "      <th>3DS</th>\n",
       "      <td>67.81</td>\n",
       "    </tr>\n",
       "    <tr>\n",
       "      <th>PS3</th>\n",
       "      <td>23.35</td>\n",
       "    </tr>\n",
       "    <tr>\n",
       "      <th>PSV</th>\n",
       "      <td>18.59</td>\n",
       "    </tr>\n",
       "    <tr>\n",
       "      <th>PS4</th>\n",
       "      <td>15.96</td>\n",
       "    </tr>\n",
       "    <tr>\n",
       "      <th>WiiU</th>\n",
       "      <td>10.88</td>\n",
       "    </tr>\n",
       "  </tbody>\n",
       "</table>\n",
       "</div>"
      ],
      "text/plain": [
       "          jp_sales\n",
       "platform          \n",
       "3DS          67.81\n",
       "PS3          23.35\n",
       "PSV          18.59\n",
       "PS4          15.96\n",
       "WiiU         10.88"
      ]
     },
     "metadata": {},
     "output_type": "display_data"
    }
   ],
   "source": [
    "# топ-5 популярных платформ в каждом регионе\n",
    "region = ['na_sales', 'eu_sales', 'jp_sales']\n",
    "for gg in region:\n",
    "    display((top_data.pivot_table(index = 'platform', values = gg , aggfunc = 'sum')).sort_values(by = gg, ascending = False).head())"
   ]
  },
  {
   "cell_type": "markdown",
   "metadata": {},
   "source": [
    "Получаем рейтинг платформ для каждого региона:\n",
    "\n",
    "- Северная Америка: PlayStation 4, Xbox One, Xbox 360, PlayStation 3, Nintendo 3DS.\n",
    "- Европа: PlayStation 4, PlayStation 3, Xbox One, Xbox 360, Nintendo 3DS.\n",
    "- Япония: Nintendo 3DS, PlayStation 3, PlayStation Vita, PlayStation 4, Nintendo WiiU."
   ]
  },
  {
   "cell_type": "code",
   "execution_count": 74,
   "metadata": {},
   "outputs": [
    {
     "data": {
      "text/html": [
       "<div>\n",
       "<style scoped>\n",
       "    .dataframe tbody tr th:only-of-type {\n",
       "        vertical-align: middle;\n",
       "    }\n",
       "\n",
       "    .dataframe tbody tr th {\n",
       "        vertical-align: top;\n",
       "    }\n",
       "\n",
       "    .dataframe thead th {\n",
       "        text-align: right;\n",
       "    }\n",
       "</style>\n",
       "<table border=\"1\" class=\"dataframe\">\n",
       "  <thead>\n",
       "    <tr style=\"text-align: right;\">\n",
       "      <th></th>\n",
       "      <th>na_sales</th>\n",
       "    </tr>\n",
       "    <tr>\n",
       "      <th>genre</th>\n",
       "      <th></th>\n",
       "    </tr>\n",
       "  </thead>\n",
       "  <tbody>\n",
       "    <tr>\n",
       "      <th>Action</th>\n",
       "      <td>126.05</td>\n",
       "    </tr>\n",
       "    <tr>\n",
       "      <th>Shooter</th>\n",
       "      <td>109.74</td>\n",
       "    </tr>\n",
       "    <tr>\n",
       "      <th>Sports</th>\n",
       "      <td>65.27</td>\n",
       "    </tr>\n",
       "    <tr>\n",
       "      <th>Role-Playing</th>\n",
       "      <td>46.40</td>\n",
       "    </tr>\n",
       "    <tr>\n",
       "      <th>Misc</th>\n",
       "      <td>27.49</td>\n",
       "    </tr>\n",
       "  </tbody>\n",
       "</table>\n",
       "</div>"
      ],
      "text/plain": [
       "              na_sales\n",
       "genre                 \n",
       "Action          126.05\n",
       "Shooter         109.74\n",
       "Sports           65.27\n",
       "Role-Playing     46.40\n",
       "Misc             27.49"
      ]
     },
     "metadata": {},
     "output_type": "display_data"
    },
    {
     "data": {
      "text/html": [
       "<div>\n",
       "<style scoped>\n",
       "    .dataframe tbody tr th:only-of-type {\n",
       "        vertical-align: middle;\n",
       "    }\n",
       "\n",
       "    .dataframe tbody tr th {\n",
       "        vertical-align: top;\n",
       "    }\n",
       "\n",
       "    .dataframe thead th {\n",
       "        text-align: right;\n",
       "    }\n",
       "</style>\n",
       "<table border=\"1\" class=\"dataframe\">\n",
       "  <thead>\n",
       "    <tr style=\"text-align: right;\">\n",
       "      <th></th>\n",
       "      <th>eu_sales</th>\n",
       "    </tr>\n",
       "    <tr>\n",
       "      <th>genre</th>\n",
       "      <th></th>\n",
       "    </tr>\n",
       "  </thead>\n",
       "  <tbody>\n",
       "    <tr>\n",
       "      <th>Action</th>\n",
       "      <td>118.13</td>\n",
       "    </tr>\n",
       "    <tr>\n",
       "      <th>Shooter</th>\n",
       "      <td>87.86</td>\n",
       "    </tr>\n",
       "    <tr>\n",
       "      <th>Sports</th>\n",
       "      <td>60.52</td>\n",
       "    </tr>\n",
       "    <tr>\n",
       "      <th>Role-Playing</th>\n",
       "      <td>36.97</td>\n",
       "    </tr>\n",
       "    <tr>\n",
       "      <th>Racing</th>\n",
       "      <td>20.19</td>\n",
       "    </tr>\n",
       "  </tbody>\n",
       "</table>\n",
       "</div>"
      ],
      "text/plain": [
       "              eu_sales\n",
       "genre                 \n",
       "Action          118.13\n",
       "Shooter          87.86\n",
       "Sports           60.52\n",
       "Role-Playing     36.97\n",
       "Racing           20.19"
      ]
     },
     "metadata": {},
     "output_type": "display_data"
    },
    {
     "data": {
      "text/html": [
       "<div>\n",
       "<style scoped>\n",
       "    .dataframe tbody tr th:only-of-type {\n",
       "        vertical-align: middle;\n",
       "    }\n",
       "\n",
       "    .dataframe tbody tr th {\n",
       "        vertical-align: top;\n",
       "    }\n",
       "\n",
       "    .dataframe thead th {\n",
       "        text-align: right;\n",
       "    }\n",
       "</style>\n",
       "<table border=\"1\" class=\"dataframe\">\n",
       "  <thead>\n",
       "    <tr style=\"text-align: right;\">\n",
       "      <th></th>\n",
       "      <th>jp_sales</th>\n",
       "    </tr>\n",
       "    <tr>\n",
       "      <th>genre</th>\n",
       "      <th></th>\n",
       "    </tr>\n",
       "  </thead>\n",
       "  <tbody>\n",
       "    <tr>\n",
       "      <th>Role-Playing</th>\n",
       "      <td>51.04</td>\n",
       "    </tr>\n",
       "    <tr>\n",
       "      <th>Action</th>\n",
       "      <td>40.49</td>\n",
       "    </tr>\n",
       "    <tr>\n",
       "      <th>Misc</th>\n",
       "      <td>9.20</td>\n",
       "    </tr>\n",
       "    <tr>\n",
       "      <th>Fighting</th>\n",
       "      <td>7.65</td>\n",
       "    </tr>\n",
       "    <tr>\n",
       "      <th>Shooter</th>\n",
       "      <td>6.61</td>\n",
       "    </tr>\n",
       "  </tbody>\n",
       "</table>\n",
       "</div>"
      ],
      "text/plain": [
       "              jp_sales\n",
       "genre                 \n",
       "Role-Playing     51.04\n",
       "Action           40.49\n",
       "Misc              9.20\n",
       "Fighting          7.65\n",
       "Shooter           6.61"
      ]
     },
     "metadata": {},
     "output_type": "display_data"
    }
   ],
   "source": [
    "# топ-5 популярных жанров в каждом регионе\n",
    "for gg in region:\n",
    "    display((top_data.pivot_table(index = 'genre', values = gg , aggfunc = 'sum')).sort_values(by = gg, ascending = False).head())"
   ]
  },
  {
   "cell_type": "markdown",
   "metadata": {},
   "source": [
    "Рейтинг самых популярных жанров, для Европы и Северной Америки они снова практически идентичны. Первые строчки заняли экшен-игры, шутеры, спортивные симуляторы. Пятое место для пользователей из Европы заняли гонки, для игроков из Америки - игры, сочетающие в себе несколько жанров.\n",
    "\n",
    "В Японии самым популярным жанром игры оказались Role-Playing, экшен-игры, игры, сочетающие несколько жанров, файтинги и шутеры.\n",
    "\n",
    "Видно, что для Северной Америки и Европы в топ-5 входят одни и те же платформы, разместившиеся на разных позициях. Типы платформ представлены различные: и Xbox, и PlayStation, и Nintendo. Игроки из этих регионов в основном предпочитают стационарные игровые консоли.\n",
    "\n",
    "В Японии рейтинг представлен японскими платформами Nintendo и PlayStation. Причем в основном игроки предпочитают именно портативные игровые консоли, в отличие от игроков из Америки и Европы"
   ]
  },
  {
   "cell_type": "markdown",
   "metadata": {},
   "source": [
    "Посмотрим влияет ли рейтинг ESRB на продажи в отдельном регионе."
   ]
  },
  {
   "cell_type": "code",
   "execution_count": 75,
   "metadata": {},
   "outputs": [
    {
     "data": {
      "image/png": "[encoded data removed]",
      "text/plain": [
       "<Figure size 576x144 with 1 Axes>"
      ]
     },
     "metadata": {
      "needs_background": "light"
     },
     "output_type": "display_data"
    },
    {
     "data": {
      "image/png": "[encoded data removed]",
      "text/plain": [
       "<Figure size 576x144 with 1 Axes>"
      ]
     },
     "metadata": {
      "needs_background": "light"
     },
     "output_type": "display_data"
    },
    {
     "data": {
      "image/png": "[encoded data removed]",
      "text/plain": [
       "<Figure size 576x144 with 1 Axes>"
      ]
     },
     "metadata": {
      "needs_background": "light"
     },
     "output_type": "display_data"
    }
   ],
   "source": [
    "for gg in region:\n",
    "    plt.figure(figsize=(8,2))\n",
    "    region_pivot = ((top_data.pivot_table(index = 'rating', values = gg, aggfunc = 'sum')).sort_values(by = gg)).reset_index()\n",
    "    plt.barh(region_pivot['rating'], region_pivot[gg])\n",
    "    plt.title(gg)\n",
    "    plt.ylabel(r'Рейтинг')\n",
    "    plt.xlabel(r'Миллионы проданных копий')\n",
    "    plt.show()"
   ]
  },
  {
   "cell_type": "markdown",
   "metadata": {},
   "source": [
    "В Америке и Европе рейтинги оказались близкими друг к другу. Первые места заняли игры категории М, E ,последние - Е10+ и Т. Для Америки игры без указанной категории заняли второе место по числу проданных копий, для Европы - третье.\n",
    "\n",
    "В Японии первое место по количеству проданных копий заняли игры без определенного рейтинга (так как у них своя система оценки). Далее по популярности в отличие от других регонов располагаются игры категорий Т, Е, М и Е10+.\n",
    "\n",
    "Если рассматривать вопрос о том, влияет ли рейтинг ESRB на продажи в каждом регионе, можно сказать, что он наибольшим образом влияет на игры, продаваемые в Америке и Европе."
   ]
  },
  {
   "cell_type": "markdown",
   "metadata": {},
   "source": [
    "Вывод\n",
    "\n",
    "В общих чертах опишем портреты пользователей в каждом регионе:\n",
    "\n",
    "- Америка - любители экшен-игр, шутеров, спортивных симуляторов с рейтингоv M и Е, в которые играют на стационарных платформах PS4, XOne, X360.\n",
    "\n",
    "- Европа - типичный игрок, выбирающий также экшен-игры, шутеры и спортивные симуляторы с рейтингами M и Е, выпущенных на стационарных игровых платформах PS4, PS3, XOne.\n",
    "\n",
    "- Япония - среднестатичтические пользователи выбирают портативные игровые консоли: 3DS и PSV, или стационарную платформу PS3. Любимые жанры: РПГ, экшен-игры и misc с возрастным рейтингом T и Е."
   ]
  },
  {
   "cell_type": "markdown",
   "metadata": {},
   "source": [
    "##  Проверка гипотез\n",
    "\n",
    "- Средние пользовательские рейтинги платформ Xbox One и PC одинаковые;\n",
    "- Средние пользовательские рейтинги жанров Action (англ. «действие», экшен-игры) и Sports (англ. «спортивные соревнования») разные."
   ]
  },
  {
   "cell_type": "markdown",
   "metadata": {},
   "source": [
    "О равенстве средних пользовательских рейтингов XOne и PC\n",
    "\n",
    "В качестве нулевой примем гипотезу о том, что средние пользовательские рейтинги платформ Xbox One и PC одинаковые.\n",
    "\n",
    "Альтернативная гипотеза - средние пользовательские рейтинги платформ Xbox One и PC различаются."
   ]
  },
  {
   "cell_type": "code",
   "execution_count": 76,
   "metadata": {},
   "outputs": [
    {
     "name": "stdout",
     "output_type": "stream",
     "text": [
      "p-значение: 0.14012658403611503\n",
      "Не получилось отвергнуть нулевую гипотезу\n"
     ]
    }
   ],
   "source": [
    "xone = top_data[top_data['platform'] == 'XOne']\n",
    "pc = top_data[top_data['platform'] == 'PC']\n",
    "\n",
    "alpha = 0.05 \n",
    "\n",
    "results = st.ttest_ind(\n",
    "    xone['user_score'], \n",
    "    pc['user_score'], nan_policy='omit')\n",
    "\n",
    "print('p-значение:', results.pvalue)\n",
    "\n",
    "if results.pvalue < alpha:\n",
    "    print(\"Отвергаем нулевую гипотезу\")\n",
    "else:\n",
    "    print(\"Не получилось отвергнуть нулевую гипотезу\")"
   ]
  },
  {
   "cell_type": "markdown",
   "metadata": {},
   "source": [
    "Получили, что средние пользовательские оценки для Xbox One и PС действительно одинаковые, так как нулевая гипотеза не была отвергнута."
   ]
  },
  {
   "cell_type": "markdown",
   "metadata": {},
   "source": [
    "О равенстве средних пользовательских\n",
    "\n",
    "В качестве нулевой примем гипотезу о том, что средние пользовательские рейтинги жанров Action и Sports равны.\n",
    "\n",
    "Альтернативная гипотеза - средние пользовательские рейтинги жанров Action и Sports различаются."
   ]
  },
  {
   "cell_type": "code",
   "execution_count": 77,
   "metadata": {},
   "outputs": [
    {
     "name": "stdout",
     "output_type": "stream",
     "text": [
      "p-значение: 1.0517832389139422e-27\n",
      "Отвергаем нулевую гипотезу\n"
     ]
    }
   ],
   "source": [
    "action = top_data[top_data['genre'] == 'Action']\n",
    "sports = top_data[top_data['genre'] == 'Sports']\n",
    "\n",
    "alpha = 0.05 \n",
    "\n",
    "results = st.ttest_ind(\n",
    "    action['user_score'], \n",
    "    sports['user_score'], nan_policy='omit')\n",
    "\n",
    "print('p-значение:', results.pvalue)\n",
    "\n",
    "if results.pvalue < alpha:\n",
    "    print(\"Отвергаем нулевую гипотезу\")\n",
    "else:\n",
    "    print(\"Не получилось отвергнуть нулевую гипотезу\")"
   ]
  },
  {
   "cell_type": "markdown",
   "metadata": {},
   "source": [
    "Рассчитанное р-значением оказалось очень небольшим, поэтому нулевая гипотеза нами отверглась. То есть средние пользовательские рейтинги жанров Action и Sports различаются."
   ]
  },
  {
   "cell_type": "markdown",
   "metadata": {},
   "source": [
    "Вывод\n",
    "\n",
    "По итогам проверки гипотез было получено, что средние пользовательские оценки для платформ Xbox One и PС действительно одинаковые, а средние пользовательские рейтинги жанров Action и Sports различаются."
   ]
  },
  {
   "cell_type": "markdown",
   "metadata": {},
   "source": [
    "# Общий вывод\n",
    "\n",
    "Предобработка \n",
    "- Заменили названия столбцов (привел к нижнему регистру); \n",
    "- Преобразовали данные в нужные типы. Описал, в каких столбцах заменил тип данных и почему; \n",
    "- Обработали пропуски; \n",
    "- Объяснили, почему заполнил пропуски определённым образом или почему не стали это делать; \n",
    "- Описали причины, которые могли привести к пропускам; \n",
    "- Обратили внимание на аббревиатуру 'tbd' в столбце с оценкой пользователей. Отдельно разобрали это значение и описали, как его обработали; \n",
    "- Посчитали суммарные продажи во всех регионах и записал их в отдельный столбец.\n",
    "\n",
    "\n",
    "Развитие игр с 1980 года по 2000 было слабым.В 2000 году мы видим активный рост количества игр на полках магазинов. Продолжался этот рост до 2009 года.На 2008 и 2009 год приходится пик графика, значит в эти года производили больше всего игр (1427 и 1426 игр соответсвенно).Начиная с 2010 года количество выпускаемых игр значительно снизилось и остановилось на отметке в 502 игры.\n",
    "\n",
    "В топ 6 конкурентов среди продаж вошли:\n",
    "\n",
    "- PlayStation 2 (успешен в 2002-2004 годах)\n",
    "- Xbox360 (успешен в 2010-2011 годах)\n",
    "- PlayStation 3 (успешен в 2008-2011 годах)\n",
    "- Wii Nintendo (успешен в 2006-2009 годах)\n",
    "- Nintendo DS (успешен в 2007-2008 годах)\n",
    "- PlayStation (успешен в 1998-1999 годах)\n",
    "\n",
    "Новые платформы быстро набирают популярность, наращивают/удерживают ее в течение 3-4 лет и затем их продажи снижаются.  При этом видно, что из представленных таблицах все платформы уже не являются актуальными. \n",
    "Платформы, показывающие успешные показатели по продажам за 2013-2016 год значительно отличаются от того графика, где представлены продажи платформ за все время. Если раньше лидером по продажам был PS2, то сейчас на лидирующей строчке оказалась PS4, и почетное второе место по продажам игр за 2013-2016 год занимает XboxOne. PS4 и XboxOne являются привлекательнее остальных платформ.\n",
    "Потенциально прибыльные платформы:\n",
    "- PS4\n",
    "- XOne\n",
    "- PSV\n",
    "\n",
    "Корреляция для XOne (потенциально самой успешной платформы) между пользовательсикими оценками и продажами нет, так как значение почти нулевое. А вот оценки критиков не так, чтобы сильно, но влияют на продажи игр, об этом нам говорит корреляция, чем выше оценка критиков, тем больше происходит продаж.\n",
    "Самые прибыльные жанры являются шутеры и экшены. Значения их продаж почти доходят до 140 млн проданных копий. ТОП 4 можно отметить следующие жанры:\n",
    "- Шутеры\n",
    "- Экшены\n",
    "- Спортивные игры\n",
    "- Ролевые игры\n",
    "\n",
    "Портрет Американца\n",
    "\n",
    "Любит играть на плейстешн 4. Чаще всего играет в шутеры. Играет в игры для взрослых, видимо в играх много крови\n",
    "\n",
    "Портрет Европейца\n",
    "\n",
    "Любит поиграть в PlayStation 4. В основном он проходит игры-экшены. Возможно там тоже много крови, потому что европеец любит играть в игры для взрослых\n",
    "\n",
    "Портрет Японца\n",
    "\n",
    "Чаще всего играет на 3DS. Любит поиграть в ролевые игры. Любит кастомные игры, то есть недооценнные игровые шедевры\n",
    "\n",
    "Не отвергаем гипотезу, что средние пользовательские рейтинги платформ Xbox One и PC одинаковые. Отвергам гипотезу, что средние пользовательские рейтинги жанров Action и Sports одинаковые.\n",
    "\n",
    "Подводя итог, можно выделить основные характеристики потенциально успешного продукта:\n",
    "\n",
    "Приблизительный анализ для кампании на 2017 год.\n",
    "\n",
    "- Делать ставку на современные платформы. Покупать вышедшие и новые игры на PS4, XOne и PSV.\n",
    "- Выставлять на прилавки популярные жанры - экшен, шутеры, спортивные и ролевые игры.\n",
    "- Следить за своей аудиторией. В основом большинство игр рассчитано на игроков, которым 17 лет и старше.\n",
    "- Не забывать распространять компьютерные игры и портации игр с популярных платформ на PC. Компьютер еще долго не выйдет из конкуренции за игроков."
   ]
  }
 ],
 "metadata": {
  "ExecuteTimeLog": [
   {
    "duration": 1359,
    "start_time": "2023-08-28T08:30:37.106Z"
   },
   {
    "duration": 147,
    "start_time": "2023-08-28T08:32:13.893Z"
   },
   {
    "duration": 51,
    "start_time": "2023-08-28T08:32:42.841Z"
   },
   {
    "duration": 114,
    "start_time": "2023-08-28T08:33:04.684Z"
   },
   {
    "duration": 23,
    "start_time": "2023-08-28T08:34:18.476Z"
   },
   {
    "duration": 13,
    "start_time": "2023-08-28T08:40:04.420Z"
   },
   {
    "duration": 5,
    "start_time": "2023-08-28T08:47:18.037Z"
   },
   {
    "duration": 16,
    "start_time": "2023-08-28T08:53:58.371Z"
   },
   {
    "duration": 16,
    "start_time": "2023-08-28T08:55:44.273Z"
   },
   {
    "duration": 20,
    "start_time": "2023-08-28T08:56:44.795Z"
   },
   {
    "duration": 23,
    "start_time": "2023-08-28T08:56:55.941Z"
   },
   {
    "duration": 17,
    "start_time": "2023-08-28T08:57:27.875Z"
   },
   {
    "duration": 21,
    "start_time": "2023-08-28T08:57:50.522Z"
   },
   {
    "duration": 7,
    "start_time": "2023-08-28T09:01:21.112Z"
   },
   {
    "duration": 13,
    "start_time": "2023-08-28T09:04:15.406Z"
   },
   {
    "duration": 21,
    "start_time": "2023-08-28T09:04:31.820Z"
   },
   {
    "duration": 14,
    "start_time": "2023-08-28T09:09:19.142Z"
   },
   {
    "duration": 1193,
    "start_time": "2023-08-28T09:11:01.560Z"
   },
   {
    "duration": 63,
    "start_time": "2023-08-28T09:11:05.292Z"
   },
   {
    "duration": 36,
    "start_time": "2023-08-28T09:11:08.118Z"
   },
   {
    "duration": 4,
    "start_time": "2023-08-28T09:11:11.754Z"
   },
   {
    "duration": 8,
    "start_time": "2023-08-28T09:11:31.865Z"
   },
   {
    "duration": 29,
    "start_time": "2023-08-28T09:11:35.915Z"
   },
   {
    "duration": 10,
    "start_time": "2023-08-28T09:21:16.626Z"
   },
   {
    "duration": 17,
    "start_time": "2023-08-28T09:21:32.950Z"
   },
   {
    "duration": 23,
    "start_time": "2023-08-28T09:21:36.188Z"
   },
   {
    "duration": 12,
    "start_time": "2023-08-28T09:22:49.443Z"
   },
   {
    "duration": 16,
    "start_time": "2023-08-28T09:23:06.379Z"
   },
   {
    "duration": 17,
    "start_time": "2023-08-28T09:34:06.220Z"
   },
   {
    "duration": 14,
    "start_time": "2023-08-28T09:34:18.904Z"
   },
   {
    "duration": 3,
    "start_time": "2023-08-28T09:36:50.880Z"
   },
   {
    "duration": 14,
    "start_time": "2023-08-28T09:36:52.090Z"
   },
   {
    "duration": 13,
    "start_time": "2023-08-28T09:38:25.166Z"
   },
   {
    "duration": 103,
    "start_time": "2023-08-28T09:47:54.595Z"
   },
   {
    "duration": 13,
    "start_time": "2023-08-28T09:49:18.223Z"
   },
   {
    "duration": 5,
    "start_time": "2023-08-28T09:49:58.740Z"
   },
   {
    "duration": 13,
    "start_time": "2023-08-28T09:51:01.195Z"
   },
   {
    "duration": 12,
    "start_time": "2023-08-28T09:53:53.229Z"
   },
   {
    "duration": 12,
    "start_time": "2023-08-28T09:58:34.863Z"
   },
   {
    "duration": 16,
    "start_time": "2023-08-28T09:58:52.068Z"
   },
   {
    "duration": 10,
    "start_time": "2023-08-28T09:59:33.283Z"
   },
   {
    "duration": 6,
    "start_time": "2023-08-28T10:00:19.397Z"
   },
   {
    "duration": 16,
    "start_time": "2023-08-28T10:00:25.669Z"
   },
   {
    "duration": 15,
    "start_time": "2023-08-28T10:01:54.766Z"
   },
   {
    "duration": 1302,
    "start_time": "2023-08-28T10:02:13.818Z"
   },
   {
    "duration": 53,
    "start_time": "2023-08-28T10:02:16.402Z"
   },
   {
    "duration": 24,
    "start_time": "2023-08-28T10:02:19.101Z"
   },
   {
    "duration": 14,
    "start_time": "2023-08-28T10:02:21.650Z"
   },
   {
    "duration": 4,
    "start_time": "2023-08-28T10:02:25.726Z"
   },
   {
    "duration": 6,
    "start_time": "2023-08-28T10:02:26.699Z"
   },
   {
    "duration": 16,
    "start_time": "2023-08-28T10:02:30.416Z"
   },
   {
    "duration": 6,
    "start_time": "2023-08-28T10:02:35.505Z"
   },
   {
    "duration": 1368,
    "start_time": "2023-08-28T10:02:36.063Z"
   },
   {
    "duration": 3192,
    "start_time": "2023-08-28T10:06:23.808Z"
   },
   {
    "duration": 7,
    "start_time": "2023-08-28T10:06:42.267Z"
   },
   {
    "duration": 1669,
    "start_time": "2023-08-28T10:07:52.924Z"
   },
   {
    "duration": 8,
    "start_time": "2023-08-28T10:08:57.719Z"
   },
   {
    "duration": 9,
    "start_time": "2023-08-28T10:09:06.936Z"
   },
   {
    "duration": 16,
    "start_time": "2023-08-28T10:09:08.022Z"
   },
   {
    "duration": 6,
    "start_time": "2023-08-28T10:09:12.874Z"
   },
   {
    "duration": 21,
    "start_time": "2023-08-28T10:09:16.451Z"
   },
   {
    "duration": 9,
    "start_time": "2023-08-28T10:10:05.821Z"
   },
   {
    "duration": 5,
    "start_time": "2023-08-28T10:10:15.184Z"
   },
   {
    "duration": 4,
    "start_time": "2023-08-28T10:10:51.695Z"
   },
   {
    "duration": 4,
    "start_time": "2023-08-28T10:10:53.278Z"
   },
   {
    "duration": 3,
    "start_time": "2023-08-28T10:10:53.891Z"
   },
   {
    "duration": 9,
    "start_time": "2023-08-28T10:10:55.077Z"
   },
   {
    "duration": 15,
    "start_time": "2023-08-28T10:10:58.124Z"
   },
   {
    "duration": 5,
    "start_time": "2023-08-28T10:11:00.578Z"
   },
   {
    "duration": 1054,
    "start_time": "2023-08-28T10:13:21.678Z"
   },
   {
    "duration": 51,
    "start_time": "2023-08-28T10:13:22.825Z"
   },
   {
    "duration": 23,
    "start_time": "2023-08-28T10:13:24.030Z"
   },
   {
    "duration": 19,
    "start_time": "2023-08-28T10:13:26.883Z"
   },
   {
    "duration": 4,
    "start_time": "2023-08-28T10:13:31.083Z"
   },
   {
    "duration": 8,
    "start_time": "2023-08-28T10:13:32.008Z"
   },
   {
    "duration": 20,
    "start_time": "2023-08-28T10:13:35.195Z"
   },
   {
    "duration": 108,
    "start_time": "2023-08-28T10:13:42.030Z"
   },
   {
    "duration": 6,
    "start_time": "2023-08-28T10:14:00.594Z"
   },
   {
    "duration": 8,
    "start_time": "2023-08-28T10:14:01.584Z"
   },
   {
    "duration": 8,
    "start_time": "2023-08-28T10:14:03.729Z"
   },
   {
    "duration": 14,
    "start_time": "2023-08-28T10:14:58.731Z"
   },
   {
    "duration": 9,
    "start_time": "2023-08-28T10:16:39.557Z"
   },
   {
    "duration": 28,
    "start_time": "2023-08-28T10:16:52.706Z"
   },
   {
    "duration": 5,
    "start_time": "2023-08-28T10:17:50.658Z"
   },
   {
    "duration": 15,
    "start_time": "2023-08-28T10:18:10.861Z"
   },
   {
    "duration": 14,
    "start_time": "2023-08-28T10:18:14.955Z"
   },
   {
    "duration": 5,
    "start_time": "2023-08-28T10:18:16.031Z"
   },
   {
    "duration": 5,
    "start_time": "2023-08-28T10:18:17.632Z"
   },
   {
    "duration": 3,
    "start_time": "2023-08-28T10:18:19.547Z"
   },
   {
    "duration": 12,
    "start_time": "2023-08-28T10:18:49.655Z"
   },
   {
    "duration": 5,
    "start_time": "2023-08-28T10:20:19.553Z"
   },
   {
    "duration": 7,
    "start_time": "2023-08-28T10:20:30.902Z"
   },
   {
    "duration": 4,
    "start_time": "2023-08-28T10:21:04.402Z"
   },
   {
    "duration": 6,
    "start_time": "2023-08-28T10:21:09.190Z"
   },
   {
    "duration": 5,
    "start_time": "2023-08-28T10:21:28.758Z"
   },
   {
    "duration": 1332,
    "start_time": "2023-08-28T10:21:55.533Z"
   },
   {
    "duration": 58,
    "start_time": "2023-08-28T10:21:57.403Z"
   },
   {
    "duration": 23,
    "start_time": "2023-08-28T10:21:59.068Z"
   },
   {
    "duration": 15,
    "start_time": "2023-08-28T10:22:02.201Z"
   },
   {
    "duration": 4,
    "start_time": "2023-08-28T10:22:05.766Z"
   },
   {
    "duration": 6,
    "start_time": "2023-08-28T10:22:06.445Z"
   },
   {
    "duration": 9,
    "start_time": "2023-08-28T10:22:09.362Z"
   },
   {
    "duration": 17,
    "start_time": "2023-08-28T10:22:10.701Z"
   },
   {
    "duration": 5,
    "start_time": "2023-08-28T10:22:14.091Z"
   },
   {
    "duration": 18,
    "start_time": "2023-08-28T10:22:19.375Z"
   },
   {
    "duration": 16,
    "start_time": "2023-08-28T10:22:32.642Z"
   },
   {
    "duration": 4,
    "start_time": "2023-08-28T10:22:35.854Z"
   },
   {
    "duration": 6,
    "start_time": "2023-08-28T10:22:38.003Z"
   },
   {
    "duration": 8,
    "start_time": "2023-08-28T10:22:39.041Z"
   },
   {
    "duration": 8,
    "start_time": "2023-08-28T10:32:18.751Z"
   },
   {
    "duration": 7,
    "start_time": "2023-08-28T10:35:41.186Z"
   },
   {
    "duration": 4,
    "start_time": "2023-08-28T10:35:48.575Z"
   },
   {
    "duration": 1367,
    "start_time": "2023-08-28T10:36:14.754Z"
   },
   {
    "duration": 52,
    "start_time": "2023-08-28T10:36:22.742Z"
   },
   {
    "duration": 24,
    "start_time": "2023-08-28T10:36:25.439Z"
   },
   {
    "duration": 19,
    "start_time": "2023-08-28T10:36:27.521Z"
   },
   {
    "duration": 4,
    "start_time": "2023-08-28T10:36:31.174Z"
   },
   {
    "duration": 7,
    "start_time": "2023-08-28T10:36:32.338Z"
   },
   {
    "duration": 10,
    "start_time": "2023-08-28T10:36:34.195Z"
   },
   {
    "duration": 19,
    "start_time": "2023-08-28T10:36:36.835Z"
   },
   {
    "duration": 5,
    "start_time": "2023-08-28T10:36:38.647Z"
   },
   {
    "duration": 18,
    "start_time": "2023-08-28T10:36:42.359Z"
   },
   {
    "duration": 13,
    "start_time": "2023-08-28T10:36:45.647Z"
   },
   {
    "duration": 4,
    "start_time": "2023-08-28T10:36:47.844Z"
   },
   {
    "duration": 6,
    "start_time": "2023-08-28T10:36:49.553Z"
   },
   {
    "duration": 9,
    "start_time": "2023-08-28T10:36:52.691Z"
   },
   {
    "duration": 5,
    "start_time": "2023-08-28T10:36:57.757Z"
   },
   {
    "duration": 16,
    "start_time": "2023-08-28T10:38:44.010Z"
   },
   {
    "duration": 6,
    "start_time": "2023-08-28T10:40:43.883Z"
   },
   {
    "duration": 5,
    "start_time": "2023-08-28T10:40:57.974Z"
   },
   {
    "duration": 5,
    "start_time": "2023-08-28T10:50:35.681Z"
   },
   {
    "duration": 10,
    "start_time": "2023-08-28T10:51:24.378Z"
   },
   {
    "duration": 1233,
    "start_time": "2023-08-28T10:51:53.617Z"
   },
   {
    "duration": 57,
    "start_time": "2023-08-28T10:51:55.387Z"
   },
   {
    "duration": 25,
    "start_time": "2023-08-28T10:51:56.404Z"
   },
   {
    "duration": 17,
    "start_time": "2023-08-28T10:51:56.926Z"
   },
   {
    "duration": 5,
    "start_time": "2023-08-28T10:51:58.975Z"
   },
   {
    "duration": 8,
    "start_time": "2023-08-28T10:51:59.495Z"
   },
   {
    "duration": 11,
    "start_time": "2023-08-28T10:52:00.562Z"
   },
   {
    "duration": 23,
    "start_time": "2023-08-28T10:52:01.028Z"
   },
   {
    "duration": 6,
    "start_time": "2023-08-28T10:52:02.630Z"
   },
   {
    "duration": 37,
    "start_time": "2023-08-28T10:52:03.312Z"
   },
   {
    "duration": 7,
    "start_time": "2023-08-28T10:52:04.653Z"
   },
   {
    "duration": 11,
    "start_time": "2023-08-28T10:52:05.776Z"
   },
   {
    "duration": 16,
    "start_time": "2023-08-28T10:52:06.991Z"
   },
   {
    "duration": 6,
    "start_time": "2023-08-28T10:52:07.566Z"
   },
   {
    "duration": 7,
    "start_time": "2023-08-28T10:52:08.527Z"
   },
   {
    "duration": 15,
    "start_time": "2023-08-28T10:52:08.990Z"
   },
   {
    "duration": 4,
    "start_time": "2023-08-28T11:01:58.511Z"
   },
   {
    "duration": 6,
    "start_time": "2023-08-28T11:09:36.925Z"
   },
   {
    "duration": 6,
    "start_time": "2023-08-28T11:45:40.122Z"
   },
   {
    "duration": 7,
    "start_time": "2023-08-28T11:53:51.579Z"
   },
   {
    "duration": 6,
    "start_time": "2023-08-28T11:56:33.366Z"
   },
   {
    "duration": 5,
    "start_time": "2023-08-28T11:57:17.369Z"
   },
   {
    "duration": 18,
    "start_time": "2023-08-28T12:06:13.909Z"
   },
   {
    "duration": 11,
    "start_time": "2023-08-28T12:15:04.318Z"
   },
   {
    "duration": 1236,
    "start_time": "2023-08-28T12:16:07.711Z"
   },
   {
    "duration": 55,
    "start_time": "2023-08-28T12:16:08.949Z"
   },
   {
    "duration": 22,
    "start_time": "2023-08-28T12:16:09.516Z"
   },
   {
    "duration": 14,
    "start_time": "2023-08-28T12:16:10.033Z"
   },
   {
    "duration": 4,
    "start_time": "2023-08-28T12:16:14.175Z"
   },
   {
    "duration": 7,
    "start_time": "2023-08-28T12:16:15.185Z"
   },
   {
    "duration": 10,
    "start_time": "2023-08-28T12:16:17.706Z"
   },
   {
    "duration": 24,
    "start_time": "2023-08-28T12:16:19.805Z"
   },
   {
    "duration": 6,
    "start_time": "2023-08-28T12:16:31.917Z"
   },
   {
    "duration": 20,
    "start_time": "2023-08-28T12:16:34.540Z"
   },
   {
    "duration": 6,
    "start_time": "2023-08-28T12:16:44.171Z"
   },
   {
    "duration": 12,
    "start_time": "2023-08-28T12:16:45.970Z"
   },
   {
    "duration": 7,
    "start_time": "2023-08-28T12:16:53.122Z"
   },
   {
    "duration": 8,
    "start_time": "2023-08-28T12:16:55.843Z"
   },
   {
    "duration": 5,
    "start_time": "2023-08-28T12:17:01.321Z"
   },
   {
    "duration": 14,
    "start_time": "2023-08-28T12:17:01.940Z"
   },
   {
    "duration": 14,
    "start_time": "2023-08-28T12:17:06.713Z"
   },
   {
    "duration": 4,
    "start_time": "2023-08-28T12:17:07.220Z"
   },
   {
    "duration": 4,
    "start_time": "2023-08-28T12:17:07.711Z"
   },
   {
    "duration": 21,
    "start_time": "2023-08-28T12:17:08.213Z"
   },
   {
    "duration": 24,
    "start_time": "2023-08-28T12:17:09.269Z"
   },
   {
    "duration": 11,
    "start_time": "2023-08-28T12:45:20.256Z"
   },
   {
    "duration": 14,
    "start_time": "2023-08-28T12:45:29.193Z"
   },
   {
    "duration": 1506,
    "start_time": "2023-08-28T14:26:32.139Z"
   },
   {
    "duration": 113,
    "start_time": "2023-08-28T14:26:33.647Z"
   },
   {
    "duration": 27,
    "start_time": "2023-08-28T14:26:34.243Z"
   },
   {
    "duration": 26,
    "start_time": "2023-08-28T14:26:35.707Z"
   },
   {
    "duration": 5,
    "start_time": "2023-08-28T14:26:38.557Z"
   },
   {
    "duration": 11,
    "start_time": "2023-08-28T14:26:38.988Z"
   },
   {
    "duration": 11,
    "start_time": "2023-08-28T14:26:40.006Z"
   },
   {
    "duration": 19,
    "start_time": "2023-08-28T14:26:40.517Z"
   },
   {
    "duration": 5,
    "start_time": "2023-08-28T14:26:41.487Z"
   },
   {
    "duration": 22,
    "start_time": "2023-08-28T14:26:41.974Z"
   },
   {
    "duration": 7,
    "start_time": "2023-08-28T14:26:42.959Z"
   },
   {
    "duration": 10,
    "start_time": "2023-08-28T14:26:43.983Z"
   },
   {
    "duration": 7,
    "start_time": "2023-08-28T14:26:44.473Z"
   },
   {
    "duration": 11,
    "start_time": "2023-08-28T14:26:45.419Z"
   },
   {
    "duration": 7,
    "start_time": "2023-08-28T14:26:46.431Z"
   },
   {
    "duration": 23,
    "start_time": "2023-08-28T14:26:47.425Z"
   },
   {
    "duration": 5,
    "start_time": "2023-08-28T14:26:47.933Z"
   },
   {
    "duration": 6,
    "start_time": "2023-08-28T14:26:48.402Z"
   },
   {
    "duration": 22,
    "start_time": "2023-08-28T14:26:48.887Z"
   },
   {
    "duration": 17,
    "start_time": "2023-08-28T14:26:49.942Z"
   },
   {
    "duration": 21,
    "start_time": "2023-08-28T14:26:52.395Z"
   },
   {
    "duration": 222,
    "start_time": "2023-08-28T14:27:35.737Z"
   },
   {
    "duration": 252,
    "start_time": "2023-08-28T14:28:33.544Z"
   },
   {
    "duration": 15,
    "start_time": "2023-08-28T14:49:47.940Z"
   },
   {
    "duration": 24,
    "start_time": "2023-08-28T14:50:03.845Z"
   },
   {
    "duration": 146,
    "start_time": "2023-08-28T14:56:25.424Z"
   },
   {
    "duration": 10,
    "start_time": "2023-08-28T14:57:17.473Z"
   },
   {
    "duration": 10,
    "start_time": "2023-08-28T14:57:53.509Z"
   },
   {
    "duration": 13,
    "start_time": "2023-08-28T14:59:38.160Z"
   },
   {
    "duration": 14,
    "start_time": "2023-08-28T15:00:11.570Z"
   },
   {
    "duration": 303,
    "start_time": "2023-08-28T15:02:41.433Z"
   },
   {
    "duration": 306,
    "start_time": "2023-08-28T15:03:38.666Z"
   },
   {
    "duration": 18,
    "start_time": "2023-08-28T15:12:58.095Z"
   },
   {
    "duration": 421,
    "start_time": "2023-08-28T15:13:04.719Z"
   },
   {
    "duration": 14,
    "start_time": "2023-08-28T15:13:40.232Z"
   },
   {
    "duration": 13,
    "start_time": "2023-08-28T15:13:57.792Z"
   },
   {
    "duration": 1562,
    "start_time": "2023-08-28T15:14:09.157Z"
   },
   {
    "duration": 1420,
    "start_time": "2023-08-28T15:17:29.604Z"
   },
   {
    "duration": 1310,
    "start_time": "2023-08-28T15:17:38.989Z"
   },
   {
    "duration": 1303,
    "start_time": "2023-08-28T15:21:44.814Z"
   },
   {
    "duration": 23,
    "start_time": "2023-08-28T15:32:58.047Z"
   },
   {
    "duration": 19,
    "start_time": "2023-08-28T15:33:14.359Z"
   },
   {
    "duration": 17,
    "start_time": "2023-08-28T15:35:02.918Z"
   },
   {
    "duration": 3,
    "start_time": "2023-08-28T15:47:37.703Z"
   },
   {
    "duration": 65,
    "start_time": "2023-08-28T15:47:38.511Z"
   },
   {
    "duration": 21,
    "start_time": "2023-08-28T15:47:40.132Z"
   },
   {
    "duration": 14,
    "start_time": "2023-08-28T15:47:40.629Z"
   },
   {
    "duration": 4,
    "start_time": "2023-08-28T15:47:42.660Z"
   },
   {
    "duration": 7,
    "start_time": "2023-08-28T15:47:43.190Z"
   },
   {
    "duration": 14,
    "start_time": "2023-08-28T15:47:44.135Z"
   },
   {
    "duration": 19,
    "start_time": "2023-08-28T15:47:44.614Z"
   },
   {
    "duration": 5,
    "start_time": "2023-08-28T15:47:45.503Z"
   },
   {
    "duration": 18,
    "start_time": "2023-08-28T15:47:45.965Z"
   },
   {
    "duration": 6,
    "start_time": "2023-08-28T15:47:46.866Z"
   },
   {
    "duration": 9,
    "start_time": "2023-08-28T15:47:47.865Z"
   },
   {
    "duration": 6,
    "start_time": "2023-08-28T15:47:48.328Z"
   },
   {
    "duration": 8,
    "start_time": "2023-08-28T15:47:49.364Z"
   },
   {
    "duration": 5,
    "start_time": "2023-08-28T15:47:50.402Z"
   },
   {
    "duration": 19,
    "start_time": "2023-08-28T15:47:51.466Z"
   },
   {
    "duration": 4,
    "start_time": "2023-08-28T15:47:52.012Z"
   },
   {
    "duration": 6,
    "start_time": "2023-08-28T15:47:52.550Z"
   },
   {
    "duration": 21,
    "start_time": "2023-08-28T15:47:53.108Z"
   },
   {
    "duration": 18,
    "start_time": "2023-08-28T15:47:54.235Z"
   },
   {
    "duration": 25,
    "start_time": "2023-08-28T15:47:56.748Z"
   },
   {
    "duration": 196,
    "start_time": "2023-08-28T15:47:57.454Z"
   },
   {
    "duration": 18,
    "start_time": "2023-08-28T15:48:00.809Z"
   },
   {
    "duration": 347,
    "start_time": "2023-08-28T15:48:01.772Z"
   },
   {
    "duration": 1599,
    "start_time": "2023-08-28T15:48:04.552Z"
   },
   {
    "duration": 17,
    "start_time": "2023-08-28T15:48:09.098Z"
   },
   {
    "duration": 1265,
    "start_time": "2023-08-28T15:48:46.078Z"
   },
   {
    "duration": 58,
    "start_time": "2023-08-28T15:48:47.345Z"
   },
   {
    "duration": 26,
    "start_time": "2023-08-28T15:48:48.168Z"
   },
   {
    "duration": 15,
    "start_time": "2023-08-28T15:48:48.731Z"
   },
   {
    "duration": 4,
    "start_time": "2023-08-28T15:48:50.836Z"
   },
   {
    "duration": 7,
    "start_time": "2023-08-28T15:48:51.418Z"
   },
   {
    "duration": 12,
    "start_time": "2023-08-28T15:48:52.546Z"
   },
   {
    "duration": 18,
    "start_time": "2023-08-28T15:48:53.088Z"
   },
   {
    "duration": 5,
    "start_time": "2023-08-28T15:48:54.147Z"
   },
   {
    "duration": 18,
    "start_time": "2023-08-28T15:48:54.722Z"
   },
   {
    "duration": 6,
    "start_time": "2023-08-28T15:48:55.838Z"
   },
   {
    "duration": 10,
    "start_time": "2023-08-28T15:48:57.013Z"
   },
   {
    "duration": 7,
    "start_time": "2023-08-28T15:48:57.570Z"
   },
   {
    "duration": 8,
    "start_time": "2023-08-28T15:48:58.767Z"
   },
   {
    "duration": 5,
    "start_time": "2023-08-28T15:48:59.974Z"
   },
   {
    "duration": 16,
    "start_time": "2023-08-28T15:49:01.136Z"
   },
   {
    "duration": 4,
    "start_time": "2023-08-28T15:49:01.731Z"
   },
   {
    "duration": 17,
    "start_time": "2023-08-28T15:49:02.405Z"
   },
   {
    "duration": 26,
    "start_time": "2023-08-28T15:49:03.001Z"
   },
   {
    "duration": 17,
    "start_time": "2023-08-28T15:49:04.332Z"
   },
   {
    "duration": 16,
    "start_time": "2023-08-28T15:49:07.622Z"
   },
   {
    "duration": 200,
    "start_time": "2023-08-28T15:49:08.145Z"
   },
   {
    "duration": 18,
    "start_time": "2023-08-28T15:49:10.493Z"
   },
   {
    "duration": 313,
    "start_time": "2023-08-28T15:49:11.521Z"
   },
   {
    "duration": 1253,
    "start_time": "2023-08-28T15:49:13.827Z"
   },
   {
    "duration": 16,
    "start_time": "2023-08-28T15:49:18.829Z"
   },
   {
    "duration": 31049,
    "start_time": "2023-08-28T15:49:19.466Z"
   },
   {
    "duration": 30033,
    "start_time": "2023-08-28T15:50:56.518Z"
   },
   {
    "duration": 332,
    "start_time": "2023-08-28T15:52:14.460Z"
   },
   {
    "duration": 1269,
    "start_time": "2023-08-28T15:55:06.098Z"
   },
   {
    "duration": 110,
    "start_time": "2023-08-28T15:55:14.890Z"
   },
   {
    "duration": 96,
    "start_time": "2023-08-28T15:55:28.580Z"
   },
   {
    "duration": 82,
    "start_time": "2023-08-28T15:55:40.278Z"
   },
   {
    "duration": 115,
    "start_time": "2023-08-28T15:55:44.728Z"
   },
   {
    "duration": 84,
    "start_time": "2023-08-28T15:55:55.239Z"
   },
   {
    "duration": 83,
    "start_time": "2023-08-28T15:56:03.055Z"
   },
   {
    "duration": 82,
    "start_time": "2023-08-28T15:56:11.838Z"
   },
   {
    "duration": 106,
    "start_time": "2023-08-28T15:56:19.173Z"
   },
   {
    "duration": 105,
    "start_time": "2023-08-28T15:57:21.458Z"
   },
   {
    "duration": 1071,
    "start_time": "2023-08-28T15:57:34.419Z"
   },
   {
    "duration": 11,
    "start_time": "2023-08-28T15:58:48.206Z"
   },
   {
    "duration": 15,
    "start_time": "2023-08-28T15:59:01.170Z"
   },
   {
    "duration": 2,
    "start_time": "2023-08-28T16:00:11.375Z"
   },
   {
    "duration": 31492,
    "start_time": "2023-08-28T16:00:25.886Z"
   },
   {
    "duration": 4,
    "start_time": "2023-08-28T16:01:19.558Z"
   },
   {
    "duration": 1384,
    "start_time": "2023-08-28T16:01:29.038Z"
   },
   {
    "duration": 32159,
    "start_time": "2023-08-28T16:01:53.735Z"
   },
   {
    "duration": 29802,
    "start_time": "2023-08-28T16:06:21.257Z"
   },
   {
    "duration": 182,
    "start_time": "2023-08-28T16:11:13.663Z"
   },
   {
    "duration": 1790,
    "start_time": "2023-08-28T16:11:22.303Z"
   },
   {
    "duration": 393,
    "start_time": "2023-08-28T16:11:47.221Z"
   },
   {
    "duration": 1661,
    "start_time": "2023-08-28T16:12:17.436Z"
   },
   {
    "duration": 1660,
    "start_time": "2023-08-28T16:13:34.382Z"
   },
   {
    "duration": 1814,
    "start_time": "2023-08-28T16:16:01.719Z"
   },
   {
    "duration": 1785,
    "start_time": "2023-08-28T16:20:26.186Z"
   },
   {
    "duration": 1773,
    "start_time": "2023-08-28T16:20:59.300Z"
   },
   {
    "duration": 18,
    "start_time": "2023-08-28T16:22:49.949Z"
   },
   {
    "duration": 30737,
    "start_time": "2023-08-28T16:24:11.141Z"
   },
   {
    "duration": 15,
    "start_time": "2023-08-28T16:24:52.968Z"
   },
   {
    "duration": 11,
    "start_time": "2023-08-28T16:26:17.785Z"
   },
   {
    "duration": 7,
    "start_time": "2023-08-28T16:26:49.082Z"
   },
   {
    "duration": 27679,
    "start_time": "2023-08-28T16:39:16.671Z"
   },
   {
    "duration": 27492,
    "start_time": "2023-08-28T16:41:40.484Z"
   },
   {
    "duration": 142,
    "start_time": "2023-08-28T16:53:10.679Z"
   },
   {
    "duration": 525,
    "start_time": "2023-08-28T16:57:37.792Z"
   },
   {
    "duration": 9,
    "start_time": "2023-08-28T16:57:57.759Z"
   },
   {
    "duration": 89,
    "start_time": "2023-08-28T16:58:39.650Z"
   },
   {
    "duration": 175,
    "start_time": "2023-08-28T16:59:21.248Z"
   },
   {
    "duration": 183,
    "start_time": "2023-08-28T17:00:42.529Z"
   },
   {
    "duration": 177,
    "start_time": "2023-08-28T17:00:50.717Z"
   },
   {
    "duration": 200,
    "start_time": "2023-08-28T17:01:06.530Z"
   },
   {
    "duration": 176,
    "start_time": "2023-08-28T17:03:22.635Z"
   },
   {
    "duration": 195,
    "start_time": "2023-08-28T17:04:00.532Z"
   },
   {
    "duration": 6,
    "start_time": "2023-08-28T17:10:36.187Z"
   },
   {
    "duration": 178,
    "start_time": "2023-08-28T17:10:40.156Z"
   },
   {
    "duration": 1467,
    "start_time": "2023-08-29T09:06:08.131Z"
   },
   {
    "duration": 184,
    "start_time": "2023-08-29T09:06:09.600Z"
   },
   {
    "duration": 37,
    "start_time": "2023-08-29T09:06:10.351Z"
   },
   {
    "duration": 29,
    "start_time": "2023-08-29T09:06:10.842Z"
   },
   {
    "duration": 5,
    "start_time": "2023-08-29T09:06:12.890Z"
   },
   {
    "duration": 7,
    "start_time": "2023-08-29T09:06:13.386Z"
   },
   {
    "duration": 13,
    "start_time": "2023-08-29T09:06:14.417Z"
   },
   {
    "duration": 25,
    "start_time": "2023-08-29T09:06:14.908Z"
   },
   {
    "duration": 7,
    "start_time": "2023-08-29T09:06:15.877Z"
   },
   {
    "duration": 24,
    "start_time": "2023-08-29T09:06:16.309Z"
   },
   {
    "duration": 7,
    "start_time": "2023-08-29T09:06:17.242Z"
   },
   {
    "duration": 10,
    "start_time": "2023-08-29T09:06:18.172Z"
   },
   {
    "duration": 5,
    "start_time": "2023-08-29T09:06:18.670Z"
   },
   {
    "duration": 8,
    "start_time": "2023-08-29T09:06:19.682Z"
   },
   {
    "duration": 5,
    "start_time": "2023-08-29T09:06:20.671Z"
   },
   {
    "duration": 15,
    "start_time": "2023-08-29T09:06:21.747Z"
   },
   {
    "duration": 5,
    "start_time": "2023-08-29T09:06:22.319Z"
   },
   {
    "duration": 5,
    "start_time": "2023-08-29T09:06:22.875Z"
   },
   {
    "duration": 16,
    "start_time": "2023-08-29T09:06:23.393Z"
   },
   {
    "duration": 19,
    "start_time": "2023-08-29T09:06:24.623Z"
   },
   {
    "duration": 17,
    "start_time": "2023-08-29T09:06:26.870Z"
   },
   {
    "duration": 220,
    "start_time": "2023-08-29T09:06:27.564Z"
   },
   {
    "duration": 19,
    "start_time": "2023-08-29T09:06:30.699Z"
   },
   {
    "duration": 387,
    "start_time": "2023-08-29T09:06:31.564Z"
   },
   {
    "duration": 1325,
    "start_time": "2023-08-29T09:06:33.083Z"
   },
   {
    "duration": 17,
    "start_time": "2023-08-29T09:06:52.864Z"
   },
   {
    "duration": 288,
    "start_time": "2023-08-29T09:09:35.532Z"
   },
   {
    "duration": 175,
    "start_time": "2023-08-29T09:11:08.135Z"
   },
   {
    "duration": 148,
    "start_time": "2023-08-29T09:11:32.806Z"
   },
   {
    "duration": 138,
    "start_time": "2023-08-29T09:11:51.928Z"
   },
   {
    "duration": 204,
    "start_time": "2023-08-29T09:16:59.803Z"
   },
   {
    "duration": 185,
    "start_time": "2023-08-29T09:17:19.661Z"
   },
   {
    "duration": 175,
    "start_time": "2023-08-29T09:17:28.644Z"
   },
   {
    "duration": 194,
    "start_time": "2023-08-29T09:17:33.340Z"
   },
   {
    "duration": 16,
    "start_time": "2023-08-29T09:17:55.753Z"
   },
   {
    "duration": 149,
    "start_time": "2023-08-29T09:18:26.036Z"
   },
   {
    "duration": 26,
    "start_time": "2023-08-29T09:20:04.504Z"
   },
   {
    "duration": 23,
    "start_time": "2023-08-29T09:20:25.225Z"
   },
   {
    "duration": 29,
    "start_time": "2023-08-29T09:20:36.248Z"
   },
   {
    "duration": 22,
    "start_time": "2023-08-29T09:20:58.938Z"
   },
   {
    "duration": 25,
    "start_time": "2023-08-29T09:21:52.338Z"
   },
   {
    "duration": 14,
    "start_time": "2023-08-29T09:22:56.081Z"
   },
   {
    "duration": 23,
    "start_time": "2023-08-29T09:23:47.902Z"
   },
   {
    "duration": 25,
    "start_time": "2023-08-29T09:24:25.946Z"
   },
   {
    "duration": 7,
    "start_time": "2023-08-29T09:26:12.757Z"
   },
   {
    "duration": 316,
    "start_time": "2023-08-29T09:26:35.006Z"
   },
   {
    "duration": 330,
    "start_time": "2023-08-29T09:26:56.629Z"
   },
   {
    "duration": 268,
    "start_time": "2023-08-29T09:27:16.172Z"
   },
   {
    "duration": 313,
    "start_time": "2023-08-29T09:27:29.779Z"
   },
   {
    "duration": 209,
    "start_time": "2023-08-29T09:28:55.599Z"
   },
   {
    "duration": 2260,
    "start_time": "2023-08-29T09:29:14.634Z"
   },
   {
    "duration": 169,
    "start_time": "2023-08-29T09:43:56.978Z"
   },
   {
    "duration": 216,
    "start_time": "2023-08-29T09:53:47.658Z"
   },
   {
    "duration": 183,
    "start_time": "2023-08-29T09:54:26.130Z"
   },
   {
    "duration": 187,
    "start_time": "2023-08-29T09:54:48.637Z"
   },
   {
    "duration": 172,
    "start_time": "2023-08-29T09:54:58.790Z"
   },
   {
    "duration": 757,
    "start_time": "2023-08-29T10:02:55.685Z"
   },
   {
    "duration": 759,
    "start_time": "2023-08-29T10:03:43.812Z"
   },
   {
    "duration": 373,
    "start_time": "2023-08-29T10:10:01.594Z"
   },
   {
    "duration": 27,
    "start_time": "2023-08-29T10:13:07.089Z"
   },
   {
    "duration": 22,
    "start_time": "2023-08-29T10:13:21.515Z"
   },
   {
    "duration": 36,
    "start_time": "2023-08-29T10:37:15.195Z"
   },
   {
    "duration": 38,
    "start_time": "2023-08-29T10:37:40.642Z"
   },
   {
    "duration": 35,
    "start_time": "2023-08-29T10:38:12.422Z"
   },
   {
    "duration": 36,
    "start_time": "2023-08-29T10:38:31.106Z"
   },
   {
    "duration": 33,
    "start_time": "2023-08-29T10:39:51.811Z"
   },
   {
    "duration": 433,
    "start_time": "2023-08-29T10:46:25.094Z"
   },
   {
    "duration": 71,
    "start_time": "2023-08-29T15:32:24.850Z"
   },
   {
    "duration": 1523,
    "start_time": "2023-08-29T15:33:07.540Z"
   },
   {
    "duration": 103,
    "start_time": "2023-08-29T15:33:09.065Z"
   },
   {
    "duration": 27,
    "start_time": "2023-08-29T15:33:09.955Z"
   },
   {
    "duration": 22,
    "start_time": "2023-08-29T15:33:10.541Z"
   },
   {
    "duration": 8,
    "start_time": "2023-08-29T15:33:12.571Z"
   },
   {
    "duration": 8,
    "start_time": "2023-08-29T15:33:13.052Z"
   },
   {
    "duration": 18,
    "start_time": "2023-08-29T15:33:13.988Z"
   },
   {
    "duration": 28,
    "start_time": "2023-08-29T15:33:14.459Z"
   },
   {
    "duration": 7,
    "start_time": "2023-08-29T15:33:15.503Z"
   },
   {
    "duration": 20,
    "start_time": "2023-08-29T15:33:16.128Z"
   },
   {
    "duration": 11,
    "start_time": "2023-08-29T15:33:17.196Z"
   },
   {
    "duration": 14,
    "start_time": "2023-08-29T15:33:18.208Z"
   },
   {
    "duration": 6,
    "start_time": "2023-08-29T15:33:18.766Z"
   },
   {
    "duration": 9,
    "start_time": "2023-08-29T15:33:19.741Z"
   },
   {
    "duration": 5,
    "start_time": "2023-08-29T15:33:20.765Z"
   },
   {
    "duration": 22,
    "start_time": "2023-08-29T15:33:21.968Z"
   },
   {
    "duration": 7,
    "start_time": "2023-08-29T15:33:43.975Z"
   },
   {
    "duration": 7,
    "start_time": "2023-08-29T15:33:44.561Z"
   },
   {
    "duration": 22,
    "start_time": "2023-08-29T15:33:45.085Z"
   },
   {
    "duration": 41,
    "start_time": "2023-08-29T15:33:46.995Z"
   },
   {
    "duration": 16,
    "start_time": "2023-08-29T15:33:49.835Z"
   },
   {
    "duration": 258,
    "start_time": "2023-08-29T15:33:50.476Z"
   },
   {
    "duration": 18,
    "start_time": "2023-08-29T15:33:52.842Z"
   },
   {
    "duration": 369,
    "start_time": "2023-08-29T15:33:53.430Z"
   },
   {
    "duration": 1430,
    "start_time": "2023-08-29T15:33:55.589Z"
   },
   {
    "duration": 15,
    "start_time": "2023-08-29T15:33:59.478Z"
   },
   {
    "duration": 341,
    "start_time": "2023-08-29T15:34:00.709Z"
   },
   {
    "duration": 2285,
    "start_time": "2023-08-29T15:34:02.043Z"
   },
   {
    "duration": 182,
    "start_time": "2023-08-29T15:34:05.542Z"
   },
   {
    "duration": 347,
    "start_time": "2023-08-29T15:34:07.510Z"
   },
   {
    "duration": 186,
    "start_time": "2023-08-29T15:34:09.652Z"
   },
   {
    "duration": 209,
    "start_time": "2023-08-29T15:34:11.655Z"
   },
   {
    "duration": 750,
    "start_time": "2023-08-29T15:34:14.816Z"
   },
   {
    "duration": 34,
    "start_time": "2023-08-29T15:34:16.714Z"
   },
   {
    "duration": 37,
    "start_time": "2023-08-29T15:34:19.302Z"
   },
   {
    "duration": 69,
    "start_time": "2023-08-29T15:34:25.032Z"
   },
   {
    "duration": 526,
    "start_time": "2023-08-29T15:34:27.661Z"
   },
   {
    "duration": 9,
    "start_time": "2023-08-29T15:34:31.015Z"
   },
   {
    "duration": 7,
    "start_time": "2023-08-29T15:34:50.470Z"
   },
   {
    "duration": 22,
    "start_time": "2023-08-29T15:39:21.473Z"
   },
   {
    "duration": 10,
    "start_time": "2023-08-29T15:39:44.321Z"
   },
   {
    "duration": 9,
    "start_time": "2023-08-29T15:41:58.641Z"
   },
   {
    "duration": 92,
    "start_time": "2023-08-29T15:50:48.528Z"
   },
   {
    "duration": 12,
    "start_time": "2023-08-29T15:51:15.713Z"
   },
   {
    "duration": 352,
    "start_time": "2023-08-29T15:59:10.417Z"
   },
   {
    "duration": 1182,
    "start_time": "2023-08-29T17:12:14.895Z"
   },
   {
    "duration": 179,
    "start_time": "2023-08-29T17:12:16.079Z"
   },
   {
    "duration": 25,
    "start_time": "2023-08-29T17:12:16.261Z"
   },
   {
    "duration": 39,
    "start_time": "2023-08-29T17:12:16.287Z"
   },
   {
    "duration": 18,
    "start_time": "2023-08-29T17:12:16.328Z"
   },
   {
    "duration": 24,
    "start_time": "2023-08-29T17:12:16.348Z"
   },
   {
    "duration": 19,
    "start_time": "2023-08-29T17:12:16.373Z"
   },
   {
    "duration": 25,
    "start_time": "2023-08-29T17:12:16.394Z"
   },
   {
    "duration": 24,
    "start_time": "2023-08-29T17:12:16.421Z"
   },
   {
    "duration": 53,
    "start_time": "2023-08-29T17:12:16.447Z"
   },
   {
    "duration": 8,
    "start_time": "2023-08-29T17:12:16.502Z"
   },
   {
    "duration": 16,
    "start_time": "2023-08-29T17:12:16.512Z"
   },
   {
    "duration": 7,
    "start_time": "2023-08-29T17:12:16.531Z"
   },
   {
    "duration": 10,
    "start_time": "2023-08-29T17:12:16.542Z"
   },
   {
    "duration": 8,
    "start_time": "2023-08-29T17:12:16.554Z"
   },
   {
    "duration": 32,
    "start_time": "2023-08-29T17:12:16.563Z"
   },
   {
    "duration": 5,
    "start_time": "2023-08-29T17:12:16.597Z"
   },
   {
    "duration": 14,
    "start_time": "2023-08-29T17:12:16.605Z"
   },
   {
    "duration": 25,
    "start_time": "2023-08-29T17:12:16.621Z"
   },
   {
    "duration": 25,
    "start_time": "2023-08-29T17:12:16.658Z"
   },
   {
    "duration": 25,
    "start_time": "2023-08-29T17:12:16.685Z"
   },
   {
    "duration": 210,
    "start_time": "2023-08-29T17:12:16.712Z"
   },
   {
    "duration": 19,
    "start_time": "2023-08-29T17:12:16.923Z"
   },
   {
    "duration": 317,
    "start_time": "2023-08-29T17:12:16.956Z"
   },
   {
    "duration": 1202,
    "start_time": "2023-08-29T17:12:17.275Z"
   },
   {
    "duration": 7,
    "start_time": "2023-08-29T17:12:18.478Z"
   },
   {
    "duration": 215,
    "start_time": "2023-08-29T17:12:18.486Z"
   },
   {
    "duration": 2013,
    "start_time": "2023-08-29T17:12:18.703Z"
   },
   {
    "duration": 176,
    "start_time": "2023-08-29T17:12:20.718Z"
   },
   {
    "duration": 304,
    "start_time": "2023-08-29T17:12:20.896Z"
   },
   {
    "duration": 185,
    "start_time": "2023-08-29T17:12:21.203Z"
   },
   {
    "duration": 180,
    "start_time": "2023-08-29T17:12:21.390Z"
   },
   {
    "duration": 645,
    "start_time": "2023-08-29T17:12:21.572Z"
   },
   {
    "duration": 22,
    "start_time": "2023-08-29T17:12:22.219Z"
   },
   {
    "duration": 59,
    "start_time": "2023-08-29T17:12:22.257Z"
   },
   {
    "duration": 65,
    "start_time": "2023-08-29T17:12:22.318Z"
   },
   {
    "duration": 478,
    "start_time": "2023-08-29T17:12:22.385Z"
   },
   {
    "duration": 14,
    "start_time": "2023-08-29T17:12:22.865Z"
   },
   {
    "duration": 12,
    "start_time": "2023-08-29T17:12:22.882Z"
   },
   {
    "duration": 1450,
    "start_time": "2023-08-30T09:17:06.236Z"
   },
   {
    "duration": 182,
    "start_time": "2023-08-30T09:17:08.692Z"
   },
   {
    "duration": 24,
    "start_time": "2023-08-30T09:17:10.217Z"
   },
   {
    "duration": 15,
    "start_time": "2023-08-30T09:17:13.052Z"
   },
   {
    "duration": 4,
    "start_time": "2023-08-30T09:17:18.998Z"
   },
   {
    "duration": 30,
    "start_time": "2023-08-30T09:18:03.199Z"
   },
   {
    "duration": 4,
    "start_time": "2023-08-30T09:19:35.925Z"
   },
   {
    "duration": 4,
    "start_time": "2023-08-30T09:20:48.334Z"
   },
   {
    "duration": 4,
    "start_time": "2023-08-30T09:22:39.383Z"
   },
   {
    "duration": 4,
    "start_time": "2023-08-30T09:22:50.221Z"
   },
   {
    "duration": 113,
    "start_time": "2023-08-30T09:27:37.008Z"
   },
   {
    "duration": 5,
    "start_time": "2023-08-30T09:27:52.272Z"
   },
   {
    "duration": 10,
    "start_time": "2023-08-30T09:33:43.390Z"
   },
   {
    "duration": 8,
    "start_time": "2023-08-30T09:38:58.660Z"
   },
   {
    "duration": 8,
    "start_time": "2023-08-30T09:41:22.950Z"
   },
   {
    "duration": 6,
    "start_time": "2023-08-30T09:41:38.419Z"
   },
   {
    "duration": 9,
    "start_time": "2023-08-30T09:42:16.650Z"
   },
   {
    "duration": 4,
    "start_time": "2023-08-30T09:50:50.516Z"
   },
   {
    "duration": 16,
    "start_time": "2023-08-30T09:50:54.830Z"
   },
   {
    "duration": 4,
    "start_time": "2023-08-30T09:51:48.141Z"
   },
   {
    "duration": 6,
    "start_time": "2023-08-30T10:08:35.374Z"
   },
   {
    "duration": 9,
    "start_time": "2023-08-30T10:08:39.977Z"
   },
   {
    "duration": 6,
    "start_time": "2023-08-30T10:08:45.892Z"
   },
   {
    "duration": 7,
    "start_time": "2023-08-30T10:08:56.946Z"
   },
   {
    "duration": 8,
    "start_time": "2023-08-30T10:09:36.453Z"
   },
   {
    "duration": 5,
    "start_time": "2023-08-30T10:09:45.958Z"
   },
   {
    "duration": 17,
    "start_time": "2023-08-30T10:09:50.159Z"
   },
   {
    "duration": 4,
    "start_time": "2023-08-30T10:11:40.809Z"
   },
   {
    "duration": 4,
    "start_time": "2023-08-30T10:12:05.640Z"
   },
   {
    "duration": 14,
    "start_time": "2023-08-30T10:12:12.026Z"
   },
   {
    "duration": 2586,
    "start_time": "2023-08-30T10:22:28.287Z"
   },
   {
    "duration": 14,
    "start_time": "2023-08-30T10:22:50.733Z"
   },
   {
    "duration": 2250,
    "start_time": "2023-08-30T10:22:55.571Z"
   },
   {
    "duration": 20,
    "start_time": "2023-08-30T10:23:26.142Z"
   },
   {
    "duration": 124,
    "start_time": "2023-08-30T10:27:15.985Z"
   },
   {
    "duration": 116,
    "start_time": "2023-08-30T10:27:39.452Z"
   },
   {
    "duration": 117,
    "start_time": "2023-08-30T10:27:57.427Z"
   },
   {
    "duration": 7,
    "start_time": "2023-08-30T10:32:29.899Z"
   },
   {
    "duration": 7,
    "start_time": "2023-08-30T10:34:03.471Z"
   },
   {
    "duration": 13,
    "start_time": "2023-08-30T10:52:56.329Z"
   },
   {
    "duration": 3,
    "start_time": "2023-08-30T10:52:57.505Z"
   },
   {
    "duration": 5,
    "start_time": "2023-08-30T10:52:58.905Z"
   },
   {
    "duration": 13,
    "start_time": "2023-08-30T10:53:00.134Z"
   },
   {
    "duration": 16,
    "start_time": "2023-08-30T10:53:02.169Z"
   },
   {
    "duration": 15,
    "start_time": "2023-08-30T10:53:40.006Z"
   },
   {
    "duration": 164,
    "start_time": "2023-08-30T10:53:41.558Z"
   },
   {
    "duration": 17,
    "start_time": "2023-08-30T10:53:58.113Z"
   },
   {
    "duration": 15,
    "start_time": "2023-08-30T10:54:08.777Z"
   },
   {
    "duration": 166,
    "start_time": "2023-08-30T10:54:22.832Z"
   },
   {
    "duration": 194,
    "start_time": "2023-08-30T10:54:30.376Z"
   },
   {
    "duration": 102,
    "start_time": "2023-08-30T10:54:40.906Z"
   },
   {
    "duration": 313,
    "start_time": "2023-08-30T10:54:56.773Z"
   },
   {
    "duration": 148,
    "start_time": "2023-08-30T10:55:03.153Z"
   },
   {
    "duration": 13,
    "start_time": "2023-08-30T10:55:28.742Z"
   },
   {
    "duration": 20,
    "start_time": "2023-08-30T10:57:45.058Z"
   },
   {
    "duration": 2728,
    "start_time": "2023-08-30T10:58:15.546Z"
   },
   {
    "duration": 18,
    "start_time": "2023-08-30T10:58:46.389Z"
   },
   {
    "duration": 11,
    "start_time": "2023-08-30T11:00:37.607Z"
   },
   {
    "duration": 14,
    "start_time": "2023-08-30T11:00:49.082Z"
   },
   {
    "duration": 11,
    "start_time": "2023-08-30T11:00:55.941Z"
   },
   {
    "duration": 6,
    "start_time": "2023-08-30T11:01:26.196Z"
   },
   {
    "duration": 12,
    "start_time": "2023-08-30T11:01:47.277Z"
   },
   {
    "duration": 10,
    "start_time": "2023-08-30T11:02:09.223Z"
   },
   {
    "duration": 9,
    "start_time": "2023-08-30T11:06:46.566Z"
   },
   {
    "duration": 41,
    "start_time": "2023-08-30T11:09:14.354Z"
   },
   {
    "duration": 9,
    "start_time": "2023-08-30T11:09:51.256Z"
   },
   {
    "duration": 9,
    "start_time": "2023-08-30T11:10:04.591Z"
   },
   {
    "duration": 15,
    "start_time": "2023-08-30T11:10:17.878Z"
   },
   {
    "duration": 39,
    "start_time": "2023-08-30T11:11:34.566Z"
   },
   {
    "duration": 16,
    "start_time": "2023-08-30T11:11:38.860Z"
   },
   {
    "duration": 10,
    "start_time": "2023-08-30T11:12:15.860Z"
   },
   {
    "duration": 171,
    "start_time": "2023-08-30T11:29:28.348Z"
   },
   {
    "duration": 656,
    "start_time": "2023-08-30T11:29:34.837Z"
   },
   {
    "duration": 579,
    "start_time": "2023-08-30T11:29:51.526Z"
   },
   {
    "duration": 15,
    "start_time": "2023-08-30T11:30:01.848Z"
   },
   {
    "duration": 20,
    "start_time": "2023-08-30T11:30:16.334Z"
   },
   {
    "duration": 173,
    "start_time": "2023-08-30T11:30:21.820Z"
   },
   {
    "duration": 239,
    "start_time": "2023-08-30T11:30:30.658Z"
   },
   {
    "duration": 15,
    "start_time": "2023-08-30T11:31:25.222Z"
   },
   {
    "duration": 17,
    "start_time": "2023-08-30T11:31:30.391Z"
   },
   {
    "duration": 18,
    "start_time": "2023-08-30T11:32:08.292Z"
   },
   {
    "duration": 11,
    "start_time": "2023-08-30T11:34:12.935Z"
   },
   {
    "duration": 340,
    "start_time": "2023-08-30T11:34:31.502Z"
   },
   {
    "duration": 18,
    "start_time": "2023-08-30T11:34:34.028Z"
   },
   {
    "duration": 325,
    "start_time": "2023-08-30T11:34:36.159Z"
   },
   {
    "duration": 1128,
    "start_time": "2023-08-30T11:34:37.700Z"
   },
   {
    "duration": 6,
    "start_time": "2023-08-30T11:34:46.220Z"
   },
   {
    "duration": 242,
    "start_time": "2023-08-30T11:34:48.100Z"
   },
   {
    "duration": 2054,
    "start_time": "2023-08-30T11:34:50.276Z"
   },
   {
    "duration": 186,
    "start_time": "2023-08-30T11:35:00.008Z"
   },
   {
    "duration": 412,
    "start_time": "2023-08-30T11:40:17.029Z"
   },
   {
    "duration": 308,
    "start_time": "2023-08-30T11:40:57.684Z"
   },
   {
    "duration": 325,
    "start_time": "2023-08-30T11:41:06.919Z"
   },
   {
    "duration": 318,
    "start_time": "2023-08-30T11:41:15.091Z"
   },
   {
    "duration": 32,
    "start_time": "2023-08-30T11:49:34.848Z"
   },
   {
    "duration": 31,
    "start_time": "2023-08-30T11:50:25.116Z"
   },
   {
    "duration": 12,
    "start_time": "2023-08-30T11:51:01.721Z"
   },
   {
    "duration": 13,
    "start_time": "2023-08-30T11:51:24.688Z"
   },
   {
    "duration": 15,
    "start_time": "2023-08-30T11:51:30.558Z"
   },
   {
    "duration": 1357,
    "start_time": "2023-08-30T16:55:35.606Z"
   },
   {
    "duration": 116,
    "start_time": "2023-08-30T16:55:36.965Z"
   },
   {
    "duration": 34,
    "start_time": "2023-08-30T16:55:37.326Z"
   },
   {
    "duration": 26,
    "start_time": "2023-08-30T16:55:38.969Z"
   },
   {
    "duration": 21,
    "start_time": "2023-08-30T16:55:39.570Z"
   },
   {
    "duration": 5,
    "start_time": "2023-08-30T16:55:46.702Z"
   },
   {
    "duration": 5,
    "start_time": "2023-08-30T16:55:47.781Z"
   },
   {
    "duration": 12,
    "start_time": "2023-08-30T16:55:52.124Z"
   },
   {
    "duration": 10,
    "start_time": "2023-08-30T16:55:55.865Z"
   },
   {
    "duration": 16,
    "start_time": "2023-08-30T16:56:13.285Z"
   },
   {
    "duration": 8,
    "start_time": "2023-08-30T16:56:19.805Z"
   },
   {
    "duration": 7,
    "start_time": "2023-08-30T16:56:35.654Z"
   },
   {
    "duration": 105,
    "start_time": "2023-08-30T16:57:05.803Z"
   },
   {
    "duration": 9,
    "start_time": "2023-08-30T16:57:10.873Z"
   },
   {
    "duration": 3,
    "start_time": "2023-08-30T16:57:24.541Z"
   },
   {
    "duration": 5,
    "start_time": "2023-08-30T16:59:13.344Z"
   },
   {
    "duration": 11,
    "start_time": "2023-08-30T16:59:22.131Z"
   },
   {
    "duration": 6,
    "start_time": "2023-08-30T16:59:26.583Z"
   },
   {
    "duration": 15,
    "start_time": "2023-08-30T16:59:46.097Z"
   },
   {
    "duration": 3,
    "start_time": "2023-08-30T16:59:46.940Z"
   },
   {
    "duration": 6,
    "start_time": "2023-08-30T16:59:49.637Z"
   },
   {
    "duration": 9,
    "start_time": "2023-08-30T16:59:50.898Z"
   },
   {
    "duration": 6,
    "start_time": "2023-08-30T16:59:51.823Z"
   },
   {
    "duration": 8,
    "start_time": "2023-08-30T16:59:52.714Z"
   },
   {
    "duration": 5,
    "start_time": "2023-08-30T16:59:53.994Z"
   },
   {
    "duration": 6,
    "start_time": "2023-08-30T16:59:55.786Z"
   },
   {
    "duration": 130,
    "start_time": "2023-08-30T16:59:56.192Z"
   },
   {
    "duration": 6,
    "start_time": "2023-08-30T16:59:57.410Z"
   },
   {
    "duration": 110,
    "start_time": "2023-08-30T16:59:58.270Z"
   },
   {
    "duration": 130,
    "start_time": "2023-08-30T17:00:05.257Z"
   },
   {
    "duration": 99,
    "start_time": "2023-08-30T17:00:21.792Z"
   },
   {
    "duration": 135,
    "start_time": "2023-08-30T17:01:16.611Z"
   },
   {
    "duration": 1171,
    "start_time": "2023-08-30T17:02:07.021Z"
   },
   {
    "duration": 63,
    "start_time": "2023-08-30T17:02:09.116Z"
   },
   {
    "duration": 29,
    "start_time": "2023-08-30T17:02:11.044Z"
   },
   {
    "duration": 29,
    "start_time": "2023-08-30T17:02:13.258Z"
   },
   {
    "duration": 15,
    "start_time": "2023-08-30T17:02:13.999Z"
   },
   {
    "duration": 4,
    "start_time": "2023-08-30T17:02:18.414Z"
   },
   {
    "duration": 8,
    "start_time": "2023-08-30T17:02:20.957Z"
   },
   {
    "duration": 11,
    "start_time": "2023-08-30T17:02:24.444Z"
   },
   {
    "duration": 11,
    "start_time": "2023-08-30T17:02:25.269Z"
   },
   {
    "duration": 7,
    "start_time": "2023-08-30T17:02:33.858Z"
   },
   {
    "duration": 4,
    "start_time": "2023-08-30T17:02:36.895Z"
   },
   {
    "duration": 16,
    "start_time": "2023-08-30T17:02:38.974Z"
   },
   {
    "duration": 4,
    "start_time": "2023-08-30T17:02:41.070Z"
   },
   {
    "duration": 8,
    "start_time": "2023-08-30T17:02:46.465Z"
   },
   {
    "duration": 9,
    "start_time": "2023-08-30T17:02:50.930Z"
   },
   {
    "duration": 5,
    "start_time": "2023-08-30T17:02:52.711Z"
   },
   {
    "duration": 10,
    "start_time": "2023-08-30T17:02:54.948Z"
   },
   {
    "duration": 4,
    "start_time": "2023-08-30T17:02:58.824Z"
   },
   {
    "duration": 7,
    "start_time": "2023-08-30T17:03:01.281Z"
   },
   {
    "duration": 142,
    "start_time": "2023-08-30T17:03:02.768Z"
   },
   {
    "duration": 7,
    "start_time": "2023-08-30T17:03:05.617Z"
   },
   {
    "duration": 229,
    "start_time": "2023-08-30T17:03:06.941Z"
   },
   {
    "duration": 130,
    "start_time": "2023-08-30T17:04:30.747Z"
   },
   {
    "duration": 16,
    "start_time": "2023-08-30T17:04:37.213Z"
   },
   {
    "duration": 4,
    "start_time": "2023-08-30T17:04:38.264Z"
   },
   {
    "duration": 5,
    "start_time": "2023-08-30T17:04:39.441Z"
   },
   {
    "duration": 16,
    "start_time": "2023-08-30T17:04:40.907Z"
   },
   {
    "duration": 23,
    "start_time": "2023-08-30T17:04:42.558Z"
   },
   {
    "duration": 15,
    "start_time": "2023-08-30T17:04:50.259Z"
   },
   {
    "duration": 7,
    "start_time": "2023-08-30T17:05:32.584Z"
   },
   {
    "duration": 7,
    "start_time": "2023-08-30T17:08:11.517Z"
   },
   {
    "duration": 8,
    "start_time": "2023-08-30T17:13:23.225Z"
   },
   {
    "duration": 9,
    "start_time": "2023-08-30T17:14:37.807Z"
   },
   {
    "duration": 10,
    "start_time": "2023-08-30T17:14:51.553Z"
   },
   {
    "duration": 16,
    "start_time": "2023-08-30T17:16:34.471Z"
   },
   {
    "duration": 5,
    "start_time": "2023-08-30T17:19:43.166Z"
   },
   {
    "duration": 1362,
    "start_time": "2023-08-30T17:23:52.766Z"
   },
   {
    "duration": 11,
    "start_time": "2023-08-30T17:24:01.478Z"
   },
   {
    "duration": 1279,
    "start_time": "2023-08-30T17:27:36.506Z"
   },
   {
    "duration": 17,
    "start_time": "2023-08-30T17:27:43.314Z"
   },
   {
    "duration": 14,
    "start_time": "2023-08-30T17:28:59.242Z"
   },
   {
    "duration": 10,
    "start_time": "2023-08-30T17:29:20.917Z"
   },
   {
    "duration": 39,
    "start_time": "2023-08-30T17:32:19.039Z"
   },
   {
    "duration": 6,
    "start_time": "2023-08-30T17:33:02.011Z"
   },
   {
    "duration": 5,
    "start_time": "2023-08-30T17:35:19.292Z"
   },
   {
    "duration": 13,
    "start_time": "2023-08-30T17:36:03.051Z"
   },
   {
    "duration": 10,
    "start_time": "2023-08-30T17:36:53.695Z"
   },
   {
    "duration": 20,
    "start_time": "2023-08-30T17:37:00.715Z"
   },
   {
    "duration": 10,
    "start_time": "2023-08-30T17:37:09.186Z"
   },
   {
    "duration": 10,
    "start_time": "2023-08-30T17:38:40.635Z"
   },
   {
    "duration": 9,
    "start_time": "2023-08-30T17:38:50.319Z"
   },
   {
    "duration": 5,
    "start_time": "2023-08-30T17:38:57.716Z"
   },
   {
    "duration": 11,
    "start_time": "2023-08-30T17:39:06.439Z"
   },
   {
    "duration": 81,
    "start_time": "2023-08-30T17:39:56.429Z"
   },
   {
    "duration": 95,
    "start_time": "2023-08-30T17:40:04.525Z"
   },
   {
    "duration": 11,
    "start_time": "2023-08-30T17:40:09.118Z"
   },
   {
    "duration": 2603,
    "start_time": "2023-08-30T17:40:18.863Z"
   },
   {
    "duration": 10,
    "start_time": "2023-08-30T17:42:21.444Z"
   },
   {
    "duration": 7,
    "start_time": "2023-08-30T17:43:21.521Z"
   },
   {
    "duration": 8,
    "start_time": "2023-08-30T17:43:43.794Z"
   },
   {
    "duration": 9,
    "start_time": "2023-08-30T17:44:29.571Z"
   },
   {
    "duration": 9,
    "start_time": "2023-08-30T17:46:07.527Z"
   },
   {
    "duration": 11,
    "start_time": "2023-08-30T17:47:18.844Z"
   },
   {
    "duration": 23,
    "start_time": "2023-08-30T17:48:01.379Z"
   },
   {
    "duration": 11,
    "start_time": "2023-08-30T17:48:34.226Z"
   },
   {
    "duration": 194,
    "start_time": "2023-08-30T17:50:03.632Z"
   },
   {
    "duration": 10,
    "start_time": "2023-08-30T17:50:19.223Z"
   },
   {
    "duration": 6,
    "start_time": "2023-08-30T17:51:39.715Z"
   },
   {
    "duration": 5,
    "start_time": "2023-08-30T17:51:46.796Z"
   },
   {
    "duration": 1192,
    "start_time": "2023-08-30T17:52:05.047Z"
   },
   {
    "duration": 58,
    "start_time": "2023-08-30T17:52:06.944Z"
   },
   {
    "duration": 28,
    "start_time": "2023-08-30T17:52:08.337Z"
   },
   {
    "duration": 31,
    "start_time": "2023-08-30T17:52:09.744Z"
   },
   {
    "duration": 17,
    "start_time": "2023-08-30T17:52:10.243Z"
   },
   {
    "duration": 4,
    "start_time": "2023-08-30T17:52:13.117Z"
   },
   {
    "duration": 4,
    "start_time": "2023-08-30T17:52:14.244Z"
   },
   {
    "duration": 20,
    "start_time": "2023-08-30T17:52:16.746Z"
   },
   {
    "duration": 9,
    "start_time": "2023-08-30T17:52:17.279Z"
   },
   {
    "duration": 5,
    "start_time": "2023-08-30T17:52:20.710Z"
   },
   {
    "duration": 4,
    "start_time": "2023-08-30T17:52:22.681Z"
   },
   {
    "duration": 16,
    "start_time": "2023-08-30T17:52:24.662Z"
   },
   {
    "duration": 3,
    "start_time": "2023-08-30T17:52:25.803Z"
   },
   {
    "duration": 5,
    "start_time": "2023-08-30T17:52:28.411Z"
   },
   {
    "duration": 9,
    "start_time": "2023-08-30T17:52:30.163Z"
   },
   {
    "duration": 5,
    "start_time": "2023-08-30T17:52:31.315Z"
   },
   {
    "duration": 8,
    "start_time": "2023-08-30T17:52:32.522Z"
   },
   {
    "duration": 4,
    "start_time": "2023-08-30T17:52:34.336Z"
   },
   {
    "duration": 6,
    "start_time": "2023-08-30T17:52:36.605Z"
   },
   {
    "duration": 109,
    "start_time": "2023-08-30T17:52:37.405Z"
   },
   {
    "duration": 7,
    "start_time": "2023-08-30T17:52:39.409Z"
   },
   {
    "duration": 198,
    "start_time": "2023-08-30T17:52:40.228Z"
   },
   {
    "duration": 15,
    "start_time": "2023-08-30T17:52:50.998Z"
   },
   {
    "duration": 5,
    "start_time": "2023-08-30T17:52:51.963Z"
   },
   {
    "duration": 5,
    "start_time": "2023-08-30T17:52:52.839Z"
   },
   {
    "duration": 13,
    "start_time": "2023-08-30T17:52:53.308Z"
   },
   {
    "duration": 25,
    "start_time": "2023-08-30T17:52:54.282Z"
   },
   {
    "duration": 7,
    "start_time": "2023-08-30T17:52:57.614Z"
   },
   {
    "duration": 15,
    "start_time": "2023-08-30T17:52:58.069Z"
   },
   {
    "duration": 23,
    "start_time": "2023-08-30T17:52:58.541Z"
   },
   {
    "duration": 16,
    "start_time": "2023-08-30T17:52:59.042Z"
   },
   {
    "duration": 8,
    "start_time": "2023-08-30T17:52:59.690Z"
   },
   {
    "duration": 12,
    "start_time": "2023-08-30T17:53:01.686Z"
   },
   {
    "duration": 10,
    "start_time": "2023-08-30T17:53:02.446Z"
   },
   {
    "duration": 14,
    "start_time": "2023-08-30T17:54:25.517Z"
   },
   {
    "duration": 14,
    "start_time": "2023-08-30T17:55:18.393Z"
   },
   {
    "duration": 10,
    "start_time": "2023-08-30T17:57:33.087Z"
   },
   {
    "duration": 3,
    "start_time": "2023-08-30T17:58:30.665Z"
   },
   {
    "duration": 10,
    "start_time": "2023-08-30T17:58:34.171Z"
   },
   {
    "duration": 1105,
    "start_time": "2023-08-30T17:59:04.247Z"
   },
   {
    "duration": 58,
    "start_time": "2023-08-30T17:59:05.543Z"
   },
   {
    "duration": 27,
    "start_time": "2023-08-30T17:59:06.747Z"
   },
   {
    "duration": 39,
    "start_time": "2023-08-30T17:59:08.028Z"
   },
   {
    "duration": 14,
    "start_time": "2023-08-30T17:59:08.466Z"
   },
   {
    "duration": 4,
    "start_time": "2023-08-30T17:59:10.695Z"
   },
   {
    "duration": 4,
    "start_time": "2023-08-30T17:59:11.798Z"
   },
   {
    "duration": 9,
    "start_time": "2023-08-30T17:59:14.336Z"
   },
   {
    "duration": 14,
    "start_time": "2023-08-30T17:59:14.846Z"
   },
   {
    "duration": 5,
    "start_time": "2023-08-30T17:59:17.938Z"
   },
   {
    "duration": 3,
    "start_time": "2023-08-30T17:59:18.998Z"
   },
   {
    "duration": 16,
    "start_time": "2023-08-30T17:59:20.176Z"
   },
   {
    "duration": 4,
    "start_time": "2023-08-30T17:59:21.213Z"
   },
   {
    "duration": 6,
    "start_time": "2023-08-30T17:59:23.464Z"
   },
   {
    "duration": 8,
    "start_time": "2023-08-30T17:59:26.572Z"
   },
   {
    "duration": 6,
    "start_time": "2023-08-30T17:59:27.965Z"
   },
   {
    "duration": 8,
    "start_time": "2023-08-30T17:59:29.071Z"
   },
   {
    "duration": 4,
    "start_time": "2023-08-30T17:59:30.696Z"
   },
   {
    "duration": 7,
    "start_time": "2023-08-30T17:59:32.402Z"
   },
   {
    "duration": 143,
    "start_time": "2023-08-30T17:59:33.649Z"
   },
   {
    "duration": 6,
    "start_time": "2023-08-30T17:59:35.867Z"
   },
   {
    "duration": 197,
    "start_time": "2023-08-30T17:59:36.677Z"
   },
   {
    "duration": 17,
    "start_time": "2023-08-30T17:59:39.206Z"
   },
   {
    "duration": 4,
    "start_time": "2023-08-30T17:59:40.330Z"
   },
   {
    "duration": 7,
    "start_time": "2023-08-30T17:59:41.365Z"
   },
   {
    "duration": 17,
    "start_time": "2023-08-30T17:59:41.940Z"
   },
   {
    "duration": 16,
    "start_time": "2023-08-30T17:59:43.082Z"
   },
   {
    "duration": 6,
    "start_time": "2023-08-30T17:59:47.134Z"
   },
   {
    "duration": 15,
    "start_time": "2023-08-30T17:59:47.754Z"
   },
   {
    "duration": 27,
    "start_time": "2023-08-30T17:59:48.813Z"
   },
   {
    "duration": 13,
    "start_time": "2023-08-30T17:59:49.920Z"
   },
   {
    "duration": 7,
    "start_time": "2023-08-30T17:59:53.528Z"
   },
   {
    "duration": 7,
    "start_time": "2023-08-30T17:59:54.424Z"
   },
   {
    "duration": 8,
    "start_time": "2023-08-30T17:59:55.571Z"
   },
   {
    "duration": 12,
    "start_time": "2023-08-30T18:00:02.582Z"
   },
   {
    "duration": 567,
    "start_time": "2023-08-30T18:00:42.565Z"
   },
   {
    "duration": 282,
    "start_time": "2023-08-30T18:00:49.595Z"
   },
   {
    "duration": 180,
    "start_time": "2023-08-30T18:01:02.138Z"
   },
   {
    "duration": 10,
    "start_time": "2023-08-30T18:08:05.687Z"
   },
   {
    "duration": 109,
    "start_time": "2023-08-30T18:08:20.339Z"
   },
   {
    "duration": 103,
    "start_time": "2023-08-30T18:08:49.765Z"
   },
   {
    "duration": 106,
    "start_time": "2023-08-30T18:09:20.863Z"
   },
   {
    "duration": 177,
    "start_time": "2023-08-30T18:09:30.223Z"
   },
   {
    "duration": 188,
    "start_time": "2023-08-30T18:11:04.033Z"
   },
   {
    "duration": 103,
    "start_time": "2023-08-30T18:11:22.965Z"
   },
   {
    "duration": 16,
    "start_time": "2023-08-30T18:11:24.954Z"
   },
   {
    "duration": 6,
    "start_time": "2023-08-30T18:11:26.069Z"
   },
   {
    "duration": 3,
    "start_time": "2023-08-30T18:11:26.764Z"
   },
   {
    "duration": 12,
    "start_time": "2023-08-30T18:11:27.283Z"
   },
   {
    "duration": 21,
    "start_time": "2023-08-30T18:11:28.186Z"
   },
   {
    "duration": 15,
    "start_time": "2023-08-30T18:11:31.665Z"
   },
   {
    "duration": 28,
    "start_time": "2023-08-30T18:11:32.285Z"
   },
   {
    "duration": 10,
    "start_time": "2023-08-30T18:11:32.863Z"
   },
   {
    "duration": 7,
    "start_time": "2023-08-30T18:11:33.489Z"
   },
   {
    "duration": 6,
    "start_time": "2023-08-30T18:11:34.137Z"
   },
   {
    "duration": 8,
    "start_time": "2023-08-30T18:11:34.720Z"
   },
   {
    "duration": 12,
    "start_time": "2023-08-30T18:11:35.510Z"
   },
   {
    "duration": 185,
    "start_time": "2023-08-30T18:11:40.555Z"
   },
   {
    "duration": 17,
    "start_time": "2023-08-30T18:11:43.723Z"
   },
   {
    "duration": 289,
    "start_time": "2023-08-30T18:11:52.924Z"
   },
   {
    "duration": 1061,
    "start_time": "2023-08-30T18:11:56.208Z"
   },
   {
    "duration": 8,
    "start_time": "2023-08-30T18:12:07.593Z"
   },
   {
    "duration": 209,
    "start_time": "2023-08-30T18:12:08.894Z"
   },
   {
    "duration": 1757,
    "start_time": "2023-08-30T18:12:10.483Z"
   },
   {
    "duration": 149,
    "start_time": "2023-08-30T18:12:12.430Z"
   },
   {
    "duration": 270,
    "start_time": "2023-08-30T18:12:15.416Z"
   },
   {
    "duration": 328,
    "start_time": "2023-08-30T18:12:16.108Z"
   },
   {
    "duration": 12,
    "start_time": "2023-08-30T18:12:21.328Z"
   },
   {
    "duration": 142,
    "start_time": "2023-08-30T18:14:42.267Z"
   },
   {
    "duration": 146,
    "start_time": "2023-08-30T18:14:44.766Z"
   },
   {
    "duration": 762,
    "start_time": "2023-08-30T18:14:46.513Z"
   },
   {
    "duration": 26,
    "start_time": "2023-08-30T18:14:48.880Z"
   },
   {
    "duration": 33,
    "start_time": "2023-08-30T18:14:52.441Z"
   },
   {
    "duration": 39,
    "start_time": "2023-08-30T18:14:53.682Z"
   },
   {
    "duration": 322,
    "start_time": "2023-08-30T18:14:56.725Z"
   },
   {
    "duration": 8,
    "start_time": "2023-08-30T18:15:12.065Z"
   },
   {
    "duration": 9,
    "start_time": "2023-08-30T18:15:14.998Z"
   },
   {
    "duration": 37,
    "start_time": "2023-08-30T18:21:23.923Z"
   },
   {
    "duration": 188,
    "start_time": "2023-08-30T18:26:22.558Z"
   },
   {
    "duration": 115,
    "start_time": "2023-08-30T18:26:33.824Z"
   },
   {
    "duration": 104,
    "start_time": "2023-08-30T18:26:44.703Z"
   },
   {
    "duration": 127,
    "start_time": "2023-08-30T18:26:55.641Z"
   },
   {
    "duration": 275,
    "start_time": "2023-08-30T18:28:41.720Z"
   }
  ],
  "kernelspec": {
   "display_name": "Python 3 (ipykernel)",
   "language": "python",
   "name": "python3"
  },
  "language_info": {
   "codemirror_mode": {
    "name": "ipython",
    "version": 3
   },
   "file_extension": ".py",
   "mimetype": "text/x-python",
   "name": "python",
   "nbconvert_exporter": "python",
   "pygments_lexer": "ipython3",
   "version": "3.9.5"
  },
  "toc": {
   "base_numbering": 1,
   "nav_menu": {},
   "number_sections": true,
   "sideBar": true,
   "skip_h1_title": true,
   "title_cell": "Table of Contents",
   "title_sidebar": "Contents",
   "toc_cell": false,
   "toc_position": {},
   "toc_section_display": true,
   "toc_window_display": false
  }
 },
 "nbformat": 4,
 "nbformat_minor": 2
}
