{
 "cells": [
  {
   "cell_type": "markdown",
   "metadata": {},
   "source": [
    "# Банки — Анализ оттока клиентов\n",
    "\n",
    "Презентация\n",
    "\n",
    "Ссылка на презетацию: https://disk.yandex.ru/i/hOHMLbEzce6r1A\n",
    "# Описание проекта\n",
    "\n",
    "\n",
    "# Цель проекта: \n",
    "проанализировать клиентов регионального банка «Метанпром» и выделить портрет клиентов, которые склонны попадать в отток.\n",
    "\n",
    "# Задачи:\n",
    "\n",
    "- Загрузка данных\n",
    "  - 1.1 Импорт библиотек, загрузка и ознакомление с данными;\n",
    "  - Вывод (Ознакомление с данными)\n",
    "- Предобработка данных\n",
    "  - 2.1 Проверка корректности и переименование колонок;\n",
    "  - 2.2 Исследование и удаление дубликатов;\n",
    "  - 2.3 Анализ природы пропусков и их разумная обработка;\n",
    "  - 2.4 Кодирование;\n",
    "  - Вывод (Предобработка данных)\n",
    "- Исследовательский анализ данных (EDA)\n",
    "  - 3.1 Анализ распределения признаков, в двух группах — тех, кто ушел в отток и тех, кто остался (непрерывные - ищем отточные интервалы, категориальные/дискретные - ищем значения признака с оттоком выше, чем по банку);\n",
    "  - 3.2 Построим столбчатые гистограммы и распределения признаков для тех, кто ушёл  и тех, кто остался;\n",
    "  - 3.3 Анализ портретов клиентов в разрезе оттока;\n",
    "  - 3.4 Корреляционный анализ;\n",
    "  - Вывод (Исследовательский анализ данных)\n",
    "- Проверка статистических гипотез\n",
    "  - 4.1. Различия дохода между ушедшими и оставшимися клиентами.\n",
    "  - вывод (гипотезы)\n",
    "  - 4.2 Средний кредитный рейтинг у ушедших и оставшихся клиентов.\n",
    "  - вывод (гипотезы)\n",
    "- Подведение промежуточных итогов \n",
    "  - выводы по результатам EDA, корреляционного анализа и гипотез, выделение признаков, влияющих на оттток.\n",
    "- Сегментация пользователей по потреблению.\n",
    "  - Проанализиуем факторы, влияющие на отток пользователей: зависит ли отток от пола, возраста, города проживания, дохода, кол-ва обьектов недвижимости в собственности;\n",
    "- Вывод \n",
    "- Приоритизация сегментов\n",
    "- Формирование рекомендаций\n",
    "\n",
    "# Описание данных\n",
    "\n",
    "Заказчик подготовил для нас файл, который содержит данные о клиентах банка «Метанпром». Банк располагается в Ярославле и областных городах: Ростов Великий и Рыбинск. Набор данных включает следующие поля:\n",
    "\n",
    "- Userid — идентификатор пользователя;\n",
    "- Score — баллы кредитного скоринга;\n",
    "- City — город;\n",
    "- Gender — пол;\n",
    "- Age — возраст;\n",
    "- Equity - колличество баллов собственности;\n",
    "- Balance — баланс на счете;\n",
    "- Products — количество продуктов, которыми пользуется клиент;\n",
    "- Credit_Card — есть ли кредитная карта;\n",
    "- Loyalty — активный клиент;\n",
    "- Est_salary — заработная плата клиента;\n",
    "- Churn — ушел или нет."
   ]
  },
  {
   "cell_type": "markdown",
   "metadata": {},
   "source": [
    "## Шаг. Загрузка данных\n",
    "### Импорт библиотек, загрузка и ознакомление с данными;"
   ]
  },
  {
   "cell_type": "code",
   "execution_count": 1,
   "metadata": {},
   "outputs": [],
   "source": [
    "# импортируем необходимые для работы библиотеки:\n",
    "\n",
    "import pandas as pd\n",
    "import numpy as np\n",
    "import seaborn as sns\n",
    "import matplotlib.pyplot as plt\n",
    "from scipy import stats as st\n",
    "import itertools\n",
    "import statistics as sta\n",
    "from statsmodels.stats.proportion import proportions_ztest\n",
    "import warnings \n",
    "warnings.filterwarnings('ignore')"
   ]
  },
  {
   "cell_type": "code",
   "execution_count": 2,
   "metadata": {},
   "outputs": [],
   "source": [
    "try:\n",
    "    data = pd.read_csv('/datasets/bank_scrooge.csv')\n",
    "except:\n",
    "    data = pd.read_csv('bank_scrooge.csv')\n",
    "    print('не сработал')"
   ]
  },
  {
   "cell_type": "markdown",
   "metadata": {},
   "source": [
    "Ознакомимся с данными"
   ]
  },
  {
   "cell_type": "code",
   "execution_count": 3,
   "metadata": {},
   "outputs": [
    {
     "data": {
      "text/html": [
       "<div>\n",
       "<style scoped>\n",
       "    .dataframe tbody tr th:only-of-type {\n",
       "        vertical-align: middle;\n",
       "    }\n",
       "\n",
       "    .dataframe tbody tr th {\n",
       "        vertical-align: top;\n",
       "    }\n",
       "\n",
       "    .dataframe thead th {\n",
       "        text-align: right;\n",
       "    }\n",
       "</style>\n",
       "<table border=\"1\" class=\"dataframe\">\n",
       "  <thead>\n",
       "    <tr style=\"text-align: right;\">\n",
       "      <th></th>\n",
       "      <th>USERID</th>\n",
       "      <th>score</th>\n",
       "      <th>city</th>\n",
       "      <th>gender</th>\n",
       "      <th>age</th>\n",
       "      <th>equity</th>\n",
       "      <th>balance</th>\n",
       "      <th>products</th>\n",
       "      <th>credit_card</th>\n",
       "      <th>last_activity</th>\n",
       "      <th>EST_SALARY</th>\n",
       "      <th>churn</th>\n",
       "    </tr>\n",
       "  </thead>\n",
       "  <tbody>\n",
       "    <tr>\n",
       "      <th>0</th>\n",
       "      <td>183012</td>\n",
       "      <td>850.0</td>\n",
       "      <td>Рыбинск</td>\n",
       "      <td>Ж</td>\n",
       "      <td>25.0</td>\n",
       "      <td>1</td>\n",
       "      <td>59214.82</td>\n",
       "      <td>2</td>\n",
       "      <td>0</td>\n",
       "      <td>1</td>\n",
       "      <td>75719.14</td>\n",
       "      <td>1</td>\n",
       "    </tr>\n",
       "    <tr>\n",
       "      <th>1</th>\n",
       "      <td>146556</td>\n",
       "      <td>861.0</td>\n",
       "      <td>Рыбинск</td>\n",
       "      <td>Ж</td>\n",
       "      <td>37.0</td>\n",
       "      <td>5</td>\n",
       "      <td>850594.33</td>\n",
       "      <td>3</td>\n",
       "      <td>1</td>\n",
       "      <td>0</td>\n",
       "      <td>86621.77</td>\n",
       "      <td>0</td>\n",
       "    </tr>\n",
       "    <tr>\n",
       "      <th>2</th>\n",
       "      <td>120722</td>\n",
       "      <td>892.0</td>\n",
       "      <td>Рыбинск</td>\n",
       "      <td>Ж</td>\n",
       "      <td>30.0</td>\n",
       "      <td>0</td>\n",
       "      <td>NaN</td>\n",
       "      <td>1</td>\n",
       "      <td>1</td>\n",
       "      <td>1</td>\n",
       "      <td>107683.34</td>\n",
       "      <td>0</td>\n",
       "    </tr>\n",
       "    <tr>\n",
       "      <th>3</th>\n",
       "      <td>225363</td>\n",
       "      <td>866.0</td>\n",
       "      <td>Ярославль</td>\n",
       "      <td>Ж</td>\n",
       "      <td>51.0</td>\n",
       "      <td>5</td>\n",
       "      <td>1524746.26</td>\n",
       "      <td>2</td>\n",
       "      <td>0</td>\n",
       "      <td>1</td>\n",
       "      <td>174423.53</td>\n",
       "      <td>1</td>\n",
       "    </tr>\n",
       "    <tr>\n",
       "      <th>4</th>\n",
       "      <td>157978</td>\n",
       "      <td>730.0</td>\n",
       "      <td>Ярославль</td>\n",
       "      <td>М</td>\n",
       "      <td>34.0</td>\n",
       "      <td>5</td>\n",
       "      <td>174.00</td>\n",
       "      <td>1</td>\n",
       "      <td>1</td>\n",
       "      <td>0</td>\n",
       "      <td>67353.16</td>\n",
       "      <td>1</td>\n",
       "    </tr>\n",
       "  </tbody>\n",
       "</table>\n",
       "</div>"
      ],
      "text/plain": [
       "   USERID  score       city gender   age  equity     balance  products  \\\n",
       "0  183012  850.0    Рыбинск      Ж  25.0       1    59214.82         2   \n",
       "1  146556  861.0    Рыбинск      Ж  37.0       5   850594.33         3   \n",
       "2  120722  892.0    Рыбинск      Ж  30.0       0         NaN         1   \n",
       "3  225363  866.0  Ярославль      Ж  51.0       5  1524746.26         2   \n",
       "4  157978  730.0  Ярославль      М  34.0       5      174.00         1   \n",
       "\n",
       "   credit_card  last_activity  EST_SALARY  churn  \n",
       "0            0              1    75719.14      1  \n",
       "1            1              0    86621.77      0  \n",
       "2            1              1   107683.34      0  \n",
       "3            0              1   174423.53      1  \n",
       "4            1              0    67353.16      1  "
      ]
     },
     "execution_count": 3,
     "metadata": {},
     "output_type": "execute_result"
    }
   ],
   "source": [
    "# выведем первые 5 строк\n",
    "data.head()"
   ]
  },
  {
   "cell_type": "code",
   "execution_count": 4,
   "metadata": {},
   "outputs": [
    {
     "data": {
      "text/plain": [
       "(10000, 12)"
      ]
     },
     "execution_count": 4,
     "metadata": {},
     "output_type": "execute_result"
    }
   ],
   "source": [
    "data.shape"
   ]
  },
  {
   "cell_type": "code",
   "execution_count": 5,
   "metadata": {},
   "outputs": [
    {
     "name": "stdout",
     "output_type": "stream",
     "text": [
      "<class 'pandas.core.frame.DataFrame'>\n",
      "RangeIndex: 10000 entries, 0 to 9999\n",
      "Data columns (total 12 columns):\n",
      " #   Column         Non-Null Count  Dtype  \n",
      "---  ------         --------------  -----  \n",
      " 0   USERID         10000 non-null  int64  \n",
      " 1   score          10000 non-null  float64\n",
      " 2   city           10000 non-null  object \n",
      " 3   gender         10000 non-null  object \n",
      " 4   age            9974 non-null   float64\n",
      " 5   equity         10000 non-null  int64  \n",
      " 6   balance        7705 non-null   float64\n",
      " 7   products       10000 non-null  int64  \n",
      " 8   credit_card    10000 non-null  int64  \n",
      " 9   last_activity  10000 non-null  int64  \n",
      " 10  EST_SALARY     10000 non-null  float64\n",
      " 11  churn          10000 non-null  int64  \n",
      "dtypes: float64(4), int64(6), object(2)\n",
      "memory usage: 937.6+ KB\n"
     ]
    }
   ],
   "source": [
    "data.info()"
   ]
  },
  {
   "cell_type": "markdown",
   "metadata": {},
   "source": [
    "Вывод (Ознакомление с данными)\n",
    "\n",
    "- Данные корректны у нас 10 000 сторк и 12 столбцов \n",
    "- Проверим данные на пропуски. Видим уже на данном этапе пропуски по балансу\n",
    "- так же видим не корректно записанные название колонок, приведем к нижнему регистру и добавим змеиный регистр\n",
    "- Проверим на данные дубликаты\n",
    "- Типы данных надо поправить"
   ]
  },
  {
   "cell_type": "markdown",
   "metadata": {},
   "source": [
    "## Шаг. Предобработка данных\n",
    "### Проверка корректности и переименование колонок;\n",
    "\n",
    "Приведем названия столбцов к нижнему регистру. Также добавим \"змеиный регистр\" для столбца USERID и EST_SALARY."
   ]
  },
  {
   "cell_type": "code",
   "execution_count": 6,
   "metadata": {},
   "outputs": [
    {
     "data": {
      "text/html": [
       "<div>\n",
       "<style scoped>\n",
       "    .dataframe tbody tr th:only-of-type {\n",
       "        vertical-align: middle;\n",
       "    }\n",
       "\n",
       "    .dataframe tbody tr th {\n",
       "        vertical-align: top;\n",
       "    }\n",
       "\n",
       "    .dataframe thead th {\n",
       "        text-align: right;\n",
       "    }\n",
       "</style>\n",
       "<table border=\"1\" class=\"dataframe\">\n",
       "  <thead>\n",
       "    <tr style=\"text-align: right;\">\n",
       "      <th></th>\n",
       "      <th>user_id</th>\n",
       "      <th>score</th>\n",
       "      <th>city</th>\n",
       "      <th>gender</th>\n",
       "      <th>age</th>\n",
       "      <th>equity</th>\n",
       "      <th>balance</th>\n",
       "      <th>products</th>\n",
       "      <th>credit_card</th>\n",
       "      <th>last_activity</th>\n",
       "      <th>est_salary</th>\n",
       "      <th>churn</th>\n",
       "    </tr>\n",
       "  </thead>\n",
       "  <tbody>\n",
       "    <tr>\n",
       "      <th>0</th>\n",
       "      <td>183012</td>\n",
       "      <td>850.0</td>\n",
       "      <td>Рыбинск</td>\n",
       "      <td>Ж</td>\n",
       "      <td>25.0</td>\n",
       "      <td>1</td>\n",
       "      <td>59214.82</td>\n",
       "      <td>2</td>\n",
       "      <td>0</td>\n",
       "      <td>1</td>\n",
       "      <td>75719.14</td>\n",
       "      <td>1</td>\n",
       "    </tr>\n",
       "    <tr>\n",
       "      <th>1</th>\n",
       "      <td>146556</td>\n",
       "      <td>861.0</td>\n",
       "      <td>Рыбинск</td>\n",
       "      <td>Ж</td>\n",
       "      <td>37.0</td>\n",
       "      <td>5</td>\n",
       "      <td>850594.33</td>\n",
       "      <td>3</td>\n",
       "      <td>1</td>\n",
       "      <td>0</td>\n",
       "      <td>86621.77</td>\n",
       "      <td>0</td>\n",
       "    </tr>\n",
       "    <tr>\n",
       "      <th>2</th>\n",
       "      <td>120722</td>\n",
       "      <td>892.0</td>\n",
       "      <td>Рыбинск</td>\n",
       "      <td>Ж</td>\n",
       "      <td>30.0</td>\n",
       "      <td>0</td>\n",
       "      <td>NaN</td>\n",
       "      <td>1</td>\n",
       "      <td>1</td>\n",
       "      <td>1</td>\n",
       "      <td>107683.34</td>\n",
       "      <td>0</td>\n",
       "    </tr>\n",
       "    <tr>\n",
       "      <th>3</th>\n",
       "      <td>225363</td>\n",
       "      <td>866.0</td>\n",
       "      <td>Ярославль</td>\n",
       "      <td>Ж</td>\n",
       "      <td>51.0</td>\n",
       "      <td>5</td>\n",
       "      <td>1524746.26</td>\n",
       "      <td>2</td>\n",
       "      <td>0</td>\n",
       "      <td>1</td>\n",
       "      <td>174423.53</td>\n",
       "      <td>1</td>\n",
       "    </tr>\n",
       "    <tr>\n",
       "      <th>4</th>\n",
       "      <td>157978</td>\n",
       "      <td>730.0</td>\n",
       "      <td>Ярославль</td>\n",
       "      <td>М</td>\n",
       "      <td>34.0</td>\n",
       "      <td>5</td>\n",
       "      <td>174.00</td>\n",
       "      <td>1</td>\n",
       "      <td>1</td>\n",
       "      <td>0</td>\n",
       "      <td>67353.16</td>\n",
       "      <td>1</td>\n",
       "    </tr>\n",
       "  </tbody>\n",
       "</table>\n",
       "</div>"
      ],
      "text/plain": [
       "   user_id  score       city gender   age  equity     balance  products  \\\n",
       "0   183012  850.0    Рыбинск      Ж  25.0       1    59214.82         2   \n",
       "1   146556  861.0    Рыбинск      Ж  37.0       5   850594.33         3   \n",
       "2   120722  892.0    Рыбинск      Ж  30.0       0         NaN         1   \n",
       "3   225363  866.0  Ярославль      Ж  51.0       5  1524746.26         2   \n",
       "4   157978  730.0  Ярославль      М  34.0       5      174.00         1   \n",
       "\n",
       "   credit_card  last_activity  est_salary  churn  \n",
       "0            0              1    75719.14      1  \n",
       "1            1              0    86621.77      0  \n",
       "2            1              1   107683.34      0  \n",
       "3            0              1   174423.53      1  \n",
       "4            1              0    67353.16      1  "
      ]
     },
     "execution_count": 6,
     "metadata": {},
     "output_type": "execute_result"
    }
   ],
   "source": [
    "data = data.rename (columns = {'USERID':'user_id', 'EST_SALARY':'est_salary'})\n",
    "data.head()"
   ]
  },
  {
   "cell_type": "code",
   "execution_count": 7,
   "metadata": {},
   "outputs": [],
   "source": [
    "# меняем тип данных в столбце\n",
    "data['score'] = data['score'].astype('int')"
   ]
  },
  {
   "cell_type": "markdown",
   "metadata": {},
   "source": [
    "посмотрим на корректность данных"
   ]
  },
  {
   "cell_type": "code",
   "execution_count": 8,
   "metadata": {},
   "outputs": [
    {
     "data": {
      "text/html": [
       "<div>\n",
       "<style scoped>\n",
       "    .dataframe tbody tr th:only-of-type {\n",
       "        vertical-align: middle;\n",
       "    }\n",
       "\n",
       "    .dataframe tbody tr th {\n",
       "        vertical-align: top;\n",
       "    }\n",
       "\n",
       "    .dataframe thead th {\n",
       "        text-align: right;\n",
       "    }\n",
       "</style>\n",
       "<table border=\"1\" class=\"dataframe\">\n",
       "  <thead>\n",
       "    <tr style=\"text-align: right;\">\n",
       "      <th></th>\n",
       "      <th>user_id</th>\n",
       "      <th>score</th>\n",
       "      <th>age</th>\n",
       "      <th>equity</th>\n",
       "      <th>balance</th>\n",
       "      <th>products</th>\n",
       "      <th>credit_card</th>\n",
       "      <th>last_activity</th>\n",
       "      <th>est_salary</th>\n",
       "      <th>churn</th>\n",
       "    </tr>\n",
       "  </thead>\n",
       "  <tbody>\n",
       "    <tr>\n",
       "      <th>count</th>\n",
       "      <td>10000.00000</td>\n",
       "      <td>10000.000000</td>\n",
       "      <td>9974.000000</td>\n",
       "      <td>10000.000000</td>\n",
       "      <td>7.705000e+03</td>\n",
       "      <td>10000.000000</td>\n",
       "      <td>10000.000000</td>\n",
       "      <td>10000.000000</td>\n",
       "      <td>1.000000e+04</td>\n",
       "      <td>10000.000000</td>\n",
       "    </tr>\n",
       "    <tr>\n",
       "      <th>mean</th>\n",
       "      <td>171814.71260</td>\n",
       "      <td>848.699400</td>\n",
       "      <td>42.734409</td>\n",
       "      <td>2.627600</td>\n",
       "      <td>8.277943e+05</td>\n",
       "      <td>1.870100</td>\n",
       "      <td>0.680400</td>\n",
       "      <td>0.523500</td>\n",
       "      <td>1.478669e+05</td>\n",
       "      <td>0.182000</td>\n",
       "    </tr>\n",
       "    <tr>\n",
       "      <th>std</th>\n",
       "      <td>33708.23812</td>\n",
       "      <td>65.448519</td>\n",
       "      <td>12.179971</td>\n",
       "      <td>1.980836</td>\n",
       "      <td>1.980614e+06</td>\n",
       "      <td>0.792647</td>\n",
       "      <td>0.466345</td>\n",
       "      <td>0.499472</td>\n",
       "      <td>1.393885e+05</td>\n",
       "      <td>0.385864</td>\n",
       "    </tr>\n",
       "    <tr>\n",
       "      <th>min</th>\n",
       "      <td>94561.00000</td>\n",
       "      <td>642.000000</td>\n",
       "      <td>18.000000</td>\n",
       "      <td>0.000000</td>\n",
       "      <td>0.000000e+00</td>\n",
       "      <td>0.000000</td>\n",
       "      <td>0.000000</td>\n",
       "      <td>0.000000</td>\n",
       "      <td>2.546300e+03</td>\n",
       "      <td>0.000000</td>\n",
       "    </tr>\n",
       "    <tr>\n",
       "      <th>25%</th>\n",
       "      <td>142810.25000</td>\n",
       "      <td>802.000000</td>\n",
       "      <td>33.000000</td>\n",
       "      <td>0.000000</td>\n",
       "      <td>2.955542e+05</td>\n",
       "      <td>1.000000</td>\n",
       "      <td>0.000000</td>\n",
       "      <td>0.000000</td>\n",
       "      <td>7.525190e+04</td>\n",
       "      <td>0.000000</td>\n",
       "    </tr>\n",
       "    <tr>\n",
       "      <th>50%</th>\n",
       "      <td>172728.00000</td>\n",
       "      <td>853.000000</td>\n",
       "      <td>40.000000</td>\n",
       "      <td>3.000000</td>\n",
       "      <td>5.242722e+05</td>\n",
       "      <td>2.000000</td>\n",
       "      <td>1.000000</td>\n",
       "      <td>1.000000</td>\n",
       "      <td>1.196581e+05</td>\n",
       "      <td>0.000000</td>\n",
       "    </tr>\n",
       "    <tr>\n",
       "      <th>75%</th>\n",
       "      <td>201261.75000</td>\n",
       "      <td>900.000000</td>\n",
       "      <td>51.000000</td>\n",
       "      <td>4.000000</td>\n",
       "      <td>9.807058e+05</td>\n",
       "      <td>2.000000</td>\n",
       "      <td>1.000000</td>\n",
       "      <td>1.000000</td>\n",
       "      <td>1.745005e+05</td>\n",
       "      <td>0.000000</td>\n",
       "    </tr>\n",
       "    <tr>\n",
       "      <th>max</th>\n",
       "      <td>229145.00000</td>\n",
       "      <td>1000.000000</td>\n",
       "      <td>86.000000</td>\n",
       "      <td>9.000000</td>\n",
       "      <td>1.191136e+08</td>\n",
       "      <td>5.000000</td>\n",
       "      <td>1.000000</td>\n",
       "      <td>1.000000</td>\n",
       "      <td>1.395064e+06</td>\n",
       "      <td>1.000000</td>\n",
       "    </tr>\n",
       "  </tbody>\n",
       "</table>\n",
       "</div>"
      ],
      "text/plain": [
       "            user_id         score          age        equity       balance  \\\n",
       "count   10000.00000  10000.000000  9974.000000  10000.000000  7.705000e+03   \n",
       "mean   171814.71260    848.699400    42.734409      2.627600  8.277943e+05   \n",
       "std     33708.23812     65.448519    12.179971      1.980836  1.980614e+06   \n",
       "min     94561.00000    642.000000    18.000000      0.000000  0.000000e+00   \n",
       "25%    142810.25000    802.000000    33.000000      0.000000  2.955542e+05   \n",
       "50%    172728.00000    853.000000    40.000000      3.000000  5.242722e+05   \n",
       "75%    201261.75000    900.000000    51.000000      4.000000  9.807058e+05   \n",
       "max    229145.00000   1000.000000    86.000000      9.000000  1.191136e+08   \n",
       "\n",
       "           products   credit_card  last_activity    est_salary         churn  \n",
       "count  10000.000000  10000.000000   10000.000000  1.000000e+04  10000.000000  \n",
       "mean       1.870100      0.680400       0.523500  1.478669e+05      0.182000  \n",
       "std        0.792647      0.466345       0.499472  1.393885e+05      0.385864  \n",
       "min        0.000000      0.000000       0.000000  2.546300e+03      0.000000  \n",
       "25%        1.000000      0.000000       0.000000  7.525190e+04      0.000000  \n",
       "50%        2.000000      1.000000       1.000000  1.196581e+05      0.000000  \n",
       "75%        2.000000      1.000000       1.000000  1.745005e+05      0.000000  \n",
       "max        5.000000      1.000000       1.000000  1.395064e+06      1.000000  "
      ]
     },
     "execution_count": 8,
     "metadata": {},
     "output_type": "execute_result"
    }
   ],
   "source": [
    "data.describe()"
   ]
  },
  {
   "cell_type": "markdown",
   "metadata": {},
   "source": [
    "При ознакомлении с таблицей внимание привлекает минимальное значение в столбце products - 0. Если человек является клиентом банка, то значит он пользуется как минимум одним продуктом. Возможно это человеческий фактор или технический.\n",
    "\n",
    "посмотрим на клиента"
   ]
  },
  {
   "cell_type": "code",
   "execution_count": 9,
   "metadata": {},
   "outputs": [
    {
     "data": {
      "text/html": [
       "<div>\n",
       "<style scoped>\n",
       "    .dataframe tbody tr th:only-of-type {\n",
       "        vertical-align: middle;\n",
       "    }\n",
       "\n",
       "    .dataframe tbody tr th {\n",
       "        vertical-align: top;\n",
       "    }\n",
       "\n",
       "    .dataframe thead th {\n",
       "        text-align: right;\n",
       "    }\n",
       "</style>\n",
       "<table border=\"1\" class=\"dataframe\">\n",
       "  <thead>\n",
       "    <tr style=\"text-align: right;\">\n",
       "      <th></th>\n",
       "      <th>user_id</th>\n",
       "      <th>score</th>\n",
       "      <th>city</th>\n",
       "      <th>gender</th>\n",
       "      <th>age</th>\n",
       "      <th>equity</th>\n",
       "      <th>balance</th>\n",
       "      <th>products</th>\n",
       "      <th>credit_card</th>\n",
       "      <th>last_activity</th>\n",
       "      <th>est_salary</th>\n",
       "      <th>churn</th>\n",
       "    </tr>\n",
       "  </thead>\n",
       "  <tbody>\n",
       "    <tr>\n",
       "      <th>8957</th>\n",
       "      <td>147837</td>\n",
       "      <td>962</td>\n",
       "      <td>Рыбинск</td>\n",
       "      <td>Ж</td>\n",
       "      <td>79.0</td>\n",
       "      <td>3</td>\n",
       "      <td>NaN</td>\n",
       "      <td>0</td>\n",
       "      <td>0</td>\n",
       "      <td>0</td>\n",
       "      <td>25063.96</td>\n",
       "      <td>1</td>\n",
       "    </tr>\n",
       "  </tbody>\n",
       "</table>\n",
       "</div>"
      ],
      "text/plain": [
       "      user_id  score     city gender   age  equity  balance  products  \\\n",
       "8957   147837    962  Рыбинск      Ж  79.0       3      NaN         0   \n",
       "\n",
       "      credit_card  last_activity  est_salary  churn  \n",
       "8957            0              0    25063.96      1  "
      ]
     },
     "execution_count": 9,
     "metadata": {},
     "output_type": "execute_result"
    }
   ],
   "source": [
    "# Взглянем на эту строку\n",
    "data[data['products']==0]"
   ]
  },
  {
   "cell_type": "markdown",
   "metadata": {},
   "source": [
    "И так у клиента неизвестен баланс, нету продуктов т.е нет кредитной карты и он не активен. теперь он действительно не пользуется банковскими продуктами. Для нашего анализа нужны клиенты которые продолжают пользоватся продуктами.\n",
    "\n",
    "удалить данного клиента."
   ]
  },
  {
   "cell_type": "code",
   "execution_count": 10,
   "metadata": {},
   "outputs": [],
   "source": [
    "data = data[data['products']!=0]"
   ]
  },
  {
   "cell_type": "code",
   "execution_count": 11,
   "metadata": {},
   "outputs": [
    {
     "name": "stdout",
     "output_type": "stream",
     "text": [
      "Минимальный рейтинг кредитного скоринга: 642\n",
      "Максимальный рейтинг кредитного скоринга: 1000\n"
     ]
    }
   ],
   "source": [
    "print('Минимальный рейтинг кредитного скоринга:', data['score'].min())\n",
    "print('Максимальный рейтинг кредитного скоринга:', data['score'].max())"
   ]
  },
  {
   "cell_type": "code",
   "execution_count": 12,
   "metadata": {},
   "outputs": [
    {
     "data": {
      "text/plain": [
       "array(['Рыбинск', 'Ярославль', 'Ростов'], dtype=object)"
      ]
     },
     "execution_count": 12,
     "metadata": {},
     "output_type": "execute_result"
    }
   ],
   "source": [
    "# проверим уникальные значения в столбце city\n",
    "data['city'].unique()"
   ]
  },
  {
   "cell_type": "code",
   "execution_count": 13,
   "metadata": {},
   "outputs": [
    {
     "data": {
      "text/plain": [
       "array(['Ж', 'М'], dtype=object)"
      ]
     },
     "execution_count": 13,
     "metadata": {},
     "output_type": "execute_result"
    }
   ],
   "source": [
    "# проверим уникальные значения в столбце gender:\n",
    "data['gender'].unique()"
   ]
  },
  {
   "cell_type": "code",
   "execution_count": 14,
   "metadata": {},
   "outputs": [
    {
     "name": "stdout",
     "output_type": "stream",
     "text": [
      "Самый молодой клиент: 18.0\n",
      "Самый старый клиент: 86.0\n"
     ]
    }
   ],
   "source": [
    "print('Самый молодой клиент:', data['age'].min())\n",
    "print('Самый старый клиент:', data['age'].max())"
   ]
  },
  {
   "cell_type": "code",
   "execution_count": 15,
   "metadata": {},
   "outputs": [
    {
     "data": {
      "text/plain": [
       "array([1, 5, 0, 4, 3, 2, 6, 7, 8, 9])"
      ]
     },
     "execution_count": 15,
     "metadata": {},
     "output_type": "execute_result"
    }
   ],
   "source": [
    "# проверим уникальные значения в столбце equity:\n",
    "data ['equity'].unique()"
   ]
  },
  {
   "cell_type": "code",
   "execution_count": 16,
   "metadata": {},
   "outputs": [
    {
     "name": "stdout",
     "output_type": "stream",
     "text": [
      "Минимальный рейтинг баланс: 0.0\n",
      "Максимальный рейтинг баланс: 119113552.01\n"
     ]
    }
   ],
   "source": [
    "print('Минимальный рейтинг баланс:', data['balance'].min())\n",
    "print('Максимальный рейтинг баланс:', data['balance'].max())"
   ]
  },
  {
   "cell_type": "code",
   "execution_count": 17,
   "metadata": {},
   "outputs": [
    {
     "data": {
      "text/plain": [
       "array([2, 3, 1, 4, 5])"
      ]
     },
     "execution_count": 17,
     "metadata": {},
     "output_type": "execute_result"
    }
   ],
   "source": [
    "# проверим уникальные значения в столбце products:\n",
    "data ['products'].unique()"
   ]
  },
  {
   "cell_type": "code",
   "execution_count": 18,
   "metadata": {},
   "outputs": [
    {
     "data": {
      "text/plain": [
       "array([0, 1])"
      ]
     },
     "execution_count": 18,
     "metadata": {},
     "output_type": "execute_result"
    }
   ],
   "source": [
    "# проверим уникальные значения в столбце credit_card:\n",
    "data ['credit_card'].unique()"
   ]
  },
  {
   "cell_type": "code",
   "execution_count": 19,
   "metadata": {},
   "outputs": [
    {
     "data": {
      "text/plain": [
       "array([1, 0])"
      ]
     },
     "execution_count": 19,
     "metadata": {},
     "output_type": "execute_result"
    }
   ],
   "source": [
    "# проверим уникальные значения в столбце last_activity:\n",
    "data ['last_activity'].unique()"
   ]
  },
  {
   "cell_type": "code",
   "execution_count": 20,
   "metadata": {},
   "outputs": [
    {
     "name": "stdout",
     "output_type": "stream",
     "text": [
      "Самая маленькая зарплата клиента: 2546.3\n",
      "Самая большая зарплата: 1395064.45\n"
     ]
    }
   ],
   "source": [
    "print('Самая маленькая зарплата клиента:', data['est_salary'].min())\n",
    "print('Самая большая зарплата:', data['est_salary'].max())"
   ]
  },
  {
   "cell_type": "markdown",
   "metadata": {},
   "source": [
    "Минимальная заработная плата выглядит слишком низкой - 2546.3 руб. Первое, что приходит на ум - это то, что произошел сбой при выгрузке данных \n",
    "\n",
    "Минимальная зарплата в России в 2023 году - 16 242 рубля, но бывает такое, когда человек получает пенсию по инвалидности (она очень часто меньше МРОТ. Бывает, что и намногo или работает на 1/4 ставки по сдельной оплате и получает меньше минималки.\n",
    "\n",
    "Так же возможен вариант, что данные не предоставили и значения были получены при расчетах специальной моделью. "
   ]
  },
  {
   "cell_type": "code",
   "execution_count": 21,
   "metadata": {},
   "outputs": [
    {
     "data": {
      "text/plain": [
       "80"
      ]
     },
     "execution_count": 21,
     "metadata": {},
     "output_type": "execute_result"
    }
   ],
   "source": [
    "# Посмотрим сколько таких клиентов у кого зп меньше мрота \n",
    "data_salary = data[data['est_salary'] < 16242]\n",
    "len(data_salary)"
   ]
  },
  {
   "cell_type": "markdown",
   "metadata": {},
   "source": [
    "Их не много на иследование сильно не повлияют"
   ]
  },
  {
   "cell_type": "code",
   "execution_count": 22,
   "metadata": {},
   "outputs": [
    {
     "data": {
      "text/plain": [
       "array([1, 0])"
      ]
     },
     "execution_count": 22,
     "metadata": {},
     "output_type": "execute_result"
    }
   ],
   "source": [
    "# проверим уникальные значения в столбце churn:\n",
    "data ['churn'].unique()"
   ]
  },
  {
   "cell_type": "markdown",
   "metadata": {},
   "source": [
    "Итог данные корректны, у нас хороший кредитный скоринг, работаем по трем городам, у нас только два пола, все наши клиенты совершенно летние, баллы за собественность 10 максимальный, видим что балансы очень разнятся! Всего у банка 6 продуктов для клиента, крединтые каты (да/нет), активность клиентов (да/нет). и видим что зарплта очень разнится."
   ]
  },
  {
   "cell_type": "markdown",
   "metadata": {},
   "source": [
    "### Исследование и удаление дубликатов;\n",
    "Посмотрим на дубликаты в данных"
   ]
  },
  {
   "cell_type": "code",
   "execution_count": 23,
   "metadata": {},
   "outputs": [
    {
     "name": "stdout",
     "output_type": "stream",
     "text": [
      "Количество дубликатов в датасете -  0\n",
      "Количество дупликатов по столбцу user_id -  73\n"
     ]
    }
   ],
   "source": [
    "#Посчитаем дубликаты всего по строкам и только в столбце id\n",
    "print('Количество дубликатов в датасете - ', data.duplicated().sum())\n",
    "print('Количество дупликатов по столбцу user_id - ', data['user_id'].duplicated().sum())"
   ]
  },
  {
   "cell_type": "code",
   "execution_count": 24,
   "metadata": {},
   "outputs": [
    {
     "data": {
      "text/plain": [
       "0.7300730073007301"
      ]
     },
     "execution_count": 24,
     "metadata": {},
     "output_type": "execute_result"
    }
   ],
   "source": [
    "# найдем процент дубликатов в столбце 'user_id'\n",
    "data['user_id'].duplicated().sum()/len(data)*100"
   ]
  },
  {
   "cell_type": "markdown",
   "metadata": {},
   "source": [
    "Обнаружилось, что в датафрейме 73 дубликата в столбце user_id. \n",
    "\n",
    "Посмотрим что это за дубликаты."
   ]
  },
  {
   "cell_type": "code",
   "execution_count": 25,
   "metadata": {},
   "outputs": [
    {
     "data": {
      "text/html": [
       "<div>\n",
       "<style scoped>\n",
       "    .dataframe tbody tr th:only-of-type {\n",
       "        vertical-align: middle;\n",
       "    }\n",
       "\n",
       "    .dataframe tbody tr th {\n",
       "        vertical-align: top;\n",
       "    }\n",
       "\n",
       "    .dataframe thead th {\n",
       "        text-align: right;\n",
       "    }\n",
       "</style>\n",
       "<table border=\"1\" class=\"dataframe\">\n",
       "  <thead>\n",
       "    <tr style=\"text-align: right;\">\n",
       "      <th></th>\n",
       "      <th>user_id</th>\n",
       "      <th>score</th>\n",
       "      <th>city</th>\n",
       "      <th>gender</th>\n",
       "      <th>age</th>\n",
       "      <th>equity</th>\n",
       "      <th>balance</th>\n",
       "      <th>products</th>\n",
       "      <th>credit_card</th>\n",
       "      <th>last_activity</th>\n",
       "      <th>est_salary</th>\n",
       "      <th>churn</th>\n",
       "    </tr>\n",
       "  </thead>\n",
       "  <tbody>\n",
       "    <tr>\n",
       "      <th>1583</th>\n",
       "      <td>190253</td>\n",
       "      <td>726</td>\n",
       "      <td>Ярославль</td>\n",
       "      <td>М</td>\n",
       "      <td>49.0</td>\n",
       "      <td>0</td>\n",
       "      <td>NaN</td>\n",
       "      <td>1</td>\n",
       "      <td>1</td>\n",
       "      <td>1</td>\n",
       "      <td>177700.78</td>\n",
       "      <td>0</td>\n",
       "    </tr>\n",
       "    <tr>\n",
       "      <th>1837</th>\n",
       "      <td>210662</td>\n",
       "      <td>896</td>\n",
       "      <td>Рыбинск</td>\n",
       "      <td>Ж</td>\n",
       "      <td>37.0</td>\n",
       "      <td>0</td>\n",
       "      <td>NaN</td>\n",
       "      <td>2</td>\n",
       "      <td>0</td>\n",
       "      <td>0</td>\n",
       "      <td>90916.04</td>\n",
       "      <td>0</td>\n",
       "    </tr>\n",
       "    <tr>\n",
       "      <th>2138</th>\n",
       "      <td>131419</td>\n",
       "      <td>739</td>\n",
       "      <td>Рыбинск</td>\n",
       "      <td>Ж</td>\n",
       "      <td>37.0</td>\n",
       "      <td>3</td>\n",
       "      <td>1307941.65</td>\n",
       "      <td>3</td>\n",
       "      <td>0</td>\n",
       "      <td>0</td>\n",
       "      <td>103867.47</td>\n",
       "      <td>0</td>\n",
       "    </tr>\n",
       "    <tr>\n",
       "      <th>2165</th>\n",
       "      <td>187635</td>\n",
       "      <td>692</td>\n",
       "      <td>Рыбинск</td>\n",
       "      <td>Ж</td>\n",
       "      <td>NaN</td>\n",
       "      <td>0</td>\n",
       "      <td>NaN</td>\n",
       "      <td>1</td>\n",
       "      <td>1</td>\n",
       "      <td>1</td>\n",
       "      <td>160368.82</td>\n",
       "      <td>0</td>\n",
       "    </tr>\n",
       "    <tr>\n",
       "      <th>2302</th>\n",
       "      <td>220816</td>\n",
       "      <td>934</td>\n",
       "      <td>Рыбинск</td>\n",
       "      <td>Ж</td>\n",
       "      <td>74.0</td>\n",
       "      <td>5</td>\n",
       "      <td>1294285.39</td>\n",
       "      <td>3</td>\n",
       "      <td>1</td>\n",
       "      <td>0</td>\n",
       "      <td>95606.80</td>\n",
       "      <td>0</td>\n",
       "    </tr>\n",
       "    <tr>\n",
       "      <th>...</th>\n",
       "      <td>...</td>\n",
       "      <td>...</td>\n",
       "      <td>...</td>\n",
       "      <td>...</td>\n",
       "      <td>...</td>\n",
       "      <td>...</td>\n",
       "      <td>...</td>\n",
       "      <td>...</td>\n",
       "      <td>...</td>\n",
       "      <td>...</td>\n",
       "      <td>...</td>\n",
       "      <td>...</td>\n",
       "    </tr>\n",
       "    <tr>\n",
       "      <th>9775</th>\n",
       "      <td>124450</td>\n",
       "      <td>758</td>\n",
       "      <td>Рыбинск</td>\n",
       "      <td>Ж</td>\n",
       "      <td>36.0</td>\n",
       "      <td>0</td>\n",
       "      <td>73574.07</td>\n",
       "      <td>2</td>\n",
       "      <td>0</td>\n",
       "      <td>1</td>\n",
       "      <td>79963.59</td>\n",
       "      <td>0</td>\n",
       "    </tr>\n",
       "    <tr>\n",
       "      <th>9785</th>\n",
       "      <td>168998</td>\n",
       "      <td>895</td>\n",
       "      <td>Рыбинск</td>\n",
       "      <td>М</td>\n",
       "      <td>44.0</td>\n",
       "      <td>0</td>\n",
       "      <td>282653.53</td>\n",
       "      <td>3</td>\n",
       "      <td>0</td>\n",
       "      <td>0</td>\n",
       "      <td>255296.47</td>\n",
       "      <td>0</td>\n",
       "    </tr>\n",
       "    <tr>\n",
       "      <th>9819</th>\n",
       "      <td>140934</td>\n",
       "      <td>832</td>\n",
       "      <td>Рыбинск</td>\n",
       "      <td>Ж</td>\n",
       "      <td>NaN</td>\n",
       "      <td>3</td>\n",
       "      <td>385763.16</td>\n",
       "      <td>2</td>\n",
       "      <td>0</td>\n",
       "      <td>1</td>\n",
       "      <td>59651.35</td>\n",
       "      <td>0</td>\n",
       "    </tr>\n",
       "    <tr>\n",
       "      <th>9880</th>\n",
       "      <td>217412</td>\n",
       "      <td>886</td>\n",
       "      <td>Ярославль</td>\n",
       "      <td>Ж</td>\n",
       "      <td>35.0</td>\n",
       "      <td>3</td>\n",
       "      <td>1026172.14</td>\n",
       "      <td>2</td>\n",
       "      <td>1</td>\n",
       "      <td>0</td>\n",
       "      <td>53099.16</td>\n",
       "      <td>0</td>\n",
       "    </tr>\n",
       "    <tr>\n",
       "      <th>9970</th>\n",
       "      <td>175730</td>\n",
       "      <td>816</td>\n",
       "      <td>Рыбинск</td>\n",
       "      <td>М</td>\n",
       "      <td>36.0</td>\n",
       "      <td>4</td>\n",
       "      <td>477892.07</td>\n",
       "      <td>3</td>\n",
       "      <td>1</td>\n",
       "      <td>0</td>\n",
       "      <td>81100.60</td>\n",
       "      <td>0</td>\n",
       "    </tr>\n",
       "  </tbody>\n",
       "</table>\n",
       "<p>73 rows × 12 columns</p>\n",
       "</div>"
      ],
      "text/plain": [
       "      user_id  score       city gender   age  equity     balance  products  \\\n",
       "1583   190253    726  Ярославль      М  49.0       0         NaN         1   \n",
       "1837   210662    896    Рыбинск      Ж  37.0       0         NaN         2   \n",
       "2138   131419    739    Рыбинск      Ж  37.0       3  1307941.65         3   \n",
       "2165   187635    692    Рыбинск      Ж   NaN       0         NaN         1   \n",
       "2302   220816    934    Рыбинск      Ж  74.0       5  1294285.39         3   \n",
       "...       ...    ...        ...    ...   ...     ...         ...       ...   \n",
       "9775   124450    758    Рыбинск      Ж  36.0       0    73574.07         2   \n",
       "9785   168998    895    Рыбинск      М  44.0       0   282653.53         3   \n",
       "9819   140934    832    Рыбинск      Ж   NaN       3   385763.16         2   \n",
       "9880   217412    886  Ярославль      Ж  35.0       3  1026172.14         2   \n",
       "9970   175730    816    Рыбинск      М  36.0       4   477892.07         3   \n",
       "\n",
       "      credit_card  last_activity  est_salary  churn  \n",
       "1583            1              1   177700.78      0  \n",
       "1837            0              0    90916.04      0  \n",
       "2138            0              0   103867.47      0  \n",
       "2165            1              1   160368.82      0  \n",
       "2302            1              0    95606.80      0  \n",
       "...           ...            ...         ...    ...  \n",
       "9775            0              1    79963.59      0  \n",
       "9785            0              0   255296.47      0  \n",
       "9819            0              1    59651.35      0  \n",
       "9880            1              0    53099.16      0  \n",
       "9970            1              0    81100.60      0  \n",
       "\n",
       "[73 rows x 12 columns]"
      ]
     },
     "execution_count": 25,
     "metadata": {},
     "output_type": "execute_result"
    }
   ],
   "source": [
    "data[data.duplicated('user_id', keep='first')]"
   ]
  },
  {
   "cell_type": "markdown",
   "metadata": {},
   "source": [
    "Проверим совпадает ли между дубликатами по user_id ещё такие надёжные для идентификации пользователей поля как пол и возраст."
   ]
  },
  {
   "cell_type": "code",
   "execution_count": 26,
   "metadata": {},
   "outputs": [
    {
     "data": {
      "text/plain": [
       "2"
      ]
     },
     "execution_count": 26,
     "metadata": {},
     "output_type": "execute_result"
    }
   ],
   "source": [
    "data.duplicated(['user_id','gender', 'age']).sum()"
   ]
  },
  {
   "cell_type": "code",
   "execution_count": 27,
   "metadata": {},
   "outputs": [
    {
     "data": {
      "text/html": [
       "<div>\n",
       "<style scoped>\n",
       "    .dataframe tbody tr th:only-of-type {\n",
       "        vertical-align: middle;\n",
       "    }\n",
       "\n",
       "    .dataframe tbody tr th {\n",
       "        vertical-align: top;\n",
       "    }\n",
       "\n",
       "    .dataframe thead th {\n",
       "        text-align: right;\n",
       "    }\n",
       "</style>\n",
       "<table border=\"1\" class=\"dataframe\">\n",
       "  <thead>\n",
       "    <tr style=\"text-align: right;\">\n",
       "      <th></th>\n",
       "      <th>user_id</th>\n",
       "      <th>score</th>\n",
       "      <th>city</th>\n",
       "      <th>gender</th>\n",
       "      <th>age</th>\n",
       "      <th>equity</th>\n",
       "      <th>balance</th>\n",
       "      <th>products</th>\n",
       "      <th>credit_card</th>\n",
       "      <th>last_activity</th>\n",
       "      <th>est_salary</th>\n",
       "      <th>churn</th>\n",
       "    </tr>\n",
       "  </thead>\n",
       "  <tbody>\n",
       "    <tr>\n",
       "      <th>3274</th>\n",
       "      <td>155765</td>\n",
       "      <td>863</td>\n",
       "      <td>Ярославль</td>\n",
       "      <td>М</td>\n",
       "      <td>30.0</td>\n",
       "      <td>5</td>\n",
       "      <td>1036114.50</td>\n",
       "      <td>5</td>\n",
       "      <td>1</td>\n",
       "      <td>1</td>\n",
       "      <td>150744.50</td>\n",
       "      <td>1</td>\n",
       "    </tr>\n",
       "    <tr>\n",
       "      <th>5197</th>\n",
       "      <td>155765</td>\n",
       "      <td>923</td>\n",
       "      <td>Рыбинск</td>\n",
       "      <td>М</td>\n",
       "      <td>30.0</td>\n",
       "      <td>0</td>\n",
       "      <td>NaN</td>\n",
       "      <td>1</td>\n",
       "      <td>1</td>\n",
       "      <td>1</td>\n",
       "      <td>120296.60</td>\n",
       "      <td>0</td>\n",
       "    </tr>\n",
       "    <tr>\n",
       "      <th>8205</th>\n",
       "      <td>227795</td>\n",
       "      <td>840</td>\n",
       "      <td>Рыбинск</td>\n",
       "      <td>М</td>\n",
       "      <td>34.0</td>\n",
       "      <td>2</td>\n",
       "      <td>350768.03</td>\n",
       "      <td>1</td>\n",
       "      <td>1</td>\n",
       "      <td>0</td>\n",
       "      <td>102036.14</td>\n",
       "      <td>1</td>\n",
       "    </tr>\n",
       "    <tr>\n",
       "      <th>8497</th>\n",
       "      <td>227795</td>\n",
       "      <td>839</td>\n",
       "      <td>Ярославль</td>\n",
       "      <td>М</td>\n",
       "      <td>34.0</td>\n",
       "      <td>2</td>\n",
       "      <td>326593.14</td>\n",
       "      <td>2</td>\n",
       "      <td>1</td>\n",
       "      <td>0</td>\n",
       "      <td>103314.92</td>\n",
       "      <td>0</td>\n",
       "    </tr>\n",
       "  </tbody>\n",
       "</table>\n",
       "</div>"
      ],
      "text/plain": [
       "      user_id  score       city gender   age  equity     balance  products  \\\n",
       "3274   155765    863  Ярославль      М  30.0       5  1036114.50         5   \n",
       "5197   155765    923    Рыбинск      М  30.0       0         NaN         1   \n",
       "8205   227795    840    Рыбинск      М  34.0       2   350768.03         1   \n",
       "8497   227795    839  Ярославль      М  34.0       2   326593.14         2   \n",
       "\n",
       "      credit_card  last_activity  est_salary  churn  \n",
       "3274            1              1   150744.50      1  \n",
       "5197            1              1   120296.60      0  \n",
       "8205            1              0   102036.14      1  \n",
       "8497            1              0   103314.92      0  "
      ]
     },
     "execution_count": 27,
     "metadata": {},
     "output_type": "execute_result"
    }
   ],
   "source": [
    "data[data.duplicated(['user_id','gender', 'age'], False)]"
   ]
  },
  {
   "cell_type": "markdown",
   "metadata": {},
   "source": [
    "Нельзя утвержать что это дубликаты пользователей, есть разница по остальным полям. Bо всех дубликатах по user_id данные отличаются.Удалять эти дубликаты нельзя, они хранять разную информацию о клиентах, возможно это был сбой в системе банка.\n",
    "\n",
    "По остальным данным нет дубликотв."
   ]
  },
  {
   "cell_type": "markdown",
   "metadata": {},
   "source": [
    "Т.к. поле user_id нам не требуется, для анализа данных, то его можно оставить как есть."
   ]
  },
  {
   "cell_type": "code",
   "execution_count": 28,
   "metadata": {},
   "outputs": [
    {
     "data": {
      "text/html": [
       "<div>\n",
       "<style scoped>\n",
       "    .dataframe tbody tr th:only-of-type {\n",
       "        vertical-align: middle;\n",
       "    }\n",
       "\n",
       "    .dataframe tbody tr th {\n",
       "        vertical-align: top;\n",
       "    }\n",
       "\n",
       "    .dataframe thead th {\n",
       "        text-align: right;\n",
       "    }\n",
       "</style>\n",
       "<table border=\"1\" class=\"dataframe\">\n",
       "  <thead>\n",
       "    <tr style=\"text-align: right;\">\n",
       "      <th></th>\n",
       "      <th>score</th>\n",
       "      <th>age</th>\n",
       "      <th>equity</th>\n",
       "      <th>balance</th>\n",
       "      <th>products</th>\n",
       "      <th>est_salary</th>\n",
       "    </tr>\n",
       "  </thead>\n",
       "  <tbody>\n",
       "    <tr>\n",
       "      <th>count</th>\n",
       "      <td>9,999.00</td>\n",
       "      <td>9,973.00</td>\n",
       "      <td>9,999.00</td>\n",
       "      <td>7,705.00</td>\n",
       "      <td>9,999.00</td>\n",
       "      <td>9,999.00</td>\n",
       "    </tr>\n",
       "    <tr>\n",
       "      <th>mean</th>\n",
       "      <td>848.69</td>\n",
       "      <td>42.73</td>\n",
       "      <td>2.63</td>\n",
       "      <td>827,794.31</td>\n",
       "      <td>1.87</td>\n",
       "      <td>147,879.17</td>\n",
       "    </tr>\n",
       "    <tr>\n",
       "      <th>std</th>\n",
       "      <td>65.44</td>\n",
       "      <td>12.18</td>\n",
       "      <td>1.98</td>\n",
       "      <td>1,980,614.15</td>\n",
       "      <td>0.79</td>\n",
       "      <td>139,390.07</td>\n",
       "    </tr>\n",
       "    <tr>\n",
       "      <th>min</th>\n",
       "      <td>642.00</td>\n",
       "      <td>18.00</td>\n",
       "      <td>0.00</td>\n",
       "      <td>0.00</td>\n",
       "      <td>1.00</td>\n",
       "      <td>2,546.30</td>\n",
       "    </tr>\n",
       "    <tr>\n",
       "      <th>25%</th>\n",
       "      <td>802.00</td>\n",
       "      <td>33.00</td>\n",
       "      <td>0.00</td>\n",
       "      <td>295,554.16</td>\n",
       "      <td>1.00</td>\n",
       "      <td>75,252.12</td>\n",
       "    </tr>\n",
       "    <tr>\n",
       "      <th>50%</th>\n",
       "      <td>853.00</td>\n",
       "      <td>40.00</td>\n",
       "      <td>3.00</td>\n",
       "      <td>524,272.20</td>\n",
       "      <td>2.00</td>\n",
       "      <td>119,661.51</td>\n",
       "    </tr>\n",
       "    <tr>\n",
       "      <th>75%</th>\n",
       "      <td>900.00</td>\n",
       "      <td>51.00</td>\n",
       "      <td>4.00</td>\n",
       "      <td>980,705.85</td>\n",
       "      <td>2.00</td>\n",
       "      <td>174,501.12</td>\n",
       "    </tr>\n",
       "    <tr>\n",
       "      <th>max</th>\n",
       "      <td>1,000.00</td>\n",
       "      <td>86.00</td>\n",
       "      <td>9.00</td>\n",
       "      <td>119,113,552.01</td>\n",
       "      <td>5.00</td>\n",
       "      <td>1,395,064.45</td>\n",
       "    </tr>\n",
       "  </tbody>\n",
       "</table>\n",
       "</div>"
      ],
      "text/plain": [
       "          score       age    equity         balance  products    est_salary\n",
       "count  9,999.00  9,973.00  9,999.00        7,705.00  9,999.00      9,999.00\n",
       "mean     848.69     42.73      2.63      827,794.31      1.87    147,879.17\n",
       "std       65.44     12.18      1.98    1,980,614.15      0.79    139,390.07\n",
       "min      642.00     18.00      0.00            0.00      1.00      2,546.30\n",
       "25%      802.00     33.00      0.00      295,554.16      1.00     75,252.12\n",
       "50%      853.00     40.00      3.00      524,272.20      2.00    119,661.51\n",
       "75%      900.00     51.00      4.00      980,705.85      2.00    174,501.12\n",
       "max    1,000.00     86.00      9.00  119,113,552.01      5.00  1,395,064.45"
      ]
     },
     "execution_count": 28,
     "metadata": {},
     "output_type": "execute_result"
    }
   ],
   "source": [
    "# проверим корректность данных в столбцах с количественными характеристиками\n",
    "data[['score','age','equity','balance','products','est_salary']].describe().applymap('{:,.2f}'.format)"
   ]
  },
  {
   "cell_type": "markdown",
   "metadata": {},
   "source": [
    "### Анализ природы пропусков и их разумная обработка;"
   ]
  },
  {
   "cell_type": "code",
   "execution_count": 29,
   "metadata": {},
   "outputs": [
    {
     "data": {
      "text/plain": [
       "user_id             0\n",
       "score               0\n",
       "city                0\n",
       "gender              0\n",
       "age                26\n",
       "equity              0\n",
       "balance          2294\n",
       "products            0\n",
       "credit_card         0\n",
       "last_activity       0\n",
       "est_salary          0\n",
       "churn               0\n",
       "dtype: int64"
      ]
     },
     "execution_count": 29,
     "metadata": {},
     "output_type": "execute_result"
    }
   ],
   "source": [
    "data.isna().sum()"
   ]
  },
  {
   "cell_type": "markdown",
   "metadata": {},
   "source": [
    "Пропуски обнаружились в двух столбцах, однако в столбце balance их достаточно много (более 20%), поэтому удалять их было бы некорректно. Можно заменить средним или медианой, однако это может повлиять на результаты дальнейшего анализа, поэтому попробуем исследовать природу этих пропусков. Так же посмотри что за пропусуки в возрасте клиентов, изучим их."
   ]
  },
  {
   "cell_type": "code",
   "execution_count": 30,
   "metadata": {},
   "outputs": [
    {
     "data": {
      "text/plain": [
       "22.94229422942294"
      ]
     },
     "execution_count": 30,
     "metadata": {},
     "output_type": "execute_result"
    }
   ],
   "source": [
    "# найдем процент пропуска в столбце 'balance'\n",
    "data['balance'].isna().sum()/len(data)*100"
   ]
  },
  {
   "cell_type": "markdown",
   "metadata": {},
   "source": [
    "Почти 23% эти данные нельзя удалять."
   ]
  },
  {
   "cell_type": "code",
   "execution_count": 31,
   "metadata": {},
   "outputs": [
    {
     "data": {
      "text/html": [
       "<div>\n",
       "<style scoped>\n",
       "    .dataframe tbody tr th:only-of-type {\n",
       "        vertical-align: middle;\n",
       "    }\n",
       "\n",
       "    .dataframe tbody tr th {\n",
       "        vertical-align: top;\n",
       "    }\n",
       "\n",
       "    .dataframe thead th {\n",
       "        text-align: right;\n",
       "    }\n",
       "</style>\n",
       "<table border=\"1\" class=\"dataframe\">\n",
       "  <thead>\n",
       "    <tr style=\"text-align: right;\">\n",
       "      <th></th>\n",
       "      <th>Баланс_среднее</th>\n",
       "      <th>Нет_баланса_среднее</th>\n",
       "      <th>%</th>\n",
       "    </tr>\n",
       "  </thead>\n",
       "  <tbody>\n",
       "    <tr>\n",
       "      <th>user_id</th>\n",
       "      <td>171738.837508</td>\n",
       "      <td>172080.011334</td>\n",
       "      <td>0.198659</td>\n",
       "    </tr>\n",
       "    <tr>\n",
       "      <th>score</th>\n",
       "      <td>843.739260</td>\n",
       "      <td>865.309939</td>\n",
       "      <td>2.556557</td>\n",
       "    </tr>\n",
       "    <tr>\n",
       "      <th>age</th>\n",
       "      <td>42.924366</td>\n",
       "      <td>42.076822</td>\n",
       "      <td>-1.974507</td>\n",
       "    </tr>\n",
       "    <tr>\n",
       "      <th>equity</th>\n",
       "      <td>3.395068</td>\n",
       "      <td>0.049695</td>\n",
       "      <td>-98.536263</td>\n",
       "    </tr>\n",
       "    <tr>\n",
       "      <th>balance</th>\n",
       "      <td>827794.306510</td>\n",
       "      <td>NaN</td>\n",
       "      <td>NaN</td>\n",
       "    </tr>\n",
       "    <tr>\n",
       "      <th>products</th>\n",
       "      <td>2.080986</td>\n",
       "      <td>1.162598</td>\n",
       "      <td>-44.132355</td>\n",
       "    </tr>\n",
       "    <tr>\n",
       "      <th>credit_card</th>\n",
       "      <td>0.640104</td>\n",
       "      <td>0.816042</td>\n",
       "      <td>27.485856</td>\n",
       "    </tr>\n",
       "    <tr>\n",
       "      <th>last_activity</th>\n",
       "      <td>0.515769</td>\n",
       "      <td>0.549695</td>\n",
       "      <td>6.577727</td>\n",
       "    </tr>\n",
       "    <tr>\n",
       "      <th>est_salary</th>\n",
       "      <td>124501.872366</td>\n",
       "      <td>226397.935876</td>\n",
       "      <td>81.842997</td>\n",
       "    </tr>\n",
       "    <tr>\n",
       "      <th>churn</th>\n",
       "      <td>0.234523</td>\n",
       "      <td>0.005231</td>\n",
       "      <td>-97.769500</td>\n",
       "    </tr>\n",
       "  </tbody>\n",
       "</table>\n",
       "</div>"
      ],
      "text/plain": [
       "               Баланс_среднее  Нет_баланса_среднее          %\n",
       "user_id         171738.837508        172080.011334   0.198659\n",
       "score              843.739260           865.309939   2.556557\n",
       "age                 42.924366            42.076822  -1.974507\n",
       "equity               3.395068             0.049695 -98.536263\n",
       "balance         827794.306510                  NaN        NaN\n",
       "products             2.080986             1.162598 -44.132355\n",
       "credit_card          0.640104             0.816042  27.485856\n",
       "last_activity        0.515769             0.549695   6.577727\n",
       "est_salary      124501.872366        226397.935876  81.842997\n",
       "churn                0.234523             0.005231 -97.769500"
      ]
     },
     "execution_count": 31,
     "metadata": {},
     "output_type": "execute_result"
    }
   ],
   "source": [
    "# посмотрим средние значения столбцов в датасете с пропусками 'balance' и без\n",
    "\n",
    "blalance_1 = data[data['balance'].notna()].mean(numeric_only=True)\n",
    "blalance_0 = data[data['balance'].isna()].mean(numeric_only=True)\n",
    "\n",
    "pd.concat({'Баланс_среднее': blalance_1,\n",
    "           'Нет_баланса_среднее': blalance_0,\n",
    "           \"%\": (blalance_0/blalance_1-1)*100},axis=1)"
   ]
  },
  {
   "cell_type": "markdown",
   "metadata": {},
   "source": [
    "Средние значения по столбцам equity, products, churn, est_salary значительно отличаются. Значит эти пропуски нельзя обьяснить случайным техническим сбоем. Обратим внимание ещё раз на столбец est_salary и наблюдаем что она самая высокая. Скорее всего предположим, что эти клиенты недавно сняли с баланса денежные суммы\n",
    "\n",
    "Создадим новую характеристику клиента balance_nan - отсутствие баланса, чтобы можно было проанализировать характер её связи с другими данными."
   ]
  },
  {
   "cell_type": "code",
   "execution_count": 32,
   "metadata": {},
   "outputs": [
    {
     "data": {
      "text/html": [
       "<div>\n",
       "<style scoped>\n",
       "    .dataframe tbody tr th:only-of-type {\n",
       "        vertical-align: middle;\n",
       "    }\n",
       "\n",
       "    .dataframe tbody tr th {\n",
       "        vertical-align: top;\n",
       "    }\n",
       "\n",
       "    .dataframe thead th {\n",
       "        text-align: right;\n",
       "    }\n",
       "</style>\n",
       "<table border=\"1\" class=\"dataframe\">\n",
       "  <thead>\n",
       "    <tr style=\"text-align: right;\">\n",
       "      <th></th>\n",
       "      <th>user_id</th>\n",
       "      <th>score</th>\n",
       "      <th>city</th>\n",
       "      <th>gender</th>\n",
       "      <th>age</th>\n",
       "      <th>equity</th>\n",
       "      <th>balance</th>\n",
       "      <th>products</th>\n",
       "      <th>credit_card</th>\n",
       "      <th>last_activity</th>\n",
       "      <th>est_salary</th>\n",
       "      <th>churn</th>\n",
       "      <th>balance_nan</th>\n",
       "    </tr>\n",
       "  </thead>\n",
       "  <tbody>\n",
       "    <tr>\n",
       "      <th>7702</th>\n",
       "      <td>181390</td>\n",
       "      <td>906</td>\n",
       "      <td>Ярославль</td>\n",
       "      <td>М</td>\n",
       "      <td>42.0</td>\n",
       "      <td>4</td>\n",
       "      <td>598094.17</td>\n",
       "      <td>4</td>\n",
       "      <td>1</td>\n",
       "      <td>1</td>\n",
       "      <td>196076.07</td>\n",
       "      <td>1</td>\n",
       "      <td>0</td>\n",
       "    </tr>\n",
       "    <tr>\n",
       "      <th>6080</th>\n",
       "      <td>163099</td>\n",
       "      <td>912</td>\n",
       "      <td>Ярославль</td>\n",
       "      <td>Ж</td>\n",
       "      <td>49.0</td>\n",
       "      <td>0</td>\n",
       "      <td>NaN</td>\n",
       "      <td>1</td>\n",
       "      <td>0</td>\n",
       "      <td>1</td>\n",
       "      <td>168675.69</td>\n",
       "      <td>0</td>\n",
       "      <td>1</td>\n",
       "    </tr>\n",
       "    <tr>\n",
       "      <th>3837</th>\n",
       "      <td>165185</td>\n",
       "      <td>848</td>\n",
       "      <td>Ярославль</td>\n",
       "      <td>Ж</td>\n",
       "      <td>32.0</td>\n",
       "      <td>3</td>\n",
       "      <td>2441321.45</td>\n",
       "      <td>4</td>\n",
       "      <td>0</td>\n",
       "      <td>1</td>\n",
       "      <td>279570.21</td>\n",
       "      <td>1</td>\n",
       "      <td>0</td>\n",
       "    </tr>\n",
       "    <tr>\n",
       "      <th>7993</th>\n",
       "      <td>118905</td>\n",
       "      <td>847</td>\n",
       "      <td>Рыбинск</td>\n",
       "      <td>Ж</td>\n",
       "      <td>60.0</td>\n",
       "      <td>2</td>\n",
       "      <td>1281503.77</td>\n",
       "      <td>3</td>\n",
       "      <td>1</td>\n",
       "      <td>0</td>\n",
       "      <td>51286.89</td>\n",
       "      <td>0</td>\n",
       "      <td>0</td>\n",
       "    </tr>\n",
       "    <tr>\n",
       "      <th>6093</th>\n",
       "      <td>202951</td>\n",
       "      <td>906</td>\n",
       "      <td>Ростов</td>\n",
       "      <td>М</td>\n",
       "      <td>32.0</td>\n",
       "      <td>0</td>\n",
       "      <td>NaN</td>\n",
       "      <td>1</td>\n",
       "      <td>1</td>\n",
       "      <td>0</td>\n",
       "      <td>148868.29</td>\n",
       "      <td>0</td>\n",
       "      <td>1</td>\n",
       "    </tr>\n",
       "  </tbody>\n",
       "</table>\n",
       "</div>"
      ],
      "text/plain": [
       "      user_id  score       city gender   age  equity     balance  products  \\\n",
       "7702   181390    906  Ярославль      М  42.0       4   598094.17         4   \n",
       "6080   163099    912  Ярославль      Ж  49.0       0         NaN         1   \n",
       "3837   165185    848  Ярославль      Ж  32.0       3  2441321.45         4   \n",
       "7993   118905    847    Рыбинск      Ж  60.0       2  1281503.77         3   \n",
       "6093   202951    906     Ростов      М  32.0       0         NaN         1   \n",
       "\n",
       "      credit_card  last_activity  est_salary  churn  balance_nan  \n",
       "7702            1              1   196076.07      1            0  \n",
       "6080            0              1   168675.69      0            1  \n",
       "3837            0              1   279570.21      1            0  \n",
       "7993            1              0    51286.89      0            0  \n",
       "6093            1              0   148868.29      0            1  "
      ]
     },
     "execution_count": 32,
     "metadata": {},
     "output_type": "execute_result"
    }
   ],
   "source": [
    "data['balance_nan']=data['balance']\n",
    "data['balance_nan'] = data['balance_nan'].apply(lambda x: 1 if pd.isna(x) else 0)\n",
    "data.sample(5)"
   ]
  },
  {
   "cell_type": "code",
   "execution_count": 33,
   "metadata": {},
   "outputs": [
    {
     "data": {
      "text/plain": [
       "user_id           0.00\n",
       "last_activity     0.03\n",
       "age              -0.03\n",
       "score             0.14\n",
       "credit_card       0.16\n",
       "churn            -0.25\n",
       "est_salary        0.31\n",
       "products         -0.49\n",
       "equity           -0.71\n",
       "balance_nan       1.00\n",
       "balance            nan\n",
       "dtype: object"
      ]
     },
     "execution_count": 33,
     "metadata": {},
     "output_type": "execute_result"
    }
   ],
   "source": [
    "data.corrwith(data['balance_nan']).sort_values(key=abs).apply('{:.2f}'.format)"
   ]
  },
  {
   "cell_type": "markdown",
   "metadata": {},
   "source": [
    "На корреляции мы так же можем наблюдать высокое рассхождение с оценночным доходом, но пропуски не чем заменить, оставим их без изменений. Отенсем эти пропуски к тиму MNAR\n",
    "\n",
    "MNAR (Missing Not At Random / Отсутствует не случайно) — пропуски зависят от данных, без дополнительного обоснования их нельзя отбрасывать или заполнять одним значением, т.к. это приведёт к заметным искажениям.\n",
    "\n",
    "Посмотрим на пропуски в возрасте"
   ]
  },
  {
   "cell_type": "code",
   "execution_count": 34,
   "metadata": {},
   "outputs": [
    {
     "data": {
      "text/plain": [
       "0.26002600260026004"
      ]
     },
     "execution_count": 34,
     "metadata": {},
     "output_type": "execute_result"
    }
   ],
   "source": [
    "# найдем процент пропуска в столбце 'age'\n",
    "data['age'].isna().sum()/len(data)*100"
   ]
  },
  {
   "cell_type": "markdown",
   "metadata": {},
   "source": [
    "Процент пропусков мал. Эти данные можно удалить.\n",
    "Но для начала посмотрим на них\n"
   ]
  },
  {
   "cell_type": "code",
   "execution_count": 35,
   "metadata": {},
   "outputs": [
    {
     "data": {
      "text/html": [
       "<div>\n",
       "<style scoped>\n",
       "    .dataframe tbody tr th:only-of-type {\n",
       "        vertical-align: middle;\n",
       "    }\n",
       "\n",
       "    .dataframe tbody tr th {\n",
       "        vertical-align: top;\n",
       "    }\n",
       "\n",
       "    .dataframe thead th {\n",
       "        text-align: right;\n",
       "    }\n",
       "</style>\n",
       "<table border=\"1\" class=\"dataframe\">\n",
       "  <thead>\n",
       "    <tr style=\"text-align: right;\">\n",
       "      <th></th>\n",
       "      <th>Возраст_среднее</th>\n",
       "      <th>Нет_возраста_среднее</th>\n",
       "      <th>%</th>\n",
       "    </tr>\n",
       "  </thead>\n",
       "  <tbody>\n",
       "    <tr>\n",
       "      <th>user_id</th>\n",
       "      <td>171757.616966</td>\n",
       "      <td>1.946375e+05</td>\n",
       "      <td>13.321030</td>\n",
       "    </tr>\n",
       "    <tr>\n",
       "      <th>score</th>\n",
       "      <td>848.671212</td>\n",
       "      <td>8.551538e+02</td>\n",
       "      <td>0.763857</td>\n",
       "    </tr>\n",
       "    <tr>\n",
       "      <th>age</th>\n",
       "      <td>42.730773</td>\n",
       "      <td>NaN</td>\n",
       "      <td>NaN</td>\n",
       "    </tr>\n",
       "    <tr>\n",
       "      <th>equity</th>\n",
       "      <td>2.630803</td>\n",
       "      <td>1.384615e+00</td>\n",
       "      <td>-47.369100</td>\n",
       "    </tr>\n",
       "    <tr>\n",
       "      <th>balance</th>\n",
       "      <td>827245.587515</td>\n",
       "      <td>1.250034e+06</td>\n",
       "      <td>51.107917</td>\n",
       "    </tr>\n",
       "    <tr>\n",
       "      <th>products</th>\n",
       "      <td>1.871653</td>\n",
       "      <td>1.346154e+00</td>\n",
       "      <td>-28.076758</td>\n",
       "    </tr>\n",
       "    <tr>\n",
       "      <th>credit_card</th>\n",
       "      <td>0.680237</td>\n",
       "      <td>7.692308e-01</td>\n",
       "      <td>13.082819</td>\n",
       "    </tr>\n",
       "    <tr>\n",
       "      <th>last_activity</th>\n",
       "      <td>0.522912</td>\n",
       "      <td>7.692308e-01</td>\n",
       "      <td>47.105244</td>\n",
       "    </tr>\n",
       "    <tr>\n",
       "      <th>est_salary</th>\n",
       "      <td>147799.115241</td>\n",
       "      <td>1.785852e+05</td>\n",
       "      <td>20.829681</td>\n",
       "    </tr>\n",
       "    <tr>\n",
       "      <th>churn</th>\n",
       "      <td>0.182292</td>\n",
       "      <td>3.846154e-02</td>\n",
       "      <td>-78.901159</td>\n",
       "    </tr>\n",
       "    <tr>\n",
       "      <th>balance_nan</th>\n",
       "      <td>0.228417</td>\n",
       "      <td>6.153846e-01</td>\n",
       "      <td>169.413115</td>\n",
       "    </tr>\n",
       "  </tbody>\n",
       "</table>\n",
       "</div>"
      ],
      "text/plain": [
       "               Возраст_среднее  Нет_возраста_среднее           %\n",
       "user_id          171757.616966          1.946375e+05   13.321030\n",
       "score               848.671212          8.551538e+02    0.763857\n",
       "age                  42.730773                   NaN         NaN\n",
       "equity                2.630803          1.384615e+00  -47.369100\n",
       "balance          827245.587515          1.250034e+06   51.107917\n",
       "products              1.871653          1.346154e+00  -28.076758\n",
       "credit_card           0.680237          7.692308e-01   13.082819\n",
       "last_activity         0.522912          7.692308e-01   47.105244\n",
       "est_salary       147799.115241          1.785852e+05   20.829681\n",
       "churn                 0.182292          3.846154e-02  -78.901159\n",
       "balance_nan           0.228417          6.153846e-01  169.413115"
      ]
     },
     "execution_count": 35,
     "metadata": {},
     "output_type": "execute_result"
    }
   ],
   "source": [
    "age_1 = data[data['age'].notna()].mean(numeric_only=True)\n",
    "age_0 = data[data['age'].isna()].mean(numeric_only=True)\n",
    "\n",
    "pd.concat({'Возраст_среднее': age_1,\n",
    "           'Нет_возраста_среднее': age_0,\n",
    "           \"%\": (age_0/age_1-1)*100},axis=1)"
   ]
  },
  {
   "cell_type": "code",
   "execution_count": 36,
   "metadata": {},
   "outputs": [
    {
     "data": {
      "text/html": [
       "<div>\n",
       "<style scoped>\n",
       "    .dataframe tbody tr th:only-of-type {\n",
       "        vertical-align: middle;\n",
       "    }\n",
       "\n",
       "    .dataframe tbody tr th {\n",
       "        vertical-align: top;\n",
       "    }\n",
       "\n",
       "    .dataframe thead th {\n",
       "        text-align: right;\n",
       "    }\n",
       "</style>\n",
       "<table border=\"1\" class=\"dataframe\">\n",
       "  <thead>\n",
       "    <tr style=\"text-align: right;\">\n",
       "      <th></th>\n",
       "      <th>user_id</th>\n",
       "      <th>score</th>\n",
       "      <th>city</th>\n",
       "      <th>gender</th>\n",
       "      <th>age</th>\n",
       "      <th>equity</th>\n",
       "      <th>balance</th>\n",
       "      <th>products</th>\n",
       "      <th>credit_card</th>\n",
       "      <th>last_activity</th>\n",
       "      <th>est_salary</th>\n",
       "      <th>churn</th>\n",
       "      <th>balance_nan</th>\n",
       "    </tr>\n",
       "  </thead>\n",
       "  <tbody>\n",
       "    <tr>\n",
       "      <th>1247</th>\n",
       "      <td>228075</td>\n",
       "      <td>932</td>\n",
       "      <td>Ярославль</td>\n",
       "      <td>М</td>\n",
       "      <td>NaN</td>\n",
       "      <td>5</td>\n",
       "      <td>7601719.20</td>\n",
       "      <td>2</td>\n",
       "      <td>1</td>\n",
       "      <td>1</td>\n",
       "      <td>408121.16</td>\n",
       "      <td>0</td>\n",
       "      <td>0</td>\n",
       "    </tr>\n",
       "    <tr>\n",
       "      <th>2165</th>\n",
       "      <td>187635</td>\n",
       "      <td>692</td>\n",
       "      <td>Рыбинск</td>\n",
       "      <td>Ж</td>\n",
       "      <td>NaN</td>\n",
       "      <td>0</td>\n",
       "      <td>NaN</td>\n",
       "      <td>1</td>\n",
       "      <td>1</td>\n",
       "      <td>1</td>\n",
       "      <td>160368.82</td>\n",
       "      <td>0</td>\n",
       "      <td>1</td>\n",
       "    </tr>\n",
       "    <tr>\n",
       "      <th>2444</th>\n",
       "      <td>221156</td>\n",
       "      <td>913</td>\n",
       "      <td>Ярославль</td>\n",
       "      <td>М</td>\n",
       "      <td>NaN</td>\n",
       "      <td>0</td>\n",
       "      <td>NaN</td>\n",
       "      <td>1</td>\n",
       "      <td>1</td>\n",
       "      <td>1</td>\n",
       "      <td>135693.24</td>\n",
       "      <td>0</td>\n",
       "      <td>1</td>\n",
       "    </tr>\n",
       "    <tr>\n",
       "      <th>3091</th>\n",
       "      <td>138660</td>\n",
       "      <td>836</td>\n",
       "      <td>Ростов</td>\n",
       "      <td>Ж</td>\n",
       "      <td>NaN</td>\n",
       "      <td>5</td>\n",
       "      <td>294315.53</td>\n",
       "      <td>2</td>\n",
       "      <td>0</td>\n",
       "      <td>1</td>\n",
       "      <td>63310.22</td>\n",
       "      <td>1</td>\n",
       "      <td>0</td>\n",
       "    </tr>\n",
       "    <tr>\n",
       "      <th>4912</th>\n",
       "      <td>210674</td>\n",
       "      <td>834</td>\n",
       "      <td>Рыбинск</td>\n",
       "      <td>М</td>\n",
       "      <td>NaN</td>\n",
       "      <td>1</td>\n",
       "      <td>238330.52</td>\n",
       "      <td>2</td>\n",
       "      <td>0</td>\n",
       "      <td>1</td>\n",
       "      <td>93775.06</td>\n",
       "      <td>0</td>\n",
       "      <td>0</td>\n",
       "    </tr>\n",
       "  </tbody>\n",
       "</table>\n",
       "</div>"
      ],
      "text/plain": [
       "      user_id  score       city gender  age  equity     balance  products  \\\n",
       "1247   228075    932  Ярославль      М  NaN       5  7601719.20         2   \n",
       "2165   187635    692    Рыбинск      Ж  NaN       0         NaN         1   \n",
       "2444   221156    913  Ярославль      М  NaN       0         NaN         1   \n",
       "3091   138660    836     Ростов      Ж  NaN       5   294315.53         2   \n",
       "4912   210674    834    Рыбинск      М  NaN       1   238330.52         2   \n",
       "\n",
       "      credit_card  last_activity  est_salary  churn  balance_nan  \n",
       "1247            1              1   408121.16      0            0  \n",
       "2165            1              1   160368.82      0            1  \n",
       "2444            1              1   135693.24      0            1  \n",
       "3091            0              1    63310.22      1            0  \n",
       "4912            0              1    93775.06      0            0  "
      ]
     },
     "execution_count": 36,
     "metadata": {},
     "output_type": "execute_result"
    }
   ],
   "source": [
    "data[data['age'].isna()].head()"
   ]
  },
  {
   "cell_type": "markdown",
   "metadata": {},
   "source": [
    "Данный тип пропусков можно отнести к типу MAR.\n",
    "\n",
    "MAR (Missing At Random / Отсутствует случайно) — в рамках каждой из групп, которая есть в описываемой данными совокупности, распределение пропусков случайно, можно их отбрасывать;"
   ]
  },
  {
   "cell_type": "code",
   "execution_count": 37,
   "metadata": {},
   "outputs": [],
   "source": [
    "data = data.dropna(subset=['age'])"
   ]
  },
  {
   "cell_type": "code",
   "execution_count": 38,
   "metadata": {},
   "outputs": [
    {
     "data": {
      "text/html": [
       "<div>\n",
       "<style scoped>\n",
       "    .dataframe tbody tr th:only-of-type {\n",
       "        vertical-align: middle;\n",
       "    }\n",
       "\n",
       "    .dataframe tbody tr th {\n",
       "        vertical-align: top;\n",
       "    }\n",
       "\n",
       "    .dataframe thead th {\n",
       "        text-align: right;\n",
       "    }\n",
       "</style>\n",
       "<table border=\"1\" class=\"dataframe\">\n",
       "  <thead>\n",
       "    <tr style=\"text-align: right;\">\n",
       "      <th></th>\n",
       "      <th>user_id</th>\n",
       "      <th>score</th>\n",
       "      <th>city</th>\n",
       "      <th>gender</th>\n",
       "      <th>age</th>\n",
       "      <th>equity</th>\n",
       "      <th>balance</th>\n",
       "      <th>products</th>\n",
       "      <th>credit_card</th>\n",
       "      <th>last_activity</th>\n",
       "      <th>est_salary</th>\n",
       "      <th>churn</th>\n",
       "      <th>balance_nan</th>\n",
       "    </tr>\n",
       "  </thead>\n",
       "  <tbody>\n",
       "    <tr>\n",
       "      <th>0</th>\n",
       "      <td>183012</td>\n",
       "      <td>850</td>\n",
       "      <td>Рыбинск</td>\n",
       "      <td>Ж</td>\n",
       "      <td>25</td>\n",
       "      <td>1</td>\n",
       "      <td>59214.82</td>\n",
       "      <td>2</td>\n",
       "      <td>0</td>\n",
       "      <td>1</td>\n",
       "      <td>75719.14</td>\n",
       "      <td>1</td>\n",
       "      <td>0</td>\n",
       "    </tr>\n",
       "    <tr>\n",
       "      <th>1</th>\n",
       "      <td>146556</td>\n",
       "      <td>861</td>\n",
       "      <td>Рыбинск</td>\n",
       "      <td>Ж</td>\n",
       "      <td>37</td>\n",
       "      <td>5</td>\n",
       "      <td>850594.33</td>\n",
       "      <td>3</td>\n",
       "      <td>1</td>\n",
       "      <td>0</td>\n",
       "      <td>86621.77</td>\n",
       "      <td>0</td>\n",
       "      <td>0</td>\n",
       "    </tr>\n",
       "    <tr>\n",
       "      <th>2</th>\n",
       "      <td>120722</td>\n",
       "      <td>892</td>\n",
       "      <td>Рыбинск</td>\n",
       "      <td>Ж</td>\n",
       "      <td>30</td>\n",
       "      <td>0</td>\n",
       "      <td>NaN</td>\n",
       "      <td>1</td>\n",
       "      <td>1</td>\n",
       "      <td>1</td>\n",
       "      <td>107683.34</td>\n",
       "      <td>0</td>\n",
       "      <td>1</td>\n",
       "    </tr>\n",
       "    <tr>\n",
       "      <th>3</th>\n",
       "      <td>225363</td>\n",
       "      <td>866</td>\n",
       "      <td>Ярославль</td>\n",
       "      <td>Ж</td>\n",
       "      <td>51</td>\n",
       "      <td>5</td>\n",
       "      <td>1524746.26</td>\n",
       "      <td>2</td>\n",
       "      <td>0</td>\n",
       "      <td>1</td>\n",
       "      <td>174423.53</td>\n",
       "      <td>1</td>\n",
       "      <td>0</td>\n",
       "    </tr>\n",
       "    <tr>\n",
       "      <th>4</th>\n",
       "      <td>157978</td>\n",
       "      <td>730</td>\n",
       "      <td>Ярославль</td>\n",
       "      <td>М</td>\n",
       "      <td>34</td>\n",
       "      <td>5</td>\n",
       "      <td>174.00</td>\n",
       "      <td>1</td>\n",
       "      <td>1</td>\n",
       "      <td>0</td>\n",
       "      <td>67353.16</td>\n",
       "      <td>1</td>\n",
       "      <td>0</td>\n",
       "    </tr>\n",
       "  </tbody>\n",
       "</table>\n",
       "</div>"
      ],
      "text/plain": [
       "   user_id  score       city gender  age  equity     balance  products  \\\n",
       "0   183012    850    Рыбинск      Ж   25       1    59214.82         2   \n",
       "1   146556    861    Рыбинск      Ж   37       5   850594.33         3   \n",
       "2   120722    892    Рыбинск      Ж   30       0         NaN         1   \n",
       "3   225363    866  Ярославль      Ж   51       5  1524746.26         2   \n",
       "4   157978    730  Ярославль      М   34       5      174.00         1   \n",
       "\n",
       "   credit_card  last_activity  est_salary  churn  balance_nan  \n",
       "0            0              1    75719.14      1            0  \n",
       "1            1              0    86621.77      0            0  \n",
       "2            1              1   107683.34      0            1  \n",
       "3            0              1   174423.53      1            0  \n",
       "4            1              0    67353.16      1            0  "
      ]
     },
     "execution_count": 38,
     "metadata": {},
     "output_type": "execute_result"
    }
   ],
   "source": [
    "# изменим тип данных в столбце 'age' на int\n",
    "data['age'] = data['age'].astype('int')\n",
    "data.head()"
   ]
  },
  {
   "cell_type": "markdown",
   "metadata": {},
   "source": [
    "###  Кодирование\n",
    "для дальнейшего анализа нам необходимо будет кодировать некоторые столбцы, то есть перевести категориальные значения в бинарные."
   ]
  },
  {
   "cell_type": "code",
   "execution_count": 39,
   "metadata": {},
   "outputs": [
    {
     "data": {
      "text/html": [
       "<div>\n",
       "<style scoped>\n",
       "    .dataframe tbody tr th:only-of-type {\n",
       "        vertical-align: middle;\n",
       "    }\n",
       "\n",
       "    .dataframe tbody tr th {\n",
       "        vertical-align: top;\n",
       "    }\n",
       "\n",
       "    .dataframe thead th {\n",
       "        text-align: right;\n",
       "    }\n",
       "</style>\n",
       "<table border=\"1\" class=\"dataframe\">\n",
       "  <thead>\n",
       "    <tr style=\"text-align: right;\">\n",
       "      <th></th>\n",
       "      <th>user_id</th>\n",
       "      <th>score</th>\n",
       "      <th>city</th>\n",
       "      <th>gender</th>\n",
       "      <th>age</th>\n",
       "      <th>equity</th>\n",
       "      <th>balance</th>\n",
       "      <th>products</th>\n",
       "      <th>credit_card</th>\n",
       "      <th>last_activity</th>\n",
       "      <th>est_salary</th>\n",
       "      <th>churn</th>\n",
       "      <th>balance_nan</th>\n",
       "    </tr>\n",
       "  </thead>\n",
       "  <tbody>\n",
       "    <tr>\n",
       "      <th>0</th>\n",
       "      <td>183012</td>\n",
       "      <td>850</td>\n",
       "      <td>Рыбинск</td>\n",
       "      <td>0</td>\n",
       "      <td>25</td>\n",
       "      <td>1</td>\n",
       "      <td>59214.82</td>\n",
       "      <td>2</td>\n",
       "      <td>0</td>\n",
       "      <td>1</td>\n",
       "      <td>75719.14</td>\n",
       "      <td>1</td>\n",
       "      <td>0</td>\n",
       "    </tr>\n",
       "    <tr>\n",
       "      <th>1</th>\n",
       "      <td>146556</td>\n",
       "      <td>861</td>\n",
       "      <td>Рыбинск</td>\n",
       "      <td>0</td>\n",
       "      <td>37</td>\n",
       "      <td>5</td>\n",
       "      <td>850594.33</td>\n",
       "      <td>3</td>\n",
       "      <td>1</td>\n",
       "      <td>0</td>\n",
       "      <td>86621.77</td>\n",
       "      <td>0</td>\n",
       "      <td>0</td>\n",
       "    </tr>\n",
       "    <tr>\n",
       "      <th>2</th>\n",
       "      <td>120722</td>\n",
       "      <td>892</td>\n",
       "      <td>Рыбинск</td>\n",
       "      <td>0</td>\n",
       "      <td>30</td>\n",
       "      <td>0</td>\n",
       "      <td>NaN</td>\n",
       "      <td>1</td>\n",
       "      <td>1</td>\n",
       "      <td>1</td>\n",
       "      <td>107683.34</td>\n",
       "      <td>0</td>\n",
       "      <td>1</td>\n",
       "    </tr>\n",
       "    <tr>\n",
       "      <th>3</th>\n",
       "      <td>225363</td>\n",
       "      <td>866</td>\n",
       "      <td>Ярославль</td>\n",
       "      <td>0</td>\n",
       "      <td>51</td>\n",
       "      <td>5</td>\n",
       "      <td>1524746.26</td>\n",
       "      <td>2</td>\n",
       "      <td>0</td>\n",
       "      <td>1</td>\n",
       "      <td>174423.53</td>\n",
       "      <td>1</td>\n",
       "      <td>0</td>\n",
       "    </tr>\n",
       "    <tr>\n",
       "      <th>4</th>\n",
       "      <td>157978</td>\n",
       "      <td>730</td>\n",
       "      <td>Ярославль</td>\n",
       "      <td>1</td>\n",
       "      <td>34</td>\n",
       "      <td>5</td>\n",
       "      <td>174.00</td>\n",
       "      <td>1</td>\n",
       "      <td>1</td>\n",
       "      <td>0</td>\n",
       "      <td>67353.16</td>\n",
       "      <td>1</td>\n",
       "      <td>0</td>\n",
       "    </tr>\n",
       "  </tbody>\n",
       "</table>\n",
       "</div>"
      ],
      "text/plain": [
       "   user_id  score       city  gender  age  equity     balance  products  \\\n",
       "0   183012    850    Рыбинск       0   25       1    59214.82         2   \n",
       "1   146556    861    Рыбинск       0   37       5   850594.33         3   \n",
       "2   120722    892    Рыбинск       0   30       0         NaN         1   \n",
       "3   225363    866  Ярославль       0   51       5  1524746.26         2   \n",
       "4   157978    730  Ярославль       1   34       5      174.00         1   \n",
       "\n",
       "   credit_card  last_activity  est_salary  churn  balance_nan  \n",
       "0            0              1    75719.14      1            0  \n",
       "1            1              0    86621.77      0            0  \n",
       "2            1              1   107683.34      0            1  \n",
       "3            0              1   174423.53      1            0  \n",
       "4            1              0    67353.16      1            0  "
      ]
     },
     "execution_count": 39,
     "metadata": {},
     "output_type": "execute_result"
    }
   ],
   "source": [
    "# Gender приведем к булевым значениям, где 1 - будет мужчина\n",
    "data['gender'] = (data['gender'] == 'М')*1\n",
    "data.head()"
   ]
  },
  {
   "cell_type": "code",
   "execution_count": 40,
   "metadata": {},
   "outputs": [
    {
     "data": {
      "text/html": [
       "<div>\n",
       "<style scoped>\n",
       "    .dataframe tbody tr th:only-of-type {\n",
       "        vertical-align: middle;\n",
       "    }\n",
       "\n",
       "    .dataframe tbody tr th {\n",
       "        vertical-align: top;\n",
       "    }\n",
       "\n",
       "    .dataframe thead th {\n",
       "        text-align: right;\n",
       "    }\n",
       "</style>\n",
       "<table border=\"1\" class=\"dataframe\">\n",
       "  <thead>\n",
       "    <tr style=\"text-align: right;\">\n",
       "      <th></th>\n",
       "      <th>user_id</th>\n",
       "      <th>score</th>\n",
       "      <th>city</th>\n",
       "      <th>gender</th>\n",
       "      <th>age</th>\n",
       "      <th>equity</th>\n",
       "      <th>balance</th>\n",
       "      <th>products</th>\n",
       "      <th>credit_card</th>\n",
       "      <th>last_activity</th>\n",
       "      <th>est_salary</th>\n",
       "      <th>churn</th>\n",
       "      <th>balance_nan</th>\n",
       "      <th>rostov</th>\n",
       "      <th>rybinsk</th>\n",
       "      <th>yaroslavl</th>\n",
       "    </tr>\n",
       "  </thead>\n",
       "  <tbody>\n",
       "    <tr>\n",
       "      <th>0</th>\n",
       "      <td>183012</td>\n",
       "      <td>850</td>\n",
       "      <td>Рыбинск</td>\n",
       "      <td>0</td>\n",
       "      <td>25</td>\n",
       "      <td>1</td>\n",
       "      <td>59214.82</td>\n",
       "      <td>2</td>\n",
       "      <td>0</td>\n",
       "      <td>1</td>\n",
       "      <td>75719.14</td>\n",
       "      <td>1</td>\n",
       "      <td>0</td>\n",
       "      <td>0</td>\n",
       "      <td>1</td>\n",
       "      <td>0</td>\n",
       "    </tr>\n",
       "    <tr>\n",
       "      <th>1</th>\n",
       "      <td>146556</td>\n",
       "      <td>861</td>\n",
       "      <td>Рыбинск</td>\n",
       "      <td>0</td>\n",
       "      <td>37</td>\n",
       "      <td>5</td>\n",
       "      <td>850594.33</td>\n",
       "      <td>3</td>\n",
       "      <td>1</td>\n",
       "      <td>0</td>\n",
       "      <td>86621.77</td>\n",
       "      <td>0</td>\n",
       "      <td>0</td>\n",
       "      <td>0</td>\n",
       "      <td>1</td>\n",
       "      <td>0</td>\n",
       "    </tr>\n",
       "    <tr>\n",
       "      <th>2</th>\n",
       "      <td>120722</td>\n",
       "      <td>892</td>\n",
       "      <td>Рыбинск</td>\n",
       "      <td>0</td>\n",
       "      <td>30</td>\n",
       "      <td>0</td>\n",
       "      <td>NaN</td>\n",
       "      <td>1</td>\n",
       "      <td>1</td>\n",
       "      <td>1</td>\n",
       "      <td>107683.34</td>\n",
       "      <td>0</td>\n",
       "      <td>1</td>\n",
       "      <td>0</td>\n",
       "      <td>1</td>\n",
       "      <td>0</td>\n",
       "    </tr>\n",
       "    <tr>\n",
       "      <th>3</th>\n",
       "      <td>225363</td>\n",
       "      <td>866</td>\n",
       "      <td>Ярославль</td>\n",
       "      <td>0</td>\n",
       "      <td>51</td>\n",
       "      <td>5</td>\n",
       "      <td>1524746.26</td>\n",
       "      <td>2</td>\n",
       "      <td>0</td>\n",
       "      <td>1</td>\n",
       "      <td>174423.53</td>\n",
       "      <td>1</td>\n",
       "      <td>0</td>\n",
       "      <td>0</td>\n",
       "      <td>0</td>\n",
       "      <td>1</td>\n",
       "    </tr>\n",
       "    <tr>\n",
       "      <th>4</th>\n",
       "      <td>157978</td>\n",
       "      <td>730</td>\n",
       "      <td>Ярославль</td>\n",
       "      <td>1</td>\n",
       "      <td>34</td>\n",
       "      <td>5</td>\n",
       "      <td>174.00</td>\n",
       "      <td>1</td>\n",
       "      <td>1</td>\n",
       "      <td>0</td>\n",
       "      <td>67353.16</td>\n",
       "      <td>1</td>\n",
       "      <td>0</td>\n",
       "      <td>0</td>\n",
       "      <td>0</td>\n",
       "      <td>1</td>\n",
       "    </tr>\n",
       "  </tbody>\n",
       "</table>\n",
       "</div>"
      ],
      "text/plain": [
       "   user_id  score       city  gender  age  equity     balance  products  \\\n",
       "0   183012    850    Рыбинск       0   25       1    59214.82         2   \n",
       "1   146556    861    Рыбинск       0   37       5   850594.33         3   \n",
       "2   120722    892    Рыбинск       0   30       0         NaN         1   \n",
       "3   225363    866  Ярославль       0   51       5  1524746.26         2   \n",
       "4   157978    730  Ярославль       1   34       5      174.00         1   \n",
       "\n",
       "   credit_card  last_activity  est_salary  churn  balance_nan  rostov  \\\n",
       "0            0              1    75719.14      1            0       0   \n",
       "1            1              0    86621.77      0            0       0   \n",
       "2            1              1   107683.34      0            1       0   \n",
       "3            0              1   174423.53      1            0       0   \n",
       "4            1              0    67353.16      1            0       0   \n",
       "\n",
       "   rybinsk  yaroslavl  \n",
       "0        1          0  \n",
       "1        1          0  \n",
       "2        1          0  \n",
       "3        0          1  \n",
       "4        0          1  "
      ]
     },
     "execution_count": 40,
     "metadata": {},
     "output_type": "execute_result"
    }
   ],
   "source": [
    "# создадим копии столбца 'city' и закодируем\n",
    "data['city_copy']=data['city']\n",
    "data = pd.get_dummies(data, columns=['city_copy'])\n",
    "data.rename(columns={\"city_copy_Ростов\": \"rostov\", \"city_copy_Рыбинск\": \"rybinsk\", \"city_copy_Ярославль\": \"yaroslavl\"}, inplace = True)\n",
    "data.head()"
   ]
  },
  {
   "cell_type": "markdown",
   "metadata": {},
   "source": [
    "Вывод:\n",
    "\n",
    "Проведена предобработка данных:\n",
    "\n",
    "- переименованы столбцы USERID и EST_SALARY;\n",
    "- изменен тип данных в столбце age с float на int;\n",
    "- полных дубликатов не обнаружено;\n",
    "- проанализированы дубликаты дубликаты в столбце user_id;\n",
    "- столбцах gender и city применена кодировка данных для удобства дальнейший расчетов;\n",
    "- пропуски в столбце age были удалины, пропуски в столбце balance оставлены без изменений."
   ]
  },
  {
   "cell_type": "markdown",
   "metadata": {},
   "source": [
    "## Шаг. Исследовательский анализ данных (EDA)\n",
    "### Анализ распределения признаков, в двух группах — тех, кто ушел в отток и тех, кто остался\n",
    "\n",
    "Посмотрим на средние значения признаков в двух группах — тех, кто ушел в отток и тех, кто остался"
   ]
  },
  {
   "cell_type": "code",
   "execution_count": 41,
   "metadata": {},
   "outputs": [
    {
     "data": {
      "text/html": [
       "<div>\n",
       "<style scoped>\n",
       "    .dataframe tbody tr th:only-of-type {\n",
       "        vertical-align: middle;\n",
       "    }\n",
       "\n",
       "    .dataframe tbody tr th {\n",
       "        vertical-align: top;\n",
       "    }\n",
       "\n",
       "    .dataframe thead th {\n",
       "        text-align: right;\n",
       "    }\n",
       "</style>\n",
       "<table border=\"1\" class=\"dataframe\">\n",
       "  <thead>\n",
       "    <tr style=\"text-align: right;\">\n",
       "      <th></th>\n",
       "      <th>index</th>\n",
       "      <th>churn</th>\n",
       "    </tr>\n",
       "  </thead>\n",
       "  <tbody>\n",
       "    <tr>\n",
       "      <th>0</th>\n",
       "      <td>0</td>\n",
       "      <td>0.82</td>\n",
       "    </tr>\n",
       "    <tr>\n",
       "      <th>1</th>\n",
       "      <td>1</td>\n",
       "      <td>0.18</td>\n",
       "    </tr>\n",
       "  </tbody>\n",
       "</table>\n",
       "</div>"
      ],
      "text/plain": [
       "   index  churn\n",
       "0      0   0.82\n",
       "1      1   0.18"
      ]
     },
     "execution_count": 41,
     "metadata": {},
     "output_type": "execute_result"
    }
   ],
   "source": [
    "data['churn'].value_counts(normalize = True).round(2).reset_index()"
   ]
  },
  {
   "cell_type": "markdown",
   "metadata": {},
   "source": [
    "Будем иметь ввиду, что общей выборке присутствует только 18% класса 1 (churn)\n",
    "\n",
    "Посмотрим на эти признаки.\n",
    "\n",
    "Рассмотрим центральные тенденции характеристик в разрезе оттока.\n",
    "\n",
    "- для категориальных и бинарных типов характеристик - среднее.\n",
    "- для непрерывных типов характеристик - медианы."
   ]
  },
  {
   "cell_type": "code",
   "execution_count": 42,
   "metadata": {},
   "outputs": [
    {
     "data": {
      "text/html": [
       "<div>\n",
       "<style scoped>\n",
       "    .dataframe tbody tr th:only-of-type {\n",
       "        vertical-align: middle;\n",
       "    }\n",
       "\n",
       "    .dataframe tbody tr th {\n",
       "        vertical-align: top;\n",
       "    }\n",
       "\n",
       "    .dataframe thead th {\n",
       "        text-align: right;\n",
       "    }\n",
       "</style>\n",
       "<table border=\"1\" class=\"dataframe\">\n",
       "  <thead>\n",
       "    <tr style=\"text-align: right;\">\n",
       "      <th></th>\n",
       "      <th>count</th>\n",
       "      <th>equity</th>\n",
       "      <th>products</th>\n",
       "      <th>credit_card</th>\n",
       "      <th>last_activity</th>\n",
       "      <th>rostov</th>\n",
       "      <th>rybinsk</th>\n",
       "      <th>yaroslavl</th>\n",
       "      <th>gender</th>\n",
       "      <th>score</th>\n",
       "      <th>age</th>\n",
       "      <th>balance</th>\n",
       "      <th>balance_nan</th>\n",
       "      <th>est_salary</th>\n",
       "    </tr>\n",
       "    <tr>\n",
       "      <th>churn</th>\n",
       "      <th></th>\n",
       "      <th></th>\n",
       "      <th></th>\n",
       "      <th></th>\n",
       "      <th></th>\n",
       "      <th></th>\n",
       "      <th></th>\n",
       "      <th></th>\n",
       "      <th></th>\n",
       "      <th></th>\n",
       "      <th></th>\n",
       "      <th></th>\n",
       "      <th></th>\n",
       "      <th></th>\n",
       "    </tr>\n",
       "  </thead>\n",
       "  <tbody>\n",
       "    <tr>\n",
       "      <th>0</th>\n",
       "      <td>8155</td>\n",
       "      <td>2.378296</td>\n",
       "      <td>1.758921</td>\n",
       "      <td>0.708890</td>\n",
       "      <td>0.482894</td>\n",
       "      <td>0.141140</td>\n",
       "      <td>0.275414</td>\n",
       "      <td>0.583446</td>\n",
       "      <td>0.466953</td>\n",
       "      <td>848</td>\n",
       "      <td>40</td>\n",
       "      <td>475410.09</td>\n",
       "      <td>0.277866</td>\n",
       "      <td>118227.60</td>\n",
       "    </tr>\n",
       "    <tr>\n",
       "      <th>1</th>\n",
       "      <td>1818</td>\n",
       "      <td>3.763476</td>\n",
       "      <td>2.377338</td>\n",
       "      <td>0.551705</td>\n",
       "      <td>0.702420</td>\n",
       "      <td>0.145765</td>\n",
       "      <td>0.239824</td>\n",
       "      <td>0.614411</td>\n",
       "      <td>0.650715</td>\n",
       "      <td>866</td>\n",
       "      <td>39</td>\n",
       "      <td>783908.90</td>\n",
       "      <td>0.006601</td>\n",
       "      <td>125408.88</td>\n",
       "    </tr>\n",
       "  </tbody>\n",
       "</table>\n",
       "</div>"
      ],
      "text/plain": [
       "       count    equity  products  credit_card  last_activity    rostov  \\\n",
       "churn                                                                    \n",
       "0       8155  2.378296  1.758921     0.708890       0.482894  0.141140   \n",
       "1       1818  3.763476  2.377338     0.551705       0.702420  0.145765   \n",
       "\n",
       "        rybinsk  yaroslavl    gender  score  age    balance  balance_nan  \\\n",
       "churn                                                                      \n",
       "0      0.275414   0.583446  0.466953    848   40  475410.09     0.277866   \n",
       "1      0.239824   0.614411  0.650715    866   39  783908.90     0.006601   \n",
       "\n",
       "       est_salary  \n",
       "churn              \n",
       "0       118227.60  \n",
       "1       125408.88  "
      ]
     },
     "metadata": {},
     "output_type": "display_data"
    }
   ],
   "source": [
    "data_churn = data.groupby('churn').agg({\n",
    "                         'churn': 'count',\n",
    "                         'equity': 'mean',\n",
    "                         'products': 'mean', \n",
    "                         'credit_card': 'mean', \n",
    "                         'last_activity': 'mean', \n",
    "                         'rostov': 'mean', \n",
    "                         'rybinsk': 'mean', \n",
    "                         'yaroslavl': 'mean', \n",
    "                         'gender': 'mean', \n",
    "                         'score' : 'median', \n",
    "                         'age': 'median', \n",
    "                         'balance': 'median', \n",
    "                         'balance_nan': 'mean', \n",
    "                         'est_salary': 'median'}).rename(columns = {'churn':'count'})\n",
    "display(data_churn)\n"
   ]
  },
  {
   "cell_type": "markdown",
   "metadata": {},
   "source": [
    "### Построим диаграммы распределения признаков для тех, кто ушёл и тех, кто остался;\n",
    "Для количественных непрерывных характеристик построим график распределение в разрезе оттока."
   ]
  },
  {
   "cell_type": "code",
   "execution_count": 43,
   "metadata": {},
   "outputs": [
    {
     "data": {
      "image/png": "[encoded data removed]",
      "text/plain": [
       "<Figure size 720x216 with 1 Axes>"
      ]
     },
     "metadata": {
      "needs_background": "light"
     },
     "output_type": "display_data"
    }
   ],
   "source": [
    "# визуализируем взаимосвязь оттока для score\n",
    "plt.figure(figsize=(10,3))\n",
    "sns.kdeplot(data[data['churn'] == 0]['score'], clip=(0.0, 2000000.0), common_norm=False, color='blue')\n",
    "sns.kdeplot(data[data['churn'] == 1]['score'], clip=(0.0, 2000000.0), common_norm=False, color='yellow')\n",
    "plt.legend(['Не отточные', 'Отточные'])\n",
    "plt.suptitle(\"График плотности распределение в разрезе оттока по кредитному скорингу.\")\n",
    "plt.show();"
   ]
  },
  {
   "cell_type": "markdown",
   "metadata": {},
   "source": [
    "Первое, что бросается в глаза - из банка уходили клиенты со скоринговым баллом от 800 до 905. Далее показатель уменьшается. Клиенты с хорошими баллами по кредиту уходят."
   ]
  },
  {
   "cell_type": "code",
   "execution_count": 44,
   "metadata": {},
   "outputs": [
    {
     "data": {
      "image/png": "[encoded data removed]",
      "text/plain": [
       "<Figure size 720x216 with 1 Axes>"
      ]
     },
     "metadata": {
      "needs_background": "light"
     },
     "output_type": "display_data"
    }
   ],
   "source": [
    "# визуализируем взаимосвязь оттока для balance\n",
    "plt.figure(figsize=(10,3))\n",
    "sns.kdeplot(data[data['churn'] == 0]['balance'], clip=(0.0, 2000000.0), common_norm=False, color='blue')\n",
    "sns.kdeplot(data[data['churn'] == 1]['balance'], clip=(0.0, 2000000.0), common_norm=False, color='yellow')\n",
    "plt.legend(['Не отточные', 'Отточные'])\n",
    "plt.suptitle(\"График плотности распределение в разрезе оттока по балансу.\")\n",
    "plt.show();"
   ]
  },
  {
   "cell_type": "markdown",
   "metadata": {},
   "source": [
    "Наблюдаем рост оттока от 250 000 до 900 000 далее показаеть идет на снижение."
   ]
  },
  {
   "cell_type": "code",
   "execution_count": 45,
   "metadata": {},
   "outputs": [
    {
     "data": {
      "image/png": "[encoded data removed]",
      "text/plain": [
       "<Figure size 720x216 with 1 Axes>"
      ]
     },
     "metadata": {
      "needs_background": "light"
     },
     "output_type": "display_data"
    }
   ],
   "source": [
    "# визуализируем взаимосвязь оттока для est_salary\n",
    "plt.figure(figsize=(10,3))\n",
    "sns.kdeplot(data[data['churn'] == 0]['est_salary'], clip=(0.0, 300000.0), common_norm=False, color='Blue')\n",
    "sns.kdeplot(data[data['churn'] == 1]['est_salary'], clip=(0.0, 300000.0), common_norm=False, color='Yellow')\n",
    "plt.legend(['Не отточные', 'Отточные'])\n",
    "plt.suptitle(\"График плотности распределение в разрезе оттока по заработной плате.\")\n",
    "plt.show();"
   ]
  },
  {
   "cell_type": "markdown",
   "metadata": {},
   "source": [
    "Отток для оценночного дохода начинает рости от 100 000 до 200 000 "
   ]
  },
  {
   "cell_type": "markdown",
   "metadata": {},
   "source": [
    "Для дискретных характеристик построим гистограмму в разрезе оттока"
   ]
  },
  {
   "cell_type": "code",
   "execution_count": 46,
   "metadata": {},
   "outputs": [
    {
     "data": {
      "image/png": "[encoded data removed]",
      "text/plain": [
       "<Figure size 648x216 with 1 Axes>"
      ]
     },
     "metadata": {
      "needs_background": "light"
     },
     "output_type": "display_data"
    }
   ],
   "source": [
    "plt.figure(figsize=(9,3))\n",
    "plt.legend(['Не отточные', 'Отточные'])\n",
    "sns.histplot(data[data['churn'] == 0]['age'], discrete=True, stat='density', common_norm=False, color='Blue');\n",
    "sns.histplot(data[data['churn'] == 1]['age'], discrete=True, stat='density', common_norm=False, color='Yellow');\n",
    "plt.suptitle(\"График распределение в разрезе оттока по возрасту.\")\n",
    "plt.show()"
   ]
  },
  {
   "cell_type": "markdown",
   "metadata": {},
   "source": [
    "Теперь мы можем выделить возрастные группы с пользователями, имеющим схожие паттерны оттока:\n",
    "\n",
    "1. от 18 до 24 лет;\n",
    "2. от 25 до 35 лет;\n",
    "3. от 36 до 50 лет;\n",
    "4. от 51 до 60 лет;\n",
    "5. 61+ года и старше.\n",
    "\n",
    "В отток попадают два интервала это с возрастом от 25 до 35 лет и с 51 до 60 лет "
   ]
  },
  {
   "cell_type": "code",
   "execution_count": 47,
   "metadata": {
    "scrolled": true
   },
   "outputs": [],
   "source": [
    "# создадим функцию age_cat для распределения клиентов по возрастным группам\n",
    "\n",
    "def age_group(age):\n",
    "    if 18 <= age <= 24:\n",
    "        return '18-24'\n",
    "    if 25 <= age <= 35:\n",
    "        return '25-35'\n",
    "    if 36 <= age <= 50:\n",
    "        return '36-50'\n",
    "    if 51 <= age <= 60:\n",
    "        return '51-60'\n",
    "    if 61 <= age:\n",
    "        return '60+'\n",
    "    \n",
    "data['age_group'] = data['age'].apply(age_group)"
   ]
  },
  {
   "cell_type": "code",
   "execution_count": 48,
   "metadata": {},
   "outputs": [
    {
     "data": {
      "image/png": "[encoded data removed]",
      "text/plain": [
       "<Figure size 648x216 with 1 Axes>"
      ]
     },
     "metadata": {
      "needs_background": "light"
     },
     "output_type": "display_data"
    }
   ],
   "source": [
    "plt.figure(figsize=(9,3))\n",
    "sns.histplot(data[data['churn'] == 0]['age_group'], discrete=True, stat='density', common_norm=False, color='Blue');\n",
    "sns.histplot(data[data['churn'] == 1]['age_group'], discrete=True, stat='density', common_norm=False, color='Yellow');\n",
    "plt.suptitle(\"График плотности распределение в разрезе оттока по возрасту.\") \n",
    "plt.legend(['Не отточные', 'Отточные'])\n",
    "plt.show();"
   ]
  },
  {
   "cell_type": "markdown",
   "metadata": {},
   "source": [
    "Отточных груп две это с возрастом от 25 до 35 и от 51 до 60"
   ]
  },
  {
   "cell_type": "markdown",
   "metadata": {},
   "source": [
    "Для категориальных характеристик построим столбчатую диаграмму уровня оттока"
   ]
  },
  {
   "cell_type": "code",
   "execution_count": 49,
   "metadata": {},
   "outputs": [
    {
     "data": {
      "text/plain": [
       "0.18229218891005716"
      ]
     },
     "execution_count": 49,
     "metadata": {},
     "output_type": "execute_result"
    }
   ],
   "source": [
    "churn_mean=data['churn'].mean()\n",
    "churn_mean"
   ]
  },
  {
   "cell_type": "code",
   "execution_count": 50,
   "metadata": {},
   "outputs": [
    {
     "data": {
      "text/html": [
       "<div>\n",
       "<style scoped>\n",
       "    .dataframe tbody tr th:only-of-type {\n",
       "        vertical-align: middle;\n",
       "    }\n",
       "\n",
       "    .dataframe tbody tr th {\n",
       "        vertical-align: top;\n",
       "    }\n",
       "\n",
       "    .dataframe thead th {\n",
       "        text-align: right;\n",
       "    }\n",
       "</style>\n",
       "<table border=\"1\" class=\"dataframe\">\n",
       "  <thead>\n",
       "    <tr style=\"text-align: right;\">\n",
       "      <th></th>\n",
       "      <th>sum</th>\n",
       "      <th>count</th>\n",
       "      <th>%</th>\n",
       "    </tr>\n",
       "    <tr>\n",
       "      <th>city</th>\n",
       "      <th></th>\n",
       "      <th></th>\n",
       "      <th></th>\n",
       "    </tr>\n",
       "  </thead>\n",
       "  <tbody>\n",
       "    <tr>\n",
       "      <th>Ростов</th>\n",
       "      <td>265</td>\n",
       "      <td>1416</td>\n",
       "      <td>18.714689</td>\n",
       "    </tr>\n",
       "    <tr>\n",
       "      <th>Рыбинск</th>\n",
       "      <td>436</td>\n",
       "      <td>2682</td>\n",
       "      <td>16.256525</td>\n",
       "    </tr>\n",
       "    <tr>\n",
       "      <th>Ярославль</th>\n",
       "      <td>1117</td>\n",
       "      <td>5875</td>\n",
       "      <td>19.012766</td>\n",
       "    </tr>\n",
       "  </tbody>\n",
       "</table>\n",
       "</div>"
      ],
      "text/plain": [
       "            sum  count          %\n",
       "city                             \n",
       "Ростов      265   1416  18.714689\n",
       "Рыбинск     436   2682  16.256525\n",
       "Ярославль  1117   5875  19.012766"
      ]
     },
     "execution_count": 50,
     "metadata": {},
     "output_type": "execute_result"
    },
    {
     "data": {
      "image/png": "[encoded data removed]",
      "text/plain": [
       "<Figure size 720x432 with 1 Axes>"
      ]
     },
     "metadata": {
      "needs_background": "light"
     },
     "output_type": "display_data"
    }
   ],
   "source": [
    "# Рассчитаем процент ушедших клиентов в разбивке по городам от общего числа:\n",
    "city_churn = data.pivot_table (index = 'city', values = 'churn', aggfunc =['sum', 'count'])\n",
    "city_churn.columns = city_churn.columns.droplevel(level=1)\n",
    "city_churn ['%'] = city_churn['sum']/city_churn['count']*100\n",
    "\n",
    "# Построим столбчатую диаграмму:\n",
    "city_churn['%'].plot (\n",
    "    kind='bar', title = 'Процент ушедших клиентов в разбивке по городам',\n",
    "    xlabel = 'Город клиентов', ylabel = 'Процент ушедших клиентов', figsize = (10,6), \n",
    "    color = 'blue')\n",
    "plt.axhline(y=churn_mean*100, color='red', linestyle='-');\n",
    "city_churn"
   ]
  },
  {
   "cell_type": "markdown",
   "metadata": {},
   "source": [
    "Процент распределения по городам не сильный, они почти равны"
   ]
  },
  {
   "cell_type": "code",
   "execution_count": 51,
   "metadata": {},
   "outputs": [
    {
     "data": {
      "text/html": [
       "<div>\n",
       "<style scoped>\n",
       "    .dataframe tbody tr th:only-of-type {\n",
       "        vertical-align: middle;\n",
       "    }\n",
       "\n",
       "    .dataframe tbody tr th {\n",
       "        vertical-align: top;\n",
       "    }\n",
       "\n",
       "    .dataframe thead th {\n",
       "        text-align: right;\n",
       "    }\n",
       "</style>\n",
       "<table border=\"1\" class=\"dataframe\">\n",
       "  <thead>\n",
       "    <tr style=\"text-align: right;\">\n",
       "      <th></th>\n",
       "      <th>sum</th>\n",
       "      <th>count</th>\n",
       "      <th>%</th>\n",
       "    </tr>\n",
       "    <tr>\n",
       "      <th>equity</th>\n",
       "      <th></th>\n",
       "      <th></th>\n",
       "      <th></th>\n",
       "    </tr>\n",
       "  </thead>\n",
       "  <tbody>\n",
       "    <tr>\n",
       "      <th>0</th>\n",
       "      <td>90</td>\n",
       "      <td>2576</td>\n",
       "      <td>3.493789</td>\n",
       "    </tr>\n",
       "    <tr>\n",
       "      <th>1</th>\n",
       "      <td>93</td>\n",
       "      <td>773</td>\n",
       "      <td>12.031048</td>\n",
       "    </tr>\n",
       "    <tr>\n",
       "      <th>2</th>\n",
       "      <td>166</td>\n",
       "      <td>1051</td>\n",
       "      <td>15.794481</td>\n",
       "    </tr>\n",
       "    <tr>\n",
       "      <th>3</th>\n",
       "      <td>321</td>\n",
       "      <td>1540</td>\n",
       "      <td>20.844156</td>\n",
       "    </tr>\n",
       "    <tr>\n",
       "      <th>4</th>\n",
       "      <td>464</td>\n",
       "      <td>1847</td>\n",
       "      <td>25.121819</td>\n",
       "    </tr>\n",
       "    <tr>\n",
       "      <th>5</th>\n",
       "      <td>576</td>\n",
       "      <td>1915</td>\n",
       "      <td>30.078329</td>\n",
       "    </tr>\n",
       "    <tr>\n",
       "      <th>6</th>\n",
       "      <td>58</td>\n",
       "      <td>161</td>\n",
       "      <td>36.024845</td>\n",
       "    </tr>\n",
       "    <tr>\n",
       "      <th>7</th>\n",
       "      <td>37</td>\n",
       "      <td>80</td>\n",
       "      <td>46.250000</td>\n",
       "    </tr>\n",
       "    <tr>\n",
       "      <th>8</th>\n",
       "      <td>6</td>\n",
       "      <td>17</td>\n",
       "      <td>35.294118</td>\n",
       "    </tr>\n",
       "    <tr>\n",
       "      <th>9</th>\n",
       "      <td>7</td>\n",
       "      <td>13</td>\n",
       "      <td>53.846154</td>\n",
       "    </tr>\n",
       "  </tbody>\n",
       "</table>\n",
       "</div>"
      ],
      "text/plain": [
       "        sum  count          %\n",
       "equity                       \n",
       "0        90   2576   3.493789\n",
       "1        93    773  12.031048\n",
       "2       166   1051  15.794481\n",
       "3       321   1540  20.844156\n",
       "4       464   1847  25.121819\n",
       "5       576   1915  30.078329\n",
       "6        58    161  36.024845\n",
       "7        37     80  46.250000\n",
       "8         6     17  35.294118\n",
       "9         7     13  53.846154"
      ]
     },
     "execution_count": 51,
     "metadata": {},
     "output_type": "execute_result"
    },
    {
     "data": {
      "image/png": "[encoded data removed]",
      "text/plain": [
       "<Figure size 720x432 with 1 Axes>"
      ]
     },
     "metadata": {
      "needs_background": "light"
     },
     "output_type": "display_data"
    }
   ],
   "source": [
    "# процент ушедших клиентов в разбивке по оценке принадлежащей им собственности от общего числа:\n",
    "equity_churn = data.pivot_table (index = 'equity', values = 'churn', aggfunc = ['sum', 'count'])\n",
    "equity_churn.columns = equity_churn.columns.droplevel(level=1)\n",
    "equity_churn ['%'] = equity_churn['sum']/equity_churn['count']*100\n",
    "\n",
    "# Построим столбчатую диаграмму:\n",
    "equity_churn['%'].plot (\n",
    "    kind='bar', title = 'Процент ушедших клиентов в разбивке по оценке принадлежащей им собственности от общего числа',\n",
    "    xlabel = 'Оценка собственности', ylabel = 'Процент ушедших клиентов', figsize = (10,6), color = 'blue')\n",
    "plt.axhline(y=churn_mean*100, color='red', linestyle='-');\n",
    "equity_churn"
   ]
  },
  {
   "cell_type": "markdown",
   "metadata": {},
   "source": [
    "Мы видим практически прямую зависимость - чем выше оценка собственности, тем больше процент отточных клиентов (от 3,4% для оценки 0 до 53% для оценки 9)."
   ]
  },
  {
   "cell_type": "code",
   "execution_count": 52,
   "metadata": {},
   "outputs": [
    {
     "data": {
      "text/html": [
       "<div>\n",
       "<style scoped>\n",
       "    .dataframe tbody tr th:only-of-type {\n",
       "        vertical-align: middle;\n",
       "    }\n",
       "\n",
       "    .dataframe tbody tr th {\n",
       "        vertical-align: top;\n",
       "    }\n",
       "\n",
       "    .dataframe thead th {\n",
       "        text-align: right;\n",
       "    }\n",
       "</style>\n",
       "<table border=\"1\" class=\"dataframe\">\n",
       "  <thead>\n",
       "    <tr style=\"text-align: right;\">\n",
       "      <th></th>\n",
       "      <th>sum</th>\n",
       "      <th>count</th>\n",
       "      <th>%</th>\n",
       "    </tr>\n",
       "    <tr>\n",
       "      <th>products</th>\n",
       "      <th></th>\n",
       "      <th></th>\n",
       "      <th></th>\n",
       "    </tr>\n",
       "  </thead>\n",
       "  <tbody>\n",
       "    <tr>\n",
       "      <th>1</th>\n",
       "      <td>235</td>\n",
       "      <td>3323</td>\n",
       "      <td>7.071923</td>\n",
       "    </tr>\n",
       "    <tr>\n",
       "      <th>2</th>\n",
       "      <td>978</td>\n",
       "      <td>5119</td>\n",
       "      <td>19.105294</td>\n",
       "    </tr>\n",
       "    <tr>\n",
       "      <th>3</th>\n",
       "      <td>297</td>\n",
       "      <td>1038</td>\n",
       "      <td>28.612717</td>\n",
       "    </tr>\n",
       "    <tr>\n",
       "      <th>4</th>\n",
       "      <td>300</td>\n",
       "      <td>474</td>\n",
       "      <td>63.291139</td>\n",
       "    </tr>\n",
       "    <tr>\n",
       "      <th>5</th>\n",
       "      <td>8</td>\n",
       "      <td>19</td>\n",
       "      <td>42.105263</td>\n",
       "    </tr>\n",
       "  </tbody>\n",
       "</table>\n",
       "</div>"
      ],
      "text/plain": [
       "          sum  count          %\n",
       "products                       \n",
       "1         235   3323   7.071923\n",
       "2         978   5119  19.105294\n",
       "3         297   1038  28.612717\n",
       "4         300    474  63.291139\n",
       "5           8     19  42.105263"
      ]
     },
     "execution_count": 52,
     "metadata": {},
     "output_type": "execute_result"
    },
    {
     "data": {
      "image/png": "[encoded data removed]",
      "text/plain": [
       "<Figure size 720x432 with 1 Axes>"
      ]
     },
     "metadata": {
      "needs_background": "light"
     },
     "output_type": "display_data"
    }
   ],
   "source": [
    "# Рассчитаем процент ушедших клиентов в разбивке по количеству используемых продуктов от общего числа:\n",
    "products_churn = data.pivot_table (index = 'products', values = 'churn', aggfunc = ['sum', 'count'])\n",
    "products_churn.columns = products_churn.columns.droplevel(level=1)\n",
    "products_churn ['%'] = products_churn['sum']/products_churn['count']*100\n",
    "\n",
    "# Построим столбчатую диаграмму:\n",
    "products_churn['%'].plot (\n",
    "    kind='bar', title = 'Процент ушедших клиентов в разбивке по количеству используемых продуктов от общего числа',\n",
    "    xlabel = 'Количество используемых продуктов', ylabel = 'Процент ушедших клиентов', figsize = (10,6), \n",
    "    color = 'blue')\n",
    "plt.axhline(y=churn_mean*100, color='red', linestyle='-');\n",
    "products_churn"
   ]
  },
  {
   "cell_type": "markdown",
   "metadata": {},
   "source": [
    "Процент отточности увеличивается, когда клиент пользуется 2 и более продуктами "
   ]
  },
  {
   "cell_type": "code",
   "execution_count": 53,
   "metadata": {},
   "outputs": [
    {
     "data": {
      "text/html": [
       "<div>\n",
       "<style scoped>\n",
       "    .dataframe tbody tr th:only-of-type {\n",
       "        vertical-align: middle;\n",
       "    }\n",
       "\n",
       "    .dataframe tbody tr th {\n",
       "        vertical-align: top;\n",
       "    }\n",
       "\n",
       "    .dataframe thead th {\n",
       "        text-align: right;\n",
       "    }\n",
       "</style>\n",
       "<table border=\"1\" class=\"dataframe\">\n",
       "  <thead>\n",
       "    <tr style=\"text-align: right;\">\n",
       "      <th></th>\n",
       "      <th>sum</th>\n",
       "      <th>count</th>\n",
       "      <th>%</th>\n",
       "    </tr>\n",
       "    <tr>\n",
       "      <th>gender</th>\n",
       "      <th></th>\n",
       "      <th></th>\n",
       "      <th></th>\n",
       "    </tr>\n",
       "  </thead>\n",
       "  <tbody>\n",
       "    <tr>\n",
       "      <th>0</th>\n",
       "      <td>635</td>\n",
       "      <td>4982</td>\n",
       "      <td>12.745885</td>\n",
       "    </tr>\n",
       "    <tr>\n",
       "      <th>1</th>\n",
       "      <td>1183</td>\n",
       "      <td>4991</td>\n",
       "      <td>23.702665</td>\n",
       "    </tr>\n",
       "  </tbody>\n",
       "</table>\n",
       "</div>"
      ],
      "text/plain": [
       "         sum  count          %\n",
       "gender                        \n",
       "0        635   4982  12.745885\n",
       "1       1183   4991  23.702665"
      ]
     },
     "execution_count": 53,
     "metadata": {},
     "output_type": "execute_result"
    },
    {
     "data": {
      "image/png": "[encoded data removed]",
      "text/plain": [
       "<Figure size 864x576 with 1 Axes>"
      ]
     },
     "metadata": {
      "needs_background": "light"
     },
     "output_type": "display_data"
    }
   ],
   "source": [
    "# Рассчитаем процент ушедших клиентов в разбивке по полу от общего числа:\n",
    "gender_churn = data.pivot_table (index = 'gender', values = 'churn', aggfunc = ['sum', 'count'])\n",
    "gender_churn.columns = gender_churn.columns.droplevel(level=1)\n",
    "gender_churn ['%'] = gender_churn['sum']/gender_churn['count']*100\n",
    "\n",
    "# Построим столбчатую диаграмму:\n",
    "gender_churn['%'].plot(\n",
    "    kind='bar', title = 'Процент ушедших клиентов в разбивке по полу', figsize = (12,8), color = 'Yellow', \n",
    "    xlabel = 'Пол клиента', ylabel = 'Процент ушедших клиентов')\n",
    "plt.axhline(y=churn_mean*100, color='red', linestyle='-');\n",
    "gender_churn"
   ]
  },
  {
   "cell_type": "markdown",
   "metadata": {},
   "source": [
    "Мужчин уходит больше чем женщин почти на 50%"
   ]
  },
  {
   "cell_type": "code",
   "execution_count": 54,
   "metadata": {},
   "outputs": [
    {
     "data": {
      "text/html": [
       "<div>\n",
       "<style scoped>\n",
       "    .dataframe tbody tr th:only-of-type {\n",
       "        vertical-align: middle;\n",
       "    }\n",
       "\n",
       "    .dataframe tbody tr th {\n",
       "        vertical-align: top;\n",
       "    }\n",
       "\n",
       "    .dataframe thead th {\n",
       "        text-align: right;\n",
       "    }\n",
       "</style>\n",
       "<table border=\"1\" class=\"dataframe\">\n",
       "  <thead>\n",
       "    <tr style=\"text-align: right;\">\n",
       "      <th></th>\n",
       "      <th>sum</th>\n",
       "      <th>count</th>\n",
       "      <th>%</th>\n",
       "    </tr>\n",
       "    <tr>\n",
       "      <th>credit_card</th>\n",
       "      <th></th>\n",
       "      <th></th>\n",
       "      <th></th>\n",
       "    </tr>\n",
       "  </thead>\n",
       "  <tbody>\n",
       "    <tr>\n",
       "      <th>0</th>\n",
       "      <td>815</td>\n",
       "      <td>3189</td>\n",
       "      <td>25.556601</td>\n",
       "    </tr>\n",
       "    <tr>\n",
       "      <th>1</th>\n",
       "      <td>1003</td>\n",
       "      <td>6784</td>\n",
       "      <td>14.784788</td>\n",
       "    </tr>\n",
       "  </tbody>\n",
       "</table>\n",
       "</div>"
      ],
      "text/plain": [
       "              sum  count          %\n",
       "credit_card                        \n",
       "0             815   3189  25.556601\n",
       "1            1003   6784  14.784788"
      ]
     },
     "execution_count": 54,
     "metadata": {},
     "output_type": "execute_result"
    },
    {
     "data": {
      "image/png": "[encoded data removed]",
      "text/plain": [
       "<Figure size 864x576 with 1 Axes>"
      ]
     },
     "metadata": {
      "needs_background": "light"
     },
     "output_type": "display_data"
    }
   ],
   "source": [
    "# Рассчитаем процент ушедших клиентов в разбивке по наличию или отсутствию кредитной карты:\n",
    "credit_card_churn = data.pivot_table (index = 'credit_card', values = 'churn', aggfunc = ['sum', 'count'])\n",
    "credit_card_churn.columns = credit_card_churn.columns.droplevel(level=1)\n",
    "credit_card_churn ['%'] = credit_card_churn['sum']/credit_card_churn['count']*100\n",
    "\n",
    "# Построим столбчатую диаграмму:\n",
    "credit_card_churn['%'].plot(\n",
    "    kind='bar', figsize = (12,8), color = 'Yellow', xlabel = 'Наличие кредитной карты',\n",
    "    title = 'Процент ушедших клиентов в разбивке по по наличию или отсутствию кредитной карты от общего числа',\n",
    "    ylabel = 'Процент ушедших клиентов')\n",
    "plt.axhline(y=churn_mean*100, color='red', linestyle='-')\n",
    "credit_card_churn"
   ]
  },
  {
   "cell_type": "markdown",
   "metadata": {},
   "source": [
    "Наличие кредитной карты не является оттоком "
   ]
  },
  {
   "cell_type": "code",
   "execution_count": 55,
   "metadata": {},
   "outputs": [
    {
     "data": {
      "text/html": [
       "<div>\n",
       "<style scoped>\n",
       "    .dataframe tbody tr th:only-of-type {\n",
       "        vertical-align: middle;\n",
       "    }\n",
       "\n",
       "    .dataframe tbody tr th {\n",
       "        vertical-align: top;\n",
       "    }\n",
       "\n",
       "    .dataframe thead th {\n",
       "        text-align: right;\n",
       "    }\n",
       "</style>\n",
       "<table border=\"1\" class=\"dataframe\">\n",
       "  <thead>\n",
       "    <tr style=\"text-align: right;\">\n",
       "      <th></th>\n",
       "      <th>sum</th>\n",
       "      <th>count</th>\n",
       "      <th>%</th>\n",
       "    </tr>\n",
       "    <tr>\n",
       "      <th>last_activity</th>\n",
       "      <th></th>\n",
       "      <th></th>\n",
       "      <th></th>\n",
       "    </tr>\n",
       "  </thead>\n",
       "  <tbody>\n",
       "    <tr>\n",
       "      <th>0</th>\n",
       "      <td>541</td>\n",
       "      <td>4758</td>\n",
       "      <td>11.370324</td>\n",
       "    </tr>\n",
       "    <tr>\n",
       "      <th>1</th>\n",
       "      <td>1277</td>\n",
       "      <td>5215</td>\n",
       "      <td>24.487057</td>\n",
       "    </tr>\n",
       "  </tbody>\n",
       "</table>\n",
       "</div>"
      ],
      "text/plain": [
       "                sum  count          %\n",
       "last_activity                        \n",
       "0               541   4758  11.370324\n",
       "1              1277   5215  24.487057"
      ]
     },
     "execution_count": 55,
     "metadata": {},
     "output_type": "execute_result"
    },
    {
     "data": {
      "image/png": "[encoded data removed]",
      "text/plain": [
       "<Figure size 864x576 with 1 Axes>"
      ]
     },
     "metadata": {
      "needs_background": "light"
     },
     "output_type": "display_data"
    }
   ],
   "source": [
    "# Рассчитаем процент ушедших клиентов в разбивке по активности от общего числа:\n",
    "last_activity_churn = data.pivot_table (index = 'last_activity', values = 'churn', aggfunc = ['sum', 'count'])\n",
    "last_activity_churn.columns = last_activity_churn.columns.droplevel(level=1)\n",
    "last_activity_churn ['%'] = last_activity_churn['sum']/last_activity_churn['count']*100\n",
    "\n",
    "# Построим столбчатую диаграмму:\n",
    "last_activity_churn['%'].plot(\n",
    "    kind='bar', title = 'Процент ушедших клиентов в разбивке по активности от общего числа', figsize = (12,8), \n",
    "    color = 'Yellow', ylabel = 'Процент ушедших клиентов', xlabel = 'Активность клиента')\n",
    "plt.axhline(y=churn_mean*100, color='red', linestyle='-');\n",
    "last_activity_churn"
   ]
  },
  {
   "cell_type": "markdown",
   "metadata": {},
   "source": [
    "Активность клиентов влияет на отток, почти на 50%"
   ]
  },
  {
   "cell_type": "markdown",
   "metadata": {},
   "source": [
    "###  Анализ портретов клиентов в разрезе оттока"
   ]
  },
  {
   "cell_type": "markdown",
   "metadata": {},
   "source": [
    "Сравним центральные тенденции характеристик в разрезе отточных и неотточных.\n",
    "\n",
    "- для категориальных и бинарных типов характеристик - среднее.\n",
    "- для непрерывных типов характеристик - медианы."
   ]
  },
  {
   "cell_type": "code",
   "execution_count": 56,
   "metadata": {},
   "outputs": [
    {
     "data": {
      "text/html": [
       "<div>\n",
       "<style scoped>\n",
       "    .dataframe tbody tr th:only-of-type {\n",
       "        vertical-align: middle;\n",
       "    }\n",
       "\n",
       "    .dataframe tbody tr th {\n",
       "        vertical-align: top;\n",
       "    }\n",
       "\n",
       "    .dataframe thead th {\n",
       "        text-align: right;\n",
       "    }\n",
       "</style>\n",
       "<table border=\"1\" class=\"dataframe\">\n",
       "  <thead>\n",
       "    <tr style=\"text-align: right;\">\n",
       "      <th>churn</th>\n",
       "      <th>0</th>\n",
       "      <th>1</th>\n",
       "    </tr>\n",
       "  </thead>\n",
       "  <tbody>\n",
       "    <tr>\n",
       "      <th>age</th>\n",
       "      <td>43.020846</td>\n",
       "      <td>41.429593</td>\n",
       "    </tr>\n",
       "    <tr>\n",
       "      <th>balance</th>\n",
       "      <td>475410.09</td>\n",
       "      <td>783908.9</td>\n",
       "    </tr>\n",
       "    <tr>\n",
       "      <th>city</th>\n",
       "      <td>Ярославль</td>\n",
       "      <td>Ярославль</td>\n",
       "    </tr>\n",
       "    <tr>\n",
       "      <th>credit_card</th>\n",
       "      <td>1</td>\n",
       "      <td>1</td>\n",
       "    </tr>\n",
       "    <tr>\n",
       "      <th>equity</th>\n",
       "      <td>3</td>\n",
       "      <td>4</td>\n",
       "    </tr>\n",
       "    <tr>\n",
       "      <th>est_salary</th>\n",
       "      <td>147674.637881</td>\n",
       "      <td>148357.483157</td>\n",
       "    </tr>\n",
       "    <tr>\n",
       "      <th>gender</th>\n",
       "      <td>0</td>\n",
       "      <td>1</td>\n",
       "    </tr>\n",
       "    <tr>\n",
       "      <th>last_activity</th>\n",
       "      <td>0</td>\n",
       "      <td>1</td>\n",
       "    </tr>\n",
       "    <tr>\n",
       "      <th>products</th>\n",
       "      <td>2</td>\n",
       "      <td>2</td>\n",
       "    </tr>\n",
       "    <tr>\n",
       "      <th>score</th>\n",
       "      <td>845.396199</td>\n",
       "      <td>863.361936</td>\n",
       "    </tr>\n",
       "  </tbody>\n",
       "</table>\n",
       "</div>"
      ],
      "text/plain": [
       "churn                      0              1\n",
       "age                43.020846      41.429593\n",
       "balance            475410.09       783908.9\n",
       "city               Ярославль      Ярославль\n",
       "credit_card                1              1\n",
       "equity                     3              4\n",
       "est_salary     147674.637881  148357.483157\n",
       "gender                     0              1\n",
       "last_activity              0              1\n",
       "products                   2              2\n",
       "score             845.396199     863.361936"
      ]
     },
     "execution_count": 56,
     "metadata": {},
     "output_type": "execute_result"
    }
   ],
   "source": [
    "data_churn = data.pivot_table(index='churn', aggfunc={\n",
    "                         'equity': 'median',\n",
    "                         'products': 'median', \n",
    "                         'credit_card': sta.mode, \n",
    "                         'last_activity': sta.mode,\n",
    "                         'city': sta.mode,\n",
    "                         'gender': sta.mode, \n",
    "                         'score' : 'mean', \n",
    "                         'age': 'mean', \n",
    "                         'balance': 'median', \n",
    "                         'est_salary': 'mean'})\n",
    "data_churn.T"
   ]
  },
  {
   "cell_type": "code",
   "execution_count": 57,
   "metadata": {},
   "outputs": [],
   "source": [
    "# создадим отдельную таблицу для категориальных\n",
    "data_churn_con = data_churn[['credit_card', 'last_activity', 'city','gender', 'equity', 'products']].T\n",
    "# создадим таблицу для количественных и посчитаем относительную разницу\n",
    "data_churn_cont = data_churn[['score','age', 'balance', 'est_salary']].T\n",
    "data_churn_cont['%']=(((data_churn_cont[1] - data_churn_cont[0])/data_churn_cont[0])*100).round(2)"
   ]
  },
  {
   "cell_type": "code",
   "execution_count": 58,
   "metadata": {},
   "outputs": [
    {
     "data": {
      "text/html": [
       "<div>\n",
       "<style scoped>\n",
       "    .dataframe tbody tr th:only-of-type {\n",
       "        vertical-align: middle;\n",
       "    }\n",
       "\n",
       "    .dataframe tbody tr th {\n",
       "        vertical-align: top;\n",
       "    }\n",
       "\n",
       "    .dataframe thead th {\n",
       "        text-align: right;\n",
       "    }\n",
       "</style>\n",
       "<table border=\"1\" class=\"dataframe\">\n",
       "  <thead>\n",
       "    <tr style=\"text-align: right;\">\n",
       "      <th></th>\n",
       "      <th>no_churn</th>\n",
       "      <th>churn</th>\n",
       "      <th>%</th>\n",
       "    </tr>\n",
       "  </thead>\n",
       "  <tbody>\n",
       "    <tr>\n",
       "      <th>balance</th>\n",
       "      <td>475410.09</td>\n",
       "      <td>783908.9</td>\n",
       "      <td>64.89</td>\n",
       "    </tr>\n",
       "    <tr>\n",
       "      <th>score</th>\n",
       "      <td>845.396199</td>\n",
       "      <td>863.361936</td>\n",
       "      <td>2.13</td>\n",
       "    </tr>\n",
       "    <tr>\n",
       "      <th>est_salary</th>\n",
       "      <td>147674.637881</td>\n",
       "      <td>148357.483157</td>\n",
       "      <td>0.46</td>\n",
       "    </tr>\n",
       "    <tr>\n",
       "      <th>age</th>\n",
       "      <td>43.020846</td>\n",
       "      <td>41.429593</td>\n",
       "      <td>-3.7</td>\n",
       "    </tr>\n",
       "    <tr>\n",
       "      <th>credit_card</th>\n",
       "      <td>1</td>\n",
       "      <td>1</td>\n",
       "      <td>-</td>\n",
       "    </tr>\n",
       "    <tr>\n",
       "      <th>last_activity</th>\n",
       "      <td>0</td>\n",
       "      <td>1</td>\n",
       "      <td>-</td>\n",
       "    </tr>\n",
       "    <tr>\n",
       "      <th>city</th>\n",
       "      <td>Ярославль</td>\n",
       "      <td>Ярославль</td>\n",
       "      <td>-</td>\n",
       "    </tr>\n",
       "    <tr>\n",
       "      <th>gender</th>\n",
       "      <td>0</td>\n",
       "      <td>1</td>\n",
       "      <td>-</td>\n",
       "    </tr>\n",
       "    <tr>\n",
       "      <th>equity</th>\n",
       "      <td>3</td>\n",
       "      <td>4</td>\n",
       "      <td>-</td>\n",
       "    </tr>\n",
       "    <tr>\n",
       "      <th>products</th>\n",
       "      <td>2</td>\n",
       "      <td>2</td>\n",
       "      <td>-</td>\n",
       "    </tr>\n",
       "  </tbody>\n",
       "</table>\n",
       "</div>"
      ],
      "text/plain": [
       "                    no_churn          churn      %\n",
       "balance            475410.09       783908.9  64.89\n",
       "score             845.396199     863.361936   2.13\n",
       "est_salary     147674.637881  148357.483157   0.46\n",
       "age                43.020846      41.429593   -3.7\n",
       "credit_card                1              1      -\n",
       "last_activity              0              1      -\n",
       "city               Ярославль      Ярославль      -\n",
       "gender                     0              1      -\n",
       "equity                     3              4      -\n",
       "products                   2              2      -"
      ]
     },
     "execution_count": 58,
     "metadata": {},
     "output_type": "execute_result"
    }
   ],
   "source": [
    "# обьединим две таблицы\n",
    "df_concat = pd.concat([data_churn_con, data_churn_cont])\n",
    "df_concat.columns = ['no_churn', 'churn', '%']\n",
    "df_concat = df_concat.sort_values(by = '%', ascending = False)\n",
    "df_concat['%'] = df_concat['%'].fillna('-')\n",
    "df_concat"
   ]
  },
  {
   "cell_type": "markdown",
   "metadata": {},
   "source": [
    "Получившиеся группы достаточного размера, чтобы можно было воспользоваться стат. методами для их сравнения.\n",
    "\n",
    "- Между средними отточными и неотточными клиентами есть сильная разница по столбцу: balance\n",
    "- Столбцы где разница в отточности маленькая или нету: est_salary и score, age\n",
    "- По категориальным взята мода: credit_card - наличе не вляет, last_activity - активные, city - у оттока и не оттока Ярославль,\tgender - мужины, equity- 4 собственности, products - у оттока и не оттока по 2 продукта\n"
   ]
  },
  {
   "cell_type": "markdown",
   "metadata": {},
   "source": [
    "Портрет клиента\n",
    "\n",
    "Факторы влияющие на отток клиента\n",
    "\n",
    "- баллы кредитного рейтинга score от 800 до 905\n",
    "- баланс balance от 250 000 до 900 000\n",
    "- оценочный доход клиента est_salary от 100 000 до 200 000\n",
    "- возраст age от 25 до 35 или от 50 до 60\n",
    "- баллов собственности equity начиная от 3 и выше\n",
    "- продуктов products от 2 и выше\n",
    "- пол gender мужчина\n",
    "- кредитной карты credit_card отсутсвие карты у клиента\n",
    "- активен last_activity больше активынх "
   ]
  },
  {
   "cell_type": "markdown",
   "metadata": {},
   "source": [
    "### Корреляционный анализ;"
   ]
  },
  {
   "cell_type": "code",
   "execution_count": 59,
   "metadata": {},
   "outputs": [
    {
     "data": {
      "text/html": [
       "<div>\n",
       "<style scoped>\n",
       "    .dataframe tbody tr th:only-of-type {\n",
       "        vertical-align: middle;\n",
       "    }\n",
       "\n",
       "    .dataframe tbody tr th {\n",
       "        vertical-align: top;\n",
       "    }\n",
       "\n",
       "    .dataframe thead th {\n",
       "        text-align: right;\n",
       "    }\n",
       "</style>\n",
       "<table border=\"1\" class=\"dataframe\">\n",
       "  <thead>\n",
       "    <tr style=\"text-align: right;\">\n",
       "      <th></th>\n",
       "      <th>count</th>\n",
       "      <th>mean</th>\n",
       "      <th>std</th>\n",
       "      <th>min</th>\n",
       "      <th>25%</th>\n",
       "      <th>50%</th>\n",
       "      <th>75%</th>\n",
       "      <th>max</th>\n",
       "    </tr>\n",
       "  </thead>\n",
       "  <tbody>\n",
       "    <tr>\n",
       "      <th>user_id</th>\n",
       "      <td>9973.0</td>\n",
       "      <td>171757.616966</td>\n",
       "      <td>3.369637e+04</td>\n",
       "      <td>94561.0</td>\n",
       "      <td>142757.000</td>\n",
       "      <td>172651.00</td>\n",
       "      <td>201164.000</td>\n",
       "      <td>2.291450e+05</td>\n",
       "    </tr>\n",
       "    <tr>\n",
       "      <th>score</th>\n",
       "      <td>9973.0</td>\n",
       "      <td>848.671212</td>\n",
       "      <td>6.539315e+01</td>\n",
       "      <td>642.0</td>\n",
       "      <td>802.000</td>\n",
       "      <td>853.00</td>\n",
       "      <td>900.000</td>\n",
       "      <td>1.000000e+03</td>\n",
       "    </tr>\n",
       "    <tr>\n",
       "      <th>gender</th>\n",
       "      <td>9973.0</td>\n",
       "      <td>0.500451</td>\n",
       "      <td>5.000249e-01</td>\n",
       "      <td>0.0</td>\n",
       "      <td>0.000</td>\n",
       "      <td>1.00</td>\n",
       "      <td>1.000</td>\n",
       "      <td>1.000000e+00</td>\n",
       "    </tr>\n",
       "    <tr>\n",
       "      <th>age</th>\n",
       "      <td>9973.0</td>\n",
       "      <td>42.730773</td>\n",
       "      <td>1.217517e+01</td>\n",
       "      <td>18.0</td>\n",
       "      <td>33.000</td>\n",
       "      <td>40.00</td>\n",
       "      <td>51.000</td>\n",
       "      <td>8.600000e+01</td>\n",
       "    </tr>\n",
       "    <tr>\n",
       "      <th>equity</th>\n",
       "      <td>9973.0</td>\n",
       "      <td>2.630803</td>\n",
       "      <td>1.980060e+00</td>\n",
       "      <td>0.0</td>\n",
       "      <td>0.000</td>\n",
       "      <td>3.00</td>\n",
       "      <td>4.000</td>\n",
       "      <td>9.000000e+00</td>\n",
       "    </tr>\n",
       "    <tr>\n",
       "      <th>balance</th>\n",
       "      <td>7695.0</td>\n",
       "      <td>827245.587515</td>\n",
       "      <td>1.980327e+06</td>\n",
       "      <td>0.0</td>\n",
       "      <td>295698.715</td>\n",
       "      <td>524295.33</td>\n",
       "      <td>980051.215</td>\n",
       "      <td>1.191136e+08</td>\n",
       "    </tr>\n",
       "    <tr>\n",
       "      <th>products</th>\n",
       "      <td>9973.0</td>\n",
       "      <td>1.871653</td>\n",
       "      <td>7.925468e-01</td>\n",
       "      <td>1.0</td>\n",
       "      <td>1.000</td>\n",
       "      <td>2.00</td>\n",
       "      <td>2.000</td>\n",
       "      <td>5.000000e+00</td>\n",
       "    </tr>\n",
       "    <tr>\n",
       "      <th>credit_card</th>\n",
       "      <td>9973.0</td>\n",
       "      <td>0.680237</td>\n",
       "      <td>4.664082e-01</td>\n",
       "      <td>0.0</td>\n",
       "      <td>0.000</td>\n",
       "      <td>1.00</td>\n",
       "      <td>1.000</td>\n",
       "      <td>1.000000e+00</td>\n",
       "    </tr>\n",
       "    <tr>\n",
       "      <th>last_activity</th>\n",
       "      <td>9973.0</td>\n",
       "      <td>0.522912</td>\n",
       "      <td>4.994998e-01</td>\n",
       "      <td>0.0</td>\n",
       "      <td>0.000</td>\n",
       "      <td>1.00</td>\n",
       "      <td>1.000</td>\n",
       "      <td>1.000000e+00</td>\n",
       "    </tr>\n",
       "    <tr>\n",
       "      <th>est_salary</th>\n",
       "      <td>9973.0</td>\n",
       "      <td>147799.115241</td>\n",
       "      <td>1.392871e+05</td>\n",
       "      <td>2546.3</td>\n",
       "      <td>75252.020</td>\n",
       "      <td>119643.06</td>\n",
       "      <td>174499.960</td>\n",
       "      <td>1.395064e+06</td>\n",
       "    </tr>\n",
       "    <tr>\n",
       "      <th>churn</th>\n",
       "      <td>9973.0</td>\n",
       "      <td>0.182292</td>\n",
       "      <td>3.861045e-01</td>\n",
       "      <td>0.0</td>\n",
       "      <td>0.000</td>\n",
       "      <td>0.00</td>\n",
       "      <td>0.000</td>\n",
       "      <td>1.000000e+00</td>\n",
       "    </tr>\n",
       "    <tr>\n",
       "      <th>balance_nan</th>\n",
       "      <td>9973.0</td>\n",
       "      <td>0.228417</td>\n",
       "      <td>4.198335e-01</td>\n",
       "      <td>0.0</td>\n",
       "      <td>0.000</td>\n",
       "      <td>0.00</td>\n",
       "      <td>0.000</td>\n",
       "      <td>1.000000e+00</td>\n",
       "    </tr>\n",
       "    <tr>\n",
       "      <th>rostov</th>\n",
       "      <td>9973.0</td>\n",
       "      <td>0.141983</td>\n",
       "      <td>3.490506e-01</td>\n",
       "      <td>0.0</td>\n",
       "      <td>0.000</td>\n",
       "      <td>0.00</td>\n",
       "      <td>0.000</td>\n",
       "      <td>1.000000e+00</td>\n",
       "    </tr>\n",
       "    <tr>\n",
       "      <th>rybinsk</th>\n",
       "      <td>9973.0</td>\n",
       "      <td>0.268926</td>\n",
       "      <td>4.434237e-01</td>\n",
       "      <td>0.0</td>\n",
       "      <td>0.000</td>\n",
       "      <td>0.00</td>\n",
       "      <td>1.000</td>\n",
       "      <td>1.000000e+00</td>\n",
       "    </tr>\n",
       "    <tr>\n",
       "      <th>yaroslavl</th>\n",
       "      <td>9973.0</td>\n",
       "      <td>0.589091</td>\n",
       "      <td>4.920235e-01</td>\n",
       "      <td>0.0</td>\n",
       "      <td>0.000</td>\n",
       "      <td>1.00</td>\n",
       "      <td>1.000</td>\n",
       "      <td>1.000000e+00</td>\n",
       "    </tr>\n",
       "  </tbody>\n",
       "</table>\n",
       "</div>"
      ],
      "text/plain": [
       "                count           mean           std      min         25%  \\\n",
       "user_id        9973.0  171757.616966  3.369637e+04  94561.0  142757.000   \n",
       "score          9973.0     848.671212  6.539315e+01    642.0     802.000   \n",
       "gender         9973.0       0.500451  5.000249e-01      0.0       0.000   \n",
       "age            9973.0      42.730773  1.217517e+01     18.0      33.000   \n",
       "equity         9973.0       2.630803  1.980060e+00      0.0       0.000   \n",
       "balance        7695.0  827245.587515  1.980327e+06      0.0  295698.715   \n",
       "products       9973.0       1.871653  7.925468e-01      1.0       1.000   \n",
       "credit_card    9973.0       0.680237  4.664082e-01      0.0       0.000   \n",
       "last_activity  9973.0       0.522912  4.994998e-01      0.0       0.000   \n",
       "est_salary     9973.0  147799.115241  1.392871e+05   2546.3   75252.020   \n",
       "churn          9973.0       0.182292  3.861045e-01      0.0       0.000   \n",
       "balance_nan    9973.0       0.228417  4.198335e-01      0.0       0.000   \n",
       "rostov         9973.0       0.141983  3.490506e-01      0.0       0.000   \n",
       "rybinsk        9973.0       0.268926  4.434237e-01      0.0       0.000   \n",
       "yaroslavl      9973.0       0.589091  4.920235e-01      0.0       0.000   \n",
       "\n",
       "                     50%         75%           max  \n",
       "user_id        172651.00  201164.000  2.291450e+05  \n",
       "score             853.00     900.000  1.000000e+03  \n",
       "gender              1.00       1.000  1.000000e+00  \n",
       "age                40.00      51.000  8.600000e+01  \n",
       "equity              3.00       4.000  9.000000e+00  \n",
       "balance        524295.33  980051.215  1.191136e+08  \n",
       "products            2.00       2.000  5.000000e+00  \n",
       "credit_card         1.00       1.000  1.000000e+00  \n",
       "last_activity       1.00       1.000  1.000000e+00  \n",
       "est_salary     119643.06  174499.960  1.395064e+06  \n",
       "churn               0.00       0.000  1.000000e+00  \n",
       "balance_nan         0.00       0.000  1.000000e+00  \n",
       "rostov              0.00       0.000  1.000000e+00  \n",
       "rybinsk             0.00       1.000  1.000000e+00  \n",
       "yaroslavl           1.00       1.000  1.000000e+00  "
      ]
     },
     "execution_count": 59,
     "metadata": {},
     "output_type": "execute_result"
    }
   ],
   "source": [
    "data.describe().T"
   ]
  },
  {
   "cell_type": "markdown",
   "metadata": {},
   "source": [
    "- В данной выборке у нас все клиенты уникальные и их 9973 человек (их стало меньше в следствии что мы удалили, клиента который не пользовался ни одним продуктом банка и неизвестные с возрастом)\n",
    "- Средний балл кредитного скоринга равен 848 (score). Это отличный балл, он позволяет оформить займ со стандартными условиями, хотя.\n",
    "- Половина клиентов у нас из Ярославля, остальные - из Рыбинска и Ростова.\n",
    "- Почти одинаковое распределение по полу, хотя мужчин немного больше - их 52% от всей выборки.\n",
    "- Клиентам от 18 до 86 лет, при этом средний возраст - 42 лет (age).\n",
    "- Среднее количество объектов в собственности у клиентов - 2-3. \n",
    "- Средняя сумма на счете равна 827 794 рублей. Есть клиенты у которых на балансе более 1 000 000.\n",
    "- В среднем клиенты пользуются - 1-2 продуктами (products).\n",
    "- В среднем клиенты имеют кредитную карту - 68% (credit_сard).\n",
    "- 52% клиентов активны, то есть пользовались нашими продуктами в последнее время (last_activity).\n",
    "- Заработная плата в среднем 140 000 рублей. Это довольно неплохо, учитывая, что наш банк расположен не в самых крупных по населению городах. \n",
    "- Доля оттока 18%. Значит в нашей выборке 18% клиентов ушли."
   ]
  },
  {
   "cell_type": "code",
   "execution_count": 60,
   "metadata": {},
   "outputs": [
    {
     "data": {
      "image/png": "[encoded data removed]",
      "text/plain": [
       "<Figure size 1080x1080 with 2 Axes>"
      ]
     },
     "metadata": {
      "needs_background": "light"
     },
     "output_type": "display_data"
    }
   ],
   "source": [
    "correlation = data[['churn',\n",
    "                  'age',\n",
    "                  'gender',\n",
    "                  'credit_card',\n",
    "                  'last_activity',\n",
    "                  'equity',\n",
    "                  'products',\n",
    "                  'balance_nan',\n",
    "                  'balance',\n",
    "                  'est_salary',\n",
    "                  'score',\n",
    "                  'rostov',\n",
    "                  'rybinsk',\n",
    "                  'yaroslavl'  \n",
    "                 ]].corr()\n",
    "plt.figure(figsize=(15,15))\n",
    "sns.heatmap(correlation, annot=True, vmin=-1, vmax=1, center= 0, cmap= 'coolwarm', fmt=\".1f\", linewidths=1)\n",
    "plt.suptitle('Корреляция между разными характеристиками')\n",
    "plt.show()"
   ]
  },
  {
   "cell_type": "markdown",
   "metadata": {},
   "source": [
    "По таблице видно, что наибольшая корреляция с показателем оттока клиентов у таких параметров как:\n",
    "\n",
    "- оценка объектов собственности клиента (столбец equity),\n",
    "- скоринговый рейтинг клиента (столбец score),\n",
    "- количество продуктов, которыми пользуется клиент (столбец products),\n",
    "- наличие кредитной карты (столбец credit_card),\n",
    "- активность пользователя (столбец last_activity),\n",
    "- пол пользователя (столбец gender),\n",
    "- возраст пользвателя (столбец age)\n",
    "\n",
    "По шкале Чеддока взяли по 10%, корреляцию оттока с характеристиками можно оценить как:\n",
    "- нету: age(-0.1), credit_card(-0.1), est_salary(0),\n",
    "- слабая: gender(0.1), balance_na, balance(0.1), score(0.1). \n",
    "- умеренная: last_activity(0.2), equity(0.3), products(0.3).\n",
    "\n",
    "Следовательно, у нас нет какого-то очевидного признака, по которому мы могли бы явно выявить склонность клиентов к оттоку. При этом сильно коррелирующих признаков между собой нет. "
   ]
  },
  {
   "cell_type": "markdown",
   "metadata": {},
   "source": [
    "Выводы по иследованию EDA:\n",
    "\n",
    "Посмотрели что в выборке у нас 18% оттока. Изучили графики распределения выделили среднее значения для каждой выборки, составили протрет клиентов склонных к оттоку. и выявили факторы которые на это влияют.\n",
    "\n",
    "- баллы кредитного рейтинга score от 800 до 905\n",
    "- баланс balance от 250 000 до 900 000\n",
    "- оценочный доход клиента est_salary от 100 000 до 200 000\n",
    "- возраст age от 25 до 35 или от 50 до 60\n",
    "- баллов собственности equity начиная от 3 и выше\n",
    "- продуктов products от 3 и выше\n",
    "- пол gender мужчина\n",
    "- кредитной карты credit_card отсутсвие карты у клиегта\n",
    "- активен last_activity больше активынх "
   ]
  },
  {
   "cell_type": "markdown",
   "metadata": {},
   "source": [
    "## Шаг. Проверка статистических гипотез"
   ]
  },
  {
   "cell_type": "markdown",
   "metadata": {},
   "source": [
    "- Проверим гипотезу о различии дохода между клиентами, которые ушли и которые остались\n",
    "- Проверим гипотезу o различия score между теми клиентами, которые ушли и теми, которые остались\n",
    "\n",
    "Критерий t Стьюдента направлен на оценку различий величин средних Х¯¯¯ и У¯¯¯ двух выборок X и Y, которые распределены по нормальному закону.\n",
    "\n",
    "Чтобы понять, можно ли применять t-тест, нужно проверить три условия:\n",
    "\n",
    "1. Генеральные совокупности не зависят друг от друга.\n",
    "2. Выборочные средние нормально распределены.\n",
    "3. Дисперсии рассматриваемых генеральных совокупностей равны.\n"
   ]
  },
  {
   "cell_type": "markdown",
   "metadata": {},
   "source": [
    "Проверим данные на нормальность"
   ]
  },
  {
   "cell_type": "markdown",
   "metadata": {},
   "source": [
    "Гипотеза №1: о различии дохода между клиентами, которые ушли и которые остались\n",
    "\n",
    "H_0: доходы оставшихся и отточных клиентов равны;\n",
    "\n",
    "H_1: доходы оставшихся и отточных клиентов не равны.\n",
    "\n",
    "Рассчитаем средние значения и дисперсии для каждой группы:"
   ]
  },
  {
   "cell_type": "code",
   "execution_count": 61,
   "metadata": {},
   "outputs": [
    {
     "name": "stdout",
     "output_type": "stream",
     "text": [
      "Дисперсия доходов ушедших клиентов: 15112272166.9\n",
      "Дисперсия доходов оставшихся клиентов: 20358839437.9\n"
     ]
    }
   ],
   "source": [
    "print('Дисперсия доходов ушедших клиентов: {:.1f}'.format(data.query('churn == 1')['est_salary'].var()))\n",
    "print('Дисперсия доходов оставшихся клиентов: {:.1f}'.format(data.query('churn == 0')['est_salary'].var()))"
   ]
  },
  {
   "cell_type": "code",
   "execution_count": 62,
   "metadata": {},
   "outputs": [],
   "source": [
    "a = data[data['churn'] == 1]['est_salary']\n",
    "b = data[data['churn'] == 0]['est_salary']"
   ]
  },
  {
   "cell_type": "code",
   "execution_count": 63,
   "metadata": {},
   "outputs": [
    {
     "name": "stdout",
     "output_type": "stream",
     "text": [
      "p-значение:  0.0\n",
      "Распределение не нормально\n"
     ]
    }
   ],
   "source": [
    "# проведём тест на соотвествие данных о доходах отточных клиентов нормальному распределеню\n",
    "\n",
    "alpha = 0.05  # критический уровень статистической значимости\n",
    "\n",
    "shapiro_test_stat, p_value = st.shapiro(a)\n",
    "\n",
    "print('p-значение: ', p_value)\n",
    "if p_value < alpha:\n",
    "    print('Распределение не нормально')\n",
    "else:\n",
    "    print('Нормальное распределение')  \n"
   ]
  },
  {
   "cell_type": "code",
   "execution_count": 64,
   "metadata": {},
   "outputs": [
    {
     "name": "stdout",
     "output_type": "stream",
     "text": [
      "p-значение:  0.0\n",
      "Распределение не нормально\n"
     ]
    }
   ],
   "source": [
    "# проведём тест на соотвествие данных о доходах неотточных клиентов нормальному распределеню\n",
    "\n",
    "alpha = 0.05  # критический уровень статистической значимости\n",
    "\n",
    "shapiro_test_stat, p_value = st.shapiro(b)\n",
    "\n",
    "print('p-значение: ', p_value)\n",
    "if p_value < alpha:\n",
    "    print('Распределение не нормально')\n",
    "else:\n",
    "    print('Нормальное распределение') "
   ]
  },
  {
   "cell_type": "code",
   "execution_count": 65,
   "metadata": {},
   "outputs": [
    {
     "data": {
      "image/png": "[encoded data removed]",
      "text/plain": [
       "<Figure size 432x288 with 1 Axes>"
      ]
     },
     "metadata": {
      "needs_background": "light"
     },
     "output_type": "display_data"
    }
   ],
   "source": [
    "sns.histplot(data[data['churn'] == 0]['est_salary'])\n",
    "sns.histplot(data[data['churn'] == 1]['est_salary'])\n",
    "plt.title('Распределение уровня дохода клиентов')\n",
    "plt.show()"
   ]
  },
  {
   "cell_type": "markdown",
   "metadata": {},
   "source": [
    "Вывод:\n",
    "\n",
    "1. Дисперсии не равны.\n",
    "2. Распределение значений не является нормальным;\n",
    "3. Генеральные совокупности не зависят друг от друга;\n",
    "\n",
    "При отсутствии нормального распределения сравниваемых выборок вместо t-критерия Стьюдента используются аналогичные методы непараметрической статистики, среди которых наиболее известными является U-критерий Манна — Уитни."
   ]
  },
  {
   "cell_type": "code",
   "execution_count": 66,
   "metadata": {},
   "outputs": [
    {
     "name": "stdout",
     "output_type": "stream",
     "text": [
      "p-значение:  0.00016830729188229058\n",
      "Отвергаем нулевую гипотезу\n"
     ]
    }
   ],
   "source": [
    "# проведем u-test\n",
    "\n",
    "alpha = 0.05  \n",
    "\n",
    "results = st.mannwhitneyu(a, b)\n",
    "\n",
    "print('p-значение: ', results.pvalue)\n",
    "\n",
    "if results.pvalue < alpha:\n",
    "    print('Отвергаем нулевую гипотезу')\n",
    "else:\n",
    "    print(\n",
    "        'Не получилось отвергнуть нулевую гипотезу'\n",
    "    ) "
   ]
  },
  {
   "cell_type": "markdown",
   "metadata": {},
   "source": [
    "Вывод:\n",
    "\n",
    "В данном случае, распределение не является нормальным, поэтому был выбран непараметрический тест U-критерий Манна — Уитни.\n",
    "\n",
    "Таким образом, отвергаем нулевую гипотезу, доходы оставшихся и отточных клиентов не равны"
   ]
  },
  {
   "cell_type": "markdown",
   "metadata": {},
   "source": [
    "Гипотеза №2: о различия score между теми клиентами, которые ушли и теми, которые остались.\n",
    "\n",
    "H_0: кредитный рейтинг между оставшимися и ушедними пользователями равен;\n",
    "\n",
    "H_1: кредитный рейтинг между оставшимися и ушедними пользователями отличается.\n",
    "\n",
    "Так же проверим на нормальность"
   ]
  },
  {
   "cell_type": "code",
   "execution_count": 67,
   "metadata": {},
   "outputs": [],
   "source": [
    "c = data[data['churn'] == 1]['score']\n",
    "d = data[data['churn'] == 0]['score']"
   ]
  },
  {
   "cell_type": "code",
   "execution_count": 68,
   "metadata": {},
   "outputs": [
    {
     "name": "stdout",
     "output_type": "stream",
     "text": [
      "4623.062654176869\n",
      "2458.2453747851396\n"
     ]
    }
   ],
   "source": [
    "# оценим дисперсии\n",
    "print(data[data['churn'] == 0]['score'].var())\n",
    "print(data[data['churn'] == 1]['score'].var())"
   ]
  },
  {
   "cell_type": "code",
   "execution_count": 69,
   "metadata": {},
   "outputs": [
    {
     "name": "stdout",
     "output_type": "stream",
     "text": [
      "p-значение:  9.341003897134215e-05\n",
      "Распределение не нормально\n"
     ]
    }
   ],
   "source": [
    "# проведём тест на соотвествие данных о доходах отточных клиентов нормальному распределеню\n",
    "\n",
    "alpha = 0.05  # критический уровень статистической значимости\n",
    "\n",
    "shapiro_test_stat, p_value = st.shapiro(c)\n",
    "\n",
    "print('p-значение: ', p_value)\n",
    "if p_value < alpha:\n",
    "    print('Распределение не нормально')\n",
    "else:\n",
    "    print('Нормальное распределение')  "
   ]
  },
  {
   "cell_type": "code",
   "execution_count": 70,
   "metadata": {},
   "outputs": [
    {
     "name": "stdout",
     "output_type": "stream",
     "text": [
      "p-значение:  9.341003897134215e-05\n",
      "Распределение не нормально\n"
     ]
    }
   ],
   "source": [
    "# проведём тест на соотвествие данных о доходах отточных клиентов нормальному распределеню\n",
    "\n",
    "alpha = 0.05  # критический уровень статистической значимости\n",
    "\n",
    "shapiro_test_stat, p_value = st.shapiro(c)\n",
    "\n",
    "print('p-значение: ', p_value)\n",
    "if p_value < alpha:\n",
    "    print('Распределение не нормально')\n",
    "else:\n",
    "    print('Нормальное распределение')  "
   ]
  },
  {
   "cell_type": "code",
   "execution_count": 71,
   "metadata": {},
   "outputs": [
    {
     "data": {
      "image/png": "[encoded data removed]",
      "text/plain": [
       "<Figure size 432x288 with 1 Axes>"
      ]
     },
     "metadata": {
      "needs_background": "light"
     },
     "output_type": "display_data"
    }
   ],
   "source": [
    "sns.histplot(data[data['churn'] == 0]['score'])\n",
    "sns.histplot(data[data['churn'] == 1]['score'])\n",
    "plt.title('Распределение кредитного рейтинга у клиентов')\n",
    "plt.show();"
   ]
  },
  {
   "cell_type": "markdown",
   "metadata": {},
   "source": [
    "Вывод:\n",
    "\n",
    "1. Дисперсии не равны.\n",
    "2. Распределение значений не является нормальным;\n",
    "3. Генеральные совокупности не зависят друг от друга;\n",
    "\n",
    "При отсутствии нормального распределения сравниваемых выборок вместо t-критерия Стьюдента используются аналогичные методы непараметрической статистики, среди которых наиболее известными является U-критерий Манна — Уитни."
   ]
  },
  {
   "cell_type": "code",
   "execution_count": 72,
   "metadata": {},
   "outputs": [
    {
     "name": "stdout",
     "output_type": "stream",
     "text": [
      "p-значение:  4.508763537702903e-22\n",
      "Отвергаем нулевую гипотезу\n"
     ]
    }
   ],
   "source": [
    "# проведем u-test\n",
    "\n",
    "alpha = 0.05  \n",
    "\n",
    "results = st.mannwhitneyu(c, d)\n",
    "\n",
    "print('p-значение: ', results.pvalue)\n",
    "\n",
    "if results.pvalue < alpha:\n",
    "    print('Отвергаем нулевую гипотезу')\n",
    "else:\n",
    "    print(\n",
    "        'Не получилось отвергнуть нулевую гипотезу'\n",
    "    ) "
   ]
  },
  {
   "cell_type": "markdown",
   "metadata": {},
   "source": [
    "Вывод:\n",
    "\n",
    "В данном случае, распределение не является нормальным, поэтому был выбран непараметрический тест U-критерий Манна — Уитни.\n",
    "\n",
    "Таким образом, отвергаем нулевую гипотезу о равестве score ушедших и оставшихся. Получается, уходящие пользователи становятся менее заинтересованными и их активнсть немного падает"
   ]
  },
  {
   "cell_type": "markdown",
   "metadata": {},
   "source": [
    "Вывод по гипотезам:\n",
    "\n",
    "1. Доходы отточных и неотточных клиентов не равны;\n",
    "2. Кредитный рейтинг отточных и неотточных клиентов отличается."
   ]
  },
  {
   "cell_type": "markdown",
   "metadata": {},
   "source": [
    "\n",
    "## Шаг. Подведение промежуточных итогов - выводы по результатам EDA, корреляционного анализа и гипотез."
   ]
  },
  {
   "cell_type": "markdown",
   "metadata": {},
   "source": [
    "Признаки которые получились на основе анализа графиков:\n",
    "\n",
    "- баллы кредитного рейтинга score от 800 до 905\n",
    "- баланс balance от 250 000 до 900 000\n",
    "- оценочный доход клиента est_salary от 100 000 до 200 000\n",
    "- возраст age от 25 до 35 или от 50 до 60\n",
    "- баллов собственности equity начиная от 3 и выше\n",
    "- продуктов products от 3 и выше\n",
    "- пол gender мужчина\n",
    "- кредитной карты credit_card отсутсвие карты у клиегта\n",
    "- активен last_activity больше активынх \n",
    "\n",
    "В ходе проверки гипотез был отброшен признак кредитного рейтинга.\n",
    "\n",
    "Был подтверждён признак зависимости оттока от дохода.\n",
    "\n",
    "\n",
    "По графику распределению оттока по возрасту, можно заметить две группы отточных клиентов:\n",
    "1. 25-35 лет\n",
    "2. 50-60 лет\n",
    "очень удобно будет разбить по этому признаку выделить 2 сегмента,а третим сделать сегмент не зависящий от возраста."
   ]
  },
  {
   "cell_type": "markdown",
   "metadata": {},
   "source": [
    "## Шаг. Сегментация пользователей по потреблению."
   ]
  },
  {
   "cell_type": "markdown",
   "metadata": {},
   "source": [
    "Построим карту корреляции чтобы проанализировать зависимости между категориями и возможно или совсем отбросить излишние характеристики при сильной корреляци, или учесть что ин стоит разнести по разным сегментам в случает наличия умеренной корреляции"
   ]
  },
  {
   "cell_type": "code",
   "execution_count": 73,
   "metadata": {},
   "outputs": [
    {
     "data": {
      "image/png": "[encoded data removed]",
      "text/plain": [
       "<Figure size 1080x1080 with 2 Axes>"
      ]
     },
     "metadata": {
      "needs_background": "light"
     },
     "output_type": "display_data"
    }
   ],
   "source": [
    "cor = data[['churn',\n",
    "            'age',\n",
    "            'gender',\n",
    "            'credit_card',\n",
    "            'last_activity',\n",
    "            'equity',\n",
    "            'products',\n",
    "            'balance_nan',\n",
    "            'balance',\n",
    "            'est_salary',\n",
    "            'score'\n",
    "           ]].corr()\n",
    "plt.figure(figsize=(15,15))\n",
    "sns.heatmap(cor, center=0, annot=True, fmt=\".1f\", cmap='coolwarm')\n",
    "plt.title('Корреляция между разными характеристиками')\n",
    "plt.show()"
   ]
  },
  {
   "cell_type": "markdown",
   "metadata": {},
   "source": [
    "Корреляция оттока с характеристиками можно оценить как:\n",
    "слабая - age, credit_card, last_activity, balance_nan, balance, est_salary, score. умеренная - gender, equity, products.\n",
    "\n",
    "Можно заметить умеренную корреляцию между balance, est_salary и score. Поэтому лучше стараться выносить эти признаки в разные сегменты, чтобы максимизировать покрытие."
   ]
  },
  {
   "cell_type": "markdown",
   "metadata": {},
   "source": [
    "Сегмент №1\n",
    "\n",
    "- Пол: мужской\n",
    "- Возраст: 25 - 35\n",
    "- Скоринговый рейтинг: от 800 до 905"
   ]
  },
  {
   "cell_type": "code",
   "execution_count": 74,
   "metadata": {},
   "outputs": [
    {
     "data": {
      "text/html": [
       "<div>\n",
       "<style scoped>\n",
       "    .dataframe tbody tr th:only-of-type {\n",
       "        vertical-align: middle;\n",
       "    }\n",
       "\n",
       "    .dataframe tbody tr th {\n",
       "        vertical-align: top;\n",
       "    }\n",
       "\n",
       "    .dataframe thead th {\n",
       "        text-align: right;\n",
       "    }\n",
       "</style>\n",
       "<table border=\"1\" class=\"dataframe\">\n",
       "  <thead>\n",
       "    <tr style=\"text-align: right;\">\n",
       "      <th></th>\n",
       "      <th>churn</th>\n",
       "    </tr>\n",
       "  </thead>\n",
       "  <tbody>\n",
       "    <tr>\n",
       "      <th>mean</th>\n",
       "      <td>0.31069</td>\n",
       "    </tr>\n",
       "    <tr>\n",
       "      <th>count</th>\n",
       "      <td>898.00000</td>\n",
       "    </tr>\n",
       "  </tbody>\n",
       "</table>\n",
       "</div>"
      ],
      "text/plain": [
       "           churn\n",
       "mean     0.31069\n",
       "count  898.00000"
      ]
     },
     "metadata": {},
     "output_type": "display_data"
    }
   ],
   "source": [
    "display(data.query('gender==1 and 25 < age <= 35 and 800 <= score <= 905').agg({'churn':['mean','count']}))"
   ]
  },
  {
   "cell_type": "markdown",
   "metadata": {},
   "source": [
    "- Количество клиентов: 898\n",
    "- Уровень отточности: 31%\n",
    "\n",
    "\n",
    "\n",
    "Сегмент №2\n",
    "\n",
    "- Пользовательская активность: да\n",
    "- Возраст: 25-35\n",
    "- баланс: от 250 000 до 900 000"
   ]
  },
  {
   "cell_type": "code",
   "execution_count": 75,
   "metadata": {},
   "outputs": [
    {
     "data": {
      "text/html": [
       "<div>\n",
       "<style scoped>\n",
       "    .dataframe tbody tr th:only-of-type {\n",
       "        vertical-align: middle;\n",
       "    }\n",
       "\n",
       "    .dataframe tbody tr th {\n",
       "        vertical-align: top;\n",
       "    }\n",
       "\n",
       "    .dataframe thead th {\n",
       "        text-align: right;\n",
       "    }\n",
       "</style>\n",
       "<table border=\"1\" class=\"dataframe\">\n",
       "  <thead>\n",
       "    <tr style=\"text-align: right;\">\n",
       "      <th></th>\n",
       "      <th>churn</th>\n",
       "    </tr>\n",
       "  </thead>\n",
       "  <tbody>\n",
       "    <tr>\n",
       "      <th>mean</th>\n",
       "      <td>0.396707</td>\n",
       "    </tr>\n",
       "    <tr>\n",
       "      <th>count</th>\n",
       "      <td>668.000000</td>\n",
       "    </tr>\n",
       "  </tbody>\n",
       "</table>\n",
       "</div>"
      ],
      "text/plain": [
       "            churn\n",
       "mean     0.396707\n",
       "count  668.000000"
      ]
     },
     "metadata": {},
     "output_type": "display_data"
    }
   ],
   "source": [
    "display(data.query('last_activity == 1 and 25 <= age <= 35 and 250000 <= balance <= 900000').agg({'churn':['mean','count']}))"
   ]
  },
  {
   "cell_type": "markdown",
   "metadata": {},
   "source": [
    "- Количество клиентов: 668\n",
    "- Уровень отточности: 39%\n",
    "\n",
    "\n",
    "Сегмент №3 \n",
    "- Оценка объектов собственности: 3 и выше\n",
    "- Оценночный доход: от 100 000 до 200 000\n",
    "- Наличие кредитной карты: нет"
   ]
  },
  {
   "cell_type": "code",
   "execution_count": 76,
   "metadata": {},
   "outputs": [
    {
     "data": {
      "text/html": [
       "<div>\n",
       "<style scoped>\n",
       "    .dataframe tbody tr th:only-of-type {\n",
       "        vertical-align: middle;\n",
       "    }\n",
       "\n",
       "    .dataframe tbody tr th {\n",
       "        vertical-align: top;\n",
       "    }\n",
       "\n",
       "    .dataframe thead th {\n",
       "        text-align: right;\n",
       "    }\n",
       "</style>\n",
       "<table border=\"1\" class=\"dataframe\">\n",
       "  <thead>\n",
       "    <tr style=\"text-align: right;\">\n",
       "      <th></th>\n",
       "      <th>churn</th>\n",
       "    </tr>\n",
       "  </thead>\n",
       "  <tbody>\n",
       "    <tr>\n",
       "      <th>mean</th>\n",
       "      <td>0.374589</td>\n",
       "    </tr>\n",
       "    <tr>\n",
       "      <th>count</th>\n",
       "      <td>913.000000</td>\n",
       "    </tr>\n",
       "  </tbody>\n",
       "</table>\n",
       "</div>"
      ],
      "text/plain": [
       "            churn\n",
       "mean     0.374589\n",
       "count  913.000000"
      ]
     },
     "metadata": {},
     "output_type": "display_data"
    }
   ],
   "source": [
    "display(data.query('equity >= 3 and 100000 <= est_salary <= 200000 and credit_card == 0').agg({'churn':['mean','count']}))"
   ]
  },
  {
   "cell_type": "markdown",
   "metadata": {},
   "source": [
    "- Количество клиентов: 913\n",
    "- Уровень отточности: 37%"
   ]
  },
  {
   "cell_type": "markdown",
   "metadata": {},
   "source": [
    "Мы выделили три основных сегмента по оттоку клиентов"
   ]
  },
  {
   "cell_type": "markdown",
   "metadata": {},
   "source": [
    "## Шаг. Приоритизация сегментов"
   ]
  },
  {
   "cell_type": "markdown",
   "metadata": {},
   "source": [
    "Расположим сегменты в порядке убывания доли отточных клиентов: где процент оттока выше среднего по банку (он состовлял 18%)\n",
    "\n",
    "1. Наиболее высокая доля отточных клиентов в сегменте №2 - почти 40% отточных клиентов\n",
    "- Пользовательская активность: да\n",
    "- Возраст: 25-35\n",
    "- баланс: от 250 000 до 900 000\n",
    "\n",
    "2. За ним следует сегмент №3 - более 37% ушедших клиентов\n",
    "- Оценка объектов собственности: 3 и выше\n",
    "- Оценночный доход: от 100 000 до 200 000\n",
    "- Наличие кредитной карты: нет\n",
    "\n",
    "3. На последней строке находится сегмент №1 - более 31% отточных клиентов\n",
    "- Пол: мужской\n",
    "- Возраст: 25 - 35\n",
    "- Скоринговый рейтинг: от 800 до 905"
   ]
  },
  {
   "cell_type": "markdown",
   "metadata": {},
   "source": [
    "## Шаг.  Выводы и формирование рекомендаций"
   ]
  },
  {
   "cell_type": "markdown",
   "metadata": {},
   "source": [
    "Итоговые выводы\n",
    "1. Проведена предобработка данных:\n",
    "\n",
    "- переименованы столбцы USERID и EST_SALARY;\n",
    "- изменен тип данных в столбце с float на int;\n",
    "- полных дубликатов не обнаружено;\n",
    "- проанализированы дубликаты дубликаты в столбце user_id;\n",
    "- столбцах gender и city применена кодировка данных для удобства дальнейший расчетов;\n",
    "- пропуски в столбце age были удалины, пропуски в столбце balance оставлены без изменений. Есть вероятность взаимосвязий баланса и оценночного дохода. \n",
    "\n",
    "2.  Проведенное исследование показало, что между оттоком клиентов и некоторыми параметрами практичеки нет корреляции, тогда как другие параметры практически не влияют на отток по шкале Чеддока корреляция слабая или умеренная.\n",
    "\n",
    "К параметрам, влияющим на отток, относятся:\n",
    "\n",
    "- баллы кредитного рейтинга score от 800 до 905\n",
    "- баланс balance от 250 000 до 900 000\n",
    "- оценочный доход клиента est_salary от 100 000 до 200 000\n",
    "- возраст age от 25 до 35 или от 50 до 60\n",
    "- баллов собственности equity начиная от 3 и выше\n",
    "- продуктов products от 2 и выше\n",
    "- пол gender мужчина\n",
    "- кредитной карты credit_card отсутсвие карты у клиегта\n",
    "- активен last_activity больше активынх \n",
    "\n",
    "3. Был проведен статистический анализ следующих гипотез:\n",
    "- Проверили гипотезу о различии дохода между клиентами, которые ушли и которые остались\n",
    "- Проверили гипотезу o различия score между теми клиентами, которые ушли и теми, которые остались\n",
    "    \n",
    "4. Были выделены и приоритизированы сегменты, в наибольшей степени подверженных оттоку (от 31 до 39% отточных клиентов)"
   ]
  },
  {
   "cell_type": "markdown",
   "metadata": {},
   "source": [
    "Рекомендации для отдела маркетинга.\n",
    "\n",
    "\n",
    "Для улучшения качества обслуживания каждого из выделенных высокоотточных сегментов можно выделить следующие рекомендации:\n",
    "\n",
    "1. Сегмент №2 - более 39% отточных клиентов\n",
    "- Пользовательская активность: да\n",
    "- Возраст: 25-35\n",
    "- баланс: от 250 000 до 900 000\n",
    "\n",
    "\n",
    "Рекомендации:\n",
    "- предложить оформить кредитную карту;\n",
    "- информировать о новых доступных банковских продуктах;\n",
    "- для клиентов, получающих зарплату на карту другого банка - предложить льготные условия для перевода зарплаты в наш банк.\n",
    "\n",
    "2. Сегмент №3 - более 37% ушедших клиентов\n",
    "- Оценка объектов собственности: 3 и выше\n",
    "- Оценночный доход: от 100 000 до 200 000\n",
    "- Наличие кредитной карты: нет\n",
    "\n",
    "Рекомендации:\n",
    "- предложить оформить кредитную карту;\n",
    "- предложить специальные условия по страхованию объектов собственности;\n",
    "- информировать о новых доступных банковских продуктах;\n",
    "\n",
    "3. Сегмент №1 - более 31% отточных клиентов\n",
    "- Пол: мужской\n",
    "- Возраст: 25 - 35\n",
    "- Скоринговый рейтинг: от 800 до 905\n",
    "\n",
    "Рекомендации: \n",
    "- предложить повышенный кешбек на товары для спорта, активного отдыха и рыбалки.\n",
    "- предложить оформить ипотеку;\n",
    "- для клиентов, получающих зарплату на карту другого банка - предложить льготные условия для перевода зарплаты в наш банк;"
   ]
  }
 ],
 "metadata": {
  "ExecuteTimeLog": [
   {
    "duration": 1336,
    "start_time": "2023-12-26T07:06:22.656Z"
   },
   {
    "duration": 157,
    "start_time": "2023-12-26T07:07:24.208Z"
   },
   {
    "duration": 4,
    "start_time": "2023-12-26T07:07:56.861Z"
   },
   {
    "duration": 40,
    "start_time": "2023-12-26T07:07:59.511Z"
   },
   {
    "duration": 6,
    "start_time": "2023-12-26T07:09:17.021Z"
   },
   {
    "duration": 14,
    "start_time": "2023-12-26T07:09:28.888Z"
   },
   {
    "duration": 12,
    "start_time": "2023-12-26T07:09:31.223Z"
   },
   {
    "duration": 4,
    "start_time": "2023-12-26T07:09:31.742Z"
   },
   {
    "duration": 12,
    "start_time": "2023-12-26T07:09:44.515Z"
   },
   {
    "duration": 4,
    "start_time": "2023-12-26T07:13:28.767Z"
   },
   {
    "duration": 1156,
    "start_time": "2023-12-26T07:13:42.898Z"
   },
   {
    "duration": 42,
    "start_time": "2023-12-26T07:13:44.056Z"
   },
   {
    "duration": 18,
    "start_time": "2023-12-26T07:13:45.028Z"
   },
   {
    "duration": 12,
    "start_time": "2023-12-26T07:13:45.583Z"
   },
   {
    "duration": 4,
    "start_time": "2023-12-26T07:13:46.486Z"
   },
   {
    "duration": 13,
    "start_time": "2023-12-26T07:13:47.272Z"
   },
   {
    "duration": 13,
    "start_time": "2023-12-26T07:18:18.758Z"
   },
   {
    "duration": 7,
    "start_time": "2023-12-26T07:20:24.602Z"
   },
   {
    "duration": 3,
    "start_time": "2023-12-26T07:20:47.424Z"
   },
   {
    "duration": 39,
    "start_time": "2023-12-26T07:31:28.638Z"
   },
   {
    "duration": 11,
    "start_time": "2023-12-26T07:38:06.336Z"
   },
   {
    "duration": 1132,
    "start_time": "2023-12-26T07:38:40.615Z"
   },
   {
    "duration": 41,
    "start_time": "2023-12-26T07:38:41.750Z"
   },
   {
    "duration": 15,
    "start_time": "2023-12-26T07:38:41.792Z"
   },
   {
    "duration": 11,
    "start_time": "2023-12-26T07:38:41.809Z"
   },
   {
    "duration": 3,
    "start_time": "2023-12-26T07:38:42.372Z"
   },
   {
    "duration": 13,
    "start_time": "2023-12-26T07:38:42.916Z"
   },
   {
    "duration": 13,
    "start_time": "2023-12-26T07:38:44.261Z"
   },
   {
    "duration": 36,
    "start_time": "2023-12-26T07:38:44.665Z"
   },
   {
    "duration": 13,
    "start_time": "2023-12-26T07:38:45.889Z"
   },
   {
    "duration": 9,
    "start_time": "2023-12-26T07:49:05.241Z"
   },
   {
    "duration": 4,
    "start_time": "2023-12-26T07:49:12.933Z"
   },
   {
    "duration": 10,
    "start_time": "2023-12-26T07:50:27.427Z"
   },
   {
    "duration": 4,
    "start_time": "2023-12-26T07:51:42.202Z"
   },
   {
    "duration": 7,
    "start_time": "2023-12-26T07:53:34.672Z"
   },
   {
    "duration": 8,
    "start_time": "2023-12-26T07:56:21.621Z"
   },
   {
    "duration": 4,
    "start_time": "2023-12-26T08:00:53.723Z"
   },
   {
    "duration": 5,
    "start_time": "2023-12-26T08:01:05.403Z"
   },
   {
    "duration": 4,
    "start_time": "2023-12-26T08:01:09.263Z"
   },
   {
    "duration": 6,
    "start_time": "2023-12-26T08:07:24.430Z"
   },
   {
    "duration": 10,
    "start_time": "2023-12-26T08:10:16.629Z"
   },
   {
    "duration": 10,
    "start_time": "2023-12-26T08:10:57.069Z"
   },
   {
    "duration": 5,
    "start_time": "2023-12-26T08:12:58.968Z"
   },
   {
    "duration": 6,
    "start_time": "2023-12-26T08:15:01.547Z"
   },
   {
    "duration": 1268,
    "start_time": "2023-12-26T10:14:18.943Z"
   },
   {
    "duration": 145,
    "start_time": "2023-12-26T10:14:20.755Z"
   },
   {
    "duration": 16,
    "start_time": "2023-12-26T10:14:22.342Z"
   },
   {
    "duration": 13,
    "start_time": "2023-12-26T10:14:22.786Z"
   },
   {
    "duration": 3,
    "start_time": "2023-12-26T10:14:23.649Z"
   },
   {
    "duration": 12,
    "start_time": "2023-12-26T10:14:24.496Z"
   },
   {
    "duration": 13,
    "start_time": "2023-12-26T10:14:26.060Z"
   },
   {
    "duration": 49,
    "start_time": "2023-12-26T10:14:26.374Z"
   },
   {
    "duration": 11,
    "start_time": "2023-12-26T10:14:27.172Z"
   },
   {
    "duration": 4,
    "start_time": "2023-12-26T10:14:27.737Z"
   },
   {
    "duration": 10,
    "start_time": "2023-12-26T10:14:28.277Z"
   },
   {
    "duration": 6,
    "start_time": "2023-12-26T10:14:28.804Z"
   },
   {
    "duration": 20,
    "start_time": "2023-12-26T10:16:39.961Z"
   },
   {
    "duration": 4,
    "start_time": "2023-12-26T10:24:39.811Z"
   },
   {
    "duration": 4,
    "start_time": "2023-12-26T10:24:52.213Z"
   },
   {
    "duration": 11,
    "start_time": "2023-12-26T10:28:44.199Z"
   },
   {
    "duration": 3,
    "start_time": "2023-12-26T10:29:38.938Z"
   },
   {
    "duration": 6,
    "start_time": "2023-12-26T10:29:42.588Z"
   },
   {
    "duration": 3,
    "start_time": "2023-12-26T10:29:58.526Z"
   },
   {
    "duration": 7,
    "start_time": "2023-12-26T10:29:59.670Z"
   },
   {
    "duration": 4,
    "start_time": "2023-12-26T10:30:25.348Z"
   },
   {
    "duration": 9,
    "start_time": "2023-12-26T10:30:41.943Z"
   },
   {
    "duration": 8,
    "start_time": "2023-12-26T10:31:19.395Z"
   },
   {
    "duration": 11,
    "start_time": "2023-12-26T10:31:31.421Z"
   },
   {
    "duration": 45,
    "start_time": "2023-12-26T10:31:37.868Z"
   },
   {
    "duration": 1096,
    "start_time": "2023-12-26T10:31:42.141Z"
   },
   {
    "duration": 39,
    "start_time": "2023-12-26T10:31:43.239Z"
   },
   {
    "duration": 16,
    "start_time": "2023-12-26T10:31:43.280Z"
   },
   {
    "duration": 12,
    "start_time": "2023-12-26T10:31:43.991Z"
   },
   {
    "duration": 4,
    "start_time": "2023-12-26T10:31:44.581Z"
   },
   {
    "duration": 11,
    "start_time": "2023-12-26T10:31:45.119Z"
   },
   {
    "duration": 13,
    "start_time": "2023-12-26T10:31:46.265Z"
   },
   {
    "duration": 38,
    "start_time": "2023-12-26T10:31:47.256Z"
   },
   {
    "duration": 12,
    "start_time": "2023-12-26T10:31:47.879Z"
   },
   {
    "duration": 5,
    "start_time": "2023-12-26T10:31:48.510Z"
   },
   {
    "duration": 10,
    "start_time": "2023-12-26T10:31:49.105Z"
   },
   {
    "duration": 20,
    "start_time": "2023-12-26T10:31:49.842Z"
   },
   {
    "duration": 4,
    "start_time": "2023-12-26T10:32:17.700Z"
   },
   {
    "duration": 19,
    "start_time": "2023-12-26T10:32:22.693Z"
   },
   {
    "duration": 11,
    "start_time": "2023-12-26T10:32:30.936Z"
   },
   {
    "duration": 12,
    "start_time": "2023-12-26T10:33:03.725Z"
   },
   {
    "duration": 11,
    "start_time": "2023-12-26T10:33:19.781Z"
   },
   {
    "duration": 13,
    "start_time": "2023-12-26T10:34:10.468Z"
   },
   {
    "duration": 11,
    "start_time": "2023-12-26T10:34:30.055Z"
   },
   {
    "duration": 4,
    "start_time": "2023-12-26T10:37:06.410Z"
   },
   {
    "duration": 4,
    "start_time": "2023-12-26T10:37:19.700Z"
   },
   {
    "duration": 4,
    "start_time": "2023-12-26T10:37:48.225Z"
   },
   {
    "duration": 5,
    "start_time": "2023-12-26T10:38:04.393Z"
   },
   {
    "duration": 4,
    "start_time": "2023-12-26T10:38:56.932Z"
   },
   {
    "duration": 3,
    "start_time": "2023-12-26T10:42:35.396Z"
   },
   {
    "duration": 7,
    "start_time": "2023-12-26T10:44:58.194Z"
   },
   {
    "duration": 5,
    "start_time": "2023-12-26T10:46:40.483Z"
   },
   {
    "duration": 8,
    "start_time": "2023-12-26T10:47:17.780Z"
   },
   {
    "duration": 58,
    "start_time": "2023-12-26T10:47:25.381Z"
   },
   {
    "duration": 6,
    "start_time": "2023-12-26T10:47:40.412Z"
   },
   {
    "duration": 5,
    "start_time": "2023-12-26T10:47:49.513Z"
   },
   {
    "duration": 4,
    "start_time": "2023-12-26T10:48:42.193Z"
   },
   {
    "duration": 4,
    "start_time": "2023-12-26T10:55:48.818Z"
   },
   {
    "duration": 17,
    "start_time": "2023-12-26T11:13:39.683Z"
   },
   {
    "duration": 11,
    "start_time": "2023-12-26T11:14:24.886Z"
   },
   {
    "duration": 12,
    "start_time": "2023-12-26T11:14:42.886Z"
   },
   {
    "duration": 4,
    "start_time": "2023-12-26T11:19:09.863Z"
   },
   {
    "duration": 3,
    "start_time": "2023-12-26T11:19:31.223Z"
   },
   {
    "duration": 4,
    "start_time": "2023-12-26T11:19:43.695Z"
   },
   {
    "duration": 10,
    "start_time": "2023-12-26T11:24:58.185Z"
   },
   {
    "duration": 5,
    "start_time": "2023-12-26T11:26:16.869Z"
   },
   {
    "duration": 70,
    "start_time": "2023-12-26T11:26:51.987Z"
   },
   {
    "duration": 67,
    "start_time": "2023-12-26T11:29:15.946Z"
   },
   {
    "duration": 4,
    "start_time": "2023-12-26T11:33:37.264Z"
   },
   {
    "duration": 4,
    "start_time": "2023-12-26T11:34:09.098Z"
   },
   {
    "duration": 87,
    "start_time": "2023-12-26T11:38:46.281Z"
   },
   {
    "duration": 17,
    "start_time": "2023-12-26T11:51:58.322Z"
   },
   {
    "duration": 15,
    "start_time": "2023-12-26T11:52:55.784Z"
   },
   {
    "duration": 1220,
    "start_time": "2023-12-26T11:54:26.910Z"
   },
   {
    "duration": 12,
    "start_time": "2023-12-26T11:55:02.499Z"
   },
   {
    "duration": 16,
    "start_time": "2023-12-26T12:36:50.744Z"
   },
   {
    "duration": 11,
    "start_time": "2023-12-26T12:38:32.902Z"
   },
   {
    "duration": 11,
    "start_time": "2023-12-26T12:40:24.670Z"
   },
   {
    "duration": 17,
    "start_time": "2023-12-26T12:55:24.527Z"
   },
   {
    "duration": 6,
    "start_time": "2023-12-26T12:58:59.833Z"
   },
   {
    "duration": 15,
    "start_time": "2023-12-26T13:23:18.492Z"
   },
   {
    "duration": 22,
    "start_time": "2023-12-26T13:23:29.993Z"
   },
   {
    "duration": 15,
    "start_time": "2023-12-26T13:34:36.936Z"
   },
   {
    "duration": 1292,
    "start_time": "2023-12-27T05:16:24.988Z"
   },
   {
    "duration": 80,
    "start_time": "2023-12-27T05:16:27.464Z"
   },
   {
    "duration": 18,
    "start_time": "2023-12-27T05:16:28.664Z"
   },
   {
    "duration": 21,
    "start_time": "2023-12-27T05:16:29.644Z"
   },
   {
    "duration": 4,
    "start_time": "2023-12-27T05:16:31.407Z"
   },
   {
    "duration": 13,
    "start_time": "2023-12-27T05:16:33.874Z"
   },
   {
    "duration": 15,
    "start_time": "2023-12-27T05:17:35.856Z"
   },
   {
    "duration": 4,
    "start_time": "2023-12-27T05:17:37.021Z"
   },
   {
    "duration": 41,
    "start_time": "2023-12-27T05:17:40.257Z"
   },
   {
    "duration": 19,
    "start_time": "2023-12-27T05:17:43.163Z"
   },
   {
    "duration": 12,
    "start_time": "2023-12-27T05:18:10.482Z"
   },
   {
    "duration": 21,
    "start_time": "2023-12-27T05:18:12.959Z"
   },
   {
    "duration": 19,
    "start_time": "2023-12-27T05:18:21.122Z"
   },
   {
    "duration": 5,
    "start_time": "2023-12-27T05:18:39.591Z"
   },
   {
    "duration": 6,
    "start_time": "2023-12-27T05:18:42.784Z"
   },
   {
    "duration": 6,
    "start_time": "2023-12-27T05:18:45.407Z"
   },
   {
    "duration": 5,
    "start_time": "2023-12-27T05:18:48.999Z"
   },
   {
    "duration": 5,
    "start_time": "2023-12-27T05:18:59.824Z"
   },
   {
    "duration": 5,
    "start_time": "2023-12-27T05:19:05.710Z"
   },
   {
    "duration": 5,
    "start_time": "2023-12-27T05:19:07.088Z"
   },
   {
    "duration": 6,
    "start_time": "2023-12-27T05:19:10.280Z"
   },
   {
    "duration": 5,
    "start_time": "2023-12-27T05:20:02.017Z"
   },
   {
    "duration": 4,
    "start_time": "2023-12-27T05:20:04.530Z"
   },
   {
    "duration": 8,
    "start_time": "2023-12-27T05:20:12.210Z"
   },
   {
    "duration": 72,
    "start_time": "2023-12-27T05:20:14.057Z"
   },
   {
    "duration": 6,
    "start_time": "2023-12-27T05:20:16.923Z"
   },
   {
    "duration": 14,
    "start_time": "2023-12-27T05:20:17.809Z"
   },
   {
    "duration": 18,
    "start_time": "2023-12-27T05:20:21.128Z"
   },
   {
    "duration": 19,
    "start_time": "2023-12-27T05:20:22.889Z"
   },
   {
    "duration": 104,
    "start_time": "2023-12-27T05:25:05.114Z"
   },
   {
    "duration": 10,
    "start_time": "2023-12-27T05:25:11.396Z"
   },
   {
    "duration": 18,
    "start_time": "2023-12-27T05:25:17.523Z"
   },
   {
    "duration": 14,
    "start_time": "2023-12-27T05:25:18.288Z"
   },
   {
    "duration": 20,
    "start_time": "2023-12-27T05:26:46.377Z"
   },
   {
    "duration": 23,
    "start_time": "2023-12-27T05:28:28.662Z"
   },
   {
    "duration": 15,
    "start_time": "2023-12-27T05:29:18.140Z"
   },
   {
    "duration": 17,
    "start_time": "2023-12-27T05:29:30.872Z"
   },
   {
    "duration": 28,
    "start_time": "2023-12-27T05:29:31.965Z"
   },
   {
    "duration": 895,
    "start_time": "2023-12-27T05:33:07.125Z"
   },
   {
    "duration": 3,
    "start_time": "2023-12-27T05:36:29.563Z"
   },
   {
    "duration": 24,
    "start_time": "2023-12-27T05:38:31.043Z"
   },
   {
    "duration": 23,
    "start_time": "2023-12-27T05:38:37.846Z"
   },
   {
    "duration": 20,
    "start_time": "2023-12-27T05:53:07.912Z"
   },
   {
    "duration": 29,
    "start_time": "2023-12-27T05:54:07.591Z"
   },
   {
    "duration": 138,
    "start_time": "2023-12-27T05:57:22.127Z"
   },
   {
    "duration": 131,
    "start_time": "2023-12-27T06:03:28.949Z"
   },
   {
    "duration": 161,
    "start_time": "2023-12-27T06:06:25.926Z"
   },
   {
    "duration": 13,
    "start_time": "2023-12-27T06:08:51.622Z"
   },
   {
    "duration": 13,
    "start_time": "2023-12-27T06:08:56.711Z"
   },
   {
    "duration": 392,
    "start_time": "2023-12-27T06:09:11.405Z"
   },
   {
    "duration": 12,
    "start_time": "2023-12-27T06:11:56.513Z"
   },
   {
    "duration": 22,
    "start_time": "2023-12-27T06:12:10.551Z"
   },
   {
    "duration": 22,
    "start_time": "2023-12-27T06:16:22.325Z"
   },
   {
    "duration": 433,
    "start_time": "2023-12-27T06:16:31.441Z"
   },
   {
    "duration": 10,
    "start_time": "2023-12-27T06:18:03.171Z"
   },
   {
    "duration": 485,
    "start_time": "2023-12-27T06:21:41.831Z"
   },
   {
    "duration": 72,
    "start_time": "2023-12-27T06:23:23.210Z"
   },
   {
    "duration": 10,
    "start_time": "2023-12-27T06:23:36.474Z"
   },
   {
    "duration": 17,
    "start_time": "2023-12-27T06:23:59.593Z"
   },
   {
    "duration": 10,
    "start_time": "2023-12-27T06:24:05.252Z"
   },
   {
    "duration": 8,
    "start_time": "2023-12-27T06:24:28.924Z"
   },
   {
    "duration": 779,
    "start_time": "2023-12-27T06:46:47.331Z"
   },
   {
    "duration": 755,
    "start_time": "2023-12-27T06:47:17.077Z"
   },
   {
    "duration": 745,
    "start_time": "2023-12-27T06:47:32.691Z"
   },
   {
    "duration": 4,
    "start_time": "2023-12-27T06:47:43.392Z"
   },
   {
    "duration": 443,
    "start_time": "2023-12-27T06:49:25.472Z"
   },
   {
    "duration": 482,
    "start_time": "2023-12-27T06:51:34.725Z"
   },
   {
    "duration": 393,
    "start_time": "2023-12-27T06:52:19.321Z"
   },
   {
    "duration": 134,
    "start_time": "2023-12-27T06:55:07.532Z"
   },
   {
    "duration": 22,
    "start_time": "2023-12-27T06:57:24.703Z"
   },
   {
    "duration": 931,
    "start_time": "2023-12-27T06:59:47.369Z"
   },
   {
    "duration": 10,
    "start_time": "2023-12-27T06:59:51.592Z"
   },
   {
    "duration": 8,
    "start_time": "2023-12-27T07:00:23.207Z"
   },
   {
    "duration": 1049,
    "start_time": "2023-12-27T07:13:57.605Z"
   },
   {
    "duration": 7,
    "start_time": "2023-12-27T07:15:03.843Z"
   },
   {
    "duration": 27,
    "start_time": "2023-12-27T07:26:08.904Z"
   },
   {
    "duration": 485,
    "start_time": "2023-12-27T07:26:37.409Z"
   },
   {
    "duration": 170,
    "start_time": "2023-12-27T07:26:49.772Z"
   },
   {
    "duration": 168,
    "start_time": "2023-12-27T07:27:01.304Z"
   },
   {
    "duration": 27,
    "start_time": "2023-12-27T07:27:06.778Z"
   },
   {
    "duration": 1330,
    "start_time": "2023-12-27T07:29:10.345Z"
   },
   {
    "duration": 51,
    "start_time": "2023-12-27T07:29:11.678Z"
   },
   {
    "duration": 27,
    "start_time": "2023-12-27T07:29:11.733Z"
   },
   {
    "duration": 16,
    "start_time": "2023-12-27T07:29:11.763Z"
   },
   {
    "duration": 28,
    "start_time": "2023-12-27T07:29:11.783Z"
   },
   {
    "duration": 38,
    "start_time": "2023-12-27T07:29:11.814Z"
   },
   {
    "duration": 32,
    "start_time": "2023-12-27T07:29:11.855Z"
   },
   {
    "duration": 22,
    "start_time": "2023-12-27T07:29:11.889Z"
   },
   {
    "duration": 58,
    "start_time": "2023-12-27T07:29:11.913Z"
   },
   {
    "duration": 13,
    "start_time": "2023-12-27T07:29:11.973Z"
   },
   {
    "duration": 5,
    "start_time": "2023-12-27T07:29:11.988Z"
   },
   {
    "duration": 35,
    "start_time": "2023-12-27T07:29:11.995Z"
   },
   {
    "duration": 46,
    "start_time": "2023-12-27T07:29:12.032Z"
   },
   {
    "duration": 31,
    "start_time": "2023-12-27T07:29:12.081Z"
   },
   {
    "duration": 50,
    "start_time": "2023-12-27T07:29:12.113Z"
   },
   {
    "duration": 26,
    "start_time": "2023-12-27T07:29:12.165Z"
   },
   {
    "duration": 36,
    "start_time": "2023-12-27T07:29:12.193Z"
   },
   {
    "duration": 26,
    "start_time": "2023-12-27T07:29:12.231Z"
   },
   {
    "duration": 28,
    "start_time": "2023-12-27T07:29:12.259Z"
   },
   {
    "duration": 21,
    "start_time": "2023-12-27T07:29:12.289Z"
   },
   {
    "duration": 36,
    "start_time": "2023-12-27T07:29:12.312Z"
   },
   {
    "duration": 23,
    "start_time": "2023-12-27T07:29:12.350Z"
   },
   {
    "duration": 36,
    "start_time": "2023-12-27T07:29:12.376Z"
   },
   {
    "duration": 36,
    "start_time": "2023-12-27T07:29:12.414Z"
   },
   {
    "duration": 30,
    "start_time": "2023-12-27T07:29:12.453Z"
   },
   {
    "duration": 287,
    "start_time": "2023-12-27T07:29:12.485Z"
   },
   {
    "duration": 12,
    "start_time": "2023-12-27T07:29:12.774Z"
   },
   {
    "duration": 40,
    "start_time": "2023-12-27T07:29:12.788Z"
   },
   {
    "duration": 46,
    "start_time": "2023-12-27T07:29:12.831Z"
   },
   {
    "duration": 23,
    "start_time": "2023-12-27T07:29:12.879Z"
   },
   {
    "duration": 35,
    "start_time": "2023-12-27T07:29:12.904Z"
   },
   {
    "duration": 26,
    "start_time": "2023-12-27T07:29:12.942Z"
   },
   {
    "duration": 37,
    "start_time": "2023-12-27T07:29:12.970Z"
   },
   {
    "duration": 884,
    "start_time": "2023-12-27T07:29:13.009Z"
   },
   {
    "duration": 4,
    "start_time": "2023-12-27T07:29:13.895Z"
   },
   {
    "duration": 34,
    "start_time": "2023-12-27T07:29:13.901Z"
   },
   {
    "duration": 28,
    "start_time": "2023-12-27T07:29:13.937Z"
   },
   {
    "duration": 168,
    "start_time": "2023-12-27T07:29:13.967Z"
   },
   {
    "duration": 0,
    "start_time": "2023-12-27T07:29:14.137Z"
   },
   {
    "duration": 0,
    "start_time": "2023-12-27T07:29:14.139Z"
   },
   {
    "duration": 0,
    "start_time": "2023-12-27T07:29:14.141Z"
   },
   {
    "duration": 0,
    "start_time": "2023-12-27T07:29:14.143Z"
   },
   {
    "duration": 0,
    "start_time": "2023-12-27T07:29:14.144Z"
   },
   {
    "duration": 0,
    "start_time": "2023-12-27T07:29:14.146Z"
   },
   {
    "duration": 0,
    "start_time": "2023-12-27T07:29:14.148Z"
   },
   {
    "duration": 0,
    "start_time": "2023-12-27T07:29:14.150Z"
   },
   {
    "duration": 0,
    "start_time": "2023-12-27T07:29:14.151Z"
   },
   {
    "duration": 0,
    "start_time": "2023-12-27T07:29:14.153Z"
   },
   {
    "duration": 159,
    "start_time": "2023-12-27T07:29:36.504Z"
   },
   {
    "duration": 147,
    "start_time": "2023-12-27T07:29:40.086Z"
   },
   {
    "duration": 848,
    "start_time": "2023-12-27T07:29:47.544Z"
   },
   {
    "duration": 19,
    "start_time": "2023-12-27T07:29:58.391Z"
   },
   {
    "duration": 772,
    "start_time": "2023-12-27T07:30:07.953Z"
   },
   {
    "duration": 267,
    "start_time": "2023-12-27T07:30:23.978Z"
   },
   {
    "duration": 831,
    "start_time": "2023-12-27T07:30:33.463Z"
   },
   {
    "duration": 258,
    "start_time": "2023-12-27T07:30:37.745Z"
   },
   {
    "duration": 138,
    "start_time": "2023-12-27T07:30:43.777Z"
   },
   {
    "duration": 7,
    "start_time": "2023-12-27T07:30:46.870Z"
   },
   {
    "duration": 6,
    "start_time": "2023-12-27T07:30:48.548Z"
   },
   {
    "duration": 11,
    "start_time": "2023-12-27T07:30:50.122Z"
   },
   {
    "duration": 28,
    "start_time": "2023-12-27T07:30:54.056Z"
   },
   {
    "duration": 7,
    "start_time": "2023-12-27T07:35:40.399Z"
   },
   {
    "duration": 6,
    "start_time": "2023-12-27T07:38:33.227Z"
   },
   {
    "duration": 26,
    "start_time": "2023-12-27T07:39:08.785Z"
   },
   {
    "duration": 78,
    "start_time": "2023-12-27T07:41:09.975Z"
   },
   {
    "duration": 234,
    "start_time": "2023-12-27T07:41:22.805Z"
   },
   {
    "duration": 49,
    "start_time": "2023-12-27T07:42:42.638Z"
   },
   {
    "duration": 5,
    "start_time": "2023-12-27T07:43:01.336Z"
   },
   {
    "duration": 387,
    "start_time": "2023-12-27T07:45:07.581Z"
   },
   {
    "duration": 2399,
    "start_time": "2023-12-27T07:46:07.933Z"
   },
   {
    "duration": 5,
    "start_time": "2023-12-27T07:49:13.081Z"
   },
   {
    "duration": 256,
    "start_time": "2023-12-27T07:52:48.127Z"
   },
   {
    "duration": 234,
    "start_time": "2023-12-27T07:53:14.901Z"
   },
   {
    "duration": 7,
    "start_time": "2023-12-27T08:24:47.784Z"
   },
   {
    "duration": 6,
    "start_time": "2023-12-27T08:27:28.480Z"
   },
   {
    "duration": 10,
    "start_time": "2023-12-27T08:28:12.849Z"
   },
   {
    "duration": 60,
    "start_time": "2023-12-27T08:51:44.876Z"
   },
   {
    "duration": 4,
    "start_time": "2023-12-27T08:52:29.739Z"
   },
   {
    "duration": 42,
    "start_time": "2023-12-27T08:52:30.968Z"
   },
   {
    "duration": 14,
    "start_time": "2023-12-27T08:52:33.307Z"
   },
   {
    "duration": 14,
    "start_time": "2023-12-27T08:52:34.435Z"
   },
   {
    "duration": 5,
    "start_time": "2023-12-27T08:52:36.582Z"
   },
   {
    "duration": 14,
    "start_time": "2023-12-27T08:52:38.963Z"
   },
   {
    "duration": 21,
    "start_time": "2023-12-27T08:52:43.265Z"
   },
   {
    "duration": 5,
    "start_time": "2023-12-27T08:52:46.167Z"
   },
   {
    "duration": 49,
    "start_time": "2023-12-27T08:52:46.949Z"
   },
   {
    "duration": 13,
    "start_time": "2023-12-27T08:52:50.101Z"
   },
   {
    "duration": 5,
    "start_time": "2023-12-27T08:52:54.303Z"
   },
   {
    "duration": 7,
    "start_time": "2023-12-27T08:52:57.750Z"
   },
   {
    "duration": 17,
    "start_time": "2023-12-27T08:53:11.084Z"
   },
   {
    "duration": 20,
    "start_time": "2023-12-27T08:53:13.057Z"
   },
   {
    "duration": 13,
    "start_time": "2023-12-27T08:53:14.008Z"
   },
   {
    "duration": 5,
    "start_time": "2023-12-27T08:53:17.736Z"
   },
   {
    "duration": 6,
    "start_time": "2023-12-27T08:53:18.147Z"
   },
   {
    "duration": 6,
    "start_time": "2023-12-27T08:53:27.017Z"
   },
   {
    "duration": 5,
    "start_time": "2023-12-27T08:53:28.553Z"
   },
   {
    "duration": 5,
    "start_time": "2023-12-27T08:53:29.167Z"
   },
   {
    "duration": 5,
    "start_time": "2023-12-27T08:53:30.535Z"
   },
   {
    "duration": 5,
    "start_time": "2023-12-27T08:53:31.020Z"
   },
   {
    "duration": 5,
    "start_time": "2023-12-27T08:53:31.764Z"
   },
   {
    "duration": 5,
    "start_time": "2023-12-27T08:53:34.441Z"
   },
   {
    "duration": 7,
    "start_time": "2023-12-27T08:53:35.959Z"
   },
   {
    "duration": 5,
    "start_time": "2023-12-27T08:53:36.547Z"
   },
   {
    "duration": 7,
    "start_time": "2023-12-27T08:53:38.818Z"
   },
   {
    "duration": 82,
    "start_time": "2023-12-27T08:53:41.713Z"
   },
   {
    "duration": 13,
    "start_time": "2023-12-27T08:53:44.549Z"
   },
   {
    "duration": 17,
    "start_time": "2023-12-27T08:53:49.935Z"
   },
   {
    "duration": 16,
    "start_time": "2023-12-27T08:53:51.720Z"
   },
   {
    "duration": 18,
    "start_time": "2023-12-27T08:53:54.525Z"
   },
   {
    "duration": 15,
    "start_time": "2023-12-27T08:53:55.733Z"
   },
   {
    "duration": 18,
    "start_time": "2023-12-27T08:54:19.894Z"
   },
   {
    "duration": 20,
    "start_time": "2023-12-27T08:54:33.926Z"
   },
   {
    "duration": 14,
    "start_time": "2023-12-27T08:54:35.206Z"
   },
   {
    "duration": 17,
    "start_time": "2023-12-27T08:54:37.195Z"
   },
   {
    "duration": 15,
    "start_time": "2023-12-27T08:54:38.706Z"
   },
   {
    "duration": 21,
    "start_time": "2023-12-27T08:54:41.298Z"
   },
   {
    "duration": 25,
    "start_time": "2023-12-27T08:54:46.178Z"
   },
   {
    "duration": 902,
    "start_time": "2023-12-27T08:54:50.443Z"
   },
   {
    "duration": 4,
    "start_time": "2023-12-27T08:54:53.348Z"
   },
   {
    "duration": 22,
    "start_time": "2023-12-27T08:54:54.935Z"
   },
   {
    "duration": 28,
    "start_time": "2023-12-27T08:55:00.290Z"
   },
   {
    "duration": 7,
    "start_time": "2023-12-27T08:56:44.183Z"
   },
   {
    "duration": 243,
    "start_time": "2023-12-27T08:57:06.663Z"
   },
   {
    "duration": 221,
    "start_time": "2023-12-27T08:57:12.540Z"
   },
   {
    "duration": 143,
    "start_time": "2023-12-27T08:57:15.697Z"
   },
   {
    "duration": 267,
    "start_time": "2023-12-27T08:57:17.542Z"
   },
   {
    "duration": 284,
    "start_time": "2023-12-27T08:57:18.973Z"
   },
   {
    "duration": 147,
    "start_time": "2023-12-27T08:57:20.755Z"
   },
   {
    "duration": 6,
    "start_time": "2023-12-27T08:57:22.110Z"
   },
   {
    "duration": 7,
    "start_time": "2023-12-27T08:57:23.466Z"
   },
   {
    "duration": 31,
    "start_time": "2023-12-27T08:57:26.065Z"
   },
   {
    "duration": 238,
    "start_time": "2023-12-27T08:57:48.079Z"
   },
   {
    "duration": 7,
    "start_time": "2023-12-27T08:57:51.877Z"
   },
   {
    "duration": 2580,
    "start_time": "2023-12-27T08:58:51.320Z"
   },
   {
    "duration": 179,
    "start_time": "2023-12-27T08:58:53.903Z"
   },
   {
    "duration": 18,
    "start_time": "2023-12-27T09:28:28.283Z"
   },
   {
    "duration": 3,
    "start_time": "2023-12-27T09:31:24.766Z"
   },
   {
    "duration": 72,
    "start_time": "2023-12-27T09:31:27.444Z"
   },
   {
    "duration": 25,
    "start_time": "2023-12-27T09:31:51.135Z"
   },
   {
    "duration": 68,
    "start_time": "2023-12-27T09:32:03.953Z"
   },
   {
    "duration": 14,
    "start_time": "2023-12-27T09:33:49.362Z"
   },
   {
    "duration": 22,
    "start_time": "2023-12-27T09:33:54.666Z"
   },
   {
    "duration": 293,
    "start_time": "2023-12-27T09:42:40.783Z"
   },
   {
    "duration": 19,
    "start_time": "2023-12-27T09:43:55.280Z"
   },
   {
    "duration": 822,
    "start_time": "2023-12-27T09:43:56.449Z"
   },
   {
    "duration": 32,
    "start_time": "2023-12-27T09:50:28.992Z"
   },
   {
    "duration": 3,
    "start_time": "2023-12-27T09:51:18.802Z"
   },
   {
    "duration": 964,
    "start_time": "2023-12-27T09:51:20.192Z"
   },
   {
    "duration": 1233,
    "start_time": "2023-12-27T09:52:43.285Z"
   },
   {
    "duration": 44,
    "start_time": "2023-12-27T09:52:44.520Z"
   },
   {
    "duration": 20,
    "start_time": "2023-12-27T09:52:44.566Z"
   },
   {
    "duration": 35,
    "start_time": "2023-12-27T09:52:44.589Z"
   },
   {
    "duration": 17,
    "start_time": "2023-12-27T09:52:44.625Z"
   },
   {
    "duration": 28,
    "start_time": "2023-12-27T09:52:44.644Z"
   },
   {
    "duration": 26,
    "start_time": "2023-12-27T09:52:44.674Z"
   },
   {
    "duration": 36,
    "start_time": "2023-12-27T09:52:44.702Z"
   },
   {
    "duration": 69,
    "start_time": "2023-12-27T09:52:44.740Z"
   },
   {
    "duration": 13,
    "start_time": "2023-12-27T09:52:44.812Z"
   },
   {
    "duration": 18,
    "start_time": "2023-12-27T09:52:44.828Z"
   },
   {
    "duration": 17,
    "start_time": "2023-12-27T09:52:44.848Z"
   },
   {
    "duration": 22,
    "start_time": "2023-12-27T09:52:44.867Z"
   },
   {
    "duration": 18,
    "start_time": "2023-12-27T09:52:44.890Z"
   },
   {
    "duration": 12,
    "start_time": "2023-12-27T09:52:44.910Z"
   },
   {
    "duration": 20,
    "start_time": "2023-12-27T09:52:44.923Z"
   },
   {
    "duration": 31,
    "start_time": "2023-12-27T09:52:44.945Z"
   },
   {
    "duration": 15,
    "start_time": "2023-12-27T09:52:44.978Z"
   },
   {
    "duration": 73,
    "start_time": "2023-12-27T09:52:44.995Z"
   },
   {
    "duration": 76,
    "start_time": "2023-12-27T09:52:45.070Z"
   },
   {
    "duration": 38,
    "start_time": "2023-12-27T09:52:45.148Z"
   },
   {
    "duration": 34,
    "start_time": "2023-12-27T09:52:45.187Z"
   },
   {
    "duration": 17,
    "start_time": "2023-12-27T09:52:45.223Z"
   },
   {
    "duration": 20,
    "start_time": "2023-12-27T09:52:45.242Z"
   },
   {
    "duration": 16,
    "start_time": "2023-12-27T09:52:45.264Z"
   },
   {
    "duration": 74,
    "start_time": "2023-12-27T09:52:45.281Z"
   },
   {
    "duration": 18,
    "start_time": "2023-12-27T09:52:45.358Z"
   },
   {
    "duration": 21,
    "start_time": "2023-12-27T09:52:45.382Z"
   },
   {
    "duration": 37,
    "start_time": "2023-12-27T09:52:45.405Z"
   },
   {
    "duration": 32,
    "start_time": "2023-12-27T09:52:45.444Z"
   },
   {
    "duration": 13,
    "start_time": "2023-12-27T09:52:45.478Z"
   },
   {
    "duration": 38,
    "start_time": "2023-12-27T09:52:45.493Z"
   },
   {
    "duration": 31,
    "start_time": "2023-12-27T09:52:45.533Z"
   },
   {
    "duration": 866,
    "start_time": "2023-12-27T09:52:45.566Z"
   },
   {
    "duration": 4,
    "start_time": "2023-12-27T09:52:46.434Z"
   },
   {
    "duration": 52,
    "start_time": "2023-12-27T09:52:46.440Z"
   },
   {
    "duration": 35,
    "start_time": "2023-12-27T09:52:46.494Z"
   },
   {
    "duration": 5,
    "start_time": "2023-12-27T09:52:46.531Z"
   },
   {
    "duration": 256,
    "start_time": "2023-12-27T09:52:46.537Z"
   },
   {
    "duration": 138,
    "start_time": "2023-12-27T09:52:46.795Z"
   },
   {
    "duration": 179,
    "start_time": "2023-12-27T09:52:46.934Z"
   },
   {
    "duration": 276,
    "start_time": "2023-12-27T09:52:47.115Z"
   },
   {
    "duration": 276,
    "start_time": "2023-12-27T09:52:47.392Z"
   },
   {
    "duration": 154,
    "start_time": "2023-12-27T09:52:47.669Z"
   },
   {
    "duration": 10,
    "start_time": "2023-12-27T09:52:47.824Z"
   },
   {
    "duration": 25,
    "start_time": "2023-12-27T09:52:47.836Z"
   },
   {
    "duration": 39,
    "start_time": "2023-12-27T09:52:47.863Z"
   },
   {
    "duration": 320,
    "start_time": "2023-12-27T09:52:47.904Z"
   },
   {
    "duration": 10,
    "start_time": "2023-12-27T09:52:48.225Z"
   },
   {
    "duration": 18,
    "start_time": "2023-12-27T09:52:48.237Z"
   },
   {
    "duration": 67,
    "start_time": "2023-12-27T09:52:48.256Z"
   },
   {
    "duration": 2,
    "start_time": "2023-12-27T09:52:48.325Z"
   },
   {
    "duration": 411,
    "start_time": "2023-12-27T09:52:48.331Z"
   },
   {
    "duration": 0,
    "start_time": "2023-12-27T09:52:48.743Z"
   },
   {
    "duration": 212,
    "start_time": "2023-12-27T10:08:51.184Z"
   },
   {
    "duration": 197,
    "start_time": "2023-12-27T10:13:32.091Z"
   },
   {
    "duration": 200,
    "start_time": "2023-12-27T10:14:09.108Z"
   },
   {
    "duration": 334,
    "start_time": "2023-12-27T10:21:30.147Z"
   },
   {
    "duration": 338,
    "start_time": "2023-12-27T10:23:39.313Z"
   },
   {
    "duration": 184,
    "start_time": "2023-12-27T10:31:08.093Z"
   },
   {
    "duration": 188,
    "start_time": "2023-12-27T10:33:04.288Z"
   },
   {
    "duration": 25,
    "start_time": "2023-12-27T10:42:23.471Z"
   },
   {
    "duration": 992,
    "start_time": "2023-12-27T10:42:41.420Z"
   },
   {
    "duration": 251,
    "start_time": "2023-12-27T10:42:53.044Z"
   },
   {
    "duration": 934,
    "start_time": "2023-12-27T10:45:47.388Z"
   },
   {
    "duration": 188,
    "start_time": "2023-12-27T10:46:01.470Z"
   },
   {
    "duration": 167,
    "start_time": "2023-12-27T10:47:11.965Z"
   },
   {
    "duration": 174,
    "start_time": "2023-12-27T10:50:15.630Z"
   },
   {
    "duration": 2541,
    "start_time": "2023-12-27T10:52:27.235Z"
   },
   {
    "duration": 213,
    "start_time": "2023-12-27T10:53:10.306Z"
   },
   {
    "duration": 199,
    "start_time": "2023-12-27T10:53:44.519Z"
   },
   {
    "duration": 303,
    "start_time": "2023-12-27T10:53:50.793Z"
   },
   {
    "duration": 46,
    "start_time": "2023-12-28T04:45:06.161Z"
   },
   {
    "duration": 1354,
    "start_time": "2023-12-28T04:45:56.648Z"
   },
   {
    "duration": 146,
    "start_time": "2023-12-28T04:45:58.004Z"
   },
   {
    "duration": 17,
    "start_time": "2023-12-28T04:45:58.151Z"
   },
   {
    "duration": 30,
    "start_time": "2023-12-28T04:45:58.169Z"
   },
   {
    "duration": 5,
    "start_time": "2023-12-28T04:45:58.201Z"
   },
   {
    "duration": 13,
    "start_time": "2023-12-28T04:45:58.208Z"
   },
   {
    "duration": 13,
    "start_time": "2023-12-28T04:45:58.222Z"
   },
   {
    "duration": 4,
    "start_time": "2023-12-28T04:45:58.236Z"
   },
   {
    "duration": 38,
    "start_time": "2023-12-28T04:45:58.242Z"
   },
   {
    "duration": 11,
    "start_time": "2023-12-28T04:45:58.281Z"
   },
   {
    "duration": 4,
    "start_time": "2023-12-28T04:45:58.293Z"
   },
   {
    "duration": 11,
    "start_time": "2023-12-28T04:45:58.322Z"
   },
   {
    "duration": 20,
    "start_time": "2023-12-28T04:45:58.335Z"
   },
   {
    "duration": 11,
    "start_time": "2023-12-28T04:45:58.358Z"
   },
   {
    "duration": 4,
    "start_time": "2023-12-28T04:45:58.371Z"
   },
   {
    "duration": 4,
    "start_time": "2023-12-28T04:45:58.376Z"
   },
   {
    "duration": 4,
    "start_time": "2023-12-28T04:45:58.382Z"
   },
   {
    "duration": 5,
    "start_time": "2023-12-28T04:45:58.423Z"
   },
   {
    "duration": 6,
    "start_time": "2023-12-28T04:45:58.429Z"
   },
   {
    "duration": 8,
    "start_time": "2023-12-28T04:45:58.436Z"
   },
   {
    "duration": 7,
    "start_time": "2023-12-28T04:45:58.445Z"
   },
   {
    "duration": 4,
    "start_time": "2023-12-28T04:45:58.454Z"
   },
   {
    "duration": 6,
    "start_time": "2023-12-28T04:45:58.459Z"
   },
   {
    "duration": 6,
    "start_time": "2023-12-28T04:45:58.466Z"
   },
   {
    "duration": 50,
    "start_time": "2023-12-28T04:45:58.473Z"
   },
   {
    "duration": 69,
    "start_time": "2023-12-28T04:45:58.525Z"
   },
   {
    "duration": 28,
    "start_time": "2023-12-28T04:45:58.596Z"
   },
   {
    "duration": 15,
    "start_time": "2023-12-28T04:45:58.625Z"
   },
   {
    "duration": 12,
    "start_time": "2023-12-28T04:45:58.641Z"
   },
   {
    "duration": 16,
    "start_time": "2023-12-28T04:45:58.655Z"
   },
   {
    "duration": 11,
    "start_time": "2023-12-28T04:45:58.673Z"
   },
   {
    "duration": 44,
    "start_time": "2023-12-28T04:45:58.686Z"
   },
   {
    "duration": 21,
    "start_time": "2023-12-28T04:45:58.731Z"
   },
   {
    "duration": 793,
    "start_time": "2023-12-28T04:45:58.754Z"
   },
   {
    "duration": 3,
    "start_time": "2023-12-28T04:45:59.549Z"
   },
   {
    "duration": 19,
    "start_time": "2023-12-28T04:45:59.554Z"
   },
   {
    "duration": 26,
    "start_time": "2023-12-28T04:45:59.574Z"
   },
   {
    "duration": 20,
    "start_time": "2023-12-28T04:45:59.602Z"
   },
   {
    "duration": 224,
    "start_time": "2023-12-28T04:45:59.624Z"
   },
   {
    "duration": 116,
    "start_time": "2023-12-28T04:45:59.850Z"
   },
   {
    "duration": 129,
    "start_time": "2023-12-28T04:45:59.969Z"
   },
   {
    "duration": 230,
    "start_time": "2023-12-28T04:46:00.100Z"
   },
   {
    "duration": 237,
    "start_time": "2023-12-28T04:46:00.332Z"
   },
   {
    "duration": 130,
    "start_time": "2023-12-28T04:46:00.571Z"
   },
   {
    "duration": 5,
    "start_time": "2023-12-28T04:46:00.703Z"
   },
   {
    "duration": 97,
    "start_time": "2023-12-28T04:46:00.710Z"
   },
   {
    "duration": 77,
    "start_time": "2023-12-28T04:46:00.808Z"
   },
   {
    "duration": 283,
    "start_time": "2023-12-28T04:46:00.887Z"
   },
   {
    "duration": 5,
    "start_time": "2023-12-28T04:46:01.171Z"
   },
   {
    "duration": 2268,
    "start_time": "2023-12-28T04:46:01.177Z"
   },
   {
    "duration": 59,
    "start_time": "2023-12-28T04:46:03.447Z"
   },
   {
    "duration": 169,
    "start_time": "2023-12-28T04:46:03.508Z"
   },
   {
    "duration": 293,
    "start_time": "2023-12-28T04:46:03.679Z"
   },
   {
    "duration": 150,
    "start_time": "2023-12-28T04:46:03.974Z"
   },
   {
    "duration": 157,
    "start_time": "2023-12-28T04:46:04.126Z"
   },
   {
    "duration": 228,
    "start_time": "2023-12-28T04:46:04.285Z"
   },
   {
    "duration": 151,
    "start_time": "2023-12-28T04:46:04.515Z"
   },
   {
    "duration": 156,
    "start_time": "2023-12-28T04:46:04.668Z"
   },
   {
    "duration": 172,
    "start_time": "2023-12-28T04:46:04.826Z"
   },
   {
    "duration": 2445,
    "start_time": "2023-12-28T04:46:05.000Z"
   },
   {
    "duration": 11,
    "start_time": "2023-12-28T05:11:14.068Z"
   },
   {
    "duration": 97,
    "start_time": "2023-12-28T05:12:21.344Z"
   },
   {
    "duration": 342,
    "start_time": "2023-12-28T05:12:33.643Z"
   },
   {
    "duration": 164,
    "start_time": "2023-12-28T05:28:04.985Z"
   },
   {
    "duration": 23,
    "start_time": "2023-12-28T05:29:44.432Z"
   },
   {
    "duration": 18,
    "start_time": "2023-12-28T05:30:18.985Z"
   },
   {
    "duration": 60,
    "start_time": "2023-12-28T05:30:31.307Z"
   },
   {
    "duration": 56,
    "start_time": "2023-12-28T05:31:33.735Z"
   },
   {
    "duration": 69,
    "start_time": "2023-12-28T05:32:37.499Z"
   },
   {
    "duration": 10,
    "start_time": "2023-12-28T05:33:42.190Z"
   },
   {
    "duration": 14,
    "start_time": "2023-12-28T05:37:55.400Z"
   },
   {
    "duration": 388,
    "start_time": "2023-12-28T05:38:09.906Z"
   },
   {
    "duration": 20,
    "start_time": "2023-12-28T05:47:33.222Z"
   },
   {
    "duration": 16,
    "start_time": "2023-12-28T05:47:38.104Z"
   },
   {
    "duration": 14,
    "start_time": "2023-12-28T05:48:55.915Z"
   },
   {
    "duration": 1212,
    "start_time": "2023-12-28T05:50:45.700Z"
   },
   {
    "duration": 41,
    "start_time": "2023-12-28T05:50:46.913Z"
   },
   {
    "duration": 17,
    "start_time": "2023-12-28T05:50:46.956Z"
   },
   {
    "duration": 13,
    "start_time": "2023-12-28T05:50:46.975Z"
   },
   {
    "duration": 5,
    "start_time": "2023-12-28T05:50:46.989Z"
   },
   {
    "duration": 14,
    "start_time": "2023-12-28T05:50:46.996Z"
   },
   {
    "duration": 20,
    "start_time": "2023-12-28T05:50:47.012Z"
   },
   {
    "duration": 3,
    "start_time": "2023-12-28T05:50:47.034Z"
   },
   {
    "duration": 40,
    "start_time": "2023-12-28T05:50:47.039Z"
   },
   {
    "duration": 13,
    "start_time": "2023-12-28T05:50:47.081Z"
   },
   {
    "duration": 27,
    "start_time": "2023-12-28T05:50:47.096Z"
   },
   {
    "duration": 13,
    "start_time": "2023-12-28T05:50:47.125Z"
   },
   {
    "duration": 21,
    "start_time": "2023-12-28T05:50:47.139Z"
   },
   {
    "duration": 12,
    "start_time": "2023-12-28T05:50:47.162Z"
   },
   {
    "duration": 5,
    "start_time": "2023-12-28T05:50:47.176Z"
   },
   {
    "duration": 5,
    "start_time": "2023-12-28T05:50:47.222Z"
   },
   {
    "duration": 7,
    "start_time": "2023-12-28T05:50:47.229Z"
   },
   {
    "duration": 8,
    "start_time": "2023-12-28T05:50:47.237Z"
   },
   {
    "duration": 4,
    "start_time": "2023-12-28T05:50:47.247Z"
   },
   {
    "duration": 4,
    "start_time": "2023-12-28T05:50:47.253Z"
   },
   {
    "duration": 4,
    "start_time": "2023-12-28T05:50:47.259Z"
   },
   {
    "duration": 5,
    "start_time": "2023-12-28T05:50:47.264Z"
   },
   {
    "duration": 5,
    "start_time": "2023-12-28T05:50:47.270Z"
   },
   {
    "duration": 46,
    "start_time": "2023-12-28T05:50:47.277Z"
   },
   {
    "duration": 7,
    "start_time": "2023-12-28T05:50:47.324Z"
   },
   {
    "duration": 69,
    "start_time": "2023-12-28T05:50:47.333Z"
   },
   {
    "duration": 28,
    "start_time": "2023-12-28T05:50:47.404Z"
   },
   {
    "duration": 16,
    "start_time": "2023-12-28T05:50:47.446Z"
   },
   {
    "duration": 14,
    "start_time": "2023-12-28T05:50:47.464Z"
   },
   {
    "duration": 19,
    "start_time": "2023-12-28T05:50:47.480Z"
   },
   {
    "duration": 38,
    "start_time": "2023-12-28T05:50:47.500Z"
   },
   {
    "duration": 21,
    "start_time": "2023-12-28T05:50:47.540Z"
   },
   {
    "duration": 860,
    "start_time": "2023-12-28T05:50:47.562Z"
   },
   {
    "duration": 4,
    "start_time": "2023-12-28T05:50:48.424Z"
   },
   {
    "duration": 40,
    "start_time": "2023-12-28T05:50:48.429Z"
   },
   {
    "duration": 22,
    "start_time": "2023-12-28T05:50:48.470Z"
   },
   {
    "duration": 4,
    "start_time": "2023-12-28T05:50:48.494Z"
   },
   {
    "duration": 246,
    "start_time": "2023-12-28T05:50:48.499Z"
   },
   {
    "duration": 1297,
    "start_time": "2023-12-28T05:50:48.748Z"
   },
   {
    "duration": 0,
    "start_time": "2023-12-28T05:50:50.047Z"
   },
   {
    "duration": 0,
    "start_time": "2023-12-28T05:50:50.048Z"
   },
   {
    "duration": 0,
    "start_time": "2023-12-28T05:50:50.049Z"
   },
   {
    "duration": 0,
    "start_time": "2023-12-28T05:50:50.051Z"
   },
   {
    "duration": 0,
    "start_time": "2023-12-28T05:50:50.052Z"
   },
   {
    "duration": 0,
    "start_time": "2023-12-28T05:50:50.053Z"
   },
   {
    "duration": 0,
    "start_time": "2023-12-28T05:50:50.054Z"
   },
   {
    "duration": 0,
    "start_time": "2023-12-28T05:50:50.055Z"
   },
   {
    "duration": 0,
    "start_time": "2023-12-28T05:50:50.056Z"
   },
   {
    "duration": 0,
    "start_time": "2023-12-28T05:50:50.057Z"
   },
   {
    "duration": 0,
    "start_time": "2023-12-28T05:50:50.058Z"
   },
   {
    "duration": 0,
    "start_time": "2023-12-28T05:50:50.059Z"
   },
   {
    "duration": 0,
    "start_time": "2023-12-28T05:50:50.060Z"
   },
   {
    "duration": 0,
    "start_time": "2023-12-28T05:50:50.061Z"
   },
   {
    "duration": 0,
    "start_time": "2023-12-28T05:50:50.062Z"
   },
   {
    "duration": 0,
    "start_time": "2023-12-28T05:50:50.063Z"
   },
   {
    "duration": 0,
    "start_time": "2023-12-28T05:50:50.064Z"
   },
   {
    "duration": 0,
    "start_time": "2023-12-28T05:50:50.065Z"
   },
   {
    "duration": 0,
    "start_time": "2023-12-28T05:50:50.066Z"
   },
   {
    "duration": 0,
    "start_time": "2023-12-28T05:50:50.067Z"
   },
   {
    "duration": 0,
    "start_time": "2023-12-28T05:50:50.069Z"
   },
   {
    "duration": 1,
    "start_time": "2023-12-28T05:50:50.069Z"
   },
   {
    "duration": 0,
    "start_time": "2023-12-28T05:50:50.070Z"
   },
   {
    "duration": 0,
    "start_time": "2023-12-28T05:50:50.072Z"
   },
   {
    "duration": 0,
    "start_time": "2023-12-28T05:50:50.073Z"
   },
   {
    "duration": 1165,
    "start_time": "2023-12-28T05:57:53.354Z"
   },
   {
    "duration": 1343,
    "start_time": "2023-12-28T05:58:24.769Z"
   },
   {
    "duration": 23,
    "start_time": "2023-12-28T05:58:33.304Z"
   },
   {
    "duration": 1146,
    "start_time": "2023-12-28T05:59:32.820Z"
   },
   {
    "duration": 42,
    "start_time": "2023-12-28T05:59:33.968Z"
   },
   {
    "duration": 16,
    "start_time": "2023-12-28T05:59:34.375Z"
   },
   {
    "duration": 13,
    "start_time": "2023-12-28T05:59:36.334Z"
   },
   {
    "duration": 4,
    "start_time": "2023-12-28T05:59:38.556Z"
   },
   {
    "duration": 12,
    "start_time": "2023-12-28T05:59:39.978Z"
   },
   {
    "duration": 13,
    "start_time": "2023-12-28T05:59:42.430Z"
   },
   {
    "duration": 4,
    "start_time": "2023-12-28T05:59:44.602Z"
   },
   {
    "duration": 37,
    "start_time": "2023-12-28T05:59:45.587Z"
   },
   {
    "duration": 4,
    "start_time": "2023-12-28T06:00:00.018Z"
   },
   {
    "duration": 35,
    "start_time": "2023-12-28T06:00:00.778Z"
   },
   {
    "duration": 12,
    "start_time": "2023-12-28T06:00:02.220Z"
   },
   {
    "duration": 4,
    "start_time": "2023-12-28T06:00:05.819Z"
   },
   {
    "duration": 12,
    "start_time": "2023-12-28T06:00:06.791Z"
   },
   {
    "duration": 19,
    "start_time": "2023-12-28T06:00:08.616Z"
   },
   {
    "duration": 12,
    "start_time": "2023-12-28T06:00:12.362Z"
   },
   {
    "duration": 4,
    "start_time": "2023-12-28T06:00:24.387Z"
   },
   {
    "duration": 4,
    "start_time": "2023-12-28T06:00:26.347Z"
   },
   {
    "duration": 4,
    "start_time": "2023-12-28T06:00:27.810Z"
   },
   {
    "duration": 5,
    "start_time": "2023-12-28T06:00:29.153Z"
   },
   {
    "duration": 4,
    "start_time": "2023-12-28T06:00:29.585Z"
   },
   {
    "duration": 4,
    "start_time": "2023-12-28T06:00:30.591Z"
   },
   {
    "duration": 4,
    "start_time": "2023-12-28T06:00:31.065Z"
   },
   {
    "duration": 4,
    "start_time": "2023-12-28T06:00:31.653Z"
   },
   {
    "duration": 4,
    "start_time": "2023-12-28T06:00:38.178Z"
   },
   {
    "duration": 4,
    "start_time": "2023-12-28T06:00:41.241Z"
   },
   {
    "duration": 7,
    "start_time": "2023-12-28T06:00:44.958Z"
   },
   {
    "duration": 80,
    "start_time": "2023-12-28T06:00:46.947Z"
   },
   {
    "duration": 12,
    "start_time": "2023-12-28T06:00:57.915Z"
   },
   {
    "duration": 15,
    "start_time": "2023-12-28T06:01:04.223Z"
   },
   {
    "duration": 12,
    "start_time": "2023-12-28T06:01:06.172Z"
   },
   {
    "duration": 17,
    "start_time": "2023-12-28T06:01:10.306Z"
   },
   {
    "duration": 13,
    "start_time": "2023-12-28T06:01:17.147Z"
   },
   {
    "duration": 18,
    "start_time": "2023-12-28T06:03:29.873Z"
   },
   {
    "duration": 99,
    "start_time": "2023-12-28T06:03:36.549Z"
   },
   {
    "duration": 15,
    "start_time": "2023-12-28T06:03:51.256Z"
   },
   {
    "duration": 13,
    "start_time": "2023-12-28T06:04:27.257Z"
   },
   {
    "duration": 15,
    "start_time": "2023-12-28T06:05:10.756Z"
   },
   {
    "duration": 5,
    "start_time": "2023-12-28T06:06:53.638Z"
   },
   {
    "duration": 15,
    "start_time": "2023-12-28T06:07:02.954Z"
   },
   {
    "duration": 1481,
    "start_time": "2023-12-28T06:08:00.327Z"
   },
   {
    "duration": 1158,
    "start_time": "2023-12-28T06:08:35.248Z"
   },
   {
    "duration": 40,
    "start_time": "2023-12-28T06:08:36.408Z"
   },
   {
    "duration": 16,
    "start_time": "2023-12-28T06:08:36.915Z"
   },
   {
    "duration": 14,
    "start_time": "2023-12-28T06:08:37.564Z"
   },
   {
    "duration": 4,
    "start_time": "2023-12-28T06:08:38.809Z"
   },
   {
    "duration": 11,
    "start_time": "2023-12-28T06:08:40.013Z"
   },
   {
    "duration": 13,
    "start_time": "2023-12-28T06:08:43.582Z"
   },
   {
    "duration": 4,
    "start_time": "2023-12-28T06:08:45.684Z"
   },
   {
    "duration": 38,
    "start_time": "2023-12-28T06:08:46.379Z"
   },
   {
    "duration": 32,
    "start_time": "2023-12-28T06:08:48.687Z"
   },
   {
    "duration": 5,
    "start_time": "2023-12-28T06:08:50.502Z"
   },
   {
    "duration": 12,
    "start_time": "2023-12-28T06:08:52.332Z"
   },
   {
    "duration": 19,
    "start_time": "2023-12-28T06:08:53.494Z"
   },
   {
    "duration": 11,
    "start_time": "2023-12-28T06:08:54.168Z"
   },
   {
    "duration": 4,
    "start_time": "2023-12-28T06:08:55.163Z"
   },
   {
    "duration": 4,
    "start_time": "2023-12-28T06:08:55.567Z"
   },
   {
    "duration": 5,
    "start_time": "2023-12-28T06:08:56.486Z"
   },
   {
    "duration": 7,
    "start_time": "2023-12-28T06:08:57.978Z"
   },
   {
    "duration": 5,
    "start_time": "2023-12-28T06:09:04.155Z"
   },
   {
    "duration": 5,
    "start_time": "2023-12-28T06:09:06.074Z"
   },
   {
    "duration": 5,
    "start_time": "2023-12-28T06:09:06.727Z"
   },
   {
    "duration": 4,
    "start_time": "2023-12-28T06:09:08.080Z"
   },
   {
    "duration": 5,
    "start_time": "2023-12-28T06:09:11.178Z"
   },
   {
    "duration": 4,
    "start_time": "2023-12-28T06:09:11.645Z"
   },
   {
    "duration": 8,
    "start_time": "2023-12-28T06:09:12.507Z"
   },
   {
    "duration": 75,
    "start_time": "2023-12-28T06:09:19.326Z"
   },
   {
    "duration": 12,
    "start_time": "2023-12-28T06:09:27.878Z"
   },
   {
    "duration": 17,
    "start_time": "2023-12-28T06:09:39.263Z"
   },
   {
    "duration": 12,
    "start_time": "2023-12-28T06:09:43.028Z"
   },
   {
    "duration": 15,
    "start_time": "2023-12-28T06:09:46.695Z"
   },
   {
    "duration": 11,
    "start_time": "2023-12-28T06:09:47.641Z"
   },
   {
    "duration": 13,
    "start_time": "2023-12-28T06:10:09.154Z"
   },
   {
    "duration": 3,
    "start_time": "2023-12-28T06:10:15.382Z"
   },
   {
    "duration": 15,
    "start_time": "2023-12-28T06:10:27.824Z"
   },
   {
    "duration": 21,
    "start_time": "2023-12-28T06:10:50.380Z"
   },
   {
    "duration": 23,
    "start_time": "2023-12-28T06:11:27.504Z"
   },
   {
    "duration": 817,
    "start_time": "2023-12-28T06:12:25.937Z"
   },
   {
    "duration": 4,
    "start_time": "2023-12-28T06:12:30.298Z"
   },
   {
    "duration": 23,
    "start_time": "2023-12-28T06:12:32.045Z"
   },
   {
    "duration": 31,
    "start_time": "2023-12-28T06:12:40.690Z"
   },
   {
    "duration": 7,
    "start_time": "2023-12-28T06:12:43.619Z"
   },
   {
    "duration": 338,
    "start_time": "2023-12-28T06:13:23.658Z"
   },
   {
    "duration": 125,
    "start_time": "2023-12-28T06:13:28.245Z"
   },
   {
    "duration": 128,
    "start_time": "2023-12-28T06:13:35.221Z"
   },
   {
    "duration": 492,
    "start_time": "2023-12-28T06:18:23.386Z"
   },
   {
    "duration": 29,
    "start_time": "2023-12-28T06:18:53.904Z"
   },
   {
    "duration": 1160,
    "start_time": "2023-12-28T06:19:08.022Z"
   },
   {
    "duration": 53,
    "start_time": "2023-12-28T06:19:09.184Z"
   },
   {
    "duration": 17,
    "start_time": "2023-12-28T06:19:12.900Z"
   },
   {
    "duration": 12,
    "start_time": "2023-12-28T06:19:13.338Z"
   },
   {
    "duration": 4,
    "start_time": "2023-12-28T06:19:14.013Z"
   },
   {
    "duration": 12,
    "start_time": "2023-12-28T06:19:15.494Z"
   },
   {
    "duration": 13,
    "start_time": "2023-12-28T06:19:17.383Z"
   },
   {
    "duration": 4,
    "start_time": "2023-12-28T06:19:17.914Z"
   },
   {
    "duration": 40,
    "start_time": "2023-12-28T06:19:19.428Z"
   },
   {
    "duration": 13,
    "start_time": "2023-12-28T06:19:20.909Z"
   },
   {
    "duration": 4,
    "start_time": "2023-12-28T06:19:21.944Z"
   },
   {
    "duration": 13,
    "start_time": "2023-12-28T06:19:24.638Z"
   },
   {
    "duration": 19,
    "start_time": "2023-12-28T06:19:26.889Z"
   },
   {
    "duration": 11,
    "start_time": "2023-12-28T06:19:29.029Z"
   },
   {
    "duration": 4,
    "start_time": "2023-12-28T06:19:30.402Z"
   },
   {
    "duration": 5,
    "start_time": "2023-12-28T06:19:33.954Z"
   },
   {
    "duration": 4,
    "start_time": "2023-12-28T06:19:37.246Z"
   },
   {
    "duration": 4,
    "start_time": "2023-12-28T06:19:46.207Z"
   },
   {
    "duration": 4,
    "start_time": "2023-12-28T06:19:46.848Z"
   },
   {
    "duration": 4,
    "start_time": "2023-12-28T06:19:48.745Z"
   },
   {
    "duration": 4,
    "start_time": "2023-12-28T06:19:50.636Z"
   },
   {
    "duration": 5,
    "start_time": "2023-12-28T06:19:52.459Z"
   },
   {
    "duration": 5,
    "start_time": "2023-12-28T06:19:53.590Z"
   },
   {
    "duration": 3,
    "start_time": "2023-12-28T06:19:54.018Z"
   },
   {
    "duration": 9,
    "start_time": "2023-12-28T06:19:54.943Z"
   },
   {
    "duration": 68,
    "start_time": "2023-12-28T06:19:55.913Z"
   },
   {
    "duration": 12,
    "start_time": "2023-12-28T06:19:58.274Z"
   },
   {
    "duration": 15,
    "start_time": "2023-12-28T06:19:59.389Z"
   },
   {
    "duration": 13,
    "start_time": "2023-12-28T06:20:00.155Z"
   },
   {
    "duration": 15,
    "start_time": "2023-12-28T06:20:03.401Z"
   },
   {
    "duration": 12,
    "start_time": "2023-12-28T06:20:04.744Z"
   },
   {
    "duration": 16,
    "start_time": "2023-12-28T06:20:07.514Z"
   },
   {
    "duration": 20,
    "start_time": "2023-12-28T06:20:15.825Z"
   },
   {
    "duration": 503,
    "start_time": "2023-12-28T06:20:20.432Z"
   },
   {
    "duration": 2646,
    "start_time": "2023-12-28T06:21:08.195Z"
   },
   {
    "duration": 2514,
    "start_time": "2023-12-28T06:25:44.289Z"
   },
   {
    "duration": 787,
    "start_time": "2023-12-28T06:26:13.244Z"
   },
   {
    "duration": 3,
    "start_time": "2023-12-28T06:26:24.583Z"
   },
   {
    "duration": 17,
    "start_time": "2023-12-28T06:26:28.311Z"
   },
   {
    "duration": 21,
    "start_time": "2023-12-28T06:26:31.254Z"
   },
   {
    "duration": 5,
    "start_time": "2023-12-28T06:26:34.819Z"
   },
   {
    "duration": 225,
    "start_time": "2023-12-28T06:27:01.270Z"
   },
   {
    "duration": 116,
    "start_time": "2023-12-28T06:27:08.497Z"
   },
   {
    "duration": 116,
    "start_time": "2023-12-28T06:27:12.065Z"
   },
   {
    "duration": 228,
    "start_time": "2023-12-28T06:27:23.773Z"
   },
   {
    "duration": 247,
    "start_time": "2023-12-28T06:27:35.359Z"
   },
   {
    "duration": 231,
    "start_time": "2023-12-28T06:29:32.893Z"
   },
   {
    "duration": 326,
    "start_time": "2023-12-28T06:29:51.227Z"
   },
   {
    "duration": 1190,
    "start_time": "2023-12-28T06:30:43.352Z"
   },
   {
    "duration": 27088,
    "start_time": "2023-12-28T06:30:53.569Z"
   },
   {
    "duration": 1134,
    "start_time": "2023-12-28T06:42:39.449Z"
   },
   {
    "duration": 42,
    "start_time": "2023-12-28T06:42:40.585Z"
   },
   {
    "duration": 17,
    "start_time": "2023-12-28T06:42:40.629Z"
   },
   {
    "duration": 13,
    "start_time": "2023-12-28T06:42:40.824Z"
   },
   {
    "duration": 4,
    "start_time": "2023-12-28T06:42:41.482Z"
   },
   {
    "duration": 12,
    "start_time": "2023-12-28T06:42:42.654Z"
   },
   {
    "duration": 14,
    "start_time": "2023-12-28T06:42:43.969Z"
   },
   {
    "duration": 4,
    "start_time": "2023-12-28T06:42:44.305Z"
   },
   {
    "duration": 38,
    "start_time": "2023-12-28T06:42:44.706Z"
   },
   {
    "duration": 12,
    "start_time": "2023-12-28T06:42:45.555Z"
   },
   {
    "duration": 5,
    "start_time": "2023-12-28T06:42:46.579Z"
   },
   {
    "duration": 13,
    "start_time": "2023-12-28T06:42:52.655Z"
   },
   {
    "duration": 20,
    "start_time": "2023-12-28T06:42:53.333Z"
   },
   {
    "duration": 12,
    "start_time": "2023-12-28T06:42:53.715Z"
   },
   {
    "duration": 5,
    "start_time": "2023-12-28T06:42:54.448Z"
   },
   {
    "duration": 6,
    "start_time": "2023-12-28T06:42:54.797Z"
   },
   {
    "duration": 4,
    "start_time": "2023-12-28T06:42:55.492Z"
   },
   {
    "duration": 5,
    "start_time": "2023-12-28T06:42:56.195Z"
   },
   {
    "duration": 4,
    "start_time": "2023-12-28T06:42:56.550Z"
   },
   {
    "duration": 4,
    "start_time": "2023-12-28T06:42:57.227Z"
   },
   {
    "duration": 5,
    "start_time": "2023-12-28T06:42:57.540Z"
   },
   {
    "duration": 4,
    "start_time": "2023-12-28T06:42:57.862Z"
   },
   {
    "duration": 5,
    "start_time": "2023-12-28T06:42:58.537Z"
   },
   {
    "duration": 4,
    "start_time": "2023-12-28T06:42:59.118Z"
   },
   {
    "duration": 7,
    "start_time": "2023-12-28T06:42:59.953Z"
   },
   {
    "duration": 68,
    "start_time": "2023-12-28T06:43:00.901Z"
   },
   {
    "duration": 12,
    "start_time": "2023-12-28T06:43:04.945Z"
   },
   {
    "duration": 17,
    "start_time": "2023-12-28T06:43:05.951Z"
   },
   {
    "duration": 12,
    "start_time": "2023-12-28T06:43:07.232Z"
   },
   {
    "duration": 15,
    "start_time": "2023-12-28T06:43:09.346Z"
   },
   {
    "duration": 11,
    "start_time": "2023-12-28T06:43:09.691Z"
   },
   {
    "duration": 13,
    "start_time": "2023-12-28T06:43:14.370Z"
   },
   {
    "duration": 22,
    "start_time": "2023-12-28T06:43:16.557Z"
   },
   {
    "duration": 799,
    "start_time": "2023-12-28T06:43:19.825Z"
   },
   {
    "duration": 750,
    "start_time": "2023-12-28T06:43:22.706Z"
   },
   {
    "duration": 3,
    "start_time": "2023-12-28T06:43:25.333Z"
   },
   {
    "duration": 19,
    "start_time": "2023-12-28T06:43:26.171Z"
   },
   {
    "duration": 22,
    "start_time": "2023-12-28T06:43:26.821Z"
   },
   {
    "duration": 4,
    "start_time": "2023-12-28T06:43:28.580Z"
   },
   {
    "duration": 254,
    "start_time": "2023-12-28T06:44:08.258Z"
   },
   {
    "duration": 6,
    "start_time": "2023-12-28T06:46:19.287Z"
   },
   {
    "duration": 6,
    "start_time": "2023-12-28T06:47:00.672Z"
   },
   {
    "duration": 218,
    "start_time": "2023-12-28T06:48:23.528Z"
   },
   {
    "duration": 350,
    "start_time": "2023-12-28T06:48:40.221Z"
   },
   {
    "duration": 214,
    "start_time": "2023-12-28T06:49:39.173Z"
   },
   {
    "duration": 327,
    "start_time": "2023-12-28T06:51:58.940Z"
   },
   {
    "duration": 232,
    "start_time": "2023-12-28T06:52:08.571Z"
   },
   {
    "duration": 171,
    "start_time": "2023-12-28T06:52:35.390Z"
   },
   {
    "duration": 159,
    "start_time": "2023-12-28T06:52:39.769Z"
   },
   {
    "duration": 193,
    "start_time": "2023-12-28T06:52:44.606Z"
   },
   {
    "duration": 208,
    "start_time": "2023-12-28T06:52:50.694Z"
   },
   {
    "duration": 312,
    "start_time": "2023-12-28T06:55:00.741Z"
   },
   {
    "duration": 12,
    "start_time": "2023-12-28T06:58:11.220Z"
   },
   {
    "duration": 8,
    "start_time": "2023-12-28T07:00:05.423Z"
   },
   {
    "duration": 4,
    "start_time": "2023-12-28T07:00:50.289Z"
   },
   {
    "duration": 257,
    "start_time": "2023-12-28T07:00:51.107Z"
   },
   {
    "duration": 1208,
    "start_time": "2023-12-28T08:19:49.294Z"
   },
   {
    "duration": 39,
    "start_time": "2023-12-28T08:19:50.505Z"
   },
   {
    "duration": 16,
    "start_time": "2023-12-28T08:19:50.546Z"
   },
   {
    "duration": 13,
    "start_time": "2023-12-28T08:19:50.975Z"
   },
   {
    "duration": 4,
    "start_time": "2023-12-28T08:19:52.533Z"
   },
   {
    "duration": 17,
    "start_time": "2023-12-28T08:19:53.840Z"
   },
   {
    "duration": 14,
    "start_time": "2023-12-28T08:19:56.198Z"
   },
   {
    "duration": 4,
    "start_time": "2023-12-28T08:19:56.680Z"
   },
   {
    "duration": 37,
    "start_time": "2023-12-28T08:19:57.131Z"
   },
   {
    "duration": 17,
    "start_time": "2023-12-28T08:19:58.499Z"
   },
   {
    "duration": 5,
    "start_time": "2023-12-28T08:20:00.725Z"
   },
   {
    "duration": 16,
    "start_time": "2023-12-28T08:20:02.009Z"
   },
   {
    "duration": 29,
    "start_time": "2023-12-28T08:20:03.316Z"
   },
   {
    "duration": 17,
    "start_time": "2023-12-28T08:20:04.118Z"
   },
   {
    "duration": 4,
    "start_time": "2023-12-28T08:20:09.712Z"
   },
   {
    "duration": 4,
    "start_time": "2023-12-28T08:20:10.891Z"
   },
   {
    "duration": 5,
    "start_time": "2023-12-28T08:20:12.887Z"
   },
   {
    "duration": 5,
    "start_time": "2023-12-28T08:20:17.156Z"
   },
   {
    "duration": 5,
    "start_time": "2023-12-28T08:20:18.180Z"
   },
   {
    "duration": 5,
    "start_time": "2023-12-28T08:20:22.438Z"
   },
   {
    "duration": 4,
    "start_time": "2023-12-28T08:20:23.040Z"
   },
   {
    "duration": 5,
    "start_time": "2023-12-28T08:20:24.092Z"
   },
   {
    "duration": 5,
    "start_time": "2023-12-28T08:20:25.748Z"
   },
   {
    "duration": 5,
    "start_time": "2023-12-28T08:20:26.781Z"
   },
   {
    "duration": 8,
    "start_time": "2023-12-28T08:20:32.064Z"
   },
   {
    "duration": 67,
    "start_time": "2023-12-28T08:20:34.360Z"
   },
   {
    "duration": 5,
    "start_time": "2023-12-28T08:20:35.511Z"
   },
   {
    "duration": 11,
    "start_time": "2023-12-28T08:20:36.821Z"
   },
   {
    "duration": 16,
    "start_time": "2023-12-28T08:20:38.980Z"
   },
   {
    "duration": 13,
    "start_time": "2023-12-28T08:20:40.052Z"
   },
   {
    "duration": 15,
    "start_time": "2023-12-28T08:20:43.080Z"
   },
   {
    "duration": 6,
    "start_time": "2023-12-28T08:20:44.638Z"
   },
   {
    "duration": 12,
    "start_time": "2023-12-28T08:21:15.771Z"
   },
   {
    "duration": 20,
    "start_time": "2023-12-28T08:21:35.484Z"
   },
   {
    "duration": 23,
    "start_time": "2023-12-28T08:21:37.802Z"
   },
   {
    "duration": 2518,
    "start_time": "2023-12-28T08:21:39.285Z"
   },
   {
    "duration": 4,
    "start_time": "2023-12-28T08:21:57.015Z"
   },
   {
    "duration": 328,
    "start_time": "2023-12-28T08:21:57.665Z"
   },
   {
    "duration": 1207,
    "start_time": "2023-12-28T08:22:57.061Z"
   },
   {
    "duration": 39,
    "start_time": "2023-12-28T08:22:58.270Z"
   },
   {
    "duration": 16,
    "start_time": "2023-12-28T08:22:58.815Z"
   },
   {
    "duration": 13,
    "start_time": "2023-12-28T08:22:59.288Z"
   },
   {
    "duration": 4,
    "start_time": "2023-12-28T08:23:00.049Z"
   },
   {
    "duration": 15,
    "start_time": "2023-12-28T08:23:00.766Z"
   },
   {
    "duration": 13,
    "start_time": "2023-12-28T08:23:02.301Z"
   },
   {
    "duration": 4,
    "start_time": "2023-12-28T08:23:02.739Z"
   },
   {
    "duration": 56,
    "start_time": "2023-12-28T08:23:03.209Z"
   },
   {
    "duration": 14,
    "start_time": "2023-12-28T08:23:04.319Z"
   },
   {
    "duration": 5,
    "start_time": "2023-12-28T08:23:05.441Z"
   },
   {
    "duration": 12,
    "start_time": "2023-12-28T08:23:06.184Z"
   },
   {
    "duration": 20,
    "start_time": "2023-12-28T08:23:07.030Z"
   },
   {
    "duration": 12,
    "start_time": "2023-12-28T08:23:07.498Z"
   },
   {
    "duration": 4,
    "start_time": "2023-12-28T08:23:08.683Z"
   },
   {
    "duration": 4,
    "start_time": "2023-12-28T08:23:11.224Z"
   },
   {
    "duration": 5,
    "start_time": "2023-12-28T08:23:13.847Z"
   },
   {
    "duration": 5,
    "start_time": "2023-12-28T08:23:17.529Z"
   },
   {
    "duration": 5,
    "start_time": "2023-12-28T08:23:18.466Z"
   },
   {
    "duration": 4,
    "start_time": "2023-12-28T08:23:21.811Z"
   },
   {
    "duration": 4,
    "start_time": "2023-12-28T08:23:23.594Z"
   },
   {
    "duration": 5,
    "start_time": "2023-12-28T08:23:24.621Z"
   },
   {
    "duration": 5,
    "start_time": "2023-12-28T08:23:27.792Z"
   },
   {
    "duration": 5,
    "start_time": "2023-12-28T08:23:53.907Z"
   },
   {
    "duration": 10,
    "start_time": "2023-12-28T08:23:54.888Z"
   },
   {
    "duration": 75,
    "start_time": "2023-12-28T08:23:57.017Z"
   },
   {
    "duration": 4,
    "start_time": "2023-12-28T08:23:59.234Z"
   },
   {
    "duration": 12,
    "start_time": "2023-12-28T08:24:02.269Z"
   },
   {
    "duration": 17,
    "start_time": "2023-12-28T08:24:05.601Z"
   },
   {
    "duration": 14,
    "start_time": "2023-12-28T08:24:06.206Z"
   },
   {
    "duration": 17,
    "start_time": "2023-12-28T08:24:20.169Z"
   },
   {
    "duration": 6,
    "start_time": "2023-12-28T08:24:24.245Z"
   },
   {
    "duration": 16,
    "start_time": "2023-12-28T08:24:25.230Z"
   },
   {
    "duration": 18,
    "start_time": "2023-12-28T08:24:29.436Z"
   },
   {
    "duration": 28,
    "start_time": "2023-12-28T08:24:31.814Z"
   },
   {
    "duration": 2566,
    "start_time": "2023-12-28T08:25:03.153Z"
   },
   {
    "duration": 1152,
    "start_time": "2023-12-28T08:25:43.017Z"
   },
   {
    "duration": 41,
    "start_time": "2023-12-28T08:25:44.171Z"
   },
   {
    "duration": 17,
    "start_time": "2023-12-28T08:25:44.213Z"
   },
   {
    "duration": 13,
    "start_time": "2023-12-28T08:25:44.569Z"
   },
   {
    "duration": 4,
    "start_time": "2023-12-28T08:25:45.374Z"
   },
   {
    "duration": 17,
    "start_time": "2023-12-28T08:25:46.129Z"
   },
   {
    "duration": 19,
    "start_time": "2023-12-28T08:25:47.575Z"
   },
   {
    "duration": 4,
    "start_time": "2023-12-28T08:25:48.011Z"
   },
   {
    "duration": 40,
    "start_time": "2023-12-28T08:25:48.358Z"
   },
   {
    "duration": 12,
    "start_time": "2023-12-28T08:25:49.112Z"
   },
   {
    "duration": 4,
    "start_time": "2023-12-28T08:25:49.875Z"
   },
   {
    "duration": 12,
    "start_time": "2023-12-28T08:25:50.633Z"
   },
   {
    "duration": 28,
    "start_time": "2023-12-28T08:25:51.461Z"
   },
   {
    "duration": 17,
    "start_time": "2023-12-28T08:25:51.881Z"
   },
   {
    "duration": 5,
    "start_time": "2023-12-28T08:25:52.664Z"
   },
   {
    "duration": 7,
    "start_time": "2023-12-28T08:25:53.065Z"
   },
   {
    "duration": 5,
    "start_time": "2023-12-28T08:25:53.897Z"
   },
   {
    "duration": 5,
    "start_time": "2023-12-28T08:25:54.635Z"
   },
   {
    "duration": 6,
    "start_time": "2023-12-28T08:25:54.979Z"
   },
   {
    "duration": 3,
    "start_time": "2023-12-28T08:25:55.868Z"
   },
   {
    "duration": 5,
    "start_time": "2023-12-28T08:25:56.249Z"
   },
   {
    "duration": 6,
    "start_time": "2023-12-28T08:25:56.641Z"
   },
   {
    "duration": 6,
    "start_time": "2023-12-28T08:25:57.867Z"
   },
   {
    "duration": 4,
    "start_time": "2023-12-28T08:25:59.015Z"
   },
   {
    "duration": 7,
    "start_time": "2023-12-28T08:26:00.320Z"
   },
   {
    "duration": 81,
    "start_time": "2023-12-28T08:26:01.400Z"
   },
   {
    "duration": 5,
    "start_time": "2023-12-28T08:26:04.860Z"
   },
   {
    "duration": 12,
    "start_time": "2023-12-28T08:26:05.559Z"
   },
   {
    "duration": 16,
    "start_time": "2023-12-28T08:26:06.347Z"
   },
   {
    "duration": 12,
    "start_time": "2023-12-28T08:26:06.787Z"
   },
   {
    "duration": 17,
    "start_time": "2023-12-28T08:26:09.198Z"
   },
   {
    "duration": 4,
    "start_time": "2023-12-28T08:26:10.907Z"
   },
   {
    "duration": 12,
    "start_time": "2023-12-28T08:26:11.838Z"
   },
   {
    "duration": 14,
    "start_time": "2023-12-28T08:26:15.792Z"
   },
   {
    "duration": 19,
    "start_time": "2023-12-28T08:26:17.391Z"
   },
   {
    "duration": 5,
    "start_time": "2023-12-28T08:26:24.110Z"
   },
   {
    "duration": 299,
    "start_time": "2023-12-28T08:26:24.919Z"
   },
   {
    "duration": 1236,
    "start_time": "2023-12-28T08:30:23.239Z"
   },
   {
    "duration": 39,
    "start_time": "2023-12-28T08:30:24.477Z"
   },
   {
    "duration": 28,
    "start_time": "2023-12-28T08:30:24.517Z"
   },
   {
    "duration": 23,
    "start_time": "2023-12-28T08:30:24.822Z"
   },
   {
    "duration": 6,
    "start_time": "2023-12-28T08:30:25.941Z"
   },
   {
    "duration": 20,
    "start_time": "2023-12-28T08:30:26.715Z"
   },
   {
    "duration": 23,
    "start_time": "2023-12-28T08:30:28.311Z"
   },
   {
    "duration": 4,
    "start_time": "2023-12-28T08:30:28.876Z"
   },
   {
    "duration": 44,
    "start_time": "2023-12-28T08:30:29.461Z"
   },
   {
    "duration": 13,
    "start_time": "2023-12-28T08:30:30.333Z"
   },
   {
    "duration": 5,
    "start_time": "2023-12-28T08:30:31.636Z"
   },
   {
    "duration": 11,
    "start_time": "2023-12-28T08:30:33.465Z"
   },
   {
    "duration": 19,
    "start_time": "2023-12-28T08:30:34.668Z"
   },
   {
    "duration": 12,
    "start_time": "2023-12-28T08:30:35.309Z"
   },
   {
    "duration": 5,
    "start_time": "2023-12-28T08:30:38.076Z"
   },
   {
    "duration": 5,
    "start_time": "2023-12-28T08:30:40.045Z"
   },
   {
    "duration": 5,
    "start_time": "2023-12-28T08:30:42.035Z"
   },
   {
    "duration": 6,
    "start_time": "2023-12-28T08:30:43.227Z"
   },
   {
    "duration": 5,
    "start_time": "2023-12-28T08:30:43.606Z"
   },
   {
    "duration": 5,
    "start_time": "2023-12-28T08:30:45.475Z"
   },
   {
    "duration": 9,
    "start_time": "2023-12-28T08:30:46.035Z"
   },
   {
    "duration": 4,
    "start_time": "2023-12-28T08:31:47.296Z"
   },
   {
    "duration": 6,
    "start_time": "2023-12-28T08:35:20.261Z"
   },
   {
    "duration": 5,
    "start_time": "2023-12-28T08:36:23.849Z"
   },
   {
    "duration": 6,
    "start_time": "2023-12-28T08:36:24.788Z"
   },
   {
    "duration": 7,
    "start_time": "2023-12-28T08:36:28.924Z"
   },
   {
    "duration": 4,
    "start_time": "2023-12-28T08:36:29.696Z"
   },
   {
    "duration": 6,
    "start_time": "2023-12-28T08:36:30.635Z"
   },
   {
    "duration": 5,
    "start_time": "2023-12-28T08:36:34.737Z"
   },
   {
    "duration": 9,
    "start_time": "2023-12-28T08:36:35.628Z"
   },
   {
    "duration": 9,
    "start_time": "2023-12-28T08:36:37.894Z"
   },
   {
    "duration": 89,
    "start_time": "2023-12-28T08:37:33.517Z"
   },
   {
    "duration": 4,
    "start_time": "2023-12-28T08:37:35.267Z"
   },
   {
    "duration": 18,
    "start_time": "2023-12-28T08:37:36.829Z"
   },
   {
    "duration": 18,
    "start_time": "2023-12-28T08:37:39.931Z"
   },
   {
    "duration": 13,
    "start_time": "2023-12-28T08:37:43.574Z"
   },
   {
    "duration": 13,
    "start_time": "2023-12-28T08:38:17.613Z"
   },
   {
    "duration": 15,
    "start_time": "2023-12-28T08:38:19.003Z"
   },
   {
    "duration": 12,
    "start_time": "2023-12-28T08:38:21.252Z"
   },
   {
    "duration": 16,
    "start_time": "2023-12-28T08:38:29.574Z"
   },
   {
    "duration": 5,
    "start_time": "2023-12-28T08:38:31.379Z"
   },
   {
    "duration": 13,
    "start_time": "2023-12-28T08:38:32.881Z"
   },
   {
    "duration": 13,
    "start_time": "2023-12-28T08:38:39.103Z"
   },
   {
    "duration": 29,
    "start_time": "2023-12-28T08:38:40.108Z"
   },
   {
    "duration": 8,
    "start_time": "2023-12-28T08:40:11.234Z"
   },
   {
    "duration": 97,
    "start_time": "2023-12-28T08:40:12.133Z"
   },
   {
    "duration": 306,
    "start_time": "2023-12-28T08:40:21.287Z"
   },
   {
    "duration": 4,
    "start_time": "2023-12-28T08:40:43.545Z"
   },
   {
    "duration": 199,
    "start_time": "2023-12-28T08:40:44.353Z"
   },
   {
    "duration": 6,
    "start_time": "2023-12-28T08:40:50.413Z"
   },
   {
    "duration": 179,
    "start_time": "2023-12-28T08:40:50.917Z"
   },
   {
    "duration": 1252,
    "start_time": "2023-12-28T08:45:18.119Z"
   },
   {
    "duration": 40,
    "start_time": "2023-12-28T08:45:19.373Z"
   },
   {
    "duration": 21,
    "start_time": "2023-12-28T08:45:19.414Z"
   },
   {
    "duration": 13,
    "start_time": "2023-12-28T08:45:20.057Z"
   },
   {
    "duration": 4,
    "start_time": "2023-12-28T08:45:20.440Z"
   },
   {
    "duration": 11,
    "start_time": "2023-12-28T08:45:21.146Z"
   },
   {
    "duration": 13,
    "start_time": "2023-12-28T08:45:22.581Z"
   },
   {
    "duration": 109,
    "start_time": "2023-12-28T08:45:22.952Z"
   },
   {
    "duration": 43,
    "start_time": "2023-12-28T08:45:23.287Z"
   },
   {
    "duration": 5,
    "start_time": "2023-12-28T08:45:57.369Z"
   },
   {
    "duration": 37,
    "start_time": "2023-12-28T08:45:59.764Z"
   },
   {
    "duration": 11,
    "start_time": "2023-12-28T08:46:01.270Z"
   },
   {
    "duration": 5,
    "start_time": "2023-12-28T08:46:01.875Z"
   },
   {
    "duration": 10,
    "start_time": "2023-12-28T08:46:02.466Z"
   },
   {
    "duration": 17,
    "start_time": "2023-12-28T08:46:03.069Z"
   },
   {
    "duration": 11,
    "start_time": "2023-12-28T08:46:03.454Z"
   },
   {
    "duration": 4,
    "start_time": "2023-12-28T08:46:04.013Z"
   },
   {
    "duration": 5,
    "start_time": "2023-12-28T08:46:04.393Z"
   },
   {
    "duration": 4,
    "start_time": "2023-12-28T08:46:04.956Z"
   },
   {
    "duration": 5,
    "start_time": "2023-12-28T08:46:05.634Z"
   },
   {
    "duration": 3,
    "start_time": "2023-12-28T08:46:06.345Z"
   },
   {
    "duration": 4,
    "start_time": "2023-12-28T08:46:07.190Z"
   },
   {
    "duration": 5,
    "start_time": "2023-12-28T08:46:07.998Z"
   },
   {
    "duration": 5,
    "start_time": "2023-12-28T08:46:08.375Z"
   },
   {
    "duration": 4,
    "start_time": "2023-12-28T08:46:08.749Z"
   },
   {
    "duration": 6,
    "start_time": "2023-12-28T08:46:09.447Z"
   },
   {
    "duration": 4,
    "start_time": "2023-12-28T08:46:10.096Z"
   },
   {
    "duration": 11,
    "start_time": "2023-12-28T08:46:10.740Z"
   },
   {
    "duration": 75,
    "start_time": "2023-12-28T08:46:11.456Z"
   },
   {
    "duration": 5,
    "start_time": "2023-12-28T08:46:12.316Z"
   },
   {
    "duration": 14,
    "start_time": "2023-12-28T08:46:13.319Z"
   },
   {
    "duration": 15,
    "start_time": "2023-12-28T08:46:13.951Z"
   },
   {
    "duration": 13,
    "start_time": "2023-12-28T08:46:14.258Z"
   },
   {
    "duration": 15,
    "start_time": "2023-12-28T08:46:15.554Z"
   },
   {
    "duration": 5,
    "start_time": "2023-12-28T08:46:16.454Z"
   },
   {
    "duration": 12,
    "start_time": "2023-12-28T08:46:17.258Z"
   },
   {
    "duration": 13,
    "start_time": "2023-12-28T08:46:19.147Z"
   },
   {
    "duration": 20,
    "start_time": "2023-12-28T08:46:19.733Z"
   },
   {
    "duration": 2651,
    "start_time": "2023-12-28T08:46:26.419Z"
   },
   {
    "duration": 4,
    "start_time": "2023-12-28T08:46:49.478Z"
   },
   {
    "duration": 1128,
    "start_time": "2023-12-28T09:09:25.376Z"
   },
   {
    "duration": 49,
    "start_time": "2023-12-28T09:09:26.505Z"
   },
   {
    "duration": 16,
    "start_time": "2023-12-28T09:09:27.851Z"
   },
   {
    "duration": 17,
    "start_time": "2023-12-28T09:09:28.311Z"
   },
   {
    "duration": 3,
    "start_time": "2023-12-28T09:09:29.145Z"
   },
   {
    "duration": 12,
    "start_time": "2023-12-28T09:09:29.949Z"
   },
   {
    "duration": 13,
    "start_time": "2023-12-28T09:09:31.536Z"
   },
   {
    "duration": 4,
    "start_time": "2023-12-28T09:09:32.101Z"
   },
   {
    "duration": 42,
    "start_time": "2023-12-28T09:09:32.505Z"
   },
   {
    "duration": 19,
    "start_time": "2023-12-28T09:09:33.320Z"
   },
   {
    "duration": 5,
    "start_time": "2023-12-28T09:09:34.134Z"
   },
   {
    "duration": 11,
    "start_time": "2023-12-28T09:09:34.891Z"
   },
   {
    "duration": 19,
    "start_time": "2023-12-28T09:09:35.639Z"
   },
   {
    "duration": 13,
    "start_time": "2023-12-28T09:09:36.015Z"
   },
   {
    "duration": 4,
    "start_time": "2023-12-28T09:09:36.889Z"
   },
   {
    "duration": 5,
    "start_time": "2023-12-28T09:09:37.298Z"
   },
   {
    "duration": 6,
    "start_time": "2023-12-28T09:09:38.163Z"
   },
   {
    "duration": 5,
    "start_time": "2023-12-28T09:09:40.991Z"
   },
   {
    "duration": 4,
    "start_time": "2023-12-28T09:09:43.065Z"
   },
   {
    "duration": 4,
    "start_time": "2023-12-28T09:09:44.066Z"
   },
   {
    "duration": 4,
    "start_time": "2023-12-28T09:09:44.938Z"
   },
   {
    "duration": 4,
    "start_time": "2023-12-28T09:09:45.389Z"
   },
   {
    "duration": 4,
    "start_time": "2023-12-28T09:09:45.898Z"
   },
   {
    "duration": 5,
    "start_time": "2023-12-28T09:09:46.839Z"
   },
   {
    "duration": 4,
    "start_time": "2023-12-28T09:09:47.778Z"
   },
   {
    "duration": 7,
    "start_time": "2023-12-28T09:09:48.792Z"
   },
   {
    "duration": 69,
    "start_time": "2023-12-28T09:09:49.779Z"
   },
   {
    "duration": 4,
    "start_time": "2023-12-28T09:09:50.816Z"
   },
   {
    "duration": 11,
    "start_time": "2023-12-28T09:09:52.238Z"
   },
   {
    "duration": 16,
    "start_time": "2023-12-28T09:09:53.252Z"
   },
   {
    "duration": 12,
    "start_time": "2023-12-28T09:09:53.758Z"
   },
   {
    "duration": 16,
    "start_time": "2023-12-28T09:09:56.649Z"
   },
   {
    "duration": 5,
    "start_time": "2023-12-28T09:09:58.055Z"
   },
   {
    "duration": 11,
    "start_time": "2023-12-28T09:09:58.760Z"
   },
   {
    "duration": 14,
    "start_time": "2023-12-28T09:10:01.262Z"
   },
   {
    "duration": 25,
    "start_time": "2023-12-28T09:10:02.008Z"
   },
   {
    "duration": 827,
    "start_time": "2023-12-28T09:10:12.015Z"
   },
   {
    "duration": 4,
    "start_time": "2023-12-28T09:10:15.685Z"
   },
   {
    "duration": 29,
    "start_time": "2023-12-28T09:10:16.410Z"
   },
   {
    "duration": 21,
    "start_time": "2023-12-28T09:10:17.771Z"
   },
   {
    "duration": 5,
    "start_time": "2023-12-28T09:10:30.377Z"
   },
   {
    "duration": 269,
    "start_time": "2023-12-28T09:10:32.426Z"
   },
   {
    "duration": 247,
    "start_time": "2023-12-28T09:10:46.558Z"
   },
   {
    "duration": 123,
    "start_time": "2023-12-28T09:10:48.769Z"
   },
   {
    "duration": 121,
    "start_time": "2023-12-28T09:10:52.087Z"
   },
   {
    "duration": 257,
    "start_time": "2023-12-28T09:10:54.636Z"
   },
   {
    "duration": 258,
    "start_time": "2023-12-28T09:11:02.024Z"
   },
   {
    "duration": 245,
    "start_time": "2023-12-28T09:11:21.239Z"
   },
   {
    "duration": 225,
    "start_time": "2023-12-28T09:11:25.430Z"
   },
   {
    "duration": 7,
    "start_time": "2023-12-28T09:11:33.934Z"
   },
   {
    "duration": 5,
    "start_time": "2023-12-28T09:11:51.065Z"
   },
   {
    "duration": 32,
    "start_time": "2023-12-28T09:11:53.014Z"
   },
   {
    "duration": 214,
    "start_time": "2023-12-28T09:12:03.779Z"
   },
   {
    "duration": 218,
    "start_time": "2023-12-28T09:12:13.889Z"
   },
   {
    "duration": 219,
    "start_time": "2023-12-28T09:12:27.090Z"
   },
   {
    "duration": 229,
    "start_time": "2023-12-28T09:12:41.868Z"
   },
   {
    "duration": 221,
    "start_time": "2023-12-28T09:12:53.252Z"
   },
   {
    "duration": 5,
    "start_time": "2023-12-28T09:12:54.456Z"
   },
   {
    "duration": 57,
    "start_time": "2023-12-28T09:12:57.748Z"
   },
   {
    "duration": 8,
    "start_time": "2023-12-28T09:13:01.355Z"
   },
   {
    "duration": 110,
    "start_time": "2023-12-28T09:13:03.267Z"
   },
   {
    "duration": 193,
    "start_time": "2023-12-28T09:13:21.668Z"
   },
   {
    "duration": 328,
    "start_time": "2023-12-28T09:13:26.994Z"
   },
   {
    "duration": 191,
    "start_time": "2023-12-28T09:13:28.992Z"
   },
   {
    "duration": 173,
    "start_time": "2023-12-28T09:13:30.300Z"
   },
   {
    "duration": 235,
    "start_time": "2023-12-28T09:13:31.567Z"
   },
   {
    "duration": 151,
    "start_time": "2023-12-28T09:13:33.102Z"
   },
   {
    "duration": 171,
    "start_time": "2023-12-28T09:13:34.762Z"
   },
   {
    "duration": 170,
    "start_time": "2023-12-28T09:13:36.981Z"
   },
   {
    "duration": 2204,
    "start_time": "2023-12-28T09:13:40.752Z"
   },
   {
    "duration": 10,
    "start_time": "2023-12-28T09:13:48.168Z"
   },
   {
    "duration": 403,
    "start_time": "2023-12-28T09:13:49.123Z"
   },
   {
    "duration": 72,
    "start_time": "2023-12-28T09:16:41.118Z"
   },
   {
    "duration": 29,
    "start_time": "2023-12-28T09:17:22.150Z"
   },
   {
    "duration": 26,
    "start_time": "2023-12-28T09:17:34.559Z"
   },
   {
    "duration": 348,
    "start_time": "2023-12-28T09:29:06.895Z"
   },
   {
    "duration": 27,
    "start_time": "2023-12-28T09:43:36.959Z"
   },
   {
    "duration": 3,
    "start_time": "2023-12-28T12:01:42.045Z"
   },
   {
    "duration": 38,
    "start_time": "2023-12-28T12:01:42.478Z"
   },
   {
    "duration": 12,
    "start_time": "2023-12-28T12:01:43.310Z"
   },
   {
    "duration": 12,
    "start_time": "2023-12-28T12:02:06.372Z"
   },
   {
    "duration": 12,
    "start_time": "2023-12-28T13:42:37.189Z"
   },
   {
    "duration": 39,
    "start_time": "2023-12-28T13:42:43.984Z"
   },
   {
    "duration": 1204,
    "start_time": "2023-12-28T13:51:33.115Z"
   },
   {
    "duration": 40,
    "start_time": "2023-12-28T13:51:34.321Z"
   },
   {
    "duration": 15,
    "start_time": "2023-12-28T13:51:34.363Z"
   },
   {
    "duration": 19,
    "start_time": "2023-12-28T13:51:34.380Z"
   },
   {
    "duration": 16,
    "start_time": "2023-12-28T13:51:34.400Z"
   },
   {
    "duration": 12,
    "start_time": "2023-12-28T13:51:34.418Z"
   },
   {
    "duration": 31,
    "start_time": "2023-12-28T13:51:34.431Z"
   },
   {
    "duration": 37,
    "start_time": "2023-12-28T13:51:34.464Z"
   },
   {
    "duration": 11,
    "start_time": "2023-12-28T13:51:34.502Z"
   },
   {
    "duration": 4,
    "start_time": "2023-12-28T13:51:34.516Z"
   },
   {
    "duration": 24,
    "start_time": "2023-12-28T13:51:34.521Z"
   },
   {
    "duration": 7,
    "start_time": "2023-12-28T13:51:34.546Z"
   },
   {
    "duration": 10,
    "start_time": "2023-12-28T13:51:34.554Z"
   },
   {
    "duration": 4,
    "start_time": "2023-12-28T13:51:34.566Z"
   },
   {
    "duration": 4,
    "start_time": "2023-12-28T13:51:34.571Z"
   },
   {
    "duration": 7,
    "start_time": "2023-12-28T13:51:34.577Z"
   },
   {
    "duration": 9,
    "start_time": "2023-12-28T13:51:34.585Z"
   },
   {
    "duration": 20,
    "start_time": "2023-12-28T13:51:34.595Z"
   },
   {
    "duration": 15,
    "start_time": "2023-12-28T13:51:34.616Z"
   },
   {
    "duration": 27,
    "start_time": "2023-12-28T13:51:34.632Z"
   },
   {
    "duration": 9,
    "start_time": "2023-12-28T13:51:34.661Z"
   },
   {
    "duration": 26,
    "start_time": "2023-12-28T13:51:34.672Z"
   },
   {
    "duration": 11,
    "start_time": "2023-12-28T13:51:34.700Z"
   },
   {
    "duration": 37,
    "start_time": "2023-12-28T13:51:34.712Z"
   },
   {
    "duration": 6,
    "start_time": "2023-12-28T13:51:34.750Z"
   },
   {
    "duration": 13,
    "start_time": "2023-12-28T13:51:34.758Z"
   },
   {
    "duration": 18,
    "start_time": "2023-12-28T13:51:34.772Z"
   },
   {
    "duration": 28,
    "start_time": "2023-12-28T13:51:34.794Z"
   },
   {
    "duration": 80,
    "start_time": "2023-12-28T13:51:34.823Z"
   },
   {
    "duration": 25,
    "start_time": "2023-12-28T13:51:34.905Z"
   },
   {
    "duration": 4,
    "start_time": "2023-12-28T13:51:34.931Z"
   },
   {
    "duration": 23,
    "start_time": "2023-12-28T13:51:34.937Z"
   },
   {
    "duration": 29,
    "start_time": "2023-12-28T13:51:34.962Z"
   },
   {
    "duration": 18,
    "start_time": "2023-12-28T13:51:34.992Z"
   },
   {
    "duration": 29,
    "start_time": "2023-12-28T13:51:35.012Z"
   },
   {
    "duration": 9,
    "start_time": "2023-12-28T13:51:35.043Z"
   },
   {
    "duration": 26,
    "start_time": "2023-12-28T13:51:35.054Z"
   },
   {
    "duration": 11,
    "start_time": "2023-12-28T13:51:35.082Z"
   },
   {
    "duration": 764,
    "start_time": "2023-12-28T13:51:35.094Z"
   },
   {
    "duration": 17,
    "start_time": "2023-12-28T13:51:35.859Z"
   },
   {
    "duration": 59,
    "start_time": "2023-12-28T13:51:35.878Z"
   },
   {
    "duration": 716,
    "start_time": "2023-12-28T13:51:35.939Z"
   },
   {
    "duration": 3,
    "start_time": "2023-12-28T13:51:36.657Z"
   },
   {
    "duration": 23,
    "start_time": "2023-12-28T13:51:36.661Z"
   },
   {
    "duration": 38,
    "start_time": "2023-12-28T13:51:36.685Z"
   },
   {
    "duration": 5,
    "start_time": "2023-12-28T13:51:36.725Z"
   },
   {
    "duration": 315,
    "start_time": "2023-12-28T13:51:36.732Z"
   },
   {
    "duration": 125,
    "start_time": "2023-12-28T13:51:37.049Z"
   },
   {
    "duration": 122,
    "start_time": "2023-12-28T13:51:37.175Z"
   },
   {
    "duration": 363,
    "start_time": "2023-12-28T13:51:37.298Z"
   },
   {
    "duration": 441,
    "start_time": "2023-12-28T13:51:37.663Z"
   },
   {
    "duration": 128,
    "start_time": "2023-12-28T13:51:38.105Z"
   },
   {
    "duration": 6,
    "start_time": "2023-12-28T13:51:38.234Z"
   },
   {
    "duration": 26,
    "start_time": "2023-12-28T13:51:38.241Z"
   },
   {
    "duration": 28,
    "start_time": "2023-12-28T13:51:38.269Z"
   },
   {
    "duration": 287,
    "start_time": "2023-12-28T13:51:38.298Z"
   },
   {
    "duration": 5,
    "start_time": "2023-12-28T13:51:38.587Z"
   },
   {
    "duration": 87,
    "start_time": "2023-12-28T13:51:38.593Z"
   },
   {
    "duration": 9,
    "start_time": "2023-12-28T13:51:38.682Z"
   },
   {
    "duration": 80,
    "start_time": "2023-12-28T13:51:38.692Z"
   },
   {
    "duration": 179,
    "start_time": "2023-12-28T13:51:38.773Z"
   },
   {
    "duration": 308,
    "start_time": "2023-12-28T13:51:38.954Z"
   },
   {
    "duration": 160,
    "start_time": "2023-12-28T13:51:39.264Z"
   },
   {
    "duration": 169,
    "start_time": "2023-12-28T13:51:39.425Z"
   },
   {
    "duration": 154,
    "start_time": "2023-12-28T13:51:39.595Z"
   },
   {
    "duration": 144,
    "start_time": "2023-12-28T13:51:39.751Z"
   },
   {
    "duration": 225,
    "start_time": "2023-12-28T13:51:39.897Z"
   },
   {
    "duration": 168,
    "start_time": "2023-12-28T13:51:40.124Z"
   },
   {
    "duration": 3308,
    "start_time": "2023-12-28T13:51:40.293Z"
   },
   {
    "duration": 26,
    "start_time": "2023-12-28T13:51:43.603Z"
   },
   {
    "duration": 241,
    "start_time": "2023-12-28T13:51:43.631Z"
   },
   {
    "duration": 1396,
    "start_time": "2023-12-29T04:30:29.400Z"
   },
   {
    "duration": 93,
    "start_time": "2023-12-29T04:30:30.798Z"
   },
   {
    "duration": 20,
    "start_time": "2023-12-29T04:31:04.005Z"
   },
   {
    "duration": 5,
    "start_time": "2023-12-29T04:31:04.567Z"
   },
   {
    "duration": 14,
    "start_time": "2023-12-29T04:31:04.925Z"
   },
   {
    "duration": 14,
    "start_time": "2023-12-29T04:31:05.950Z"
   },
   {
    "duration": 4,
    "start_time": "2023-12-29T04:31:06.600Z"
   },
   {
    "duration": 42,
    "start_time": "2023-12-29T04:31:07.595Z"
   },
   {
    "duration": 12,
    "start_time": "2023-12-29T04:31:08.447Z"
   },
   {
    "duration": 5,
    "start_time": "2023-12-29T04:31:09.232Z"
   },
   {
    "duration": 4,
    "start_time": "2023-12-29T04:31:09.619Z"
   },
   {
    "duration": 5,
    "start_time": "2023-12-29T04:31:13.351Z"
   },
   {
    "duration": 5,
    "start_time": "2023-12-29T04:31:13.796Z"
   },
   {
    "duration": 6,
    "start_time": "2023-12-29T04:31:14.220Z"
   },
   {
    "duration": 5,
    "start_time": "2023-12-29T04:31:14.647Z"
   },
   {
    "duration": 5,
    "start_time": "2023-12-29T04:31:15.093Z"
   },
   {
    "duration": 5,
    "start_time": "2023-12-29T04:31:15.574Z"
   },
   {
    "duration": 5,
    "start_time": "2023-12-29T04:31:15.991Z"
   },
   {
    "duration": 4,
    "start_time": "2023-12-29T04:31:16.338Z"
   },
   {
    "duration": 4,
    "start_time": "2023-12-29T04:31:16.755Z"
   },
   {
    "duration": 6,
    "start_time": "2023-12-29T04:31:19.208Z"
   },
   {
    "duration": 11,
    "start_time": "2023-12-29T04:31:20.491Z"
   },
   {
    "duration": 8,
    "start_time": "2023-12-29T04:31:21.076Z"
   },
   {
    "duration": 19,
    "start_time": "2023-12-29T04:31:22.849Z"
   },
   {
    "duration": 8,
    "start_time": "2023-12-29T04:31:24.554Z"
   },
   {
    "duration": 19,
    "start_time": "2023-12-29T04:31:26.517Z"
   },
   {
    "duration": 7,
    "start_time": "2023-12-29T04:31:36.380Z"
   },
   {
    "duration": 6,
    "start_time": "2023-12-29T04:31:38.066Z"
   },
   {
    "duration": 17,
    "start_time": "2023-12-29T04:31:39.382Z"
   },
   {
    "duration": 26,
    "start_time": "2023-12-29T04:31:40.555Z"
   },
   {
    "duration": 5,
    "start_time": "2023-12-29T04:31:41.496Z"
   },
   {
    "duration": 6,
    "start_time": "2023-12-29T04:31:42.410Z"
   },
   {
    "duration": 14,
    "start_time": "2023-12-29T04:31:42.895Z"
   },
   {
    "duration": 13,
    "start_time": "2023-12-29T04:31:43.799Z"
   },
   {
    "duration": 28,
    "start_time": "2023-12-29T04:31:44.251Z"
   },
   {
    "duration": 12,
    "start_time": "2023-12-29T04:31:46.932Z"
   },
   {
    "duration": 27,
    "start_time": "2023-12-29T04:31:58.580Z"
   },
   {
    "duration": 15,
    "start_time": "2023-12-29T04:31:58.970Z"
   },
   {
    "duration": 26,
    "start_time": "2023-12-29T04:36:44.497Z"
   },
   {
    "duration": 12,
    "start_time": "2023-12-29T04:37:39.566Z"
   },
   {
    "duration": 374,
    "start_time": "2023-12-29T04:48:30.988Z"
   },
   {
    "duration": 428,
    "start_time": "2023-12-29T04:49:07.287Z"
   },
   {
    "duration": 381,
    "start_time": "2023-12-29T04:49:13.689Z"
   },
   {
    "duration": 152,
    "start_time": "2023-12-29T04:49:21.863Z"
   },
   {
    "duration": 476,
    "start_time": "2023-12-29T04:49:37.196Z"
   },
   {
    "duration": 55,
    "start_time": "2023-12-29T04:52:52.713Z"
   },
   {
    "duration": 8,
    "start_time": "2023-12-29T04:53:34.869Z"
   },
   {
    "duration": 7,
    "start_time": "2023-12-29T04:53:48.319Z"
   },
   {
    "duration": 7,
    "start_time": "2023-12-29T04:54:27.038Z"
   },
   {
    "duration": 1188,
    "start_time": "2023-12-29T04:54:51.345Z"
   },
   {
    "duration": 85,
    "start_time": "2023-12-29T04:54:52.535Z"
   },
   {
    "duration": 17,
    "start_time": "2023-12-29T04:54:54.035Z"
   },
   {
    "duration": 5,
    "start_time": "2023-12-29T04:54:54.555Z"
   },
   {
    "duration": 13,
    "start_time": "2023-12-29T04:54:54.949Z"
   },
   {
    "duration": 14,
    "start_time": "2023-12-29T04:54:56.080Z"
   },
   {
    "duration": 4,
    "start_time": "2023-12-29T04:54:56.508Z"
   },
   {
    "duration": 43,
    "start_time": "2023-12-29T04:54:57.264Z"
   },
   {
    "duration": 12,
    "start_time": "2023-12-29T04:54:58.039Z"
   },
   {
    "duration": 5,
    "start_time": "2023-12-29T04:54:58.764Z"
   },
   {
    "duration": 4,
    "start_time": "2023-12-29T04:54:59.118Z"
   },
   {
    "duration": 5,
    "start_time": "2023-12-29T04:54:59.486Z"
   },
   {
    "duration": 5,
    "start_time": "2023-12-29T04:54:59.827Z"
   },
   {
    "duration": 5,
    "start_time": "2023-12-29T04:55:00.173Z"
   },
   {
    "duration": 5,
    "start_time": "2023-12-29T04:55:00.516Z"
   },
   {
    "duration": 5,
    "start_time": "2023-12-29T04:55:00.857Z"
   },
   {
    "duration": 5,
    "start_time": "2023-12-29T04:55:01.149Z"
   },
   {
    "duration": 5,
    "start_time": "2023-12-29T04:55:01.480Z"
   },
   {
    "duration": 6,
    "start_time": "2023-12-29T04:55:01.778Z"
   },
   {
    "duration": 5,
    "start_time": "2023-12-29T04:55:02.032Z"
   },
   {
    "duration": 5,
    "start_time": "2023-12-29T04:55:02.567Z"
   },
   {
    "duration": 12,
    "start_time": "2023-12-29T04:55:05.459Z"
   },
   {
    "duration": 5,
    "start_time": "2023-12-29T04:55:19.160Z"
   },
   {
    "duration": 21,
    "start_time": "2023-12-29T04:55:19.998Z"
   },
   {
    "duration": 7,
    "start_time": "2023-12-29T04:55:21.140Z"
   },
   {
    "duration": 17,
    "start_time": "2023-12-29T04:55:23.374Z"
   },
   {
    "duration": 7,
    "start_time": "2023-12-29T04:55:24.821Z"
   },
   {
    "duration": 5,
    "start_time": "2023-12-29T04:55:25.855Z"
   },
   {
    "duration": 16,
    "start_time": "2023-12-29T04:55:27.479Z"
   },
   {
    "duration": 14,
    "start_time": "2023-12-29T04:55:55.363Z"
   },
   {
    "duration": 15,
    "start_time": "2023-12-29T04:56:02.270Z"
   },
   {
    "duration": 24,
    "start_time": "2023-12-29T04:56:06.305Z"
   },
   {
    "duration": 5,
    "start_time": "2023-12-29T04:56:07.658Z"
   },
   {
    "duration": 7,
    "start_time": "2023-12-29T04:56:08.171Z"
   },
   {
    "duration": 18,
    "start_time": "2023-12-29T04:56:08.585Z"
   },
   {
    "duration": 17,
    "start_time": "2023-12-29T04:56:09.513Z"
   },
   {
    "duration": 23,
    "start_time": "2023-12-29T04:56:09.980Z"
   },
   {
    "duration": 10,
    "start_time": "2023-12-29T04:56:11.910Z"
   },
   {
    "duration": 27,
    "start_time": "2023-12-29T04:56:12.880Z"
   },
   {
    "duration": 13,
    "start_time": "2023-12-29T04:56:13.669Z"
   },
   {
    "duration": 205,
    "start_time": "2023-12-29T04:56:19.251Z"
   },
   {
    "duration": 203,
    "start_time": "2023-12-29T04:57:12.648Z"
   },
   {
    "duration": 156,
    "start_time": "2023-12-29T04:57:29.981Z"
   },
   {
    "duration": 184,
    "start_time": "2023-12-29T05:01:30.434Z"
   },
   {
    "duration": 209,
    "start_time": "2023-12-29T05:01:50.581Z"
   },
   {
    "duration": 198,
    "start_time": "2023-12-29T05:02:06.736Z"
   },
   {
    "duration": 18,
    "start_time": "2023-12-29T05:03:09.490Z"
   },
   {
    "duration": 805,
    "start_time": "2023-12-29T05:40:14.491Z"
   },
   {
    "duration": 1452,
    "start_time": "2023-12-29T05:40:28.144Z"
   },
   {
    "duration": 55,
    "start_time": "2023-12-29T05:42:48.805Z"
   },
   {
    "duration": 54,
    "start_time": "2023-12-29T05:43:09.114Z"
   },
   {
    "duration": 56,
    "start_time": "2023-12-29T05:43:15.858Z"
   },
   {
    "duration": 174,
    "start_time": "2023-12-29T05:43:25.347Z"
   },
   {
    "duration": 159,
    "start_time": "2023-12-29T05:43:30.795Z"
   },
   {
    "duration": 191,
    "start_time": "2023-12-29T05:47:07.952Z"
   },
   {
    "duration": 169,
    "start_time": "2023-12-29T05:49:00.301Z"
   },
   {
    "duration": 157,
    "start_time": "2023-12-29T05:52:11.959Z"
   },
   {
    "duration": 257,
    "start_time": "2023-12-29T05:52:15.899Z"
   },
   {
    "duration": 161,
    "start_time": "2023-12-29T05:52:22.125Z"
   },
   {
    "duration": 8,
    "start_time": "2023-12-29T06:01:49.834Z"
   },
   {
    "duration": 161,
    "start_time": "2023-12-29T06:02:16.898Z"
   },
   {
    "duration": 182,
    "start_time": "2023-12-29T06:02:48.466Z"
   },
   {
    "duration": 168,
    "start_time": "2023-12-29T06:04:24.157Z"
   },
   {
    "duration": 165,
    "start_time": "2023-12-29T06:04:32.786Z"
   },
   {
    "duration": 208,
    "start_time": "2023-12-29T06:04:47.906Z"
   },
   {
    "duration": 163,
    "start_time": "2023-12-29T06:04:57.108Z"
   },
   {
    "duration": 191,
    "start_time": "2023-12-29T06:05:05.396Z"
   },
   {
    "duration": 187,
    "start_time": "2023-12-29T06:05:16.791Z"
   },
   {
    "duration": 164,
    "start_time": "2023-12-29T06:05:24.117Z"
   },
   {
    "duration": 199,
    "start_time": "2023-12-29T06:14:02.681Z"
   },
   {
    "duration": 183,
    "start_time": "2023-12-29T06:14:36.007Z"
   },
   {
    "duration": 1777,
    "start_time": "2023-12-29T06:26:25.881Z"
   },
   {
    "duration": 52,
    "start_time": "2023-12-29T06:28:46.279Z"
   },
   {
    "duration": 27,
    "start_time": "2023-12-29T06:43:32.517Z"
   },
   {
    "duration": 18,
    "start_time": "2023-12-29T06:44:04.501Z"
   },
   {
    "duration": 27,
    "start_time": "2023-12-29T06:56:00.392Z"
   },
   {
    "duration": 19,
    "start_time": "2023-12-29T07:24:48.225Z"
   },
   {
    "duration": 8,
    "start_time": "2023-12-29T07:26:38.470Z"
   },
   {
    "duration": 275,
    "start_time": "2023-12-29T07:26:39.360Z"
   },
   {
    "duration": 15,
    "start_time": "2023-12-29T07:28:10.853Z"
   },
   {
    "duration": 498,
    "start_time": "2023-12-29T07:28:31.170Z"
   },
   {
    "duration": 10,
    "start_time": "2023-12-29T07:38:57.208Z"
   },
   {
    "duration": 6,
    "start_time": "2023-12-29T07:39:56.293Z"
   },
   {
    "duration": 429,
    "start_time": "2023-12-29T07:39:57.018Z"
   },
   {
    "duration": 14,
    "start_time": "2023-12-29T07:40:06.934Z"
   },
   {
    "duration": 20,
    "start_time": "2023-12-29T07:42:22.050Z"
   },
   {
    "duration": 7,
    "start_time": "2023-12-29T07:42:24.145Z"
   },
   {
    "duration": 551,
    "start_time": "2023-12-29T07:42:24.601Z"
   },
   {
    "duration": 19,
    "start_time": "2023-12-29T07:42:28.432Z"
   },
   {
    "duration": 11,
    "start_time": "2023-12-29T07:47:01.936Z"
   },
   {
    "duration": 9,
    "start_time": "2023-12-29T07:48:38.155Z"
   },
   {
    "duration": 331,
    "start_time": "2023-12-29T07:49:08.224Z"
   },
   {
    "duration": 18,
    "start_time": "2023-12-29T07:53:00.509Z"
   },
   {
    "duration": 5,
    "start_time": "2023-12-29T07:57:50.368Z"
   },
   {
    "duration": 12,
    "start_time": "2023-12-29T07:59:04.430Z"
   },
   {
    "duration": 5,
    "start_time": "2023-12-29T08:00:14.309Z"
   },
   {
    "duration": 7,
    "start_time": "2023-12-29T08:00:26.160Z"
   },
   {
    "duration": 231,
    "start_time": "2023-12-29T08:02:17.546Z"
   },
   {
    "duration": 7,
    "start_time": "2023-12-29T08:03:08.235Z"
   },
   {
    "duration": 12,
    "start_time": "2023-12-29T08:03:57.316Z"
   },
   {
    "duration": 8,
    "start_time": "2023-12-29T08:04:02.004Z"
   },
   {
    "duration": 5,
    "start_time": "2023-12-29T08:04:19.800Z"
   },
   {
    "duration": 6,
    "start_time": "2023-12-29T08:04:34.892Z"
   },
   {
    "duration": 12,
    "start_time": "2023-12-29T08:05:13.321Z"
   },
   {
    "duration": 26,
    "start_time": "2023-12-29T08:40:15.447Z"
   },
   {
    "duration": 11098,
    "start_time": "2023-12-29T08:41:35.289Z"
   },
   {
    "duration": 11651,
    "start_time": "2023-12-29T08:47:47.067Z"
   },
   {
    "duration": 16,
    "start_time": "2023-12-29T09:13:06.086Z"
   },
   {
    "duration": 14,
    "start_time": "2023-12-29T09:14:23.399Z"
   },
   {
    "duration": 25,
    "start_time": "2023-12-29T09:14:41.314Z"
   },
   {
    "duration": 1075,
    "start_time": "2023-12-29T09:14:49.635Z"
   },
   {
    "duration": 35,
    "start_time": "2023-12-29T09:21:27.111Z"
   },
   {
    "duration": 17,
    "start_time": "2023-12-29T09:22:00.559Z"
   },
   {
    "duration": 12,
    "start_time": "2023-12-29T09:22:40.843Z"
   },
   {
    "duration": 13,
    "start_time": "2023-12-29T09:22:54.002Z"
   },
   {
    "duration": 13,
    "start_time": "2023-12-29T09:23:11.622Z"
   },
   {
    "duration": 15,
    "start_time": "2023-12-29T09:23:53.762Z"
   },
   {
    "duration": 16,
    "start_time": "2023-12-29T09:24:45.331Z"
   },
   {
    "duration": 13,
    "start_time": "2023-12-29T09:25:09.081Z"
   },
   {
    "duration": 13,
    "start_time": "2023-12-29T09:25:38.519Z"
   },
   {
    "duration": 13,
    "start_time": "2023-12-29T09:25:56.633Z"
   },
   {
    "duration": 12,
    "start_time": "2023-12-29T09:26:33.701Z"
   },
   {
    "duration": 13,
    "start_time": "2023-12-29T09:27:20.466Z"
   },
   {
    "duration": 14,
    "start_time": "2023-12-29T09:28:45.336Z"
   },
   {
    "duration": 15,
    "start_time": "2023-12-29T09:28:55.185Z"
   },
   {
    "duration": 14,
    "start_time": "2023-12-29T09:29:13.720Z"
   },
   {
    "duration": 13,
    "start_time": "2023-12-29T09:29:53.153Z"
   },
   {
    "duration": 15,
    "start_time": "2023-12-29T09:30:06.402Z"
   },
   {
    "duration": 11,
    "start_time": "2023-12-29T09:30:07.645Z"
   },
   {
    "duration": 22,
    "start_time": "2023-12-29T10:02:31.621Z"
   },
   {
    "duration": 9,
    "start_time": "2023-12-29T10:38:36.966Z"
   },
   {
    "duration": 1237,
    "start_time": "2023-12-29T10:38:51.175Z"
   },
   {
    "duration": 54,
    "start_time": "2023-12-29T10:38:52.414Z"
   },
   {
    "duration": 18,
    "start_time": "2023-12-29T10:38:53.814Z"
   },
   {
    "duration": 5,
    "start_time": "2023-12-29T10:38:54.146Z"
   },
   {
    "duration": 14,
    "start_time": "2023-12-29T10:38:54.382Z"
   },
   {
    "duration": 16,
    "start_time": "2023-12-29T10:38:55.131Z"
   },
   {
    "duration": 4,
    "start_time": "2023-12-29T10:38:55.594Z"
   },
   {
    "duration": 40,
    "start_time": "2023-12-29T10:38:56.129Z"
   },
   {
    "duration": 15,
    "start_time": "2023-12-29T10:38:56.606Z"
   },
   {
    "duration": 5,
    "start_time": "2023-12-29T10:38:57.850Z"
   },
   {
    "duration": 5,
    "start_time": "2023-12-29T10:38:58.287Z"
   },
   {
    "duration": 6,
    "start_time": "2023-12-29T10:38:58.750Z"
   },
   {
    "duration": 5,
    "start_time": "2023-12-29T10:38:59.173Z"
   },
   {
    "duration": 5,
    "start_time": "2023-12-29T10:38:59.509Z"
   },
   {
    "duration": 6,
    "start_time": "2023-12-29T10:38:59.824Z"
   },
   {
    "duration": 5,
    "start_time": "2023-12-29T10:39:00.144Z"
   },
   {
    "duration": 5,
    "start_time": "2023-12-29T10:39:00.691Z"
   },
   {
    "duration": 5,
    "start_time": "2023-12-29T10:39:01.072Z"
   },
   {
    "duration": 5,
    "start_time": "2023-12-29T10:39:01.605Z"
   },
   {
    "duration": 5,
    "start_time": "2023-12-29T10:39:02.143Z"
   },
   {
    "duration": 5,
    "start_time": "2023-12-29T10:39:02.665Z"
   },
   {
    "duration": 11,
    "start_time": "2023-12-29T10:39:03.700Z"
   },
   {
    "duration": 4,
    "start_time": "2023-12-29T10:39:03.974Z"
   },
   {
    "duration": 22,
    "start_time": "2023-12-29T10:39:04.633Z"
   },
   {
    "duration": 7,
    "start_time": "2023-12-29T10:39:06.478Z"
   },
   {
    "duration": 16,
    "start_time": "2023-12-29T10:39:06.943Z"
   },
   {
    "duration": 8,
    "start_time": "2023-12-29T10:39:08.988Z"
   },
   {
    "duration": 5,
    "start_time": "2023-12-29T10:39:10.088Z"
   },
   {
    "duration": 20,
    "start_time": "2023-12-29T10:39:11.077Z"
   },
   {
    "duration": 22,
    "start_time": "2023-12-29T10:39:12.029Z"
   },
   {
    "duration": 14,
    "start_time": "2023-12-29T10:39:12.802Z"
   },
   {
    "duration": 6,
    "start_time": "2023-12-29T10:39:14.465Z"
   },
   {
    "duration": 17,
    "start_time": "2023-12-29T10:39:15.791Z"
   },
   {
    "duration": 5,
    "start_time": "2023-12-29T10:39:27.894Z"
   },
   {
    "duration": 15,
    "start_time": "2023-12-29T10:39:28.217Z"
   },
   {
    "duration": 15,
    "start_time": "2023-12-29T10:39:29.113Z"
   },
   {
    "duration": 24,
    "start_time": "2023-12-29T10:39:29.362Z"
   },
   {
    "duration": 9,
    "start_time": "2023-12-29T10:39:30.760Z"
   },
   {
    "duration": 25,
    "start_time": "2023-12-29T10:39:31.250Z"
   },
   {
    "duration": 188,
    "start_time": "2023-12-29T10:39:31.762Z"
   },
   {
    "duration": 223,
    "start_time": "2023-12-29T10:39:32.291Z"
   },
   {
    "duration": 187,
    "start_time": "2023-12-29T10:39:32.777Z"
   },
   {
    "duration": 356,
    "start_time": "2023-12-29T10:39:34.111Z"
   },
   {
    "duration": 8,
    "start_time": "2023-12-29T10:39:34.674Z"
   },
   {
    "duration": 177,
    "start_time": "2023-12-29T10:39:34.979Z"
   },
   {
    "duration": 177,
    "start_time": "2023-12-29T10:39:35.877Z"
   },
   {
    "duration": 193,
    "start_time": "2023-12-29T10:39:36.466Z"
   },
   {
    "duration": 171,
    "start_time": "2023-12-29T10:39:37.642Z"
   },
   {
    "duration": 229,
    "start_time": "2023-12-29T10:39:38.338Z"
   },
   {
    "duration": 179,
    "start_time": "2023-12-29T10:39:39.079Z"
   },
   {
    "duration": 174,
    "start_time": "2023-12-29T10:39:39.857Z"
   },
   {
    "duration": 13,
    "start_time": "2023-12-29T10:39:41.348Z"
   },
   {
    "duration": 53,
    "start_time": "2023-12-29T10:39:42.652Z"
   },
   {
    "duration": 1608,
    "start_time": "2023-12-29T10:39:43.348Z"
   },
   {
    "duration": 12,
    "start_time": "2023-12-29T10:39:48.953Z"
   },
   {
    "duration": 113,
    "start_time": "2023-12-29T10:39:49.332Z"
   },
   {
    "duration": 14,
    "start_time": "2023-12-29T10:39:49.769Z"
   },
   {
    "duration": 7,
    "start_time": "2023-12-29T10:39:50.197Z"
   },
   {
    "duration": 10,
    "start_time": "2023-12-29T10:40:20.904Z"
   },
   {
    "duration": 7,
    "start_time": "2023-12-29T10:40:21.458Z"
   },
   {
    "duration": 6,
    "start_time": "2023-12-29T10:40:22.047Z"
   },
   {
    "duration": 8,
    "start_time": "2023-12-29T10:40:22.648Z"
   },
   {
    "duration": 446,
    "start_time": "2023-12-29T10:40:23.346Z"
   },
   {
    "duration": 13,
    "start_time": "2023-12-29T10:40:24.835Z"
   },
   {
    "duration": 7,
    "start_time": "2023-12-29T10:40:26.472Z"
   },
   {
    "duration": 8,
    "start_time": "2023-12-29T10:40:27.031Z"
   },
   {
    "duration": 5,
    "start_time": "2023-12-29T10:40:27.745Z"
   },
   {
    "duration": 5,
    "start_time": "2023-12-29T10:40:28.476Z"
   },
   {
    "duration": 224,
    "start_time": "2023-12-29T10:40:28.910Z"
   },
   {
    "duration": 11,
    "start_time": "2023-12-29T10:40:29.763Z"
   },
   {
    "duration": 1145,
    "start_time": "2023-12-29T10:40:32.552Z"
   },
   {
    "duration": 14,
    "start_time": "2023-12-29T10:40:33.809Z"
   },
   {
    "duration": 13,
    "start_time": "2023-12-29T10:40:35.132Z"
   },
   {
    "duration": 12,
    "start_time": "2023-12-29T10:40:36.135Z"
   },
   {
    "duration": 18,
    "start_time": "2023-12-29T11:20:49.535Z"
   },
   {
    "duration": 1225,
    "start_time": "2023-12-29T11:21:12.599Z"
   },
   {
    "duration": 43,
    "start_time": "2023-12-29T11:21:14.518Z"
   },
   {
    "duration": 19,
    "start_time": "2023-12-29T11:21:15.671Z"
   },
   {
    "duration": 5,
    "start_time": "2023-12-29T11:21:16.144Z"
   },
   {
    "duration": 14,
    "start_time": "2023-12-29T11:21:16.600Z"
   },
   {
    "duration": 14,
    "start_time": "2023-12-29T11:21:17.839Z"
   },
   {
    "duration": 4,
    "start_time": "2023-12-29T11:21:18.287Z"
   },
   {
    "duration": 40,
    "start_time": "2023-12-29T11:21:19.146Z"
   },
   {
    "duration": 14,
    "start_time": "2023-12-29T11:21:20.022Z"
   },
   {
    "duration": 5,
    "start_time": "2023-12-29T11:21:20.852Z"
   },
   {
    "duration": 6,
    "start_time": "2023-12-29T11:21:21.344Z"
   },
   {
    "duration": 5,
    "start_time": "2023-12-29T11:21:21.792Z"
   },
   {
    "duration": 5,
    "start_time": "2023-12-29T11:21:22.258Z"
   },
   {
    "duration": 6,
    "start_time": "2023-12-29T11:21:22.709Z"
   },
   {
    "duration": 7,
    "start_time": "2023-12-29T11:21:23.125Z"
   },
   {
    "duration": 6,
    "start_time": "2023-12-29T11:21:23.582Z"
   },
   {
    "duration": 5,
    "start_time": "2023-12-29T11:21:24.012Z"
   },
   {
    "duration": 5,
    "start_time": "2023-12-29T11:21:24.422Z"
   },
   {
    "duration": 5,
    "start_time": "2023-12-29T11:21:24.874Z"
   },
   {
    "duration": 6,
    "start_time": "2023-12-29T11:21:25.336Z"
   },
   {
    "duration": 6,
    "start_time": "2023-12-29T11:21:28.760Z"
   },
   {
    "duration": 15,
    "start_time": "2023-12-29T11:21:30.090Z"
   },
   {
    "duration": 6,
    "start_time": "2023-12-29T11:21:30.667Z"
   },
   {
    "duration": 23,
    "start_time": "2023-12-29T11:21:31.919Z"
   },
   {
    "duration": 7,
    "start_time": "2023-12-29T11:21:33.945Z"
   },
   {
    "duration": 14,
    "start_time": "2023-12-29T11:21:34.637Z"
   },
   {
    "duration": 7,
    "start_time": "2023-12-29T11:21:37.511Z"
   },
   {
    "duration": 6,
    "start_time": "2023-12-29T11:23:04.485Z"
   },
   {
    "duration": 5,
    "start_time": "2023-12-29T11:23:41.927Z"
   },
   {
    "duration": 12,
    "start_time": "2023-12-29T11:23:43.113Z"
   },
   {
    "duration": 5,
    "start_time": "2023-12-29T11:23:43.514Z"
   },
   {
    "duration": 27,
    "start_time": "2023-12-29T11:23:44.349Z"
   },
   {
    "duration": 7,
    "start_time": "2023-12-29T11:23:45.081Z"
   },
   {
    "duration": 16,
    "start_time": "2023-12-29T11:23:45.422Z"
   },
   {
    "duration": 8,
    "start_time": "2023-12-29T11:23:46.593Z"
   },
   {
    "duration": 6,
    "start_time": "2023-12-29T11:23:47.650Z"
   },
   {
    "duration": 16,
    "start_time": "2023-12-29T11:23:48.801Z"
   },
   {
    "duration": 24,
    "start_time": "2023-12-29T11:23:50.435Z"
   },
   {
    "duration": 15,
    "start_time": "2023-12-29T11:23:51.130Z"
   },
   {
    "duration": 5,
    "start_time": "2023-12-29T11:23:53.244Z"
   },
   {
    "duration": 17,
    "start_time": "2023-12-29T11:23:54.838Z"
   },
   {
    "duration": 12,
    "start_time": "2023-12-29T11:24:40.747Z"
   },
   {
    "duration": 15,
    "start_time": "2023-12-29T11:24:46.603Z"
   },
   {
    "duration": 7,
    "start_time": "2023-12-29T11:24:53.166Z"
   },
   {
    "duration": 17,
    "start_time": "2023-12-29T11:24:53.606Z"
   },
   {
    "duration": 20,
    "start_time": "2023-12-29T11:24:54.612Z"
   },
   {
    "duration": 28,
    "start_time": "2023-12-29T11:24:55.089Z"
   },
   {
    "duration": 20,
    "start_time": "2023-12-29T11:25:08.013Z"
   },
   {
    "duration": 23,
    "start_time": "2023-12-29T11:25:08.440Z"
   },
   {
    "duration": 10,
    "start_time": "2023-12-29T11:25:09.756Z"
   },
   {
    "duration": 116,
    "start_time": "2023-12-29T11:25:10.679Z"
   },
   {
    "duration": 29,
    "start_time": "2023-12-29T11:25:35.345Z"
   },
   {
    "duration": 10,
    "start_time": "2023-12-29T11:26:31.906Z"
   },
   {
    "duration": 37,
    "start_time": "2023-12-29T11:26:47.113Z"
   },
   {
    "duration": 13,
    "start_time": "2023-12-29T11:27:26.540Z"
   },
   {
    "duration": 1204,
    "start_time": "2023-12-29T11:28:49.026Z"
   },
   {
    "duration": 48,
    "start_time": "2023-12-29T11:28:51.056Z"
   },
   {
    "duration": 22,
    "start_time": "2023-12-29T11:28:52.185Z"
   },
   {
    "duration": 5,
    "start_time": "2023-12-29T11:28:52.681Z"
   },
   {
    "duration": 17,
    "start_time": "2023-12-29T11:28:53.202Z"
   },
   {
    "duration": 20,
    "start_time": "2023-12-29T11:28:54.498Z"
   },
   {
    "duration": 5,
    "start_time": "2023-12-29T11:28:55.038Z"
   },
   {
    "duration": 42,
    "start_time": "2023-12-29T11:28:55.952Z"
   },
   {
    "duration": 12,
    "start_time": "2023-12-29T11:28:56.988Z"
   },
   {
    "duration": 5,
    "start_time": "2023-12-29T11:28:58.127Z"
   },
   {
    "duration": 5,
    "start_time": "2023-12-29T11:28:58.592Z"
   },
   {
    "duration": 5,
    "start_time": "2023-12-29T11:28:59.055Z"
   },
   {
    "duration": 6,
    "start_time": "2023-12-29T11:28:59.650Z"
   },
   {
    "duration": 6,
    "start_time": "2023-12-29T11:29:00.130Z"
   },
   {
    "duration": 4,
    "start_time": "2023-12-29T11:29:00.618Z"
   },
   {
    "duration": 6,
    "start_time": "2023-12-29T11:29:01.308Z"
   },
   {
    "duration": 4,
    "start_time": "2023-12-29T11:29:01.903Z"
   },
   {
    "duration": 5,
    "start_time": "2023-12-29T11:29:02.946Z"
   },
   {
    "duration": 4,
    "start_time": "2023-12-29T11:29:03.394Z"
   },
   {
    "duration": 5,
    "start_time": "2023-12-29T11:29:03.791Z"
   },
   {
    "duration": 6,
    "start_time": "2023-12-29T11:29:05.750Z"
   },
   {
    "duration": 4,
    "start_time": "2023-12-29T11:29:07.380Z"
   },
   {
    "duration": 11,
    "start_time": "2023-12-29T11:29:09.709Z"
   },
   {
    "duration": 4,
    "start_time": "2023-12-29T11:29:10.458Z"
   },
   {
    "duration": 22,
    "start_time": "2023-12-29T11:29:11.870Z"
   },
   {
    "duration": 7,
    "start_time": "2023-12-29T11:29:12.939Z"
   },
   {
    "duration": 16,
    "start_time": "2023-12-29T11:29:13.373Z"
   },
   {
    "duration": 7,
    "start_time": "2023-12-29T11:29:14.692Z"
   },
   {
    "duration": 5,
    "start_time": "2023-12-29T11:29:16.925Z"
   },
   {
    "duration": 17,
    "start_time": "2023-12-29T11:29:18.789Z"
   },
   {
    "duration": 28,
    "start_time": "2023-12-29T11:29:21.184Z"
   },
   {
    "duration": 13,
    "start_time": "2023-12-29T11:29:22.171Z"
   },
   {
    "duration": 5,
    "start_time": "2023-12-29T11:29:24.966Z"
   },
   {
    "duration": 20,
    "start_time": "2023-12-29T11:29:28.162Z"
   },
   {
    "duration": 14,
    "start_time": "2023-12-29T11:29:29.261Z"
   },
   {
    "duration": 6,
    "start_time": "2023-12-29T11:29:36.092Z"
   },
   {
    "duration": 13,
    "start_time": "2023-12-29T11:29:38.735Z"
   },
   {
    "duration": 15,
    "start_time": "2023-12-29T11:29:43.649Z"
   },
   {
    "duration": 26,
    "start_time": "2023-12-29T11:29:47.703Z"
   },
   {
    "duration": 12,
    "start_time": "2023-12-29T11:29:50.464Z"
   },
   {
    "duration": 31,
    "start_time": "2023-12-29T11:29:51.592Z"
   },
   {
    "duration": 34,
    "start_time": "2023-12-29T11:30:16.344Z"
   },
   {
    "duration": 200,
    "start_time": "2023-12-29T11:30:22.073Z"
   },
   {
    "duration": 214,
    "start_time": "2023-12-29T11:30:23.708Z"
   },
   {
    "duration": 217,
    "start_time": "2023-12-29T11:30:25.102Z"
   },
   {
    "duration": 367,
    "start_time": "2023-12-29T11:30:27.026Z"
   },
   {
    "duration": 9,
    "start_time": "2023-12-29T11:30:32.139Z"
   },
   {
    "duration": 184,
    "start_time": "2023-12-29T11:30:32.715Z"
   },
   {
    "duration": 180,
    "start_time": "2023-12-29T11:30:43.898Z"
   },
   {
    "duration": 185,
    "start_time": "2023-12-29T11:30:45.318Z"
   },
   {
    "duration": 170,
    "start_time": "2023-12-29T11:30:46.525Z"
   },
   {
    "duration": 225,
    "start_time": "2023-12-29T11:30:48.353Z"
   },
   {
    "duration": 165,
    "start_time": "2023-12-29T11:30:49.891Z"
   },
   {
    "duration": 214,
    "start_time": "2023-12-29T11:30:51.537Z"
   },
   {
    "duration": 18,
    "start_time": "2023-12-29T11:30:54.371Z"
   },
   {
    "duration": 61,
    "start_time": "2023-12-29T11:30:56.907Z"
   },
   {
    "duration": 1659,
    "start_time": "2023-12-29T11:30:58.125Z"
   },
   {
    "duration": 12,
    "start_time": "2023-12-29T11:31:03.710Z"
   },
   {
    "duration": 7,
    "start_time": "2023-12-29T11:31:04.215Z"
   },
   {
    "duration": 6,
    "start_time": "2023-12-29T11:31:04.695Z"
   },
   {
    "duration": 6,
    "start_time": "2023-12-29T11:31:05.229Z"
   },
   {
    "duration": 432,
    "start_time": "2023-12-29T11:31:05.736Z"
   },
   {
    "duration": 13,
    "start_time": "2023-12-29T11:31:07.413Z"
   },
   {
    "duration": 7,
    "start_time": "2023-12-29T11:31:09.341Z"
   },
   {
    "duration": 9,
    "start_time": "2023-12-29T11:31:09.844Z"
   },
   {
    "duration": 6,
    "start_time": "2023-12-29T11:31:10.336Z"
   },
   {
    "duration": 5,
    "start_time": "2023-12-29T11:31:10.818Z"
   },
   {
    "duration": 241,
    "start_time": "2023-12-29T11:31:11.249Z"
   },
   {
    "duration": 13,
    "start_time": "2023-12-29T11:31:13.762Z"
   },
   {
    "duration": 1211,
    "start_time": "2023-12-29T11:31:17.490Z"
   },
   {
    "duration": 14,
    "start_time": "2023-12-29T11:31:20.709Z"
   },
   {
    "duration": 12,
    "start_time": "2023-12-29T11:31:21.902Z"
   },
   {
    "duration": 12,
    "start_time": "2023-12-29T11:31:23.075Z"
   },
   {
    "duration": 1313,
    "start_time": "2023-12-30T14:05:42.656Z"
   },
   {
    "duration": 93,
    "start_time": "2023-12-30T14:05:45.015Z"
   },
   {
    "duration": 17,
    "start_time": "2023-12-30T14:05:45.750Z"
   },
   {
    "duration": 4,
    "start_time": "2023-12-30T14:05:46.548Z"
   },
   {
    "duration": 14,
    "start_time": "2023-12-30T14:05:47.900Z"
   },
   {
    "duration": 16,
    "start_time": "2023-12-30T14:05:56.924Z"
   },
   {
    "duration": 4,
    "start_time": "2023-12-30T14:05:57.301Z"
   },
   {
    "duration": 39,
    "start_time": "2023-12-30T14:06:01.699Z"
   },
   {
    "duration": 15,
    "start_time": "2023-12-30T14:06:03.764Z"
   },
   {
    "duration": 5,
    "start_time": "2023-12-30T14:06:04.480Z"
   },
   {
    "duration": 5,
    "start_time": "2023-12-30T14:06:04.795Z"
   },
   {
    "duration": 6,
    "start_time": "2023-12-30T14:06:05.174Z"
   },
   {
    "duration": 5,
    "start_time": "2023-12-30T14:06:05.473Z"
   },
   {
    "duration": 6,
    "start_time": "2023-12-30T14:06:05.852Z"
   },
   {
    "duration": 5,
    "start_time": "2023-12-30T14:06:06.135Z"
   },
   {
    "duration": 5,
    "start_time": "2023-12-30T14:06:06.454Z"
   },
   {
    "duration": 5,
    "start_time": "2023-12-30T14:06:06.796Z"
   },
   {
    "duration": 5,
    "start_time": "2023-12-30T14:06:07.162Z"
   },
   {
    "duration": 6,
    "start_time": "2023-12-30T14:06:07.437Z"
   },
   {
    "duration": 5,
    "start_time": "2023-12-30T14:06:07.709Z"
   },
   {
    "duration": 5,
    "start_time": "2023-12-30T14:06:08.918Z"
   },
   {
    "duration": 4,
    "start_time": "2023-12-30T14:06:09.617Z"
   },
   {
    "duration": 12,
    "start_time": "2023-12-30T14:06:11.798Z"
   },
   {
    "duration": 5,
    "start_time": "2023-12-30T14:06:12.360Z"
   },
   {
    "duration": 21,
    "start_time": "2023-12-30T14:07:03.629Z"
   },
   {
    "duration": 5,
    "start_time": "2023-12-30T14:07:53.275Z"
   },
   {
    "duration": 31,
    "start_time": "2023-12-30T14:09:06.483Z"
   },
   {
    "duration": 9,
    "start_time": "2023-12-30T14:09:49.076Z"
   },
   {
    "duration": 5,
    "start_time": "2023-12-30T14:09:49.910Z"
   },
   {
    "duration": 15,
    "start_time": "2023-12-30T14:09:51.586Z"
   },
   {
    "duration": 1236,
    "start_time": "2023-12-30T19:53:42.892Z"
   },
   {
    "duration": 79,
    "start_time": "2023-12-30T19:53:44.132Z"
   },
   {
    "duration": 35,
    "start_time": "2023-12-30T19:53:44.213Z"
   },
   {
    "duration": 6,
    "start_time": "2023-12-30T19:53:44.253Z"
   },
   {
    "duration": 15,
    "start_time": "2023-12-30T19:53:44.261Z"
   },
   {
    "duration": 14,
    "start_time": "2023-12-30T19:53:44.278Z"
   },
   {
    "duration": 38,
    "start_time": "2023-12-30T19:53:44.294Z"
   },
   {
    "duration": 47,
    "start_time": "2023-12-30T19:53:44.333Z"
   },
   {
    "duration": 12,
    "start_time": "2023-12-30T19:53:44.382Z"
   },
   {
    "duration": 4,
    "start_time": "2023-12-30T19:53:44.396Z"
   },
   {
    "duration": 33,
    "start_time": "2023-12-30T19:53:44.402Z"
   },
   {
    "duration": 22,
    "start_time": "2023-12-30T19:53:44.437Z"
   },
   {
    "duration": 7,
    "start_time": "2023-12-30T19:53:44.460Z"
   },
   {
    "duration": 16,
    "start_time": "2023-12-30T19:53:44.468Z"
   },
   {
    "duration": 21,
    "start_time": "2023-12-30T19:53:44.485Z"
   },
   {
    "duration": 27,
    "start_time": "2023-12-30T19:53:44.508Z"
   },
   {
    "duration": 9,
    "start_time": "2023-12-30T19:53:44.537Z"
   },
   {
    "duration": 27,
    "start_time": "2023-12-30T19:53:44.548Z"
   },
   {
    "duration": 16,
    "start_time": "2023-12-30T19:53:44.577Z"
   },
   {
    "duration": 19,
    "start_time": "2023-12-30T19:53:44.595Z"
   },
   {
    "duration": 20,
    "start_time": "2023-12-30T19:53:44.616Z"
   },
   {
    "duration": 22,
    "start_time": "2023-12-30T19:53:44.638Z"
   },
   {
    "duration": 33,
    "start_time": "2023-12-30T19:53:44.662Z"
   },
   {
    "duration": 21,
    "start_time": "2023-12-30T19:53:44.696Z"
   },
   {
    "duration": 58,
    "start_time": "2023-12-30T19:53:44.719Z"
   },
   {
    "duration": 10,
    "start_time": "2023-12-30T19:53:44.779Z"
   },
   {
    "duration": 29,
    "start_time": "2023-12-30T19:53:44.791Z"
   },
   {
    "duration": 48,
    "start_time": "2023-12-30T19:53:44.825Z"
   },
   {
    "duration": 8,
    "start_time": "2023-12-30T19:53:44.874Z"
   },
   {
    "duration": 46,
    "start_time": "2023-12-30T19:53:44.884Z"
   },
   {
    "duration": 31,
    "start_time": "2023-12-30T19:53:44.932Z"
   },
   {
    "duration": 33,
    "start_time": "2023-12-30T19:53:44.965Z"
   },
   {
    "duration": 37,
    "start_time": "2023-12-30T19:53:45.000Z"
   },
   {
    "duration": 34,
    "start_time": "2023-12-30T19:53:45.039Z"
   },
   {
    "duration": 43,
    "start_time": "2023-12-30T19:53:45.075Z"
   },
   {
    "duration": 33,
    "start_time": "2023-12-30T19:53:45.120Z"
   },
   {
    "duration": 25,
    "start_time": "2023-12-30T19:53:45.154Z"
   },
   {
    "duration": 29,
    "start_time": "2023-12-30T19:53:45.180Z"
   },
   {
    "duration": 29,
    "start_time": "2023-12-30T19:53:45.210Z"
   },
   {
    "duration": 50,
    "start_time": "2023-12-30T19:53:45.240Z"
   },
   {
    "duration": 9,
    "start_time": "2023-12-30T19:53:45.292Z"
   },
   {
    "duration": 54,
    "start_time": "2023-12-30T19:53:45.304Z"
   },
   {
    "duration": 205,
    "start_time": "2023-12-30T19:53:45.360Z"
   },
   {
    "duration": 230,
    "start_time": "2023-12-30T19:53:45.567Z"
   },
   {
    "duration": 216,
    "start_time": "2023-12-30T19:53:45.799Z"
   },
   {
    "duration": 377,
    "start_time": "2023-12-30T19:53:46.017Z"
   },
   {
    "duration": 9,
    "start_time": "2023-12-30T19:53:46.395Z"
   },
   {
    "duration": 201,
    "start_time": "2023-12-30T19:53:46.406Z"
   },
   {
    "duration": 205,
    "start_time": "2023-12-30T19:53:46.609Z"
   },
   {
    "duration": 215,
    "start_time": "2023-12-30T19:53:46.816Z"
   },
   {
    "duration": 182,
    "start_time": "2023-12-30T19:53:47.033Z"
   },
   {
    "duration": 269,
    "start_time": "2023-12-30T19:53:47.217Z"
   },
   {
    "duration": 218,
    "start_time": "2023-12-30T19:53:47.487Z"
   },
   {
    "duration": 190,
    "start_time": "2023-12-30T19:53:47.707Z"
   },
   {
    "duration": 15,
    "start_time": "2023-12-30T19:53:47.899Z"
   },
   {
    "duration": 53,
    "start_time": "2023-12-30T19:53:47.932Z"
   },
   {
    "duration": 1633,
    "start_time": "2023-12-30T19:53:47.987Z"
   },
   {
    "duration": 13,
    "start_time": "2023-12-30T19:53:49.622Z"
   },
   {
    "duration": 10,
    "start_time": "2023-12-30T19:53:49.636Z"
   },
   {
    "duration": 17,
    "start_time": "2023-12-30T19:53:49.647Z"
   },
   {
    "duration": 13,
    "start_time": "2023-12-30T19:53:49.666Z"
   },
   {
    "duration": 429,
    "start_time": "2023-12-30T19:53:49.681Z"
   },
   {
    "duration": 22,
    "start_time": "2023-12-30T19:53:50.112Z"
   },
   {
    "duration": 6,
    "start_time": "2023-12-30T19:53:50.135Z"
   },
   {
    "duration": 18,
    "start_time": "2023-12-30T19:53:50.142Z"
   },
   {
    "duration": 5,
    "start_time": "2023-12-30T19:53:50.161Z"
   },
   {
    "duration": 13,
    "start_time": "2023-12-30T19:53:50.168Z"
   },
   {
    "duration": 352,
    "start_time": "2023-12-30T19:53:50.183Z"
   },
   {
    "duration": 16,
    "start_time": "2023-12-30T19:53:50.537Z"
   },
   {
    "duration": 1038,
    "start_time": "2023-12-30T19:53:50.554Z"
   },
   {
    "duration": 13,
    "start_time": "2023-12-30T19:53:51.594Z"
   },
   {
    "duration": 34,
    "start_time": "2023-12-30T19:53:51.609Z"
   },
   {
    "duration": 11,
    "start_time": "2023-12-30T19:53:51.646Z"
   },
   {
    "duration": 1315,
    "start_time": "2023-12-31T10:41:02.342Z"
   },
   {
    "duration": 159,
    "start_time": "2023-12-31T10:41:03.659Z"
   },
   {
    "duration": 16,
    "start_time": "2023-12-31T10:41:03.820Z"
   },
   {
    "duration": 3,
    "start_time": "2023-12-31T10:41:03.838Z"
   },
   {
    "duration": 15,
    "start_time": "2023-12-31T10:41:03.842Z"
   },
   {
    "duration": 18,
    "start_time": "2023-12-31T10:41:03.859Z"
   },
   {
    "duration": 3,
    "start_time": "2023-12-31T10:41:03.878Z"
   },
   {
    "duration": 51,
    "start_time": "2023-12-31T10:41:03.882Z"
   },
   {
    "duration": 11,
    "start_time": "2023-12-31T10:41:03.934Z"
   },
   {
    "duration": 3,
    "start_time": "2023-12-31T10:41:03.947Z"
   },
   {
    "duration": 8,
    "start_time": "2023-12-31T10:41:03.952Z"
   },
   {
    "duration": 13,
    "start_time": "2023-12-31T10:41:03.962Z"
   },
   {
    "duration": 5,
    "start_time": "2023-12-31T10:41:03.977Z"
   },
   {
    "duration": 7,
    "start_time": "2023-12-31T10:41:03.983Z"
   },
   {
    "duration": 4,
    "start_time": "2023-12-31T10:41:03.991Z"
   },
   {
    "duration": 7,
    "start_time": "2023-12-31T10:41:03.997Z"
   },
   {
    "duration": 5,
    "start_time": "2023-12-31T10:41:04.005Z"
   },
   {
    "duration": 4,
    "start_time": "2023-12-31T10:41:04.011Z"
   },
   {
    "duration": 18,
    "start_time": "2023-12-31T10:41:04.017Z"
   },
   {
    "duration": 30,
    "start_time": "2023-12-31T10:41:04.037Z"
   },
   {
    "duration": 7,
    "start_time": "2023-12-31T10:41:04.068Z"
   },
   {
    "duration": 9,
    "start_time": "2023-12-31T10:41:04.076Z"
   },
   {
    "duration": 11,
    "start_time": "2023-12-31T10:41:04.087Z"
   },
   {
    "duration": 3,
    "start_time": "2023-12-31T10:41:04.100Z"
   },
   {
    "duration": 18,
    "start_time": "2023-12-31T10:41:04.104Z"
   },
   {
    "duration": 5,
    "start_time": "2023-12-31T10:41:04.123Z"
   },
   {
    "duration": 36,
    "start_time": "2023-12-31T10:41:04.130Z"
   },
   {
    "duration": 28,
    "start_time": "2023-12-31T10:41:04.169Z"
   },
   {
    "duration": 6,
    "start_time": "2023-12-31T10:41:04.199Z"
   },
   {
    "duration": 9,
    "start_time": "2023-12-31T10:41:04.207Z"
   },
   {
    "duration": 14,
    "start_time": "2023-12-31T10:41:04.217Z"
   },
   {
    "duration": 43,
    "start_time": "2023-12-31T10:41:04.232Z"
   },
   {
    "duration": 17,
    "start_time": "2023-12-31T10:41:04.277Z"
   },
   {
    "duration": 4,
    "start_time": "2023-12-31T10:41:04.295Z"
   },
   {
    "duration": 15,
    "start_time": "2023-12-31T10:41:04.301Z"
   },
   {
    "duration": 13,
    "start_time": "2023-12-31T10:41:04.317Z"
   },
   {
    "duration": 11,
    "start_time": "2023-12-31T10:41:04.331Z"
   },
   {
    "duration": 12,
    "start_time": "2023-12-31T10:41:04.365Z"
   },
   {
    "duration": 12,
    "start_time": "2023-12-31T10:41:04.378Z"
   },
   {
    "duration": 19,
    "start_time": "2023-12-31T10:41:04.391Z"
   },
   {
    "duration": 8,
    "start_time": "2023-12-31T10:41:04.411Z"
   },
   {
    "duration": 54,
    "start_time": "2023-12-31T10:41:04.421Z"
   },
   {
    "duration": 181,
    "start_time": "2023-12-31T10:41:04.477Z"
   },
   {
    "duration": 187,
    "start_time": "2023-12-31T10:41:04.664Z"
   },
   {
    "duration": 187,
    "start_time": "2023-12-31T10:41:04.852Z"
   },
   {
    "duration": 356,
    "start_time": "2023-12-31T10:41:05.040Z"
   },
   {
    "duration": 7,
    "start_time": "2023-12-31T10:41:05.398Z"
   },
   {
    "duration": 174,
    "start_time": "2023-12-31T10:41:05.407Z"
   },
   {
    "duration": 167,
    "start_time": "2023-12-31T10:41:05.582Z"
   },
   {
    "duration": 170,
    "start_time": "2023-12-31T10:41:05.751Z"
   },
   {
    "duration": 159,
    "start_time": "2023-12-31T10:41:05.923Z"
   },
   {
    "duration": 203,
    "start_time": "2023-12-31T10:41:06.084Z"
   },
   {
    "duration": 148,
    "start_time": "2023-12-31T10:41:06.289Z"
   },
   {
    "duration": 158,
    "start_time": "2023-12-31T10:41:06.439Z"
   },
   {
    "duration": 11,
    "start_time": "2023-12-31T10:41:06.599Z"
   },
   {
    "duration": 71,
    "start_time": "2023-12-31T10:41:06.611Z"
   },
   {
    "duration": 1472,
    "start_time": "2023-12-31T10:41:06.684Z"
   },
   {
    "duration": 10,
    "start_time": "2023-12-31T10:41:08.157Z"
   },
   {
    "duration": 4,
    "start_time": "2023-12-31T10:41:08.168Z"
   },
   {
    "duration": 4,
    "start_time": "2023-12-31T10:41:08.174Z"
   },
   {
    "duration": 6,
    "start_time": "2023-12-31T10:41:08.179Z"
   },
   {
    "duration": 401,
    "start_time": "2023-12-31T10:41:08.186Z"
   },
   {
    "duration": 12,
    "start_time": "2023-12-31T10:41:08.588Z"
   },
   {
    "duration": 5,
    "start_time": "2023-12-31T10:41:08.602Z"
   },
   {
    "duration": 8,
    "start_time": "2023-12-31T10:41:08.608Z"
   },
   {
    "duration": 3,
    "start_time": "2023-12-31T10:41:08.618Z"
   },
   {
    "duration": 6,
    "start_time": "2023-12-31T10:41:08.622Z"
   },
   {
    "duration": 318,
    "start_time": "2023-12-31T10:41:08.629Z"
   },
   {
    "duration": 21,
    "start_time": "2023-12-31T10:41:08.949Z"
   },
   {
    "duration": 951,
    "start_time": "2023-12-31T10:41:08.972Z"
   },
   {
    "duration": 11,
    "start_time": "2023-12-31T10:41:09.924Z"
   },
   {
    "duration": 11,
    "start_time": "2023-12-31T10:41:09.936Z"
   },
   {
    "duration": 25,
    "start_time": "2023-12-31T10:41:09.948Z"
   },
   {
    "duration": 1331,
    "start_time": "2024-01-06T15:01:01.935Z"
   },
   {
    "duration": 155,
    "start_time": "2024-01-06T15:01:03.269Z"
   },
   {
    "duration": 16,
    "start_time": "2024-01-06T15:01:04.549Z"
   },
   {
    "duration": 3,
    "start_time": "2024-01-06T15:01:05.033Z"
   },
   {
    "duration": 12,
    "start_time": "2024-01-06T15:01:05.703Z"
   },
   {
    "duration": 13,
    "start_time": "2024-01-06T15:01:07.214Z"
   },
   {
    "duration": 10,
    "start_time": "2024-01-06T15:01:07.587Z"
   },
   {
    "duration": 48,
    "start_time": "2024-01-06T15:01:08.471Z"
   },
   {
    "duration": 11,
    "start_time": "2024-01-06T15:01:09.308Z"
   },
   {
    "duration": 4,
    "start_time": "2024-01-06T15:01:10.044Z"
   },
   {
    "duration": 4,
    "start_time": "2024-01-06T15:01:10.812Z"
   },
   {
    "duration": 5,
    "start_time": "2024-01-06T15:01:11.193Z"
   },
   {
    "duration": 6,
    "start_time": "2024-01-06T15:01:11.556Z"
   },
   {
    "duration": 5,
    "start_time": "2024-01-06T15:01:11.918Z"
   },
   {
    "duration": 9,
    "start_time": "2024-01-06T15:01:12.285Z"
   },
   {
    "duration": 5,
    "start_time": "2024-01-06T15:01:12.649Z"
   },
   {
    "duration": 4,
    "start_time": "2024-01-06T15:01:13.013Z"
   },
   {
    "duration": 5,
    "start_time": "2024-01-06T15:01:13.537Z"
   },
   {
    "duration": 4,
    "start_time": "2024-01-06T15:01:13.939Z"
   },
   {
    "duration": 5,
    "start_time": "2024-01-06T15:01:14.349Z"
   },
   {
    "duration": 5,
    "start_time": "2024-01-06T15:01:15.044Z"
   },
   {
    "duration": 5,
    "start_time": "2024-01-06T15:01:23.777Z"
   },
   {
    "duration": 10,
    "start_time": "2024-01-06T15:01:25.043Z"
   },
   {
    "duration": 5,
    "start_time": "2024-01-06T15:01:25.292Z"
   },
   {
    "duration": 22,
    "start_time": "2024-01-06T15:01:25.790Z"
   },
   {
    "duration": 9,
    "start_time": "2024-01-06T15:01:26.484Z"
   },
   {
    "duration": 14,
    "start_time": "2024-01-06T15:01:26.801Z"
   },
   {
    "duration": 29,
    "start_time": "2024-01-06T15:01:43.525Z"
   },
   {
    "duration": 7,
    "start_time": "2024-01-06T15:01:44.194Z"
   },
   {
    "duration": 4,
    "start_time": "2024-01-06T15:01:44.823Z"
   },
   {
    "duration": 19,
    "start_time": "2024-01-06T15:01:45.574Z"
   },
   {
    "duration": 28,
    "start_time": "2024-01-06T15:01:47.573Z"
   },
   {
    "duration": 11,
    "start_time": "2024-01-06T15:01:48.003Z"
   },
   {
    "duration": 5,
    "start_time": "2024-01-06T15:01:49.195Z"
   },
   {
    "duration": 14,
    "start_time": "2024-01-06T15:01:51.729Z"
   },
   {
    "duration": 13,
    "start_time": "2024-01-06T15:01:52.020Z"
   },
   {
    "duration": 6,
    "start_time": "2024-01-06T15:01:52.592Z"
   },
   {
    "duration": 13,
    "start_time": "2024-01-06T15:01:53.149Z"
   },
   {
    "duration": 14,
    "start_time": "2024-01-06T15:01:53.730Z"
   },
   {
    "duration": 21,
    "start_time": "2024-01-06T15:01:54.014Z"
   },
   {
    "duration": 9,
    "start_time": "2024-01-06T15:01:55.618Z"
   },
   {
    "duration": 27,
    "start_time": "2024-01-06T15:02:06.641Z"
   },
   {
    "duration": 26,
    "start_time": "2024-01-06T15:03:03.262Z"
   },
   {
    "duration": 24,
    "start_time": "2024-01-06T15:03:09.350Z"
   },
   {
    "duration": 24,
    "start_time": "2024-01-06T15:03:15.644Z"
   },
   {
    "duration": 24,
    "start_time": "2024-01-06T15:03:21.140Z"
   },
   {
    "duration": 122,
    "start_time": "2024-01-06T15:06:00.296Z"
   },
   {
    "duration": 19,
    "start_time": "2024-01-06T15:16:36.395Z"
   },
   {
    "duration": 17,
    "start_time": "2024-01-06T15:16:42.053Z"
   },
   {
    "duration": 10,
    "start_time": "2024-01-06T15:19:59.956Z"
   },
   {
    "duration": 6,
    "start_time": "2024-01-06T15:21:35.614Z"
   },
   {
    "duration": 10,
    "start_time": "2024-01-06T15:21:45.553Z"
   },
   {
    "duration": 8,
    "start_time": "2024-01-06T15:21:47.748Z"
   },
   {
    "duration": 4,
    "start_time": "2024-01-06T15:21:56.801Z"
   },
   {
    "duration": 9,
    "start_time": "2024-01-06T15:22:02.351Z"
   },
   {
    "duration": 66,
    "start_time": "2024-01-06T15:26:55.835Z"
   },
   {
    "duration": 3,
    "start_time": "2024-01-06T15:27:21.503Z"
   },
   {
    "duration": 9,
    "start_time": "2024-01-06T15:27:26.262Z"
   },
   {
    "duration": 9,
    "start_time": "2024-01-06T15:27:44.197Z"
   },
   {
    "duration": 17,
    "start_time": "2024-01-06T15:28:11.104Z"
   },
   {
    "duration": 10,
    "start_time": "2024-01-06T15:31:24.370Z"
   },
   {
    "duration": 14,
    "start_time": "2024-01-06T15:31:28.817Z"
   },
   {
    "duration": 13,
    "start_time": "2024-01-06T15:31:37.792Z"
   },
   {
    "duration": 29,
    "start_time": "2024-01-06T15:31:52.888Z"
   },
   {
    "duration": 73,
    "start_time": "2024-01-06T15:33:58.815Z"
   },
   {
    "duration": 34,
    "start_time": "2024-01-06T15:34:07.128Z"
   },
   {
    "duration": 21,
    "start_time": "2024-01-06T15:34:30.997Z"
   },
   {
    "duration": 34,
    "start_time": "2024-01-06T15:35:00.117Z"
   },
   {
    "duration": 32,
    "start_time": "2024-01-06T15:35:10.045Z"
   },
   {
    "duration": 31,
    "start_time": "2024-01-06T15:36:38.697Z"
   },
   {
    "duration": 19,
    "start_time": "2024-01-06T15:36:58.220Z"
   },
   {
    "duration": 32,
    "start_time": "2024-01-06T15:41:19.340Z"
   },
   {
    "duration": 12,
    "start_time": "2024-01-06T15:41:39.415Z"
   },
   {
    "duration": 136,
    "start_time": "2024-01-06T15:50:12.593Z"
   },
   {
    "duration": 3,
    "start_time": "2024-01-06T15:50:27.720Z"
   },
   {
    "duration": 32,
    "start_time": "2024-01-06T15:51:10.947Z"
   },
   {
    "duration": 75,
    "start_time": "2024-01-06T15:54:10.440Z"
   },
   {
    "duration": 32,
    "start_time": "2024-01-06T15:54:21.978Z"
   },
   {
    "duration": 35,
    "start_time": "2024-01-06T16:07:51.049Z"
   },
   {
    "duration": 12,
    "start_time": "2024-01-06T16:07:52.777Z"
   },
   {
    "duration": 30,
    "start_time": "2024-01-06T16:23:17.207Z"
   },
   {
    "duration": 27,
    "start_time": "2024-01-06T16:23:21.649Z"
   },
   {
    "duration": 1289,
    "start_time": "2024-01-08T08:32:31.800Z"
   },
   {
    "duration": 150,
    "start_time": "2024-01-08T08:32:33.091Z"
   },
   {
    "duration": 23,
    "start_time": "2024-01-08T08:32:36.912Z"
   },
   {
    "duration": 4,
    "start_time": "2024-01-08T08:32:37.334Z"
   },
   {
    "duration": 11,
    "start_time": "2024-01-08T08:32:37.744Z"
   },
   {
    "duration": 12,
    "start_time": "2024-01-08T08:32:39.119Z"
   },
   {
    "duration": 4,
    "start_time": "2024-01-08T08:32:39.377Z"
   },
   {
    "duration": 37,
    "start_time": "2024-01-08T08:32:40.450Z"
   },
   {
    "duration": 17,
    "start_time": "2024-01-08T08:32:40.682Z"
   },
   {
    "duration": 4,
    "start_time": "2024-01-08T08:32:41.726Z"
   },
   {
    "duration": 4,
    "start_time": "2024-01-08T08:32:42.129Z"
   },
   {
    "duration": 5,
    "start_time": "2024-01-08T08:32:42.442Z"
   },
   {
    "duration": 5,
    "start_time": "2024-01-08T08:32:42.677Z"
   },
   {
    "duration": 4,
    "start_time": "2024-01-08T08:32:42.968Z"
   },
   {
    "duration": 5,
    "start_time": "2024-01-08T08:32:43.253Z"
   },
   {
    "duration": 4,
    "start_time": "2024-01-08T08:32:43.520Z"
   },
   {
    "duration": 5,
    "start_time": "2024-01-08T08:32:43.765Z"
   },
   {
    "duration": 4,
    "start_time": "2024-01-08T08:32:44.048Z"
   },
   {
    "duration": 4,
    "start_time": "2024-01-08T08:32:44.317Z"
   },
   {
    "duration": 5,
    "start_time": "2024-01-08T08:32:44.551Z"
   },
   {
    "duration": 5,
    "start_time": "2024-01-08T08:32:45.062Z"
   },
   {
    "duration": 5,
    "start_time": "2024-01-08T08:32:50.751Z"
   },
   {
    "duration": 12,
    "start_time": "2024-01-08T08:32:51.555Z"
   },
   {
    "duration": 4,
    "start_time": "2024-01-08T08:32:51.802Z"
   },
   {
    "duration": 19,
    "start_time": "2024-01-08T08:32:52.319Z"
   },
   {
    "duration": 6,
    "start_time": "2024-01-08T08:32:52.811Z"
   },
   {
    "duration": 15,
    "start_time": "2024-01-08T08:32:53.076Z"
   },
   {
    "duration": 27,
    "start_time": "2024-01-08T08:32:54.074Z"
   },
   {
    "duration": 7,
    "start_time": "2024-01-08T08:32:54.605Z"
   },
   {
    "duration": 6,
    "start_time": "2024-01-08T08:32:55.425Z"
   },
   {
    "duration": 15,
    "start_time": "2024-01-08T08:32:55.951Z"
   },
   {
    "duration": 19,
    "start_time": "2024-01-08T08:32:56.460Z"
   },
   {
    "duration": 12,
    "start_time": "2024-01-08T08:32:56.664Z"
   },
   {
    "duration": 4,
    "start_time": "2024-01-08T08:32:57.529Z"
   },
   {
    "duration": 18,
    "start_time": "2024-01-08T08:32:58.067Z"
   },
   {
    "duration": 16,
    "start_time": "2024-01-08T08:32:58.323Z"
   },
   {
    "duration": 7,
    "start_time": "2024-01-08T08:32:59.029Z"
   },
   {
    "duration": 11,
    "start_time": "2024-01-08T08:32:59.567Z"
   },
   {
    "duration": 14,
    "start_time": "2024-01-08T08:33:00.247Z"
   },
   {
    "duration": 20,
    "start_time": "2024-01-08T08:33:00.506Z"
   },
   {
    "duration": 9,
    "start_time": "2024-01-08T08:33:02.167Z"
   },
   {
    "duration": 28,
    "start_time": "2024-01-08T08:33:02.916Z"
   },
   {
    "duration": 174,
    "start_time": "2024-01-08T08:33:04.039Z"
   },
   {
    "duration": 182,
    "start_time": "2024-01-08T08:33:05.075Z"
   },
   {
    "duration": 181,
    "start_time": "2024-01-08T08:33:06.025Z"
   },
   {
    "duration": 336,
    "start_time": "2024-01-08T08:33:07.722Z"
   },
   {
    "duration": 12,
    "start_time": "2024-01-08T08:40:10.197Z"
   },
   {
    "duration": 91,
    "start_time": "2024-01-08T08:47:11.079Z"
   },
   {
    "duration": 24,
    "start_time": "2024-01-08T08:47:21.170Z"
   },
   {
    "duration": 162,
    "start_time": "2024-01-08T08:47:24.084Z"
   },
   {
    "duration": 191,
    "start_time": "2024-01-08T08:47:25.235Z"
   },
   {
    "duration": 173,
    "start_time": "2024-01-08T08:47:26.170Z"
   },
   {
    "duration": 376,
    "start_time": "2024-01-08T08:47:27.726Z"
   },
   {
    "duration": 7,
    "start_time": "2024-01-08T08:47:29.102Z"
   },
   {
    "duration": 151,
    "start_time": "2024-01-08T08:47:30.408Z"
   },
   {
    "duration": 8,
    "start_time": "2024-01-08T08:47:32.041Z"
   },
   {
    "duration": 13,
    "start_time": "2024-01-08T08:48:21.818Z"
   },
   {
    "duration": 12,
    "start_time": "2024-01-08T08:54:18.135Z"
   },
   {
    "duration": 175,
    "start_time": "2024-01-08T08:54:54.858Z"
   },
   {
    "duration": 1132,
    "start_time": "2024-01-08T08:55:38.380Z"
   },
   {
    "duration": 149,
    "start_time": "2024-01-08T08:57:13.382Z"
   },
   {
    "duration": 161,
    "start_time": "2024-01-08T08:58:42.251Z"
   },
   {
    "duration": 140,
    "start_time": "2024-01-08T08:59:20.973Z"
   },
   {
    "duration": 138,
    "start_time": "2024-01-08T08:59:58.092Z"
   },
   {
    "duration": 148,
    "start_time": "2024-01-08T09:00:25.268Z"
   },
   {
    "duration": 150,
    "start_time": "2024-01-08T09:03:30.317Z"
   },
   {
    "duration": 144,
    "start_time": "2024-01-08T09:03:39.406Z"
   },
   {
    "duration": 3,
    "start_time": "2024-01-08T09:05:57.637Z"
   },
   {
    "duration": 75,
    "start_time": "2024-01-08T09:07:35.163Z"
   },
   {
    "duration": 152,
    "start_time": "2024-01-08T09:07:47.334Z"
   },
   {
    "duration": 25,
    "start_time": "2024-01-08T09:13:18.966Z"
   },
   {
    "duration": 204,
    "start_time": "2024-01-08T09:14:03.468Z"
   },
   {
    "duration": 1213,
    "start_time": "2024-01-08T09:14:21.626Z"
   },
   {
    "duration": 111,
    "start_time": "2024-01-08T09:15:19.000Z"
   },
   {
    "duration": 114,
    "start_time": "2024-01-08T09:17:30.959Z"
   },
   {
    "duration": 107,
    "start_time": "2024-01-08T09:17:47.953Z"
   },
   {
    "duration": 85,
    "start_time": "2024-01-08T09:18:17.402Z"
   },
   {
    "duration": 126,
    "start_time": "2024-01-08T09:18:26.013Z"
   },
   {
    "duration": 22,
    "start_time": "2024-01-08T09:18:42.282Z"
   },
   {
    "duration": 24,
    "start_time": "2024-01-08T09:18:50.287Z"
   },
   {
    "duration": 28,
    "start_time": "2024-01-08T09:20:21.881Z"
   },
   {
    "duration": 120,
    "start_time": "2024-01-08T09:20:51.358Z"
   },
   {
    "duration": 151,
    "start_time": "2024-01-08T09:26:10.430Z"
   },
   {
    "duration": 179,
    "start_time": "2024-01-08T09:26:30.013Z"
   },
   {
    "duration": 72,
    "start_time": "2024-01-08T09:26:37.952Z"
   },
   {
    "duration": 75,
    "start_time": "2024-01-08T09:27:10.952Z"
   },
   {
    "duration": 68,
    "start_time": "2024-01-08T09:28:52.695Z"
   },
   {
    "duration": 21,
    "start_time": "2024-01-08T09:29:21.016Z"
   },
   {
    "duration": 114,
    "start_time": "2024-01-08T09:30:18.196Z"
   },
   {
    "duration": 74,
    "start_time": "2024-01-08T09:30:50.311Z"
   },
   {
    "duration": 80,
    "start_time": "2024-01-08T09:31:25.759Z"
   },
   {
    "duration": 110,
    "start_time": "2024-01-08T09:31:32.482Z"
   },
   {
    "duration": 111,
    "start_time": "2024-01-08T09:32:04.536Z"
   },
   {
    "duration": 117,
    "start_time": "2024-01-08T09:35:12.295Z"
   },
   {
    "duration": 21,
    "start_time": "2024-01-08T09:35:19.865Z"
   },
   {
    "duration": 119,
    "start_time": "2024-01-08T09:35:27.827Z"
   },
   {
    "duration": 196,
    "start_time": "2024-01-08T09:35:33.620Z"
   },
   {
    "duration": 22,
    "start_time": "2024-01-08T09:35:50.020Z"
   },
   {
    "duration": 112,
    "start_time": "2024-01-08T09:36:32.398Z"
   },
   {
    "duration": 190,
    "start_time": "2024-01-08T09:39:00.425Z"
   },
   {
    "duration": 144,
    "start_time": "2024-01-08T09:41:20.461Z"
   },
   {
    "duration": 160,
    "start_time": "2024-01-08T09:41:34.355Z"
   },
   {
    "duration": 72,
    "start_time": "2024-01-08T09:41:48.964Z"
   },
   {
    "duration": 69,
    "start_time": "2024-01-08T09:41:55.594Z"
   },
   {
    "duration": 80,
    "start_time": "2024-01-08T09:43:03.236Z"
   },
   {
    "duration": 24,
    "start_time": "2024-01-08T09:43:31.557Z"
   },
   {
    "duration": 22,
    "start_time": "2024-01-08T09:44:04.592Z"
   },
   {
    "duration": 27,
    "start_time": "2024-01-08T09:44:12.678Z"
   },
   {
    "duration": 20,
    "start_time": "2024-01-08T09:44:44.736Z"
   },
   {
    "duration": 88,
    "start_time": "2024-01-08T09:48:59.662Z"
   },
   {
    "duration": 79,
    "start_time": "2024-01-08T09:49:07.845Z"
   },
   {
    "duration": 22,
    "start_time": "2024-01-08T09:49:22.979Z"
   },
   {
    "duration": 24,
    "start_time": "2024-01-08T09:49:31.417Z"
   },
   {
    "duration": 20,
    "start_time": "2024-01-08T09:51:10.937Z"
   },
   {
    "duration": 21,
    "start_time": "2024-01-08T09:52:06.074Z"
   },
   {
    "duration": 23,
    "start_time": "2024-01-08T09:53:53.816Z"
   },
   {
    "duration": 227,
    "start_time": "2024-01-08T09:54:05.205Z"
   },
   {
    "duration": 235,
    "start_time": "2024-01-08T09:54:38.079Z"
   },
   {
    "duration": 75,
    "start_time": "2024-01-08T09:54:56.233Z"
   },
   {
    "duration": 143,
    "start_time": "2024-01-08T09:55:01.996Z"
   },
   {
    "duration": 65,
    "start_time": "2024-01-08T09:55:15.792Z"
   },
   {
    "duration": 24,
    "start_time": "2024-01-08T09:57:05.038Z"
   },
   {
    "duration": 21,
    "start_time": "2024-01-08T09:57:53.627Z"
   },
   {
    "duration": 78,
    "start_time": "2024-01-08T09:59:34.702Z"
   },
   {
    "duration": 17,
    "start_time": "2024-01-08T09:59:38.342Z"
   },
   {
    "duration": 22,
    "start_time": "2024-01-08T09:59:49.397Z"
   },
   {
    "duration": 21,
    "start_time": "2024-01-08T10:03:56.009Z"
   },
   {
    "duration": 8,
    "start_time": "2024-01-08T10:04:53.414Z"
   },
   {
    "duration": 109,
    "start_time": "2024-01-08T10:05:45.190Z"
   },
   {
    "duration": 250,
    "start_time": "2024-01-08T10:06:09.355Z"
   },
   {
    "duration": 89,
    "start_time": "2024-01-08T10:06:22.988Z"
   },
   {
    "duration": 79,
    "start_time": "2024-01-08T10:06:31.114Z"
   },
   {
    "duration": 115,
    "start_time": "2024-01-08T10:06:35.574Z"
   },
   {
    "duration": 106,
    "start_time": "2024-01-08T10:06:53.519Z"
   },
   {
    "duration": 263,
    "start_time": "2024-01-08T10:07:30.625Z"
   },
   {
    "duration": 278,
    "start_time": "2024-01-08T10:10:09.598Z"
   },
   {
    "duration": 176,
    "start_time": "2024-01-08T10:10:26.693Z"
   },
   {
    "duration": 139,
    "start_time": "2024-01-08T10:10:50.754Z"
   },
   {
    "duration": 242,
    "start_time": "2024-01-08T10:10:59.954Z"
   },
   {
    "duration": 178,
    "start_time": "2024-01-08T10:11:31.495Z"
   },
   {
    "duration": 269,
    "start_time": "2024-01-08T10:13:07.406Z"
   },
   {
    "duration": 223,
    "start_time": "2024-01-08T10:16:56.070Z"
   },
   {
    "duration": 192,
    "start_time": "2024-01-08T10:17:03.675Z"
   },
   {
    "duration": 284,
    "start_time": "2024-01-08T10:17:50.494Z"
   },
   {
    "duration": 392,
    "start_time": "2024-01-08T10:17:55.585Z"
   },
   {
    "duration": 256,
    "start_time": "2024-01-08T10:20:41.218Z"
   },
   {
    "duration": 234,
    "start_time": "2024-01-08T10:22:08.742Z"
   },
   {
    "duration": 258,
    "start_time": "2024-01-08T10:22:56.429Z"
   },
   {
    "duration": 281,
    "start_time": "2024-01-08T10:23:15.586Z"
   },
   {
    "duration": 276,
    "start_time": "2024-01-08T10:23:26.498Z"
   },
   {
    "duration": 92,
    "start_time": "2024-01-08T10:23:44.102Z"
   },
   {
    "duration": 63,
    "start_time": "2024-01-08T10:31:18.279Z"
   },
   {
    "duration": 191,
    "start_time": "2024-01-08T10:31:21.986Z"
   },
   {
    "duration": 319,
    "start_time": "2024-01-08T10:31:59.654Z"
   },
   {
    "duration": 305,
    "start_time": "2024-01-08T10:33:54.962Z"
   },
   {
    "duration": 250,
    "start_time": "2024-01-08T10:37:43.519Z"
   },
   {
    "duration": 280,
    "start_time": "2024-01-08T10:37:56.770Z"
   },
   {
    "duration": 168,
    "start_time": "2024-01-08T10:38:22.535Z"
   },
   {
    "duration": 177,
    "start_time": "2024-01-08T10:38:28.026Z"
   },
   {
    "duration": 8,
    "start_time": "2024-01-08T10:39:12.610Z"
   },
   {
    "duration": 176,
    "start_time": "2024-01-08T10:39:23.711Z"
   },
   {
    "duration": 8,
    "start_time": "2024-01-08T10:43:26.465Z"
   },
   {
    "duration": 119,
    "start_time": "2024-01-08T10:43:47.316Z"
   },
   {
    "duration": 103,
    "start_time": "2024-01-08T10:46:36.814Z"
   },
   {
    "duration": 106,
    "start_time": "2024-01-08T10:46:46.642Z"
   },
   {
    "duration": 158,
    "start_time": "2024-01-08T10:49:56.586Z"
   },
   {
    "duration": 185,
    "start_time": "2024-01-08T10:50:47.708Z"
   },
   {
    "duration": 234,
    "start_time": "2024-01-08T10:51:17.972Z"
   },
   {
    "duration": 1253,
    "start_time": "2024-01-08T14:02:07.031Z"
   },
   {
    "duration": 152,
    "start_time": "2024-01-08T14:02:08.286Z"
   },
   {
    "duration": 16,
    "start_time": "2024-01-08T14:02:08.649Z"
   },
   {
    "duration": 4,
    "start_time": "2024-01-08T14:02:08.914Z"
   },
   {
    "duration": 13,
    "start_time": "2024-01-08T14:02:09.189Z"
   },
   {
    "duration": 14,
    "start_time": "2024-01-08T14:02:10.257Z"
   },
   {
    "duration": 4,
    "start_time": "2024-01-08T14:02:10.494Z"
   },
   {
    "duration": 35,
    "start_time": "2024-01-08T14:02:11.038Z"
   },
   {
    "duration": 12,
    "start_time": "2024-01-08T14:02:11.604Z"
   },
   {
    "duration": 4,
    "start_time": "2024-01-08T14:02:12.174Z"
   },
   {
    "duration": 5,
    "start_time": "2024-01-08T14:02:12.692Z"
   },
   {
    "duration": 6,
    "start_time": "2024-01-08T14:02:12.970Z"
   },
   {
    "duration": 4,
    "start_time": "2024-01-08T14:02:13.228Z"
   },
   {
    "duration": 5,
    "start_time": "2024-01-08T14:02:13.527Z"
   },
   {
    "duration": 5,
    "start_time": "2024-01-08T14:02:13.809Z"
   },
   {
    "duration": 4,
    "start_time": "2024-01-08T14:02:14.068Z"
   },
   {
    "duration": 5,
    "start_time": "2024-01-08T14:02:14.322Z"
   },
   {
    "duration": 4,
    "start_time": "2024-01-08T14:02:14.599Z"
   },
   {
    "duration": 4,
    "start_time": "2024-01-08T14:02:14.827Z"
   },
   {
    "duration": 5,
    "start_time": "2024-01-08T14:02:15.118Z"
   },
   {
    "duration": 5,
    "start_time": "2024-01-08T14:02:15.634Z"
   },
   {
    "duration": 4,
    "start_time": "2024-01-08T14:02:16.403Z"
   },
   {
    "duration": 11,
    "start_time": "2024-01-08T14:02:17.460Z"
   },
   {
    "duration": 5,
    "start_time": "2024-01-08T14:02:17.729Z"
   },
   {
    "duration": 19,
    "start_time": "2024-01-08T14:02:18.283Z"
   },
   {
    "duration": 8,
    "start_time": "2024-01-08T14:02:19.062Z"
   },
   {
    "duration": 14,
    "start_time": "2024-01-08T14:02:19.419Z"
   },
   {
    "duration": 28,
    "start_time": "2024-01-08T14:02:20.893Z"
   },
   {
    "duration": 7,
    "start_time": "2024-01-08T14:02:21.414Z"
   },
   {
    "duration": 4,
    "start_time": "2024-01-08T14:02:21.914Z"
   },
   {
    "duration": 15,
    "start_time": "2024-01-08T14:02:22.427Z"
   },
   {
    "duration": 21,
    "start_time": "2024-01-08T14:02:22.907Z"
   },
   {
    "duration": 13,
    "start_time": "2024-01-08T14:02:23.163Z"
   },
   {
    "duration": 5,
    "start_time": "2024-01-08T14:02:23.821Z"
   },
   {
    "duration": 15,
    "start_time": "2024-01-08T14:02:24.263Z"
   },
   {
    "duration": 12,
    "start_time": "2024-01-08T14:02:24.484Z"
   },
   {
    "duration": 6,
    "start_time": "2024-01-08T14:02:24.931Z"
   },
   {
    "duration": 12,
    "start_time": "2024-01-08T14:02:25.402Z"
   },
   {
    "duration": 13,
    "start_time": "2024-01-08T14:02:25.840Z"
   },
   {
    "duration": 18,
    "start_time": "2024-01-08T14:02:26.057Z"
   },
   {
    "duration": 8,
    "start_time": "2024-01-08T14:02:27.154Z"
   },
   {
    "duration": 25,
    "start_time": "2024-01-08T14:02:27.669Z"
   },
   {
    "duration": 167,
    "start_time": "2024-01-08T14:02:28.347Z"
   },
   {
    "duration": 187,
    "start_time": "2024-01-08T14:02:29.016Z"
   },
   {
    "duration": 171,
    "start_time": "2024-01-08T14:02:29.696Z"
   },
   {
    "duration": 355,
    "start_time": "2024-01-08T14:02:33.749Z"
   },
   {
    "duration": 8,
    "start_time": "2024-01-08T14:02:39.971Z"
   },
   {
    "duration": 157,
    "start_time": "2024-01-08T14:02:40.912Z"
   },
   {
    "duration": 95,
    "start_time": "2024-01-08T14:02:45.080Z"
   },
   {
    "duration": 3,
    "start_time": "2024-01-08T14:02:59.100Z"
   },
   {
    "duration": 290,
    "start_time": "2024-01-08T14:03:05.778Z"
   },
   {
    "duration": 233,
    "start_time": "2024-01-08T14:03:20.051Z"
   },
   {
    "duration": 301,
    "start_time": "2024-01-08T14:03:31.030Z"
   },
   {
    "duration": 355,
    "start_time": "2024-01-08T14:03:47.350Z"
   },
   {
    "duration": 199,
    "start_time": "2024-01-08T14:15:10.014Z"
   },
   {
    "duration": 170,
    "start_time": "2024-01-08T14:19:27.990Z"
   },
   {
    "duration": 547,
    "start_time": "2024-01-08T14:20:23.916Z"
   },
   {
    "duration": 257,
    "start_time": "2024-01-08T14:20:36.134Z"
   },
   {
    "duration": 222,
    "start_time": "2024-01-08T14:20:51.310Z"
   },
   {
    "duration": 287,
    "start_time": "2024-01-08T14:21:05.614Z"
   },
   {
    "duration": 234,
    "start_time": "2024-01-08T14:21:23.684Z"
   },
   {
    "duration": 235,
    "start_time": "2024-01-08T14:23:57.483Z"
   },
   {
    "duration": 263,
    "start_time": "2024-01-08T14:24:00.406Z"
   },
   {
    "duration": 325,
    "start_time": "2024-01-08T14:31:05.876Z"
   },
   {
    "duration": 227,
    "start_time": "2024-01-08T14:31:16.404Z"
   },
   {
    "duration": 351,
    "start_time": "2024-01-08T14:31:54.641Z"
   },
   {
    "duration": 252,
    "start_time": "2024-01-08T14:32:03.663Z"
   },
   {
    "duration": 30,
    "start_time": "2024-01-08T14:49:48.155Z"
   },
   {
    "duration": 19,
    "start_time": "2024-01-08T14:49:53.561Z"
   },
   {
    "duration": 12,
    "start_time": "2024-01-08T14:52:35.204Z"
   },
   {
    "duration": 17,
    "start_time": "2024-01-08T14:52:43.971Z"
   },
   {
    "duration": 17,
    "start_time": "2024-01-08T14:54:49.452Z"
   },
   {
    "duration": 18,
    "start_time": "2024-01-08T14:58:13.807Z"
   },
   {
    "duration": 19,
    "start_time": "2024-01-08T14:58:48.636Z"
   },
   {
    "duration": 18,
    "start_time": "2024-01-08T15:05:04.347Z"
   },
   {
    "duration": 18,
    "start_time": "2024-01-08T15:05:38.203Z"
   },
   {
    "duration": 79,
    "start_time": "2024-01-08T15:05:52.194Z"
   },
   {
    "duration": 16,
    "start_time": "2024-01-08T15:06:08.132Z"
   },
   {
    "duration": 79,
    "start_time": "2024-01-08T15:06:25.075Z"
   },
   {
    "duration": 17,
    "start_time": "2024-01-08T15:07:01.082Z"
   },
   {
    "duration": 17,
    "start_time": "2024-01-08T15:07:11.656Z"
   },
   {
    "duration": 18,
    "start_time": "2024-01-08T15:07:18.310Z"
   },
   {
    "duration": 19,
    "start_time": "2024-01-08T15:09:03.127Z"
   },
   {
    "duration": 17,
    "start_time": "2024-01-08T15:09:12.034Z"
   },
   {
    "duration": 18,
    "start_time": "2024-01-08T15:09:14.868Z"
   },
   {
    "duration": 76,
    "start_time": "2024-01-08T15:14:18.653Z"
   },
   {
    "duration": 39,
    "start_time": "2024-01-08T15:14:28.119Z"
   },
   {
    "duration": 33,
    "start_time": "2024-01-08T15:14:35.553Z"
   },
   {
    "duration": 22,
    "start_time": "2024-01-08T15:14:40.256Z"
   },
   {
    "duration": 13,
    "start_time": "2024-01-08T15:23:26.178Z"
   },
   {
    "duration": 961,
    "start_time": "2024-01-08T15:24:09.898Z"
   },
   {
    "duration": 1359,
    "start_time": "2024-01-08T15:25:05.309Z"
   },
   {
    "duration": 1359,
    "start_time": "2024-01-08T15:26:03.995Z"
   },
   {
    "duration": 4,
    "start_time": "2024-01-08T15:42:20.872Z"
   },
   {
    "duration": 6,
    "start_time": "2024-01-08T15:50:29.846Z"
   },
   {
    "duration": 4,
    "start_time": "2024-01-08T15:50:34.546Z"
   },
   {
    "duration": 4,
    "start_time": "2024-01-08T15:55:32.374Z"
   },
   {
    "duration": 13,
    "start_time": "2024-01-08T15:55:56.128Z"
   },
   {
    "duration": 4,
    "start_time": "2024-01-08T15:57:13.809Z"
   },
   {
    "duration": 4,
    "start_time": "2024-01-08T16:01:45.418Z"
   },
   {
    "duration": 5,
    "start_time": "2024-01-08T16:02:07.042Z"
   },
   {
    "duration": 1468,
    "start_time": "2024-01-08T16:02:10.113Z"
   },
   {
    "duration": 4,
    "start_time": "2024-01-08T16:02:12.608Z"
   },
   {
    "duration": 7,
    "start_time": "2024-01-08T16:15:55.566Z"
   },
   {
    "duration": 4,
    "start_time": "2024-01-08T16:16:09.420Z"
   },
   {
    "duration": 5,
    "start_time": "2024-01-08T16:17:47.225Z"
   },
   {
    "duration": 5,
    "start_time": "2024-01-08T16:23:17.704Z"
   },
   {
    "duration": 1340,
    "start_time": "2024-01-08T16:23:48.574Z"
   },
   {
    "duration": 4,
    "start_time": "2024-01-08T16:25:00.972Z"
   },
   {
    "duration": 5,
    "start_time": "2024-01-08T16:25:28.692Z"
   },
   {
    "duration": 80,
    "start_time": "2024-01-08T16:25:56.336Z"
   },
   {
    "duration": 10,
    "start_time": "2024-01-08T16:26:02.564Z"
   },
   {
    "duration": 6,
    "start_time": "2024-01-08T16:26:06.321Z"
   },
   {
    "duration": 4,
    "start_time": "2024-01-08T16:32:04.639Z"
   },
   {
    "duration": 7,
    "start_time": "2024-01-08T16:32:25.027Z"
   },
   {
    "duration": 4,
    "start_time": "2024-01-08T16:32:28.582Z"
   },
   {
    "duration": 5,
    "start_time": "2024-01-08T16:32:35.273Z"
   },
   {
    "duration": 4,
    "start_time": "2024-01-08T16:32:38.922Z"
   },
   {
    "duration": 1347,
    "start_time": "2024-01-08T16:32:41.970Z"
   },
   {
    "duration": 17,
    "start_time": "2024-01-08T16:32:47.475Z"
   },
   {
    "duration": 6,
    "start_time": "2024-01-08T16:32:56.903Z"
   },
   {
    "duration": 13,
    "start_time": "2024-01-08T16:33:42.937Z"
   },
   {
    "duration": 1251,
    "start_time": "2024-01-08T16:52:48.917Z"
   },
   {
    "duration": 1147,
    "start_time": "2024-01-08T16:53:03.130Z"
   },
   {
    "duration": 1145,
    "start_time": "2024-01-08T16:54:27.631Z"
   },
   {
    "duration": 1485,
    "start_time": "2024-01-08T17:04:21.143Z"
   },
   {
    "duration": 1290,
    "start_time": "2024-01-08T17:24:52.970Z"
   },
   {
    "duration": 1142,
    "start_time": "2024-01-08T17:37:38.277Z"
   },
   {
    "duration": 40,
    "start_time": "2024-01-08T17:39:35.119Z"
   },
   {
    "duration": 3,
    "start_time": "2024-01-08T17:39:50.528Z"
   },
   {
    "duration": 38,
    "start_time": "2024-01-08T17:39:51.395Z"
   },
   {
    "duration": 21,
    "start_time": "2024-01-08T17:40:17.551Z"
   },
   {
    "duration": 4,
    "start_time": "2024-01-08T17:40:18.057Z"
   },
   {
    "duration": 14,
    "start_time": "2024-01-08T17:40:19.171Z"
   },
   {
    "duration": 12,
    "start_time": "2024-01-08T17:40:20.790Z"
   },
   {
    "duration": 3,
    "start_time": "2024-01-08T17:40:21.114Z"
   },
   {
    "duration": 39,
    "start_time": "2024-01-08T17:40:21.747Z"
   },
   {
    "duration": 11,
    "start_time": "2024-01-08T17:40:22.453Z"
   },
   {
    "duration": 4,
    "start_time": "2024-01-08T17:40:23.107Z"
   },
   {
    "duration": 5,
    "start_time": "2024-01-08T17:40:23.895Z"
   },
   {
    "duration": 4,
    "start_time": "2024-01-08T17:40:24.294Z"
   },
   {
    "duration": 7,
    "start_time": "2024-01-08T17:40:24.676Z"
   },
   {
    "duration": 5,
    "start_time": "2024-01-08T17:40:24.933Z"
   },
   {
    "duration": 4,
    "start_time": "2024-01-08T17:40:25.147Z"
   },
   {
    "duration": 4,
    "start_time": "2024-01-08T17:40:25.399Z"
   },
   {
    "duration": 4,
    "start_time": "2024-01-08T17:40:25.625Z"
   },
   {
    "duration": 6,
    "start_time": "2024-01-08T17:40:25.927Z"
   },
   {
    "duration": 4,
    "start_time": "2024-01-08T17:40:26.279Z"
   },
   {
    "duration": 4,
    "start_time": "2024-01-08T17:40:26.547Z"
   },
   {
    "duration": 5,
    "start_time": "2024-01-08T17:40:27.146Z"
   },
   {
    "duration": 4,
    "start_time": "2024-01-08T17:40:56.160Z"
   },
   {
    "duration": 10,
    "start_time": "2024-01-08T17:40:57.346Z"
   },
   {
    "duration": 5,
    "start_time": "2024-01-08T17:40:57.912Z"
   },
   {
    "duration": 18,
    "start_time": "2024-01-08T17:41:02.499Z"
   },
   {
    "duration": 6,
    "start_time": "2024-01-08T17:41:03.790Z"
   },
   {
    "duration": 14,
    "start_time": "2024-01-08T17:41:04.178Z"
   },
   {
    "duration": 29,
    "start_time": "2024-01-08T17:41:43.606Z"
   },
   {
    "duration": 10,
    "start_time": "2024-01-08T17:41:45.374Z"
   },
   {
    "duration": 4,
    "start_time": "2024-01-08T17:41:46.732Z"
   },
   {
    "duration": 18,
    "start_time": "2024-01-08T17:41:48.951Z"
   },
   {
    "duration": 21,
    "start_time": "2024-01-08T17:41:49.898Z"
   },
   {
    "duration": 15,
    "start_time": "2024-01-08T17:41:50.365Z"
   },
   {
    "duration": 4,
    "start_time": "2024-01-08T17:41:52.048Z"
   },
   {
    "duration": 14,
    "start_time": "2024-01-08T17:41:54.745Z"
   },
   {
    "duration": 16,
    "start_time": "2024-01-08T17:41:55.860Z"
   },
   {
    "duration": 5,
    "start_time": "2024-01-08T17:41:57.206Z"
   },
   {
    "duration": 12,
    "start_time": "2024-01-08T17:41:58.106Z"
   },
   {
    "duration": 13,
    "start_time": "2024-01-08T17:41:58.977Z"
   },
   {
    "duration": 18,
    "start_time": "2024-01-08T17:41:59.293Z"
   },
   {
    "duration": 9,
    "start_time": "2024-01-08T17:42:01.929Z"
   },
   {
    "duration": 26,
    "start_time": "2024-01-08T17:42:02.609Z"
   },
   {
    "duration": 192,
    "start_time": "2024-01-08T17:42:03.684Z"
   },
   {
    "duration": 201,
    "start_time": "2024-01-08T17:42:04.696Z"
   },
   {
    "duration": 186,
    "start_time": "2024-01-08T17:42:05.650Z"
   },
   {
    "duration": 335,
    "start_time": "2024-01-08T17:42:08.271Z"
   },
   {
    "duration": 7,
    "start_time": "2024-01-08T17:44:15.802Z"
   },
   {
    "duration": 186,
    "start_time": "2024-01-08T17:44:16.595Z"
   },
   {
    "duration": 168,
    "start_time": "2024-01-08T17:45:01.388Z"
   },
   {
    "duration": 154,
    "start_time": "2024-01-08T17:45:38.140Z"
   },
   {
    "duration": 151,
    "start_time": "2024-01-08T17:46:35.180Z"
   },
   {
    "duration": 297,
    "start_time": "2024-01-08T17:47:06.734Z"
   },
   {
    "duration": 196,
    "start_time": "2024-01-08T17:47:18.602Z"
   },
   {
    "duration": 176,
    "start_time": "2024-01-08T17:48:52.541Z"
   },
   {
    "duration": 179,
    "start_time": "2024-01-08T17:50:31.201Z"
   },
   {
    "duration": 192,
    "start_time": "2024-01-08T17:50:54.903Z"
   },
   {
    "duration": 202,
    "start_time": "2024-01-08T17:51:13.884Z"
   },
   {
    "duration": 181,
    "start_time": "2024-01-08T17:51:39.145Z"
   },
   {
    "duration": 338,
    "start_time": "2024-01-08T17:52:09.449Z"
   },
   {
    "duration": 359,
    "start_time": "2024-01-08T17:52:16.398Z"
   },
   {
    "duration": 5,
    "start_time": "2024-01-08T17:52:31.402Z"
   },
   {
    "duration": 428,
    "start_time": "2024-01-08T17:52:37.532Z"
   },
   {
    "duration": 337,
    "start_time": "2024-01-08T17:52:43.483Z"
   },
   {
    "duration": 7,
    "start_time": "2024-01-08T17:53:18.679Z"
   },
   {
    "duration": 163,
    "start_time": "2024-01-08T17:53:19.393Z"
   },
   {
    "duration": 5,
    "start_time": "2024-01-08T17:53:21.012Z"
   },
   {
    "duration": 267,
    "start_time": "2024-01-08T17:53:21.659Z"
   },
   {
    "duration": 304,
    "start_time": "2024-01-08T17:53:23.418Z"
   },
   {
    "duration": 326,
    "start_time": "2024-01-08T17:54:12.418Z"
   },
   {
    "duration": 260,
    "start_time": "2024-01-08T17:54:13.871Z"
   },
   {
    "duration": 274,
    "start_time": "2024-01-08T17:54:15.233Z"
   },
   {
    "duration": 243,
    "start_time": "2024-01-08T17:54:16.283Z"
   },
   {
    "duration": 333,
    "start_time": "2024-01-08T17:54:17.107Z"
   },
   {
    "duration": 33,
    "start_time": "2024-01-08T17:54:19.403Z"
   },
   {
    "duration": 25,
    "start_time": "2024-01-08T17:54:20.116Z"
   },
   {
    "duration": 51,
    "start_time": "2024-01-08T17:54:56.061Z"
   },
   {
    "duration": 1325,
    "start_time": "2024-01-08T17:54:56.974Z"
   },
   {
    "duration": 1355,
    "start_time": "2024-01-08T17:55:34.507Z"
   },
   {
    "duration": 1353,
    "start_time": "2024-01-08T17:55:41.149Z"
   },
   {
    "duration": 1437,
    "start_time": "2024-01-08T17:56:07.593Z"
   },
   {
    "duration": 33,
    "start_time": "2024-01-08T17:59:27.807Z"
   },
   {
    "duration": 18,
    "start_time": "2024-01-08T17:59:28.719Z"
   },
   {
    "duration": 45,
    "start_time": "2024-01-08T17:59:33.812Z"
   },
   {
    "duration": 1316,
    "start_time": "2024-01-08T17:59:35.272Z"
   },
   {
    "duration": 1333,
    "start_time": "2024-01-08T17:59:58.859Z"
   },
   {
    "duration": 1350,
    "start_time": "2024-01-08T18:00:35.519Z"
   },
   {
    "duration": 1384,
    "start_time": "2024-01-08T18:00:44.290Z"
   },
   {
    "duration": 10,
    "start_time": "2024-01-08T18:02:41.869Z"
   },
   {
    "duration": 6,
    "start_time": "2024-01-08T18:02:42.401Z"
   },
   {
    "duration": 8,
    "start_time": "2024-01-08T18:02:43.460Z"
   },
   {
    "duration": 3,
    "start_time": "2024-01-08T18:03:08.270Z"
   },
   {
    "duration": 9,
    "start_time": "2024-01-08T18:03:16.741Z"
   },
   {
    "duration": 3,
    "start_time": "2024-01-08T18:03:24.084Z"
   },
   {
    "duration": 9,
    "start_time": "2024-01-08T18:03:29.829Z"
   },
   {
    "duration": 5,
    "start_time": "2024-01-08T18:03:30.353Z"
   },
   {
    "duration": 8,
    "start_time": "2024-01-08T18:03:30.877Z"
   },
   {
    "duration": 1078,
    "start_time": "2024-01-08T18:04:23.032Z"
   },
   {
    "duration": 40,
    "start_time": "2024-01-08T18:04:24.112Z"
   },
   {
    "duration": 23,
    "start_time": "2024-01-08T18:04:24.906Z"
   },
   {
    "duration": 4,
    "start_time": "2024-01-08T18:04:25.201Z"
   },
   {
    "duration": 11,
    "start_time": "2024-01-08T18:04:25.502Z"
   },
   {
    "duration": 13,
    "start_time": "2024-01-08T18:04:26.560Z"
   },
   {
    "duration": 4,
    "start_time": "2024-01-08T18:04:26.799Z"
   },
   {
    "duration": 37,
    "start_time": "2024-01-08T18:04:27.323Z"
   },
   {
    "duration": 11,
    "start_time": "2024-01-08T18:04:27.810Z"
   },
   {
    "duration": 4,
    "start_time": "2024-01-08T18:04:28.610Z"
   },
   {
    "duration": 5,
    "start_time": "2024-01-08T18:04:29.143Z"
   },
   {
    "duration": 5,
    "start_time": "2024-01-08T18:04:29.405Z"
   },
   {
    "duration": 4,
    "start_time": "2024-01-08T18:04:29.682Z"
   },
   {
    "duration": 5,
    "start_time": "2024-01-08T18:04:29.932Z"
   },
   {
    "duration": 4,
    "start_time": "2024-01-08T18:04:30.191Z"
   },
   {
    "duration": 4,
    "start_time": "2024-01-08T18:04:30.464Z"
   },
   {
    "duration": 5,
    "start_time": "2024-01-08T18:04:30.739Z"
   },
   {
    "duration": 5,
    "start_time": "2024-01-08T18:04:30.988Z"
   },
   {
    "duration": 4,
    "start_time": "2024-01-08T18:04:31.257Z"
   },
   {
    "duration": 4,
    "start_time": "2024-01-08T18:04:31.494Z"
   },
   {
    "duration": 4,
    "start_time": "2024-01-08T18:04:32.012Z"
   },
   {
    "duration": 4,
    "start_time": "2024-01-08T18:04:33.062Z"
   },
   {
    "duration": 10,
    "start_time": "2024-01-08T18:04:33.814Z"
   },
   {
    "duration": 4,
    "start_time": "2024-01-08T18:04:34.081Z"
   },
   {
    "duration": 18,
    "start_time": "2024-01-08T18:04:34.585Z"
   },
   {
    "duration": 6,
    "start_time": "2024-01-08T18:04:35.115Z"
   },
   {
    "duration": 14,
    "start_time": "2024-01-08T18:04:35.390Z"
   },
   {
    "duration": 26,
    "start_time": "2024-01-08T18:04:36.653Z"
   },
   {
    "duration": 9,
    "start_time": "2024-01-08T18:04:37.237Z"
   },
   {
    "duration": 4,
    "start_time": "2024-01-08T18:04:37.756Z"
   },
   {
    "duration": 13,
    "start_time": "2024-01-08T18:04:38.266Z"
   },
   {
    "duration": 19,
    "start_time": "2024-01-08T18:04:39.044Z"
   },
   {
    "duration": 11,
    "start_time": "2024-01-08T18:04:39.362Z"
   },
   {
    "duration": 4,
    "start_time": "2024-01-08T18:04:40.826Z"
   },
   {
    "duration": 14,
    "start_time": "2024-01-08T18:04:41.691Z"
   },
   {
    "duration": 11,
    "start_time": "2024-01-08T18:04:41.982Z"
   },
   {
    "duration": 5,
    "start_time": "2024-01-08T18:04:42.606Z"
   },
   {
    "duration": 11,
    "start_time": "2024-01-08T18:04:43.225Z"
   },
   {
    "duration": 12,
    "start_time": "2024-01-08T18:04:43.769Z"
   },
   {
    "duration": 19,
    "start_time": "2024-01-08T18:04:44.011Z"
   },
   {
    "duration": 8,
    "start_time": "2024-01-08T18:04:45.603Z"
   },
   {
    "duration": 31,
    "start_time": "2024-01-08T18:04:46.661Z"
   },
   {
    "duration": 177,
    "start_time": "2024-01-08T18:04:47.450Z"
   },
   {
    "duration": 187,
    "start_time": "2024-01-08T18:04:48.809Z"
   },
   {
    "duration": 189,
    "start_time": "2024-01-08T18:04:50.063Z"
   },
   {
    "duration": 325,
    "start_time": "2024-01-08T18:04:51.654Z"
   },
   {
    "duration": 7,
    "start_time": "2024-01-08T18:04:53.812Z"
   },
   {
    "duration": 186,
    "start_time": "2024-01-08T18:04:54.680Z"
   },
   {
    "duration": 5,
    "start_time": "2024-01-08T18:04:55.937Z"
   },
   {
    "duration": 281,
    "start_time": "2024-01-08T18:04:57.134Z"
   },
   {
    "duration": 289,
    "start_time": "2024-01-08T18:05:00.576Z"
   },
   {
    "duration": 274,
    "start_time": "2024-01-08T18:05:01.744Z"
   },
   {
    "duration": 318,
    "start_time": "2024-01-08T18:05:02.799Z"
   },
   {
    "duration": 239,
    "start_time": "2024-01-08T18:05:03.681Z"
   },
   {
    "duration": 271,
    "start_time": "2024-01-08T18:05:04.538Z"
   },
   {
    "duration": 38,
    "start_time": "2024-01-08T18:05:06.690Z"
   },
   {
    "duration": 34,
    "start_time": "2024-01-08T18:05:20.753Z"
   },
   {
    "duration": 19,
    "start_time": "2024-01-08T18:05:22.791Z"
   },
   {
    "duration": 47,
    "start_time": "2024-01-08T18:05:24.863Z"
   },
   {
    "duration": 1344,
    "start_time": "2024-01-08T18:05:26.111Z"
   },
   {
    "duration": 10,
    "start_time": "2024-01-08T18:05:36.092Z"
   },
   {
    "duration": 5,
    "start_time": "2024-01-08T18:05:36.494Z"
   },
   {
    "duration": 4,
    "start_time": "2024-01-08T18:05:41.034Z"
   },
   {
    "duration": 5,
    "start_time": "2024-01-08T18:05:41.974Z"
   },
   {
    "duration": 396,
    "start_time": "2024-01-08T18:05:43.745Z"
   },
   {
    "duration": 11,
    "start_time": "2024-01-08T18:05:46.953Z"
   },
   {
    "duration": 6,
    "start_time": "2024-01-08T18:05:48.735Z"
   },
   {
    "duration": 7,
    "start_time": "2024-01-08T18:05:49.126Z"
   },
   {
    "duration": 4,
    "start_time": "2024-01-08T18:05:49.762Z"
   },
   {
    "duration": 4,
    "start_time": "2024-01-08T18:05:50.399Z"
   },
   {
    "duration": 199,
    "start_time": "2024-01-08T18:05:51.495Z"
   },
   {
    "duration": 286,
    "start_time": "2024-01-08T18:06:50.640Z"
   },
   {
    "duration": 10,
    "start_time": "2024-01-08T18:06:53.263Z"
   },
   {
    "duration": 995,
    "start_time": "2024-01-08T18:06:58.735Z"
   },
   {
    "duration": 11,
    "start_time": "2024-01-08T18:07:09.922Z"
   },
   {
    "duration": 12,
    "start_time": "2024-01-08T18:08:24.127Z"
   },
   {
    "duration": 11,
    "start_time": "2024-01-08T18:08:25.072Z"
   },
   {
    "duration": 1125,
    "start_time": "2024-01-08T21:02:50.439Z"
   },
   {
    "duration": 152,
    "start_time": "2024-01-08T21:02:51.566Z"
   },
   {
    "duration": 16,
    "start_time": "2024-01-08T21:02:51.719Z"
   },
   {
    "duration": 4,
    "start_time": "2024-01-08T21:02:51.736Z"
   },
   {
    "duration": 14,
    "start_time": "2024-01-08T21:02:51.742Z"
   },
   {
    "duration": 13,
    "start_time": "2024-01-08T21:02:51.757Z"
   },
   {
    "duration": 4,
    "start_time": "2024-01-08T21:02:51.772Z"
   },
   {
    "duration": 65,
    "start_time": "2024-01-08T21:02:51.777Z"
   },
   {
    "duration": 12,
    "start_time": "2024-01-08T21:02:51.844Z"
   },
   {
    "duration": 4,
    "start_time": "2024-01-08T21:02:51.858Z"
   },
   {
    "duration": 4,
    "start_time": "2024-01-08T21:02:51.863Z"
   },
   {
    "duration": 10,
    "start_time": "2024-01-08T21:02:51.869Z"
   },
   {
    "duration": 9,
    "start_time": "2024-01-08T21:02:51.880Z"
   },
   {
    "duration": 27,
    "start_time": "2024-01-08T21:02:51.890Z"
   },
   {
    "duration": 6,
    "start_time": "2024-01-08T21:02:51.918Z"
   },
   {
    "duration": 12,
    "start_time": "2024-01-08T21:02:51.926Z"
   },
   {
    "duration": 22,
    "start_time": "2024-01-08T21:02:51.939Z"
   },
   {
    "duration": 16,
    "start_time": "2024-01-08T21:02:51.962Z"
   },
   {
    "duration": 9,
    "start_time": "2024-01-08T21:02:51.979Z"
   },
   {
    "duration": 8,
    "start_time": "2024-01-08T21:02:51.989Z"
   },
   {
    "duration": 17,
    "start_time": "2024-01-08T21:02:51.998Z"
   },
   {
    "duration": 6,
    "start_time": "2024-01-08T21:02:52.016Z"
   },
   {
    "duration": 19,
    "start_time": "2024-01-08T21:02:52.024Z"
   },
   {
    "duration": 9,
    "start_time": "2024-01-08T21:02:52.044Z"
   },
   {
    "duration": 18,
    "start_time": "2024-01-08T21:02:52.055Z"
   },
   {
    "duration": 7,
    "start_time": "2024-01-08T21:02:52.075Z"
   },
   {
    "duration": 32,
    "start_time": "2024-01-08T21:02:52.084Z"
   },
   {
    "duration": 36,
    "start_time": "2024-01-08T21:02:52.119Z"
   },
   {
    "duration": 7,
    "start_time": "2024-01-08T21:02:52.156Z"
   },
   {
    "duration": 10,
    "start_time": "2024-01-08T21:02:52.164Z"
   },
   {
    "duration": 14,
    "start_time": "2024-01-08T21:02:52.176Z"
   },
   {
    "duration": 43,
    "start_time": "2024-01-08T21:02:52.191Z"
   },
   {
    "duration": 12,
    "start_time": "2024-01-08T21:02:52.235Z"
   },
   {
    "duration": 4,
    "start_time": "2024-01-08T21:02:52.248Z"
   },
   {
    "duration": 21,
    "start_time": "2024-01-08T21:02:52.254Z"
   },
   {
    "duration": 15,
    "start_time": "2024-01-08T21:02:52.276Z"
   },
   {
    "duration": 6,
    "start_time": "2024-01-08T21:02:52.314Z"
   },
   {
    "duration": 21,
    "start_time": "2024-01-08T21:02:52.321Z"
   },
   {
    "duration": 21,
    "start_time": "2024-01-08T21:02:52.343Z"
   },
   {
    "duration": 28,
    "start_time": "2024-01-08T21:02:52.366Z"
   },
   {
    "duration": 7,
    "start_time": "2024-01-08T21:02:52.396Z"
   },
   {
    "duration": 31,
    "start_time": "2024-01-08T21:02:52.404Z"
   },
   {
    "duration": 209,
    "start_time": "2024-01-08T21:02:52.437Z"
   },
   {
    "duration": 211,
    "start_time": "2024-01-08T21:02:52.648Z"
   },
   {
    "duration": 191,
    "start_time": "2024-01-08T21:02:52.860Z"
   },
   {
    "duration": 332,
    "start_time": "2024-01-08T21:02:53.052Z"
   },
   {
    "duration": 7,
    "start_time": "2024-01-08T21:02:53.385Z"
   },
   {
    "duration": 174,
    "start_time": "2024-01-08T21:02:53.394Z"
   },
   {
    "duration": 3,
    "start_time": "2024-01-08T21:02:53.570Z"
   },
   {
    "duration": 292,
    "start_time": "2024-01-08T21:02:53.575Z"
   },
   {
    "duration": 305,
    "start_time": "2024-01-08T21:02:53.869Z"
   },
   {
    "duration": 352,
    "start_time": "2024-01-08T21:02:54.175Z"
   },
   {
    "duration": 244,
    "start_time": "2024-01-08T21:02:54.528Z"
   },
   {
    "duration": 305,
    "start_time": "2024-01-08T21:02:54.774Z"
   },
   {
    "duration": 281,
    "start_time": "2024-01-08T21:02:55.080Z"
   },
   {
    "duration": 34,
    "start_time": "2024-01-08T21:02:55.363Z"
   },
   {
    "duration": 32,
    "start_time": "2024-01-08T21:02:55.399Z"
   },
   {
    "duration": 49,
    "start_time": "2024-01-08T21:02:55.432Z"
   },
   {
    "duration": 1385,
    "start_time": "2024-01-08T21:02:55.482Z"
   },
   {
    "duration": 10,
    "start_time": "2024-01-08T21:02:56.869Z"
   },
   {
    "duration": 9,
    "start_time": "2024-01-08T21:02:56.880Z"
   },
   {
    "duration": 8,
    "start_time": "2024-01-08T21:02:56.890Z"
   },
   {
    "duration": 21,
    "start_time": "2024-01-08T21:02:56.899Z"
   },
   {
    "duration": 413,
    "start_time": "2024-01-08T21:02:56.922Z"
   },
   {
    "duration": 11,
    "start_time": "2024-01-08T21:02:57.336Z"
   },
   {
    "duration": 5,
    "start_time": "2024-01-08T21:02:57.349Z"
   },
   {
    "duration": 9,
    "start_time": "2024-01-08T21:02:57.355Z"
   },
   {
    "duration": 8,
    "start_time": "2024-01-08T21:02:57.365Z"
   },
   {
    "duration": 12,
    "start_time": "2024-01-08T21:02:57.375Z"
   },
   {
    "duration": 323,
    "start_time": "2024-01-08T21:02:57.389Z"
   },
   {
    "duration": 10,
    "start_time": "2024-01-08T21:02:57.714Z"
   },
   {
    "duration": 958,
    "start_time": "2024-01-08T21:02:57.726Z"
   },
   {
    "duration": 11,
    "start_time": "2024-01-08T21:02:58.686Z"
   },
   {
    "duration": 21,
    "start_time": "2024-01-08T21:02:58.699Z"
   },
   {
    "duration": 10,
    "start_time": "2024-01-08T21:02:58.722Z"
   },
   {
    "duration": 1340,
    "start_time": "2024-01-09T04:41:43.929Z"
   },
   {
    "duration": 154,
    "start_time": "2024-01-09T04:41:45.271Z"
   },
   {
    "duration": 16,
    "start_time": "2024-01-09T04:41:46.168Z"
   },
   {
    "duration": 4,
    "start_time": "2024-01-09T04:41:46.386Z"
   },
   {
    "duration": 14,
    "start_time": "2024-01-09T04:41:46.602Z"
   },
   {
    "duration": 14,
    "start_time": "2024-01-09T04:41:47.510Z"
   },
   {
    "duration": 4,
    "start_time": "2024-01-09T04:41:47.729Z"
   },
   {
    "duration": 37,
    "start_time": "2024-01-09T04:41:48.186Z"
   },
   {
    "duration": 11,
    "start_time": "2024-01-09T04:41:48.638Z"
   },
   {
    "duration": 4,
    "start_time": "2024-01-09T04:41:49.091Z"
   },
   {
    "duration": 5,
    "start_time": "2024-01-09T04:41:49.543Z"
   },
   {
    "duration": 4,
    "start_time": "2024-01-09T04:41:49.769Z"
   },
   {
    "duration": 4,
    "start_time": "2024-01-09T04:41:49.990Z"
   },
   {
    "duration": 4,
    "start_time": "2024-01-09T04:41:50.213Z"
   },
   {
    "duration": 4,
    "start_time": "2024-01-09T04:41:50.435Z"
   },
   {
    "duration": 4,
    "start_time": "2024-01-09T04:41:50.663Z"
   },
   {
    "duration": 4,
    "start_time": "2024-01-09T04:41:50.885Z"
   },
   {
    "duration": 4,
    "start_time": "2024-01-09T04:41:51.183Z"
   },
   {
    "duration": 4,
    "start_time": "2024-01-09T04:41:51.441Z"
   },
   {
    "duration": 5,
    "start_time": "2024-01-09T04:41:51.808Z"
   },
   {
    "duration": 5,
    "start_time": "2024-01-09T04:41:52.323Z"
   },
   {
    "duration": 4,
    "start_time": "2024-01-09T04:41:53.526Z"
   },
   {
    "duration": 10,
    "start_time": "2024-01-09T04:41:54.229Z"
   },
   {
    "duration": 5,
    "start_time": "2024-01-09T04:41:54.453Z"
   },
   {
    "duration": 20,
    "start_time": "2024-01-09T04:41:54.904Z"
   },
   {
    "duration": 6,
    "start_time": "2024-01-09T04:41:55.451Z"
   },
   {
    "duration": 14,
    "start_time": "2024-01-09T04:41:55.665Z"
   },
   {
    "duration": 27,
    "start_time": "2024-01-09T04:41:56.749Z"
   },
   {
    "duration": 7,
    "start_time": "2024-01-09T04:41:57.183Z"
   },
   {
    "duration": 5,
    "start_time": "2024-01-09T04:41:57.639Z"
   },
   {
    "duration": 16,
    "start_time": "2024-01-09T04:41:58.099Z"
   },
   {
    "duration": 19,
    "start_time": "2024-01-09T04:41:58.546Z"
   },
   {
    "duration": 11,
    "start_time": "2024-01-09T04:41:58.772Z"
   },
   {
    "duration": 4,
    "start_time": "2024-01-09T04:41:59.453Z"
   },
   {
    "duration": 14,
    "start_time": "2024-01-09T04:41:59.885Z"
   },
   {
    "duration": 11,
    "start_time": "2024-01-09T04:42:00.104Z"
   },
   {
    "duration": 5,
    "start_time": "2024-01-09T04:42:00.561Z"
   },
   {
    "duration": 12,
    "start_time": "2024-01-09T04:42:01.014Z"
   },
   {
    "duration": 13,
    "start_time": "2024-01-09T04:42:01.439Z"
   },
   {
    "duration": 19,
    "start_time": "2024-01-09T04:42:01.647Z"
   },
   {
    "duration": 10,
    "start_time": "2024-01-09T04:42:02.805Z"
   },
   {
    "duration": 29,
    "start_time": "2024-01-09T04:42:03.265Z"
   },
   {
    "duration": 192,
    "start_time": "2024-01-09T04:42:03.701Z"
   },
   {
    "duration": 215,
    "start_time": "2024-01-09T04:42:04.160Z"
   },
   {
    "duration": 193,
    "start_time": "2024-01-09T04:42:04.639Z"
   },
   {
    "duration": 320,
    "start_time": "2024-01-09T04:42:05.329Z"
   },
   {
    "duration": 7,
    "start_time": "2024-01-09T04:42:06.759Z"
   },
   {
    "duration": 164,
    "start_time": "2024-01-09T04:42:06.772Z"
   },
   {
    "duration": 4,
    "start_time": "2024-01-09T04:42:08.006Z"
   },
   {
    "duration": 337,
    "start_time": "2024-01-09T04:42:08.283Z"
   },
   {
    "duration": 299,
    "start_time": "2024-01-09T04:42:10.693Z"
   },
   {
    "duration": 275,
    "start_time": "2024-01-09T04:42:12.705Z"
   },
   {
    "duration": 292,
    "start_time": "2024-01-09T04:42:13.779Z"
   },
   {
    "duration": 274,
    "start_time": "2024-01-09T04:42:14.598Z"
   },
   {
    "duration": 271,
    "start_time": "2024-01-09T04:42:15.389Z"
   },
   {
    "duration": 35,
    "start_time": "2024-01-09T04:42:19.105Z"
   },
   {
    "duration": 30,
    "start_time": "2024-01-09T04:42:38.565Z"
   },
   {
    "duration": 18,
    "start_time": "2024-01-09T04:42:43.652Z"
   },
   {
    "duration": 110,
    "start_time": "2024-01-09T05:02:42.804Z"
   },
   {
    "duration": 17,
    "start_time": "2024-01-09T05:03:08.347Z"
   },
   {
    "duration": 142,
    "start_time": "2024-01-09T05:03:22.030Z"
   },
   {
    "duration": 88,
    "start_time": "2024-01-09T05:04:26.492Z"
   },
   {
    "duration": 7,
    "start_time": "2024-01-09T05:04:41.226Z"
   },
   {
    "duration": 86,
    "start_time": "2024-01-09T05:10:23.573Z"
   },
   {
    "duration": 77,
    "start_time": "2024-01-09T05:10:36.789Z"
   },
   {
    "duration": 18,
    "start_time": "2024-01-09T05:10:41.115Z"
   },
   {
    "duration": 1239,
    "start_time": "2024-01-09T05:11:35.348Z"
   },
   {
    "duration": 18,
    "start_time": "2024-01-09T05:11:58.902Z"
   },
   {
    "duration": 6,
    "start_time": "2024-01-09T05:12:17.367Z"
   },
   {
    "duration": 15,
    "start_time": "2024-01-09T05:12:39.966Z"
   },
   {
    "duration": 18,
    "start_time": "2024-01-09T05:12:58.330Z"
   },
   {
    "duration": 105,
    "start_time": "2024-01-09T05:32:33.312Z"
   },
   {
    "duration": 81,
    "start_time": "2024-01-09T05:32:47.532Z"
   },
   {
    "duration": 68,
    "start_time": "2024-01-09T05:33:17.322Z"
   },
   {
    "duration": 76,
    "start_time": "2024-01-09T05:34:27.189Z"
   },
   {
    "duration": 119,
    "start_time": "2024-01-09T05:34:42.104Z"
   },
   {
    "duration": 73,
    "start_time": "2024-01-09T05:35:12.023Z"
   },
   {
    "duration": 78,
    "start_time": "2024-01-09T05:35:19.473Z"
   },
   {
    "duration": 80,
    "start_time": "2024-01-09T05:35:31.630Z"
   },
   {
    "duration": 81,
    "start_time": "2024-01-09T05:35:36.881Z"
   },
   {
    "duration": 4,
    "start_time": "2024-01-09T05:35:44.964Z"
   },
   {
    "duration": 102,
    "start_time": "2024-01-09T05:35:56.085Z"
   },
   {
    "duration": 19,
    "start_time": "2024-01-09T05:38:42.522Z"
   },
   {
    "duration": 17,
    "start_time": "2024-01-09T05:38:59.108Z"
   },
   {
    "duration": 18,
    "start_time": "2024-01-09T05:39:03.918Z"
   },
   {
    "duration": 14,
    "start_time": "2024-01-09T05:39:21.015Z"
   },
   {
    "duration": 18,
    "start_time": "2024-01-09T05:45:13.127Z"
   },
   {
    "duration": 74,
    "start_time": "2024-01-09T05:45:25.376Z"
   },
   {
    "duration": 8,
    "start_time": "2024-01-09T05:45:33.133Z"
   },
   {
    "duration": 12,
    "start_time": "2024-01-09T05:50:28.461Z"
   },
   {
    "duration": 10,
    "start_time": "2024-01-09T05:50:42.404Z"
   },
   {
    "duration": 19,
    "start_time": "2024-01-09T05:50:53.376Z"
   },
   {
    "duration": 15,
    "start_time": "2024-01-09T05:51:08.669Z"
   },
   {
    "duration": 1125,
    "start_time": "2024-01-09T05:52:49.425Z"
   },
   {
    "duration": 41,
    "start_time": "2024-01-09T05:52:50.552Z"
   },
   {
    "duration": 16,
    "start_time": "2024-01-09T05:52:51.377Z"
   },
   {
    "duration": 3,
    "start_time": "2024-01-09T05:52:51.657Z"
   },
   {
    "duration": 12,
    "start_time": "2024-01-09T05:52:51.947Z"
   },
   {
    "duration": 14,
    "start_time": "2024-01-09T05:52:53.022Z"
   },
   {
    "duration": 4,
    "start_time": "2024-01-09T05:52:53.292Z"
   },
   {
    "duration": 37,
    "start_time": "2024-01-09T05:52:53.834Z"
   },
   {
    "duration": 12,
    "start_time": "2024-01-09T05:52:54.374Z"
   },
   {
    "duration": 4,
    "start_time": "2024-01-09T05:52:54.950Z"
   },
   {
    "duration": 4,
    "start_time": "2024-01-09T05:52:55.544Z"
   },
   {
    "duration": 4,
    "start_time": "2024-01-09T05:52:55.829Z"
   },
   {
    "duration": 4,
    "start_time": "2024-01-09T05:52:56.109Z"
   },
   {
    "duration": 5,
    "start_time": "2024-01-09T05:52:56.373Z"
   },
   {
    "duration": 4,
    "start_time": "2024-01-09T05:52:56.649Z"
   },
   {
    "duration": 4,
    "start_time": "2024-01-09T05:52:56.919Z"
   },
   {
    "duration": 3,
    "start_time": "2024-01-09T05:52:57.216Z"
   },
   {
    "duration": 4,
    "start_time": "2024-01-09T05:52:57.477Z"
   },
   {
    "duration": 4,
    "start_time": "2024-01-09T05:52:57.753Z"
   },
   {
    "duration": 6,
    "start_time": "2024-01-09T05:52:58.095Z"
   },
   {
    "duration": 5,
    "start_time": "2024-01-09T05:52:58.689Z"
   },
   {
    "duration": 5,
    "start_time": "2024-01-09T05:53:00.107Z"
   },
   {
    "duration": 9,
    "start_time": "2024-01-09T05:53:00.968Z"
   },
   {
    "duration": 4,
    "start_time": "2024-01-09T05:53:01.238Z"
   },
   {
    "duration": 19,
    "start_time": "2024-01-09T05:53:01.797Z"
   },
   {
    "duration": 6,
    "start_time": "2024-01-09T05:53:02.398Z"
   },
   {
    "duration": 13,
    "start_time": "2024-01-09T05:53:02.654Z"
   },
   {
    "duration": 27,
    "start_time": "2024-01-09T05:53:04.044Z"
   },
   {
    "duration": 7,
    "start_time": "2024-01-09T05:53:04.599Z"
   },
   {
    "duration": 4,
    "start_time": "2024-01-09T05:53:05.137Z"
   },
   {
    "duration": 17,
    "start_time": "2024-01-09T05:53:05.733Z"
   },
   {
    "duration": 19,
    "start_time": "2024-01-09T05:53:06.392Z"
   },
   {
    "duration": 11,
    "start_time": "2024-01-09T05:53:06.671Z"
   },
   {
    "duration": 4,
    "start_time": "2024-01-09T05:53:07.570Z"
   },
   {
    "duration": 15,
    "start_time": "2024-01-09T05:53:08.115Z"
   },
   {
    "duration": 12,
    "start_time": "2024-01-09T05:53:08.389Z"
   },
   {
    "duration": 6,
    "start_time": "2024-01-09T05:53:08.939Z"
   },
   {
    "duration": 13,
    "start_time": "2024-01-09T05:53:09.490Z"
   },
   {
    "duration": 13,
    "start_time": "2024-01-09T05:53:10.043Z"
   },
   {
    "duration": 19,
    "start_time": "2024-01-09T05:53:10.325Z"
   },
   {
    "duration": 10,
    "start_time": "2024-01-09T05:53:12.192Z"
   },
   {
    "duration": 25,
    "start_time": "2024-01-09T05:53:12.719Z"
   },
   {
    "duration": 180,
    "start_time": "2024-01-09T05:53:13.307Z"
   },
   {
    "duration": 201,
    "start_time": "2024-01-09T05:53:16.086Z"
   },
   {
    "duration": 185,
    "start_time": "2024-01-09T05:53:16.696Z"
   },
   {
    "duration": 332,
    "start_time": "2024-01-09T05:53:17.534Z"
   },
   {
    "duration": 7,
    "start_time": "2024-01-09T05:53:18.858Z"
   },
   {
    "duration": 171,
    "start_time": "2024-01-09T05:53:19.471Z"
   },
   {
    "duration": 3,
    "start_time": "2024-01-09T05:53:20.722Z"
   },
   {
    "duration": 259,
    "start_time": "2024-01-09T05:53:21.116Z"
   },
   {
    "duration": 295,
    "start_time": "2024-01-09T05:53:22.596Z"
   },
   {
    "duration": 243,
    "start_time": "2024-01-09T05:53:23.224Z"
   },
   {
    "duration": 338,
    "start_time": "2024-01-09T05:53:23.815Z"
   },
   {
    "duration": 283,
    "start_time": "2024-01-09T05:53:24.606Z"
   },
   {
    "duration": 273,
    "start_time": "2024-01-09T05:53:25.578Z"
   },
   {
    "duration": 31,
    "start_time": "2024-01-09T05:53:28.700Z"
   },
   {
    "duration": 15,
    "start_time": "2024-01-09T05:53:31.844Z"
   },
   {
    "duration": 13,
    "start_time": "2024-01-09T07:36:05.736Z"
   },
   {
    "duration": 3,
    "start_time": "2024-01-09T07:37:51.619Z"
   },
   {
    "duration": 8,
    "start_time": "2024-01-09T07:38:01.751Z"
   },
   {
    "duration": 10,
    "start_time": "2024-01-09T07:40:02.245Z"
   },
   {
    "duration": 4,
    "start_time": "2024-01-09T07:41:20.009Z"
   },
   {
    "duration": 10,
    "start_time": "2024-01-09T07:41:25.947Z"
   },
   {
    "duration": 103,
    "start_time": "2024-01-09T07:45:34.398Z"
   },
   {
    "duration": 14,
    "start_time": "2024-01-09T07:46:42.470Z"
   },
   {
    "duration": 10,
    "start_time": "2024-01-09T07:46:51.534Z"
   },
   {
    "duration": 6,
    "start_time": "2024-01-09T07:47:08.983Z"
   },
   {
    "duration": 54,
    "start_time": "2024-01-09T07:49:06.179Z"
   },
   {
    "duration": 12,
    "start_time": "2024-01-09T07:49:19.920Z"
   },
   {
    "duration": 18,
    "start_time": "2024-01-09T07:49:26.474Z"
   },
   {
    "duration": 314,
    "start_time": "2024-01-09T07:49:43.911Z"
   },
   {
    "duration": 14,
    "start_time": "2024-01-09T07:50:19.740Z"
   },
   {
    "duration": 458,
    "start_time": "2024-01-09T07:50:40.327Z"
   },
   {
    "duration": 20,
    "start_time": "2024-01-09T07:56:07.809Z"
   },
   {
    "duration": 2,
    "start_time": "2024-01-09T07:57:49.084Z"
   },
   {
    "duration": 10,
    "start_time": "2024-01-09T07:58:09.050Z"
   },
   {
    "duration": 1349,
    "start_time": "2024-01-09T07:59:11.418Z"
   },
   {
    "duration": 105,
    "start_time": "2024-01-09T08:02:17.411Z"
   },
   {
    "duration": 11,
    "start_time": "2024-01-09T08:02:38.351Z"
   },
   {
    "duration": 8,
    "start_time": "2024-01-09T08:03:05.139Z"
   },
   {
    "duration": 1609,
    "start_time": "2024-01-09T08:03:09.175Z"
   },
   {
    "duration": 1317,
    "start_time": "2024-01-09T08:05:19.031Z"
   },
   {
    "duration": 1516,
    "start_time": "2024-01-09T08:05:23.659Z"
   },
   {
    "duration": 9,
    "start_time": "2024-01-09T08:05:28.636Z"
   },
   {
    "duration": 10,
    "start_time": "2024-01-09T08:08:37.769Z"
   },
   {
    "duration": 9,
    "start_time": "2024-01-09T08:08:43.504Z"
   },
   {
    "duration": 14,
    "start_time": "2024-01-09T08:09:18.345Z"
   },
   {
    "duration": 11,
    "start_time": "2024-01-09T08:09:26.315Z"
   },
   {
    "duration": 83,
    "start_time": "2024-01-09T08:11:27.828Z"
   },
   {
    "duration": 7,
    "start_time": "2024-01-09T08:11:37.563Z"
   },
   {
    "duration": 10,
    "start_time": "2024-01-09T08:11:42.487Z"
   },
   {
    "duration": 8,
    "start_time": "2024-01-09T08:12:43.263Z"
   },
   {
    "duration": 11,
    "start_time": "2024-01-09T08:12:49.240Z"
   },
   {
    "duration": 9,
    "start_time": "2024-01-09T08:13:26.725Z"
   },
   {
    "duration": 11,
    "start_time": "2024-01-09T08:13:32.542Z"
   },
   {
    "duration": 15,
    "start_time": "2024-01-09T08:13:37.589Z"
   },
   {
    "duration": 10,
    "start_time": "2024-01-09T08:13:54.629Z"
   },
   {
    "duration": 10,
    "start_time": "2024-01-09T08:14:16.845Z"
   },
   {
    "duration": 10,
    "start_time": "2024-01-09T08:14:46.719Z"
   },
   {
    "duration": 10,
    "start_time": "2024-01-09T08:19:25.388Z"
   },
   {
    "duration": 11,
    "start_time": "2024-01-09T08:19:29.680Z"
   },
   {
    "duration": 10,
    "start_time": "2024-01-09T08:20:28.925Z"
   },
   {
    "duration": 11,
    "start_time": "2024-01-09T08:20:36.536Z"
   },
   {
    "duration": 457,
    "start_time": "2024-01-09T08:21:07.845Z"
   },
   {
    "duration": 10,
    "start_time": "2024-01-09T08:21:19.012Z"
   },
   {
    "duration": 10,
    "start_time": "2024-01-09T08:21:50.220Z"
   },
   {
    "duration": 356,
    "start_time": "2024-01-09T08:22:44.630Z"
   },
   {
    "duration": 11,
    "start_time": "2024-01-09T08:22:59.024Z"
   },
   {
    "duration": 7,
    "start_time": "2024-01-09T08:23:11.923Z"
   },
   {
    "duration": 6,
    "start_time": "2024-01-09T08:23:32.588Z"
   },
   {
    "duration": 28,
    "start_time": "2024-01-09T08:25:23.425Z"
   },
   {
    "duration": 2031,
    "start_time": "2024-01-09T08:25:32.097Z"
   },
   {
    "duration": 0,
    "start_time": "2024-01-09T08:25:34.129Z"
   },
   {
    "duration": 8,
    "start_time": "2024-01-09T08:25:55.167Z"
   },
   {
    "duration": 8,
    "start_time": "2024-01-09T08:26:09.977Z"
   },
   {
    "duration": 7,
    "start_time": "2024-01-09T08:28:33.747Z"
   },
   {
    "duration": 10,
    "start_time": "2024-01-09T08:29:25.679Z"
   },
   {
    "duration": 11,
    "start_time": "2024-01-09T08:30:17.611Z"
   },
   {
    "duration": 85,
    "start_time": "2024-01-09T08:31:57.841Z"
   },
   {
    "duration": 7,
    "start_time": "2024-01-09T08:32:11.352Z"
   },
   {
    "duration": 11,
    "start_time": "2024-01-09T08:32:12.584Z"
   },
   {
    "duration": 47,
    "start_time": "2024-01-09T08:40:22.924Z"
   },
   {
    "duration": 1423,
    "start_time": "2024-01-09T08:40:23.660Z"
   },
   {
    "duration": 10,
    "start_time": "2024-01-09T08:44:34.500Z"
   },
   {
    "duration": 6,
    "start_time": "2024-01-09T08:44:34.757Z"
   },
   {
    "duration": 5,
    "start_time": "2024-01-09T08:44:35.010Z"
   },
   {
    "duration": 5,
    "start_time": "2024-01-09T08:44:35.262Z"
   },
   {
    "duration": 439,
    "start_time": "2024-01-09T08:44:35.510Z"
   },
   {
    "duration": 12,
    "start_time": "2024-01-09T08:47:00.781Z"
   },
   {
    "duration": 5,
    "start_time": "2024-01-09T08:47:01.477Z"
   },
   {
    "duration": 8,
    "start_time": "2024-01-09T08:47:01.693Z"
   },
   {
    "duration": 5,
    "start_time": "2024-01-09T08:47:01.943Z"
   },
   {
    "duration": 5,
    "start_time": "2024-01-09T08:47:02.188Z"
   },
   {
    "duration": 315,
    "start_time": "2024-01-09T08:47:02.416Z"
   },
   {
    "duration": 12,
    "start_time": "2024-01-09T08:47:02.894Z"
   },
   {
    "duration": 1008,
    "start_time": "2024-01-09T08:47:05.096Z"
   },
   {
    "duration": 22,
    "start_time": "2024-01-09T08:47:06.106Z"
   },
   {
    "duration": 15,
    "start_time": "2024-01-09T08:47:06.642Z"
   },
   {
    "duration": 12,
    "start_time": "2024-01-09T08:47:07.469Z"
   },
   {
    "duration": 1154,
    "start_time": "2024-01-09T09:06:09.618Z"
   },
   {
    "duration": 42,
    "start_time": "2024-01-09T09:06:10.774Z"
   },
   {
    "duration": 16,
    "start_time": "2024-01-09T09:06:10.818Z"
   },
   {
    "duration": 10,
    "start_time": "2024-01-09T09:06:10.835Z"
   },
   {
    "duration": 30,
    "start_time": "2024-01-09T09:06:10.847Z"
   },
   {
    "duration": 16,
    "start_time": "2024-01-09T09:06:10.879Z"
   },
   {
    "duration": 22,
    "start_time": "2024-01-09T09:06:10.897Z"
   },
   {
    "duration": 62,
    "start_time": "2024-01-09T09:06:10.920Z"
   },
   {
    "duration": 12,
    "start_time": "2024-01-09T09:06:10.983Z"
   },
   {
    "duration": 16,
    "start_time": "2024-01-09T09:06:10.996Z"
   },
   {
    "duration": 10,
    "start_time": "2024-01-09T09:06:11.014Z"
   },
   {
    "duration": 25,
    "start_time": "2024-01-09T09:06:11.026Z"
   },
   {
    "duration": 48,
    "start_time": "2024-01-09T09:06:11.053Z"
   },
   {
    "duration": 20,
    "start_time": "2024-01-09T09:06:11.105Z"
   },
   {
    "duration": 6,
    "start_time": "2024-01-09T09:06:11.127Z"
   },
   {
    "duration": 29,
    "start_time": "2024-01-09T09:06:11.135Z"
   },
   {
    "duration": 19,
    "start_time": "2024-01-09T09:06:11.166Z"
   },
   {
    "duration": 17,
    "start_time": "2024-01-09T09:06:11.186Z"
   },
   {
    "duration": 36,
    "start_time": "2024-01-09T09:06:11.204Z"
   },
   {
    "duration": 35,
    "start_time": "2024-01-09T09:06:11.242Z"
   },
   {
    "duration": 24,
    "start_time": "2024-01-09T09:06:11.279Z"
   },
   {
    "duration": 17,
    "start_time": "2024-01-09T09:06:11.304Z"
   },
   {
    "duration": 14,
    "start_time": "2024-01-09T09:06:11.323Z"
   },
   {
    "duration": 3,
    "start_time": "2024-01-09T09:06:11.339Z"
   },
   {
    "duration": 20,
    "start_time": "2024-01-09T09:06:11.344Z"
   },
   {
    "duration": 6,
    "start_time": "2024-01-09T09:06:11.365Z"
   },
   {
    "duration": 28,
    "start_time": "2024-01-09T09:06:11.372Z"
   },
   {
    "duration": 31,
    "start_time": "2024-01-09T09:06:11.401Z"
   },
   {
    "duration": 6,
    "start_time": "2024-01-09T09:06:11.433Z"
   },
   {
    "duration": 8,
    "start_time": "2024-01-09T09:06:11.440Z"
   },
   {
    "duration": 13,
    "start_time": "2024-01-09T09:06:11.449Z"
   },
   {
    "duration": 19,
    "start_time": "2024-01-09T09:06:11.464Z"
   },
   {
    "duration": 37,
    "start_time": "2024-01-09T09:06:11.484Z"
   },
   {
    "duration": 4,
    "start_time": "2024-01-09T09:06:11.523Z"
   },
   {
    "duration": 21,
    "start_time": "2024-01-09T09:06:11.528Z"
   },
   {
    "duration": 12,
    "start_time": "2024-01-09T09:06:11.550Z"
   },
   {
    "duration": 5,
    "start_time": "2024-01-09T09:06:11.564Z"
   },
   {
    "duration": 19,
    "start_time": "2024-01-09T09:06:11.571Z"
   },
   {
    "duration": 30,
    "start_time": "2024-01-09T09:06:11.592Z"
   },
   {
    "duration": 19,
    "start_time": "2024-01-09T09:06:11.623Z"
   },
   {
    "duration": 10,
    "start_time": "2024-01-09T09:06:11.646Z"
   },
   {
    "duration": 26,
    "start_time": "2024-01-09T09:06:11.657Z"
   },
   {
    "duration": 216,
    "start_time": "2024-01-09T09:06:11.684Z"
   },
   {
    "duration": 202,
    "start_time": "2024-01-09T09:06:11.901Z"
   },
   {
    "duration": 189,
    "start_time": "2024-01-09T09:06:12.104Z"
   },
   {
    "duration": 336,
    "start_time": "2024-01-09T09:06:12.294Z"
   },
   {
    "duration": 7,
    "start_time": "2024-01-09T09:06:12.631Z"
   },
   {
    "duration": 171,
    "start_time": "2024-01-09T09:06:12.640Z"
   },
   {
    "duration": 4,
    "start_time": "2024-01-09T09:06:12.814Z"
   },
   {
    "duration": 284,
    "start_time": "2024-01-09T09:06:12.819Z"
   },
   {
    "duration": 291,
    "start_time": "2024-01-09T09:06:13.104Z"
   },
   {
    "duration": 281,
    "start_time": "2024-01-09T09:06:13.397Z"
   },
   {
    "duration": 336,
    "start_time": "2024-01-09T09:06:13.680Z"
   },
   {
    "duration": 261,
    "start_time": "2024-01-09T09:06:14.018Z"
   },
   {
    "duration": 280,
    "start_time": "2024-01-09T09:06:14.280Z"
   },
   {
    "duration": 30,
    "start_time": "2024-01-09T09:06:14.562Z"
   },
   {
    "duration": 22,
    "start_time": "2024-01-09T09:06:14.594Z"
   },
   {
    "duration": 39,
    "start_time": "2024-01-09T09:06:14.618Z"
   },
   {
    "duration": 68,
    "start_time": "2024-01-09T09:06:14.658Z"
   },
   {
    "duration": 1395,
    "start_time": "2024-01-09T09:06:14.728Z"
   },
   {
    "duration": 10,
    "start_time": "2024-01-09T09:06:16.124Z"
   },
   {
    "duration": 6,
    "start_time": "2024-01-09T09:06:16.136Z"
   },
   {
    "duration": 6,
    "start_time": "2024-01-09T09:06:16.143Z"
   },
   {
    "duration": 8,
    "start_time": "2024-01-09T09:06:16.150Z"
   },
   {
    "duration": 431,
    "start_time": "2024-01-09T09:06:16.159Z"
   },
   {
    "duration": 12,
    "start_time": "2024-01-09T09:06:16.592Z"
   },
   {
    "duration": 5,
    "start_time": "2024-01-09T09:06:16.615Z"
   },
   {
    "duration": 14,
    "start_time": "2024-01-09T09:06:16.622Z"
   },
   {
    "duration": 5,
    "start_time": "2024-01-09T09:06:16.638Z"
   },
   {
    "duration": 5,
    "start_time": "2024-01-09T09:06:16.645Z"
   },
   {
    "duration": 249,
    "start_time": "2024-01-09T09:06:16.652Z"
   },
   {
    "duration": 16,
    "start_time": "2024-01-09T09:06:16.902Z"
   },
   {
    "duration": 1069,
    "start_time": "2024-01-09T09:06:16.919Z"
   },
   {
    "duration": 11,
    "start_time": "2024-01-09T09:06:17.990Z"
   },
   {
    "duration": 20,
    "start_time": "2024-01-09T09:06:18.003Z"
   },
   {
    "duration": 9,
    "start_time": "2024-01-09T09:06:18.024Z"
   },
   {
    "duration": 3,
    "start_time": "2024-01-09T09:08:40.114Z"
   },
   {
    "duration": 8,
    "start_time": "2024-01-09T09:08:46.409Z"
   },
   {
    "duration": 10,
    "start_time": "2024-01-09T09:08:52.496Z"
   },
   {
    "duration": 8,
    "start_time": "2024-01-09T09:08:58.290Z"
   },
   {
    "duration": 101,
    "start_time": "2024-01-09T09:10:15.569Z"
   },
   {
    "duration": 110,
    "start_time": "2024-01-09T09:10:32.946Z"
   },
   {
    "duration": 95,
    "start_time": "2024-01-09T09:10:37.541Z"
   },
   {
    "duration": 8,
    "start_time": "2024-01-09T09:10:53.600Z"
   },
   {
    "duration": 92,
    "start_time": "2024-01-09T09:12:45.953Z"
   },
   {
    "duration": 9,
    "start_time": "2024-01-09T09:13:01.751Z"
   },
   {
    "duration": 8,
    "start_time": "2024-01-09T09:13:05.196Z"
   },
   {
    "duration": 6,
    "start_time": "2024-01-09T09:13:25.641Z"
   },
   {
    "duration": 131,
    "start_time": "2024-01-09T09:13:35.691Z"
   },
   {
    "duration": 11,
    "start_time": "2024-01-09T09:13:53.226Z"
   },
   {
    "duration": 6,
    "start_time": "2024-01-09T09:14:00.396Z"
   },
   {
    "duration": 10,
    "start_time": "2024-01-09T09:14:04.034Z"
   },
   {
    "duration": 13,
    "start_time": "2024-01-09T09:14:40.253Z"
   },
   {
    "duration": 10,
    "start_time": "2024-01-09T09:14:49.113Z"
   },
   {
    "duration": 10,
    "start_time": "2024-01-09T09:15:52.751Z"
   },
   {
    "duration": 1140,
    "start_time": "2024-01-09T09:16:17.907Z"
   },
   {
    "duration": 41,
    "start_time": "2024-01-09T09:16:19.049Z"
   },
   {
    "duration": 16,
    "start_time": "2024-01-09T09:16:19.092Z"
   },
   {
    "duration": 18,
    "start_time": "2024-01-09T09:16:19.110Z"
   },
   {
    "duration": 21,
    "start_time": "2024-01-09T09:16:19.129Z"
   },
   {
    "duration": 23,
    "start_time": "2024-01-09T09:16:19.151Z"
   },
   {
    "duration": 11,
    "start_time": "2024-01-09T09:16:19.175Z"
   },
   {
    "duration": 56,
    "start_time": "2024-01-09T09:16:19.187Z"
   },
   {
    "duration": 11,
    "start_time": "2024-01-09T09:16:19.244Z"
   },
   {
    "duration": 4,
    "start_time": "2024-01-09T09:16:19.257Z"
   },
   {
    "duration": 7,
    "start_time": "2024-01-09T09:16:19.262Z"
   },
   {
    "duration": 8,
    "start_time": "2024-01-09T09:16:19.271Z"
   },
   {
    "duration": 3,
    "start_time": "2024-01-09T09:16:19.281Z"
   },
   {
    "duration": 6,
    "start_time": "2024-01-09T09:16:19.286Z"
   },
   {
    "duration": 4,
    "start_time": "2024-01-09T09:16:19.293Z"
   },
   {
    "duration": 4,
    "start_time": "2024-01-09T09:16:19.315Z"
   },
   {
    "duration": 6,
    "start_time": "2024-01-09T09:16:19.320Z"
   },
   {
    "duration": 5,
    "start_time": "2024-01-09T09:16:19.327Z"
   },
   {
    "duration": 4,
    "start_time": "2024-01-09T09:16:19.334Z"
   },
   {
    "duration": 6,
    "start_time": "2024-01-09T09:16:19.339Z"
   },
   {
    "duration": 11,
    "start_time": "2024-01-09T09:16:19.347Z"
   },
   {
    "duration": 6,
    "start_time": "2024-01-09T09:16:19.359Z"
   },
   {
    "duration": 10,
    "start_time": "2024-01-09T09:16:19.367Z"
   },
   {
    "duration": 37,
    "start_time": "2024-01-09T09:16:19.379Z"
   },
   {
    "duration": 34,
    "start_time": "2024-01-09T09:16:19.417Z"
   },
   {
    "duration": 6,
    "start_time": "2024-01-09T09:16:19.452Z"
   },
   {
    "duration": 15,
    "start_time": "2024-01-09T09:16:19.460Z"
   },
   {
    "duration": 36,
    "start_time": "2024-01-09T09:16:19.479Z"
   },
   {
    "duration": 6,
    "start_time": "2024-01-09T09:16:19.517Z"
   },
   {
    "duration": 21,
    "start_time": "2024-01-09T09:16:19.524Z"
   },
   {
    "duration": 18,
    "start_time": "2024-01-09T09:16:19.546Z"
   },
   {
    "duration": 19,
    "start_time": "2024-01-09T09:16:19.566Z"
   },
   {
    "duration": 22,
    "start_time": "2024-01-09T09:16:19.587Z"
   },
   {
    "duration": 9,
    "start_time": "2024-01-09T09:16:19.611Z"
   },
   {
    "duration": 16,
    "start_time": "2024-01-09T09:16:19.621Z"
   },
   {
    "duration": 12,
    "start_time": "2024-01-09T09:16:19.638Z"
   },
   {
    "duration": 6,
    "start_time": "2024-01-09T09:16:19.651Z"
   },
   {
    "duration": 16,
    "start_time": "2024-01-09T09:16:19.659Z"
   },
   {
    "duration": 12,
    "start_time": "2024-01-09T09:16:19.676Z"
   },
   {
    "duration": 40,
    "start_time": "2024-01-09T09:16:19.689Z"
   },
   {
    "duration": 8,
    "start_time": "2024-01-09T09:16:19.730Z"
   },
   {
    "duration": 24,
    "start_time": "2024-01-09T09:16:19.739Z"
   },
   {
    "duration": 210,
    "start_time": "2024-01-09T09:16:19.764Z"
   },
   {
    "duration": 208,
    "start_time": "2024-01-09T09:16:19.975Z"
   },
   {
    "duration": 219,
    "start_time": "2024-01-09T09:16:20.185Z"
   },
   {
    "duration": 344,
    "start_time": "2024-01-09T09:16:20.406Z"
   },
   {
    "duration": 8,
    "start_time": "2024-01-09T09:16:20.752Z"
   },
   {
    "duration": 223,
    "start_time": "2024-01-09T09:16:20.761Z"
   },
   {
    "duration": 4,
    "start_time": "2024-01-09T09:16:20.986Z"
   },
   {
    "duration": 285,
    "start_time": "2024-01-09T09:16:20.991Z"
   },
   {
    "duration": 304,
    "start_time": "2024-01-09T09:16:21.277Z"
   },
   {
    "duration": 345,
    "start_time": "2024-01-09T09:16:21.582Z"
   },
   {
    "duration": 236,
    "start_time": "2024-01-09T09:16:21.929Z"
   },
   {
    "duration": 295,
    "start_time": "2024-01-09T09:16:22.167Z"
   },
   {
    "duration": 307,
    "start_time": "2024-01-09T09:16:22.463Z"
   },
   {
    "duration": 29,
    "start_time": "2024-01-09T09:16:22.771Z"
   },
   {
    "duration": 16,
    "start_time": "2024-01-09T09:16:22.802Z"
   },
   {
    "duration": 13,
    "start_time": "2024-01-09T09:16:22.820Z"
   },
   {
    "duration": 49,
    "start_time": "2024-01-09T09:16:22.834Z"
   },
   {
    "duration": 1399,
    "start_time": "2024-01-09T09:16:22.884Z"
   },
   {
    "duration": 9,
    "start_time": "2024-01-09T09:16:24.285Z"
   },
   {
    "duration": 7,
    "start_time": "2024-01-09T09:16:24.296Z"
   },
   {
    "duration": 4,
    "start_time": "2024-01-09T09:16:24.305Z"
   },
   {
    "duration": 6,
    "start_time": "2024-01-09T09:16:24.310Z"
   },
   {
    "duration": 406,
    "start_time": "2024-01-09T09:16:24.317Z"
   },
   {
    "duration": 13,
    "start_time": "2024-01-09T09:16:24.724Z"
   },
   {
    "duration": 16,
    "start_time": "2024-01-09T09:16:24.738Z"
   },
   {
    "duration": 7,
    "start_time": "2024-01-09T09:16:24.756Z"
   },
   {
    "duration": 13,
    "start_time": "2024-01-09T09:16:24.764Z"
   },
   {
    "duration": 22,
    "start_time": "2024-01-09T09:16:24.778Z"
   },
   {
    "duration": 341,
    "start_time": "2024-01-09T09:16:24.801Z"
   },
   {
    "duration": 11,
    "start_time": "2024-01-09T09:16:25.143Z"
   },
   {
    "duration": 1016,
    "start_time": "2024-01-09T09:16:25.156Z"
   },
   {
    "duration": 12,
    "start_time": "2024-01-09T09:16:26.173Z"
   },
   {
    "duration": 12,
    "start_time": "2024-01-09T09:16:26.186Z"
   },
   {
    "duration": 12,
    "start_time": "2024-01-09T09:16:26.214Z"
   },
   {
    "duration": 13,
    "start_time": "2024-01-09T09:17:23.849Z"
   },
   {
    "duration": 1125,
    "start_time": "2024-01-09T16:45:15.107Z"
   },
   {
    "duration": 39,
    "start_time": "2024-01-09T16:45:16.234Z"
   },
   {
    "duration": 15,
    "start_time": "2024-01-09T16:45:16.275Z"
   },
   {
    "duration": 16,
    "start_time": "2024-01-09T16:45:16.292Z"
   },
   {
    "duration": 20,
    "start_time": "2024-01-09T16:45:16.310Z"
   },
   {
    "duration": 28,
    "start_time": "2024-01-09T16:45:16.331Z"
   },
   {
    "duration": 20,
    "start_time": "2024-01-09T16:45:16.360Z"
   },
   {
    "duration": 74,
    "start_time": "2024-01-09T16:45:16.382Z"
   },
   {
    "duration": 12,
    "start_time": "2024-01-09T16:45:16.457Z"
   },
   {
    "duration": 27,
    "start_time": "2024-01-09T16:45:16.471Z"
   },
   {
    "duration": 31,
    "start_time": "2024-01-09T16:45:16.500Z"
   },
   {
    "duration": 42,
    "start_time": "2024-01-09T16:45:16.533Z"
   },
   {
    "duration": 18,
    "start_time": "2024-01-09T16:45:16.577Z"
   },
   {
    "duration": 23,
    "start_time": "2024-01-09T16:45:16.597Z"
   },
   {
    "duration": 14,
    "start_time": "2024-01-09T16:45:16.622Z"
   },
   {
    "duration": 10,
    "start_time": "2024-01-09T16:45:16.637Z"
   },
   {
    "duration": 14,
    "start_time": "2024-01-09T16:45:16.648Z"
   },
   {
    "duration": 22,
    "start_time": "2024-01-09T16:45:16.664Z"
   },
   {
    "duration": 17,
    "start_time": "2024-01-09T16:45:16.688Z"
   },
   {
    "duration": 9,
    "start_time": "2024-01-09T16:45:16.706Z"
   },
   {
    "duration": 12,
    "start_time": "2024-01-09T16:45:16.717Z"
   },
   {
    "duration": 8,
    "start_time": "2024-01-09T16:45:16.731Z"
   },
   {
    "duration": 23,
    "start_time": "2024-01-09T16:45:16.741Z"
   },
   {
    "duration": 7,
    "start_time": "2024-01-09T16:45:16.766Z"
   },
   {
    "duration": 21,
    "start_time": "2024-01-09T16:45:16.774Z"
   },
   {
    "duration": 6,
    "start_time": "2024-01-09T16:45:16.796Z"
   },
   {
    "duration": 14,
    "start_time": "2024-01-09T16:45:16.803Z"
   },
   {
    "duration": 28,
    "start_time": "2024-01-09T16:45:16.821Z"
   },
   {
    "duration": 6,
    "start_time": "2024-01-09T16:45:16.851Z"
   },
   {
    "duration": 8,
    "start_time": "2024-01-09T16:45:16.858Z"
   },
   {
    "duration": 16,
    "start_time": "2024-01-09T16:45:16.891Z"
   },
   {
    "duration": 19,
    "start_time": "2024-01-09T16:45:16.909Z"
   },
   {
    "duration": 12,
    "start_time": "2024-01-09T16:45:16.930Z"
   },
   {
    "duration": 5,
    "start_time": "2024-01-09T16:45:16.943Z"
   },
   {
    "duration": 48,
    "start_time": "2024-01-09T16:45:16.949Z"
   },
   {
    "duration": 12,
    "start_time": "2024-01-09T16:45:16.999Z"
   },
   {
    "duration": 25,
    "start_time": "2024-01-09T16:45:17.013Z"
   },
   {
    "duration": 21,
    "start_time": "2024-01-09T16:45:17.040Z"
   },
   {
    "duration": 19,
    "start_time": "2024-01-09T16:45:17.063Z"
   },
   {
    "duration": 24,
    "start_time": "2024-01-09T16:45:17.084Z"
   },
   {
    "duration": 9,
    "start_time": "2024-01-09T16:45:17.110Z"
   },
   {
    "duration": 25,
    "start_time": "2024-01-09T16:45:17.121Z"
   },
   {
    "duration": 206,
    "start_time": "2024-01-09T16:45:17.147Z"
   },
   {
    "duration": 205,
    "start_time": "2024-01-09T16:45:17.355Z"
   },
   {
    "duration": 193,
    "start_time": "2024-01-09T16:45:17.561Z"
   },
   {
    "duration": 360,
    "start_time": "2024-01-09T16:45:17.755Z"
   },
   {
    "duration": 8,
    "start_time": "2024-01-09T16:45:18.117Z"
   },
   {
    "duration": 193,
    "start_time": "2024-01-09T16:45:18.126Z"
   },
   {
    "duration": 4,
    "start_time": "2024-01-09T16:45:18.321Z"
   },
   {
    "duration": 266,
    "start_time": "2024-01-09T16:45:18.326Z"
   },
   {
    "duration": 278,
    "start_time": "2024-01-09T16:45:18.594Z"
   },
   {
    "duration": 384,
    "start_time": "2024-01-09T16:45:18.874Z"
   },
   {
    "duration": 268,
    "start_time": "2024-01-09T16:45:19.260Z"
   },
   {
    "duration": 242,
    "start_time": "2024-01-09T16:45:19.530Z"
   },
   {
    "duration": 282,
    "start_time": "2024-01-09T16:45:19.774Z"
   },
   {
    "duration": 40,
    "start_time": "2024-01-09T16:45:20.057Z"
   },
   {
    "duration": 6,
    "start_time": "2024-01-09T16:45:20.099Z"
   },
   {
    "duration": 18,
    "start_time": "2024-01-09T16:45:20.107Z"
   },
   {
    "duration": 78,
    "start_time": "2024-01-09T16:45:20.127Z"
   },
   {
    "duration": 1302,
    "start_time": "2024-01-09T16:45:20.206Z"
   },
   {
    "duration": 13,
    "start_time": "2024-01-09T16:45:21.510Z"
   },
   {
    "duration": 7,
    "start_time": "2024-01-09T16:45:21.525Z"
   },
   {
    "duration": 6,
    "start_time": "2024-01-09T16:45:21.534Z"
   },
   {
    "duration": 7,
    "start_time": "2024-01-09T16:45:21.541Z"
   },
   {
    "duration": 438,
    "start_time": "2024-01-09T16:45:21.550Z"
   },
   {
    "duration": 12,
    "start_time": "2024-01-09T16:45:21.991Z"
   },
   {
    "duration": 9,
    "start_time": "2024-01-09T16:45:22.005Z"
   },
   {
    "duration": 10,
    "start_time": "2024-01-09T16:45:22.015Z"
   },
   {
    "duration": 7,
    "start_time": "2024-01-09T16:45:22.027Z"
   },
   {
    "duration": 10,
    "start_time": "2024-01-09T16:45:22.035Z"
   },
   {
    "duration": 330,
    "start_time": "2024-01-09T16:45:22.047Z"
   },
   {
    "duration": 17,
    "start_time": "2024-01-09T16:45:22.379Z"
   },
   {
    "duration": 962,
    "start_time": "2024-01-09T16:45:22.398Z"
   },
   {
    "duration": 12,
    "start_time": "2024-01-09T16:45:23.361Z"
   },
   {
    "duration": 24,
    "start_time": "2024-01-09T16:45:23.374Z"
   },
   {
    "duration": 22,
    "start_time": "2024-01-09T16:45:23.399Z"
   },
   {
    "duration": 1383,
    "start_time": "2024-01-09T16:57:42.319Z"
   },
   {
    "duration": 82,
    "start_time": "2024-01-09T16:57:43.704Z"
   },
   {
    "duration": 19,
    "start_time": "2024-01-09T16:57:43.876Z"
   },
   {
    "duration": 5,
    "start_time": "2024-01-09T16:57:44.088Z"
   },
   {
    "duration": 12,
    "start_time": "2024-01-09T16:57:44.300Z"
   },
   {
    "duration": 13,
    "start_time": "2024-01-09T16:57:45.198Z"
   },
   {
    "duration": 3,
    "start_time": "2024-01-09T16:57:45.404Z"
   },
   {
    "duration": 38,
    "start_time": "2024-01-09T16:57:45.828Z"
   },
   {
    "duration": 12,
    "start_time": "2024-01-09T16:57:46.272Z"
   },
   {
    "duration": 4,
    "start_time": "2024-01-09T16:57:46.714Z"
   },
   {
    "duration": 4,
    "start_time": "2024-01-09T16:57:47.130Z"
   },
   {
    "duration": 5,
    "start_time": "2024-01-09T16:57:47.365Z"
   },
   {
    "duration": 4,
    "start_time": "2024-01-09T16:57:47.564Z"
   },
   {
    "duration": 5,
    "start_time": "2024-01-09T16:57:47.761Z"
   },
   {
    "duration": 5,
    "start_time": "2024-01-09T16:57:47.980Z"
   },
   {
    "duration": 5,
    "start_time": "2024-01-09T16:57:48.170Z"
   },
   {
    "duration": 5,
    "start_time": "2024-01-09T16:57:48.382Z"
   },
   {
    "duration": 4,
    "start_time": "2024-01-09T16:57:48.574Z"
   },
   {
    "duration": 4,
    "start_time": "2024-01-09T16:57:48.773Z"
   },
   {
    "duration": 4,
    "start_time": "2024-01-09T16:57:48.962Z"
   },
   {
    "duration": 6,
    "start_time": "2024-01-09T16:57:49.354Z"
   },
   {
    "duration": 5,
    "start_time": "2024-01-09T16:57:50.365Z"
   },
   {
    "duration": 10,
    "start_time": "2024-01-09T16:57:50.930Z"
   },
   {
    "duration": 4,
    "start_time": "2024-01-09T16:57:54.675Z"
   },
   {
    "duration": 20,
    "start_time": "2024-01-09T16:57:55.104Z"
   },
   {
    "duration": 7,
    "start_time": "2024-01-09T16:57:55.522Z"
   },
   {
    "duration": 15,
    "start_time": "2024-01-09T16:57:55.754Z"
   },
   {
    "duration": 29,
    "start_time": "2024-01-09T16:57:56.753Z"
   },
   {
    "duration": 6,
    "start_time": "2024-01-09T16:57:57.159Z"
   },
   {
    "duration": 5,
    "start_time": "2024-01-09T16:57:57.592Z"
   },
   {
    "duration": 15,
    "start_time": "2024-01-09T16:57:58.029Z"
   },
   {
    "duration": 21,
    "start_time": "2024-01-09T16:57:58.622Z"
   },
   {
    "duration": 12,
    "start_time": "2024-01-09T16:57:58.850Z"
   },
   {
    "duration": 5,
    "start_time": "2024-01-09T16:57:59.449Z"
   },
   {
    "duration": 15,
    "start_time": "2024-01-09T16:57:59.866Z"
   },
   {
    "duration": 12,
    "start_time": "2024-01-09T16:58:00.061Z"
   },
   {
    "duration": 6,
    "start_time": "2024-01-09T16:58:00.449Z"
   },
   {
    "duration": 13,
    "start_time": "2024-01-09T16:58:00.857Z"
   },
   {
    "duration": 13,
    "start_time": "2024-01-09T16:58:01.244Z"
   },
   {
    "duration": 19,
    "start_time": "2024-01-09T16:58:01.464Z"
   },
   {
    "duration": 9,
    "start_time": "2024-01-09T16:58:02.494Z"
   },
   {
    "duration": 27,
    "start_time": "2024-01-09T16:58:02.884Z"
   },
   {
    "duration": 205,
    "start_time": "2024-01-09T16:58:03.341Z"
   },
   {
    "duration": 223,
    "start_time": "2024-01-09T16:58:03.767Z"
   },
   {
    "duration": 209,
    "start_time": "2024-01-09T16:58:04.177Z"
   },
   {
    "duration": 361,
    "start_time": "2024-01-09T16:58:04.955Z"
   },
   {
    "duration": 8,
    "start_time": "2024-01-09T16:58:05.948Z"
   },
   {
    "duration": 185,
    "start_time": "2024-01-09T16:58:06.446Z"
   },
   {
    "duration": 4,
    "start_time": "2024-01-09T16:58:07.618Z"
   },
   {
    "duration": 360,
    "start_time": "2024-01-09T16:58:07.846Z"
   },
   {
    "duration": 284,
    "start_time": "2024-01-09T16:58:09.081Z"
   },
   {
    "duration": 284,
    "start_time": "2024-01-09T16:58:09.567Z"
   },
   {
    "duration": 348,
    "start_time": "2024-01-09T16:58:10.055Z"
   },
   {
    "duration": 292,
    "start_time": "2024-01-09T16:58:10.535Z"
   },
   {
    "duration": 281,
    "start_time": "2024-01-09T16:58:11.031Z"
   },
   {
    "duration": 29,
    "start_time": "2024-01-09T16:58:12.459Z"
   },
   {
    "duration": 1492,
    "start_time": "2024-01-10T06:01:46.758Z"
   },
   {
    "duration": 150,
    "start_time": "2024-01-10T06:01:48.252Z"
   },
   {
    "duration": 17,
    "start_time": "2024-01-10T06:01:49.008Z"
   },
   {
    "duration": 4,
    "start_time": "2024-01-10T06:01:49.248Z"
   },
   {
    "duration": 13,
    "start_time": "2024-01-10T06:01:49.654Z"
   },
   {
    "duration": 13,
    "start_time": "2024-01-10T06:01:50.514Z"
   },
   {
    "duration": 5,
    "start_time": "2024-01-10T06:01:50.722Z"
   },
   {
    "duration": 42,
    "start_time": "2024-01-10T06:01:51.167Z"
   },
   {
    "duration": 32,
    "start_time": "2024-01-10T06:01:51.554Z"
   },
   {
    "duration": 5,
    "start_time": "2024-01-10T06:01:51.968Z"
   },
   {
    "duration": 5,
    "start_time": "2024-01-10T06:01:52.327Z"
   },
   {
    "duration": 5,
    "start_time": "2024-01-10T06:01:52.536Z"
   },
   {
    "duration": 5,
    "start_time": "2024-01-10T06:01:52.686Z"
   },
   {
    "duration": 5,
    "start_time": "2024-01-10T06:01:52.889Z"
   },
   {
    "duration": 4,
    "start_time": "2024-01-10T06:01:53.044Z"
   },
   {
    "duration": 5,
    "start_time": "2024-01-10T06:01:53.300Z"
   },
   {
    "duration": 5,
    "start_time": "2024-01-10T06:01:53.457Z"
   },
   {
    "duration": 4,
    "start_time": "2024-01-10T06:01:53.696Z"
   },
   {
    "duration": 4,
    "start_time": "2024-01-10T06:01:53.914Z"
   },
   {
    "duration": 5,
    "start_time": "2024-01-10T06:01:54.140Z"
   },
   {
    "duration": 5,
    "start_time": "2024-01-10T06:01:54.574Z"
   },
   {
    "duration": 4,
    "start_time": "2024-01-10T06:01:55.810Z"
   },
   {
    "duration": 12,
    "start_time": "2024-01-10T06:01:56.514Z"
   },
   {
    "duration": 5,
    "start_time": "2024-01-10T06:01:56.735Z"
   },
   {
    "duration": 22,
    "start_time": "2024-01-10T06:01:57.220Z"
   },
   {
    "duration": 9,
    "start_time": "2024-01-10T06:01:57.718Z"
   },
   {
    "duration": 22,
    "start_time": "2024-01-10T06:01:57.964Z"
   },
   {
    "duration": 29,
    "start_time": "2024-01-10T06:01:59.214Z"
   },
   {
    "duration": 7,
    "start_time": "2024-01-10T06:01:59.716Z"
   },
   {
    "duration": 5,
    "start_time": "2024-01-10T06:02:00.223Z"
   },
   {
    "duration": 15,
    "start_time": "2024-01-10T06:02:00.699Z"
   },
   {
    "duration": 25,
    "start_time": "2024-01-10T06:02:01.180Z"
   },
   {
    "duration": 14,
    "start_time": "2024-01-10T06:02:01.440Z"
   },
   {
    "duration": 5,
    "start_time": "2024-01-10T06:02:02.078Z"
   },
   {
    "duration": 17,
    "start_time": "2024-01-10T06:02:02.640Z"
   },
   {
    "duration": 13,
    "start_time": "2024-01-10T06:02:02.895Z"
   },
   {
    "duration": 7,
    "start_time": "2024-01-10T06:02:03.373Z"
   },
   {
    "duration": 13,
    "start_time": "2024-01-10T06:02:03.848Z"
   },
   {
    "duration": 13,
    "start_time": "2024-01-10T06:02:04.308Z"
   },
   {
    "duration": 21,
    "start_time": "2024-01-10T06:02:04.539Z"
   },
   {
    "duration": 10,
    "start_time": "2024-01-10T06:02:08.213Z"
   },
   {
    "duration": 111,
    "start_time": "2024-01-10T06:07:04.228Z"
   },
   {
    "duration": 128754,
    "start_time": "2024-01-10T06:07:09.547Z"
   }
  ],
  "kernelspec": {
   "display_name": "Python 3 (ipykernel)",
   "language": "python",
   "name": "python3"
  },
  "language_info": {
   "codemirror_mode": {
    "name": "ipython",
    "version": 3
   },
   "file_extension": ".py",
   "mimetype": "text/x-python",
   "name": "python",
   "nbconvert_exporter": "python",
   "pygments_lexer": "ipython3",
   "version": "3.9.5"
  },
  "toc": {
   "base_numbering": 1,
   "nav_menu": {},
   "number_sections": true,
   "sideBar": true,
   "skip_h1_title": true,
   "title_cell": "Table of Contents",
   "title_sidebar": "Contents",
   "toc_cell": false,
   "toc_position": {
    "height": "calc(100% - 180px)",
    "left": "10px",
    "top": "150px",
    "width": "449.446px"
   },
   "toc_section_display": true,
   "toc_window_display": true
  }
 },
 "nbformat": 4,
 "nbformat_minor": 2
}
